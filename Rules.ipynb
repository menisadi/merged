{
 "cells": [
  {
   "cell_type": "code",
   "execution_count": 2,
   "id": "884671c8-fbec-4809-8eed-c2076eaba747",
   "metadata": {
    "tags": []
   },
   "outputs": [],
   "source": [
    "import numpy as np\n",
    "import pandas as pd"
   ]
  },
  {
   "cell_type": "code",
   "execution_count": 58,
   "id": "946423e3-710b-4d5b-adef-3bd9b8565a8c",
   "metadata": {
    "tags": []
   },
   "outputs": [],
   "source": [
    "import seaborn as sns\n",
    "import matplotlib.pyplot as plt"
   ]
  },
  {
   "cell_type": "markdown",
   "id": "7373eaed-d3d2-42e1-8d82-c928a95a9652",
   "metadata": {},
   "source": [
    "1. A->constant UA = B-> constant UA\n",
    "2. A->changing(version) UA <= B-> changing(version)UA\n",
    "3. A and B were in the same IP/routers (we currently still work with ips so we need to make sure the ip didnt jump and we are actually looking at two different routers. this is important because we can see two cookies that are actually in different routers and not actually connected at all but think that they are)\n",
    "4. A stopped appearing in any ip before B started appearing for the first time"
   ]
  },
  {
   "cell_type": "code",
   "execution_count": 3,
   "id": "f3d4ef6c-45da-4f6a-ad85-9d86175d5e09",
   "metadata": {
    "tags": []
   },
   "outputs": [],
   "source": [
    "def compare_versions(version1, version2):\n",
    "    v1 = version1.split('.')\n",
    "    v2 = version2.split('.')\n",
    "    len1, len2 = len(v1), len(v2)\n",
    "    i = 0\n",
    "    \n",
    "    while i < len1 or i < len2:\n",
    "        if i >= len1:\n",
    "            if all(int(n)==0 for n in v2[i:]):\n",
    "                return 0  # version 1 is a prefix of version 2 but the sufix is 0\n",
    "            else:\n",
    "                return -1\n",
    "        if i >= len2:\n",
    "            if all(int(n)==0 for n in v1[i:]):\n",
    "                return 0   # version 2 is a prefix of version 1 but the sufix is 0\n",
    "            else:\n",
    "                return 1\n",
    "        \n",
    "        if int(v1[i]) < int(v2[i]):\n",
    "            return -1  # version 1 is less than version 2\n",
    "        elif int(v1[i]) > int(v2[i]):\n",
    "            return 1   # version 1 is greater than version 2\n",
    "        \n",
    "        i += 1\n",
    "    \n",
    "    return 0  # version 1 is equal to version 2"
   ]
  },
  {
   "cell_type": "code",
   "execution_count": 4,
   "id": "7f2921a8-6190-48d0-aa45-d9ad99405ba5",
   "metadata": {
    "tags": []
   },
   "outputs": [],
   "source": [
    "import unittest"
   ]
  },
  {
   "cell_type": "code",
   "execution_count": 5,
   "id": "734b321a-c53c-4986-a7cd-767e8c78bca1",
   "metadata": {
    "tags": []
   },
   "outputs": [],
   "source": [
    "class TestCompareVersions(unittest.TestCase):\n",
    "    def test_equal_versions(self):\n",
    "        self.assertEqual(compare_versions('1.2.3', '1.2.3'), 0)\n",
    "        self.assertEqual(compare_versions('0.0.0', '0.0.0'), 0)\n",
    "        self.assertEqual(compare_versions('10.20.30', '10.20.30'), 0)\n",
    "        \n",
    "    def test_lesser_versions(self):\n",
    "        self.assertEqual(compare_versions('1.2.3', '1.2.4'), -1)\n",
    "        self.assertEqual(compare_versions('1.2.3', '1.3.0'), -1)\n",
    "        self.assertEqual(compare_versions('1.2.3', '2.0.0'), -1)\n",
    "        self.assertEqual(compare_versions('1.2.3', '1.2.4.5'), -1)\n",
    "        \n",
    "    def test_greater_versions(self):\n",
    "        self.assertEqual(compare_versions('1.2.4', '1.2.3'), 1)\n",
    "        self.assertEqual(compare_versions('1.3.0', '1.2.3'), 1)\n",
    "        self.assertEqual(compare_versions('2.0.0', '1.2.3'), 1)\n",
    "        self.assertEqual(compare_versions('1.2.4.5', '1.2.3'), 1)\n",
    "        \n",
    "    def test_prefix_versions(self):\n",
    "        self.assertEqual(compare_versions('1.2', '1.2.0'), 0)\n",
    "        self.assertEqual(compare_versions('1.2.0', '1.2'), 0)\n",
    "        self.assertEqual(compare_versions('1.2', '1.2.3'), -1)\n",
    "        self.assertEqual(compare_versions('1.2.3', '1.2'), 1)\n"
   ]
  },
  {
   "cell_type": "code",
   "execution_count": 6,
   "id": "89762ad0-a570-4ae9-ba28-9e6fa50c96d9",
   "metadata": {
    "tags": []
   },
   "outputs": [
    {
     "name": "stderr",
     "output_type": "stream",
     "text": [
      "test_equal_versions (__main__.TestCompareVersions) ... ok\n",
      "test_greater_versions (__main__.TestCompareVersions) ... ok\n",
      "test_lesser_versions (__main__.TestCompareVersions) ... ok\n",
      "test_prefix_versions (__main__.TestCompareVersions) ... ok\n",
      "\n",
      "----------------------------------------------------------------------\n",
      "Ran 4 tests in 0.004s\n",
      "\n",
      "OK\n"
     ]
    },
    {
     "data": {
      "text/plain": [
       "<unittest.main.TestProgram at 0x126d6a230>"
      ]
     },
     "execution_count": 6,
     "metadata": {},
     "output_type": "execute_result"
    }
   ],
   "source": [
    "unittest.main(argv=[''], verbosity=2, exit=False)"
   ]
  },
  {
   "cell_type": "code",
   "execution_count": 47,
   "id": "4338cab9-0450-4256-88b1-a8fc0246e805",
   "metadata": {
    "tags": []
   },
   "outputs": [],
   "source": [
    "def constUA(row):\n",
    "    return row[['brand','model', 'os', 'browser', 'advertisedbrowser']]\n",
    "\n",
    "def constUAconsistent(row1, row2):\n",
    "    return constUA(row1).equals(constUA(row2))\n",
    "\n",
    "def changinUAconsistent(row1, row2):\n",
    "    os_consistent = compare_versions(row1['osversion'], row2['osversion']) < 0\n",
    "    browser_consistent = compare_versions(row1['browserversion'], row2['browserversion']) < 0\n",
    "    return os_consistent and browser_consistent\n",
    "                          \n",
    "def time_intersection(row1, row2):\n",
    "    row1['timestamp'] < row2['timestamp']"
   ]
  },
  {
   "cell_type": "code",
   "execution_count": 45,
   "id": "6a2a8c4c-59d2-4fa1-8115-11f4fa66cc26",
   "metadata": {
    "tags": []
   },
   "outputs": [],
   "source": [
    "def candidate_cookies(df, cookie1, cookie2):\n",
    "    df_cookie1 = df[df['iiqid'] == cookie1]\n",
    "    df_cookie2 = df[df['iiqid'] == cookie2]\n",
    "    first_ck1, last_ck1 = df_cookie1.iloc[df_cookie1['timestamp'].argmin()], df_cookie1.iloc[df_cookie1['timestamp'].argmax()]\n",
    "    first_ck2, last_ck2 = df_cookie2.iloc[df_cookie2['timestamp'].argmin()], df_cookie2.iloc[df_cookie2['timestamp'].argmax()]\n",
    "    if last_ck1['timestamp'] < first_ck2['timestamp']:\n",
    "        # print(f\"constUAconsistent: {constUAconsistent(last_ck1, first_ck2)}\")   \n",
    "        # print(f\"changinUAconsistent: {changinUAconsistent(last_ck1, first_ck2)}\")\n",
    "        return constUAconsistent(last_ck1, first_ck2) and   changinUAconsistent(last_ck1, first_ck2)\n",
    "    elif first_ck1['timestamp'] > last_ck2['timestamp']:\n",
    "        # print(f\"constUAconsistent: {constUAconsistent(first_ck1, last_ck2)}\")\n",
    "        # print(f\"changinUAconsistent: {changinUAconsistent(first_ck1, last_ck2)}\")\n",
    "        return constUAconsistent(first_ck1, last_ck2) and   changinUAconsistent(first_ck1, last_ck2)\n",
    "        \n",
    "    return False"
   ]
  },
  {
   "cell_type": "markdown",
   "id": "2c108d0c-30b6-443d-bb14-ebd962b85f45",
   "metadata": {
    "tags": []
   },
   "source": [
    "## Find Simple Cases"
   ]
  },
  {
   "cell_type": "code",
   "execution_count": 18,
   "id": "0e8bd47b-97a3-4caa-b55b-f2db171e867f",
   "metadata": {
    "tags": []
   },
   "outputs": [],
   "source": [
    "data = pd.read_csv(\"houses1000.csv\")"
   ]
  },
  {
   "cell_type": "code",
   "execution_count": 19,
   "id": "262b8f56-fcde-4403-b7fc-9cc6fc0cc267",
   "metadata": {
    "tags": []
   },
   "outputs": [],
   "source": [
    "needed_columns = ['timestamp', 'maid', 'hh_id','iiqid', 'partner_id', 'ip', 'iscellip',\n",
    "       'cellispid', 'domain','is_house_ip_or_source_ip', 'brand', 'model', 'os', 'osversion',\n",
    "       'browser', 'advertisedbrowser', 'browserversion', 'type', 'is_best_ip']\n",
    "unnecessary_columns = [c for c in data.columns if c not in needed_columns]"
   ]
  },
  {
   "cell_type": "code",
   "execution_count": 20,
   "id": "95b247a4-4753-49fc-8fd7-acf18964fde0",
   "metadata": {
    "tags": []
   },
   "outputs": [],
   "source": [
    "data.drop(unnecessary_columns, axis=1, inplace=True)"
   ]
  },
  {
   "cell_type": "code",
   "execution_count": 21,
   "id": "25958c9c-48e0-4381-93cd-e6ff67b1eec9",
   "metadata": {
    "tags": []
   },
   "outputs": [],
   "source": [
    "third_parties = data[(data['maid'] == 4) | (data['maid'] == 7)]"
   ]
  },
  {
   "cell_type": "code",
   "execution_count": 22,
   "id": "51081592-d1e8-4d78-a346-d3572f461d53",
   "metadata": {
    "tags": []
   },
   "outputs": [
    {
     "data": {
      "text/plain": [
       "990"
      ]
     },
     "execution_count": 22,
     "metadata": {},
     "output_type": "execute_result"
    }
   ],
   "source": [
    "third_parties['hh_id'].nunique()"
   ]
  },
  {
   "cell_type": "code",
   "execution_count": 23,
   "id": "8f6e4021-a70b-4a88-bb54-224912cd3f3a",
   "metadata": {
    "tags": []
   },
   "outputs": [
    {
     "name": "stderr",
     "output_type": "stream",
     "text": [
      "/var/folders/nw/8w_76z_n6fz418hmsps2_rq40000gn/T/ipykernel_54088/4172549046.py:1: SettingWithCopyWarning: \n",
      "A value is trying to be set on a copy of a slice from a DataFrame.\n",
      "Try using .loc[row_indexer,col_indexer] = value instead\n",
      "\n",
      "See the caveats in the documentation: https://pandas.pydata.org/pandas-docs/stable/user_guide/indexing.html#returning-a-view-versus-a-copy\n",
      "  third_parties['time'] = pd.to_datetime(third_parties['timestamp'], unit='ms')\n"
     ]
    }
   ],
   "source": [
    "third_parties['time'] = pd.to_datetime(third_parties['timestamp'], unit='ms')"
   ]
  },
  {
   "cell_type": "code",
   "execution_count": 24,
   "id": "06e8eb00-6772-42c8-bc89-9d724022ff67",
   "metadata": {
    "tags": []
   },
   "outputs": [],
   "source": [
    "third_parties = third_parties.dropna()"
   ]
  },
  {
   "cell_type": "markdown",
   "id": "7d951dec-fa36-4789-9362-d9b19e91afc7",
   "metadata": {},
   "source": [
    "### Find Those Examples"
   ]
  },
  {
   "cell_type": "code",
   "execution_count": 72,
   "id": "86a17fa1-ead1-4efa-bd0b-2adb4af58daa",
   "metadata": {
    "tags": []
   },
   "outputs": [
    {
     "name": "stdout",
     "output_type": "stream",
     "text": [
      "Found!\n"
     ]
    }
   ],
   "source": [
    "import itertools\n",
    "\n",
    "found = False\n",
    "while not found:\n",
    "    random_hh_id = np.random.choice(third_parties['hh_id'])\n",
    "    random_h = third_parties[third_parties['hh_id']==random_hh_id]\n",
    "    if random_h['iiqid'].nunique() > 3:\n",
    "        for pair in itertools.product(random_h['iiqid'].unique(), repeat=2):\n",
    "            # print(pair)\n",
    "            if candidate_cookies(random_h, pair[0], pair[1]):\n",
    "                print(\"Found!\")\n",
    "                found = True\n",
    "                break"
   ]
  },
  {
   "cell_type": "code",
   "execution_count": 73,
   "id": "2b67c9fe-4c78-4380-b5ac-47df5942c3e4",
   "metadata": {
    "tags": []
   },
   "outputs": [
    {
     "data": {
      "text/plain": [
       "('J8A1hoOUUz', 'PmU8aHnsaZ')"
      ]
     },
     "execution_count": 73,
     "metadata": {},
     "output_type": "execute_result"
    }
   ],
   "source": [
    "pair"
   ]
  },
  {
   "cell_type": "code",
   "execution_count": 78,
   "id": "61da147d-9ab0-4cb2-b65f-951b6ce5559c",
   "metadata": {
    "tags": []
   },
   "outputs": [
    {
     "data": {
      "text/plain": [
       "<Axes: xlabel='time', ylabel='browserversion'>"
      ]
     },
     "execution_count": 78,
     "metadata": {},
     "output_type": "execute_result"
    },
    {
     "data": {
      "image/png": "[encoded data removed]",
      "text/plain": [
       "<Figure size 1200x500 with 1 Axes>"
      ]
     },
     "metadata": {},
     "output_type": "display_data"
    }
   ],
   "source": [
    "plt.figure(figsize=(12,5))\n",
    "sns.lineplot(data=random_h[random_h['iiqid'].isin (pair)], x='time', y='browserversion', hue='iiqid')"
   ]
  },
  {
   "cell_type": "code",
   "execution_count": null,
   "id": "f6627bc0-6fe1-41d2-be66-b8b18eb9a000",
   "metadata": {},
   "outputs": [],
   "source": []
  }
 ],
 "metadata": {
  "kernelspec": {
   "display_name": "Python 3 (ipykernel)",
   "language": "python",
   "name": "python3"
  },
  "language_info": {
   "codemirror_mode": {
    "name": "ipython",
    "version": 3
   },
   "file_extension": ".py",
   "mimetype": "text/x-python",
   "name": "python",
   "nbconvert_exporter": "python",
   "pygments_lexer": "ipython3",
   "version": "3.10.10"
  },
  "toc-autonumbering": false
 },
 "nbformat": 4,
 "nbformat_minor": 5
}
