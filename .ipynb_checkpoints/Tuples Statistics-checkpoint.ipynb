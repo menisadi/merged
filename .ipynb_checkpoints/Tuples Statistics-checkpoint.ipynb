{
 "cells": [
  {
   "cell_type": "markdown",
   "id": "10f01bd1-9830-4a56-8deb-3e22192bbb83",
   "metadata": {},
   "source": [
    "# Tuples Statistics"
   ]
  },
  {
   "cell_type": "code",
   "execution_count": 1,
   "id": "9bc2b29a-b333-4408-8195-8452c3dbec58",
   "metadata": {
    "tags": []
   },
   "outputs": [],
   "source": [
    "import numpy as np\n",
    "import pandas as pd\n",
    "import seaborn as sns\n",
    "import matplotlib.pyplot as plt\n",
    "import itertools\n",
    "from hard_rules import candidate_cookies"
   ]
  },
  {
   "cell_type": "code",
   "execution_count": 18,
   "id": "66a4cd9b-81fd-4e61-b4ef-7d8a4a0cc7d4",
   "metadata": {
    "tags": []
   },
   "outputs": [],
   "source": [
    "# from tqdm.notebook import tqdm\n",
    "from tqdm import tqdm"
   ]
  },
  {
   "cell_type": "code",
   "execution_count": 97,
   "id": "5cec842c-e784-4309-af2e-849061213afe",
   "metadata": {
    "tags": []
   },
   "outputs": [],
   "source": [
    "sns.set(rc={'figure.figsize':(13,5)})"
   ]
  },
  {
   "cell_type": "code",
   "execution_count": 3,
   "id": "4fcddb58-e0df-4731-9532-2b56692dc6ad",
   "metadata": {
    "tags": []
   },
   "outputs": [],
   "source": [
    "data = pd.read_parquet(\"data.parquet\")"
   ]
  },
  {
   "cell_type": "code",
   "execution_count": 26,
   "id": "4bcae929-a559-4cb9-aff6-d09eea21b0ff",
   "metadata": {
    "tags": []
   },
   "outputs": [
    {
     "name": "stdout",
     "output_type": "stream",
     "text": [
      "found 0 4-tuples on HH 0009WUFKqK\n"
     ]
    }
   ],
   "source": [
    "tuple_size = 4\n",
    "\n",
    "all_cookie_tuples = []\n",
    "# while not found:\n",
    "random_hh_id = np.random.choice(data['hh_id'])\n",
    "random_h = data[data['hh_id']==random_hh_id]\n",
    "if random_h['iiqid'].nunique() > 1:\n",
    "    for cookie_tuple in itertools.combinations(random_h['iiqid'].unique(), r=tuple_size):\n",
    "        test_first_pair = candidate_cookies(random_h, cookie_tuple[0], cookie_tuple[1])\n",
    "        test_second_pair = candidate_cookies(random_h, cookie_tuple[1], cookie_tuple[2])\n",
    "        if test_first_pair and test_second_pair:\n",
    "            all_cookie_tuples.append(cookie_tuple)\n",
    "print(f\"found {len(all_cookie_tuples)} {tuple_size}-tuples on HH {random_hh_id}\")"
   ]
  },
  {
   "cell_type": "markdown",
   "id": "242dad6f-330a-47f3-92af-cb246bfa1f67",
   "metadata": {},
   "source": [
    "## First - pairs"
   ]
  },
  {
   "cell_type": "code",
   "execution_count": 33,
   "id": "2530d9f1-7163-43e8-8210-c3da74a06c04",
   "metadata": {
    "tags": []
   },
   "outputs": [
    {
     "name": "stderr",
     "output_type": "stream",
     "text": [
      "100%|█████████████████████████████████████████| 989/989 [00:44<00:00, 22.26it/s]\n"
     ]
    }
   ],
   "source": [
    "tuple_size = 2\n",
    "\n",
    "# i = 0\n",
    "all_cookie_tuples = dict()\n",
    "for hh in tqdm(data.hh_id.unique()):\n",
    "    all_cookie_tuples[hh] = []\n",
    "    house = data[data['hh_id']==hh]\n",
    "    if house['iiqid'].nunique() > 1:\n",
    "        for cookie_tuple in itertools.combinations(house['iiqid'].unique(), r=tuple_size):\n",
    "            test_pairs = [candidate_cookies(house, c1, c2) \n",
    "                          for c1, c2 in zip(cookie_tuple, cookie_tuple[1:])]\n",
    "            if all(test_pairs):\n",
    "                all_cookie_tuples[hh].append(cookie_tuple)   "
   ]
  },
  {
   "cell_type": "code",
   "execution_count": 63,
   "id": "d00a1fac-8360-4414-af69-4c4d60843bc0",
   "metadata": {
    "tags": []
   },
   "outputs": [
    {
     "data": {
      "text/plain": [
       "'006OpKMkK2'"
      ]
     },
     "execution_count": 63,
     "metadata": {},
     "output_type": "execute_result"
    }
   ],
   "source": [
    "def cookie_amount(v):\n",
    "    return len(all_cookie_tuples.get(v))\n",
    "               \n",
    "# [len(v) for v in all_cookie_tuples.values()])\n",
    "max(all_cookie_tuples, key=cookie_amount)"
   ]
  },
  {
   "cell_type": "code",
   "execution_count": 64,
   "id": "fa09ffd9-48ef-4706-8f8a-1aa484475de3",
   "metadata": {
    "tags": []
   },
   "outputs": [
    {
     "data": {
      "text/plain": [
       "592"
      ]
     },
     "execution_count": 64,
     "metadata": {},
     "output_type": "execute_result"
    }
   ],
   "source": [
    "k = '006OpKMkK2'\n",
    "len(data.loc[data['hh_id']==k, 'iiqid'])"
   ]
  },
  {
   "cell_type": "code",
   "execution_count": 92,
   "id": "74654640-feef-43a0-b696-693f9faf5f60",
   "metadata": {
    "tags": []
   },
   "outputs": [],
   "source": [
    "pairs_count = pd.Series({k: len(v) for k, v in all_cookie_tuples.items()}, \n",
    "             index=all_cookie_tuples.keys(), name='pairs')"
   ]
  },
  {
   "cell_type": "code",
   "execution_count": 99,
   "id": "3287c547-dc3e-4164-a841-e5757a56f937",
   "metadata": {
    "tags": []
   },
   "outputs": [],
   "source": [
    "pairs_data = pd.concat([pairs_count,data.groupby('hh_id').count().iiqid], axis=1)\n",
    "pairs_data.columns = ['pairs', 'cookies']"
   ]
  },
  {
   "cell_type": "code",
   "execution_count": 101,
   "id": "9e06286e-d113-4801-9401-33afb4d0d5c1",
   "metadata": {
    "tags": []
   },
   "outputs": [
    {
     "data": {
      "text/plain": [
       "<Axes: xlabel='cookies', ylabel='pairs'>"
      ]
     },
     "execution_count": 101,
     "metadata": {},
     "output_type": "execute_result"
    },
    {
     "data": {
      "image/png": "[encoded data removed]",
      "text/plain": [
       "<Figure size 1300x500 with 1 Axes>"
      ]
     },
     "metadata": {},
     "output_type": "display_data"
    }
   ],
   "source": [
    "sns.scatterplot(data=pairs_data, x='cookies', y='pairs')"
   ]
  },
  {
   "cell_type": "markdown",
   "id": "a4045c7f-f6a1-495f-bd82-3a8cf0ef6d94",
   "metadata": {},
   "source": [
    "## Now 3-tupes"
   ]
  },
  {
   "cell_type": "code",
   "execution_count": 102,
   "id": "cd4d2d58-12a4-440a-a555-b039ee9cc42c",
   "metadata": {
    "tags": []
   },
   "outputs": [
    {
     "name": "stderr",
     "output_type": "stream",
     "text": [
      "100%|█████████████████████████████████████████| 989/989 [08:32<00:00,  1.93it/s]\n"
     ]
    }
   ],
   "source": [
    "tuple_size = 3\n",
    "\n",
    "# i = 0\n",
    "all_cookie_tuples = dict()\n",
    "for hh in tqdm(data.hh_id.unique()):\n",
    "    all_cookie_tuples[hh] = []\n",
    "    house = data[data['hh_id']==hh]\n",
    "    if house['iiqid'].nunique() > 1:\n",
    "        for cookie_tuple in itertools.combinations(house['iiqid'].unique(), r=tuple_size):\n",
    "            test_pairs = [candidate_cookies(house, c1, c2) \n",
    "                          for c1, c2 in zip(cookie_tuple, cookie_tuple[1:])]\n",
    "            if all(test_pairs):\n",
    "                all_cookie_tuples[hh].append(cookie_tuple)   "
   ]
  },
  {
   "cell_type": "code",
   "execution_count": 105,
   "id": "80dfdf0a-5516-4be0-bef6-16e0680d4704",
   "metadata": {
    "tags": []
   },
   "outputs": [],
   "source": [
    "three_tuples_count = pd.Series({k: len(v) for k, v in all_cookie_tuples.items()}, \n",
    "             index=all_cookie_tuples.keys(), name='3-tupes')\n",
    "three_data = pd.concat([three_tuples_count,data.groupby('hh_id').count().iiqid], axis=1)\n",
    "three_data.columns = ['3-tupes', 'cookies']"
   ]
  },
  {
   "cell_type": "markdown",
   "id": "85b686d5-9992-4cca-b903-2f5edce08463",
   "metadata": {
    "tags": []
   },
   "source": [
    "## Wait Lets do 2 to 4 togheter"
   ]
  },
  {
   "cell_type": "code",
   "execution_count": null,
   "id": "a43bcb0b-3ea5-43b8-ad8b-c40dcf7c68e8",
   "metadata": {
    "tags": []
   },
   "outputs": [],
   "source": [
    "houses_cookies_tuples = dict()\n",
    "\n",
    "for hh in tqdm(data.hh_id.unique(), desc=\"Houses\"):\n",
    "    houses_cookies_tuples[hh] = dict()\n",
    "    house = data[data['hh_id']==hh]\n",
    "    \n",
    "    # for ts in tqdm(range(2,5), desc=\"Tuple Size\", position=1, leave=False):\n",
    "    for ts in range(2,5):\n",
    "        tuple_size = ts   \n",
    "        houses_cookies_tuples[hh][ts] = []\n",
    "\n",
    "        if house['iiqid'].nunique() > 1:\n",
    "            for cookie_tuple in itertools.combinations(house['iiqid'].unique(), r=tuple_size):\n",
    "                test_pairs = [candidate_cookies(house, c1, c2) \n",
    "                              for c1, c2 in zip(cookie_tuple, cookie_tuple[1:])]\n",
    "\n",
    "                if all(test_pairs):\n",
    "                    houses_cookies_tuples[hh][ts].append(cookie_tuple)   "
   ]
  },
  {
   "cell_type": "markdown",
   "id": "d273f7fc-5e5b-42d8-8784-c8d8852376ac",
   "metadata": {},
   "source": [
    "## Some EDA"
   ]
  },
  {
   "cell_type": "code",
   "execution_count": null,
   "id": "5c731b27-1f7d-4d0e-896f-8296088a8d94",
   "metadata": {},
   "outputs": [],
   "source": []
  }
 ],
 "metadata": {
  "kernelspec": {
   "display_name": "Python 3 (ipykernel)",
   "language": "python",
   "name": "python3"
  },
  "language_info": {
   "codemirror_mode": {
    "name": "ipython",
    "version": 3
   },
   "file_extension": ".py",
   "mimetype": "text/x-python",
   "name": "python",
   "nbconvert_exporter": "python",
   "pygments_lexer": "ipython3",
   "version": "3.10.10"
  }
 },
 "nbformat": 4,
 "nbformat_minor": 5
}
