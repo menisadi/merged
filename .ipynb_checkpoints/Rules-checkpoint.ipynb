{
 "cells": [
  {
   "cell_type": "code",
   "execution_count": 1,
   "id": "884671c8-fbec-4809-8eed-c2076eaba747",
   "metadata": {
    "tags": []
   },
   "outputs": [],
   "source": [
    "import numpy as np\n",
    "import pandas as pd"
   ]
  },
  {
   "cell_type": "code",
   "execution_count": 3,
   "id": "4c73409e-0c51-4ddf-9b24-5ff5933866cf",
   "metadata": {
    "tags": []
   },
   "outputs": [],
   "source": [
    "from distutils.version import StrictVersion"
   ]
  },
  {
   "cell_type": "markdown",
   "id": "7373eaed-d3d2-42e1-8d82-c928a95a9652",
   "metadata": {},
   "source": [
    "1. A->constant UA = B-> constant UA\n",
    "2. A->changing(version) UA <= B-> changing(version)UA\n",
    "3. A and B were in the same IP/routers (we currently still work with ips so we need to make sure the ip didnt jump and we are actually looking at two different routers. this is important because we can see two cookies that are actually in different routers and not actually connected at all but think that they are)\n",
    "4. A stopped appearing in any ip before B started appearing for the first time"
   ]
  },
  {
   "cell_type": "code",
   "execution_count": 36,
   "id": "f3d4ef6c-45da-4f6a-ad85-9d86175d5e09",
   "metadata": {
    "tags": []
   },
   "outputs": [],
   "source": [
    "def compare_versions(version1, version2):\n",
    "    v1 = version1.split('.')\n",
    "    v2 = version2.split('.')\n",
    "    len1, len2 = len(v1), len(v2)\n",
    "    i = 0\n",
    "    \n",
    "    while i < len1 or i < len2:\n",
    "        if i >= len1:\n",
    "            if all(int(n)==0 for n in v2[i:]):\n",
    "                return 0  # version 1 is a prefix of version 2 but the sufix is 0\n",
    "            else:\n",
    "                return -1\n",
    "        if i >= len2:\n",
    "            if all(int(n)==0 for n in v1[i:]):\n",
    "                return 0   # version 2 is a prefix of version 1 but the sufix is 0\n",
    "            else:\n",
    "                return 1\n",
    "        \n",
    "        if int(v1[i]) < int(v2[i]):\n",
    "            return -1  # version 1 is less than version 2\n",
    "        elif int(v1[i]) > int(v2[i]):\n",
    "            return 1   # version 1 is greater than version 2\n",
    "        \n",
    "        i += 1\n",
    "    \n",
    "    return 0  # version 1 is equal to version 2"
   ]
  },
  {
   "cell_type": "code",
   "execution_count": 37,
   "id": "7f2921a8-6190-48d0-aa45-d9ad99405ba5",
   "metadata": {
    "tags": []
   },
   "outputs": [],
   "source": [
    "import unittest"
   ]
  },
  {
   "cell_type": "code",
   "execution_count": 38,
   "id": "734b321a-c53c-4986-a7cd-767e8c78bca1",
   "metadata": {
    "tags": []
   },
   "outputs": [],
   "source": [
    "class TestCompareVersions(unittest.TestCase):\n",
    "    def test_equal_versions(self):\n",
    "        self.assertEqual(compare_versions('1.2.3', '1.2.3'), 0)\n",
    "        self.assertEqual(compare_versions('0.0.0', '0.0.0'), 0)\n",
    "        self.assertEqual(compare_versions('10.20.30', '10.20.30'), 0)\n",
    "        \n",
    "    def test_lesser_versions(self):\n",
    "        self.assertEqual(compare_versions('1.2.3', '1.2.4'), -1)\n",
    "        self.assertEqual(compare_versions('1.2.3', '1.3.0'), -1)\n",
    "        self.assertEqual(compare_versions('1.2.3', '2.0.0'), -1)\n",
    "        self.assertEqual(compare_versions('1.2.3', '1.2.4.5'), -1)\n",
    "        \n",
    "    def test_greater_versions(self):\n",
    "        self.assertEqual(compare_versions('1.2.4', '1.2.3'), 1)\n",
    "        self.assertEqual(compare_versions('1.3.0', '1.2.3'), 1)\n",
    "        self.assertEqual(compare_versions('2.0.0', '1.2.3'), 1)\n",
    "        self.assertEqual(compare_versions('1.2.4.5', '1.2.3'), 1)\n",
    "        \n",
    "    def test_prefix_versions(self):\n",
    "        self.assertEqual(compare_versions('1.2', '1.2.0'), 0)\n",
    "        self.assertEqual(compare_versions('1.2.0', '1.2'), 0)\n",
    "        self.assertEqual(compare_versions('1.2', '1.2.3'), -1)\n",
    "        self.assertEqual(compare_versions('1.2.3', '1.2'), 1)\n"
   ]
  },
  {
   "cell_type": "code",
   "execution_count": 39,
   "id": "89762ad0-a570-4ae9-ba28-9e6fa50c96d9",
   "metadata": {
    "tags": []
   },
   "outputs": [
    {
     "name": "stderr",
     "output_type": "stream",
     "text": [
      "test_equal_versions (__main__.TestCompareVersions) ... ok\n",
      "test_greater_versions (__main__.TestCompareVersions) ... ok\n",
      "test_lesser_versions (__main__.TestCompareVersions) ... ok\n",
      "test_prefix_versions (__main__.TestCompareVersions) ... ok\n",
      "\n",
      "----------------------------------------------------------------------\n",
      "Ran 4 tests in 0.006s\n",
      "\n",
      "OK\n"
     ]
    },
    {
     "data": {
      "text/plain": [
       "<unittest.main.TestProgram at 0x120c82a70>"
      ]
     },
     "execution_count": 39,
     "metadata": {},
     "output_type": "execute_result"
    }
   ],
   "source": [
    "unittest.main(argv=[''], verbosity=2, exit=False)"
   ]
  },
  {
   "cell_type": "code",
   "execution_count": 41,
   "id": "4338cab9-0450-4256-88b1-a8fc0246e805",
   "metadata": {
    "tags": []
   },
   "outputs": [],
   "source": [
    "def constUA(row):\n",
    "    return row[['brand','model', 'os', 'browser', 'advertisedbrowser']]\n",
    "\n",
    "def constUAconsistent(row1, row2):\n",
    "    return constUA(row1) == constUA(row2)\n",
    "\n",
    "def changinUAconsistent(row1, row2):\n",
    "    os_consistent = compare_versions(row1['osversion'], row2['osversion']) < 0\n",
    "    browser_consistent = compare_versions(row1['browserversion'], row2['browserversion']) < 0\n",
    "    return os_consistent and browser_consistent\n",
    "                          \n",
    "def time_intersection(row1, row2):\n",
    "    row1['timestamp'] < row2['timestamp']"
   ]
  },
  {
   "cell_type": "code",
   "execution_count": null,
   "id": "6a2a8c4c-59d2-4fa1-8115-11f4fa66cc26",
   "metadata": {},
   "outputs": [],
   "source": [
    "def candidate_cookies(df, cookie1, cookie2):\n",
    "    df_cookie1 = df[df['iiqid'] == cookie1]\n",
    "    df_cookie2 = df[df['iiqid'] == cookie2]\n",
    "    first_ck1, last_ck1 = df_cookie1[df_cookie1['timestamp'].min()], df_cookie1[df_cookie1['timestamp'].max()]\n",
    "    first_ck2, last_ck2 = df_cookie2[df_cookie2['timestamp'].min()], df_cookie2[df_cookie2['timestamp'].max()]\n",
    "    if df_cookie1['timestamp'].max() < df_cookie1['timestamp'].min():\n",
    "        "
   ]
  }
 ],
 "metadata": {
  "kernelspec": {
   "display_name": "Python 3 (ipykernel)",
   "language": "python",
   "name": "python3"
  },
  "language_info": {
   "codemirror_mode": {
    "name": "ipython",
    "version": 3
   },
   "file_extension": ".py",
   "mimetype": "text/x-python",
   "name": "python",
   "nbconvert_exporter": "python",
   "pygments_lexer": "ipython3",
   "version": "3.10.10"
  },
  "toc-autonumbering": false
 },
 "nbformat": 4,
 "nbformat_minor": 5
}
