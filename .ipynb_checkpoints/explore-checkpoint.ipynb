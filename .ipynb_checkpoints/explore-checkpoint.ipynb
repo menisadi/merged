{
 "cells": [
  {
   "cell_type": "code",
   "execution_count": 1,
   "id": "5ee4e786-e859-4034-aaf1-fa6b5b93476e",
   "metadata": {
    "tags": []
   },
   "outputs": [],
   "source": [
    "import numpy as np\n",
    "import pandas as pd\n",
    "import matplotlib.pyplot as plt\n",
    "import seaborn as sns"
   ]
  },
  {
   "cell_type": "code",
   "execution_count": 2,
   "id": "864fbc9a-6509-4d7e-8674-b543c862e5ad",
   "metadata": {
    "tags": []
   },
   "outputs": [],
   "source": [
    "data = pd.read_csv(\"houses1000.csv\")"
   ]
  },
  {
   "cell_type": "code",
   "execution_count": 3,
   "id": "3797a153-705c-47e9-9424-df20307521ac",
   "metadata": {
    "tags": []
   },
   "outputs": [],
   "source": [
    "# data.to_parquet(\"houses1000.parquet\")"
   ]
  },
  {
   "cell_type": "code",
   "execution_count": 4,
   "id": "ea95c4a8-7d24-42f9-b044-ab9fb3a42557",
   "metadata": {
    "tags": []
   },
   "outputs": [],
   "source": [
    "needed_columns = ['timestamp', 'maid', 'hh_id','iiqid', 'partner_id', 'ip', 'iscellip',\n",
    "       'cellispid', 'domain','is_house_ip_or_source_ip', 'brand', 'model', 'os', 'osversion',\n",
    "       'browser', 'advertisedbrowser', 'browserversion', 'type', 'is_best_ip']\n",
    "unnecessary_columns = [c for c in data.columns if c not in needed_columns]"
   ]
  },
  {
   "cell_type": "code",
   "execution_count": 5,
   "id": "4a546387-6954-481b-8f49-8874cb895533",
   "metadata": {
    "tags": []
   },
   "outputs": [
    {
     "data": {
      "text/plain": [
       "['filename',\n",
       " 'profile_house',\n",
       " 'first_cookie',\n",
       " 'a',\n",
       " 'b',\n",
       " 'c',\n",
       " 'uahash',\n",
       " 'gpslat',\n",
       " 'gpslon',\n",
       " 'd',\n",
       " 'e',\n",
       " 'f',\n",
       " 'h',\n",
       " 'i',\n",
       " 'j',\n",
       " 'k',\n",
       " 'l',\n",
       " 'm',\n",
       " 'n',\n",
       " 'is_unreachable_first_cookie',\n",
       " 'is_original_ip',\n",
       " 'real_maid',\n",
       " 'battery_level',\n",
       " 'height',\n",
       " 'width',\n",
       " 'free_disk_space',\n",
       " 'total_disk_space',\n",
       " 'hardware',\n",
       " 'publisher',\n",
       " 'flavor']"
      ]
     },
     "execution_count": 5,
     "metadata": {},
     "output_type": "execute_result"
    }
   ],
   "source": [
    "unnecessary_columns"
   ]
  },
  {
   "cell_type": "code",
   "execution_count": 6,
   "id": "a1307779-b9bf-418e-afe7-110505427dce",
   "metadata": {
    "tags": []
   },
   "outputs": [],
   "source": [
    "data.drop(unnecessary_columns, axis=1, inplace=True)"
   ]
  },
  {
   "cell_type": "code",
   "execution_count": 7,
   "id": "c48bc556-cd36-4a85-a099-3e57e2c8ecad",
   "metadata": {
    "tags": []
   },
   "outputs": [
    {
     "data": {
      "text/html": [
       "<div>\n",
       "<style scoped>\n",
       "    .dataframe tbody tr th:only-of-type {\n",
       "        vertical-align: middle;\n",
       "    }\n",
       "\n",
       "    .dataframe tbody tr th {\n",
       "        vertical-align: top;\n",
       "    }\n",
       "\n",
       "    .dataframe thead th {\n",
       "        text-align: right;\n",
       "    }\n",
       "</style>\n",
       "<table border=\"1\" class=\"dataframe\">\n",
       "  <thead>\n",
       "    <tr style=\"text-align: right;\">\n",
       "      <th></th>\n",
       "      <th>timestamp</th>\n",
       "      <th>iiqid</th>\n",
       "      <th>hh_id</th>\n",
       "      <th>maid</th>\n",
       "      <th>partner_id</th>\n",
       "      <th>ip</th>\n",
       "      <th>iscellip</th>\n",
       "      <th>cellispid</th>\n",
       "      <th>domain</th>\n",
       "      <th>is_house_ip_or_source_ip</th>\n",
       "      <th>brand</th>\n",
       "      <th>model</th>\n",
       "      <th>os</th>\n",
       "      <th>osversion</th>\n",
       "      <th>browser</th>\n",
       "      <th>advertisedbrowser</th>\n",
       "      <th>browserversion</th>\n",
       "      <th>type</th>\n",
       "      <th>is_best_ip</th>\n",
       "    </tr>\n",
       "  </thead>\n",
       "  <tbody>\n",
       "    <tr>\n",
       "      <th>0</th>\n",
       "      <td>1672916867869</td>\n",
       "      <td>EUuUmjWsqL</td>\n",
       "      <td>000eT0aAVu</td>\n",
       "      <td>4</td>\n",
       "      <td>14</td>\n",
       "      <td>26343170</td>\n",
       "      <td>False</td>\n",
       "      <td>483294422</td>\n",
       "      <td>-1478686014</td>\n",
       "      <td>False</td>\n",
       "      <td>apple</td>\n",
       "      <td>iphone</td>\n",
       "      <td>ios</td>\n",
       "      <td>14.8.1</td>\n",
       "      <td>safari</td>\n",
       "      <td>iOS WebView</td>\n",
       "      <td>14.8.1</td>\n",
       "      <td>smartphone</td>\n",
       "      <td>False</td>\n",
       "    </tr>\n",
       "    <tr>\n",
       "      <th>1</th>\n",
       "      <td>1672916867864</td>\n",
       "      <td>EUuUmjWsqL</td>\n",
       "      <td>000eT0aAVu</td>\n",
       "      <td>3</td>\n",
       "      <td>14</td>\n",
       "      <td>26343170</td>\n",
       "      <td>False</td>\n",
       "      <td>483294422</td>\n",
       "      <td>-1478686014</td>\n",
       "      <td>False</td>\n",
       "      <td>apple</td>\n",
       "      <td>iphone</td>\n",
       "      <td>ios</td>\n",
       "      <td>14.8.1</td>\n",
       "      <td>safari</td>\n",
       "      <td>iOS WebView</td>\n",
       "      <td>14.8.1</td>\n",
       "      <td>smartphone</td>\n",
       "      <td>False</td>\n",
       "    </tr>\n",
       "    <tr>\n",
       "      <th>2</th>\n",
       "      <td>1671513889036</td>\n",
       "      <td>EUuUmjWsqL</td>\n",
       "      <td>000eT0aAVu</td>\n",
       "      <td>4</td>\n",
       "      <td>14</td>\n",
       "      <td>2092771755</td>\n",
       "      <td>False</td>\n",
       "      <td>483294422</td>\n",
       "      <td>326157497</td>\n",
       "      <td>True</td>\n",
       "      <td>apple</td>\n",
       "      <td>iphone</td>\n",
       "      <td>ios</td>\n",
       "      <td>14.8.1</td>\n",
       "      <td>safari</td>\n",
       "      <td>iOS WebView</td>\n",
       "      <td>14.8.1</td>\n",
       "      <td>smartphone</td>\n",
       "      <td>False</td>\n",
       "    </tr>\n",
       "    <tr>\n",
       "      <th>3</th>\n",
       "      <td>1671513205899</td>\n",
       "      <td>EUuUmjWsqL</td>\n",
       "      <td>000eT0aAVu</td>\n",
       "      <td>4</td>\n",
       "      <td>14</td>\n",
       "      <td>2092771755</td>\n",
       "      <td>False</td>\n",
       "      <td>483294422</td>\n",
       "      <td>-1699376052</td>\n",
       "      <td>True</td>\n",
       "      <td>apple</td>\n",
       "      <td>iphone</td>\n",
       "      <td>ios</td>\n",
       "      <td>14.8.1</td>\n",
       "      <td>safari</td>\n",
       "      <td>iOS WebView</td>\n",
       "      <td>14.8.1</td>\n",
       "      <td>smartphone</td>\n",
       "      <td>False</td>\n",
       "    </tr>\n",
       "    <tr>\n",
       "      <th>4</th>\n",
       "      <td>1671513205881</td>\n",
       "      <td>EUuUmjWsqL</td>\n",
       "      <td>000eT0aAVu</td>\n",
       "      <td>3</td>\n",
       "      <td>14</td>\n",
       "      <td>2092771755</td>\n",
       "      <td>False</td>\n",
       "      <td>483294422</td>\n",
       "      <td>-1699376052</td>\n",
       "      <td>True</td>\n",
       "      <td>apple</td>\n",
       "      <td>iphone</td>\n",
       "      <td>ios</td>\n",
       "      <td>14.8.1</td>\n",
       "      <td>safari</td>\n",
       "      <td>iOS WebView</td>\n",
       "      <td>14.8.1</td>\n",
       "      <td>smartphone</td>\n",
       "      <td>False</td>\n",
       "    </tr>\n",
       "  </tbody>\n",
       "</table>\n",
       "</div>"
      ],
      "text/plain": [
       "       timestamp       iiqid       hh_id  maid  partner_id          ip  \\\n",
       "0  1672916867869  EUuUmjWsqL  000eT0aAVu     4          14    26343170   \n",
       "1  1672916867864  EUuUmjWsqL  000eT0aAVu     3          14    26343170   \n",
       "2  1671513889036  EUuUmjWsqL  000eT0aAVu     4          14  2092771755   \n",
       "3  1671513205899  EUuUmjWsqL  000eT0aAVu     4          14  2092771755   \n",
       "4  1671513205881  EUuUmjWsqL  000eT0aAVu     3          14  2092771755   \n",
       "\n",
       "   iscellip  cellispid      domain  is_house_ip_or_source_ip  brand   model  \\\n",
       "0     False  483294422 -1478686014                     False  apple  iphone   \n",
       "1     False  483294422 -1478686014                     False  apple  iphone   \n",
       "2     False  483294422   326157497                      True  apple  iphone   \n",
       "3     False  483294422 -1699376052                      True  apple  iphone   \n",
       "4     False  483294422 -1699376052                      True  apple  iphone   \n",
       "\n",
       "    os osversion browser advertisedbrowser browserversion        type  \\\n",
       "0  ios    14.8.1  safari       iOS WebView         14.8.1  smartphone   \n",
       "1  ios    14.8.1  safari       iOS WebView         14.8.1  smartphone   \n",
       "2  ios    14.8.1  safari       iOS WebView         14.8.1  smartphone   \n",
       "3  ios    14.8.1  safari       iOS WebView         14.8.1  smartphone   \n",
       "4  ios    14.8.1  safari       iOS WebView         14.8.1  smartphone   \n",
       "\n",
       "   is_best_ip  \n",
       "0       False  \n",
       "1       False  \n",
       "2       False  \n",
       "3       False  \n",
       "4       False  "
      ]
     },
     "execution_count": 7,
     "metadata": {},
     "output_type": "execute_result"
    }
   ],
   "source": [
    "data.head()"
   ]
  },
  {
   "cell_type": "code",
   "execution_count": 8,
   "id": "f686bb3e-bdb5-4a47-b012-1ab6b04ca164",
   "metadata": {
    "tags": []
   },
   "outputs": [
    {
     "name": "stdout",
     "output_type": "stream",
     "text": [
      "<class 'pandas.core.frame.DataFrame'>\n",
      "RangeIndex: 721513 entries, 0 to 721512\n",
      "Data columns (total 19 columns):\n",
      " #   Column                    Non-Null Count   Dtype \n",
      "---  ------                    --------------   ----- \n",
      " 0   timestamp                 721513 non-null  int64 \n",
      " 1   iiqid                     638472 non-null  object\n",
      " 2   hh_id                     721513 non-null  object\n",
      " 3   maid                      721513 non-null  int64 \n",
      " 4   partner_id                721513 non-null  int64 \n",
      " 5   ip                        721513 non-null  int64 \n",
      " 6   iscellip                  721513 non-null  bool  \n",
      " 7   cellispid                 721513 non-null  int64 \n",
      " 8   domain                    721513 non-null  int64 \n",
      " 9   is_house_ip_or_source_ip  721513 non-null  bool  \n",
      " 10  brand                     721157 non-null  object\n",
      " 11  model                     718081 non-null  object\n",
      " 12  os                        721142 non-null  object\n",
      " 13  osversion                 720664 non-null  object\n",
      " 14  browser                   721117 non-null  object\n",
      " 15  advertisedbrowser         721117 non-null  object\n",
      " 16  browserversion            718035 non-null  object\n",
      " 17  type                      721174 non-null  object\n",
      " 18  is_best_ip                721513 non-null  bool  \n",
      "dtypes: bool(3), int64(6), object(10)\n",
      "memory usage: 90.1+ MB\n"
     ]
    }
   ],
   "source": [
    "data.info()"
   ]
  },
  {
   "cell_type": "code",
   "execution_count": 9,
   "id": "d8992058-9d1f-432c-b8f4-7b44d4806c60",
   "metadata": {
    "tags": []
   },
   "outputs": [],
   "source": [
    "third_parties = data[(data['maid'] == 4) | (data['maid'] == 7)]"
   ]
  },
  {
   "cell_type": "code",
   "execution_count": 10,
   "id": "e8120588-2730-46cd-b13a-d7b96ac6e9b4",
   "metadata": {
    "tags": []
   },
   "outputs": [
    {
     "data": {
      "text/plain": [
       "990"
      ]
     },
     "execution_count": 10,
     "metadata": {},
     "output_type": "execute_result"
    }
   ],
   "source": [
    "third_parties['hh_id'].nunique()"
   ]
  },
  {
   "cell_type": "code",
   "execution_count": 20,
   "id": "f024667a-b6b9-40e6-891e-9a08ad53de1c",
   "metadata": {
    "tags": []
   },
   "outputs": [
    {
     "name": "stderr",
     "output_type": "stream",
     "text": [
      "/var/folders/nw/8w_76z_n6fz418hmsps2_rq40000gn/T/ipykernel_46452/1876193537.py:2: SettingWithCopyWarning: \n",
      "A value is trying to be set on a copy of a slice from a DataFrame.\n",
      "Try using .loc[row_indexer,col_indexer] = value instead\n",
      "\n",
      "See the caveats in the documentation: https://pandas.pydata.org/pandas-docs/stable/user_guide/indexing.html#returning-a-view-versus-a-copy\n",
      "  third_parties['time'] = third_parties['timestamp'].apply(lambda t: pd.to_datetime(t, unit='ms'))\n"
     ]
    }
   ],
   "source": [
    "third_parties['time'] = pd.to_datetime(third_parties['timestamp'], unit='ms')\n",
    "# third_parties['time'] = third_parties['timestamp'].apply(lambda t: pd.to_datetime(t, unit='ms'))"
   ]
  },
  {
   "cell_type": "code",
   "execution_count": 23,
   "id": "f9fbd7ce-5065-4047-9151-8abbfd685d1e",
   "metadata": {
    "tags": []
   },
   "outputs": [
    {
     "data": {
      "text/html": [
       "<div>\n",
       "<style scoped>\n",
       "    .dataframe tbody tr th:only-of-type {\n",
       "        vertical-align: middle;\n",
       "    }\n",
       "\n",
       "    .dataframe tbody tr th {\n",
       "        vertical-align: top;\n",
       "    }\n",
       "\n",
       "    .dataframe thead th {\n",
       "        text-align: right;\n",
       "    }\n",
       "</style>\n",
       "<table border=\"1\" class=\"dataframe\">\n",
       "  <thead>\n",
       "    <tr style=\"text-align: right;\">\n",
       "      <th></th>\n",
       "      <th>timestamp</th>\n",
       "      <th>iiqid</th>\n",
       "      <th>hh_id</th>\n",
       "      <th>maid</th>\n",
       "      <th>partner_id</th>\n",
       "      <th>ip</th>\n",
       "      <th>iscellip</th>\n",
       "      <th>cellispid</th>\n",
       "      <th>domain</th>\n",
       "      <th>is_house_ip_or_source_ip</th>\n",
       "      <th>brand</th>\n",
       "      <th>model</th>\n",
       "      <th>os</th>\n",
       "      <th>osversion</th>\n",
       "      <th>browser</th>\n",
       "      <th>advertisedbrowser</th>\n",
       "      <th>browserversion</th>\n",
       "      <th>type</th>\n",
       "      <th>is_best_ip</th>\n",
       "      <th>time</th>\n",
       "    </tr>\n",
       "  </thead>\n",
       "  <tbody>\n",
       "    <tr>\n",
       "      <th>0</th>\n",
       "      <td>1672916867869</td>\n",
       "      <td>EUuUmjWsqL</td>\n",
       "      <td>000eT0aAVu</td>\n",
       "      <td>4</td>\n",
       "      <td>14</td>\n",
       "      <td>26343170</td>\n",
       "      <td>False</td>\n",
       "      <td>483294422</td>\n",
       "      <td>-1478686014</td>\n",
       "      <td>False</td>\n",
       "      <td>apple</td>\n",
       "      <td>iphone</td>\n",
       "      <td>ios</td>\n",
       "      <td>14.8.1</td>\n",
       "      <td>safari</td>\n",
       "      <td>iOS WebView</td>\n",
       "      <td>14.8.1</td>\n",
       "      <td>smartphone</td>\n",
       "      <td>False</td>\n",
       "      <td>2023-01-05 11:07:47.869</td>\n",
       "    </tr>\n",
       "    <tr>\n",
       "      <th>2</th>\n",
       "      <td>1671513889036</td>\n",
       "      <td>EUuUmjWsqL</td>\n",
       "      <td>000eT0aAVu</td>\n",
       "      <td>4</td>\n",
       "      <td>14</td>\n",
       "      <td>2092771755</td>\n",
       "      <td>False</td>\n",
       "      <td>483294422</td>\n",
       "      <td>326157497</td>\n",
       "      <td>True</td>\n",
       "      <td>apple</td>\n",
       "      <td>iphone</td>\n",
       "      <td>ios</td>\n",
       "      <td>14.8.1</td>\n",
       "      <td>safari</td>\n",
       "      <td>iOS WebView</td>\n",
       "      <td>14.8.1</td>\n",
       "      <td>smartphone</td>\n",
       "      <td>False</td>\n",
       "      <td>2022-12-20 05:24:49.036</td>\n",
       "    </tr>\n",
       "    <tr>\n",
       "      <th>3</th>\n",
       "      <td>1671513205899</td>\n",
       "      <td>EUuUmjWsqL</td>\n",
       "      <td>000eT0aAVu</td>\n",
       "      <td>4</td>\n",
       "      <td>14</td>\n",
       "      <td>2092771755</td>\n",
       "      <td>False</td>\n",
       "      <td>483294422</td>\n",
       "      <td>-1699376052</td>\n",
       "      <td>True</td>\n",
       "      <td>apple</td>\n",
       "      <td>iphone</td>\n",
       "      <td>ios</td>\n",
       "      <td>14.8.1</td>\n",
       "      <td>safari</td>\n",
       "      <td>iOS WebView</td>\n",
       "      <td>14.8.1</td>\n",
       "      <td>smartphone</td>\n",
       "      <td>False</td>\n",
       "      <td>2022-12-20 05:13:25.899</td>\n",
       "    </tr>\n",
       "    <tr>\n",
       "      <th>6</th>\n",
       "      <td>1670404220154</td>\n",
       "      <td>EUuUmjWsqL</td>\n",
       "      <td>000eT0aAVu</td>\n",
       "      <td>4</td>\n",
       "      <td>14</td>\n",
       "      <td>2022977083</td>\n",
       "      <td>False</td>\n",
       "      <td>483294422</td>\n",
       "      <td>1661383257</td>\n",
       "      <td>False</td>\n",
       "      <td>apple</td>\n",
       "      <td>iphone</td>\n",
       "      <td>ios</td>\n",
       "      <td>14.8.1</td>\n",
       "      <td>safari</td>\n",
       "      <td>iOS WebView</td>\n",
       "      <td>14.8.1</td>\n",
       "      <td>smartphone</td>\n",
       "      <td>False</td>\n",
       "      <td>2022-12-07 09:10:20.154</td>\n",
       "    </tr>\n",
       "    <tr>\n",
       "      <th>7</th>\n",
       "      <td>1670236595042</td>\n",
       "      <td>EUuUmjWsqL</td>\n",
       "      <td>000eT0aAVu</td>\n",
       "      <td>4</td>\n",
       "      <td>14</td>\n",
       "      <td>2092771755</td>\n",
       "      <td>False</td>\n",
       "      <td>483294422</td>\n",
       "      <td>1661383257</td>\n",
       "      <td>True</td>\n",
       "      <td>apple</td>\n",
       "      <td>iphone</td>\n",
       "      <td>ios</td>\n",
       "      <td>14.8.1</td>\n",
       "      <td>safari</td>\n",
       "      <td>iOS WebView</td>\n",
       "      <td>14.8.1</td>\n",
       "      <td>smartphone</td>\n",
       "      <td>False</td>\n",
       "      <td>2022-12-05 10:36:35.042</td>\n",
       "    </tr>\n",
       "  </tbody>\n",
       "</table>\n",
       "</div>"
      ],
      "text/plain": [
       "       timestamp       iiqid       hh_id maid partner_id          ip iscellip  \\\n",
       "0  1672916867869  EUuUmjWsqL  000eT0aAVu    4         14    26343170    False   \n",
       "2  1671513889036  EUuUmjWsqL  000eT0aAVu    4         14  2092771755    False   \n",
       "3  1671513205899  EUuUmjWsqL  000eT0aAVu    4         14  2092771755    False   \n",
       "6  1670404220154  EUuUmjWsqL  000eT0aAVu    4         14  2022977083    False   \n",
       "7  1670236595042  EUuUmjWsqL  000eT0aAVu    4         14  2092771755    False   \n",
       "\n",
       "   cellispid       domain is_house_ip_or_source_ip  brand   model   os  \\\n",
       "0  483294422  -1478686014                    False  apple  iphone  ios   \n",
       "2  483294422    326157497                     True  apple  iphone  ios   \n",
       "3  483294422  -1699376052                     True  apple  iphone  ios   \n",
       "6  483294422   1661383257                    False  apple  iphone  ios   \n",
       "7  483294422   1661383257                     True  apple  iphone  ios   \n",
       "\n",
       "  osversion browser advertisedbrowser browserversion        type is_best_ip  \\\n",
       "0    14.8.1  safari       iOS WebView         14.8.1  smartphone      False   \n",
       "2    14.8.1  safari       iOS WebView         14.8.1  smartphone      False   \n",
       "3    14.8.1  safari       iOS WebView         14.8.1  smartphone      False   \n",
       "6    14.8.1  safari       iOS WebView         14.8.1  smartphone      False   \n",
       "7    14.8.1  safari       iOS WebView         14.8.1  smartphone      False   \n",
       "\n",
       "                     time  \n",
       "0 2023-01-05 11:07:47.869  \n",
       "2 2022-12-20 05:24:49.036  \n",
       "3 2022-12-20 05:13:25.899  \n",
       "6 2022-12-07 09:10:20.154  \n",
       "7 2022-12-05 10:36:35.042  "
      ]
     },
     "execution_count": 23,
     "metadata": {},
     "output_type": "execute_result"
    }
   ],
   "source": [
    "third_parties.head()"
   ]
  },
  {
   "cell_type": "code",
   "execution_count": 29,
   "id": "f1a426c2-c677-4d91-af8d-e33784106778",
   "metadata": {
    "tags": []
   },
   "outputs": [],
   "source": [
    "random_hh_id = np.random.choice(third_parties['hh_id'])\n",
    "random_h = third_parties[third_parties['hh_id']==random_hh_id]"
   ]
  },
  {
   "cell_type": "code",
   "execution_count": 30,
   "id": "ac51bbf1-60d4-49d9-a1be-b0ae614b4d0d",
   "metadata": {
    "tags": []
   },
   "outputs": [
    {
     "data": {
      "text/plain": [
       "<Axes: xlabel='os', ylabel='count'>"
      ]
     },
     "execution_count": 30,
     "metadata": {},
     "output_type": "execute_result"
    },
    {
     "data": {
      "image/png": "[encoded data removed]",
      "text/plain": [
       "<Figure size 640x480 with 1 Axes>"
      ]
     },
     "metadata": {},
     "output_type": "display_data"
    }
   ],
   "source": [
    "sns.countplot(data=random_h, x='os', hue='osversion')"
   ]
  },
  {
   "cell_type": "code",
   "execution_count": 31,
   "id": "8dd76dad-fea9-43df-8622-c0d7a7950abf",
   "metadata": {
    "tags": []
   },
   "outputs": [
    {
     "data": {
      "text/plain": [
       "<Axes: xlabel='timestamp', ylabel='browserversion'>"
      ]
     },
     "execution_count": 31,
     "metadata": {},
     "output_type": "execute_result"
    },
    {
     "data": {
      "image/png": "[encoded data removed]",
      "text/plain": [
       "<Figure size 640x480 with 1 Axes>"
      ]
     },
     "metadata": {},
     "output_type": "display_data"
    }
   ],
   "source": [
    "sns.lineplot(data=random_h[random_h['os']=='android'], x='timestamp', y='browserversion', hue='iiqid')"
   ]
  },
  {
   "cell_type": "code",
   "execution_count": null,
   "id": "0bc29186-4c49-4518-91d8-4c25815ea315",
   "metadata": {},
   "outputs": [],
   "source": [
    "# create a new column for each user that contains the browser version\n",
    "for i in user_ids:\n",
    "    user_df = df[df['user_id'] == user_id]\n",
    "    browser_versions = user_df['browser_version'].str.split(' ', expand=True)[1].str.split('.', expand=True)\n",
    "    browser_versions = browser_versions.astype(int)\n",
    "    for i in range(1, 4):\n",
    "        zero_mask = browser_versions[i] == 0\n",
    "        next_subversion = browser_versions[i][~zero_mask].shift(-1)\n",
    "        browser_versions[i][zero_mask] = next_subversion[zero_mask]\n",
    "    df.loc[df['user_id'] == user_id, ['major', 'minor', 'patch', 'subpatch']] = browser_versions.values"
   ]
  },
  {
   "cell_type": "code",
   "execution_count": 33,
   "id": "6df05352-2897-43b5-bc94-04691c652ec2",
   "metadata": {},
   "outputs": [],
   "source": [
    "# browser_versions = third_parties['browserversion'].str.split(' ', expand=True)[1].str.split('.', expand=True)\n",
    "one_row = third_parties.iloc[0]"
   ]
  },
  {
   "cell_type": "code",
   "execution_count": 40,
   "id": "ada383ec-4715-43c2-b3af-b4a527f9fda6",
   "metadata": {
    "tags": []
   },
   "outputs": [
    {
     "data": {
      "text/plain": [
       "['14', '8', '1']"
      ]
     },
     "execution_count": 40,
     "metadata": {},
     "output_type": "execute_result"
    }
   ],
   "source": [
    "one_row['browserversion'].split('.')"
   ]
  },
  {
   "cell_type": "code",
   "execution_count": null,
   "id": "5b89e548-f269-422c-8b57-5409724ac69e",
   "metadata": {},
   "outputs": [],
   "source": []
  }
 ],
 "metadata": {
  "kernelspec": {
   "display_name": "Python 3 (ipykernel)",
   "language": "python",
   "name": "python3"
  },
  "language_info": {
   "codemirror_mode": {
    "name": "ipython",
    "version": 3
   },
   "file_extension": ".py",
   "mimetype": "text/x-python",
   "name": "python",
   "nbconvert_exporter": "python",
   "pygments_lexer": "ipython3",
   "version": "3.10.10"
  }
 },
 "nbformat": 4,
 "nbformat_minor": 5
}
