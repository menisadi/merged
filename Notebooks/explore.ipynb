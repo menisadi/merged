{
 "cells": [
  {
   "cell_type": "code",
   "execution_count": 73,
   "id": "5ee4e786-e859-4034-aaf1-fa6b5b93476e",
   "metadata": {
    "tags": []
   },
   "outputs": [],
   "source": [
    "import numpy as np\n",
    "import pandas as pd\n",
    "import matplotlib.pyplot as plt\n",
    "import seaborn as sns"
   ]
  },
  {
   "cell_type": "code",
   "execution_count": 143,
   "id": "864fbc9a-6509-4d7e-8674-b543c862e5ad",
   "metadata": {
    "tags": []
   },
   "outputs": [],
   "source": [
    "data = pd.read_csv(\"houses1000.csv\")"
   ]
  },
  {
   "cell_type": "code",
   "execution_count": 144,
   "id": "3797a153-705c-47e9-9424-df20307521ac",
   "metadata": {
    "tags": []
   },
   "outputs": [],
   "source": [
    "# data.to_parquet(\"houses1000.parquet\")"
   ]
  },
  {
   "cell_type": "code",
   "execution_count": 145,
   "id": "ea95c4a8-7d24-42f9-b044-ab9fb3a42557",
   "metadata": {
    "tags": []
   },
   "outputs": [],
   "source": [
    "needed_columns = ['timestamp', 'maid', 'hh_id','iiqid', 'partner_id', 'ip', 'iscellip',\n",
    "       'cellispid', 'domain','is_house_ip_or_source_ip', 'brand', 'model', 'os', 'osversion',\n",
    "       'browser', 'advertisedbrowser', 'browserversion', 'type', 'is_best_ip']\n",
    "unnecessary_columns = [c for c in data.columns if c not in needed_columns]"
   ]
  },
  {
   "cell_type": "code",
   "execution_count": 146,
   "id": "4a546387-6954-481b-8f49-8874cb895533",
   "metadata": {
    "tags": []
   },
   "outputs": [
    {
     "data": {
      "text/plain": [
       "['filename',\n",
       " 'profile_house',\n",
       " 'first_cookie',\n",
       " 'a',\n",
       " 'b',\n",
       " 'c',\n",
       " 'uahash',\n",
       " 'gpslat',\n",
       " 'gpslon',\n",
       " 'd',\n",
       " 'e',\n",
       " 'f',\n",
       " 'h',\n",
       " 'i',\n",
       " 'j',\n",
       " 'k',\n",
       " 'l',\n",
       " 'm',\n",
       " 'n',\n",
       " 'is_unreachable_first_cookie',\n",
       " 'is_original_ip',\n",
       " 'real_maid',\n",
       " 'battery_level',\n",
       " 'height',\n",
       " 'width',\n",
       " 'free_disk_space',\n",
       " 'total_disk_space',\n",
       " 'hardware',\n",
       " 'publisher',\n",
       " 'flavor']"
      ]
     },
     "execution_count": 146,
     "metadata": {},
     "output_type": "execute_result"
    }
   ],
   "source": [
    "unnecessary_columns"
   ]
  },
  {
   "cell_type": "code",
   "execution_count": 147,
   "id": "a1307779-b9bf-418e-afe7-110505427dce",
   "metadata": {
    "tags": []
   },
   "outputs": [],
   "source": [
    "data.drop(unnecessary_columns, axis=1, inplace=True)"
   ]
  },
  {
   "cell_type": "code",
   "execution_count": 148,
   "id": "c48bc556-cd36-4a85-a099-3e57e2c8ecad",
   "metadata": {
    "tags": []
   },
   "outputs": [
    {
     "data": {
      "text/html": [
       "<div>\n",
       "<style scoped>\n",
       "    .dataframe tbody tr th:only-of-type {\n",
       "        vertical-align: middle;\n",
       "    }\n",
       "\n",
       "    .dataframe tbody tr th {\n",
       "        vertical-align: top;\n",
       "    }\n",
       "\n",
       "    .dataframe thead th {\n",
       "        text-align: right;\n",
       "    }\n",
       "</style>\n",
       "<table border=\"1\" class=\"dataframe\">\n",
       "  <thead>\n",
       "    <tr style=\"text-align: right;\">\n",
       "      <th></th>\n",
       "      <th>timestamp</th>\n",
       "      <th>iiqid</th>\n",
       "      <th>hh_id</th>\n",
       "      <th>maid</th>\n",
       "      <th>partner_id</th>\n",
       "      <th>ip</th>\n",
       "      <th>iscellip</th>\n",
       "      <th>cellispid</th>\n",
       "      <th>domain</th>\n",
       "      <th>is_house_ip_or_source_ip</th>\n",
       "      <th>brand</th>\n",
       "      <th>model</th>\n",
       "      <th>os</th>\n",
       "      <th>osversion</th>\n",
       "      <th>browser</th>\n",
       "      <th>advertisedbrowser</th>\n",
       "      <th>browserversion</th>\n",
       "      <th>type</th>\n",
       "      <th>is_best_ip</th>\n",
       "    </tr>\n",
       "  </thead>\n",
       "  <tbody>\n",
       "    <tr>\n",
       "      <th>0</th>\n",
       "      <td>1672916867869</td>\n",
       "      <td>EUuUmjWsqL</td>\n",
       "      <td>000eT0aAVu</td>\n",
       "      <td>4</td>\n",
       "      <td>14</td>\n",
       "      <td>26343170</td>\n",
       "      <td>False</td>\n",
       "      <td>483294422</td>\n",
       "      <td>-1478686014</td>\n",
       "      <td>False</td>\n",
       "      <td>apple</td>\n",
       "      <td>iphone</td>\n",
       "      <td>ios</td>\n",
       "      <td>14.8.1</td>\n",
       "      <td>safari</td>\n",
       "      <td>iOS WebView</td>\n",
       "      <td>14.8.1</td>\n",
       "      <td>smartphone</td>\n",
       "      <td>False</td>\n",
       "    </tr>\n",
       "    <tr>\n",
       "      <th>1</th>\n",
       "      <td>1672916867864</td>\n",
       "      <td>EUuUmjWsqL</td>\n",
       "      <td>000eT0aAVu</td>\n",
       "      <td>3</td>\n",
       "      <td>14</td>\n",
       "      <td>26343170</td>\n",
       "      <td>False</td>\n",
       "      <td>483294422</td>\n",
       "      <td>-1478686014</td>\n",
       "      <td>False</td>\n",
       "      <td>apple</td>\n",
       "      <td>iphone</td>\n",
       "      <td>ios</td>\n",
       "      <td>14.8.1</td>\n",
       "      <td>safari</td>\n",
       "      <td>iOS WebView</td>\n",
       "      <td>14.8.1</td>\n",
       "      <td>smartphone</td>\n",
       "      <td>False</td>\n",
       "    </tr>\n",
       "    <tr>\n",
       "      <th>2</th>\n",
       "      <td>1671513889036</td>\n",
       "      <td>EUuUmjWsqL</td>\n",
       "      <td>000eT0aAVu</td>\n",
       "      <td>4</td>\n",
       "      <td>14</td>\n",
       "      <td>2092771755</td>\n",
       "      <td>False</td>\n",
       "      <td>483294422</td>\n",
       "      <td>326157497</td>\n",
       "      <td>True</td>\n",
       "      <td>apple</td>\n",
       "      <td>iphone</td>\n",
       "      <td>ios</td>\n",
       "      <td>14.8.1</td>\n",
       "      <td>safari</td>\n",
       "      <td>iOS WebView</td>\n",
       "      <td>14.8.1</td>\n",
       "      <td>smartphone</td>\n",
       "      <td>False</td>\n",
       "    </tr>\n",
       "    <tr>\n",
       "      <th>3</th>\n",
       "      <td>1671513205899</td>\n",
       "      <td>EUuUmjWsqL</td>\n",
       "      <td>000eT0aAVu</td>\n",
       "      <td>4</td>\n",
       "      <td>14</td>\n",
       "      <td>2092771755</td>\n",
       "      <td>False</td>\n",
       "      <td>483294422</td>\n",
       "      <td>-1699376052</td>\n",
       "      <td>True</td>\n",
       "      <td>apple</td>\n",
       "      <td>iphone</td>\n",
       "      <td>ios</td>\n",
       "      <td>14.8.1</td>\n",
       "      <td>safari</td>\n",
       "      <td>iOS WebView</td>\n",
       "      <td>14.8.1</td>\n",
       "      <td>smartphone</td>\n",
       "      <td>False</td>\n",
       "    </tr>\n",
       "    <tr>\n",
       "      <th>4</th>\n",
       "      <td>1671513205881</td>\n",
       "      <td>EUuUmjWsqL</td>\n",
       "      <td>000eT0aAVu</td>\n",
       "      <td>3</td>\n",
       "      <td>14</td>\n",
       "      <td>2092771755</td>\n",
       "      <td>False</td>\n",
       "      <td>483294422</td>\n",
       "      <td>-1699376052</td>\n",
       "      <td>True</td>\n",
       "      <td>apple</td>\n",
       "      <td>iphone</td>\n",
       "      <td>ios</td>\n",
       "      <td>14.8.1</td>\n",
       "      <td>safari</td>\n",
       "      <td>iOS WebView</td>\n",
       "      <td>14.8.1</td>\n",
       "      <td>smartphone</td>\n",
       "      <td>False</td>\n",
       "    </tr>\n",
       "  </tbody>\n",
       "</table>\n",
       "</div>"
      ],
      "text/plain": [
       "       timestamp       iiqid       hh_id  maid  partner_id          ip  \\\n",
       "0  1672916867869  EUuUmjWsqL  000eT0aAVu     4          14    26343170   \n",
       "1  1672916867864  EUuUmjWsqL  000eT0aAVu     3          14    26343170   \n",
       "2  1671513889036  EUuUmjWsqL  000eT0aAVu     4          14  2092771755   \n",
       "3  1671513205899  EUuUmjWsqL  000eT0aAVu     4          14  2092771755   \n",
       "4  1671513205881  EUuUmjWsqL  000eT0aAVu     3          14  2092771755   \n",
       "\n",
       "   iscellip  cellispid      domain  is_house_ip_or_source_ip  brand   model  \\\n",
       "0     False  483294422 -1478686014                     False  apple  iphone   \n",
       "1     False  483294422 -1478686014                     False  apple  iphone   \n",
       "2     False  483294422   326157497                      True  apple  iphone   \n",
       "3     False  483294422 -1699376052                      True  apple  iphone   \n",
       "4     False  483294422 -1699376052                      True  apple  iphone   \n",
       "\n",
       "    os osversion browser advertisedbrowser browserversion        type  \\\n",
       "0  ios    14.8.1  safari       iOS WebView         14.8.1  smartphone   \n",
       "1  ios    14.8.1  safari       iOS WebView         14.8.1  smartphone   \n",
       "2  ios    14.8.1  safari       iOS WebView         14.8.1  smartphone   \n",
       "3  ios    14.8.1  safari       iOS WebView         14.8.1  smartphone   \n",
       "4  ios    14.8.1  safari       iOS WebView         14.8.1  smartphone   \n",
       "\n",
       "   is_best_ip  \n",
       "0       False  \n",
       "1       False  \n",
       "2       False  \n",
       "3       False  \n",
       "4       False  "
      ]
     },
     "execution_count": 148,
     "metadata": {},
     "output_type": "execute_result"
    }
   ],
   "source": [
    "data.head()"
   ]
  },
  {
   "cell_type": "code",
   "execution_count": 149,
   "id": "f686bb3e-bdb5-4a47-b012-1ab6b04ca164",
   "metadata": {
    "tags": []
   },
   "outputs": [
    {
     "name": "stdout",
     "output_type": "stream",
     "text": [
      "<class 'pandas.core.frame.DataFrame'>\n",
      "RangeIndex: 721513 entries, 0 to 721512\n",
      "Data columns (total 19 columns):\n",
      " #   Column                    Non-Null Count   Dtype \n",
      "---  ------                    --------------   ----- \n",
      " 0   timestamp                 721513 non-null  int64 \n",
      " 1   iiqid                     638472 non-null  object\n",
      " 2   hh_id                     721513 non-null  object\n",
      " 3   maid                      721513 non-null  int64 \n",
      " 4   partner_id                721513 non-null  int64 \n",
      " 5   ip                        721513 non-null  int64 \n",
      " 6   iscellip                  721513 non-null  bool  \n",
      " 7   cellispid                 721513 non-null  int64 \n",
      " 8   domain                    721513 non-null  int64 \n",
      " 9   is_house_ip_or_source_ip  721513 non-null  bool  \n",
      " 10  brand                     721157 non-null  object\n",
      " 11  model                     718081 non-null  object\n",
      " 12  os                        721142 non-null  object\n",
      " 13  osversion                 720664 non-null  object\n",
      " 14  browser                   721117 non-null  object\n",
      " 15  advertisedbrowser         721117 non-null  object\n",
      " 16  browserversion            718035 non-null  object\n",
      " 17  type                      721174 non-null  object\n",
      " 18  is_best_ip                721513 non-null  bool  \n",
      "dtypes: bool(3), int64(6), object(10)\n",
      "memory usage: 90.1+ MB\n"
     ]
    }
   ],
   "source": [
    "data.info()"
   ]
  },
  {
   "cell_type": "code",
   "execution_count": 161,
   "id": "d8992058-9d1f-432c-b8f4-7b44d4806c60",
   "metadata": {
    "tags": []
   },
   "outputs": [],
   "source": [
    "third_parties = data[(data['maid'] == 4) | (data['maid'] == 7)]"
   ]
  },
  {
   "cell_type": "code",
   "execution_count": 162,
   "id": "e8120588-2730-46cd-b13a-d7b96ac6e9b4",
   "metadata": {
    "tags": []
   },
   "outputs": [
    {
     "data": {
      "text/plain": [
       "990"
      ]
     },
     "execution_count": 162,
     "metadata": {},
     "output_type": "execute_result"
    }
   ],
   "source": [
    "third_parties['hh_id'].nunique()"
   ]
  },
  {
   "cell_type": "code",
   "execution_count": 163,
   "id": "f024667a-b6b9-40e6-891e-9a08ad53de1c",
   "metadata": {
    "tags": []
   },
   "outputs": [
    {
     "name": "stderr",
     "output_type": "stream",
     "text": [
      "/var/folders/nw/8w_76z_n6fz418hmsps2_rq40000gn/T/ipykernel_49304/3734518910.py:1: SettingWithCopyWarning: \n",
      "A value is trying to be set on a copy of a slice from a DataFrame.\n",
      "Try using .loc[row_indexer,col_indexer] = value instead\n",
      "\n",
      "See the caveats in the documentation: https://pandas.pydata.org/pandas-docs/stable/user_guide/indexing.html#returning-a-view-versus-a-copy\n",
      "  third_parties['time'] = pd.to_datetime(third_parties['timestamp'], unit='ms')\n"
     ]
    }
   ],
   "source": [
    "third_parties['time'] = pd.to_datetime(third_parties['timestamp'], unit='ms')\n",
    "# third_parties['time'] = third_parties['timestamp'].apply(lambda t: pd.to_datetime(t, unit='ms'))"
   ]
  },
  {
   "cell_type": "code",
   "execution_count": 164,
   "id": "0586215a-5e8e-478b-9356-818ef802d336",
   "metadata": {
    "tags": []
   },
   "outputs": [
    {
     "data": {
      "text/plain": [
       "373686"
      ]
     },
     "execution_count": 164,
     "metadata": {},
     "output_type": "execute_result"
    }
   ],
   "source": [
    "len(third_parties.dropna())"
   ]
  },
  {
   "cell_type": "code",
   "execution_count": 165,
   "id": "b405da87-d927-44ee-be2f-3b2bffeff17c",
   "metadata": {
    "tags": []
   },
   "outputs": [],
   "source": [
    "third_parties = third_parties.dropna()"
   ]
  },
  {
   "cell_type": "code",
   "execution_count": 174,
   "id": "ed236f60-8937-4966-afd1-a1e8c2714766",
   "metadata": {
    "tags": []
   },
   "outputs": [
    {
     "data": {
      "text/html": [
       "<div>\n",
       "<style scoped>\n",
       "    .dataframe tbody tr th:only-of-type {\n",
       "        vertical-align: middle;\n",
       "    }\n",
       "\n",
       "    .dataframe tbody tr th {\n",
       "        vertical-align: top;\n",
       "    }\n",
       "\n",
       "    .dataframe thead th {\n",
       "        text-align: right;\n",
       "    }\n",
       "</style>\n",
       "<table border=\"1\" class=\"dataframe\">\n",
       "  <thead>\n",
       "    <tr style=\"text-align: right;\">\n",
       "      <th></th>\n",
       "      <th>0</th>\n",
       "      <th>1</th>\n",
       "      <th>2</th>\n",
       "      <th>3</th>\n",
       "      <th>4</th>\n",
       "      <th>5</th>\n",
       "    </tr>\n",
       "  </thead>\n",
       "  <tbody>\n",
       "    <tr>\n",
       "      <th>0</th>\n",
       "      <td>14</td>\n",
       "      <td>8</td>\n",
       "      <td>1</td>\n",
       "      <td>None</td>\n",
       "      <td>None</td>\n",
       "      <td>None</td>\n",
       "    </tr>\n",
       "    <tr>\n",
       "      <th>2</th>\n",
       "      <td>14</td>\n",
       "      <td>8</td>\n",
       "      <td>1</td>\n",
       "      <td>None</td>\n",
       "      <td>None</td>\n",
       "      <td>None</td>\n",
       "    </tr>\n",
       "    <tr>\n",
       "      <th>3</th>\n",
       "      <td>14</td>\n",
       "      <td>8</td>\n",
       "      <td>1</td>\n",
       "      <td>None</td>\n",
       "      <td>None</td>\n",
       "      <td>None</td>\n",
       "    </tr>\n",
       "    <tr>\n",
       "      <th>6</th>\n",
       "      <td>14</td>\n",
       "      <td>8</td>\n",
       "      <td>1</td>\n",
       "      <td>None</td>\n",
       "      <td>None</td>\n",
       "      <td>None</td>\n",
       "    </tr>\n",
       "    <tr>\n",
       "      <th>7</th>\n",
       "      <td>14</td>\n",
       "      <td>8</td>\n",
       "      <td>1</td>\n",
       "      <td>None</td>\n",
       "      <td>None</td>\n",
       "      <td>None</td>\n",
       "    </tr>\n",
       "    <tr>\n",
       "      <th>...</th>\n",
       "      <td>...</td>\n",
       "      <td>...</td>\n",
       "      <td>...</td>\n",
       "      <td>...</td>\n",
       "      <td>...</td>\n",
       "      <td>...</td>\n",
       "    </tr>\n",
       "    <tr>\n",
       "      <th>721498</th>\n",
       "      <td>99</td>\n",
       "      <td>0</td>\n",
       "      <td>4844</td>\n",
       "      <td>58</td>\n",
       "      <td>None</td>\n",
       "      <td>None</td>\n",
       "    </tr>\n",
       "    <tr>\n",
       "      <th>721499</th>\n",
       "      <td>99</td>\n",
       "      <td>0</td>\n",
       "      <td>4844</td>\n",
       "      <td>58</td>\n",
       "      <td>None</td>\n",
       "      <td>None</td>\n",
       "    </tr>\n",
       "    <tr>\n",
       "      <th>721500</th>\n",
       "      <td>99</td>\n",
       "      <td>0</td>\n",
       "      <td>4844</td>\n",
       "      <td>58</td>\n",
       "      <td>None</td>\n",
       "      <td>None</td>\n",
       "    </tr>\n",
       "    <tr>\n",
       "      <th>721501</th>\n",
       "      <td>99</td>\n",
       "      <td>0</td>\n",
       "      <td>4844</td>\n",
       "      <td>58</td>\n",
       "      <td>None</td>\n",
       "      <td>None</td>\n",
       "    </tr>\n",
       "    <tr>\n",
       "      <th>721502</th>\n",
       "      <td>99</td>\n",
       "      <td>0</td>\n",
       "      <td>4844</td>\n",
       "      <td>58</td>\n",
       "      <td>None</td>\n",
       "      <td>None</td>\n",
       "    </tr>\n",
       "  </tbody>\n",
       "</table>\n",
       "<p>373686 rows × 6 columns</p>\n",
       "</div>"
      ],
      "text/plain": [
       "         0  1     2     3     4     5\n",
       "0       14  8     1  None  None  None\n",
       "2       14  8     1  None  None  None\n",
       "3       14  8     1  None  None  None\n",
       "6       14  8     1  None  None  None\n",
       "7       14  8     1  None  None  None\n",
       "...     .. ..   ...   ...   ...   ...\n",
       "721498  99  0  4844    58  None  None\n",
       "721499  99  0  4844    58  None  None\n",
       "721500  99  0  4844    58  None  None\n",
       "721501  99  0  4844    58  None  None\n",
       "721502  99  0  4844    58  None  None\n",
       "\n",
       "[373686 rows x 6 columns]"
      ]
     },
     "execution_count": 174,
     "metadata": {},
     "output_type": "execute_result"
    }
   ],
   "source": [
    "# third_parties[[\"major\", \"minor\", \"patch\", \"subpatch\"]] = third_parties['browserversion'].apply(lambda x: \n",
    "                                                                                               # pd.Series([int(i) for i in x.split('.')]))\n",
    "# third_parties\n",
    "third_parties['browserversion'].str.split('.', expand=True)"
   ]
  },
  {
   "cell_type": "code",
   "execution_count": 90,
   "id": "f9fbd7ce-5065-4047-9151-8abbfd685d1e",
   "metadata": {
    "tags": []
   },
   "outputs": [
    {
     "data": {
      "text/plain": [
       "tuple"
      ]
     },
     "execution_count": 90,
     "metadata": {},
     "output_type": "execute_result"
    }
   ],
   "source": []
  },
  {
   "cell_type": "code",
   "execution_count": 210,
   "id": "f1a426c2-c677-4d91-af8d-e33784106778",
   "metadata": {
    "tags": []
   },
   "outputs": [],
   "source": [
    "found = False\n",
    "while not found:\n",
    "    random_hh_id = np.random.choice(third_parties['hh_id'])\n",
    "    random_h = third_parties[third_parties['hh_id']==random_hh_id]\n",
    "    if random_h['iiqid'].nunique() > 3:\n",
    "        found = True"
   ]
  },
  {
   "cell_type": "code",
   "execution_count": 211,
   "id": "ac51bbf1-60d4-49d9-a1be-b0ae614b4d0d",
   "metadata": {
    "tags": []
   },
   "outputs": [
    {
     "data": {
      "text/plain": [
       "<Axes: xlabel='browser', ylabel='count'>"
      ]
     },
     "execution_count": 211,
     "metadata": {},
     "output_type": "execute_result"
    },
    {
     "data": {
      "image/png": "[encoded data removed]",
      "text/plain": [
       "<Figure size 640x480 with 1 Axes>"
      ]
     },
     "metadata": {},
     "output_type": "display_data"
    }
   ],
   "source": [
    "sns.countplot(data=random_h, x='browser', hue='os')"
   ]
  },
  {
   "cell_type": "code",
   "execution_count": 230,
   "id": "165c87cc-9709-49c9-bf97-596f48d94a1e",
   "metadata": {
    "tags": []
   },
   "outputs": [
    {
     "data": {
      "text/plain": [
       "<Axes: xlabel='timestamp', ylabel='browserversion'>"
      ]
     },
     "execution_count": 230,
     "metadata": {},
     "output_type": "execute_result"
    },
    {
     "data": {
      "image/png": "[encoded data removed]",
      "text/plain": [
       "<Figure size 640x480 with 1 Axes>"
      ]
     },
     "metadata": {},
     "output_type": "display_data"
    }
   ],
   "source": [
    "one_browser = random_h[random_h['browser']=='chrome mobile']\n",
    "\n",
    "def is_rounded(version):\n",
    "    return all(int(i) == 0 for i in version.split('.')[1:])\n",
    "\n",
    "round_versions = one_browser[one_browser['browserversion'].apply(is_rounded)]\n",
    "detailed_version = one_browser[~one_browser['browserversion'].apply(is_rounded)]\n",
    "\n",
    "sns.lineplot(data=detailed_version.sort_values('browserversion'), x='timestamp', y='browserversion', hue='iiqid')"
   ]
  },
  {
   "cell_type": "code",
   "execution_count": 231,
   "id": "bbe68b70-1222-4346-94a6-cbfaadfd97cc",
   "metadata": {
    "tags": []
   },
   "outputs": [
    {
     "name": "stderr",
     "output_type": "stream",
     "text": [
      "/var/folders/nw/8w_76z_n6fz418hmsps2_rq40000gn/T/ipykernel_49304/609253270.py:2: SettingWithCopyWarning: \n",
      "A value is trying to be set on a copy of a slice from a DataFrame.\n",
      "Try using .loc[row_indexer,col_indexer] = value instead\n",
      "\n",
      "See the caveats in the documentation: https://pandas.pydata.org/pandas-docs/stable/user_guide/indexing.html#returning-a-view-versus-a-copy\n",
      "  detailed_version[['v1', 'v2', 'v3', 'v4']] = detailed_version['browserversion'].str.split('.', expand=True).to_numpy()\n",
      "/var/folders/nw/8w_76z_n6fz418hmsps2_rq40000gn/T/ipykernel_49304/609253270.py:2: SettingWithCopyWarning: \n",
      "A value is trying to be set on a copy of a slice from a DataFrame.\n",
      "Try using .loc[row_indexer,col_indexer] = value instead\n",
      "\n",
      "See the caveats in the documentation: https://pandas.pydata.org/pandas-docs/stable/user_guide/indexing.html#returning-a-view-versus-a-copy\n",
      "  detailed_version[['v1', 'v2', 'v3', 'v4']] = detailed_version['browserversion'].str.split('.', expand=True).to_numpy()\n",
      "/var/folders/nw/8w_76z_n6fz418hmsps2_rq40000gn/T/ipykernel_49304/609253270.py:2: SettingWithCopyWarning: \n",
      "A value is trying to be set on a copy of a slice from a DataFrame.\n",
      "Try using .loc[row_indexer,col_indexer] = value instead\n",
      "\n",
      "See the caveats in the documentation: https://pandas.pydata.org/pandas-docs/stable/user_guide/indexing.html#returning-a-view-versus-a-copy\n",
      "  detailed_version[['v1', 'v2', 'v3', 'v4']] = detailed_version['browserversion'].str.split('.', expand=True).to_numpy()\n",
      "/var/folders/nw/8w_76z_n6fz418hmsps2_rq40000gn/T/ipykernel_49304/609253270.py:2: SettingWithCopyWarning: \n",
      "A value is trying to be set on a copy of a slice from a DataFrame.\n",
      "Try using .loc[row_indexer,col_indexer] = value instead\n",
      "\n",
      "See the caveats in the documentation: https://pandas.pydata.org/pandas-docs/stable/user_guide/indexing.html#returning-a-view-versus-a-copy\n",
      "  detailed_version[['v1', 'v2', 'v3', 'v4']] = detailed_version['browserversion'].str.split('.', expand=True).to_numpy()\n"
     ]
    }
   ],
   "source": [
    "# browsers_version = \n",
    "detailed_version[['v1', 'v2', 'v3', 'v4']] = detailed_version['browserversion'].str.split('.', expand=True).to_numpy()"
   ]
  },
  {
   "cell_type": "code",
   "execution_count": 241,
   "id": "f2b0483a-29a7-42bc-a081-45053951e250",
   "metadata": {
    "tags": []
   },
   "outputs": [
    {
     "data": {
      "text/plain": [
       "<Axes: xlabel='timestamp', ylabel='browserversion'>"
      ]
     },
     "execution_count": 241,
     "metadata": {},
     "output_type": "execute_result"
    },
    {
     "data": {
      "image/png": "[encoded data removed]",
      "text/plain": [
       "<Figure size 640x480 with 1 Axes>"
      ]
     },
     "metadata": {},
     "output_type": "display_data"
    }
   ],
   "source": [
    "plot_order = detailed_version.sort_values(['v1','v2','v3','v4'], ascending=False)\n",
    "sns.lineplot(data=plot_order, x='timestamp', y='browserversion', hue='iiqid')"
   ]
  },
  {
   "cell_type": "code",
   "execution_count": 142,
   "id": "8dd76dad-fea9-43df-8622-c0d7a7950abf",
   "metadata": {
    "tags": []
   },
   "outputs": [
    {
     "data": {
      "text/plain": [
       "array([(108, 0, 5359, 128), (109, 0, 5414, 85), (109, 0, 5414, 86),\n",
       "       (109, 0, 5414, 117), (109, 0, 5414, 118)], dtype=object)"
      ]
     },
     "execution_count": 142,
     "metadata": {},
     "output_type": "execute_result"
    }
   ],
   "source": [
    "sorted_by_version = random_h[(random_h['maid']==4) & (random_h['os']=='android')].sort_values('browserversions')\n",
    "# g = sns.lineplot(data=sorted_by_version, x='timestamp', y=sorted_by_version.index, sort=False, hue='iiqid')\n",
    "# g.set_yticklabels(labels=[str(v) for v in sorted_by_version['browserversions']]);\n",
    "sorted_by_version.browserversions.unique()"
   ]
  },
  {
   "cell_type": "code",
   "execution_count": null,
   "id": "86fab1eb-27db-4d5b-9e4b-4fa8e4e3537e",
   "metadata": {},
   "outputs": [],
   "source": []
  },
  {
   "cell_type": "code",
   "execution_count": 16,
   "id": "0bc29186-4c49-4518-91d8-4c25815ea315",
   "metadata": {},
   "outputs": [
    {
     "ename": "NameError",
     "evalue": "name 'user_ids' is not defined",
     "output_type": "error",
     "traceback": [
      "\u001b[0;31m---------------------------------------------------------------------------\u001b[0m",
      "\u001b[0;31mNameError\u001b[0m                                 Traceback (most recent call last)",
      "Cell \u001b[0;32mIn[16], line 2\u001b[0m\n\u001b[1;32m      1\u001b[0m \u001b[38;5;66;03m# create a new column for each user that contains the browser version\u001b[39;00m\n\u001b[0;32m----> 2\u001b[0m \u001b[38;5;28;01mfor\u001b[39;00m i \u001b[38;5;129;01min\u001b[39;00m \u001b[43muser_ids\u001b[49m:\n\u001b[1;32m      3\u001b[0m     user_df \u001b[38;5;241m=\u001b[39m df[df[\u001b[38;5;124m'\u001b[39m\u001b[38;5;124muser_id\u001b[39m\u001b[38;5;124m'\u001b[39m] \u001b[38;5;241m==\u001b[39m user_id]\n\u001b[1;32m      4\u001b[0m     browser_versions \u001b[38;5;241m=\u001b[39m user_df[\u001b[38;5;124m'\u001b[39m\u001b[38;5;124mbrowser_version\u001b[39m\u001b[38;5;124m'\u001b[39m]\u001b[38;5;241m.\u001b[39mstr\u001b[38;5;241m.\u001b[39msplit(\u001b[38;5;124m'\u001b[39m\u001b[38;5;124m \u001b[39m\u001b[38;5;124m'\u001b[39m, expand\u001b[38;5;241m=\u001b[39m\u001b[38;5;28;01mTrue\u001b[39;00m)[\u001b[38;5;241m1\u001b[39m]\u001b[38;5;241m.\u001b[39mstr\u001b[38;5;241m.\u001b[39msplit(\u001b[38;5;124m'\u001b[39m\u001b[38;5;124m.\u001b[39m\u001b[38;5;124m'\u001b[39m, expand\u001b[38;5;241m=\u001b[39m\u001b[38;5;28;01mTrue\u001b[39;00m)\n",
      "\u001b[0;31mNameError\u001b[0m: name 'user_ids' is not defined"
     ]
    }
   ],
   "source": [
    "# create a new column for each user that contains the browser version\n",
    "for i in user_ids:\n",
    "    user_df = df[df['user_id'] == user_id]\n",
    "    browser_versions = user_df['browser_version'].str.split(' ', expand=True)[1].str.split('.', expand=True)\n",
    "    browser_versions = browser_versions.astype(int)\n",
    "    for i in range(1, 4):\n",
    "        zero_mask = browser_versions[i] == 0\n",
    "        next_subversion = browser_versions[i][~zero_mask].shift(-1)\n",
    "        browser_versions[i][zero_mask] = next_subversion[zero_mask]\n",
    "    df.loc[df['user_id'] == user_id, ['major', 'minor', 'patch', 'subpatch']] = browser_versions.values"
   ]
  },
  {
   "cell_type": "code",
   "execution_count": 17,
   "id": "6df05352-2897-43b5-bc94-04691c652ec2",
   "metadata": {},
   "outputs": [],
   "source": [
    "# browser_versions = third_parties['browserversion'].str.split(' ', expand=True)[1].str.split('.', expand=True)\n",
    "one_row = third_parties.iloc[0]"
   ]
  },
  {
   "cell_type": "code",
   "execution_count": 47,
   "id": "ada383ec-4715-43c2-b3af-b4a527f9fda6",
   "metadata": {
    "tags": []
   },
   "outputs": [],
   "source": [
    "bv = [int(i) for i in one_row['browserversion'].split('.')]"
   ]
  },
  {
   "cell_type": "code",
   "execution_count": 63,
   "id": "bf185c47-4f21-4c08-854c-482fb254fe6a",
   "metadata": {
    "tags": []
   },
   "outputs": [],
   "source": [
    "# third_parties.drop('broswerversions', inplace=True)\n",
    "# third_parties[third_parties['browserversion'].apply(lambda x: isinstance(x, float))]\n",
    "# # third_parties"
   ]
  },
  {
   "cell_type": "code",
   "execution_count": 67,
   "id": "de85f47b-73a6-4df0-9049-4e3fdbe8c213",
   "metadata": {
    "tags": []
   },
   "outputs": [
    {
     "ename": "KeyError",
     "evalue": "'broswerversions'",
     "output_type": "error",
     "traceback": [
      "\u001b[0;31m---------------------------------------------------------------------------\u001b[0m",
      "\u001b[0;31mKeyError\u001b[0m                                  Traceback (most recent call last)",
      "Cell \u001b[0;32mIn[67], line 1\u001b[0m\n\u001b[0;32m----> 1\u001b[0m sns\u001b[38;5;241m.\u001b[39mlineplot(data\u001b[38;5;241m=\u001b[39m\u001b[43mrandom_h\u001b[49m\u001b[43m[\u001b[49m\u001b[43mrandom_h\u001b[49m\u001b[43m[\u001b[49m\u001b[38;5;124;43m'\u001b[39;49m\u001b[38;5;124;43mos\u001b[39;49m\u001b[38;5;124;43m'\u001b[39;49m\u001b[43m]\u001b[49m\u001b[38;5;241;43m==\u001b[39;49m\u001b[38;5;124;43m'\u001b[39;49m\u001b[38;5;124;43mandroid\u001b[39;49m\u001b[38;5;124;43m'\u001b[39;49m\u001b[43m]\u001b[49m\u001b[38;5;241;43m.\u001b[39;49m\u001b[43msort_values\u001b[49m\u001b[43m(\u001b[49m\u001b[38;5;124;43m'\u001b[39;49m\u001b[38;5;124;43mbroswerversions\u001b[39;49m\u001b[38;5;124;43m'\u001b[39;49m\u001b[43m)\u001b[49m, x\u001b[38;5;241m=\u001b[39m\u001b[38;5;124m'\u001b[39m\u001b[38;5;124mtimestamp\u001b[39m\u001b[38;5;124m'\u001b[39m, y\u001b[38;5;241m=\u001b[39m\u001b[38;5;124m'\u001b[39m\u001b[38;5;124mbroswerversions\u001b[39m\u001b[38;5;124m'\u001b[39m, hue\u001b[38;5;241m=\u001b[39m\u001b[38;5;124m'\u001b[39m\u001b[38;5;124miiqid\u001b[39m\u001b[38;5;124m'\u001b[39m)\n",
      "File \u001b[0;32m~/.pyenv/versions/3.10.10/envs/merge/lib/python3.10/site-packages/pandas/util/_decorators.py:331\u001b[0m, in \u001b[0;36mdeprecate_nonkeyword_arguments.<locals>.decorate.<locals>.wrapper\u001b[0;34m(*args, **kwargs)\u001b[0m\n\u001b[1;32m    325\u001b[0m \u001b[38;5;28;01mif\u001b[39;00m \u001b[38;5;28mlen\u001b[39m(args) \u001b[38;5;241m>\u001b[39m num_allow_args:\n\u001b[1;32m    326\u001b[0m     warnings\u001b[38;5;241m.\u001b[39mwarn(\n\u001b[1;32m    327\u001b[0m         msg\u001b[38;5;241m.\u001b[39mformat(arguments\u001b[38;5;241m=\u001b[39m_format_argument_list(allow_args)),\n\u001b[1;32m    328\u001b[0m         \u001b[38;5;167;01mFutureWarning\u001b[39;00m,\n\u001b[1;32m    329\u001b[0m         stacklevel\u001b[38;5;241m=\u001b[39mfind_stack_level(),\n\u001b[1;32m    330\u001b[0m     )\n\u001b[0;32m--> 331\u001b[0m \u001b[38;5;28;01mreturn\u001b[39;00m \u001b[43mfunc\u001b[49m\u001b[43m(\u001b[49m\u001b[38;5;241;43m*\u001b[39;49m\u001b[43margs\u001b[49m\u001b[43m,\u001b[49m\u001b[43m \u001b[49m\u001b[38;5;241;43m*\u001b[39;49m\u001b[38;5;241;43m*\u001b[39;49m\u001b[43mkwargs\u001b[49m\u001b[43m)\u001b[49m\n",
      "File \u001b[0;32m~/.pyenv/versions/3.10.10/envs/merge/lib/python3.10/site-packages/pandas/core/frame.py:6912\u001b[0m, in \u001b[0;36mDataFrame.sort_values\u001b[0;34m(self, by, axis, ascending, inplace, kind, na_position, ignore_index, key)\u001b[0m\n\u001b[1;32m   6908\u001b[0m \u001b[38;5;28;01melif\u001b[39;00m \u001b[38;5;28mlen\u001b[39m(by):\n\u001b[1;32m   6909\u001b[0m     \u001b[38;5;66;03m# len(by) == 1\u001b[39;00m\n\u001b[1;32m   6911\u001b[0m     by \u001b[38;5;241m=\u001b[39m by[\u001b[38;5;241m0\u001b[39m]\n\u001b[0;32m-> 6912\u001b[0m     k \u001b[38;5;241m=\u001b[39m \u001b[38;5;28;43mself\u001b[39;49m\u001b[38;5;241;43m.\u001b[39;49m\u001b[43m_get_label_or_level_values\u001b[49m\u001b[43m(\u001b[49m\u001b[43mby\u001b[49m\u001b[43m,\u001b[49m\u001b[43m \u001b[49m\u001b[43maxis\u001b[49m\u001b[38;5;241;43m=\u001b[39;49m\u001b[43maxis\u001b[49m\u001b[43m)\u001b[49m\n\u001b[1;32m   6914\u001b[0m     \u001b[38;5;66;03m# need to rewrap column in Series to apply key function\u001b[39;00m\n\u001b[1;32m   6915\u001b[0m     \u001b[38;5;28;01mif\u001b[39;00m key \u001b[38;5;129;01mis\u001b[39;00m \u001b[38;5;129;01mnot\u001b[39;00m \u001b[38;5;28;01mNone\u001b[39;00m:\n\u001b[1;32m   6916\u001b[0m         \u001b[38;5;66;03m# error: Incompatible types in assignment (expression has type\u001b[39;00m\n\u001b[1;32m   6917\u001b[0m         \u001b[38;5;66;03m# \"Series\", variable has type \"ndarray\")\u001b[39;00m\n",
      "File \u001b[0;32m~/.pyenv/versions/3.10.10/envs/merge/lib/python3.10/site-packages/pandas/core/generic.py:1850\u001b[0m, in \u001b[0;36mNDFrame._get_label_or_level_values\u001b[0;34m(self, key, axis)\u001b[0m\n\u001b[1;32m   1844\u001b[0m     values \u001b[38;5;241m=\u001b[39m (\n\u001b[1;32m   1845\u001b[0m         \u001b[38;5;28mself\u001b[39m\u001b[38;5;241m.\u001b[39maxes[axis]\n\u001b[1;32m   1846\u001b[0m         \u001b[38;5;241m.\u001b[39mget_level_values(key)  \u001b[38;5;66;03m# type: ignore[assignment]\u001b[39;00m\n\u001b[1;32m   1847\u001b[0m         \u001b[38;5;241m.\u001b[39m_values\n\u001b[1;32m   1848\u001b[0m     )\n\u001b[1;32m   1849\u001b[0m \u001b[38;5;28;01melse\u001b[39;00m:\n\u001b[0;32m-> 1850\u001b[0m     \u001b[38;5;28;01mraise\u001b[39;00m \u001b[38;5;167;01mKeyError\u001b[39;00m(key)\n\u001b[1;32m   1852\u001b[0m \u001b[38;5;66;03m# Check for duplicates\u001b[39;00m\n\u001b[1;32m   1853\u001b[0m \u001b[38;5;28;01mif\u001b[39;00m values\u001b[38;5;241m.\u001b[39mndim \u001b[38;5;241m>\u001b[39m \u001b[38;5;241m1\u001b[39m:\n",
      "\u001b[0;31mKeyError\u001b[0m: 'broswerversions'"
     ]
    }
   ],
   "source": [
    "sns.lineplot(data=random_h[random_h['os']=='android'].sort_values('broswerversions'), x='timestamp', y='broswerversions', hue='iiqid')"
   ]
  },
  {
   "cell_type": "code",
   "execution_count": 245,
   "id": "de6dfcb6-6370-4926-9650-691ef5d7954f",
   "metadata": {
    "tags": []
   },
   "outputs": [
    {
     "data": {
      "text/plain": [
       "pandas.core.series.Series"
      ]
     },
     "execution_count": 245,
     "metadata": {},
     "output_type": "execute_result"
    }
   ],
   "source": [
    "type(third_parties.iloc[0])"
   ]
  },
  {
   "cell_type": "code",
   "execution_count": 20,
   "id": "5b89e548-f269-422c-8b57-5409724ac69e",
   "metadata": {},
   "outputs": [
    {
     "data": {
      "text/html": [
       "<div>\n",
       "<style scoped>\n",
       "    .dataframe tbody tr th:only-of-type {\n",
       "        vertical-align: middle;\n",
       "    }\n",
       "\n",
       "    .dataframe tbody tr th {\n",
       "        vertical-align: top;\n",
       "    }\n",
       "\n",
       "    .dataframe thead th {\n",
       "        text-align: right;\n",
       "    }\n",
       "</style>\n",
       "<table border=\"1\" class=\"dataframe\">\n",
       "  <thead>\n",
       "    <tr style=\"text-align: right;\">\n",
       "      <th></th>\n",
       "      <th>timestamp</th>\n",
       "      <th>iiqid</th>\n",
       "      <th>hh_id</th>\n",
       "      <th>maid</th>\n",
       "      <th>partner_id</th>\n",
       "      <th>ip</th>\n",
       "      <th>iscellip</th>\n",
       "      <th>cellispid</th>\n",
       "      <th>domain</th>\n",
       "      <th>is_house_ip_or_source_ip</th>\n",
       "      <th>brand</th>\n",
       "      <th>model</th>\n",
       "      <th>os</th>\n",
       "      <th>osversion</th>\n",
       "      <th>browser</th>\n",
       "      <th>advertisedbrowser</th>\n",
       "      <th>browserversion</th>\n",
       "      <th>type</th>\n",
       "      <th>is_best_ip</th>\n",
       "      <th>time</th>\n",
       "    </tr>\n",
       "  </thead>\n",
       "  <tbody>\n",
       "    <tr>\n",
       "      <th>422949</th>\n",
       "      <td>1672629481072</td>\n",
       "      <td>oG3ObsTuCY</td>\n",
       "      <td>000l1YGl4d</td>\n",
       "      <td>4</td>\n",
       "      <td>14</td>\n",
       "      <td>411766146</td>\n",
       "      <td>False</td>\n",
       "      <td>884881265</td>\n",
       "      <td>-438857959</td>\n",
       "      <td>False</td>\n",
       "      <td>lg</td>\n",
       "      <td>lm-g900</td>\n",
       "      <td>android</td>\n",
       "      <td>12</td>\n",
       "      <td>chrome mobile</td>\n",
       "      <td>Chromium</td>\n",
       "      <td>108.0.5359.128</td>\n",
       "      <td>smartphone</td>\n",
       "      <td>False</td>\n",
       "      <td>2023-01-02 03:18:01.072</td>\n",
       "    </tr>\n",
       "    <tr>\n",
       "      <th>422950</th>\n",
       "      <td>1672627726378</td>\n",
       "      <td>oG3ObsTuCY</td>\n",
       "      <td>000l1YGl4d</td>\n",
       "      <td>4</td>\n",
       "      <td>14</td>\n",
       "      <td>411766146</td>\n",
       "      <td>False</td>\n",
       "      <td>884881265</td>\n",
       "      <td>128770977</td>\n",
       "      <td>False</td>\n",
       "      <td>lg</td>\n",
       "      <td>lm-g900</td>\n",
       "      <td>android</td>\n",
       "      <td>12</td>\n",
       "      <td>chrome mobile</td>\n",
       "      <td>Chromium</td>\n",
       "      <td>108.0.5359.128</td>\n",
       "      <td>smartphone</td>\n",
       "      <td>False</td>\n",
       "      <td>2023-01-02 02:48:46.378</td>\n",
       "    </tr>\n",
       "    <tr>\n",
       "      <th>422951</th>\n",
       "      <td>1672592622540</td>\n",
       "      <td>oG3ObsTuCY</td>\n",
       "      <td>000l1YGl4d</td>\n",
       "      <td>4</td>\n",
       "      <td>14</td>\n",
       "      <td>411766146</td>\n",
       "      <td>False</td>\n",
       "      <td>884881265</td>\n",
       "      <td>42076556</td>\n",
       "      <td>False</td>\n",
       "      <td>lg</td>\n",
       "      <td>lm-g900</td>\n",
       "      <td>android</td>\n",
       "      <td>12</td>\n",
       "      <td>chrome mobile</td>\n",
       "      <td>Chromium</td>\n",
       "      <td>108.0.5359.128</td>\n",
       "      <td>smartphone</td>\n",
       "      <td>False</td>\n",
       "      <td>2023-01-01 17:03:42.540</td>\n",
       "    </tr>\n",
       "    <tr>\n",
       "      <th>422952</th>\n",
       "      <td>1672592223367</td>\n",
       "      <td>oG3ObsTuCY</td>\n",
       "      <td>000l1YGl4d</td>\n",
       "      <td>4</td>\n",
       "      <td>14</td>\n",
       "      <td>411766146</td>\n",
       "      <td>False</td>\n",
       "      <td>884881265</td>\n",
       "      <td>42076556</td>\n",
       "      <td>False</td>\n",
       "      <td>lg</td>\n",
       "      <td>lm-g900</td>\n",
       "      <td>android</td>\n",
       "      <td>12</td>\n",
       "      <td>chrome mobile</td>\n",
       "      <td>Chromium</td>\n",
       "      <td>108.0.5359.128</td>\n",
       "      <td>smartphone</td>\n",
       "      <td>False</td>\n",
       "      <td>2023-01-01 16:57:03.367</td>\n",
       "    </tr>\n",
       "    <tr>\n",
       "      <th>422953</th>\n",
       "      <td>1672592065590</td>\n",
       "      <td>oG3ObsTuCY</td>\n",
       "      <td>000l1YGl4d</td>\n",
       "      <td>4</td>\n",
       "      <td>14</td>\n",
       "      <td>411766146</td>\n",
       "      <td>False</td>\n",
       "      <td>884881265</td>\n",
       "      <td>42076556</td>\n",
       "      <td>False</td>\n",
       "      <td>lg</td>\n",
       "      <td>lm-g900</td>\n",
       "      <td>android</td>\n",
       "      <td>12</td>\n",
       "      <td>chrome mobile</td>\n",
       "      <td>Chromium</td>\n",
       "      <td>108.0.5359.128</td>\n",
       "      <td>smartphone</td>\n",
       "      <td>False</td>\n",
       "      <td>2023-01-01 16:54:25.590</td>\n",
       "    </tr>\n",
       "    <tr>\n",
       "      <th>...</th>\n",
       "      <td>...</td>\n",
       "      <td>...</td>\n",
       "      <td>...</td>\n",
       "      <td>...</td>\n",
       "      <td>...</td>\n",
       "      <td>...</td>\n",
       "      <td>...</td>\n",
       "      <td>...</td>\n",
       "      <td>...</td>\n",
       "      <td>...</td>\n",
       "      <td>...</td>\n",
       "      <td>...</td>\n",
       "      <td>...</td>\n",
       "      <td>...</td>\n",
       "      <td>...</td>\n",
       "      <td>...</td>\n",
       "      <td>...</td>\n",
       "      <td>...</td>\n",
       "      <td>...</td>\n",
       "      <td>...</td>\n",
       "    </tr>\n",
       "    <tr>\n",
       "      <th>424119</th>\n",
       "      <td>1670931859851</td>\n",
       "      <td>YoaGKjHIjG</td>\n",
       "      <td>000l1YGl4d</td>\n",
       "      <td>7</td>\n",
       "      <td>14</td>\n",
       "      <td>2390118241</td>\n",
       "      <td>False</td>\n",
       "      <td>195387531</td>\n",
       "      <td>720825214</td>\n",
       "      <td>False</td>\n",
       "      <td>google</td>\n",
       "      <td>chrome</td>\n",
       "      <td>windows</td>\n",
       "      <td>8.1</td>\n",
       "      <td>chrome desktop</td>\n",
       "      <td>Chrome</td>\n",
       "      <td>108.0.0.0</td>\n",
       "      <td>desktop</td>\n",
       "      <td>False</td>\n",
       "      <td>2022-12-13 11:44:19.851</td>\n",
       "    </tr>\n",
       "    <tr>\n",
       "      <th>424120</th>\n",
       "      <td>1670676577987</td>\n",
       "      <td>YoaGKjHIjG</td>\n",
       "      <td>000l1YGl4d</td>\n",
       "      <td>7</td>\n",
       "      <td>15131</td>\n",
       "      <td>1168058174</td>\n",
       "      <td>False</td>\n",
       "      <td>195387531</td>\n",
       "      <td>1967261364</td>\n",
       "      <td>False</td>\n",
       "      <td>google</td>\n",
       "      <td>chrome</td>\n",
       "      <td>windows</td>\n",
       "      <td>8.1</td>\n",
       "      <td>chrome desktop</td>\n",
       "      <td>Chrome</td>\n",
       "      <td>108.0.0.0</td>\n",
       "      <td>desktop</td>\n",
       "      <td>False</td>\n",
       "      <td>2022-12-10 12:49:37.987</td>\n",
       "    </tr>\n",
       "    <tr>\n",
       "      <th>424121</th>\n",
       "      <td>1670676577184</td>\n",
       "      <td>YoaGKjHIjG</td>\n",
       "      <td>000l1YGl4d</td>\n",
       "      <td>7</td>\n",
       "      <td>15119</td>\n",
       "      <td>1168058174</td>\n",
       "      <td>False</td>\n",
       "      <td>195387531</td>\n",
       "      <td>1967261364</td>\n",
       "      <td>False</td>\n",
       "      <td>google</td>\n",
       "      <td>chrome</td>\n",
       "      <td>windows</td>\n",
       "      <td>8.1</td>\n",
       "      <td>chrome desktop</td>\n",
       "      <td>Chrome</td>\n",
       "      <td>108.0.0.0</td>\n",
       "      <td>desktop</td>\n",
       "      <td>False</td>\n",
       "      <td>2022-12-10 12:49:37.184</td>\n",
       "    </tr>\n",
       "    <tr>\n",
       "      <th>424122</th>\n",
       "      <td>1670676576041</td>\n",
       "      <td>YoaGKjHIjG</td>\n",
       "      <td>000l1YGl4d</td>\n",
       "      <td>7</td>\n",
       "      <td>14</td>\n",
       "      <td>1168058174</td>\n",
       "      <td>False</td>\n",
       "      <td>195387531</td>\n",
       "      <td>1967261364</td>\n",
       "      <td>False</td>\n",
       "      <td>google</td>\n",
       "      <td>chrome</td>\n",
       "      <td>windows</td>\n",
       "      <td>8.1</td>\n",
       "      <td>chrome desktop</td>\n",
       "      <td>Chrome</td>\n",
       "      <td>108.0.0.0</td>\n",
       "      <td>desktop</td>\n",
       "      <td>False</td>\n",
       "      <td>2022-12-10 12:49:36.041</td>\n",
       "    </tr>\n",
       "    <tr>\n",
       "      <th>424123</th>\n",
       "      <td>1670371976250</td>\n",
       "      <td>YoaGKjHIjG</td>\n",
       "      <td>000l1YGl4d</td>\n",
       "      <td>7</td>\n",
       "      <td>14</td>\n",
       "      <td>2390118241</td>\n",
       "      <td>False</td>\n",
       "      <td>195387531</td>\n",
       "      <td>720825214</td>\n",
       "      <td>False</td>\n",
       "      <td>google</td>\n",
       "      <td>chrome</td>\n",
       "      <td>windows</td>\n",
       "      <td>8.1</td>\n",
       "      <td>chrome desktop</td>\n",
       "      <td>Chrome</td>\n",
       "      <td>108.0.0.0</td>\n",
       "      <td>desktop</td>\n",
       "      <td>False</td>\n",
       "      <td>2022-12-07 00:12:56.250</td>\n",
       "    </tr>\n",
       "  </tbody>\n",
       "</table>\n",
       "<p>989 rows × 20 columns</p>\n",
       "</div>"
      ],
      "text/plain": [
       "            timestamp       iiqid       hh_id  maid  partner_id          ip  \\\n",
       "422949  1672629481072  oG3ObsTuCY  000l1YGl4d     4          14   411766146   \n",
       "422950  1672627726378  oG3ObsTuCY  000l1YGl4d     4          14   411766146   \n",
       "422951  1672592622540  oG3ObsTuCY  000l1YGl4d     4          14   411766146   \n",
       "422952  1672592223367  oG3ObsTuCY  000l1YGl4d     4          14   411766146   \n",
       "422953  1672592065590  oG3ObsTuCY  000l1YGl4d     4          14   411766146   \n",
       "...               ...         ...         ...   ...         ...         ...   \n",
       "424119  1670931859851  YoaGKjHIjG  000l1YGl4d     7          14  2390118241   \n",
       "424120  1670676577987  YoaGKjHIjG  000l1YGl4d     7       15131  1168058174   \n",
       "424121  1670676577184  YoaGKjHIjG  000l1YGl4d     7       15119  1168058174   \n",
       "424122  1670676576041  YoaGKjHIjG  000l1YGl4d     7          14  1168058174   \n",
       "424123  1670371976250  YoaGKjHIjG  000l1YGl4d     7          14  2390118241   \n",
       "\n",
       "        iscellip  cellispid      domain  is_house_ip_or_source_ip   brand  \\\n",
       "422949     False  884881265  -438857959                     False      lg   \n",
       "422950     False  884881265   128770977                     False      lg   \n",
       "422951     False  884881265    42076556                     False      lg   \n",
       "422952     False  884881265    42076556                     False      lg   \n",
       "422953     False  884881265    42076556                     False      lg   \n",
       "...          ...        ...         ...                       ...     ...   \n",
       "424119     False  195387531   720825214                     False  google   \n",
       "424120     False  195387531  1967261364                     False  google   \n",
       "424121     False  195387531  1967261364                     False  google   \n",
       "424122     False  195387531  1967261364                     False  google   \n",
       "424123     False  195387531   720825214                     False  google   \n",
       "\n",
       "          model       os osversion         browser advertisedbrowser  \\\n",
       "422949  lm-g900  android        12   chrome mobile          Chromium   \n",
       "422950  lm-g900  android        12   chrome mobile          Chromium   \n",
       "422951  lm-g900  android        12   chrome mobile          Chromium   \n",
       "422952  lm-g900  android        12   chrome mobile          Chromium   \n",
       "422953  lm-g900  android        12   chrome mobile          Chromium   \n",
       "...         ...      ...       ...             ...               ...   \n",
       "424119   chrome  windows       8.1  chrome desktop            Chrome   \n",
       "424120   chrome  windows       8.1  chrome desktop            Chrome   \n",
       "424121   chrome  windows       8.1  chrome desktop            Chrome   \n",
       "424122   chrome  windows       8.1  chrome desktop            Chrome   \n",
       "424123   chrome  windows       8.1  chrome desktop            Chrome   \n",
       "\n",
       "        browserversion        type  is_best_ip                    time  \n",
       "422949  108.0.5359.128  smartphone       False 2023-01-02 03:18:01.072  \n",
       "422950  108.0.5359.128  smartphone       False 2023-01-02 02:48:46.378  \n",
       "422951  108.0.5359.128  smartphone       False 2023-01-01 17:03:42.540  \n",
       "422952  108.0.5359.128  smartphone       False 2023-01-01 16:57:03.367  \n",
       "422953  108.0.5359.128  smartphone       False 2023-01-01 16:54:25.590  \n",
       "...                ...         ...         ...                     ...  \n",
       "424119       108.0.0.0     desktop       False 2022-12-13 11:44:19.851  \n",
       "424120       108.0.0.0     desktop       False 2022-12-10 12:49:37.987  \n",
       "424121       108.0.0.0     desktop       False 2022-12-10 12:49:37.184  \n",
       "424122       108.0.0.0     desktop       False 2022-12-10 12:49:36.041  \n",
       "424123       108.0.0.0     desktop       False 2022-12-07 00:12:56.250  \n",
       "\n",
       "[989 rows x 20 columns]"
      ]
     },
     "execution_count": 20,
     "metadata": {},
     "output_type": "execute_result"
    }
   ],
   "source": [
    "zero_mask = bv[i] == 0\n",
    "next_subversion = bv[i][~zero_mask].shift(-1)\n",
    "browser_versions[i][zero_mask] = next_subversion[zero_mask]"
   ]
  }
 ],
 "metadata": {
  "kernelspec": {
   "display_name": "Python 3 (ipykernel)",
   "language": "python",
   "name": "python3"
  },
  "language_info": {
   "codemirror_mode": {
    "name": "ipython",
    "version": 3
   },
   "file_extension": ".py",
   "mimetype": "text/x-python",
   "name": "python",
   "nbconvert_exporter": "python",
   "pygments_lexer": "ipython3",
   "version": "3.10.9"
  }
 },
 "nbformat": 4,
 "nbformat_minor": 5
}
