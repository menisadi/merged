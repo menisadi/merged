{
 "cells": [
  {
   "cell_type": "code",
   "execution_count": 1,
   "id": "79b4e6bf-b2c3-4d6f-8a06-aac5aa4b7950",
   "metadata": {
    "execution": {
     "iopub.execute_input": "2023-03-13T07:52:23.463910Z",
     "iopub.status.busy": "2023-03-13T07:52:23.463090Z",
     "iopub.status.idle": "2023-03-13T07:52:24.693485Z",
     "shell.execute_reply": "2023-03-13T07:52:24.693197Z",
     "shell.execute_reply.started": "2023-03-13T07:52:23.463831Z"
    },
    "tags": []
   },
   "outputs": [],
   "source": [
    "import numpy as np\n",
    "import pandas as pd\n",
    "import seaborn as sns\n",
    "import matplotlib.pyplot as plt\n",
    "import matplotlib.dates as mdates\n",
    "sns.set(rc={'figure.figsize':(12,5)})\n",
    "%load_ext autoreload\n",
    "%autoreload 2 "
   ]
  },
  {
   "cell_type": "code",
   "execution_count": 239,
   "id": "e8686339-8c10-4c20-bcc4-925e0d77d30e",
   "metadata": {
    "execution": {
     "iopub.execute_input": "2023-03-13T10:37:52.493769Z",
     "iopub.status.busy": "2023-03-13T10:37:52.492806Z",
     "iopub.status.idle": "2023-03-13T10:37:52.524089Z",
     "shell.execute_reply": "2023-03-13T10:37:52.523384Z",
     "shell.execute_reply.started": "2023-03-13T10:37:52.493693Z"
    },
    "tags": []
   },
   "outputs": [],
   "source": [
    "from tqdm import tqdm"
   ]
  },
  {
   "cell_type": "code",
   "execution_count": 119,
   "id": "29c1c2eb-313a-4b0c-9445-5ce1deb0cd72",
   "metadata": {
    "execution": {
     "iopub.execute_input": "2023-03-13T09:18:27.416638Z",
     "iopub.status.busy": "2023-03-13T09:18:27.415771Z",
     "iopub.status.idle": "2023-03-13T09:18:27.446883Z",
     "shell.execute_reply": "2023-03-13T09:18:27.446097Z",
     "shell.execute_reply.started": "2023-03-13T09:18:27.416578Z"
    },
    "tags": []
   },
   "outputs": [],
   "source": [
    "import sys\n",
    "import os\n",
    "import itertools\n",
    "import re\n",
    "from functools import cmp_to_key\n",
    "sys.path.append(os.path.abspath('../modules'))\n",
    "from hard_rules import candidate_cookies, versions_key, compare_versions, trim_version"
   ]
  },
  {
   "cell_type": "code",
   "execution_count": 3,
   "id": "df85c712-94ef-41d3-9d9d-94bb54dda496",
   "metadata": {
    "execution": {
     "iopub.execute_input": "2023-03-13T07:52:27.532003Z",
     "iopub.status.busy": "2023-03-13T07:52:27.531094Z",
     "iopub.status.idle": "2023-03-13T07:52:29.567240Z",
     "shell.execute_reply": "2023-03-13T07:52:29.566593Z",
     "shell.execute_reply.started": "2023-03-13T07:52:27.531938Z"
    },
    "tags": []
   },
   "outputs": [],
   "source": [
    "data = pd.read_parquet(\"../Data/10K_HH.parquet\")"
   ]
  },
  {
   "cell_type": "code",
   "execution_count": 4,
   "id": "b6fdaf01-7cff-46fb-9657-b9c5e08d948c",
   "metadata": {
    "execution": {
     "iopub.execute_input": "2023-03-13T07:52:29.569011Z",
     "iopub.status.busy": "2023-03-13T07:52:29.568575Z",
     "iopub.status.idle": "2023-03-13T07:52:30.311494Z",
     "shell.execute_reply": "2023-03-13T07:52:30.310875Z",
     "shell.execute_reply.started": "2023-03-13T07:52:29.568994Z"
    },
    "tags": []
   },
   "outputs": [],
   "source": [
    "data = data[data[\"maid\"]==7]"
   ]
  },
  {
   "cell_type": "code",
   "execution_count": 5,
   "id": "76286cb0-267a-4492-a14f-f96764e9c9ae",
   "metadata": {
    "execution": {
     "iopub.execute_input": "2023-03-13T07:52:30.312599Z",
     "iopub.status.busy": "2023-03-13T07:52:30.312376Z",
     "iopub.status.idle": "2023-03-13T07:52:32.841071Z",
     "shell.execute_reply": "2023-03-13T07:52:32.840731Z",
     "shell.execute_reply.started": "2023-03-13T07:52:30.312584Z"
    },
    "tags": []
   },
   "outputs": [
    {
     "data": {
      "text/plain": [
       "(2021, 12)         56\n",
       "(2022, 1)         365\n",
       "(2022, 2)          22\n",
       "(2022, 12)    1329060\n",
       "(2023, 1)     1402187\n",
       "(2023, 2)      669026\n",
       "Name: time, dtype: int64"
      ]
     },
     "execution_count": 5,
     "metadata": {},
     "output_type": "execute_result"
    }
   ],
   "source": [
    "data[\"time\"].apply(lambda t: (t.year, t.month)).value_counts().sort_index()"
   ]
  },
  {
   "cell_type": "code",
   "execution_count": 6,
   "id": "fd840e05-8f8e-440e-b538-55d5edf5a2bb",
   "metadata": {
    "execution": {
     "iopub.execute_input": "2023-03-13T07:52:32.842306Z",
     "iopub.status.busy": "2023-03-13T07:52:32.842216Z",
     "iopub.status.idle": "2023-03-13T07:52:33.293825Z",
     "shell.execute_reply": "2023-03-13T07:52:33.293499Z",
     "shell.execute_reply.started": "2023-03-13T07:52:32.842298Z"
    },
    "tags": []
   },
   "outputs": [],
   "source": [
    "data = data[data[\"time\"] >= pd.to_datetime(\"2022-12-01\")]"
   ]
  },
  {
   "cell_type": "code",
   "execution_count": 7,
   "id": "57c92bac-941f-4ed5-938c-d0a6d24026f5",
   "metadata": {
    "execution": {
     "iopub.execute_input": "2023-03-13T07:52:33.294365Z",
     "iopub.status.busy": "2023-03-13T07:52:33.294269Z",
     "iopub.status.idle": "2023-03-13T07:52:34.483377Z",
     "shell.execute_reply": "2023-03-13T07:52:34.482975Z",
     "shell.execute_reply.started": "2023-03-13T07:52:33.294357Z"
    },
    "tags": []
   },
   "outputs": [],
   "source": [
    "pattern = re.compile(r'^\\d+(\\.\\d+)*$')\n",
    "data = data[data.osversion.str.match(pattern)]"
   ]
  },
  {
   "cell_type": "code",
   "execution_count": 8,
   "id": "885ba94a-a20a-462d-b281-e50680289ebf",
   "metadata": {
    "execution": {
     "iopub.execute_input": "2023-03-13T07:52:34.484107Z",
     "iopub.status.busy": "2023-03-13T07:52:34.484002Z",
     "iopub.status.idle": "2023-03-13T07:52:35.965039Z",
     "shell.execute_reply": "2023-03-13T07:52:35.964690Z",
     "shell.execute_reply.started": "2023-03-13T07:52:34.484098Z"
    },
    "tags": []
   },
   "outputs": [],
   "source": [
    "pattern = re.compile(r'^\\d+(\\.\\d+)*$')\n",
    "data = data[data.browserversion.str.match(pattern)]"
   ]
  },
  {
   "cell_type": "code",
   "execution_count": 9,
   "id": "6c80120f-735e-4073-91bd-daff5c59571d",
   "metadata": {
    "execution": {
     "iopub.execute_input": "2023-03-13T07:52:35.965653Z",
     "iopub.status.busy": "2023-03-13T07:52:35.965555Z",
     "iopub.status.idle": "2023-03-13T07:52:38.161821Z",
     "shell.execute_reply": "2023-03-13T07:52:38.161346Z",
     "shell.execute_reply.started": "2023-03-13T07:52:35.965645Z"
    },
    "tags": []
   },
   "outputs": [
    {
     "data": {
      "text/html": [
       "<div>\n",
       "<style scoped>\n",
       "    .dataframe tbody tr th:only-of-type {\n",
       "        vertical-align: middle;\n",
       "    }\n",
       "\n",
       "    .dataframe tbody tr th {\n",
       "        vertical-align: top;\n",
       "    }\n",
       "\n",
       "    .dataframe thead th {\n",
       "        text-align: right;\n",
       "    }\n",
       "</style>\n",
       "<table border=\"1\" class=\"dataframe\">\n",
       "  <thead>\n",
       "    <tr style=\"text-align: right;\">\n",
       "      <th></th>\n",
       "      <th>timestamp</th>\n",
       "      <th>filename</th>\n",
       "      <th>iiqid</th>\n",
       "      <th>hh_id</th>\n",
       "      <th>maid</th>\n",
       "      <th>partner_id</th>\n",
       "      <th>ip</th>\n",
       "      <th>iscellip</th>\n",
       "      <th>cellispid</th>\n",
       "      <th>domain</th>\n",
       "      <th>...</th>\n",
       "      <th>model</th>\n",
       "      <th>os</th>\n",
       "      <th>osversion</th>\n",
       "      <th>browser</th>\n",
       "      <th>advertisedbrowser</th>\n",
       "      <th>browserversion</th>\n",
       "      <th>type</th>\n",
       "      <th>is_best_ip</th>\n",
       "      <th>time</th>\n",
       "      <th>is_hh</th>\n",
       "    </tr>\n",
       "  </thead>\n",
       "  <tbody>\n",
       "    <tr>\n",
       "      <th>5305360</th>\n",
       "      <td>1669852802551</td>\n",
       "      <td>HH_M</td>\n",
       "      <td>WorsfJNhdF</td>\n",
       "      <td>OVfCx6ZAeC</td>\n",
       "      <td>7</td>\n",
       "      <td>10253</td>\n",
       "      <td>1014397863</td>\n",
       "      <td>False</td>\n",
       "      <td>-1793086944</td>\n",
       "      <td>-1297673767</td>\n",
       "      <td>...</td>\n",
       "      <td>edge</td>\n",
       "      <td>windows</td>\n",
       "      <td>10</td>\n",
       "      <td>edge</td>\n",
       "      <td>Edge</td>\n",
       "      <td>107.0.1418.56</td>\n",
       "      <td>desktop</td>\n",
       "      <td>False</td>\n",
       "      <td>2022-12-01 00:00:02.551</td>\n",
       "      <td>True</td>\n",
       "    </tr>\n",
       "    <tr>\n",
       "      <th>274574</th>\n",
       "      <td>1669852802551</td>\n",
       "      <td>HH_M</td>\n",
       "      <td>WorsfJNhdF</td>\n",
       "      <td>OVfCx6ZAeC</td>\n",
       "      <td>7</td>\n",
       "      <td>10253</td>\n",
       "      <td>1014397863</td>\n",
       "      <td>False</td>\n",
       "      <td>-1793086944</td>\n",
       "      <td>-1297673767</td>\n",
       "      <td>...</td>\n",
       "      <td>edge</td>\n",
       "      <td>windows</td>\n",
       "      <td>10</td>\n",
       "      <td>edge</td>\n",
       "      <td>Edge</td>\n",
       "      <td>107.0.1418.56</td>\n",
       "      <td>desktop</td>\n",
       "      <td>False</td>\n",
       "      <td>2022-12-01 00:00:02.551</td>\n",
       "      <td>True</td>\n",
       "    </tr>\n",
       "    <tr>\n",
       "      <th>5799545</th>\n",
       "      <td>1669852815024</td>\n",
       "      <td>NHB_M</td>\n",
       "      <td>xR6Olq5vyY</td>\n",
       "      <td>1096230683</td>\n",
       "      <td>7</td>\n",
       "      <td>14</td>\n",
       "      <td>1096235864</td>\n",
       "      <td>False</td>\n",
       "      <td>-785738892</td>\n",
       "      <td>1632511751</td>\n",
       "      <td>...</td>\n",
       "      <td>sm-g950u</td>\n",
       "      <td>android</td>\n",
       "      <td>9</td>\n",
       "      <td>chrome mobile</td>\n",
       "      <td>Facebook on Android</td>\n",
       "      <td>9</td>\n",
       "      <td>smartphone</td>\n",
       "      <td>False</td>\n",
       "      <td>2022-12-01 00:00:15.024</td>\n",
       "      <td>True</td>\n",
       "    </tr>\n",
       "    <tr>\n",
       "      <th>1884467</th>\n",
       "      <td>1669852821516</td>\n",
       "      <td>HH_M</td>\n",
       "      <td>3bsIDAAL9s</td>\n",
       "      <td>uH94IApkve</td>\n",
       "      <td>7</td>\n",
       "      <td>14</td>\n",
       "      <td>1255127361</td>\n",
       "      <td>False</td>\n",
       "      <td>1891219528</td>\n",
       "      <td>-1545077811</td>\n",
       "      <td>...</td>\n",
       "      <td>chrome</td>\n",
       "      <td>windows</td>\n",
       "      <td>10</td>\n",
       "      <td>chrome desktop</td>\n",
       "      <td>Chrome</td>\n",
       "      <td>108.0.0.0</td>\n",
       "      <td>desktop</td>\n",
       "      <td>False</td>\n",
       "      <td>2022-12-01 00:00:21.516</td>\n",
       "      <td>True</td>\n",
       "    </tr>\n",
       "    <tr>\n",
       "      <th>6016795</th>\n",
       "      <td>1669852821516</td>\n",
       "      <td>HH_M</td>\n",
       "      <td>3bsIDAAL9s</td>\n",
       "      <td>uH94IApkve</td>\n",
       "      <td>7</td>\n",
       "      <td>14</td>\n",
       "      <td>1255127361</td>\n",
       "      <td>False</td>\n",
       "      <td>1891219528</td>\n",
       "      <td>-1545077811</td>\n",
       "      <td>...</td>\n",
       "      <td>chrome</td>\n",
       "      <td>windows</td>\n",
       "      <td>10</td>\n",
       "      <td>chrome desktop</td>\n",
       "      <td>Chrome</td>\n",
       "      <td>108.0.0.0</td>\n",
       "      <td>desktop</td>\n",
       "      <td>False</td>\n",
       "      <td>2022-12-01 00:00:21.516</td>\n",
       "      <td>True</td>\n",
       "    </tr>\n",
       "    <tr>\n",
       "      <th>...</th>\n",
       "      <td>...</td>\n",
       "      <td>...</td>\n",
       "      <td>...</td>\n",
       "      <td>...</td>\n",
       "      <td>...</td>\n",
       "      <td>...</td>\n",
       "      <td>...</td>\n",
       "      <td>...</td>\n",
       "      <td>...</td>\n",
       "      <td>...</td>\n",
       "      <td>...</td>\n",
       "      <td>...</td>\n",
       "      <td>...</td>\n",
       "      <td>...</td>\n",
       "      <td>...</td>\n",
       "      <td>...</td>\n",
       "      <td>...</td>\n",
       "      <td>...</td>\n",
       "      <td>...</td>\n",
       "      <td>...</td>\n",
       "      <td>...</td>\n",
       "    </tr>\n",
       "    <tr>\n",
       "      <th>8296392</th>\n",
       "      <td>1677159416733</td>\n",
       "      <td>NHB_M</td>\n",
       "      <td>Ds994Aq4Kq</td>\n",
       "      <td>1097159426</td>\n",
       "      <td>7</td>\n",
       "      <td>14</td>\n",
       "      <td>1097159426</td>\n",
       "      <td>False</td>\n",
       "      <td>1205978362</td>\n",
       "      <td>-1043038672</td>\n",
       "      <td>...</td>\n",
       "      <td>sm-g950u</td>\n",
       "      <td>android</td>\n",
       "      <td>9</td>\n",
       "      <td>chrome mobile</td>\n",
       "      <td>Chromium</td>\n",
       "      <td>110.0.5481.65</td>\n",
       "      <td>smartphone</td>\n",
       "      <td>False</td>\n",
       "      <td>2023-02-23 13:36:56.733</td>\n",
       "      <td>True</td>\n",
       "    </tr>\n",
       "    <tr>\n",
       "      <th>8203159</th>\n",
       "      <td>1677159846956</td>\n",
       "      <td>NHB_M</td>\n",
       "      <td>EcAoAoIxDi</td>\n",
       "      <td>832838830</td>\n",
       "      <td>7</td>\n",
       "      <td>10253</td>\n",
       "      <td>832838830</td>\n",
       "      <td>False</td>\n",
       "      <td>-494206676</td>\n",
       "      <td>1702609264</td>\n",
       "      <td>...</td>\n",
       "      <td>sm-g996n</td>\n",
       "      <td>android</td>\n",
       "      <td>13</td>\n",
       "      <td>chrome mobile</td>\n",
       "      <td>Chrome Mobile</td>\n",
       "      <td>110.0.0.0</td>\n",
       "      <td>smartphone</td>\n",
       "      <td>False</td>\n",
       "      <td>2023-02-23 13:44:06.956</td>\n",
       "      <td>True</td>\n",
       "    </tr>\n",
       "    <tr>\n",
       "      <th>8296391</th>\n",
       "      <td>1677160051244</td>\n",
       "      <td>NHB_M</td>\n",
       "      <td>Ds994Aq4Kq</td>\n",
       "      <td>1097159426</td>\n",
       "      <td>7</td>\n",
       "      <td>14</td>\n",
       "      <td>1097159426</td>\n",
       "      <td>False</td>\n",
       "      <td>1205978362</td>\n",
       "      <td>303931829</td>\n",
       "      <td>...</td>\n",
       "      <td>sm-g950u</td>\n",
       "      <td>android</td>\n",
       "      <td>9</td>\n",
       "      <td>chrome mobile</td>\n",
       "      <td>Chromium</td>\n",
       "      <td>110.0.5481.65</td>\n",
       "      <td>smartphone</td>\n",
       "      <td>False</td>\n",
       "      <td>2023-02-23 13:47:31.244</td>\n",
       "      <td>True</td>\n",
       "    </tr>\n",
       "    <tr>\n",
       "      <th>8281614</th>\n",
       "      <td>1677160560033</td>\n",
       "      <td>HH_M</td>\n",
       "      <td>gzxxSoJdWU</td>\n",
       "      <td>2plgjo3PiK</td>\n",
       "      <td>7</td>\n",
       "      <td>14</td>\n",
       "      <td>1087495473</td>\n",
       "      <td>False</td>\n",
       "      <td>-1093811737</td>\n",
       "      <td>-1838687026</td>\n",
       "      <td>...</td>\n",
       "      <td>t810s</td>\n",
       "      <td>android</td>\n",
       "      <td>12</td>\n",
       "      <td>chrome mobile</td>\n",
       "      <td>Facebook on Android</td>\n",
       "      <td>12</td>\n",
       "      <td>smartphone</td>\n",
       "      <td>False</td>\n",
       "      <td>2023-02-23 13:56:00.033</td>\n",
       "      <td>True</td>\n",
       "    </tr>\n",
       "    <tr>\n",
       "      <th>8281613</th>\n",
       "      <td>1677160565008</td>\n",
       "      <td>HH_M</td>\n",
       "      <td>gzxxSoJdWU</td>\n",
       "      <td>2plgjo3PiK</td>\n",
       "      <td>7</td>\n",
       "      <td>14</td>\n",
       "      <td>1087495473</td>\n",
       "      <td>False</td>\n",
       "      <td>-1093811737</td>\n",
       "      <td>1967261364</td>\n",
       "      <td>...</td>\n",
       "      <td>t810s</td>\n",
       "      <td>android</td>\n",
       "      <td>12</td>\n",
       "      <td>chrome mobile</td>\n",
       "      <td>Facebook on Android</td>\n",
       "      <td>12</td>\n",
       "      <td>smartphone</td>\n",
       "      <td>False</td>\n",
       "      <td>2023-02-23 13:56:05.008</td>\n",
       "      <td>True</td>\n",
       "    </tr>\n",
       "  </tbody>\n",
       "</table>\n",
       "<p>3400058 rows × 22 columns</p>\n",
       "</div>"
      ],
      "text/plain": [
       "             timestamp filename       iiqid       hh_id  maid  partner_id  \\\n",
       "5305360  1669852802551     HH_M  WorsfJNhdF  OVfCx6ZAeC     7       10253   \n",
       "274574   1669852802551     HH_M  WorsfJNhdF  OVfCx6ZAeC     7       10253   \n",
       "5799545  1669852815024    NHB_M  xR6Olq5vyY  1096230683     7          14   \n",
       "1884467  1669852821516     HH_M  3bsIDAAL9s  uH94IApkve     7          14   \n",
       "6016795  1669852821516     HH_M  3bsIDAAL9s  uH94IApkve     7          14   \n",
       "...                ...      ...         ...         ...   ...         ...   \n",
       "8296392  1677159416733    NHB_M  Ds994Aq4Kq  1097159426     7          14   \n",
       "8203159  1677159846956    NHB_M  EcAoAoIxDi   832838830     7       10253   \n",
       "8296391  1677160051244    NHB_M  Ds994Aq4Kq  1097159426     7          14   \n",
       "8281614  1677160560033     HH_M  gzxxSoJdWU  2plgjo3PiK     7          14   \n",
       "8281613  1677160565008     HH_M  gzxxSoJdWU  2plgjo3PiK     7          14   \n",
       "\n",
       "                 ip  iscellip   cellispid      domain  ...     model       os  \\\n",
       "5305360  1014397863     False -1793086944 -1297673767  ...      edge  windows   \n",
       "274574   1014397863     False -1793086944 -1297673767  ...      edge  windows   \n",
       "5799545  1096235864     False  -785738892  1632511751  ...  sm-g950u  android   \n",
       "1884467  1255127361     False  1891219528 -1545077811  ...    chrome  windows   \n",
       "6016795  1255127361     False  1891219528 -1545077811  ...    chrome  windows   \n",
       "...             ...       ...         ...         ...  ...       ...      ...   \n",
       "8296392  1097159426     False  1205978362 -1043038672  ...  sm-g950u  android   \n",
       "8203159   832838830     False  -494206676  1702609264  ...  sm-g996n  android   \n",
       "8296391  1097159426     False  1205978362   303931829  ...  sm-g950u  android   \n",
       "8281614  1087495473     False -1093811737 -1838687026  ...     t810s  android   \n",
       "8281613  1087495473     False -1093811737  1967261364  ...     t810s  android   \n",
       "\n",
       "        osversion         browser    advertisedbrowser browserversion  \\\n",
       "5305360        10            edge                 Edge  107.0.1418.56   \n",
       "274574         10            edge                 Edge  107.0.1418.56   \n",
       "5799545         9   chrome mobile  Facebook on Android              9   \n",
       "1884467        10  chrome desktop               Chrome      108.0.0.0   \n",
       "6016795        10  chrome desktop               Chrome      108.0.0.0   \n",
       "...           ...             ...                  ...            ...   \n",
       "8296392         9   chrome mobile             Chromium  110.0.5481.65   \n",
       "8203159        13   chrome mobile        Chrome Mobile      110.0.0.0   \n",
       "8296391         9   chrome mobile             Chromium  110.0.5481.65   \n",
       "8281614        12   chrome mobile  Facebook on Android             12   \n",
       "8281613        12   chrome mobile  Facebook on Android             12   \n",
       "\n",
       "               type is_best_ip                    time  is_hh  \n",
       "5305360     desktop      False 2022-12-01 00:00:02.551   True  \n",
       "274574      desktop      False 2022-12-01 00:00:02.551   True  \n",
       "5799545  smartphone      False 2022-12-01 00:00:15.024   True  \n",
       "1884467     desktop      False 2022-12-01 00:00:21.516   True  \n",
       "6016795     desktop      False 2022-12-01 00:00:21.516   True  \n",
       "...             ...        ...                     ...    ...  \n",
       "8296392  smartphone      False 2023-02-23 13:36:56.733   True  \n",
       "8203159  smartphone      False 2023-02-23 13:44:06.956   True  \n",
       "8296391  smartphone      False 2023-02-23 13:47:31.244   True  \n",
       "8281614  smartphone      False 2023-02-23 13:56:00.033   True  \n",
       "8281613  smartphone      False 2023-02-23 13:56:05.008   True  \n",
       "\n",
       "[3400058 rows x 22 columns]"
      ]
     },
     "execution_count": 9,
     "metadata": {},
     "output_type": "execute_result"
    }
   ],
   "source": [
    "data.sort_values(by=\"time\")"
   ]
  },
  {
   "cell_type": "code",
   "execution_count": 10,
   "id": "1b8eea4f-3204-4dab-ae0b-c4934182056e",
   "metadata": {
    "execution": {
     "iopub.execute_input": "2023-03-13T07:52:38.162678Z",
     "iopub.status.busy": "2023-03-13T07:52:38.162573Z",
     "iopub.status.idle": "2023-03-13T07:52:38.435139Z",
     "shell.execute_reply": "2023-03-13T07:52:38.434716Z",
     "shell.execute_reply.started": "2023-03-13T07:52:38.162665Z"
    },
    "tags": []
   },
   "outputs": [],
   "source": [
    "grouped = data.groupby(['hh_id', 'iiqid']).agg({'time': ['min', 'max']})"
   ]
  },
  {
   "cell_type": "code",
   "execution_count": 11,
   "id": "f27a51f8-2633-4c19-9aa0-e37247189c50",
   "metadata": {
    "execution": {
     "iopub.execute_input": "2023-03-13T07:52:38.436675Z",
     "iopub.status.busy": "2023-03-13T07:52:38.436576Z",
     "iopub.status.idle": "2023-03-13T07:52:38.449629Z",
     "shell.execute_reply": "2023-03-13T07:52:38.449334Z",
     "shell.execute_reply.started": "2023-03-13T07:52:38.436667Z"
    },
    "tags": []
   },
   "outputs": [],
   "source": [
    "grouped[\"lifespan\"] = grouped[(\"time\", \"max\")] - grouped[(\"time\", \"min\")]"
   ]
  },
  {
   "cell_type": "code",
   "execution_count": 12,
   "id": "323cd237-ae41-4bc2-bcd0-0ffe4bc82697",
   "metadata": {
    "execution": {
     "iopub.execute_input": "2023-03-13T07:52:38.450238Z",
     "iopub.status.busy": "2023-03-13T07:52:38.450135Z",
     "iopub.status.idle": "2023-03-13T07:52:38.501741Z",
     "shell.execute_reply": "2023-03-13T07:52:38.501417Z",
     "shell.execute_reply.started": "2023-03-13T07:52:38.450228Z"
    },
    "tags": []
   },
   "outputs": [],
   "source": [
    "grouped[\"lifespan\"] = grouped[\"lifespan\"].apply(lambda t: t.days)"
   ]
  },
  {
   "cell_type": "code",
   "execution_count": 18,
   "id": "ad3d256e-68a9-4bb4-894e-b71f0a578e02",
   "metadata": {
    "execution": {
     "iopub.execute_input": "2023-03-12T07:59:55.156654Z",
     "iopub.status.busy": "2023-03-12T07:59:55.154963Z",
     "iopub.status.idle": "2023-03-12T07:59:55.209471Z",
     "shell.execute_reply": "2023-03-12T07:59:55.208998Z",
     "shell.execute_reply.started": "2023-03-12T07:59:55.156566Z"
    },
    "tags": []
   },
   "outputs": [
    {
     "data": {
      "text/html": [
       "<div>\n",
       "<style scoped>\n",
       "    .dataframe tbody tr th:only-of-type {\n",
       "        vertical-align: middle;\n",
       "    }\n",
       "\n",
       "    .dataframe tbody tr th {\n",
       "        vertical-align: top;\n",
       "    }\n",
       "\n",
       "    .dataframe thead tr th {\n",
       "        text-align: left;\n",
       "    }\n",
       "\n",
       "    .dataframe thead tr:last-of-type th {\n",
       "        text-align: right;\n",
       "    }\n",
       "</style>\n",
       "<table border=\"1\" class=\"dataframe\">\n",
       "  <thead>\n",
       "    <tr>\n",
       "      <th></th>\n",
       "      <th></th>\n",
       "      <th colspan=\"2\" halign=\"left\">time</th>\n",
       "      <th>lifespan</th>\n",
       "    </tr>\n",
       "    <tr>\n",
       "      <th></th>\n",
       "      <th></th>\n",
       "      <th>min</th>\n",
       "      <th>max</th>\n",
       "      <th></th>\n",
       "    </tr>\n",
       "    <tr>\n",
       "      <th>hh_id</th>\n",
       "      <th>iiqid</th>\n",
       "      <th></th>\n",
       "      <th></th>\n",
       "      <th></th>\n",
       "    </tr>\n",
       "  </thead>\n",
       "  <tbody>\n",
       "    <tr>\n",
       "      <th rowspan=\"5\" valign=\"top\">008lj1AMI8</th>\n",
       "      <th>6MILYBoI9P</th>\n",
       "      <td>2022-12-06 20:30:42.973</td>\n",
       "      <td>2023-02-03 17:29:52.687</td>\n",
       "      <td>58</td>\n",
       "    </tr>\n",
       "    <tr>\n",
       "      <th>UVg62Vt8Va</th>\n",
       "      <td>2022-12-04 06:04:54.956</td>\n",
       "      <td>2023-02-03 22:48:53.120</td>\n",
       "      <td>61</td>\n",
       "    </tr>\n",
       "    <tr>\n",
       "      <th>WATS0P8zVm</th>\n",
       "      <td>2023-01-04 09:04:24.973</td>\n",
       "      <td>2023-02-08 09:39:50.615</td>\n",
       "      <td>35</td>\n",
       "    </tr>\n",
       "    <tr>\n",
       "      <th>mXwL7QCw5O</th>\n",
       "      <td>2022-12-02 17:01:54.895</td>\n",
       "      <td>2023-02-08 13:58:34.536</td>\n",
       "      <td>67</td>\n",
       "    </tr>\n",
       "    <tr>\n",
       "      <th>vjNRSKwlH4</th>\n",
       "      <td>2022-12-01 20:43:03.895</td>\n",
       "      <td>2023-01-05 06:20:52.917</td>\n",
       "      <td>34</td>\n",
       "    </tr>\n",
       "  </tbody>\n",
       "</table>\n",
       "</div>"
      ],
      "text/plain": [
       "                                         time                         lifespan\n",
       "                                          min                     max         \n",
       "hh_id      iiqid                                                              \n",
       "008lj1AMI8 6MILYBoI9P 2022-12-06 20:30:42.973 2023-02-03 17:29:52.687       58\n",
       "           UVg62Vt8Va 2022-12-04 06:04:54.956 2023-02-03 22:48:53.120       61\n",
       "           WATS0P8zVm 2023-01-04 09:04:24.973 2023-02-08 09:39:50.615       35\n",
       "           mXwL7QCw5O 2022-12-02 17:01:54.895 2023-02-08 13:58:34.536       67\n",
       "           vjNRSKwlH4 2022-12-01 20:43:03.895 2023-01-05 06:20:52.917       34"
      ]
     },
     "execution_count": 18,
     "metadata": {},
     "output_type": "execute_result"
    }
   ],
   "source": [
    "grouped.head()"
   ]
  },
  {
   "cell_type": "code",
   "execution_count": 12,
   "id": "2e444e24-ad61-458d-b981-3ee69f00a9f2",
   "metadata": {
    "execution": {
     "iopub.execute_input": "2023-03-12T07:58:14.686757Z",
     "iopub.status.busy": "2023-03-12T07:58:14.686364Z",
     "iopub.status.idle": "2023-03-12T07:58:14.727701Z",
     "shell.execute_reply": "2023-03-12T07:58:14.727271Z",
     "shell.execute_reply.started": "2023-03-12T07:58:14.686728Z"
    },
    "tags": []
   },
   "outputs": [
    {
     "data": {
      "text/html": [
       "<div>\n",
       "<style scoped>\n",
       "    .dataframe tbody tr th:only-of-type {\n",
       "        vertical-align: middle;\n",
       "    }\n",
       "\n",
       "    .dataframe tbody tr th {\n",
       "        vertical-align: top;\n",
       "    }\n",
       "\n",
       "    .dataframe thead th {\n",
       "        text-align: right;\n",
       "    }\n",
       "</style>\n",
       "<table border=\"1\" class=\"dataframe\">\n",
       "  <thead>\n",
       "    <tr style=\"text-align: right;\">\n",
       "      <th></th>\n",
       "      <th>timestamp</th>\n",
       "      <th>filename</th>\n",
       "      <th>iiqid</th>\n",
       "      <th>hh_id</th>\n",
       "      <th>maid</th>\n",
       "      <th>partner_id</th>\n",
       "      <th>ip</th>\n",
       "      <th>iscellip</th>\n",
       "      <th>cellispid</th>\n",
       "      <th>domain</th>\n",
       "      <th>...</th>\n",
       "      <th>model</th>\n",
       "      <th>os</th>\n",
       "      <th>osversion</th>\n",
       "      <th>browser</th>\n",
       "      <th>advertisedbrowser</th>\n",
       "      <th>browserversion</th>\n",
       "      <th>type</th>\n",
       "      <th>is_best_ip</th>\n",
       "      <th>time</th>\n",
       "      <th>is_hh</th>\n",
       "    </tr>\n",
       "  </thead>\n",
       "  <tbody>\n",
       "    <tr>\n",
       "      <th>317</th>\n",
       "      <td>1672454576791</td>\n",
       "      <td>HH_M</td>\n",
       "      <td>DkRTpvzRBp</td>\n",
       "      <td>2RrCJATsw0</td>\n",
       "      <td>7</td>\n",
       "      <td>15019</td>\n",
       "      <td>2935173494</td>\n",
       "      <td>True</td>\n",
       "      <td>1256337485</td>\n",
       "      <td>831946351</td>\n",
       "      <td>...</td>\n",
       "      <td>iphone</td>\n",
       "      <td>ios</td>\n",
       "      <td>16.0</td>\n",
       "      <td>safari</td>\n",
       "      <td>Mobile Safari</td>\n",
       "      <td>16.0</td>\n",
       "      <td>smartphone</td>\n",
       "      <td>False</td>\n",
       "      <td>2022-12-31 02:42:56.791</td>\n",
       "      <td>True</td>\n",
       "    </tr>\n",
       "    <tr>\n",
       "      <th>318</th>\n",
       "      <td>1672418570693</td>\n",
       "      <td>HH_M</td>\n",
       "      <td>DkRTpvzRBp</td>\n",
       "      <td>2RrCJATsw0</td>\n",
       "      <td>7</td>\n",
       "      <td>15019</td>\n",
       "      <td>1645510743</td>\n",
       "      <td>False</td>\n",
       "      <td>-390920904</td>\n",
       "      <td>831946351</td>\n",
       "      <td>...</td>\n",
       "      <td>iphone</td>\n",
       "      <td>ios</td>\n",
       "      <td>16.0</td>\n",
       "      <td>safari</td>\n",
       "      <td>Mobile Safari</td>\n",
       "      <td>16.0</td>\n",
       "      <td>smartphone</td>\n",
       "      <td>False</td>\n",
       "      <td>2022-12-30 16:42:50.693</td>\n",
       "      <td>True</td>\n",
       "    </tr>\n",
       "    <tr>\n",
       "      <th>319</th>\n",
       "      <td>1672278111596</td>\n",
       "      <td>HH_M</td>\n",
       "      <td>DkRTpvzRBp</td>\n",
       "      <td>2RrCJATsw0</td>\n",
       "      <td>7</td>\n",
       "      <td>15019</td>\n",
       "      <td>1193046921</td>\n",
       "      <td>False</td>\n",
       "      <td>-390920904</td>\n",
       "      <td>831946351</td>\n",
       "      <td>...</td>\n",
       "      <td>iphone</td>\n",
       "      <td>ios</td>\n",
       "      <td>16.0</td>\n",
       "      <td>safari</td>\n",
       "      <td>Mobile Safari</td>\n",
       "      <td>16.0</td>\n",
       "      <td>smartphone</td>\n",
       "      <td>False</td>\n",
       "      <td>2022-12-29 01:41:51.596</td>\n",
       "      <td>True</td>\n",
       "    </tr>\n",
       "    <tr>\n",
       "      <th>320</th>\n",
       "      <td>1672186457438</td>\n",
       "      <td>HH_M</td>\n",
       "      <td>DkRTpvzRBp</td>\n",
       "      <td>2RrCJATsw0</td>\n",
       "      <td>7</td>\n",
       "      <td>15019</td>\n",
       "      <td>1645512144</td>\n",
       "      <td>False</td>\n",
       "      <td>-390920904</td>\n",
       "      <td>831946351</td>\n",
       "      <td>...</td>\n",
       "      <td>iphone</td>\n",
       "      <td>ios</td>\n",
       "      <td>16.0</td>\n",
       "      <td>safari</td>\n",
       "      <td>Mobile Safari</td>\n",
       "      <td>16.0</td>\n",
       "      <td>smartphone</td>\n",
       "      <td>False</td>\n",
       "      <td>2022-12-28 00:14:17.438</td>\n",
       "      <td>True</td>\n",
       "    </tr>\n",
       "    <tr>\n",
       "      <th>321</th>\n",
       "      <td>1671982417563</td>\n",
       "      <td>HH_M</td>\n",
       "      <td>DkRTpvzRBp</td>\n",
       "      <td>2RrCJATsw0</td>\n",
       "      <td>7</td>\n",
       "      <td>15019</td>\n",
       "      <td>1645512144</td>\n",
       "      <td>False</td>\n",
       "      <td>-390920904</td>\n",
       "      <td>831946351</td>\n",
       "      <td>...</td>\n",
       "      <td>iphone</td>\n",
       "      <td>ios</td>\n",
       "      <td>16.0</td>\n",
       "      <td>safari</td>\n",
       "      <td>Mobile Safari</td>\n",
       "      <td>16.0</td>\n",
       "      <td>smartphone</td>\n",
       "      <td>False</td>\n",
       "      <td>2022-12-25 15:33:37.563</td>\n",
       "      <td>True</td>\n",
       "    </tr>\n",
       "  </tbody>\n",
       "</table>\n",
       "<p>5 rows × 22 columns</p>\n",
       "</div>"
      ],
      "text/plain": [
       "         timestamp filename       iiqid       hh_id  maid  partner_id  \\\n",
       "317  1672454576791     HH_M  DkRTpvzRBp  2RrCJATsw0     7       15019   \n",
       "318  1672418570693     HH_M  DkRTpvzRBp  2RrCJATsw0     7       15019   \n",
       "319  1672278111596     HH_M  DkRTpvzRBp  2RrCJATsw0     7       15019   \n",
       "320  1672186457438     HH_M  DkRTpvzRBp  2RrCJATsw0     7       15019   \n",
       "321  1671982417563     HH_M  DkRTpvzRBp  2RrCJATsw0     7       15019   \n",
       "\n",
       "             ip  iscellip   cellispid     domain  ...   model   os osversion  \\\n",
       "317  2935173494      True  1256337485  831946351  ...  iphone  ios      16.0   \n",
       "318  1645510743     False  -390920904  831946351  ...  iphone  ios      16.0   \n",
       "319  1193046921     False  -390920904  831946351  ...  iphone  ios      16.0   \n",
       "320  1645512144     False  -390920904  831946351  ...  iphone  ios      16.0   \n",
       "321  1645512144     False  -390920904  831946351  ...  iphone  ios      16.0   \n",
       "\n",
       "    browser advertisedbrowser browserversion        type is_best_ip  \\\n",
       "317  safari     Mobile Safari           16.0  smartphone      False   \n",
       "318  safari     Mobile Safari           16.0  smartphone      False   \n",
       "319  safari     Mobile Safari           16.0  smartphone      False   \n",
       "320  safari     Mobile Safari           16.0  smartphone      False   \n",
       "321  safari     Mobile Safari           16.0  smartphone      False   \n",
       "\n",
       "                       time  is_hh  \n",
       "317 2022-12-31 02:42:56.791   True  \n",
       "318 2022-12-30 16:42:50.693   True  \n",
       "319 2022-12-29 01:41:51.596   True  \n",
       "320 2022-12-28 00:14:17.438   True  \n",
       "321 2022-12-25 15:33:37.563   True  \n",
       "\n",
       "[5 rows x 22 columns]"
      ]
     },
     "execution_count": 12,
     "metadata": {},
     "output_type": "execute_result"
    }
   ],
   "source": [
    "data.head()"
   ]
  },
  {
   "cell_type": "code",
   "execution_count": 13,
   "id": "1d1aa5dc-91d4-4fe2-bf29-92d825871669",
   "metadata": {
    "execution": {
     "iopub.execute_input": "2023-03-12T07:58:37.893048Z",
     "iopub.status.busy": "2023-03-12T07:58:37.892000Z",
     "iopub.status.idle": "2023-03-12T07:58:37.925181Z",
     "shell.execute_reply": "2023-03-12T07:58:37.924772Z",
     "shell.execute_reply.started": "2023-03-12T07:58:37.892978Z"
    },
    "tags": []
   },
   "outputs": [
    {
     "data": {
      "text/plain": [
       "84"
      ]
     },
     "execution_count": 13,
     "metadata": {},
     "output_type": "execute_result"
    }
   ],
   "source": [
    "grouped.lifespan.max()"
   ]
  },
  {
   "cell_type": "code",
   "execution_count": 14,
   "id": "46c1e69a-80eb-4a0a-ae7b-179f13a685ef",
   "metadata": {
    "execution": {
     "iopub.execute_input": "2023-03-12T07:58:38.116644Z",
     "iopub.status.busy": "2023-03-12T07:58:38.116172Z",
     "iopub.status.idle": "2023-03-12T07:58:38.347431Z",
     "shell.execute_reply": "2023-03-12T07:58:38.347111Z",
     "shell.execute_reply.started": "2023-03-12T07:58:38.116614Z"
    },
    "tags": []
   },
   "outputs": [
    {
     "data": {
      "text/plain": [
       "<Axes: xlabel='lifespan', ylabel='Count'>"
      ]
     },
     "execution_count": 14,
     "metadata": {},
     "output_type": "execute_result"
    },
    {
     "data": {
      "image/png": "[encoded data removed]",
      "text/plain": [
       "<Figure size 1200x500 with 1 Axes>"
      ]
     },
     "metadata": {},
     "output_type": "display_data"
    }
   ],
   "source": [
    "sns.histplot(data=grouped[grouped[\"lifespan\"]>0], x=\"lifespan\")\n",
    "# sns.histplot(data=grouped, x=\"lifespan\")"
   ]
  },
  {
   "cell_type": "code",
   "execution_count": 15,
   "id": "be09cf8e-dd87-460e-9c1d-bcc9c6f2628d",
   "metadata": {
    "execution": {
     "iopub.execute_input": "2023-03-12T07:58:44.045840Z",
     "iopub.status.busy": "2023-03-12T07:58:44.045386Z",
     "iopub.status.idle": "2023-03-12T07:58:44.167209Z",
     "shell.execute_reply": "2023-03-12T07:58:44.166392Z",
     "shell.execute_reply.started": "2023-03-12T07:58:44.045811Z"
    },
    "tags": []
   },
   "outputs": [
    {
     "data": {
      "text/plain": [
       "<BarContainer object of 2 artists>"
      ]
     },
     "execution_count": 15,
     "metadata": {},
     "output_type": "execute_result"
    },
    {
     "data": {
      "image/png": "[encoded data removed]",
      "text/plain": [
       "<Figure size 1200x500 with 1 Axes>"
      ]
     },
     "metadata": {},
     "output_type": "display_data"
    }
   ],
   "source": [
    "plt.bar([\"0\",\"> 0\"], \n",
    "        [len(grouped[grouped[\"lifespan\"]==0]), len(grouped[grouped[\"lifespan\"]>0])])"
   ]
  },
  {
   "cell_type": "code",
   "execution_count": 16,
   "id": "edee8c66-c4fa-4fa3-ae1c-31d8d6fb183f",
   "metadata": {
    "execution": {
     "iopub.execute_input": "2023-03-12T07:58:46.106250Z",
     "iopub.status.busy": "2023-03-12T07:58:46.105736Z",
     "iopub.status.idle": "2023-03-12T07:58:46.137364Z",
     "shell.execute_reply": "2023-03-12T07:58:46.136916Z",
     "shell.execute_reply.started": "2023-03-12T07:58:46.106222Z"
    },
    "tags": []
   },
   "outputs": [
    {
     "data": {
      "text/html": [
       "<div>\n",
       "<style scoped>\n",
       "    .dataframe tbody tr th:only-of-type {\n",
       "        vertical-align: middle;\n",
       "    }\n",
       "\n",
       "    .dataframe tbody tr th {\n",
       "        vertical-align: top;\n",
       "    }\n",
       "\n",
       "    .dataframe thead tr th {\n",
       "        text-align: left;\n",
       "    }\n",
       "\n",
       "    .dataframe thead tr:last-of-type th {\n",
       "        text-align: right;\n",
       "    }\n",
       "</style>\n",
       "<table border=\"1\" class=\"dataframe\">\n",
       "  <thead>\n",
       "    <tr>\n",
       "      <th></th>\n",
       "      <th></th>\n",
       "      <th colspan=\"2\" halign=\"left\">time</th>\n",
       "      <th>lifespan</th>\n",
       "    </tr>\n",
       "    <tr>\n",
       "      <th></th>\n",
       "      <th></th>\n",
       "      <th>min</th>\n",
       "      <th>max</th>\n",
       "      <th></th>\n",
       "    </tr>\n",
       "    <tr>\n",
       "      <th>hh_id</th>\n",
       "      <th>iiqid</th>\n",
       "      <th></th>\n",
       "      <th></th>\n",
       "      <th></th>\n",
       "    </tr>\n",
       "  </thead>\n",
       "  <tbody>\n",
       "    <tr>\n",
       "      <th rowspan=\"5\" valign=\"top\">008lj1AMI8</th>\n",
       "      <th>6MILYBoI9P</th>\n",
       "      <td>2022-12-06 20:30:42.973</td>\n",
       "      <td>2023-02-03 17:29:52.687</td>\n",
       "      <td>58</td>\n",
       "    </tr>\n",
       "    <tr>\n",
       "      <th>UVg62Vt8Va</th>\n",
       "      <td>2022-12-04 06:04:54.956</td>\n",
       "      <td>2023-02-03 22:48:53.120</td>\n",
       "      <td>61</td>\n",
       "    </tr>\n",
       "    <tr>\n",
       "      <th>WATS0P8zVm</th>\n",
       "      <td>2023-01-04 09:04:24.973</td>\n",
       "      <td>2023-02-08 09:39:50.615</td>\n",
       "      <td>35</td>\n",
       "    </tr>\n",
       "    <tr>\n",
       "      <th>mXwL7QCw5O</th>\n",
       "      <td>2022-12-02 17:01:54.895</td>\n",
       "      <td>2023-02-08 13:58:34.536</td>\n",
       "      <td>67</td>\n",
       "    </tr>\n",
       "    <tr>\n",
       "      <th>vjNRSKwlH4</th>\n",
       "      <td>2022-12-01 20:43:03.895</td>\n",
       "      <td>2023-01-05 06:20:52.917</td>\n",
       "      <td>34</td>\n",
       "    </tr>\n",
       "  </tbody>\n",
       "</table>\n",
       "</div>"
      ],
      "text/plain": [
       "                                         time                         lifespan\n",
       "                                          min                     max         \n",
       "hh_id      iiqid                                                              \n",
       "008lj1AMI8 6MILYBoI9P 2022-12-06 20:30:42.973 2023-02-03 17:29:52.687       58\n",
       "           UVg62Vt8Va 2022-12-04 06:04:54.956 2023-02-03 22:48:53.120       61\n",
       "           WATS0P8zVm 2023-01-04 09:04:24.973 2023-02-08 09:39:50.615       35\n",
       "           mXwL7QCw5O 2022-12-02 17:01:54.895 2023-02-08 13:58:34.536       67\n",
       "           vjNRSKwlH4 2022-12-01 20:43:03.895 2023-01-05 06:20:52.917       34"
      ]
     },
     "execution_count": 16,
     "metadata": {},
     "output_type": "execute_result"
    }
   ],
   "source": [
    "grouped.head()"
   ]
  },
  {
   "cell_type": "code",
   "execution_count": 17,
   "id": "f4b4b439-7f14-4d3f-b6c4-f7e2b5bf7227",
   "metadata": {
    "execution": {
     "iopub.execute_input": "2023-03-12T07:58:47.695031Z",
     "iopub.status.busy": "2023-03-12T07:58:47.693987Z",
     "iopub.status.idle": "2023-03-12T07:58:47.732665Z",
     "shell.execute_reply": "2023-03-12T07:58:47.732153Z",
     "shell.execute_reply.started": "2023-03-12T07:58:47.694950Z"
    },
    "tags": []
   },
   "outputs": [
    {
     "data": {
      "text/html": [
       "<div>\n",
       "<style scoped>\n",
       "    .dataframe tbody tr th:only-of-type {\n",
       "        vertical-align: middle;\n",
       "    }\n",
       "\n",
       "    .dataframe tbody tr th {\n",
       "        vertical-align: top;\n",
       "    }\n",
       "\n",
       "    .dataframe thead tr th {\n",
       "        text-align: left;\n",
       "    }\n",
       "\n",
       "    .dataframe thead tr:last-of-type th {\n",
       "        text-align: right;\n",
       "    }\n",
       "</style>\n",
       "<table border=\"1\" class=\"dataframe\">\n",
       "  <thead>\n",
       "    <tr>\n",
       "      <th></th>\n",
       "      <th></th>\n",
       "      <th colspan=\"2\" halign=\"left\">time</th>\n",
       "      <th>lifespan</th>\n",
       "    </tr>\n",
       "    <tr>\n",
       "      <th></th>\n",
       "      <th></th>\n",
       "      <th>min</th>\n",
       "      <th>max</th>\n",
       "      <th></th>\n",
       "    </tr>\n",
       "    <tr>\n",
       "      <th>hh_id</th>\n",
       "      <th>iiqid</th>\n",
       "      <th></th>\n",
       "      <th></th>\n",
       "      <th></th>\n",
       "    </tr>\n",
       "  </thead>\n",
       "  <tbody>\n",
       "    <tr>\n",
       "      <th>pf5jEgESJa</th>\n",
       "      <th>WosrCrerQi</th>\n",
       "      <td>2022-12-08 05:19:27.969</td>\n",
       "      <td>2023-02-07 14:49:18.291</td>\n",
       "      <td>61</td>\n",
       "    </tr>\n",
       "  </tbody>\n",
       "</table>\n",
       "</div>"
      ],
      "text/plain": [
       "                                         time                         lifespan\n",
       "                                          min                     max         \n",
       "hh_id      iiqid                                                              \n",
       "pf5jEgESJa WosrCrerQi 2022-12-08 05:19:27.969 2023-02-07 14:49:18.291       61"
      ]
     },
     "execution_count": 17,
     "metadata": {},
     "output_type": "execute_result"
    }
   ],
   "source": [
    "one_row = grouped[grouped[\"lifespan\"] > 60].sample(1)\n",
    "one_row"
   ]
  },
  {
   "cell_type": "code",
   "execution_count": 90,
   "id": "7504b955-2ee2-495e-8443-70d56f3557fa",
   "metadata": {
    "execution": {
     "iopub.execute_input": "2023-03-08T13:06:56.173958Z",
     "iopub.status.busy": "2023-03-08T13:06:56.173058Z",
     "iopub.status.idle": "2023-03-08T13:06:56.209757Z",
     "shell.execute_reply": "2023-03-08T13:06:56.209096Z",
     "shell.execute_reply.started": "2023-03-08T13:06:56.173888Z"
    },
    "tags": []
   },
   "outputs": [],
   "source": [
    "one_cookie = one_row.index.get_level_values(1).values[0]"
   ]
  },
  {
   "cell_type": "code",
   "execution_count": 91,
   "id": "a8386b86-6f41-4646-b5d4-bcc238d9b517",
   "metadata": {
    "execution": {
     "iopub.execute_input": "2023-03-08T13:06:56.442151Z",
     "iopub.status.busy": "2023-03-08T13:06:56.441225Z",
     "iopub.status.idle": "2023-03-08T13:06:56.474658Z",
     "shell.execute_reply": "2023-03-08T13:06:56.474233Z",
     "shell.execute_reply.started": "2023-03-08T13:06:56.442084Z"
    },
    "tags": []
   },
   "outputs": [
    {
     "data": {
      "text/plain": [
       "'Bcjz15r0Ms'"
      ]
     },
     "execution_count": 91,
     "metadata": {},
     "output_type": "execute_result"
    }
   ],
   "source": [
    "one_cookie"
   ]
  },
  {
   "cell_type": "code",
   "execution_count": 92,
   "id": "597ffbc5-52b2-4ffc-949a-abf540053107",
   "metadata": {
    "execution": {
     "iopub.execute_input": "2023-03-08T13:06:56.782752Z",
     "iopub.status.busy": "2023-03-08T13:06:56.782190Z",
     "iopub.status.idle": "2023-03-08T13:06:57.052936Z",
     "shell.execute_reply": "2023-03-08T13:06:57.052639Z",
     "shell.execute_reply.started": "2023-03-08T13:06:56.782714Z"
    },
    "tags": []
   },
   "outputs": [],
   "source": [
    "one_cookie_data = data[data[\"iiqid\"]==one_cookie]"
   ]
  },
  {
   "cell_type": "code",
   "execution_count": 93,
   "id": "bce2562a-7f06-4f80-a11c-86ed0465a416",
   "metadata": {
    "execution": {
     "iopub.execute_input": "2023-03-08T13:06:57.278485Z",
     "iopub.status.busy": "2023-03-08T13:06:57.277926Z",
     "iopub.status.idle": "2023-03-08T13:06:57.314241Z",
     "shell.execute_reply": "2023-03-08T13:06:57.313440Z",
     "shell.execute_reply.started": "2023-03-08T13:06:57.278450Z"
    },
    "tags": []
   },
   "outputs": [
    {
     "data": {
      "text/plain": [
       "chrome mobile    37\n",
       "Name: browser, dtype: int64"
      ]
     },
     "execution_count": 93,
     "metadata": {},
     "output_type": "execute_result"
    }
   ],
   "source": [
    "one_cookie_data.browser.value_counts()"
   ]
  },
  {
   "cell_type": "code",
   "execution_count": 94,
   "id": "fbcebb78-893f-4205-8481-22de1cb895cb",
   "metadata": {
    "execution": {
     "iopub.execute_input": "2023-03-08T13:06:58.045941Z",
     "iopub.status.busy": "2023-03-08T13:06:58.045302Z",
     "iopub.status.idle": "2023-03-08T13:06:58.078544Z",
     "shell.execute_reply": "2023-03-08T13:06:58.077973Z",
     "shell.execute_reply.started": "2023-03-08T13:06:58.045905Z"
    },
    "tags": []
   },
   "outputs": [],
   "source": [
    "most_common_brw = one_cookie_data.browser.mode().iloc[0]"
   ]
  },
  {
   "cell_type": "code",
   "execution_count": 95,
   "id": "52de0094-b7c2-4fa2-93b6-bfad1596720f",
   "metadata": {
    "execution": {
     "iopub.execute_input": "2023-03-08T13:06:59.770049Z",
     "iopub.status.busy": "2023-03-08T13:06:59.769188Z",
     "iopub.status.idle": "2023-03-08T13:06:59.801228Z",
     "shell.execute_reply": "2023-03-08T13:06:59.800385Z",
     "shell.execute_reply.started": "2023-03-08T13:06:59.769983Z"
    },
    "tags": []
   },
   "outputs": [],
   "source": [
    "one_cookie_data = one_cookie_data[one_cookie_data[\"browser\"]==most_common_brw]"
   ]
  },
  {
   "cell_type": "code",
   "execution_count": 96,
   "id": "eecb5124-7169-4766-aa88-e0f9e399a15d",
   "metadata": {
    "execution": {
     "iopub.execute_input": "2023-03-08T13:07:00.450405Z",
     "iopub.status.busy": "2023-03-08T13:07:00.449829Z",
     "iopub.status.idle": "2023-03-08T13:07:00.651860Z",
     "shell.execute_reply": "2023-03-08T13:07:00.651572Z",
     "shell.execute_reply.started": "2023-03-08T13:07:00.450345Z"
    },
    "tags": []
   },
   "outputs": [
    {
     "data": {
      "text/plain": [
       "<Axes: xlabel='time', ylabel='browserversion'>"
      ]
     },
     "execution_count": 96,
     "metadata": {},
     "output_type": "execute_result"
    },
    {
     "data": {
      "image/png": "[encoded data removed]",
      "text/plain": [
       "<Figure size 1200x500 with 1 Axes>"
      ]
     },
     "metadata": {},
     "output_type": "display_data"
    }
   ],
   "source": [
    "sns.scatterplot(data=one_cookie_data, x=\"time\", y=\"browserversion\")"
   ]
  },
  {
   "cell_type": "markdown",
   "id": "7ff608b6-41b0-4b5a-8343-5adf8ce782c4",
   "metadata": {},
   "source": [
    "## Lets try to find how many error are they"
   ]
  },
  {
   "cell_type": "markdown",
   "id": "453d539a-9c87-47c7-a04a-4d4bea7e2243",
   "metadata": {},
   "source": [
    "For a given cookie:\n",
    "Go over all of its apearesnces and see if the browserversion stays consistent.\n",
    "Lets strat by a simple \"yes/no\" test."
   ]
  },
  {
   "cell_type": "code",
   "execution_count": 99,
   "id": "89787b12-80fc-48e0-9b15-b7dc950f1e1c",
   "metadata": {
    "execution": {
     "iopub.execute_input": "2023-03-08T13:20:29.787261Z",
     "iopub.status.busy": "2023-03-08T13:20:29.786420Z",
     "iopub.status.idle": "2023-03-08T13:20:29.827577Z",
     "shell.execute_reply": "2023-03-08T13:20:29.827071Z",
     "shell.execute_reply.started": "2023-03-08T13:20:29.787177Z"
    },
    "tags": []
   },
   "outputs": [],
   "source": [
    "one_cookie_data = one_cookie_data.sort_values(by=\"time\")"
   ]
  },
  {
   "cell_type": "code",
   "execution_count": 108,
   "id": "6867477d-a73d-48ab-9892-a500ff06294c",
   "metadata": {
    "execution": {
     "iopub.execute_input": "2023-03-08T13:40:46.085078Z",
     "iopub.status.busy": "2023-03-08T13:40:46.083613Z",
     "iopub.status.idle": "2023-03-08T13:40:46.134152Z",
     "shell.execute_reply": "2023-03-08T13:40:46.133571Z",
     "shell.execute_reply.started": "2023-03-08T13:40:46.085003Z"
    },
    "tags": []
   },
   "outputs": [],
   "source": [
    "one_cookie_data[\"prev_browserversion\"] = one_cookie_data[\"browserversion\"].shift(1).fillna(\"0.0.0.0\")"
   ]
  },
  {
   "cell_type": "code",
   "execution_count": 115,
   "id": "a308e1b3-3a23-4ea5-a63b-1b79dd8ad83a",
   "metadata": {
    "execution": {
     "iopub.execute_input": "2023-03-08T13:45:23.434675Z",
     "iopub.status.busy": "2023-03-08T13:45:23.433801Z",
     "iopub.status.idle": "2023-03-08T13:45:23.466721Z",
     "shell.execute_reply": "2023-03-08T13:45:23.466279Z",
     "shell.execute_reply.started": "2023-03-08T13:45:23.434608Z"
    },
    "tags": []
   },
   "outputs": [
    {
     "data": {
      "text/plain": [
       "True"
      ]
     },
     "execution_count": 115,
     "metadata": {},
     "output_type": "execute_result"
    }
   ],
   "source": [
    "all(np.vectorize(compare_versions)(one_cookie_data['prev_browserversion'], one_cookie_data['browserversion']) <= 0)"
   ]
  },
  {
   "cell_type": "code",
   "execution_count": 75,
   "id": "80d90a4c-bc6a-4a51-a517-fbcd66dc08d2",
   "metadata": {
    "execution": {
     "iopub.execute_input": "2023-03-12T08:45:48.007983Z",
     "iopub.status.busy": "2023-03-12T08:45:48.006883Z",
     "iopub.status.idle": "2023-03-12T08:45:48.045832Z",
     "shell.execute_reply": "2023-03-12T08:45:48.045118Z",
     "shell.execute_reply.started": "2023-03-12T08:45:48.007906Z"
    },
    "tags": []
   },
   "outputs": [],
   "source": [
    "def has_no_errors(cookie, df=data):\n",
    "    one_cookie_data = df[df[\"iiqid\"]==cookie].sort_values(by=\"time\")\n",
    "    one_cookie_data[\"prev_browserversion\"] = one_cookie_data[\"browserversion\"].shift(1).fillna(\"0.0.0.0\")\n",
    "    one_cookie_data[\"prev_osversion\"] = one_cookie_data[\"osversion\"].shift(1).fillna(\"0\")\n",
    "    browser_consistency = all(np.vectorize(compare_versions)(one_cookie_data['prev_browserversion'], one_cookie_data['browserversion']) <= 0)\n",
    "    os_consistency = all(np.vectorize(compare_versions)(one_cookie_data['osversion'], one_cookie_data['osversion']) <= 0)\n",
    "    return browser_consistency and os_consistency"
   ]
  },
  {
   "cell_type": "code",
   "execution_count": 119,
   "id": "18cd1119-290a-4f3a-a800-2ce97cb924a6",
   "metadata": {
    "execution": {
     "iopub.execute_input": "2023-03-08T13:48:32.441682Z",
     "iopub.status.busy": "2023-03-08T13:48:32.440499Z",
     "iopub.status.idle": "2023-03-08T13:48:32.699432Z",
     "shell.execute_reply": "2023-03-08T13:48:32.699167Z",
     "shell.execute_reply.started": "2023-03-08T13:48:32.441587Z"
    },
    "tags": []
   },
   "outputs": [
    {
     "data": {
      "text/plain": [
       "True"
      ]
     },
     "execution_count": 119,
     "metadata": {},
     "output_type": "execute_result"
    }
   ],
   "source": [
    "has_no_errors(one_cookie)"
   ]
  },
  {
   "cell_type": "code",
   "execution_count": 13,
   "id": "57758561-d9c6-4853-b04a-a4573da56022",
   "metadata": {
    "execution": {
     "iopub.execute_input": "2023-03-13T07:53:12.619802Z",
     "iopub.status.busy": "2023-03-13T07:53:12.618339Z",
     "iopub.status.idle": "2023-03-13T07:53:13.588739Z",
     "shell.execute_reply": "2023-03-13T07:53:13.588318Z",
     "shell.execute_reply.started": "2023-03-13T07:53:12.619716Z"
    },
    "tags": []
   },
   "outputs": [],
   "source": [
    "data.sort_values(by=\"time\", inplace=True)\n",
    "# grouped_cookies = data.groupby([\"hh_id\", \"iiqid\"])"
   ]
  },
  {
   "cell_type": "code",
   "execution_count": 25,
   "id": "0b2a6d03-69c4-4945-a6a0-74f3927bbacd",
   "metadata": {
    "execution": {
     "iopub.execute_input": "2023-03-12T08:24:24.200985Z",
     "iopub.status.busy": "2023-03-12T08:24:24.199698Z",
     "iopub.status.idle": "2023-03-12T08:24:24.421863Z",
     "shell.execute_reply": "2023-03-12T08:24:24.421454Z",
     "shell.execute_reply.started": "2023-03-12T08:24:24.200903Z"
    },
    "tags": []
   },
   "outputs": [
    {
     "data": {
      "text/html": [
       "<div>\n",
       "<style scoped>\n",
       "    .dataframe tbody tr th:only-of-type {\n",
       "        vertical-align: middle;\n",
       "    }\n",
       "\n",
       "    .dataframe tbody tr th {\n",
       "        vertical-align: top;\n",
       "    }\n",
       "\n",
       "    .dataframe thead th {\n",
       "        text-align: right;\n",
       "    }\n",
       "</style>\n",
       "<table border=\"1\" class=\"dataframe\">\n",
       "  <thead>\n",
       "    <tr style=\"text-align: right;\">\n",
       "      <th></th>\n",
       "      <th>hh_id</th>\n",
       "      <th>iiqid</th>\n",
       "      <th>osversion</th>\n",
       "    </tr>\n",
       "  </thead>\n",
       "  <tbody>\n",
       "    <tr>\n",
       "      <th>8297176</th>\n",
       "      <td>1097159426</td>\n",
       "      <td>Ds994Aq4Kq</td>\n",
       "      <td>9</td>\n",
       "    </tr>\n",
       "    <tr>\n",
       "      <th>8297175</th>\n",
       "      <td>1097159426</td>\n",
       "      <td>Ds994Aq4Kq</td>\n",
       "      <td>9</td>\n",
       "    </tr>\n",
       "    <tr>\n",
       "      <th>8297174</th>\n",
       "      <td>1097159426</td>\n",
       "      <td>Ds994Aq4Kq</td>\n",
       "      <td>9</td>\n",
       "    </tr>\n",
       "    <tr>\n",
       "      <th>8297173</th>\n",
       "      <td>1097159426</td>\n",
       "      <td>Ds994Aq4Kq</td>\n",
       "      <td>9</td>\n",
       "    </tr>\n",
       "    <tr>\n",
       "      <th>8297172</th>\n",
       "      <td>1097159426</td>\n",
       "      <td>Ds994Aq4Kq</td>\n",
       "      <td>9</td>\n",
       "    </tr>\n",
       "    <tr>\n",
       "      <th>...</th>\n",
       "      <td>...</td>\n",
       "      <td>...</td>\n",
       "      <td>...</td>\n",
       "    </tr>\n",
       "    <tr>\n",
       "      <th>8296372</th>\n",
       "      <td>1097159426</td>\n",
       "      <td>I2g1DDxkA3</td>\n",
       "      <td>9</td>\n",
       "    </tr>\n",
       "    <tr>\n",
       "      <th>8296371</th>\n",
       "      <td>1097159426</td>\n",
       "      <td>I2g1DDxkA3</td>\n",
       "      <td>9</td>\n",
       "    </tr>\n",
       "    <tr>\n",
       "      <th>8296072</th>\n",
       "      <td>1097159426</td>\n",
       "      <td>k78WlySg6A</td>\n",
       "      <td>9</td>\n",
       "    </tr>\n",
       "    <tr>\n",
       "      <th>8296392</th>\n",
       "      <td>1097159426</td>\n",
       "      <td>Ds994Aq4Kq</td>\n",
       "      <td>9</td>\n",
       "    </tr>\n",
       "    <tr>\n",
       "      <th>8296391</th>\n",
       "      <td>1097159426</td>\n",
       "      <td>Ds994Aq4Kq</td>\n",
       "      <td>9</td>\n",
       "    </tr>\n",
       "  </tbody>\n",
       "</table>\n",
       "<p>827 rows × 3 columns</p>\n",
       "</div>"
      ],
      "text/plain": [
       "              hh_id       iiqid osversion\n",
       "8297176  1097159426  Ds994Aq4Kq         9\n",
       "8297175  1097159426  Ds994Aq4Kq         9\n",
       "8297174  1097159426  Ds994Aq4Kq         9\n",
       "8297173  1097159426  Ds994Aq4Kq         9\n",
       "8297172  1097159426  Ds994Aq4Kq         9\n",
       "...             ...         ...       ...\n",
       "8296372  1097159426  I2g1DDxkA3         9\n",
       "8296371  1097159426  I2g1DDxkA3         9\n",
       "8296072  1097159426  k78WlySg6A         9\n",
       "8296392  1097159426  Ds994Aq4Kq         9\n",
       "8296391  1097159426  Ds994Aq4Kq         9\n",
       "\n",
       "[827 rows x 3 columns]"
      ]
     },
     "execution_count": 25,
     "metadata": {},
     "output_type": "execute_result"
    }
   ],
   "source": [
    "data[data['hh_id']=='1097159426'][['hh_id', 'iiqid', 'osversion']]"
   ]
  },
  {
   "cell_type": "code",
   "execution_count": 21,
   "id": "7975fc07-9116-4ba7-9d9f-ef56a3bcae8d",
   "metadata": {
    "execution": {
     "iopub.execute_input": "2023-03-12T08:20:48.082407Z",
     "iopub.status.busy": "2023-03-12T08:20:48.080724Z",
     "iopub.status.idle": "2023-03-12T08:20:48.474382Z",
     "shell.execute_reply": "2023-03-12T08:20:48.473717Z",
     "shell.execute_reply.started": "2023-03-12T08:20:48.082360Z"
    },
    "tags": []
   },
   "outputs": [
    {
     "data": {
      "text/plain": [
       "5305360    NaN\n",
       "274574      10\n",
       "5799545    NaN\n",
       "1884467    NaN\n",
       "6016795     10\n",
       "          ... \n",
       "8296392      9\n",
       "8203159     13\n",
       "8296391      9\n",
       "8281614     12\n",
       "8281613     12\n",
       "Name: osversion, Length: 3400058, dtype: object"
      ]
     },
     "execution_count": 21,
     "metadata": {},
     "output_type": "execute_result"
    }
   ],
   "source": [
    "data.groupby(['hh_id', 'iiqid'])['osversion'].shift(1)"
   ]
  },
  {
   "cell_type": "code",
   "execution_count": 14,
   "id": "426123b5-f1bb-461f-97bf-7ee1b437e439",
   "metadata": {
    "execution": {
     "iopub.execute_input": "2023-03-13T07:53:20.715072Z",
     "iopub.status.busy": "2023-03-13T07:53:20.714213Z",
     "iopub.status.idle": "2023-03-13T07:53:21.466836Z",
     "shell.execute_reply": "2023-03-13T07:53:21.466487Z",
     "shell.execute_reply.started": "2023-03-13T07:53:20.715007Z"
    },
    "tags": []
   },
   "outputs": [],
   "source": [
    "data['prev_osversion'] = data.groupby(['hh_id', 'iiqid'])['osversion'].shift(1).fillna(\"0\")\n",
    "data['prev_browserversion'] = data.groupby(['hh_id', 'iiqid'])['browserversion'].shift(1).fillna(\"0.0.0.0\")"
   ]
  },
  {
   "cell_type": "code",
   "execution_count": 15,
   "id": "11eeab2f-b927-462e-b739-71a0d18f72e6",
   "metadata": {
    "execution": {
     "iopub.execute_input": "2023-03-13T07:53:21.467572Z",
     "iopub.status.busy": "2023-03-13T07:53:21.467481Z",
     "iopub.status.idle": "2023-03-13T07:53:22.161685Z",
     "shell.execute_reply": "2023-03-13T07:53:22.161377Z",
     "shell.execute_reply.started": "2023-03-13T07:53:21.467562Z"
    },
    "tags": []
   },
   "outputs": [],
   "source": [
    "data[data['hh_id']==data['hh_id'].sample(1).values[0]].set_index(['hh_id', 'iiqid']).to_csv('temp.csv')"
   ]
  },
  {
   "cell_type": "code",
   "execution_count": 16,
   "id": "93ddc011-d270-48b3-b1db-be645a6ad179",
   "metadata": {
    "execution": {
     "iopub.execute_input": "2023-03-13T07:53:22.162623Z",
     "iopub.status.busy": "2023-03-13T07:53:22.162528Z",
     "iopub.status.idle": "2023-03-13T07:53:32.931487Z",
     "shell.execute_reply": "2023-03-13T07:53:32.930839Z",
     "shell.execute_reply.started": "2023-03-13T07:53:22.162614Z"
    },
    "tags": []
   },
   "outputs": [],
   "source": [
    "full_valid_rows = data[(np.vectorize(compare_versions)(data['osversion'], \n",
    "                                                         data['prev_osversion']) >= 0)\n",
    "                       & (np.vectorize(compare_versions)(data['browserversion'], \n",
    "                                                               data['prev_browserversion']) >= 0)]"
   ]
  },
  {
   "cell_type": "code",
   "execution_count": 17,
   "id": "1fc9ab43-6c60-49eb-873e-f576cbea8624",
   "metadata": {
    "execution": {
     "iopub.execute_input": "2023-03-13T07:53:32.932350Z",
     "iopub.status.busy": "2023-03-13T07:53:32.932232Z",
     "iopub.status.idle": "2023-03-13T07:53:33.225236Z",
     "shell.execute_reply": "2023-03-13T07:53:33.224834Z",
     "shell.execute_reply.started": "2023-03-13T07:53:32.932334Z"
    },
    "tags": []
   },
   "outputs": [],
   "source": [
    "ok_rows_counts = full_valid_rows.groupby(['hh_id', 'iiqid']).size()"
   ]
  },
  {
   "cell_type": "code",
   "execution_count": 18,
   "id": "8e1c854b-a1c2-4fbf-a48a-1df0cc912ef7",
   "metadata": {
    "execution": {
     "iopub.execute_input": "2023-03-13T07:53:33.226510Z",
     "iopub.status.busy": "2023-03-13T07:53:33.226418Z",
     "iopub.status.idle": "2023-03-13T07:53:33.486456Z",
     "shell.execute_reply": "2023-03-13T07:53:33.486073Z",
     "shell.execute_reply.started": "2023-03-13T07:53:33.226502Z"
    },
    "tags": []
   },
   "outputs": [],
   "source": [
    "total_rows_counts = data.groupby(['hh_id', 'iiqid']).size()"
   ]
  },
  {
   "cell_type": "code",
   "execution_count": 19,
   "id": "ce04e1be-e856-41d1-ba6d-b1b76467d7ad",
   "metadata": {
    "execution": {
     "iopub.execute_input": "2023-03-13T07:53:33.486997Z",
     "iopub.status.busy": "2023-03-13T07:53:33.486906Z",
     "iopub.status.idle": "2023-03-13T07:53:33.501982Z",
     "shell.execute_reply": "2023-03-13T07:53:33.501739Z",
     "shell.execute_reply.started": "2023-03-13T07:53:33.486988Z"
    },
    "tags": []
   },
   "outputs": [],
   "source": [
    "all_ok = ok_rows_counts.eq(total_rows_counts)"
   ]
  },
  {
   "cell_type": "code",
   "execution_count": 20,
   "id": "c932a40f-b71d-484f-9edb-2425f2f5ae7f",
   "metadata": {
    "execution": {
     "iopub.execute_input": "2023-03-13T07:53:33.502614Z",
     "iopub.status.busy": "2023-03-13T07:53:33.502485Z",
     "iopub.status.idle": "2023-03-13T07:53:33.515633Z",
     "shell.execute_reply": "2023-03-13T07:53:33.515291Z",
     "shell.execute_reply.started": "2023-03-13T07:53:33.502605Z"
    },
    "tags": []
   },
   "outputs": [
    {
     "data": {
      "text/plain": [
       "hh_id       iiqid     \n",
       "008lj1AMI8  6MILYBoI9P    True\n",
       "dtype: bool"
      ]
     },
     "execution_count": 20,
     "metadata": {},
     "output_type": "execute_result"
    }
   ],
   "source": [
    "all_ok.head(1)"
   ]
  },
  {
   "cell_type": "code",
   "execution_count": 21,
   "id": "961bf36c-44d9-4c7d-8580-a54e858d2806",
   "metadata": {
    "execution": {
     "iopub.execute_input": "2023-03-13T07:53:33.516177Z",
     "iopub.status.busy": "2023-03-13T07:53:33.516085Z",
     "iopub.status.idle": "2023-03-13T07:53:33.543837Z",
     "shell.execute_reply": "2023-03-13T07:53:33.543530Z",
     "shell.execute_reply.started": "2023-03-13T07:53:33.516168Z"
    },
    "tags": []
   },
   "outputs": [],
   "source": [
    "result = pd.concat([total_rows_counts, all_ok], axis=1)\n",
    "result.columns = ['instances','ok'] "
   ]
  },
  {
   "cell_type": "code",
   "execution_count": 21,
   "id": "57736011-a7c3-4166-959c-ec16c0309d07",
   "metadata": {
    "execution": {
     "iopub.execute_input": "2023-03-12T20:51:01.594546Z",
     "iopub.status.busy": "2023-03-12T20:51:01.593711Z",
     "iopub.status.idle": "2023-03-12T20:51:01.631465Z",
     "shell.execute_reply": "2023-03-12T20:51:01.631100Z",
     "shell.execute_reply.started": "2023-03-12T20:51:01.594479Z"
    },
    "tags": []
   },
   "outputs": [
    {
     "data": {
      "text/html": [
       "<div>\n",
       "<style scoped>\n",
       "    .dataframe tbody tr th:only-of-type {\n",
       "        vertical-align: middle;\n",
       "    }\n",
       "\n",
       "    .dataframe tbody tr th {\n",
       "        vertical-align: top;\n",
       "    }\n",
       "\n",
       "    .dataframe thead th {\n",
       "        text-align: right;\n",
       "    }\n",
       "</style>\n",
       "<table border=\"1\" class=\"dataframe\">\n",
       "  <thead>\n",
       "    <tr style=\"text-align: right;\">\n",
       "      <th></th>\n",
       "      <th></th>\n",
       "      <th>instances</th>\n",
       "      <th>ok</th>\n",
       "    </tr>\n",
       "    <tr>\n",
       "      <th>hh_id</th>\n",
       "      <th>iiqid</th>\n",
       "      <th></th>\n",
       "      <th></th>\n",
       "    </tr>\n",
       "  </thead>\n",
       "  <tbody>\n",
       "    <tr>\n",
       "      <th rowspan=\"5\" valign=\"top\">008lj1AMI8</th>\n",
       "      <th>6MILYBoI9P</th>\n",
       "      <td>66</td>\n",
       "      <td>False</td>\n",
       "    </tr>\n",
       "    <tr>\n",
       "      <th>UVg62Vt8Va</th>\n",
       "      <td>41</td>\n",
       "      <td>False</td>\n",
       "    </tr>\n",
       "    <tr>\n",
       "      <th>WATS0P8zVm</th>\n",
       "      <td>156</td>\n",
       "      <td>False</td>\n",
       "    </tr>\n",
       "    <tr>\n",
       "      <th>mXwL7QCw5O</th>\n",
       "      <td>51</td>\n",
       "      <td>False</td>\n",
       "    </tr>\n",
       "    <tr>\n",
       "      <th>vjNRSKwlH4</th>\n",
       "      <td>28</td>\n",
       "      <td>True</td>\n",
       "    </tr>\n",
       "  </tbody>\n",
       "</table>\n",
       "</div>"
      ],
      "text/plain": [
       "                       instances     ok\n",
       "hh_id      iiqid                       \n",
       "008lj1AMI8 6MILYBoI9P         66  False\n",
       "           UVg62Vt8Va         41  False\n",
       "           WATS0P8zVm        156  False\n",
       "           mXwL7QCw5O         51  False\n",
       "           vjNRSKwlH4         28   True"
      ]
     },
     "execution_count": 21,
     "metadata": {},
     "output_type": "execute_result"
    }
   ],
   "source": [
    "result.head()"
   ]
  },
  {
   "cell_type": "code",
   "execution_count": 52,
   "id": "5a5bb060-a06b-4d8f-b6f7-9c0bfde2100f",
   "metadata": {
    "execution": {
     "iopub.execute_input": "2023-03-12T08:43:52.871267Z",
     "iopub.status.busy": "2023-03-12T08:43:52.871085Z",
     "iopub.status.idle": "2023-03-12T08:43:52.998357Z",
     "shell.execute_reply": "2023-03-12T08:43:52.997984Z",
     "shell.execute_reply.started": "2023-03-12T08:43:52.871255Z"
    },
    "tags": []
   },
   "outputs": [
    {
     "data": {
      "text/plain": [
       "<Axes: xlabel='ok', ylabel='count'>"
      ]
     },
     "execution_count": 52,
     "metadata": {},
     "output_type": "execute_result"
    },
    {
     "data": {
      "image/png": "[encoded data removed]",
      "text/plain": [
       "<Figure size 1200x500 with 1 Axes>"
      ]
     },
     "metadata": {},
     "output_type": "display_data"
    }
   ],
   "source": [
    "sns.countplot(data=result, x='ok')"
   ]
  },
  {
   "cell_type": "code",
   "execution_count": 22,
   "id": "2adaa07d-7f49-4793-b9f9-52ca9d1103de",
   "metadata": {
    "execution": {
     "iopub.execute_input": "2023-03-13T07:53:33.544501Z",
     "iopub.status.busy": "2023-03-13T07:53:33.544336Z",
     "iopub.status.idle": "2023-03-13T07:53:33.566150Z",
     "shell.execute_reply": "2023-03-13T07:53:33.565849Z",
     "shell.execute_reply.started": "2023-03-13T07:53:33.544490Z"
    },
    "tags": []
   },
   "outputs": [],
   "source": [
    "cookie_hhd_data = pd.concat([grouped, result], axis=1)\n",
    "cookie_hhd_data.columns = [\"time_min\", \"time_max\", \"lifespan\", \"instances\", \"ok\"]"
   ]
  },
  {
   "cell_type": "code",
   "execution_count": 54,
   "id": "cff76074-3681-402c-bded-69961723db58",
   "metadata": {
    "execution": {
     "iopub.execute_input": "2023-03-12T08:43:53.035449Z",
     "iopub.status.busy": "2023-03-12T08:43:53.035309Z",
     "iopub.status.idle": "2023-03-12T08:43:53.047805Z",
     "shell.execute_reply": "2023-03-12T08:43:53.047526Z",
     "shell.execute_reply.started": "2023-03-12T08:43:53.035439Z"
    },
    "tags": []
   },
   "outputs": [],
   "source": [
    "lifespan_order = [str(i) for i in range(84, -1, -1)]"
   ]
  },
  {
   "cell_type": "code",
   "execution_count": 55,
   "id": "d90d3c29-acbc-4867-a9cb-9aaf373e601e",
   "metadata": {
    "execution": {
     "iopub.execute_input": "2023-03-12T08:43:53.048235Z",
     "iopub.status.busy": "2023-03-12T08:43:53.048153Z",
     "iopub.status.idle": "2023-03-12T08:43:53.294585Z",
     "shell.execute_reply": "2023-03-12T08:43:53.294193Z",
     "shell.execute_reply.started": "2023-03-12T08:43:53.048226Z"
    },
    "tags": []
   },
   "outputs": [
    {
     "data": {
      "image/png": "[encoded data removed]",
      "text/plain": [
       "<Figure size 1200x500 with 1 Axes>"
      ]
     },
     "metadata": {},
     "output_type": "display_data"
    }
   ],
   "source": [
    "sns.barplot(data=cookie_hhd_data, x=\"lifespan\", y=\"ok\", errorbar=None, order=list(reversed(range(0, 85))))\n",
    "plt.xticks(range(0, 85, 4));"
   ]
  },
  {
   "cell_type": "code",
   "execution_count": 23,
   "id": "e93b1983-1e36-4c5f-b979-4d882c831334",
   "metadata": {
    "execution": {
     "iopub.execute_input": "2023-03-12T20:51:44.007539Z",
     "iopub.status.busy": "2023-03-12T20:51:44.006376Z",
     "iopub.status.idle": "2023-03-12T20:51:44.360052Z",
     "shell.execute_reply": "2023-03-12T20:51:44.359747Z",
     "shell.execute_reply.started": "2023-03-12T20:51:44.007452Z"
    },
    "tags": []
   },
   "outputs": [
    {
     "name": "stdout",
     "output_type": "stream",
     "text": [
      "Found!\n"
     ]
    }
   ],
   "source": [
    "found = False\n",
    "limit_search = 1000\n",
    "while not found and limit_search > 0:\n",
    "    limit_search -= 1\n",
    "    one_cookie_sample = cookie_hhd_data[cookie_hhd_data[\"ok\"]==False].sample()\n",
    "    one_cookie_id = one_cookie_sample.index.get_level_values(1).values[0]\n",
    "    one_cookie_data = data[data[\"iiqid\"]==one_cookie_id].copy()\n",
    "    # browsers_of_cookie = one_cookie_data.browser.value_counts().sort_values(ascending=False)\n",
    "    browsers_of_cookie = len(one_cookie_data.browser.unique())\n",
    "    os_of_cookie = len(one_cookie_data.os.unique())\n",
    "    if browsers_of_cookie == 1 and os_of_cookie == 1:\n",
    "        # if len(browsers_of_cookie) > 1:\n",
    "        # if browsers_of_cookie.iloc[1]  > browsers_of_cookie.sum()/4:\n",
    "        found = True\n",
    "if found:\n",
    "    print(\"Found!\")\n",
    "else:\n",
    "    print(\"Not Found\")"
   ]
  },
  {
   "cell_type": "code",
   "execution_count": 173,
   "id": "bcfc4be0-9275-47b4-b249-b778a6203ca5",
   "metadata": {
    "execution": {
     "iopub.execute_input": "2023-03-12T09:48:05.726139Z",
     "iopub.status.busy": "2023-03-12T09:48:05.724567Z",
     "iopub.status.idle": "2023-03-12T09:48:05.792751Z",
     "shell.execute_reply": "2023-03-12T09:48:05.792039Z",
     "shell.execute_reply.started": "2023-03-12T09:48:05.726053Z"
    },
    "tags": []
   },
   "outputs": [],
   "source": [
    "# one_cookie_data.browser"
   ]
  },
  {
   "cell_type": "code",
   "execution_count": 160,
   "id": "f7e55360-3b8d-4573-83e1-53e552524b03",
   "metadata": {
    "execution": {
     "iopub.execute_input": "2023-03-12T09:45:22.518022Z",
     "iopub.status.busy": "2023-03-12T09:45:22.517497Z",
     "iopub.status.idle": "2023-03-12T09:45:22.554057Z",
     "shell.execute_reply": "2023-03-12T09:45:22.553606Z",
     "shell.execute_reply.started": "2023-03-12T09:45:22.517992Z"
    },
    "tags": []
   },
   "outputs": [],
   "source": [
    "one_cookie_sample = cookie_hhd_data[cookie_hhd_data[\"ok\"]==False].sample()"
   ]
  },
  {
   "cell_type": "code",
   "execution_count": 161,
   "id": "7fac31cc-8136-421e-b9d3-3d0c04f08a55",
   "metadata": {
    "execution": {
     "iopub.execute_input": "2023-03-12T09:45:22.719008Z",
     "iopub.status.busy": "2023-03-12T09:45:22.718374Z",
     "iopub.status.idle": "2023-03-12T09:45:22.751074Z",
     "shell.execute_reply": "2023-03-12T09:45:22.750579Z",
     "shell.execute_reply.started": "2023-03-12T09:45:22.718958Z"
    },
    "tags": []
   },
   "outputs": [],
   "source": [
    "one_cookie_id = one_cookie_sample.index.get_level_values(1).values[0]"
   ]
  },
  {
   "cell_type": "code",
   "execution_count": 162,
   "id": "a2932e62-c391-4382-8bda-e070e6eece15",
   "metadata": {
    "execution": {
     "iopub.execute_input": "2023-03-12T09:45:22.886176Z",
     "iopub.status.busy": "2023-03-12T09:45:22.885660Z",
     "iopub.status.idle": "2023-03-12T09:45:23.065734Z",
     "shell.execute_reply": "2023-03-12T09:45:23.065290Z",
     "shell.execute_reply.started": "2023-03-12T09:45:22.886141Z"
    },
    "tags": []
   },
   "outputs": [],
   "source": [
    "one_cookie_data = data[data[\"iiqid\"]==one_cookie_id]"
   ]
  },
  {
   "cell_type": "code",
   "execution_count": 163,
   "id": "b586a665-73e6-4966-82c4-eb021532c7e0",
   "metadata": {
    "execution": {
     "iopub.execute_input": "2023-03-12T09:45:23.066609Z",
     "iopub.status.busy": "2023-03-12T09:45:23.066496Z",
     "iopub.status.idle": "2023-03-12T09:45:23.080880Z",
     "shell.execute_reply": "2023-03-12T09:45:23.080519Z",
     "shell.execute_reply.started": "2023-03-12T09:45:23.066600Z"
    },
    "tags": []
   },
   "outputs": [],
   "source": [
    "browsers_of_cookie = one_cookie_data.browser.value_counts().sort_values(ascending=False)"
   ]
  },
  {
   "cell_type": "code",
   "execution_count": 164,
   "id": "50325827-85c2-4761-a0a2-4112f8b6cd70",
   "metadata": {
    "execution": {
     "iopub.execute_input": "2023-03-12T09:45:23.182878Z",
     "iopub.status.busy": "2023-03-12T09:45:23.182627Z",
     "iopub.status.idle": "2023-03-12T09:45:23.202411Z",
     "shell.execute_reply": "2023-03-12T09:45:23.201899Z",
     "shell.execute_reply.started": "2023-03-12T09:45:23.182861Z"
    },
    "tags": []
   },
   "outputs": [
    {
     "data": {
      "text/plain": [
       "48.5"
      ]
     },
     "execution_count": 164,
     "metadata": {},
     "output_type": "execute_result"
    }
   ],
   "source": [
    "browsers_of_cookie.sum()/4"
   ]
  },
  {
   "cell_type": "code",
   "execution_count": 175,
   "id": "b68e72ec-4d2b-4f9f-8edf-2572257397e1",
   "metadata": {
    "execution": {
     "iopub.execute_input": "2023-03-12T09:49:12.384245Z",
     "iopub.status.busy": "2023-03-12T09:49:12.382841Z",
     "iopub.status.idle": "2023-03-12T09:49:12.437999Z",
     "shell.execute_reply": "2023-03-12T09:49:12.437586Z",
     "shell.execute_reply.started": "2023-03-12T09:49:12.384185Z"
    },
    "tags": []
   },
   "outputs": [
    {
     "data": {
      "text/plain": [
       "edge    246\n",
       "Name: browser, dtype: int64"
      ]
     },
     "execution_count": 175,
     "metadata": {},
     "output_type": "execute_result"
    }
   ],
   "source": [
    "one_cookie_data.browser.value_counts()"
   ]
  },
  {
   "cell_type": "code",
   "execution_count": 176,
   "id": "7778ef4c-c621-4319-8e3a-e9f5acf37fc3",
   "metadata": {
    "execution": {
     "iopub.execute_input": "2023-03-12T09:49:15.169475Z",
     "iopub.status.busy": "2023-03-12T09:49:15.168662Z",
     "iopub.status.idle": "2023-03-12T09:49:15.201263Z",
     "shell.execute_reply": "2023-03-12T09:49:15.200726Z",
     "shell.execute_reply.started": "2023-03-12T09:49:15.169416Z"
    },
    "tags": []
   },
   "outputs": [],
   "source": [
    "ordered_versions = sorted(one_cookie_data.browserversion.unique(), key=cmp_to_key(compare_versions))"
   ]
  },
  {
   "cell_type": "code",
   "execution_count": 177,
   "id": "09a3010f-bc33-4170-afaa-a1b66611749f",
   "metadata": {
    "execution": {
     "iopub.execute_input": "2023-03-12T09:49:15.779433Z",
     "iopub.status.busy": "2023-03-12T09:49:15.778492Z",
     "iopub.status.idle": "2023-03-12T09:49:16.039962Z",
     "shell.execute_reply": "2023-03-12T09:49:16.039632Z",
     "shell.execute_reply.started": "2023-03-12T09:49:15.779360Z"
    },
    "tags": []
   },
   "outputs": [
    {
     "data": {
      "text/plain": [
       "<Axes: xlabel='time', ylabel='browserversion'>"
      ]
     },
     "execution_count": 177,
     "metadata": {},
     "output_type": "execute_result"
    },
    {
     "data": {
      "image/png": "[encoded data removed]",
      "text/plain": [
       "<Figure size 1200x500 with 1 Axes>"
      ]
     },
     "metadata": {},
     "output_type": "display_data"
    }
   ],
   "source": [
    "sns.stripplot(data=one_cookie_data, x=\"time\", y=\"browserversion\", \n",
    "              order=ordered_versions[::-1], jitter=False)"
   ]
  },
  {
   "cell_type": "code",
   "execution_count": 178,
   "id": "ca6e1402-e98a-4a2b-8828-4ca31afaf60c",
   "metadata": {
    "execution": {
     "iopub.execute_input": "2023-03-12T09:49:28.135460Z",
     "iopub.status.busy": "2023-03-12T09:49:28.133889Z",
     "iopub.status.idle": "2023-03-12T09:49:28.191571Z",
     "shell.execute_reply": "2023-03-12T09:49:28.190972Z",
     "shell.execute_reply.started": "2023-03-12T09:49:28.135380Z"
    },
    "tags": []
   },
   "outputs": [],
   "source": [
    "# one_cookie_data[one_cookie_data[\"browserversion\"].apply(lambda v: v[0]==\"2\")]"
   ]
  },
  {
   "cell_type": "code",
   "execution_count": 179,
   "id": "188b81e3-16f6-4f3f-83f0-19f24de2fd4a",
   "metadata": {
    "execution": {
     "iopub.execute_input": "2023-03-12T09:49:28.472205Z",
     "iopub.status.busy": "2023-03-12T09:49:28.471626Z",
     "iopub.status.idle": "2023-03-12T09:49:28.504890Z",
     "shell.execute_reply": "2023-03-12T09:49:28.504475Z",
     "shell.execute_reply.started": "2023-03-12T09:49:28.472163Z"
    },
    "tags": []
   },
   "outputs": [
    {
     "data": {
      "text/plain": [
       "'cUO4TrcMgH'"
      ]
     },
     "execution_count": 179,
     "metadata": {},
     "output_type": "execute_result"
    }
   ],
   "source": [
    "one_cookie_id"
   ]
  },
  {
   "cell_type": "code",
   "execution_count": 180,
   "id": "358446f9-4bb1-4309-a630-1d8bf12a69c6",
   "metadata": {
    "execution": {
     "iopub.execute_input": "2023-03-12T09:49:28.829203Z",
     "iopub.status.busy": "2023-03-12T09:49:28.828283Z",
     "iopub.status.idle": "2023-03-12T09:49:28.967278Z",
     "shell.execute_reply": "2023-03-12T09:49:28.966366Z",
     "shell.execute_reply.started": "2023-03-12T09:49:28.829134Z"
    },
    "tags": []
   },
   "outputs": [
    {
     "data": {
      "text/plain": [
       "<Axes: title={'center': \"Cookie's iiqid: cUO4TrcMgH\"}>"
      ]
     },
     "execution_count": 180,
     "metadata": {},
     "output_type": "execute_result"
    },
    {
     "data": {
      "image/png": "[encoded data removed]",
      "text/plain": [
       "<Figure size 1200x500 with 1 Axes>"
      ]
     },
     "metadata": {},
     "output_type": "display_data"
    }
   ],
   "source": [
    "one_cookie_data.browser.value_counts().plot.bar(title=f\"Cookie's iiqid: {one_cookie_id}\")"
   ]
  },
  {
   "cell_type": "markdown",
   "id": "5764dba5-2575-45a0-bfb7-7cb54ed23550",
   "metadata": {},
   "source": [
    "## Mixed Constant For One Cookie"
   ]
  },
  {
   "cell_type": "code",
   "execution_count": 152,
   "id": "589c9714-6c17-451a-b9a3-ec1d0518d3ab",
   "metadata": {
    "execution": {
     "iopub.execute_input": "2023-03-13T09:44:57.022888Z",
     "iopub.status.busy": "2023-03-13T09:44:57.021007Z",
     "iopub.status.idle": "2023-03-13T09:44:57.072794Z",
     "shell.execute_reply": "2023-03-13T09:44:57.072228Z",
     "shell.execute_reply.started": "2023-03-13T09:44:57.022810Z"
    },
    "tags": []
   },
   "outputs": [],
   "source": [
    "# data.groupby([\"hh_id\", \"iiqid\", "
   ]
  },
  {
   "cell_type": "code",
   "execution_count": 321,
   "id": "3ade422e-6a6d-4dc9-afdf-e145e5a9f03e",
   "metadata": {
    "execution": {
     "iopub.execute_input": "2023-03-13T11:41:57.408182Z",
     "iopub.status.busy": "2023-03-13T11:41:57.407289Z",
     "iopub.status.idle": "2023-03-13T11:42:02.645341Z",
     "shell.execute_reply": "2023-03-13T11:42:02.644533Z",
     "shell.execute_reply.started": "2023-03-13T11:41:57.408113Z"
    },
    "tags": []
   },
   "outputs": [],
   "source": [
    "unique_values_per_cookie = data.groupby([\"hh_id\", \"iiqid\"])[[\"timestamp\", \"brand\", \"model\", \"os\", \"browser\", \"advertisedbrowser\"]].nunique()"
   ]
  },
  {
   "cell_type": "code",
   "execution_count": 322,
   "id": "42d788e0-09c8-4996-8939-41205a8970a4",
   "metadata": {
    "execution": {
     "iopub.execute_input": "2023-03-13T11:42:03.694856Z",
     "iopub.status.busy": "2023-03-13T11:42:03.694366Z",
     "iopub.status.idle": "2023-03-13T11:42:03.744872Z",
     "shell.execute_reply": "2023-03-13T11:42:03.744545Z",
     "shell.execute_reply.started": "2023-03-13T11:42:03.694814Z"
    },
    "tags": []
   },
   "outputs": [],
   "source": [
    "unique_values_per_cookie[\"sum\"] = unique_values_per_cookie.iloc[:,1:].sum(axis=1)"
   ]
  },
  {
   "cell_type": "code",
   "execution_count": 324,
   "id": "8522bb68-e8ba-4589-ade3-244ffeb972ca",
   "metadata": {
    "execution": {
     "iopub.execute_input": "2023-03-13T11:42:53.119184Z",
     "iopub.status.busy": "2023-03-13T11:42:53.118419Z",
     "iopub.status.idle": "2023-03-13T11:42:53.154859Z",
     "shell.execute_reply": "2023-03-13T11:42:53.154491Z",
     "shell.execute_reply.started": "2023-03-13T11:42:53.119147Z"
    },
    "tags": []
   },
   "outputs": [],
   "source": [
    "# Originnaly there where only 4 columns and the 'ok' sum was 4\n",
    "equal_4 = unique_values_per_cookie[unique_values_per_cookie[\"sum\"]==5]\n",
    "more_than_4 = unique_values_per_cookie[unique_values_per_cookie[\"sum\"]>5]"
   ]
  },
  {
   "cell_type": "code",
   "execution_count": 325,
   "id": "d2e8993f-3f2b-41cd-9c20-0deb6faf0265",
   "metadata": {
    "execution": {
     "iopub.execute_input": "2023-03-13T11:42:53.765523Z",
     "iopub.status.busy": "2023-03-13T11:42:53.764610Z",
     "iopub.status.idle": "2023-03-13T11:42:53.907125Z",
     "shell.execute_reply": "2023-03-13T11:42:53.906001Z",
     "shell.execute_reply.started": "2023-03-13T11:42:53.765457Z"
    },
    "tags": []
   },
   "outputs": [
    {
     "data": {
      "text/plain": [
       "Text(0.5, 1.0, 'Number of user agents assosiated with each cookie')"
      ]
     },
     "execution_count": 325,
     "metadata": {},
     "output_type": "execute_result"
    },
    {
     "data": {
      "image/png": "[encoded data removed]",
      "text/plain": [
       "<Figure size 1200x500 with 1 Axes>"
      ]
     },
     "metadata": {},
     "output_type": "display_data"
    }
   ],
   "source": [
    "plt.bar([\"Just One\", \"More Than One\"], [len(equal_4), len(more_than_4)])\n",
    "plt.title(\"Number of user agents assosiated with each cookie\")"
   ]
  },
  {
   "cell_type": "code",
   "execution_count": 326,
   "id": "0713cec6-ea59-4713-a77e-8b6f87acd65f",
   "metadata": {
    "execution": {
     "iopub.execute_input": "2023-03-13T11:42:58.246478Z",
     "iopub.status.busy": "2023-03-13T11:42:58.245589Z",
     "iopub.status.idle": "2023-03-13T11:42:59.347312Z",
     "shell.execute_reply": "2023-03-13T11:42:59.346846Z",
     "shell.execute_reply.started": "2023-03-13T11:42:58.246409Z"
    },
    "tags": []
   },
   "outputs": [],
   "source": [
    "column_pick = \"browser\"\n",
    "browser_counts = data.groupby([\"hh_id\", \"iiqid\"])[column_pick].value_counts()"
   ]
  },
  {
   "cell_type": "code",
   "execution_count": 327,
   "id": "a61b4dbf-9ed6-44ec-a587-ca42a6ffe47f",
   "metadata": {
    "execution": {
     "iopub.execute_input": "2023-03-13T11:42:59.348285Z",
     "iopub.status.busy": "2023-03-13T11:42:59.348188Z",
     "iopub.status.idle": "2023-03-13T11:42:59.374728Z",
     "shell.execute_reply": "2023-03-13T11:42:59.374425Z",
     "shell.execute_reply.started": "2023-03-13T11:42:59.348277Z"
    },
    "tags": []
   },
   "outputs": [],
   "source": [
    "unstacked_browser_counts = browser_counts.unstack(level=2).fillna(0).astype(int)"
   ]
  },
  {
   "cell_type": "code",
   "execution_count": 328,
   "id": "3fa95128-7d57-4418-893d-73d6938af8d7",
   "metadata": {
    "execution": {
     "iopub.execute_input": "2023-03-13T11:42:59.375238Z",
     "iopub.status.busy": "2023-03-13T11:42:59.375143Z",
     "iopub.status.idle": "2023-03-13T11:42:59.403918Z",
     "shell.execute_reply": "2023-03-13T11:42:59.403386Z",
     "shell.execute_reply.started": "2023-03-13T11:42:59.375229Z"
    },
    "tags": []
   },
   "outputs": [],
   "source": [
    "unstacked_browser_counts[\"mode\"] = unstacked_browser_counts.idxmax(axis=1)"
   ]
  },
  {
   "cell_type": "code",
   "execution_count": 329,
   "id": "520b36b6-05c9-4e9c-94d2-bd7c1a4019fc",
   "metadata": {
    "execution": {
     "iopub.execute_input": "2023-03-13T11:42:59.405479Z",
     "iopub.status.busy": "2023-03-13T11:42:59.405373Z",
     "iopub.status.idle": "2023-03-13T11:42:59.420112Z",
     "shell.execute_reply": "2023-03-13T11:42:59.419750Z",
     "shell.execute_reply.started": "2023-03-13T11:42:59.405469Z"
    },
    "tags": []
   },
   "outputs": [],
   "source": [
    "unstacked_browser_counts[\"total\"] = unstacked_browser_counts.select_dtypes('number').sum(axis=1)"
   ]
  },
  {
   "cell_type": "code",
   "execution_count": 330,
   "id": "82efd8bb-4df0-44a5-8a83-ec633b33b425",
   "metadata": {
    "execution": {
     "iopub.execute_input": "2023-03-13T11:42:59.420722Z",
     "iopub.status.busy": "2023-03-13T11:42:59.420626Z",
     "iopub.status.idle": "2023-03-13T11:42:59.626499Z",
     "shell.execute_reply": "2023-03-13T11:42:59.626162Z",
     "shell.execute_reply.started": "2023-03-13T11:42:59.420712Z"
    },
    "tags": []
   },
   "outputs": [],
   "source": [
    "def get_value(row):\n",
    "    return row[row['mode']]\n",
    "\n",
    "unstacked_browser_counts[\"mode_count\"] = unstacked_browser_counts.apply(get_value, axis=1)"
   ]
  },
  {
   "cell_type": "code",
   "execution_count": 331,
   "id": "dc2948ab-1136-4ec5-8a2d-97547787822b",
   "metadata": {
    "execution": {
     "iopub.execute_input": "2023-03-13T11:42:59.953777Z",
     "iopub.status.busy": "2023-03-13T11:42:59.952557Z",
     "iopub.status.idle": "2023-03-13T11:42:59.987200Z",
     "shell.execute_reply": "2023-03-13T11:42:59.986554Z",
     "shell.execute_reply.started": "2023-03-13T11:42:59.953725Z"
    },
    "tags": []
   },
   "outputs": [],
   "source": [
    "unstacked_browser_counts[\"mode_fraction\"] = unstacked_browser_counts[\"mode_count\"] / unstacked_browser_counts[\"total\"]"
   ]
  },
  {
   "cell_type": "code",
   "execution_count": 332,
   "id": "1822115b-ed81-48a9-bee4-d6b01515f8aa",
   "metadata": {
    "execution": {
     "iopub.execute_input": "2023-03-13T11:43:04.613638Z",
     "iopub.status.busy": "2023-03-13T11:43:04.611971Z",
     "iopub.status.idle": "2023-03-13T11:43:04.873042Z",
     "shell.execute_reply": "2023-03-13T11:43:04.872737Z",
     "shell.execute_reply.started": "2023-03-13T11:43:04.613557Z"
    },
    "tags": []
   },
   "outputs": [
    {
     "data": {
      "text/plain": [
       "Text(0.5, 1.0, 'Distribution of UA homogeneity per cookie')"
      ]
     },
     "execution_count": 332,
     "metadata": {},
     "output_type": "execute_result"
    },
    {
     "data": {
      "image/png": "[encoded data removed]",
      "text/plain": [
       "<Figure size 1200x500 with 1 Axes>"
      ]
     },
     "metadata": {},
     "output_type": "display_data"
    }
   ],
   "source": [
    "sns.histplot(data=unstacked_browser_counts, x=\"mode_fraction\", bins=50)\n",
    "plt.title(\"Distribution of UA homogeneity per cookie\")"
   ]
  },
  {
   "cell_type": "code",
   "execution_count": 333,
   "id": "53674d03-adee-4a29-814b-8a6df9551ecf",
   "metadata": {
    "execution": {
     "iopub.execute_input": "2023-03-13T11:43:07.143240Z",
     "iopub.status.busy": "2023-03-13T11:43:07.142382Z",
     "iopub.status.idle": "2023-03-13T11:43:07.354101Z",
     "shell.execute_reply": "2023-03-13T11:43:07.353800Z",
     "shell.execute_reply.started": "2023-03-13T11:43:07.143167Z"
    },
    "tags": []
   },
   "outputs": [
    {
     "data": {
      "text/plain": [
       "Text(0.5, 1.0, 'Distribution of UA homogeneity per cookie')"
      ]
     },
     "execution_count": 333,
     "metadata": {},
     "output_type": "execute_result"
    },
    {
     "data": {
      "image/png": "[encoded data removed]",
      "text/plain": [
       "<Figure size 1200x500 with 1 Axes>"
      ]
     },
     "metadata": {},
     "output_type": "display_data"
    }
   ],
   "source": [
    "sns.histplot(data=unstacked_browser_counts[unstacked_browser_counts[\"mode_fraction\"] < 1], x=\"mode_fraction\", bins=50)\n",
    "plt.title(\"Distribution of UA homogeneity per cookie\")"
   ]
  },
  {
   "cell_type": "markdown",
   "id": "5125f9ea-f64b-4a80-8aeb-00471f322db4",
   "metadata": {},
   "source": [
    "## ow many errors are they, if we exclude the mixed UA"
   ]
  },
  {
   "cell_type": "code",
   "execution_count": 334,
   "id": "3db5d2e5-60d5-472f-9ee8-b01d5bb3bdcf",
   "metadata": {
    "execution": {
     "iopub.execute_input": "2023-03-13T11:43:20.765621Z",
     "iopub.status.busy": "2023-03-13T11:43:20.764728Z",
     "iopub.status.idle": "2023-03-13T11:43:21.589656Z",
     "shell.execute_reply": "2023-03-13T11:43:21.588926Z",
     "shell.execute_reply.started": "2023-03-13T11:43:20.765555Z"
    },
    "tags": []
   },
   "outputs": [],
   "source": [
    "non_mixed_data = data[data[\"iiqid\"].isin(equal_4.index.get_level_values(1).to_list())]"
   ]
  },
  {
   "cell_type": "code",
   "execution_count": 335,
   "id": "f5085f34-7f3a-484d-a2b5-640b3b611ca7",
   "metadata": {
    "execution": {
     "iopub.execute_input": "2023-03-13T11:43:21.621226Z",
     "iopub.status.busy": "2023-03-13T11:43:21.621035Z",
     "iopub.status.idle": "2023-03-13T11:43:21.905138Z",
     "shell.execute_reply": "2023-03-13T11:43:21.904745Z",
     "shell.execute_reply.started": "2023-03-13T11:43:21.621207Z"
    },
    "tags": []
   },
   "outputs": [],
   "source": [
    "non_mixed_data = non_mixed_data.sort_values(by=\"time\")"
   ]
  },
  {
   "cell_type": "code",
   "execution_count": 336,
   "id": "5042be3b-dfb0-49e0-b044-b0de84b336f4",
   "metadata": {
    "execution": {
     "iopub.execute_input": "2023-03-13T11:43:23.067090Z",
     "iopub.status.busy": "2023-03-13T11:43:23.066593Z",
     "iopub.status.idle": "2023-03-13T11:43:23.652669Z",
     "shell.execute_reply": "2023-03-13T11:43:23.652226Z",
     "shell.execute_reply.started": "2023-03-13T11:43:23.067055Z"
    },
    "tags": []
   },
   "outputs": [],
   "source": [
    "non_mixed_data['prev_osversion'] = non_mixed_data.groupby(['hh_id', 'iiqid'])['osversion'].shift(1).fillna(\"0\")\n",
    "non_mixed_data['prev_browserversion'] = non_mixed_data.groupby(['hh_id', 'iiqid'])['browserversion'].shift(1).fillna(\"0.0.0.0\")"
   ]
  },
  {
   "cell_type": "code",
   "execution_count": 337,
   "id": "578b2a90-eaba-4740-8ca1-055d1333759b",
   "metadata": {
    "execution": {
     "iopub.execute_input": "2023-03-13T11:43:23.780763Z",
     "iopub.status.busy": "2023-03-13T11:43:23.780484Z",
     "iopub.status.idle": "2023-03-13T11:43:28.415328Z",
     "shell.execute_reply": "2023-03-13T11:43:28.413361Z",
     "shell.execute_reply.started": "2023-03-13T11:43:23.780742Z"
    },
    "tags": []
   },
   "outputs": [],
   "source": [
    "full_valid_rows = non_mixed_data[(np.vectorize(compare_versions)(non_mixed_data['osversion'], \n",
    "                                                         non_mixed_data['prev_osversion']) >= 0)\n",
    "                       & (np.vectorize(compare_versions)(non_mixed_data['browserversion'], \n",
    "                                                               non_mixed_data['prev_browserversion']) >= 0)]"
   ]
  },
  {
   "cell_type": "code",
   "execution_count": 338,
   "id": "fbf9c419-2c17-422e-a5e8-3d7775ed4d6d",
   "metadata": {
    "execution": {
     "iopub.execute_input": "2023-03-13T11:43:28.417234Z",
     "iopub.status.busy": "2023-03-13T11:43:28.417104Z",
     "iopub.status.idle": "2023-03-13T11:43:28.585156Z",
     "shell.execute_reply": "2023-03-13T11:43:28.584731Z",
     "shell.execute_reply.started": "2023-03-13T11:43:28.417221Z"
    },
    "tags": []
   },
   "outputs": [],
   "source": [
    "ok_rows_counts = full_valid_rows.groupby(['hh_id', 'iiqid']).size()"
   ]
  },
  {
   "cell_type": "code",
   "execution_count": 339,
   "id": "72231a7c-8ab5-430e-8403-6617a3db489b",
   "metadata": {
    "execution": {
     "iopub.execute_input": "2023-03-13T11:43:28.585905Z",
     "iopub.status.busy": "2023-03-13T11:43:28.585790Z",
     "iopub.status.idle": "2023-03-13T11:43:28.718087Z",
     "shell.execute_reply": "2023-03-13T11:43:28.717644Z",
     "shell.execute_reply.started": "2023-03-13T11:43:28.585896Z"
    },
    "tags": []
   },
   "outputs": [],
   "source": [
    "total_rows_counts = non_mixed_data.groupby(['hh_id', 'iiqid']).size()"
   ]
  },
  {
   "cell_type": "code",
   "execution_count": 340,
   "id": "5c6c31ae-0ddf-4f3f-acc2-3bef35e5b2a9",
   "metadata": {
    "execution": {
     "iopub.execute_input": "2023-03-13T11:43:28.719344Z",
     "iopub.status.busy": "2023-03-13T11:43:28.719247Z",
     "iopub.status.idle": "2023-03-13T11:43:28.734346Z",
     "shell.execute_reply": "2023-03-13T11:43:28.734080Z",
     "shell.execute_reply.started": "2023-03-13T11:43:28.719335Z"
    },
    "tags": []
   },
   "outputs": [],
   "source": [
    "all_ok = ok_rows_counts.eq(total_rows_counts)"
   ]
  },
  {
   "cell_type": "code",
   "execution_count": 341,
   "id": "75ddbd44-f4c9-4e57-a2e2-54413ff5769a",
   "metadata": {
    "execution": {
     "iopub.execute_input": "2023-03-13T11:43:28.734996Z",
     "iopub.status.busy": "2023-03-13T11:43:28.734857Z",
     "iopub.status.idle": "2023-03-13T11:43:28.757501Z",
     "shell.execute_reply": "2023-03-13T11:43:28.755732Z",
     "shell.execute_reply.started": "2023-03-13T11:43:28.734987Z"
    },
    "tags": []
   },
   "outputs": [],
   "source": [
    "result = pd.concat([total_rows_counts, all_ok], axis=1)\n",
    "result.columns = ['instances','ok'] "
   ]
  },
  {
   "cell_type": "code",
   "execution_count": 342,
   "id": "c0636171-df12-4988-9ecc-91303ad8d770",
   "metadata": {
    "execution": {
     "iopub.execute_input": "2023-03-13T11:43:28.758322Z",
     "iopub.status.busy": "2023-03-13T11:43:28.758145Z",
     "iopub.status.idle": "2023-03-13T11:43:28.858831Z",
     "shell.execute_reply": "2023-03-13T11:43:28.858188Z",
     "shell.execute_reply.started": "2023-03-13T11:43:28.758309Z"
    },
    "tags": []
   },
   "outputs": [
    {
     "data": {
      "text/plain": [
       "<Axes: xlabel='ok', ylabel='count'>"
      ]
     },
     "execution_count": 342,
     "metadata": {},
     "output_type": "execute_result"
    },
    {
     "data": {
      "image/png": "[encoded data removed]",
      "text/plain": [
       "<Figure size 1200x500 with 1 Axes>"
      ]
     },
     "metadata": {},
     "output_type": "display_data"
    }
   ],
   "source": [
    "sns.countplot(data=result, x='ok')"
   ]
  },
  {
   "cell_type": "code",
   "execution_count": 343,
   "id": "9401e369-1426-45eb-8819-b2936126cc55",
   "metadata": {
    "execution": {
     "iopub.execute_input": "2023-03-13T11:43:30.447700Z",
     "iopub.status.busy": "2023-03-13T11:43:30.446810Z",
     "iopub.status.idle": "2023-03-13T11:43:30.626095Z",
     "shell.execute_reply": "2023-03-13T11:43:30.625776Z",
     "shell.execute_reply.started": "2023-03-13T11:43:30.447637Z"
    },
    "tags": []
   },
   "outputs": [],
   "source": [
    "grouped = non_mixed_data.groupby(['hh_id', 'iiqid']).agg({'time': ['min', 'max']})"
   ]
  },
  {
   "cell_type": "code",
   "execution_count": 344,
   "id": "e507ef38-4a52-495c-bfac-bc387f2d9698",
   "metadata": {
    "execution": {
     "iopub.execute_input": "2023-03-13T11:43:32.550999Z",
     "iopub.status.busy": "2023-03-13T11:43:32.549693Z",
     "iopub.status.idle": "2023-03-13T11:43:32.579469Z",
     "shell.execute_reply": "2023-03-13T11:43:32.578887Z",
     "shell.execute_reply.started": "2023-03-13T11:43:32.550944Z"
    },
    "tags": []
   },
   "outputs": [],
   "source": [
    "grouped[\"lifespan\"] = grouped[(\"time\", \"max\")] - grouped[(\"time\", \"min\")]"
   ]
  },
  {
   "cell_type": "code",
   "execution_count": 345,
   "id": "7a371736-ab39-4a2d-bece-b50a5e3c9a88",
   "metadata": {
    "execution": {
     "iopub.execute_input": "2023-03-13T11:43:32.804183Z",
     "iopub.status.busy": "2023-03-13T11:43:32.803651Z",
     "iopub.status.idle": "2023-03-13T11:43:33.475587Z",
     "shell.execute_reply": "2023-03-13T11:43:33.475267Z",
     "shell.execute_reply.started": "2023-03-13T11:43:32.804143Z"
    },
    "tags": []
   },
   "outputs": [],
   "source": [
    "grouped[\"lifespan\"] = grouped[\"lifespan\"].apply(lambda t: t.days)"
   ]
  },
  {
   "cell_type": "code",
   "execution_count": 346,
   "id": "b13af126-d0d6-4db5-bbf6-5255faa9b2ac",
   "metadata": {
    "execution": {
     "iopub.execute_input": "2023-03-13T11:43:33.476517Z",
     "iopub.status.busy": "2023-03-13T11:43:33.476400Z",
     "iopub.status.idle": "2023-03-13T11:43:33.495010Z",
     "shell.execute_reply": "2023-03-13T11:43:33.494758Z",
     "shell.execute_reply.started": "2023-03-13T11:43:33.476507Z"
    },
    "tags": []
   },
   "outputs": [],
   "source": [
    "cookie_hhd_data = pd.concat([grouped, result], axis=1)\n",
    "cookie_hhd_data.columns = [\"time_min\", \"time_max\", \"lifespan\", \"instances\", \"ok\"]"
   ]
  },
  {
   "cell_type": "code",
   "execution_count": 347,
   "id": "b063516a-b314-45e4-a9de-95b15f3f14a0",
   "metadata": {
    "execution": {
     "iopub.execute_input": "2023-03-13T11:43:33.495613Z",
     "iopub.status.busy": "2023-03-13T11:43:33.495485Z",
     "iopub.status.idle": "2023-03-13T11:43:33.507248Z",
     "shell.execute_reply": "2023-03-13T11:43:33.506946Z",
     "shell.execute_reply.started": "2023-03-13T11:43:33.495605Z"
    },
    "tags": []
   },
   "outputs": [],
   "source": [
    "lifespan_order = [str(i) for i in range(84, -1, -1)]"
   ]
  },
  {
   "cell_type": "code",
   "execution_count": 348,
   "id": "e9024677-aa3c-4849-9d5b-5fe4690258e2",
   "metadata": {
    "execution": {
     "iopub.execute_input": "2023-03-13T11:43:33.508317Z",
     "iopub.status.busy": "2023-03-13T11:43:33.508198Z",
     "iopub.status.idle": "2023-03-13T11:43:33.741980Z",
     "shell.execute_reply": "2023-03-13T11:43:33.741703Z",
     "shell.execute_reply.started": "2023-03-13T11:43:33.508308Z"
    },
    "tags": []
   },
   "outputs": [
    {
     "data": {
      "image/png": "[encoded data removed]",
      "text/plain": [
       "<Figure size 1200x500 with 1 Axes>"
      ]
     },
     "metadata": {},
     "output_type": "display_data"
    }
   ],
   "source": [
    "sns.barplot(data=cookie_hhd_data, x=\"lifespan\", y=\"ok\", errorbar=None, order=list(reversed(range(0, 85))))\n",
    "plt.xticks(range(0, 85, 4));"
   ]
  },
  {
   "cell_type": "code",
   "execution_count": 129,
   "id": "5cc016f4-10e3-4531-ad41-cb77cd939dbd",
   "metadata": {
    "execution": {
     "iopub.execute_input": "2023-03-09T14:50:33.310543Z",
     "iopub.status.busy": "2023-03-09T14:50:33.309587Z",
     "iopub.status.idle": "2023-03-09T14:50:33.343577Z",
     "shell.execute_reply": "2023-03-09T14:50:33.343191Z",
     "shell.execute_reply.started": "2023-03-09T14:50:33.310469Z"
    },
    "tags": []
   },
   "outputs": [
    {
     "data": {
      "text/plain": [
       "0.005588064737202804"
      ]
     },
     "execution_count": 129,
     "metadata": {},
     "output_type": "execute_result"
    }
   ],
   "source": [
    "# cookie_hhd_data[\"instances\"].plot.hist()\n",
    "sum(cookie_hhd_data[\"instances\"] > 500) / len(cookie_hhd_data)"
   ]
  },
  {
   "cell_type": "code",
   "execution_count": 137,
   "id": "3582297a-ebb5-4026-a413-baa01094de3c",
   "metadata": {
    "execution": {
     "iopub.execute_input": "2023-03-09T14:53:48.103724Z",
     "iopub.status.busy": "2023-03-09T14:53:48.102286Z",
     "iopub.status.idle": "2023-03-09T14:53:50.754163Z",
     "shell.execute_reply": "2023-03-09T14:53:50.753803Z",
     "shell.execute_reply.started": "2023-03-09T14:53:48.103598Z"
    },
    "tags": []
   },
   "outputs": [
    {
     "data": {
      "text/plain": [
       "<Axes: xlabel='instances', ylabel='ok'>"
      ]
     },
     "execution_count": 137,
     "metadata": {},
     "output_type": "execute_result"
    },
    {
     "data": {
      "image/png": "[encoded data removed]",
      "text/plain": [
       "<Figure size 1200x500 with 1 Axes>"
      ]
     },
     "metadata": {},
     "output_type": "display_data"
    }
   ],
   "source": [
    "sns.barplot(data=cookie_hhd_data, x=\"instances\", y=\"ok\", errorbar=None) #, order=list(reversed(range(0, 85))))\n",
    "# plt.xticks(range(0, 500, 50))\n",
    "# plt.xlim(0, 500);"
   ]
  },
  {
   "cell_type": "code",
   "execution_count": 136,
   "id": "500d7dcc-c51f-4b8c-9f31-d53aa7cbcb58",
   "metadata": {
    "execution": {
     "iopub.execute_input": "2023-03-09T14:53:12.013051Z",
     "iopub.status.busy": "2023-03-09T14:53:12.011416Z",
     "iopub.status.idle": "2023-03-09T14:53:12.073073Z",
     "shell.execute_reply": "2023-03-09T14:53:12.072763Z",
     "shell.execute_reply.started": "2023-03-09T14:53:12.012971Z"
    },
    "tags": []
   },
   "outputs": [
    {
     "data": {
      "text/html": [
       "<div>\n",
       "<style scoped>\n",
       "    .dataframe tbody tr th:only-of-type {\n",
       "        vertical-align: middle;\n",
       "    }\n",
       "\n",
       "    .dataframe tbody tr th {\n",
       "        vertical-align: top;\n",
       "    }\n",
       "\n",
       "    .dataframe thead th {\n",
       "        text-align: right;\n",
       "    }\n",
       "</style>\n",
       "<table border=\"1\" class=\"dataframe\">\n",
       "  <thead>\n",
       "    <tr style=\"text-align: right;\">\n",
       "      <th></th>\n",
       "      <th></th>\n",
       "      <th>time_min</th>\n",
       "      <th>time_max</th>\n",
       "      <th>lifespan</th>\n",
       "      <th>instances</th>\n",
       "      <th>ok</th>\n",
       "    </tr>\n",
       "    <tr>\n",
       "      <th>hh_id</th>\n",
       "      <th>iiqid</th>\n",
       "      <th></th>\n",
       "      <th></th>\n",
       "      <th></th>\n",
       "      <th></th>\n",
       "      <th></th>\n",
       "    </tr>\n",
       "  </thead>\n",
       "  <tbody>\n",
       "    <tr>\n",
       "      <th rowspan=\"5\" valign=\"top\">008lj1AMI8</th>\n",
       "      <th>6MILYBoI9P</th>\n",
       "      <td>2022-12-06 20:30:42.973</td>\n",
       "      <td>2023-02-03 17:29:52.687</td>\n",
       "      <td>58</td>\n",
       "      <td>66</td>\n",
       "      <td>True</td>\n",
       "    </tr>\n",
       "    <tr>\n",
       "      <th>UVg62Vt8Va</th>\n",
       "      <td>2022-12-04 06:04:54.956</td>\n",
       "      <td>2023-02-03 22:48:53.120</td>\n",
       "      <td>61</td>\n",
       "      <td>41</td>\n",
       "      <td>True</td>\n",
       "    </tr>\n",
       "    <tr>\n",
       "      <th>WATS0P8zVm</th>\n",
       "      <td>2023-01-04 09:04:24.973</td>\n",
       "      <td>2023-02-08 09:39:50.615</td>\n",
       "      <td>35</td>\n",
       "      <td>156</td>\n",
       "      <td>True</td>\n",
       "    </tr>\n",
       "    <tr>\n",
       "      <th>mXwL7QCw5O</th>\n",
       "      <td>2022-12-02 17:01:54.895</td>\n",
       "      <td>2023-02-08 13:58:34.536</td>\n",
       "      <td>67</td>\n",
       "      <td>51</td>\n",
       "      <td>True</td>\n",
       "    </tr>\n",
       "    <tr>\n",
       "      <th>vjNRSKwlH4</th>\n",
       "      <td>2022-12-01 20:43:03.895</td>\n",
       "      <td>2023-01-05 06:20:52.917</td>\n",
       "      <td>34</td>\n",
       "      <td>28</td>\n",
       "      <td>True</td>\n",
       "    </tr>\n",
       "  </tbody>\n",
       "</table>\n",
       "</div>"
      ],
      "text/plain": [
       "                                     time_min                time_max  \\\n",
       "hh_id      iiqid                                                        \n",
       "008lj1AMI8 6MILYBoI9P 2022-12-06 20:30:42.973 2023-02-03 17:29:52.687   \n",
       "           UVg62Vt8Va 2022-12-04 06:04:54.956 2023-02-03 22:48:53.120   \n",
       "           WATS0P8zVm 2023-01-04 09:04:24.973 2023-02-08 09:39:50.615   \n",
       "           mXwL7QCw5O 2022-12-02 17:01:54.895 2023-02-08 13:58:34.536   \n",
       "           vjNRSKwlH4 2022-12-01 20:43:03.895 2023-01-05 06:20:52.917   \n",
       "\n",
       "                       lifespan  instances    ok  \n",
       "hh_id      iiqid                                  \n",
       "008lj1AMI8 6MILYBoI9P        58         66  True  \n",
       "           UVg62Vt8Va        61         41  True  \n",
       "           WATS0P8zVm        35        156  True  \n",
       "           mXwL7QCw5O        67         51  True  \n",
       "           vjNRSKwlH4        34         28  True  "
      ]
     },
     "execution_count": 136,
     "metadata": {},
     "output_type": "execute_result"
    }
   ],
   "source": [
    "cookie_hhd_data.head()"
   ]
  },
  {
   "cell_type": "code",
   "execution_count": 244,
   "id": "6e07fcce-51a3-419d-a723-175f0e4f921a",
   "metadata": {
    "execution": {
     "iopub.execute_input": "2023-03-09T15:05:49.495907Z",
     "iopub.status.busy": "2023-03-09T15:05:49.495191Z",
     "iopub.status.idle": "2023-03-09T15:05:49.650903Z",
     "shell.execute_reply": "2023-03-09T15:05:49.649839Z",
     "shell.execute_reply.started": "2023-03-09T15:05:49.495857Z"
    },
    "tags": []
   },
   "outputs": [],
   "source": [
    "found = False\n",
    "while not found:\n",
    "    one_cookie_sample = cookie_hhd_data[cookie_hhd_data[\"ok\"]==False].sample()\n",
    "    one_cookie_id = one_cookie_sample.index.get_level_values(1).values[0]\n",
    "    one_cookie_data = data[data[\"iiqid\"]==one_cookie_id]\n",
    "    browsers_of_cookie = one_cookie_data.browser.value_counts().sort_values(ascending=False)\n",
    "    if browsers_of_cookie.sum() > 25:\n",
    "        if len(browsers_of_cookie) == 1:\n",
    "            found = True"
   ]
  },
  {
   "cell_type": "code",
   "execution_count": 245,
   "id": "6b5d44c5-a514-462d-85c3-44687449d3f5",
   "metadata": {
    "execution": {
     "iopub.execute_input": "2023-03-09T15:05:49.854267Z",
     "iopub.status.busy": "2023-03-09T15:05:49.853851Z",
     "iopub.status.idle": "2023-03-09T15:05:49.886542Z",
     "shell.execute_reply": "2023-03-09T15:05:49.885783Z",
     "shell.execute_reply.started": "2023-03-09T15:05:49.854229Z"
    },
    "tags": []
   },
   "outputs": [],
   "source": [
    "ordered_versions = sorted(one_cookie_data.browserversion.unique(), key=cmp_to_key(compare_versions))"
   ]
  },
  {
   "cell_type": "code",
   "execution_count": 246,
   "id": "331394e4-e897-49b3-9cf9-6b0d46e4f0f3",
   "metadata": {
    "execution": {
     "iopub.execute_input": "2023-03-09T15:05:50.180905Z",
     "iopub.status.busy": "2023-03-09T15:05:50.180330Z",
     "iopub.status.idle": "2023-03-09T15:05:50.406682Z",
     "shell.execute_reply": "2023-03-09T15:05:50.406377Z",
     "shell.execute_reply.started": "2023-03-09T15:05:50.180859Z"
    },
    "tags": []
   },
   "outputs": [
    {
     "data": {
      "text/plain": [
       "Text(0.5, 1.0, \"Cookie's iiqid: uwMFDFZwoX\")"
      ]
     },
     "execution_count": 246,
     "metadata": {},
     "output_type": "execute_result"
    },
    {
     "data": {
      "image/png": "[encoded data removed]",
      "text/plain": [
       "<Figure size 1200x500 with 1 Axes>"
      ]
     },
     "metadata": {},
     "output_type": "display_data"
    }
   ],
   "source": [
    "sns.stripplot(data=one_cookie_data, x=\"time\", y=\"browserversion\", \n",
    "              order=ordered_versions[::-1], jitter=False)\n",
    "plt.title(f\"Cookie's iiqid: {one_cookie_id}\")"
   ]
  },
  {
   "cell_type": "code",
   "execution_count": 247,
   "id": "3fb63963-c5b6-488f-8dfa-8142f27ae267",
   "metadata": {
    "execution": {
     "iopub.execute_input": "2023-03-09T15:06:18.487236Z",
     "iopub.status.busy": "2023-03-09T15:06:18.485752Z",
     "iopub.status.idle": "2023-03-09T15:06:18.558302Z",
     "shell.execute_reply": "2023-03-09T15:06:18.557806Z",
     "shell.execute_reply.started": "2023-03-09T15:06:18.487167Z"
    },
    "tags": []
   },
   "outputs": [],
   "source": [
    "one_cookie_data.to_csv(\"another_example_for_version_noise.csv\")"
   ]
  },
  {
   "cell_type": "markdown",
   "id": "e8ddbc51-3da9-46ea-87f2-adf601c3ac58",
   "metadata": {},
   "source": [
    "## Isotonic Regression"
   ]
  },
  {
   "cell_type": "code",
   "execution_count": 54,
   "id": "0dc71f16-3e47-4e8b-9a07-299ad6f4c158",
   "metadata": {
    "execution": {
     "iopub.execute_input": "2023-03-12T21:09:50.025149Z",
     "iopub.status.busy": "2023-03-12T21:09:50.024354Z",
     "iopub.status.idle": "2023-03-12T21:09:50.310052Z",
     "shell.execute_reply": "2023-03-12T21:09:50.309713Z",
     "shell.execute_reply.started": "2023-03-12T21:09:50.025092Z"
    },
    "tags": []
   },
   "outputs": [],
   "source": [
    "import sklearn as sk\n",
    "from sklearn.isotonic import IsotonicRegression"
   ]
  },
  {
   "cell_type": "code",
   "execution_count": 46,
   "id": "5e23b4fc-96f0-444a-9266-b9ff0c446290",
   "metadata": {
    "execution": {
     "iopub.execute_input": "2023-03-12T21:09:19.914393Z",
     "iopub.status.busy": "2023-03-12T21:09:19.911822Z",
     "iopub.status.idle": "2023-03-12T21:09:19.971991Z",
     "shell.execute_reply": "2023-03-12T21:09:19.971525Z",
     "shell.execute_reply.started": "2023-03-12T21:09:19.914101Z"
    },
    "tags": []
   },
   "outputs": [],
   "source": [
    "single_example = one_cookie_data.copy()"
   ]
  },
  {
   "cell_type": "code",
   "execution_count": 47,
   "id": "8ce11c75-6840-4597-9adb-d5d6914fb793",
   "metadata": {
    "execution": {
     "iopub.execute_input": "2023-03-12T21:09:21.848963Z",
     "iopub.status.busy": "2023-03-12T21:09:21.848045Z",
     "iopub.status.idle": "2023-03-12T21:09:21.885498Z",
     "shell.execute_reply": "2023-03-12T21:09:21.884837Z",
     "shell.execute_reply.started": "2023-03-12T21:09:21.848898Z"
    },
    "tags": []
   },
   "outputs": [],
   "source": [
    "ordered_versions = sorted(single_example.browserversion.unique(), key=cmp_to_key(compare_versions))"
   ]
  },
  {
   "cell_type": "code",
   "execution_count": 48,
   "id": "553b6012-3d7d-4c23-aace-36fe3dfed232",
   "metadata": {
    "execution": {
     "iopub.execute_input": "2023-03-12T21:09:22.414446Z",
     "iopub.status.busy": "2023-03-12T21:09:22.413718Z",
     "iopub.status.idle": "2023-03-12T21:09:22.655936Z",
     "shell.execute_reply": "2023-03-12T21:09:22.655619Z",
     "shell.execute_reply.started": "2023-03-12T21:09:22.414397Z"
    },
    "tags": []
   },
   "outputs": [
    {
     "data": {
      "text/plain": [
       "Text(0.5, 1.0, \"Cookie's iiqid: PKkiFbUF6P\")"
      ]
     },
     "execution_count": 48,
     "metadata": {},
     "output_type": "execute_result"
    },
    {
     "data": {
      "image/png": "[encoded data removed]",
      "text/plain": [
       "<Figure size 1200x500 with 1 Axes>"
      ]
     },
     "metadata": {},
     "output_type": "display_data"
    }
   ],
   "source": [
    "sns.stripplot(data=single_example, x=\"time\", y=\"browserversion\", \n",
    "              order=ordered_versions[::-1], jitter=False)\n",
    "plt.title(f\"Cookie's iiqid: {one_cookie_id}\")"
   ]
  },
  {
   "cell_type": "code",
   "execution_count": 55,
   "id": "44b56066-d381-4c5c-b7cb-36b93ef9a113",
   "metadata": {
    "execution": {
     "iopub.execute_input": "2023-03-12T21:10:01.528314Z",
     "iopub.status.busy": "2023-03-12T21:10:01.526910Z",
     "iopub.status.idle": "2023-03-12T21:10:01.572723Z",
     "shell.execute_reply": "2023-03-12T21:10:01.572154Z",
     "shell.execute_reply.started": "2023-03-12T21:10:01.528242Z"
    },
    "tags": []
   },
   "outputs": [],
   "source": [
    "isotonic = IsotonicRegression() #out_of_bounds='clip')"
   ]
  },
  {
   "cell_type": "code",
   "execution_count": 196,
   "id": "6fb7a6ed-313d-4210-922b-eecbeeb87197",
   "metadata": {
    "execution": {
     "iopub.execute_input": "2023-03-12T09:54:08.788969Z",
     "iopub.status.busy": "2023-03-12T09:54:08.788089Z",
     "iopub.status.idle": "2023-03-12T09:54:08.824392Z",
     "shell.execute_reply": "2023-03-12T09:54:08.823776Z",
     "shell.execute_reply.started": "2023-03-12T09:54:08.788905Z"
    },
    "tags": []
   },
   "outputs": [],
   "source": [
    "serialized_browserversions = dict(enumerate(ordered_versions))"
   ]
  },
  {
   "cell_type": "code",
   "execution_count": 49,
   "id": "c52335a6-0ec7-46b8-af6a-963eac9a65de",
   "metadata": {
    "execution": {
     "iopub.execute_input": "2023-03-12T21:09:31.323104Z",
     "iopub.status.busy": "2023-03-12T21:09:31.322209Z",
     "iopub.status.idle": "2023-03-12T21:09:31.354492Z",
     "shell.execute_reply": "2023-03-12T21:09:31.353993Z",
     "shell.execute_reply.started": "2023-03-12T21:09:31.323034Z"
    },
    "tags": []
   },
   "outputs": [],
   "source": [
    "single_example['serial_browserversion'] = None"
   ]
  },
  {
   "cell_type": "code",
   "execution_count": 50,
   "id": "53fc828c-102f-47cc-93c4-83b1c1c4f7b2",
   "metadata": {
    "execution": {
     "iopub.execute_input": "2023-03-12T21:09:33.360982Z",
     "iopub.status.busy": "2023-03-12T21:09:33.360106Z",
     "iopub.status.idle": "2023-03-12T21:09:33.395497Z",
     "shell.execute_reply": "2023-03-12T21:09:33.394965Z",
     "shell.execute_reply.started": "2023-03-12T21:09:33.360905Z"
    },
    "tags": []
   },
   "outputs": [],
   "source": [
    "single_example['serial_browserversion'] = single_example['browserversion'].apply(lambda v: ordered_versions.index(v))"
   ]
  },
  {
   "cell_type": "code",
   "execution_count": 51,
   "id": "80d7d271-bf89-4960-a750-4c8f3414f6ed",
   "metadata": {
    "execution": {
     "iopub.execute_input": "2023-03-12T21:09:35.010822Z",
     "iopub.status.busy": "2023-03-12T21:09:35.009888Z",
     "iopub.status.idle": "2023-03-12T21:09:35.245391Z",
     "shell.execute_reply": "2023-03-12T21:09:35.245107Z",
     "shell.execute_reply.started": "2023-03-12T21:09:35.010712Z"
    },
    "tags": []
   },
   "outputs": [
    {
     "data": {
      "text/plain": [
       "Text(0.5, 1.0, \"Cookie's iiqid: PKkiFbUF6P\")"
      ]
     },
     "execution_count": 51,
     "metadata": {},
     "output_type": "execute_result"
    },
    {
     "data": {
      "image/png": "[encoded data removed]",
      "text/plain": [
       "<Figure size 1200x500 with 1 Axes>"
      ]
     },
     "metadata": {},
     "output_type": "display_data"
    }
   ],
   "source": [
    "sns.scatterplot(data=single_example, x=\"time\", y=\"serial_browserversion\")#, jitter=False)\n",
    "plt.title(f\"Cookie's iiqid: {one_cookie_id}\")"
   ]
  },
  {
   "cell_type": "code",
   "execution_count": 56,
   "id": "500bef01-bd65-4752-aa71-56bc21183b14",
   "metadata": {
    "execution": {
     "iopub.execute_input": "2023-03-12T21:10:04.589049Z",
     "iopub.status.busy": "2023-03-12T21:10:04.588118Z",
     "iopub.status.idle": "2023-03-12T21:10:04.625501Z",
     "shell.execute_reply": "2023-03-12T21:10:04.624934Z",
     "shell.execute_reply.started": "2023-03-12T21:10:04.588992Z"
    },
    "tags": []
   },
   "outputs": [],
   "source": [
    "regressed_version = isotonic.fit_transform(single_example.time, single_example.serial_browserversion).round()"
   ]
  },
  {
   "cell_type": "code",
   "execution_count": 57,
   "id": "a3df4608-2bc3-4e2b-bb3a-043e4b594c46",
   "metadata": {
    "execution": {
     "iopub.execute_input": "2023-03-12T21:10:05.592624Z",
     "iopub.status.busy": "2023-03-12T21:10:05.591936Z",
     "iopub.status.idle": "2023-03-12T21:10:05.626623Z",
     "shell.execute_reply": "2023-03-12T21:10:05.626176Z",
     "shell.execute_reply.started": "2023-03-12T21:10:05.592580Z"
    },
    "tags": []
   },
   "outputs": [],
   "source": [
    "mask = np.where(single_example.serial_browserversion != regressed_version)"
   ]
  },
  {
   "cell_type": "code",
   "execution_count": 58,
   "id": "fb45ca4d-326b-4e0a-a98b-277fef841abf",
   "metadata": {
    "execution": {
     "iopub.execute_input": "2023-03-12T21:10:07.051083Z",
     "iopub.status.busy": "2023-03-12T21:10:07.050635Z",
     "iopub.status.idle": "2023-03-12T21:10:07.276361Z",
     "shell.execute_reply": "2023-03-12T21:10:07.275910Z",
     "shell.execute_reply.started": "2023-03-12T21:10:07.051047Z"
    },
    "tags": []
   },
   "outputs": [
    {
     "data": {
      "text/plain": [
       "<matplotlib.collections.PathCollection at 0x16b3c97b0>"
      ]
     },
     "execution_count": 58,
     "metadata": {},
     "output_type": "execute_result"
    },
    {
     "data": {
      "image/png": "[encoded data removed]",
      "text/plain": [
       "<Figure size 1200x500 with 1 Axes>"
      ]
     },
     "metadata": {},
     "output_type": "display_data"
    }
   ],
   "source": [
    "plt.scatter(single_example.time, regressed_version)\n",
    "plt.scatter(single_example.time, single_example.serial_browserversion)\n",
    "plt.scatter(single_example.time.iloc[mask], regressed_version[mask], s=200)"
   ]
  },
  {
   "cell_type": "code",
   "execution_count": 23,
   "id": "6277d243-35f1-4dd2-8579-4b631626566b",
   "metadata": {
    "execution": {
     "iopub.execute_input": "2023-03-13T07:55:43.063646Z",
     "iopub.status.busy": "2023-03-13T07:55:43.062487Z",
     "iopub.status.idle": "2023-03-13T07:55:43.111845Z",
     "shell.execute_reply": "2023-03-13T07:55:43.111322Z",
     "shell.execute_reply.started": "2023-03-13T07:55:43.063582Z"
    },
    "tags": []
   },
   "outputs": [],
   "source": [
    "from lnds import longest_non_decreasing_subsequence as lnds"
   ]
  },
  {
   "cell_type": "code",
   "execution_count": 60,
   "id": "b2a0a474-271e-48a4-a9b5-2cb995c680e9",
   "metadata": {
    "execution": {
     "iopub.execute_input": "2023-03-12T21:10:18.706529Z",
     "iopub.status.busy": "2023-03-12T21:10:18.705625Z",
     "iopub.status.idle": "2023-03-12T21:10:18.917497Z",
     "shell.execute_reply": "2023-03-12T21:10:18.916608Z",
     "shell.execute_reply.started": "2023-03-12T21:10:18.706481Z"
    },
    "tags": []
   },
   "outputs": [
    {
     "data": {
      "text/plain": [
       "<matplotlib.collections.PathCollection at 0x16b488970>"
      ]
     },
     "execution_count": 60,
     "metadata": {},
     "output_type": "execute_result"
    },
    {
     "data": {
      "image/png": "[encoded data removed]",
      "text/plain": [
       "<Figure size 1200x500 with 1 Axes>"
      ]
     },
     "metadata": {},
     "output_type": "display_data"
    }
   ],
   "source": [
    "x, y = lnds(single_example.serial_browserversion.values)\n",
    "plt.scatter(single_example.time, single_example.serial_browserversion, c='r')\n",
    "plt.scatter(single_example.time.iloc[y], x, c='g')"
   ]
  },
  {
   "cell_type": "code",
   "execution_count": 301,
   "id": "807dda4e-fb8e-4a42-8e01-1ba7cafb13ea",
   "metadata": {
    "execution": {
     "iopub.execute_input": "2023-03-12T12:48:57.607915Z",
     "iopub.status.busy": "2023-03-12T12:48:57.607102Z",
     "iopub.status.idle": "2023-03-12T12:48:57.665610Z",
     "shell.execute_reply": "2023-03-12T12:48:57.665122Z",
     "shell.execute_reply.started": "2023-03-12T12:48:57.607829Z"
    },
    "tags": []
   },
   "outputs": [
    {
     "data": {
      "text/plain": [
       "0.975609756097561"
      ]
     },
     "execution_count": 301,
     "metadata": {},
     "output_type": "execute_result"
    }
   ],
   "source": [
    "len(x) / len(single_example)"
   ]
  },
  {
   "cell_type": "markdown",
   "id": "8bf17aef-2411-4219-9c60-c14034e7b0f6",
   "metadata": {},
   "source": [
    "### And now - using the modules"
   ]
  },
  {
   "cell_type": "code",
   "execution_count": 24,
   "id": "b6634e09-2954-45e3-be73-6ae9f1c567f2",
   "metadata": {
    "execution": {
     "iopub.execute_input": "2023-03-13T07:55:49.542279Z",
     "iopub.status.busy": "2023-03-13T07:55:49.541636Z",
     "iopub.status.idle": "2023-03-13T07:55:49.576941Z",
     "shell.execute_reply": "2023-03-13T07:55:49.576375Z",
     "shell.execute_reply.started": "2023-03-13T07:55:49.542237Z"
    },
    "tags": []
   },
   "outputs": [],
   "source": [
    "from hard_rules import denoised_fraction, version_serializtion"
   ]
  },
  {
   "cell_type": "code",
   "execution_count": 25,
   "id": "cced73ed-53f0-4b54-8c41-3656d9484731",
   "metadata": {
    "execution": {
     "iopub.execute_input": "2023-03-13T07:55:49.880854Z",
     "iopub.status.busy": "2023-03-13T07:55:49.880109Z",
     "iopub.status.idle": "2023-03-13T07:55:49.913713Z",
     "shell.execute_reply": "2023-03-13T07:55:49.913092Z",
     "shell.execute_reply.started": "2023-03-13T07:55:49.880791Z"
    },
    "tags": []
   },
   "outputs": [],
   "source": [
    "from lnds import longest_non_decreasing_subsequence as lnds"
   ]
  },
  {
   "cell_type": "code",
   "execution_count": 26,
   "id": "d7c8e277-3f4f-44c8-98d5-5ca071d6b8e6",
   "metadata": {
    "execution": {
     "iopub.execute_input": "2023-03-13T07:56:11.950365Z",
     "iopub.status.busy": "2023-03-13T07:56:11.949467Z",
     "iopub.status.idle": "2023-03-13T07:56:13.151803Z",
     "shell.execute_reply": "2023-03-13T07:56:13.151488Z",
     "shell.execute_reply.started": "2023-03-13T07:56:11.950296Z"
    },
    "tags": []
   },
   "outputs": [
    {
     "name": "stdout",
     "output_type": "stream",
     "text": [
      "Found!\n"
     ]
    }
   ],
   "source": [
    "found = False\n",
    "limit_search = 1000\n",
    "while not found and limit_search > 0:\n",
    "    limit_search -= 1\n",
    "    one_cookie_sample = cookie_hhd_data[cookie_hhd_data[\"ok\"]==False].sample()\n",
    "    one_cookie_id = one_cookie_sample.index.get_level_values(1).values[0]\n",
    "    one_cookie_data = data[data[\"iiqid\"]==one_cookie_id].copy()\n",
    "    browsers_of_cookie = len(one_cookie_data.browser.unique())\n",
    "    os_of_cookie = len(one_cookie_data.os.unique())\n",
    "    instances_of_cookie = len(one_cookie_data.time)\n",
    "    if instances_of_cookie > 30 and browsers_of_cookie == 1 and os_of_cookie == 1:\n",
    "        if denoised_fraction(one_cookie_data) < 0.95:\n",
    "            found = True\n",
    "if found:\n",
    "    print(\"Found!\")\n",
    "else:\n",
    "    print(\"Not Found\")"
   ]
  },
  {
   "cell_type": "code",
   "execution_count": 27,
   "id": "c21fc4af-faac-43c4-875a-547c9081ef3c",
   "metadata": {
    "execution": {
     "iopub.execute_input": "2023-03-13T07:56:14.306075Z",
     "iopub.status.busy": "2023-03-13T07:56:14.305133Z",
     "iopub.status.idle": "2023-03-13T07:56:14.347474Z",
     "shell.execute_reply": "2023-03-13T07:56:14.346666Z",
     "shell.execute_reply.started": "2023-03-13T07:56:14.305992Z"
    },
    "tags": []
   },
   "outputs": [
    {
     "data": {
      "text/plain": [
       "0.9375"
      ]
     },
     "execution_count": 27,
     "metadata": {},
     "output_type": "execute_result"
    }
   ],
   "source": [
    "denoised_fraction(one_cookie_data)"
   ]
  },
  {
   "cell_type": "code",
   "execution_count": 28,
   "id": "b28d5c04-7ecc-4cf4-a677-ff8a3b85074f",
   "metadata": {
    "execution": {
     "iopub.execute_input": "2023-03-13T07:56:16.921048Z",
     "iopub.status.busy": "2023-03-13T07:56:16.920106Z",
     "iopub.status.idle": "2023-03-13T07:56:16.957107Z",
     "shell.execute_reply": "2023-03-13T07:56:16.956530Z",
     "shell.execute_reply.started": "2023-03-13T07:56:16.920989Z"
    },
    "tags": []
   },
   "outputs": [
    {
     "data": {
      "text/plain": [
       "0.9375"
      ]
     },
     "execution_count": 28,
     "metadata": {},
     "output_type": "execute_result"
    }
   ],
   "source": [
    "denoised_fraction(one_cookie_data)"
   ]
  },
  {
   "cell_type": "code",
   "execution_count": 29,
   "id": "5855fd1d-f956-4c45-a9e1-91e44dc0756d",
   "metadata": {
    "execution": {
     "iopub.execute_input": "2023-03-13T07:56:17.366185Z",
     "iopub.status.busy": "2023-03-13T07:56:17.365232Z",
     "iopub.status.idle": "2023-03-13T07:56:17.397350Z",
     "shell.execute_reply": "2023-03-13T07:56:17.396747Z",
     "shell.execute_reply.started": "2023-03-13T07:56:17.366116Z"
    },
    "tags": []
   },
   "outputs": [],
   "source": [
    "versions_sorted = sorted(\n",
    "        one_cookie_data.browserversion.unique(), key=cmp_to_key(compare_versions)\n",
    "    )"
   ]
  },
  {
   "cell_type": "code",
   "execution_count": 30,
   "id": "503adb44-a921-4106-b075-ca01071a9717",
   "metadata": {
    "execution": {
     "iopub.execute_input": "2023-03-13T07:56:18.059768Z",
     "iopub.status.busy": "2023-03-13T07:56:18.058881Z",
     "iopub.status.idle": "2023-03-13T07:56:18.092327Z",
     "shell.execute_reply": "2023-03-13T07:56:18.091772Z",
     "shell.execute_reply.started": "2023-03-13T07:56:18.059694Z"
    },
    "tags": []
   },
   "outputs": [],
   "source": [
    "vs = list(version_serializtion(one_cookie_data).values)\n",
    "x, y = lnds(vs)\n",
    "not_y = [i for i in range(len(one_cookie_data)) if i not in y]"
   ]
  },
  {
   "cell_type": "code",
   "execution_count": 31,
   "id": "3e7e490e-59b8-45fc-a2a5-84a52cca4c02",
   "metadata": {
    "execution": {
     "iopub.execute_input": "2023-03-13T07:56:20.140703Z",
     "iopub.status.busy": "2023-03-13T07:56:20.139820Z",
     "iopub.status.idle": "2023-03-13T07:56:20.373897Z",
     "shell.execute_reply": "2023-03-13T07:56:20.373595Z",
     "shell.execute_reply.started": "2023-03-13T07:56:20.140640Z"
    },
    "tags": []
   },
   "outputs": [
    {
     "data": {
      "text/plain": [
       "[Text(0, 0, '107.0.0.0'), Text(0, 1, '108.0.0.0'), Text(0, 2, '109.0.0.0')]"
      ]
     },
     "execution_count": 31,
     "metadata": {},
     "output_type": "execute_result"
    },
    {
     "data": {
      "image/png": "[encoded data removed]",
      "text/plain": [
       "<Figure size 1200x500 with 1 Axes>"
      ]
     },
     "metadata": {},
     "output_type": "display_data"
    }
   ],
   "source": [
    "fig, ax = plt.subplots()\n",
    "ax.scatter(one_cookie_data.time.iloc[not_y], \n",
    "           [v for i, v in enumerate(vs) if i in not_y], s=100, c='r', marker='x')\n",
    "ax.scatter(one_cookie_data.time.iloc[y], x, c='g', marker='o')\n",
    "ax.set_title(f\"Cookie's iiqid: {one_cookie_id}\")\n",
    "ax.set_yticks(range(min(vs), max(vs)+1))\n",
    "ax.set_yticklabels(versions_sorted)"
   ]
  },
  {
   "cell_type": "markdown",
   "id": "bda1642c-ca8e-4f2a-bc32-72ff14c71409",
   "metadata": {
    "tags": []
   },
   "source": [
    "### Treating low precision"
   ]
  },
  {
   "cell_type": "code",
   "execution_count": 34,
   "id": "1984fb80-8a0a-47c0-8f70-e6d0168dba3b",
   "metadata": {
    "execution": {
     "iopub.execute_input": "2023-03-13T07:59:47.238069Z",
     "iopub.status.busy": "2023-03-13T07:59:47.237214Z",
     "iopub.status.idle": "2023-03-13T07:59:47.266422Z",
     "shell.execute_reply": "2023-03-13T07:59:47.265864Z",
     "shell.execute_reply.started": "2023-03-13T07:59:47.238008Z"
    },
    "tags": []
   },
   "outputs": [],
   "source": [
    "ordered_versions = sorted(one_cookie_data.browserversion.unique(), key=cmp_to_key(compare_versions))"
   ]
  },
  {
   "cell_type": "code",
   "execution_count": 57,
   "id": "c16c0e8b-2f47-4a1c-8ac4-3f95fca60def",
   "metadata": {
    "execution": {
     "iopub.execute_input": "2023-03-13T08:41:35.407983Z",
     "iopub.status.busy": "2023-03-13T08:41:35.407118Z",
     "iopub.status.idle": "2023-03-13T08:41:35.439996Z",
     "shell.execute_reply": "2023-03-13T08:41:35.439485Z",
     "shell.execute_reply.started": "2023-03-13T08:41:35.407916Z"
    },
    "tags": []
   },
   "outputs": [],
   "source": [
    "def version_precision(ver):\n",
    "    parts = ver.split(\".\")\n",
    "    last_nonzero_part = len(parts)\n",
    "    found_non_zero = False\n",
    "    for i in range(len(parts) - 1, -1, -1):\n",
    "        if int(parts[i]) != 0:\n",
    "            last_nonzero_part = i + 1\n",
    "            found_non_zero = True\n",
    "            break\n",
    "    return last_nonzero_part"
   ]
  },
  {
   "cell_type": "code",
   "execution_count": 355,
   "id": "a4e2c582-a56f-4684-88b0-c1a09367e179",
   "metadata": {
    "execution": {
     "iopub.execute_input": "2023-03-13T11:50:34.366462Z",
     "iopub.status.busy": "2023-03-13T11:50:34.365906Z",
     "iopub.status.idle": "2023-03-13T11:50:34.395962Z",
     "shell.execute_reply": "2023-03-13T11:50:34.395625Z",
     "shell.execute_reply.started": "2023-03-13T11:50:34.366417Z"
    },
    "tags": []
   },
   "outputs": [],
   "source": [
    "def split_by_precision(vers): \n",
    "    highest_precision = max(version_precision(v) for v in vers)\n",
    "    highest_precision_versions = [v for v in vers if version_precision(v)==highest_precision]\n",
    "    other_versions = [v for v in vers if v not in highest_precision_versions]\n",
    "    return other_versions, highest_precision_versions, highest_precision"
   ]
  },
  {
   "cell_type": "code",
   "execution_count": 115,
   "id": "b61d26dd-66f3-4812-9dab-f4770295c0f4",
   "metadata": {
    "execution": {
     "iopub.execute_input": "2023-03-13T09:17:10.596663Z",
     "iopub.status.busy": "2023-03-13T09:17:10.595800Z",
     "iopub.status.idle": "2023-03-13T09:17:10.627899Z",
     "shell.execute_reply": "2023-03-13T09:17:10.626900Z",
     "shell.execute_reply.started": "2023-03-13T09:17:10.596601Z"
    },
    "tags": []
   },
   "outputs": [],
   "source": [
    "def random_version(low=1, high=2000, components=4, low_precision=False):\n",
    "    if low_precision:\n",
    "        rand_result = [np.random.randint(low, high)] + [0]*(components-1)\n",
    "    else:\n",
    "        rand_result = np.random.randint(low, high, components)\n",
    "    return \".\".join(map(str, rand_result))"
   ]
  },
  {
   "cell_type": "code",
   "execution_count": 359,
   "id": "1a7d9f65-41ba-4b70-b802-61deb826baea",
   "metadata": {
    "execution": {
     "iopub.execute_input": "2023-03-13T11:51:32.695626Z",
     "iopub.status.busy": "2023-03-13T11:51:32.694793Z",
     "iopub.status.idle": "2023-03-13T11:51:32.725423Z",
     "shell.execute_reply": "2023-03-13T11:51:32.724658Z",
     "shell.execute_reply.started": "2023-03-13T11:51:32.695542Z"
    },
    "tags": []
   },
   "outputs": [],
   "source": [
    "no_of_vers = 20\n",
    "random_versions_mix = [random_version(low=100, high= 110, components=c, low_precision=b) for b, c\n",
    "                       in zip(np.random.binomial(1, 1, no_of_vers), \n",
    "                              np.random.randint(4, 5, no_of_vers))]"
   ]
  },
  {
   "cell_type": "code",
   "execution_count": 360,
   "id": "1d6fad9a-3423-4531-a3dd-8c49d4257dbd",
   "metadata": {
    "execution": {
     "iopub.execute_input": "2023-03-13T11:51:33.014306Z",
     "iopub.status.busy": "2023-03-13T11:51:33.013868Z",
     "iopub.status.idle": "2023-03-13T11:51:33.047031Z",
     "shell.execute_reply": "2023-03-13T11:51:33.046520Z",
     "shell.execute_reply.started": "2023-03-13T11:51:33.014273Z"
    },
    "tags": []
   },
   "outputs": [
    {
     "data": {
      "text/plain": [
       "['101.0.0.0',\n",
       " '104.0.0.0',\n",
       " '107.0.0.0',\n",
       " '103.0.0.0',\n",
       " '107.0.0.0',\n",
       " '105.0.0.0',\n",
       " '103.0.0.0',\n",
       " '100.0.0.0',\n",
       " '103.0.0.0',\n",
       " '101.0.0.0',\n",
       " '108.0.0.0',\n",
       " '103.0.0.0',\n",
       " '105.0.0.0',\n",
       " '102.0.0.0',\n",
       " '103.0.0.0',\n",
       " '103.0.0.0',\n",
       " '105.0.0.0',\n",
       " '101.0.0.0',\n",
       " '105.0.0.0',\n",
       " '105.0.0.0']"
      ]
     },
     "execution_count": 360,
     "metadata": {},
     "output_type": "execute_result"
    }
   ],
   "source": [
    "random_versions_mix"
   ]
  },
  {
   "cell_type": "code",
   "execution_count": 361,
   "id": "2b41d4c6-2edb-4c19-937d-34abe5c3f213",
   "metadata": {
    "execution": {
     "iopub.execute_input": "2023-03-13T11:51:35.202995Z",
     "iopub.status.busy": "2023-03-13T11:51:35.202270Z",
     "iopub.status.idle": "2023-03-13T11:51:35.248054Z",
     "shell.execute_reply": "2023-03-13T11:51:35.246836Z",
     "shell.execute_reply.started": "2023-03-13T11:51:35.202963Z"
    },
    "tags": []
   },
   "outputs": [
    {
     "data": {
      "text/plain": [
       "([],\n",
       " ['101.0.0.0',\n",
       "  '104.0.0.0',\n",
       "  '107.0.0.0',\n",
       "  '103.0.0.0',\n",
       "  '107.0.0.0',\n",
       "  '105.0.0.0',\n",
       "  '103.0.0.0',\n",
       "  '100.0.0.0',\n",
       "  '103.0.0.0',\n",
       "  '101.0.0.0',\n",
       "  '108.0.0.0',\n",
       "  '103.0.0.0',\n",
       "  '105.0.0.0',\n",
       "  '102.0.0.0',\n",
       "  '103.0.0.0',\n",
       "  '103.0.0.0',\n",
       "  '105.0.0.0',\n",
       "  '101.0.0.0',\n",
       "  '105.0.0.0',\n",
       "  '105.0.0.0'],\n",
       " 1)"
      ]
     },
     "execution_count": 361,
     "metadata": {},
     "output_type": "execute_result"
    }
   ],
   "source": [
    "split_by_precision(random_versions_mix)"
   ]
  },
  {
   "cell_type": "code",
   "execution_count": 128,
   "id": "b3ab35c5-2286-4465-89dc-8151c4d6e152",
   "metadata": {
    "execution": {
     "iopub.execute_input": "2023-03-13T09:22:00.398413Z",
     "iopub.status.busy": "2023-03-13T09:22:00.397173Z",
     "iopub.status.idle": "2023-03-13T09:22:00.430712Z",
     "shell.execute_reply": "2023-03-13T09:22:00.430129Z",
     "shell.execute_reply.started": "2023-03-13T09:22:00.398353Z"
    },
    "tags": []
   },
   "outputs": [
    {
     "data": {
      "text/plain": [
       "{'101.109.101.104',\n",
       " '102.107.102.104',\n",
       " '106.103.101.100',\n",
       " '108.104.106.102',\n",
       " '109.104.102.106'}"
      ]
     },
     "execution_count": 128,
     "metadata": {},
     "output_type": "execute_result"
    }
   ],
   "source": [
    "# [[trim_version(v)[0] for v in vl] for vl in split_by_precision(random_versions_mix)]\n",
    "set(split_by_precision(random_versions_mix)[1])"
   ]
  },
  {
   "cell_type": "code",
   "execution_count": 148,
   "id": "16e792a6-54f2-4e53-8a0b-3d346d964df3",
   "metadata": {
    "execution": {
     "iopub.execute_input": "2023-03-13T09:32:23.174975Z",
     "iopub.status.busy": "2023-03-13T09:32:23.173142Z",
     "iopub.status.idle": "2023-03-13T09:32:23.230279Z",
     "shell.execute_reply": "2023-03-13T09:32:23.229889Z",
     "shell.execute_reply.started": "2023-03-13T09:32:23.174925Z"
    },
    "tags": []
   },
   "outputs": [],
   "source": [
    "def find_more_detailed_vers(ver, detailed_vers):\n",
    "    detailed_set = set(detailed_vers)\n",
    "    return [v for v in detailed_set if trim_version(ver)[0] == trim_version(v)[0]]"
   ]
  },
  {
   "cell_type": "code",
   "execution_count": 149,
   "id": "06801e24-ebcc-4ef5-ae0c-bbc50e959e27",
   "metadata": {
    "execution": {
     "iopub.execute_input": "2023-03-13T09:32:28.243284Z",
     "iopub.status.busy": "2023-03-13T09:32:28.242380Z",
     "iopub.status.idle": "2023-03-13T09:32:28.275949Z",
     "shell.execute_reply": "2023-03-13T09:32:28.275449Z",
     "shell.execute_reply.started": "2023-03-13T09:32:28.243215Z"
    },
    "tags": []
   },
   "outputs": [
    {
     "name": "stdout",
     "output_type": "stream",
     "text": [
      "107.0.0.0\n"
     ]
    },
    {
     "data": {
      "text/plain": [
       "['107.107.102.103', '107.102.100.102']"
      ]
     },
     "execution_count": 149,
     "metadata": {},
     "output_type": "execute_result"
    }
   ],
   "source": [
    "ver_test = split_by_precision(random_versions_mix)[0][-1]\n",
    "print(ver_test)\n",
    "find_more_detailed_vers(ver_test, split_by_precision(random_versions_mix)[1])"
   ]
  },
  {
   "cell_type": "markdown",
   "id": "c3e47356-79e5-4df4-bfba-86536abafd02",
   "metadata": {},
   "source": [
    "#### How many mixed precision are there?"
   ]
  },
  {
   "cell_type": "code",
   "execution_count": 470,
   "id": "ccb18947-44ef-4f05-8198-9529e3013d49",
   "metadata": {
    "execution": {
     "iopub.execute_input": "2023-03-13T13:40:45.621196Z",
     "iopub.status.busy": "2023-03-13T13:40:45.619161Z",
     "iopub.status.idle": "2023-03-13T13:40:45.652415Z",
     "shell.execute_reply": "2023-03-13T13:40:45.651639Z",
     "shell.execute_reply.started": "2023-03-13T13:40:45.621147Z"
    },
    "tags": []
   },
   "outputs": [],
   "source": [
    "def mix_precision_type(hh_id, iiqid, df):\n",
    "    sample_point_data = df[(df[\"hh_id\"]==hh_id) & (df[\"iiqid\"]==iiqid)]\n",
    "    lp, hp, hpv = split_by_precision(sample_point_data[\"browserversion\"].values)\n",
    "\n",
    "    if lp == [] and hp == []:\n",
    "        raise ValueError(\"The data is empty or not in the correct type/shape\")\n",
    "    if lp != [] and hp != []:\n",
    "        main_hp_versions = [int(v.split('.')[0]) for v in hp]\n",
    "        main_lp_versions = [int(v.split('.')[0]) for v in lp]\n",
    "        if max(main_lp_versions) < min(main_hp_versions) / 2 or \\\n",
    "            max(main_hp_versions) < min(main_lp_versions) / 2:\n",
    "            # Maybe it should be a different number\n",
    "            ans = 1\n",
    "        else:\n",
    "            ans = 0\n",
    "    else:\n",
    "        ans = 1\n",
    "    return ans, hpv"
   ]
  },
  {
   "cell_type": "code",
   "execution_count": 349,
   "id": "61fb6f73-4935-4013-9216-f5313061e308",
   "metadata": {
    "execution": {
     "iopub.execute_input": "2023-03-13T11:43:53.848157Z",
     "iopub.status.busy": "2023-03-13T11:43:53.846583Z",
     "iopub.status.idle": "2023-03-13T11:43:54.078841Z",
     "shell.execute_reply": "2023-03-13T11:43:54.078380Z",
     "shell.execute_reply.started": "2023-03-13T11:43:53.848083Z"
    },
    "tags": []
   },
   "outputs": [],
   "source": [
    "# df1.groupby(['A','B']).size().reset_index().rename(columns={0:'count'})\n",
    "hh_and_iiq_ids = non_mixed_data.groupby([\"hh_id\", \"iiqid\", \"browserversion\"]).size().reset_index().rename(columns={0:'count'})"
   ]
  },
  {
   "cell_type": "code",
   "execution_count": 471,
   "id": "10f285d1-ce89-46a0-8a8d-41a80c91ff15",
   "metadata": {
    "execution": {
     "iopub.execute_input": "2023-03-13T13:40:53.272858Z",
     "iopub.status.busy": "2023-03-13T13:40:53.271877Z",
     "iopub.status.idle": "2023-03-13T13:40:53.317020Z",
     "shell.execute_reply": "2023-03-13T13:40:53.316412Z",
     "shell.execute_reply.started": "2023-03-13T13:40:53.272793Z"
    },
    "tags": []
   },
   "outputs": [
    {
     "data": {
      "text/plain": [
       "(1, 1)"
      ]
     },
     "execution_count": 471,
     "metadata": {},
     "output_type": "execute_result"
    }
   ],
   "source": [
    "h, i, b, c = hh_and_iiq_ids.iloc[35]\n",
    "mix_precision_type(h, i, hh_and_iiq_ids)"
   ]
  },
  {
   "cell_type": "code",
   "execution_count": 472,
   "id": "dd76f714-fe8b-4cfa-a083-bd8c69bd81c3",
   "metadata": {
    "execution": {
     "iopub.execute_input": "2023-03-13T13:40:57.959088Z",
     "iopub.status.busy": "2023-03-13T13:40:57.958766Z",
     "iopub.status.idle": "2023-03-13T13:40:57.998357Z",
     "shell.execute_reply": "2023-03-13T13:40:57.997969Z",
     "shell.execute_reply.started": "2023-03-13T13:40:57.959063Z"
    },
    "tags": []
   },
   "outputs": [
    {
     "data": {
      "text/html": [
       "<div>\n",
       "<style scoped>\n",
       "    .dataframe tbody tr th:only-of-type {\n",
       "        vertical-align: middle;\n",
       "    }\n",
       "\n",
       "    .dataframe tbody tr th {\n",
       "        vertical-align: top;\n",
       "    }\n",
       "\n",
       "    .dataframe thead th {\n",
       "        text-align: right;\n",
       "    }\n",
       "</style>\n",
       "<table border=\"1\" class=\"dataframe\">\n",
       "  <thead>\n",
       "    <tr style=\"text-align: right;\">\n",
       "      <th></th>\n",
       "      <th>hh_id</th>\n",
       "      <th>iiqid</th>\n",
       "      <th>browserversion</th>\n",
       "      <th>count</th>\n",
       "    </tr>\n",
       "  </thead>\n",
       "  <tbody>\n",
       "    <tr>\n",
       "      <th>35</th>\n",
       "      <td>03M6awhGWm</td>\n",
       "      <td>RuyWbpn1m5</td>\n",
       "      <td>107.0.0.0</td>\n",
       "      <td>2</td>\n",
       "    </tr>\n",
       "    <tr>\n",
       "      <th>36</th>\n",
       "      <td>03M6awhGWm</td>\n",
       "      <td>RuyWbpn1m5</td>\n",
       "      <td>108.0.0.0</td>\n",
       "      <td>50</td>\n",
       "    </tr>\n",
       "    <tr>\n",
       "      <th>37</th>\n",
       "      <td>03M6awhGWm</td>\n",
       "      <td>RuyWbpn1m5</td>\n",
       "      <td>109.0.0.0</td>\n",
       "      <td>17</td>\n",
       "    </tr>\n",
       "  </tbody>\n",
       "</table>\n",
       "</div>"
      ],
      "text/plain": [
       "         hh_id       iiqid browserversion  count\n",
       "35  03M6awhGWm  RuyWbpn1m5      107.0.0.0      2\n",
       "36  03M6awhGWm  RuyWbpn1m5      108.0.0.0     50\n",
       "37  03M6awhGWm  RuyWbpn1m5      109.0.0.0     17"
      ]
     },
     "execution_count": 472,
     "metadata": {},
     "output_type": "execute_result"
    }
   ],
   "source": [
    "hh_and_iiq_ids[(hh_and_iiq_ids[\"hh_id\"]==h) & (hh_and_iiq_ids[\"iiqid\"]==i)]"
   ]
  },
  {
   "cell_type": "code",
   "execution_count": 473,
   "id": "51894ddb-ffc1-4baa-b8a2-140b85b2c4d6",
   "metadata": {
    "execution": {
     "iopub.execute_input": "2023-03-13T13:41:09.102296Z",
     "iopub.status.busy": "2023-03-13T13:41:09.101228Z",
     "iopub.status.idle": "2023-03-13T13:45:23.186031Z",
     "shell.execute_reply": "2023-03-13T13:45:23.185415Z",
     "shell.execute_reply.started": "2023-03-13T13:41:09.102225Z"
    },
    "tags": []
   },
   "outputs": [
    {
     "name": "stderr",
     "output_type": "stream",
     "text": [
      "100%|████████████████████████████████████| 67320/67320 [04:14<00:00, 264.99it/s]\n"
     ]
    }
   ],
   "source": [
    "# precision_mixing_types = [mix_precision_type(h,i, non_mixed_data) for h, i, c in hh_and_iiq_ids.values]\n",
    "precision_mixing_types = []\n",
    "for h, i, b, c in tqdm(hh_and_iiq_ids.values): \n",
    "    curr_type, curr_highest_precision = mix_precision_type(h,i, hh_and_iiq_ids)\n",
    "    precision_mixing_types.append((h, i, curr_type, curr_highest_precision))"
   ]
  },
  {
   "cell_type": "code",
   "execution_count": 474,
   "id": "56fb0f64-3d76-49a4-8fa1-e73248bc6803",
   "metadata": {
    "execution": {
     "iopub.execute_input": "2023-03-13T13:45:38.218368Z",
     "iopub.status.busy": "2023-03-13T13:45:38.217504Z",
     "iopub.status.idle": "2023-03-13T13:45:38.270932Z",
     "shell.execute_reply": "2023-03-13T13:45:38.270437Z",
     "shell.execute_reply.started": "2023-03-13T13:45:38.218275Z"
    },
    "tags": []
   },
   "outputs": [],
   "source": [
    "mixings = [t for _,_,t,_ in precision_mixing_types]\n",
    "weights = np.ones_like(mixings) / len(mixings)"
   ]
  },
  {
   "cell_type": "code",
   "execution_count": 475,
   "id": "1360c3b5-b469-4b50-a5d7-3576d154b2d2",
   "metadata": {
    "execution": {
     "iopub.execute_input": "2023-03-13T13:45:38.807443Z",
     "iopub.status.busy": "2023-03-13T13:45:38.806433Z",
     "iopub.status.idle": "2023-03-13T13:45:39.027925Z",
     "shell.execute_reply": "2023-03-13T13:45:39.027536Z",
     "shell.execute_reply.started": "2023-03-13T13:45:38.807375Z"
    },
    "tags": []
   },
   "outputs": [
    {
     "data": {
      "image/png": "[encoded data removed]",
      "text/plain": [
       "<Figure size 1200x500 with 1 Axes>"
      ]
     },
     "metadata": {},
     "output_type": "display_data"
    }
   ],
   "source": [
    "plt.hist(x=mixings, bins=[0,0.5, 1,1.5], weights=weights, align='left')\n",
    "plt.xticks(ticks=[0,1], labels=['mixed', 'homogenious']);"
   ]
  },
  {
   "cell_type": "code",
   "execution_count": 476,
   "id": "3c4a552d-f81a-4540-a1ec-d7df203b479f",
   "metadata": {
    "execution": {
     "iopub.execute_input": "2023-03-13T13:45:44.046598Z",
     "iopub.status.busy": "2023-03-13T13:45:44.046046Z",
     "iopub.status.idle": "2023-03-13T13:45:44.082776Z",
     "shell.execute_reply": "2023-03-13T13:45:44.082370Z",
     "shell.execute_reply.started": "2023-03-13T13:45:44.046557Z"
    },
    "tags": []
   },
   "outputs": [],
   "source": [
    "mixings = [p for _,_,t,p in precision_mixing_types if t == 1]\n",
    "weights = np.ones_like(mixings) / len(mixings)"
   ]
  },
  {
   "cell_type": "code",
   "execution_count": 477,
   "id": "3469f1d7-e6fb-4fd8-ba74-c113e30b4d06",
   "metadata": {
    "execution": {
     "iopub.execute_input": "2023-03-13T13:45:44.454587Z",
     "iopub.status.busy": "2023-03-13T13:45:44.453619Z",
     "iopub.status.idle": "2023-03-13T13:45:44.690588Z",
     "shell.execute_reply": "2023-03-13T13:45:44.690006Z",
     "shell.execute_reply.started": "2023-03-13T13:45:44.454525Z"
    },
    "tags": []
   },
   "outputs": [
    {
     "data": {
      "text/plain": [
       "Text(0.5, 1.0, 'Distribution of the precision of version homogenious instances')"
      ]
     },
     "execution_count": 477,
     "metadata": {},
     "output_type": "execute_result"
    },
    {
     "data": {
      "image/png": "[encoded data removed]",
      "text/plain": [
       "<Figure size 1200x500 with 1 Axes>"
      ]
     },
     "metadata": {},
     "output_type": "display_data"
    }
   ],
   "source": [
    "plt.hist(x=mixings, weights=weights, align='left')\n",
    "plt.title(\"Distribution of the precision of version homogenious instances\")"
   ]
  },
  {
   "cell_type": "code",
   "execution_count": 478,
   "id": "4c667edb-76cb-43fc-93cb-30a54e1d2ae2",
   "metadata": {
    "execution": {
     "iopub.execute_input": "2023-03-13T13:45:53.063545Z",
     "iopub.status.busy": "2023-03-13T13:45:53.063085Z",
     "iopub.status.idle": "2023-03-13T13:45:53.117538Z",
     "shell.execute_reply": "2023-03-13T13:45:53.117124Z",
     "shell.execute_reply.started": "2023-03-13T13:45:53.063499Z"
    },
    "tags": []
   },
   "outputs": [
    {
     "data": {
      "text/plain": [
       "1    0.587466\n",
       "4    0.358711\n",
       "3    0.033459\n",
       "2    0.020210\n",
       "6    0.000153\n",
       "dtype: float64"
      ]
     },
     "execution_count": 478,
     "metadata": {},
     "output_type": "execute_result"
    }
   ],
   "source": [
    "pd.DataFrame(mixings).value_counts(normalize=True)"
   ]
  },
  {
   "cell_type": "code",
   "execution_count": 395,
   "id": "c20c7d74-b16f-4362-b4ae-aad6f51f90a9",
   "metadata": {
    "execution": {
     "iopub.execute_input": "2023-03-13T12:17:52.025189Z",
     "iopub.status.busy": "2023-03-13T12:17:52.023303Z",
     "iopub.status.idle": "2023-03-13T12:17:52.119552Z",
     "shell.execute_reply": "2023-03-13T12:17:52.119198Z",
     "shell.execute_reply.started": "2023-03-13T12:17:52.025110Z"
    },
    "tags": []
   },
   "outputs": [],
   "source": [
    "mixings_df = pd.DataFrame([(not bool(t), p) for _,_,t,p in precision_mixing_types], columns=[\"is_mixed\", \"max_precision\"])"
   ]
  },
  {
   "cell_type": "code",
   "execution_count": 396,
   "id": "39dedfe3-f254-4a21-a566-0c02a649f93c",
   "metadata": {
    "execution": {
     "iopub.execute_input": "2023-03-13T12:17:52.546591Z",
     "iopub.status.busy": "2023-03-13T12:17:52.545905Z",
     "iopub.status.idle": "2023-03-13T12:17:52.580540Z",
     "shell.execute_reply": "2023-03-13T12:17:52.580038Z",
     "shell.execute_reply.started": "2023-03-13T12:17:52.546536Z"
    },
    "tags": []
   },
   "outputs": [
    {
     "data": {
      "text/html": [
       "<div>\n",
       "<style scoped>\n",
       "    .dataframe tbody tr th:only-of-type {\n",
       "        vertical-align: middle;\n",
       "    }\n",
       "\n",
       "    .dataframe tbody tr th {\n",
       "        vertical-align: top;\n",
       "    }\n",
       "\n",
       "    .dataframe thead th {\n",
       "        text-align: right;\n",
       "    }\n",
       "</style>\n",
       "<table border=\"1\" class=\"dataframe\">\n",
       "  <thead>\n",
       "    <tr style=\"text-align: right;\">\n",
       "      <th></th>\n",
       "      <th>is_mixed</th>\n",
       "      <th>max_precision</th>\n",
       "    </tr>\n",
       "  </thead>\n",
       "  <tbody>\n",
       "    <tr>\n",
       "      <th>0</th>\n",
       "      <td>True</td>\n",
       "      <td>3</td>\n",
       "    </tr>\n",
       "    <tr>\n",
       "      <th>1</th>\n",
       "      <td>True</td>\n",
       "      <td>3</td>\n",
       "    </tr>\n",
       "    <tr>\n",
       "      <th>2</th>\n",
       "      <td>False</td>\n",
       "      <td>1</td>\n",
       "    </tr>\n",
       "    <tr>\n",
       "      <th>3</th>\n",
       "      <td>False</td>\n",
       "      <td>1</td>\n",
       "    </tr>\n",
       "    <tr>\n",
       "      <th>4</th>\n",
       "      <td>True</td>\n",
       "      <td>4</td>\n",
       "    </tr>\n",
       "  </tbody>\n",
       "</table>\n",
       "</div>"
      ],
      "text/plain": [
       "   is_mixed  max_precision\n",
       "0      True              3\n",
       "1      True              3\n",
       "2     False              1\n",
       "3     False              1\n",
       "4      True              4"
      ]
     },
     "execution_count": 396,
     "metadata": {},
     "output_type": "execute_result"
    }
   ],
   "source": [
    "mixings_df.head()"
   ]
  },
  {
   "cell_type": "code",
   "execution_count": 401,
   "id": "5b2c12c9-1a3e-4830-8365-8cf33692b5db",
   "metadata": {
    "execution": {
     "iopub.execute_input": "2023-03-13T12:19:13.957195Z",
     "iopub.status.busy": "2023-03-13T12:19:13.956545Z",
     "iopub.status.idle": "2023-03-13T12:19:14.104831Z",
     "shell.execute_reply": "2023-03-13T12:19:14.104381Z",
     "shell.execute_reply.started": "2023-03-13T12:19:13.957148Z"
    },
    "tags": []
   },
   "outputs": [
    {
     "data": {
      "text/plain": [
       "<Axes: xlabel='max_precision', ylabel='count'>"
      ]
     },
     "execution_count": 401,
     "metadata": {},
     "output_type": "execute_result"
    },
    {
     "data": {
      "image/png": "[encoded data removed]",
      "text/plain": [
       "<Figure size 1200x500 with 1 Axes>"
      ]
     },
     "metadata": {},
     "output_type": "display_data"
    }
   ],
   "source": [
    "sns.countplot(data=mixings_df, x=\"max_precision\")"
   ]
  },
  {
   "cell_type": "code",
   "execution_count": 479,
   "id": "b7cc6f43-0b7b-4450-adff-995e766933ee",
   "metadata": {
    "execution": {
     "iopub.execute_input": "2023-03-13T13:46:12.878905Z",
     "iopub.status.busy": "2023-03-13T13:46:12.878370Z",
     "iopub.status.idle": "2023-03-13T13:46:12.913769Z",
     "shell.execute_reply": "2023-03-13T13:46:12.913279Z",
     "shell.execute_reply.started": "2023-03-13T13:46:12.878861Z"
    },
    "tags": []
   },
   "outputs": [],
   "source": [
    "mixed_vers_hh_iiq = [(h, i) for h,i,t,_ in precision_mixing_types if t==0]"
   ]
  },
  {
   "cell_type": "code",
   "execution_count": 494,
   "id": "3e19aa32-f264-4c35-87a7-695ac6dd8241",
   "metadata": {
    "execution": {
     "iopub.execute_input": "2023-03-13T13:52:42.365753Z",
     "iopub.status.busy": "2023-03-13T13:52:42.365006Z",
     "iopub.status.idle": "2023-03-13T13:59:16.597376Z",
     "shell.execute_reply": "2023-03-13T13:59:16.596091Z",
     "shell.execute_reply.started": "2023-03-13T13:52:42.365705Z"
    },
    "tags": []
   },
   "outputs": [
    {
     "name": "stderr",
     "output_type": "stream",
     "text": [
      "100%|███████████████████████████████████████| 2106/2106 [06:34<00:00,  5.34it/s]\n"
     ]
    }
   ],
   "source": [
    "ratios = []\n",
    "# max_ratio = 0\n",
    "for i in tqdm(range(len(mixed_vers_hh_iiq))):\n",
    "    just_one = mixed_vers_hh_iiq[i]\n",
    "    lp, hp, pp = split_by_precision(data[(data[\"hh_id\"]==just_one[0]) & (data[\"iiqid\"]==just_one[1])][\"browserversion\"])    \n",
    "    m = min(len(hp)/len(lp), len(lp)/len(hp))\n",
    "    ratios.append(m)\n",
    "    # if len(hp)/len(lp) > max_ratio:\n",
    "    # max_ratio = len(hp)/len(lp)\n",
    "    # worst = split_by_precision(data[(data[\"hh_id\"]==just_one[0]) & (data[\"iiqid\"]==just_one[1])][\"browserversion\"])    "
   ]
  },
  {
   "cell_type": "code",
   "execution_count": 501,
   "id": "14bc1bb1-e7b3-4282-a7a4-d9e81abc6822",
   "metadata": {
    "execution": {
     "iopub.execute_input": "2023-03-13T14:00:25.738682Z",
     "iopub.status.busy": "2023-03-13T14:00:25.738149Z",
     "iopub.status.idle": "2023-03-13T14:00:25.911846Z",
     "shell.execute_reply": "2023-03-13T14:00:25.911224Z",
     "shell.execute_reply.started": "2023-03-13T14:00:25.738653Z"
    },
    "tags": []
   },
   "outputs": [
    {
     "data": {
      "text/plain": [
       "<Axes: ylabel='Count'>"
      ]
     },
     "execution_count": 501,
     "metadata": {},
     "output_type": "execute_result"
    },
    {
     "data": {
      "image/png": "[encoded data removed]",
      "text/plain": [
       "<Figure size 1200x500 with 1 Axes>"
      ]
     },
     "metadata": {},
     "output_type": "display_data"
    }
   ],
   "source": [
    "sns.histplot(x=ratios)"
   ]
  },
  {
   "cell_type": "markdown",
   "id": "3d54837d-3181-469d-ba9e-465265031715",
   "metadata": {},
   "source": [
    "### Version Noise Distribution"
   ]
  },
  {
   "cell_type": "code",
   "execution_count": 517,
   "id": "6021ae6d-301a-4e8c-ba9a-1b878f4507cf",
   "metadata": {
    "execution": {
     "iopub.execute_input": "2023-03-13T15:19:01.993611Z",
     "iopub.status.busy": "2023-03-13T15:19:01.992017Z",
     "iopub.status.idle": "2023-03-13T15:19:02.052386Z",
     "shell.execute_reply": "2023-03-13T15:19:02.052001Z",
     "shell.execute_reply.started": "2023-03-13T15:19:01.993545Z"
    },
    "tags": []
   },
   "outputs": [],
   "source": [
    "# def no_of_os_and_browsers(one_cookie_df):\n",
    "#     browsers_of_cookie = len(one_cookie_df.browser.unique())\n",
    "#     os_of_cookie = len(one_cookie_df.os.unique())\n",
    "#     return os_of_cookie==1 and browsers_of_cookie==1"
   ]
  },
  {
   "cell_type": "code",
   "execution_count": 511,
   "id": "4e33cf3f-70d4-42ed-babe-af40a3b5966c",
   "metadata": {
    "execution": {
     "iopub.execute_input": "2023-03-13T14:55:36.082388Z",
     "iopub.status.busy": "2023-03-13T14:55:36.080927Z",
     "iopub.status.idle": "2023-03-13T15:00:48.675689Z",
     "shell.execute_reply": "2023-03-13T15:00:48.674653Z",
     "shell.execute_reply.started": "2023-03-13T14:55:36.082329Z"
    },
    "tags": []
   },
   "outputs": [],
   "source": [
    "cookies_noise_stats = data.groupby(\"iiqid\").agg(denoised_fraction)"
   ]
  },
  {
   "cell_type": "code",
   "execution_count": 523,
   "id": "77332174-c7c0-4d1a-96a2-e3c919683d60",
   "metadata": {
    "execution": {
     "iopub.execute_input": "2023-03-13T15:22:02.472650Z",
     "iopub.status.busy": "2023-03-13T15:22:02.471281Z",
     "iopub.status.idle": "2023-03-13T15:22:04.151168Z",
     "shell.execute_reply": "2023-03-13T15:22:04.150733Z",
     "shell.execute_reply.started": "2023-03-13T15:22:02.472583Z"
    },
    "tags": []
   },
   "outputs": [],
   "source": [
    "cookies_nuniques = data.groupby(\"iiqid\").agg({'os': 'nunique', 'browser': 'nunique'})"
   ]
  },
  {
   "cell_type": "code",
   "execution_count": 526,
   "id": "464ef40b-8e9f-42c2-b135-8d6152ae9b61",
   "metadata": {
    "execution": {
     "iopub.execute_input": "2023-03-13T15:22:57.112560Z",
     "iopub.status.busy": "2023-03-13T15:22:57.111805Z",
     "iopub.status.idle": "2023-03-13T15:22:57.151706Z",
     "shell.execute_reply": "2023-03-13T15:22:57.151129Z",
     "shell.execute_reply.started": "2023-03-13T15:22:57.112498Z"
    },
    "tags": []
   },
   "outputs": [],
   "source": [
    "cookie_stats = pd.concat([1-cookies_noise_stats.timestamp, cookies_nuniques], axis=1)"
   ]
  },
  {
   "cell_type": "code",
   "execution_count": 527,
   "id": "104f26e9-2306-47f3-950a-65314dd6cbc7",
   "metadata": {
    "execution": {
     "iopub.execute_input": "2023-03-13T15:23:35.002539Z",
     "iopub.status.busy": "2023-03-13T15:23:35.000855Z",
     "iopub.status.idle": "2023-03-13T15:23:35.057774Z",
     "shell.execute_reply": "2023-03-13T15:23:35.057382Z",
     "shell.execute_reply.started": "2023-03-13T15:23:35.002447Z"
    },
    "tags": []
   },
   "outputs": [],
   "source": [
    "cookie_stats.columns = [\"noise\", \"no_os\", \"no_browsers\"]"
   ]
  },
  {
   "cell_type": "code",
   "execution_count": 538,
   "id": "14459456-c638-4136-8d65-a07a8ed8bb9d",
   "metadata": {
    "execution": {
     "iopub.execute_input": "2023-03-13T15:34:58.772653Z",
     "iopub.status.busy": "2023-03-13T15:34:58.772142Z",
     "iopub.status.idle": "2023-03-13T15:34:58.998750Z",
     "shell.execute_reply": "2023-03-13T15:34:58.998273Z",
     "shell.execute_reply.started": "2023-03-13T15:34:58.772612Z"
    },
    "tags": []
   },
   "outputs": [
    {
     "data": {
      "text/plain": [
       "Text(0.5, 1.0, 'Cookies Mean Noise - All cookies')"
      ]
     },
     "execution_count": 538,
     "metadata": {},
     "output_type": "execute_result"
    },
    {
     "data": {
      "image/png": "[encoded data removed]",
      "text/plain": [
       "<Figure size 1200x500 with 1 Axes>"
      ]
     },
     "metadata": {},
     "output_type": "display_data"
    }
   ],
   "source": [
    "sns.histplot(data=cookie_stats, x=\"noise\", bins=50)\n",
    "plt.title(\"Cookies Mean Noise - All cookies\")"
   ]
  },
  {
   "cell_type": "code",
   "execution_count": 539,
   "id": "e83e588e-2da0-465b-955e-2438394f365b",
   "metadata": {
    "execution": {
     "iopub.execute_input": "2023-03-13T15:35:26.957035Z",
     "iopub.status.busy": "2023-03-13T15:35:26.954648Z",
     "iopub.status.idle": "2023-03-13T15:35:27.182968Z",
     "shell.execute_reply": "2023-03-13T15:35:27.182168Z",
     "shell.execute_reply.started": "2023-03-13T15:35:26.956908Z"
    },
    "tags": []
   },
   "outputs": [
    {
     "data": {
      "text/plain": [
       "Text(0.5, 1.0, 'Cookies Mean Noise - Only cookies with consistent os and browser')"
      ]
     },
     "execution_count": 539,
     "metadata": {},
     "output_type": "execute_result"
    },
    {
     "data": {
      "image/png": "[encoded data removed]",
      "text/plain": [
       "<Figure size 1200x500 with 1 Axes>"
      ]
     },
     "metadata": {},
     "output_type": "display_data"
    }
   ],
   "source": [
    "sns.histplot(data=cookie_stats[cookie_stats['no_os']==1], x=\"noise\", bins=50)\n",
    "plt.title(\"Cookies Mean Noise - Only cookies with consistent os and browser\")"
   ]
  },
  {
   "cell_type": "code",
   "execution_count": 540,
   "id": "106b686c-cb60-4a72-a114-a1762b14cfd5",
   "metadata": {
    "execution": {
     "iopub.execute_input": "2023-03-13T15:35:52.482599Z",
     "iopub.status.busy": "2023-03-13T15:35:52.481731Z",
     "iopub.status.idle": "2023-03-13T15:35:52.710369Z",
     "shell.execute_reply": "2023-03-13T15:35:52.709666Z",
     "shell.execute_reply.started": "2023-03-13T15:35:52.482503Z"
    },
    "tags": []
   },
   "outputs": [
    {
     "data": {
      "text/plain": [
       "Text(0.5, 1.0, 'Cookies Mean Noise - Only cookies with multiple os and/or browser')"
      ]
     },
     "execution_count": 540,
     "metadata": {},
     "output_type": "execute_result"
    },
    {
     "data": {
      "image/png": "[encoded data removed]",
      "text/plain": [
       "<Figure size 1200x500 with 1 Axes>"
      ]
     },
     "metadata": {},
     "output_type": "display_data"
    }
   ],
   "source": [
    "sns.histplot(data=cookie_stats[cookie_stats['no_os']>1], x=\"noise\", bins=50)\n",
    "plt.title(\"Cookies Mean Noise - Only cookies with multiple os and/or browser\")"
   ]
  },
  {
   "cell_type": "code",
   "execution_count": null,
   "id": "6d9ef93f-9409-4c03-9a0d-a8b757be0df3",
   "metadata": {
    "execution": {
     "iopub.status.busy": "2023-03-13T15:41:41.990372Z",
     "iopub.status.idle": "2023-03-13T15:41:41.990503Z",
     "shell.execute_reply": "2023-03-13T15:41:41.990438Z",
     "shell.execute_reply.started": "2023-03-13T15:41:41.990430Z"
    },
    "tags": []
   },
   "outputs": [],
   "source": [
    "sns.violinplotlinplot(data=cookie_stats, x='no_os', y='noise')"
   ]
  },
  {
   "cell_type": "code",
   "execution_count": 546,
   "id": "cda4b096-ce3b-4f9b-9cd1-c247cd96ac1a",
   "metadata": {
    "execution": {
     "iopub.execute_input": "2023-03-13T15:43:56.899442Z",
     "iopub.status.busy": "2023-03-13T15:43:56.898749Z",
     "iopub.status.idle": "2023-03-13T15:43:56.943466Z",
     "shell.execute_reply": "2023-03-13T15:43:56.943086Z",
     "shell.execute_reply.started": "2023-03-13T15:43:56.899369Z"
    },
    "tags": []
   },
   "outputs": [],
   "source": [
    "cookie_stats[\"consistent_ob\"] = (cookie_stats[\"no_os\"]==1) & (cookie_stats[\"no_browsers\"]==1)"
   ]
  },
  {
   "cell_type": "code",
   "execution_count": 559,
   "id": "7e51caac-895e-404c-8a67-cd6ccca6bb2a",
   "metadata": {
    "execution": {
     "iopub.execute_input": "2023-03-13T15:47:21.888469Z",
     "iopub.status.busy": "2023-03-13T15:47:21.887503Z",
     "iopub.status.idle": "2023-03-13T15:47:22.082205Z",
     "shell.execute_reply": "2023-03-13T15:47:22.081907Z",
     "shell.execute_reply.started": "2023-03-13T15:47:21.888393Z"
    },
    "tags": []
   },
   "outputs": [
    {
     "data": {
      "text/plain": [
       "Text(0.5, 0, 'Is there only 1 OS and only 1 Browser attached to the cookie')"
      ]
     },
     "execution_count": 559,
     "metadata": {},
     "output_type": "execute_result"
    },
    {
     "data": {
      "image/png": "[encoded data removed]",
      "text/plain": [
       "<Figure size 1200x500 with 1 Axes>"
      ]
     },
     "metadata": {},
     "output_type": "display_data"
    }
   ],
   "source": [
    "sns.stripplot(data=cookie_stats, x='consistent_ob', y='noise', size=1)\n",
    "plt.xlabel('Is there only 1 OS and only 1 Browser attached to the cookie')"
   ]
  },
  {
   "cell_type": "code",
   "execution_count": 563,
   "id": "0afdb75e-4446-4196-97c5-bd819f81245f",
   "metadata": {
    "execution": {
     "iopub.execute_input": "2023-03-13T15:50:43.497802Z",
     "iopub.status.busy": "2023-03-13T15:50:43.494040Z",
     "iopub.status.idle": "2023-03-13T15:50:43.552320Z",
     "shell.execute_reply": "2023-03-13T15:50:43.551526Z",
     "shell.execute_reply.started": "2023-03-13T15:50:43.497637Z"
    },
    "tags": []
   },
   "outputs": [
    {
     "data": {
      "text/plain": [
       "0.009952949692363372"
      ]
     },
     "execution_count": 563,
     "metadata": {},
     "output_type": "execute_result"
    }
   ],
   "source": [
    "len(cookie_stats[(cookie_stats['consistent_ob']) & (cookie_stats['noise']>0.1)]) \\\n",
    "    / len(cookie_stats[cookie_stats['consistent_ob']])"
   ]
  },
  {
   "cell_type": "code",
   "execution_count": 597,
   "id": "3fc9e24f-593a-4d89-bb03-22564fcedf5a",
   "metadata": {
    "execution": {
     "iopub.execute_input": "2023-03-13T17:08:52.999063Z",
     "iopub.status.busy": "2023-03-13T17:08:52.998317Z",
     "iopub.status.idle": "2023-03-13T17:08:53.030616Z",
     "shell.execute_reply": "2023-03-13T17:08:53.030297Z",
     "shell.execute_reply.started": "2023-03-13T17:08:52.998998Z"
    },
    "tags": []
   },
   "outputs": [],
   "source": [
    "values, base = np.histogram(cookie_stats[cookie_stats['consistent_ob']][\"noise\"], bins=2000)\n",
    "cumulative = np.cumsum(values)"
   ]
  },
  {
   "cell_type": "code",
   "execution_count": 598,
   "id": "7c0458f8-37a9-4878-9eda-3bbf5a741172",
   "metadata": {
    "execution": {
     "iopub.execute_input": "2023-03-13T17:08:53.618554Z",
     "iopub.status.busy": "2023-03-13T17:08:53.617789Z",
     "iopub.status.idle": "2023-03-13T17:08:53.781662Z",
     "shell.execute_reply": "2023-03-13T17:08:53.781248Z",
     "shell.execute_reply.started": "2023-03-13T17:08:53.618495Z"
    },
    "tags": []
   },
   "outputs": [
    {
     "data": {
      "text/plain": [
       "[<matplotlib.lines.Line2D at 0x2aac34160>]"
      ]
     },
     "execution_count": 598,
     "metadata": {},
     "output_type": "execute_result"
    },
    {
     "data": {
      "image/png": "[encoded data removed]",
      "text/plain": [
       "<Figure size 1200x500 with 1 Axes>"
      ]
     },
     "metadata": {},
     "output_type": "display_data"
    }
   ],
   "source": [
    "cdf = cumulative/len(cookie_stats[cookie_stats['consistent_ob']])\n",
    "plt.plot(np.insert(cdf, 0, 0))"
   ]
  },
  {
   "cell_type": "code",
   "execution_count": 604,
   "id": "625ab15d-8b15-40ed-9f7c-594223089cab",
   "metadata": {
    "execution": {
     "iopub.execute_input": "2023-03-13T17:10:11.735276Z",
     "iopub.status.busy": "2023-03-13T17:10:11.734328Z",
     "iopub.status.idle": "2023-03-13T17:10:11.767707Z",
     "shell.execute_reply": "2023-03-13T17:10:11.767350Z",
     "shell.execute_reply.started": "2023-03-13T17:10:11.735204Z"
    },
    "tags": []
   },
   "outputs": [],
   "source": [
    "noise_values = cookie_stats[cookie_stats['consistent_ob']][\"noise\"].values"
   ]
  },
  {
   "cell_type": "code",
   "execution_count": 606,
   "id": "08d22237-c31f-44a3-9df7-6e199765b2b7",
   "metadata": {
    "execution": {
     "iopub.execute_input": "2023-03-13T17:10:56.108831Z",
     "iopub.status.busy": "2023-03-13T17:10:56.108089Z",
     "iopub.status.idle": "2023-03-13T17:10:56.139708Z",
     "shell.execute_reply": "2023-03-13T17:10:56.139285Z",
     "shell.execute_reply.started": "2023-03-13T17:10:56.108776Z"
    },
    "tags": []
   },
   "outputs": [
    {
     "data": {
      "text/plain": [
       "array([None], dtype=object)"
      ]
     },
     "execution_count": 606,
     "metadata": {},
     "output_type": "execute_result"
    }
   ],
   "source": [
    "np.cumsum(noise_values.sort())"
   ]
  },
  {
   "cell_type": "code",
   "execution_count": 607,
   "id": "2869c47e-c6c4-499d-b185-e5080083186b",
   "metadata": {
    "execution": {
     "iopub.execute_input": "2023-03-13T17:11:02.256473Z",
     "iopub.status.busy": "2023-03-13T17:11:02.255802Z",
     "iopub.status.idle": "2023-03-13T17:11:02.285360Z",
     "shell.execute_reply": "2023-03-13T17:11:02.284950Z",
     "shell.execute_reply.started": "2023-03-13T17:11:02.256415Z"
    },
    "tags": []
   },
   "outputs": [],
   "source": [
    "noise_values.sort()"
   ]
  },
  {
   "cell_type": "code",
   "execution_count": 611,
   "id": "90bff4e9-e576-4867-930b-0c3a67f3e83e",
   "metadata": {
    "execution": {
     "iopub.execute_input": "2023-03-13T17:14:04.619111Z",
     "iopub.status.busy": "2023-03-13T17:14:04.618537Z",
     "iopub.status.idle": "2023-03-13T17:14:04.660934Z",
     "shell.execute_reply": "2023-03-13T17:14:04.660417Z",
     "shell.execute_reply.started": "2023-03-13T17:14:04.619053Z"
    },
    "tags": []
   },
   "outputs": [],
   "source": [
    "p = 1. * np.arange(len(noise_values)) / (len(noise_values) - 1)"
   ]
  },
  {
   "cell_type": "code",
   "execution_count": 613,
   "id": "012b1065-f818-4996-9757-8827f73f0efd",
   "metadata": {
    "execution": {
     "iopub.execute_input": "2023-03-13T17:14:49.909324Z",
     "iopub.status.busy": "2023-03-13T17:14:49.908658Z",
     "iopub.status.idle": "2023-03-13T17:14:50.061802Z",
     "shell.execute_reply": "2023-03-13T17:14:50.061226Z",
     "shell.execute_reply.started": "2023-03-13T17:14:49.909271Z"
    },
    "tags": []
   },
   "outputs": [
    {
     "data": {
      "text/plain": [
       "[<matplotlib.lines.Line2D at 0x2aedfedd0>]"
      ]
     },
     "execution_count": 613,
     "metadata": {},
     "output_type": "execute_result"
    },
    {
     "data": {
      "image/png": "[encoded data removed]",
      "text/plain": [
       "<Figure size 1200x500 with 1 Axes>"
      ]
     },
     "metadata": {},
     "output_type": "display_data"
    }
   ],
   "source": [
    "plt.plot(noise_values, p)"
   ]
  },
  {
   "cell_type": "code",
   "execution_count": 614,
   "id": "833ba3ec-af38-49af-b8d7-fc5c54af46be",
   "metadata": {
    "execution": {
     "iopub.execute_input": "2023-03-13T17:15:41.308158Z",
     "iopub.status.busy": "2023-03-13T17:15:41.306233Z",
     "iopub.status.idle": "2023-03-13T17:15:41.373947Z",
     "shell.execute_reply": "2023-03-13T17:15:41.373514Z",
     "shell.execute_reply.started": "2023-03-13T17:15:41.308071Z"
    },
    "tags": []
   },
   "outputs": [],
   "source": [
    "noise_values_bad = cookie_stats[~cookie_stats['consistent_ob']][\"noise\"].values"
   ]
  },
  {
   "cell_type": "code",
   "execution_count": 615,
   "id": "8dfd615d-c699-478d-a9e4-285028cb5eea",
   "metadata": {
    "execution": {
     "iopub.execute_input": "2023-03-13T17:15:49.433542Z",
     "iopub.status.busy": "2023-03-13T17:15:49.432678Z",
     "iopub.status.idle": "2023-03-13T17:15:49.465041Z",
     "shell.execute_reply": "2023-03-13T17:15:49.464546Z",
     "shell.execute_reply.started": "2023-03-13T17:15:49.433481Z"
    },
    "tags": []
   },
   "outputs": [],
   "source": [
    "noise_values_bad.sort()"
   ]
  },
  {
   "cell_type": "code",
   "execution_count": 616,
   "id": "229057b4-0a3c-4275-8648-1a665708de93",
   "metadata": {
    "execution": {
     "iopub.execute_input": "2023-03-13T17:15:57.946785Z",
     "iopub.status.busy": "2023-03-13T17:15:57.945908Z",
     "iopub.status.idle": "2023-03-13T17:15:57.977880Z",
     "shell.execute_reply": "2023-03-13T17:15:57.977351Z",
     "shell.execute_reply.started": "2023-03-13T17:15:57.946721Z"
    },
    "tags": []
   },
   "outputs": [],
   "source": [
    "p = 1. * np.arange(len(noise_values_bad)) / (len(noise_values_bad) - 1)"
   ]
  },
  {
   "cell_type": "code",
   "execution_count": 617,
   "id": "1f33235f-2f8a-4846-87dd-c5c4c5dde9a6",
   "metadata": {
    "execution": {
     "iopub.execute_input": "2023-03-13T17:16:02.886781Z",
     "iopub.status.busy": "2023-03-13T17:16:02.885856Z",
     "iopub.status.idle": "2023-03-13T17:16:03.051955Z",
     "shell.execute_reply": "2023-03-13T17:16:03.051299Z",
     "shell.execute_reply.started": "2023-03-13T17:16:02.886703Z"
    },
    "tags": []
   },
   "outputs": [
    {
     "data": {
      "text/plain": [
       "[<matplotlib.lines.Line2D at 0x2aed68310>]"
      ]
     },
     "execution_count": 617,
     "metadata": {},
     "output_type": "execute_result"
    },
    {
     "data": {
      "image/png": "[encoded data removed]",
      "text/plain": [
       "<Figure size 1200x500 with 1 Axes>"
      ]
     },
     "metadata": {},
     "output_type": "display_data"
    }
   ],
   "source": [
    "plt.plot(noise_values_bad, p)"
   ]
  },
  {
   "cell_type": "code",
   "execution_count": 627,
   "id": "59861aef-307d-4fa9-bcba-a51d086de19d",
   "metadata": {
    "execution": {
     "iopub.execute_input": "2023-03-13T17:21:16.014607Z",
     "iopub.status.busy": "2023-03-13T17:21:16.013461Z",
     "iopub.status.idle": "2023-03-13T17:21:16.055338Z",
     "shell.execute_reply": "2023-03-13T17:21:16.054945Z",
     "shell.execute_reply.started": "2023-03-13T17:21:16.014515Z"
    },
    "tags": []
   },
   "outputs": [
    {
     "data": {
      "text/plain": [
       "0.9263998759112766"
      ]
     },
     "execution_count": 627,
     "metadata": {},
     "output_type": "execute_result"
    }
   ],
   "source": [
    "len(noise_values[np.where(noise_values==0)])/len(noise_values)"
   ]
  },
  {
   "cell_type": "code",
   "execution_count": 625,
   "id": "c6c062f7-c9ed-421f-b284-221cf3f1cc3b",
   "metadata": {
    "execution": {
     "iopub.execute_input": "2023-03-13T17:20:26.821379Z",
     "iopub.status.busy": "2023-03-13T17:20:26.820163Z",
     "iopub.status.idle": "2023-03-13T17:20:26.862981Z",
     "shell.execute_reply": "2023-03-13T17:20:26.862543Z",
     "shell.execute_reply.started": "2023-03-13T17:20:26.821070Z"
    },
    "tags": []
   },
   "outputs": [
    {
     "data": {
      "text/plain": [
       "0.9130523315007126"
      ]
     },
     "execution_count": 625,
     "metadata": {},
     "output_type": "execute_result"
    }
   ],
   "source": [
    "len(noise_values_bad[np.where(noise_values_bad!=0)])/len(noise_values_bad)"
   ]
  },
  {
   "cell_type": "code",
   "execution_count": null,
   "id": "8a33df74-78ca-4936-82f8-8e74d015439b",
   "metadata": {},
   "outputs": [],
   "source": []
  }
 ],
 "metadata": {
  "kernelspec": {
   "display_name": "Python 3 (ipykernel)",
   "language": "python",
   "name": "python3"
  },
  "language_info": {
   "codemirror_mode": {
    "name": "ipython",
    "version": 3
   },
   "file_extension": ".py",
   "mimetype": "text/x-python",
   "name": "python",
   "nbconvert_exporter": "python",
   "pygments_lexer": "ipython3",
   "version": "3.10.10"
  }
 },
 "nbformat": 4,
 "nbformat_minor": 5
}
