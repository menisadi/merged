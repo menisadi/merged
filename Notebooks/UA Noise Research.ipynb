{
 "cells": [
  {
   "cell_type": "code",
   "execution_count": 3,
   "id": "79b4e6bf-b2c3-4d6f-8a06-aac5aa4b7950",
   "metadata": {
    "execution": {
     "iopub.execute_input": "2023-03-08T11:59:55.032203Z",
     "iopub.status.busy": "2023-03-08T11:59:55.031711Z",
     "iopub.status.idle": "2023-03-08T11:59:56.442630Z",
     "shell.execute_reply": "2023-03-08T11:59:56.442332Z",
     "shell.execute_reply.started": "2023-03-08T11:59:55.032164Z"
    },
    "tags": []
   },
   "outputs": [],
   "source": [
    "import numpy as np\n",
    "import pandas as pd\n",
    "import seaborn as sns\n",
    "import matplotlib.pyplot as plt\n",
    "sns.set(rc={'figure.figsize':(12,5)})\n",
    "%load_ext autoreload\n",
    "%autoreload 2 "
   ]
  },
  {
   "cell_type": "code",
   "execution_count": 133,
   "id": "29c1c2eb-313a-4b0c-9445-5ce1deb0cd72",
   "metadata": {
    "execution": {
     "iopub.execute_input": "2023-03-08T14:52:47.303323Z",
     "iopub.status.busy": "2023-03-08T14:52:47.302204Z",
     "iopub.status.idle": "2023-03-08T14:52:47.347279Z",
     "shell.execute_reply": "2023-03-08T14:52:47.346707Z",
     "shell.execute_reply.started": "2023-03-08T14:52:47.303172Z"
    },
    "tags": []
   },
   "outputs": [],
   "source": [
    "import sys\n",
    "import os\n",
    "import itertools\n",
    "import re\n",
    "from functools import cmp_to_key\n",
    "sys.path.append(os.path.abspath('../modules'))\n",
    "from hard_rules import candidate_cookies, versions_key, compare_versions"
   ]
  },
  {
   "cell_type": "code",
   "execution_count": 151,
   "id": "df85c712-94ef-41d3-9d9d-94bb54dda496",
   "metadata": {
    "execution": {
     "iopub.execute_input": "2023-03-08T15:01:23.211902Z",
     "iopub.status.busy": "2023-03-08T15:01:23.210356Z",
     "iopub.status.idle": "2023-03-08T15:01:25.297293Z",
     "shell.execute_reply": "2023-03-08T15:01:25.296188Z",
     "shell.execute_reply.started": "2023-03-08T15:01:23.211841Z"
    },
    "tags": []
   },
   "outputs": [],
   "source": [
    "data = pd.read_parquet(\"../Data/10K_HH.parquet\")"
   ]
  },
  {
   "cell_type": "code",
   "execution_count": 152,
   "id": "b6fdaf01-7cff-46fb-9657-b9c5e08d948c",
   "metadata": {
    "execution": {
     "iopub.execute_input": "2023-03-08T15:01:25.300234Z",
     "iopub.status.busy": "2023-03-08T15:01:25.300079Z",
     "iopub.status.idle": "2023-03-08T15:01:26.090446Z",
     "shell.execute_reply": "2023-03-08T15:01:26.089707Z",
     "shell.execute_reply.started": "2023-03-08T15:01:25.300217Z"
    },
    "tags": []
   },
   "outputs": [],
   "source": [
    "data = data[data[\"maid\"]==7]"
   ]
  },
  {
   "cell_type": "code",
   "execution_count": 153,
   "id": "76286cb0-267a-4492-a14f-f96764e9c9ae",
   "metadata": {
    "execution": {
     "iopub.execute_input": "2023-03-08T15:01:26.091683Z",
     "iopub.status.busy": "2023-03-08T15:01:26.091495Z",
     "iopub.status.idle": "2023-03-08T15:01:30.037761Z",
     "shell.execute_reply": "2023-03-08T15:01:30.037231Z",
     "shell.execute_reply.started": "2023-03-08T15:01:26.091666Z"
    },
    "tags": []
   },
   "outputs": [
    {
     "data": {
      "text/plain": [
       "(2021, 12)         56\n",
       "(2022, 1)         365\n",
       "(2022, 2)          22\n",
       "(2022, 12)    1329060\n",
       "(2023, 1)     1402187\n",
       "(2023, 2)      669026\n",
       "Name: time, dtype: int64"
      ]
     },
     "execution_count": 153,
     "metadata": {},
     "output_type": "execute_result"
    }
   ],
   "source": [
    "data[\"time\"].apply(lambda t: (t.year, t.month)).value_counts().sort_index()"
   ]
  },
  {
   "cell_type": "code",
   "execution_count": 154,
   "id": "fd840e05-8f8e-440e-b538-55d5edf5a2bb",
   "metadata": {
    "execution": {
     "iopub.execute_input": "2023-03-08T15:01:30.039416Z",
     "iopub.status.busy": "2023-03-08T15:01:30.039268Z",
     "iopub.status.idle": "2023-03-08T15:01:30.563058Z",
     "shell.execute_reply": "2023-03-08T15:01:30.562739Z",
     "shell.execute_reply.started": "2023-03-08T15:01:30.039402Z"
    },
    "tags": []
   },
   "outputs": [],
   "source": [
    "data = data[data[\"time\"] >= pd.to_datetime(\"2022-12-01\")]"
   ]
  },
  {
   "cell_type": "code",
   "execution_count": 155,
   "id": "57c92bac-941f-4ed5-938c-d0a6d24026f5",
   "metadata": {
    "execution": {
     "iopub.execute_input": "2023-03-08T15:01:30.563628Z",
     "iopub.status.busy": "2023-03-08T15:01:30.563530Z",
     "iopub.status.idle": "2023-03-08T15:01:31.771653Z",
     "shell.execute_reply": "2023-03-08T15:01:31.771321Z",
     "shell.execute_reply.started": "2023-03-08T15:01:30.563620Z"
    },
    "tags": []
   },
   "outputs": [],
   "source": [
    "pattern = re.compile(r'^\\d+(\\.\\d+)*$')\n",
    "data = data[data.osversion.str.match(pattern)]"
   ]
  },
  {
   "cell_type": "code",
   "execution_count": 156,
   "id": "885ba94a-a20a-462d-b281-e50680289ebf",
   "metadata": {
    "execution": {
     "iopub.execute_input": "2023-03-08T15:01:31.772177Z",
     "iopub.status.busy": "2023-03-08T15:01:31.772094Z",
     "iopub.status.idle": "2023-03-08T15:01:33.374689Z",
     "shell.execute_reply": "2023-03-08T15:01:33.373858Z",
     "shell.execute_reply.started": "2023-03-08T15:01:31.772168Z"
    },
    "tags": []
   },
   "outputs": [],
   "source": [
    "pattern = re.compile(r'^\\d+(\\.\\d+)*$')\n",
    "data = data[data.browserversion.str.match(pattern)]"
   ]
  },
  {
   "cell_type": "code",
   "execution_count": 34,
   "id": "1b8eea4f-3204-4dab-ae0b-c4934182056e",
   "metadata": {
    "execution": {
     "iopub.execute_input": "2023-03-08T12:19:14.740510Z",
     "iopub.status.busy": "2023-03-08T12:19:14.739706Z",
     "iopub.status.idle": "2023-03-08T12:19:15.379071Z",
     "shell.execute_reply": "2023-03-08T12:19:15.378723Z",
     "shell.execute_reply.started": "2023-03-08T12:19:14.740453Z"
    },
    "tags": []
   },
   "outputs": [],
   "source": [
    "grouped = data.groupby(['hh_id', 'iiqid']).agg({'time': ['min', 'max']})"
   ]
  },
  {
   "cell_type": "code",
   "execution_count": 35,
   "id": "f27a51f8-2633-4c19-9aa0-e37247189c50",
   "metadata": {
    "execution": {
     "iopub.execute_input": "2023-03-08T12:19:17.161172Z",
     "iopub.status.busy": "2023-03-08T12:19:17.160411Z",
     "iopub.status.idle": "2023-03-08T12:19:17.196919Z",
     "shell.execute_reply": "2023-03-08T12:19:17.196370Z",
     "shell.execute_reply.started": "2023-03-08T12:19:17.161108Z"
    },
    "tags": []
   },
   "outputs": [],
   "source": [
    "grouped[\"lifespan\"] = grouped[(\"time\", \"max\")] - grouped[(\"time\", \"min\")]"
   ]
  },
  {
   "cell_type": "code",
   "execution_count": 36,
   "id": "323cd237-ae41-4bc2-bcd0-0ffe4bc82697",
   "metadata": {
    "execution": {
     "iopub.execute_input": "2023-03-08T12:19:20.388769Z",
     "iopub.status.busy": "2023-03-08T12:19:20.388289Z",
     "iopub.status.idle": "2023-03-08T12:19:20.507108Z",
     "shell.execute_reply": "2023-03-08T12:19:20.506645Z",
     "shell.execute_reply.started": "2023-03-08T12:19:20.388734Z"
    },
    "tags": []
   },
   "outputs": [],
   "source": [
    "grouped[\"lifespan\"] = grouped[\"lifespan\"].apply(lambda t: t.days)"
   ]
  },
  {
   "cell_type": "code",
   "execution_count": 31,
   "id": "2e444e24-ad61-458d-b981-3ee69f00a9f2",
   "metadata": {
    "execution": {
     "iopub.execute_input": "2023-03-08T12:17:26.372785Z",
     "iopub.status.busy": "2023-03-08T12:17:26.371927Z",
     "iopub.status.idle": "2023-03-08T12:17:26.434806Z",
     "shell.execute_reply": "2023-03-08T12:17:26.433407Z",
     "shell.execute_reply.started": "2023-03-08T12:17:26.372719Z"
    },
    "tags": []
   },
   "outputs": [
    {
     "data": {
      "text/html": [
       "<div>\n",
       "<style scoped>\n",
       "    .dataframe tbody tr th:only-of-type {\n",
       "        vertical-align: middle;\n",
       "    }\n",
       "\n",
       "    .dataframe tbody tr th {\n",
       "        vertical-align: top;\n",
       "    }\n",
       "\n",
       "    .dataframe thead th {\n",
       "        text-align: right;\n",
       "    }\n",
       "</style>\n",
       "<table border=\"1\" class=\"dataframe\">\n",
       "  <thead>\n",
       "    <tr style=\"text-align: right;\">\n",
       "      <th></th>\n",
       "      <th>timestamp</th>\n",
       "      <th>filename</th>\n",
       "      <th>iiqid</th>\n",
       "      <th>hh_id</th>\n",
       "      <th>maid</th>\n",
       "      <th>partner_id</th>\n",
       "      <th>ip</th>\n",
       "      <th>iscellip</th>\n",
       "      <th>cellispid</th>\n",
       "      <th>domain</th>\n",
       "      <th>...</th>\n",
       "      <th>model</th>\n",
       "      <th>os</th>\n",
       "      <th>osversion</th>\n",
       "      <th>browser</th>\n",
       "      <th>advertisedbrowser</th>\n",
       "      <th>browserversion</th>\n",
       "      <th>type</th>\n",
       "      <th>is_best_ip</th>\n",
       "      <th>time</th>\n",
       "      <th>is_hh</th>\n",
       "    </tr>\n",
       "  </thead>\n",
       "  <tbody>\n",
       "    <tr>\n",
       "      <th>0</th>\n",
       "      <td>1675608908952</td>\n",
       "      <td>HH_M</td>\n",
       "      <td>m9gT9WQU45</td>\n",
       "      <td>2RrCJATsw0</td>\n",
       "      <td>1</td>\n",
       "      <td>27</td>\n",
       "      <td>1645518178</td>\n",
       "      <td>False</td>\n",
       "      <td>-390920904</td>\n",
       "      <td>1744930452</td>\n",
       "      <td>...</td>\n",
       "      <td>iphone</td>\n",
       "      <td>ios</td>\n",
       "      <td>15.7.3</td>\n",
       "      <td>safari</td>\n",
       "      <td>iOS WebView</td>\n",
       "      <td>15.7.3</td>\n",
       "      <td>smartphone</td>\n",
       "      <td>False</td>\n",
       "      <td>2023-02-05 14:55:08.952</td>\n",
       "      <td>True</td>\n",
       "    </tr>\n",
       "    <tr>\n",
       "      <th>1</th>\n",
       "      <td>1675599499567</td>\n",
       "      <td>HH_M</td>\n",
       "      <td>m9gT9WQU45</td>\n",
       "      <td>2RrCJATsw0</td>\n",
       "      <td>1</td>\n",
       "      <td>27</td>\n",
       "      <td>1645518178</td>\n",
       "      <td>False</td>\n",
       "      <td>-390920904</td>\n",
       "      <td>1744930452</td>\n",
       "      <td>...</td>\n",
       "      <td>iphone</td>\n",
       "      <td>ios</td>\n",
       "      <td>15.7.3</td>\n",
       "      <td>safari</td>\n",
       "      <td>iOS WebView</td>\n",
       "      <td>15.7.3</td>\n",
       "      <td>smartphone</td>\n",
       "      <td>False</td>\n",
       "      <td>2023-02-05 12:18:19.567</td>\n",
       "      <td>True</td>\n",
       "    </tr>\n",
       "    <tr>\n",
       "      <th>2</th>\n",
       "      <td>1675551883837</td>\n",
       "      <td>HH_M</td>\n",
       "      <td>m9gT9WQU45</td>\n",
       "      <td>2RrCJATsw0</td>\n",
       "      <td>3</td>\n",
       "      <td>27</td>\n",
       "      <td>1800261306</td>\n",
       "      <td>True</td>\n",
       "      <td>-727330291</td>\n",
       "      <td>-395787423</td>\n",
       "      <td>...</td>\n",
       "      <td>iphone</td>\n",
       "      <td>ios</td>\n",
       "      <td>14.2</td>\n",
       "      <td>safari</td>\n",
       "      <td>iOS WebView</td>\n",
       "      <td>14.2</td>\n",
       "      <td>smartphone</td>\n",
       "      <td>False</td>\n",
       "      <td>2023-02-04 23:04:43.837</td>\n",
       "      <td>True</td>\n",
       "    </tr>\n",
       "    <tr>\n",
       "      <th>3</th>\n",
       "      <td>1675532057269</td>\n",
       "      <td>HH_M</td>\n",
       "      <td>m9gT9WQU45</td>\n",
       "      <td>2RrCJATsw0</td>\n",
       "      <td>1</td>\n",
       "      <td>27</td>\n",
       "      <td>1645518178</td>\n",
       "      <td>False</td>\n",
       "      <td>-390920904</td>\n",
       "      <td>1744930452</td>\n",
       "      <td>...</td>\n",
       "      <td>iphone</td>\n",
       "      <td>ios</td>\n",
       "      <td>15.7.3</td>\n",
       "      <td>safari</td>\n",
       "      <td>iOS WebView</td>\n",
       "      <td>15.7.3</td>\n",
       "      <td>smartphone</td>\n",
       "      <td>False</td>\n",
       "      <td>2023-02-04 17:34:17.269</td>\n",
       "      <td>True</td>\n",
       "    </tr>\n",
       "    <tr>\n",
       "      <th>4</th>\n",
       "      <td>1675527517327</td>\n",
       "      <td>HH_M</td>\n",
       "      <td>m9gT9WQU45</td>\n",
       "      <td>2RrCJATsw0</td>\n",
       "      <td>4</td>\n",
       "      <td>27</td>\n",
       "      <td>1800261306</td>\n",
       "      <td>True</td>\n",
       "      <td>-727330291</td>\n",
       "      <td>-395787423</td>\n",
       "      <td>...</td>\n",
       "      <td>iphone</td>\n",
       "      <td>ios</td>\n",
       "      <td>14.2</td>\n",
       "      <td>safari</td>\n",
       "      <td>iOS WebView</td>\n",
       "      <td>14.2</td>\n",
       "      <td>smartphone</td>\n",
       "      <td>False</td>\n",
       "      <td>2023-02-04 16:18:37.327</td>\n",
       "      <td>True</td>\n",
       "    </tr>\n",
       "  </tbody>\n",
       "</table>\n",
       "<p>5 rows × 22 columns</p>\n",
       "</div>"
      ],
      "text/plain": [
       "       timestamp filename       iiqid       hh_id  maid  partner_id  \\\n",
       "0  1675608908952     HH_M  m9gT9WQU45  2RrCJATsw0     1          27   \n",
       "1  1675599499567     HH_M  m9gT9WQU45  2RrCJATsw0     1          27   \n",
       "2  1675551883837     HH_M  m9gT9WQU45  2RrCJATsw0     3          27   \n",
       "3  1675532057269     HH_M  m9gT9WQU45  2RrCJATsw0     1          27   \n",
       "4  1675527517327     HH_M  m9gT9WQU45  2RrCJATsw0     4          27   \n",
       "\n",
       "           ip  iscellip  cellispid      domain  ...   model   os osversion  \\\n",
       "0  1645518178     False -390920904  1744930452  ...  iphone  ios    15.7.3   \n",
       "1  1645518178     False -390920904  1744930452  ...  iphone  ios    15.7.3   \n",
       "2  1800261306      True -727330291  -395787423  ...  iphone  ios      14.2   \n",
       "3  1645518178     False -390920904  1744930452  ...  iphone  ios    15.7.3   \n",
       "4  1800261306      True -727330291  -395787423  ...  iphone  ios      14.2   \n",
       "\n",
       "  browser advertisedbrowser browserversion        type is_best_ip  \\\n",
       "0  safari       iOS WebView         15.7.3  smartphone      False   \n",
       "1  safari       iOS WebView         15.7.3  smartphone      False   \n",
       "2  safari       iOS WebView           14.2  smartphone      False   \n",
       "3  safari       iOS WebView         15.7.3  smartphone      False   \n",
       "4  safari       iOS WebView           14.2  smartphone      False   \n",
       "\n",
       "                     time  is_hh  \n",
       "0 2023-02-05 14:55:08.952   True  \n",
       "1 2023-02-05 12:18:19.567   True  \n",
       "2 2023-02-04 23:04:43.837   True  \n",
       "3 2023-02-04 17:34:17.269   True  \n",
       "4 2023-02-04 16:18:37.327   True  \n",
       "\n",
       "[5 rows x 22 columns]"
      ]
     },
     "execution_count": 31,
     "metadata": {},
     "output_type": "execute_result"
    }
   ],
   "source": [
    "data.head()"
   ]
  },
  {
   "cell_type": "code",
   "execution_count": 37,
   "id": "1d1aa5dc-91d4-4fe2-bf29-92d825871669",
   "metadata": {
    "execution": {
     "iopub.execute_input": "2023-03-08T12:19:26.955271Z",
     "iopub.status.busy": "2023-03-08T12:19:26.954603Z",
     "iopub.status.idle": "2023-03-08T12:19:26.986013Z",
     "shell.execute_reply": "2023-03-08T12:19:26.985546Z",
     "shell.execute_reply.started": "2023-03-08T12:19:26.955226Z"
    },
    "tags": []
   },
   "outputs": [
    {
     "data": {
      "text/plain": [
       "84"
      ]
     },
     "execution_count": 37,
     "metadata": {},
     "output_type": "execute_result"
    }
   ],
   "source": [
    "grouped.lifespan.max()"
   ]
  },
  {
   "cell_type": "code",
   "execution_count": 45,
   "id": "46c1e69a-80eb-4a0a-ae7b-179f13a685ef",
   "metadata": {
    "execution": {
     "iopub.execute_input": "2023-03-08T12:32:02.027121Z",
     "iopub.status.busy": "2023-03-08T12:32:02.026335Z",
     "iopub.status.idle": "2023-03-08T12:32:02.266486Z",
     "shell.execute_reply": "2023-03-08T12:32:02.266173Z",
     "shell.execute_reply.started": "2023-03-08T12:32:02.027088Z"
    },
    "tags": []
   },
   "outputs": [
    {
     "data": {
      "text/plain": [
       "<Axes: xlabel='lifespan', ylabel='Count'>"
      ]
     },
     "execution_count": 45,
     "metadata": {},
     "output_type": "execute_result"
    },
    {
     "data": {
      "image/png": "[encoded data removed]",
      "text/plain": [
       "<Figure size 1200x500 with 1 Axes>"
      ]
     },
     "metadata": {},
     "output_type": "display_data"
    }
   ],
   "source": [
    "sns.histplot(data=grouped[grouped[\"lifespan\"]>0], x=\"lifespan\")"
   ]
  },
  {
   "cell_type": "code",
   "execution_count": 50,
   "id": "be09cf8e-dd87-460e-9c1d-bcc9c6f2628d",
   "metadata": {
    "execution": {
     "iopub.execute_input": "2023-03-08T12:35:02.701392Z",
     "iopub.status.busy": "2023-03-08T12:35:02.700894Z",
     "iopub.status.idle": "2023-03-08T12:35:02.823192Z",
     "shell.execute_reply": "2023-03-08T12:35:02.822673Z",
     "shell.execute_reply.started": "2023-03-08T12:35:02.701342Z"
    },
    "tags": []
   },
   "outputs": [
    {
     "data": {
      "text/plain": [
       "<BarContainer object of 2 artists>"
      ]
     },
     "execution_count": 50,
     "metadata": {},
     "output_type": "execute_result"
    },
    {
     "data": {
      "image/png": "[encoded data removed]",
      "text/plain": [
       "<Figure size 1200x500 with 1 Axes>"
      ]
     },
     "metadata": {},
     "output_type": "display_data"
    }
   ],
   "source": [
    "plt.bar([\"0\",\"> 0\"], \n",
    "        [len(grouped[grouped[\"lifespan\"]==0]), len(grouped[grouped[\"lifespan\"]>0])])"
   ]
  },
  {
   "cell_type": "code",
   "execution_count": 51,
   "id": "edee8c66-c4fa-4fa3-ae1c-31d8d6fb183f",
   "metadata": {
    "execution": {
     "iopub.execute_input": "2023-03-08T12:36:48.447388Z",
     "iopub.status.busy": "2023-03-08T12:36:48.446738Z",
     "iopub.status.idle": "2023-03-08T12:36:48.498445Z",
     "shell.execute_reply": "2023-03-08T12:36:48.498035Z",
     "shell.execute_reply.started": "2023-03-08T12:36:48.447315Z"
    },
    "tags": []
   },
   "outputs": [
    {
     "data": {
      "text/html": [
       "<div>\n",
       "<style scoped>\n",
       "    .dataframe tbody tr th:only-of-type {\n",
       "        vertical-align: middle;\n",
       "    }\n",
       "\n",
       "    .dataframe tbody tr th {\n",
       "        vertical-align: top;\n",
       "    }\n",
       "\n",
       "    .dataframe thead tr th {\n",
       "        text-align: left;\n",
       "    }\n",
       "\n",
       "    .dataframe thead tr:last-of-type th {\n",
       "        text-align: right;\n",
       "    }\n",
       "</style>\n",
       "<table border=\"1\" class=\"dataframe\">\n",
       "  <thead>\n",
       "    <tr>\n",
       "      <th></th>\n",
       "      <th></th>\n",
       "      <th colspan=\"2\" halign=\"left\">time</th>\n",
       "      <th>lifespan</th>\n",
       "    </tr>\n",
       "    <tr>\n",
       "      <th></th>\n",
       "      <th></th>\n",
       "      <th>min</th>\n",
       "      <th>max</th>\n",
       "      <th></th>\n",
       "    </tr>\n",
       "    <tr>\n",
       "      <th>hh_id</th>\n",
       "      <th>iiqid</th>\n",
       "      <th></th>\n",
       "      <th></th>\n",
       "      <th></th>\n",
       "    </tr>\n",
       "  </thead>\n",
       "  <tbody>\n",
       "    <tr>\n",
       "      <th rowspan=\"5\" valign=\"top\">008lj1AMI8</th>\n",
       "      <th>6MILYBoI9P</th>\n",
       "      <td>2022-12-06 20:30:42.973</td>\n",
       "      <td>2023-02-03 17:29:52.687</td>\n",
       "      <td>58</td>\n",
       "    </tr>\n",
       "    <tr>\n",
       "      <th>UVg62Vt8Va</th>\n",
       "      <td>2022-12-04 06:04:54.956</td>\n",
       "      <td>2023-02-03 22:48:53.120</td>\n",
       "      <td>61</td>\n",
       "    </tr>\n",
       "    <tr>\n",
       "      <th>WATS0P8zVm</th>\n",
       "      <td>2023-01-04 09:04:24.973</td>\n",
       "      <td>2023-02-08 09:39:50.615</td>\n",
       "      <td>35</td>\n",
       "    </tr>\n",
       "    <tr>\n",
       "      <th>X93J3N7vAC</th>\n",
       "      <td>2022-12-02 03:20:07.416</td>\n",
       "      <td>2023-01-02 06:31:36.724</td>\n",
       "      <td>31</td>\n",
       "    </tr>\n",
       "    <tr>\n",
       "      <th>eIVlRbV49r</th>\n",
       "      <td>2023-01-06 00:40:28.200</td>\n",
       "      <td>2023-02-09 03:11:06.924</td>\n",
       "      <td>34</td>\n",
       "    </tr>\n",
       "  </tbody>\n",
       "</table>\n",
       "</div>"
      ],
      "text/plain": [
       "                                         time                         lifespan\n",
       "                                          min                     max         \n",
       "hh_id      iiqid                                                              \n",
       "008lj1AMI8 6MILYBoI9P 2022-12-06 20:30:42.973 2023-02-03 17:29:52.687       58\n",
       "           UVg62Vt8Va 2022-12-04 06:04:54.956 2023-02-03 22:48:53.120       61\n",
       "           WATS0P8zVm 2023-01-04 09:04:24.973 2023-02-08 09:39:50.615       35\n",
       "           X93J3N7vAC 2022-12-02 03:20:07.416 2023-01-02 06:31:36.724       31\n",
       "           eIVlRbV49r 2023-01-06 00:40:28.200 2023-02-09 03:11:06.924       34"
      ]
     },
     "execution_count": 51,
     "metadata": {},
     "output_type": "execute_result"
    }
   ],
   "source": [
    "grouped.head()"
   ]
  },
  {
   "cell_type": "code",
   "execution_count": 89,
   "id": "f4b4b439-7f14-4d3f-b6c4-f7e2b5bf7227",
   "metadata": {
    "execution": {
     "iopub.execute_input": "2023-03-08T13:06:53.291493Z",
     "iopub.status.busy": "2023-03-08T13:06:53.290712Z",
     "iopub.status.idle": "2023-03-08T13:06:53.331050Z",
     "shell.execute_reply": "2023-03-08T13:06:53.330588Z",
     "shell.execute_reply.started": "2023-03-08T13:06:53.291437Z"
    },
    "tags": []
   },
   "outputs": [
    {
     "data": {
      "text/html": [
       "<div>\n",
       "<style scoped>\n",
       "    .dataframe tbody tr th:only-of-type {\n",
       "        vertical-align: middle;\n",
       "    }\n",
       "\n",
       "    .dataframe tbody tr th {\n",
       "        vertical-align: top;\n",
       "    }\n",
       "\n",
       "    .dataframe thead tr th {\n",
       "        text-align: left;\n",
       "    }\n",
       "\n",
       "    .dataframe thead tr:last-of-type th {\n",
       "        text-align: right;\n",
       "    }\n",
       "</style>\n",
       "<table border=\"1\" class=\"dataframe\">\n",
       "  <thead>\n",
       "    <tr>\n",
       "      <th></th>\n",
       "      <th></th>\n",
       "      <th colspan=\"2\" halign=\"left\">time</th>\n",
       "      <th>lifespan</th>\n",
       "    </tr>\n",
       "    <tr>\n",
       "      <th></th>\n",
       "      <th></th>\n",
       "      <th>min</th>\n",
       "      <th>max</th>\n",
       "      <th></th>\n",
       "    </tr>\n",
       "    <tr>\n",
       "      <th>hh_id</th>\n",
       "      <th>iiqid</th>\n",
       "      <th></th>\n",
       "      <th></th>\n",
       "      <th></th>\n",
       "    </tr>\n",
       "  </thead>\n",
       "  <tbody>\n",
       "    <tr>\n",
       "      <th>418078058</th>\n",
       "      <th>Bcjz15r0Ms</th>\n",
       "      <td>2022-12-08 05:04:58.662</td>\n",
       "      <td>2023-02-20 04:49:41.883</td>\n",
       "      <td>73</td>\n",
       "    </tr>\n",
       "  </tbody>\n",
       "</table>\n",
       "</div>"
      ],
      "text/plain": [
       "                                        time                         lifespan\n",
       "                                         min                     max         \n",
       "hh_id     iiqid                                                              \n",
       "418078058 Bcjz15r0Ms 2022-12-08 05:04:58.662 2023-02-20 04:49:41.883       73"
      ]
     },
     "execution_count": 89,
     "metadata": {},
     "output_type": "execute_result"
    }
   ],
   "source": [
    "one_row = grouped[grouped[\"lifespan\"] > 60].sample(1)\n",
    "one_row"
   ]
  },
  {
   "cell_type": "code",
   "execution_count": 90,
   "id": "7504b955-2ee2-495e-8443-70d56f3557fa",
   "metadata": {
    "execution": {
     "iopub.execute_input": "2023-03-08T13:06:56.173958Z",
     "iopub.status.busy": "2023-03-08T13:06:56.173058Z",
     "iopub.status.idle": "2023-03-08T13:06:56.209757Z",
     "shell.execute_reply": "2023-03-08T13:06:56.209096Z",
     "shell.execute_reply.started": "2023-03-08T13:06:56.173888Z"
    },
    "tags": []
   },
   "outputs": [],
   "source": [
    "one_cookie = one_row.index.get_level_values(1).values[0]"
   ]
  },
  {
   "cell_type": "code",
   "execution_count": 91,
   "id": "a8386b86-6f41-4646-b5d4-bcc238d9b517",
   "metadata": {
    "execution": {
     "iopub.execute_input": "2023-03-08T13:06:56.442151Z",
     "iopub.status.busy": "2023-03-08T13:06:56.441225Z",
     "iopub.status.idle": "2023-03-08T13:06:56.474658Z",
     "shell.execute_reply": "2023-03-08T13:06:56.474233Z",
     "shell.execute_reply.started": "2023-03-08T13:06:56.442084Z"
    },
    "tags": []
   },
   "outputs": [
    {
     "data": {
      "text/plain": [
       "'Bcjz15r0Ms'"
      ]
     },
     "execution_count": 91,
     "metadata": {},
     "output_type": "execute_result"
    }
   ],
   "source": [
    "one_cookie"
   ]
  },
  {
   "cell_type": "code",
   "execution_count": 92,
   "id": "597ffbc5-52b2-4ffc-949a-abf540053107",
   "metadata": {
    "execution": {
     "iopub.execute_input": "2023-03-08T13:06:56.782752Z",
     "iopub.status.busy": "2023-03-08T13:06:56.782190Z",
     "iopub.status.idle": "2023-03-08T13:06:57.052936Z",
     "shell.execute_reply": "2023-03-08T13:06:57.052639Z",
     "shell.execute_reply.started": "2023-03-08T13:06:56.782714Z"
    },
    "tags": []
   },
   "outputs": [],
   "source": [
    "one_cookie_data = data[data[\"iiqid\"]==one_cookie]"
   ]
  },
  {
   "cell_type": "code",
   "execution_count": 93,
   "id": "bce2562a-7f06-4f80-a11c-86ed0465a416",
   "metadata": {
    "execution": {
     "iopub.execute_input": "2023-03-08T13:06:57.278485Z",
     "iopub.status.busy": "2023-03-08T13:06:57.277926Z",
     "iopub.status.idle": "2023-03-08T13:06:57.314241Z",
     "shell.execute_reply": "2023-03-08T13:06:57.313440Z",
     "shell.execute_reply.started": "2023-03-08T13:06:57.278450Z"
    },
    "tags": []
   },
   "outputs": [
    {
     "data": {
      "text/plain": [
       "chrome mobile    37\n",
       "Name: browser, dtype: int64"
      ]
     },
     "execution_count": 93,
     "metadata": {},
     "output_type": "execute_result"
    }
   ],
   "source": [
    "one_cookie_data.browser.value_counts()"
   ]
  },
  {
   "cell_type": "code",
   "execution_count": 94,
   "id": "fbcebb78-893f-4205-8481-22de1cb895cb",
   "metadata": {
    "execution": {
     "iopub.execute_input": "2023-03-08T13:06:58.045941Z",
     "iopub.status.busy": "2023-03-08T13:06:58.045302Z",
     "iopub.status.idle": "2023-03-08T13:06:58.078544Z",
     "shell.execute_reply": "2023-03-08T13:06:58.077973Z",
     "shell.execute_reply.started": "2023-03-08T13:06:58.045905Z"
    },
    "tags": []
   },
   "outputs": [],
   "source": [
    "most_common_brw = one_cookie_data.browser.mode().iloc[0]"
   ]
  },
  {
   "cell_type": "code",
   "execution_count": 95,
   "id": "52de0094-b7c2-4fa2-93b6-bfad1596720f",
   "metadata": {
    "execution": {
     "iopub.execute_input": "2023-03-08T13:06:59.770049Z",
     "iopub.status.busy": "2023-03-08T13:06:59.769188Z",
     "iopub.status.idle": "2023-03-08T13:06:59.801228Z",
     "shell.execute_reply": "2023-03-08T13:06:59.800385Z",
     "shell.execute_reply.started": "2023-03-08T13:06:59.769983Z"
    },
    "tags": []
   },
   "outputs": [],
   "source": [
    "one_cookie_data = one_cookie_data[one_cookie_data[\"browser\"]==most_common_brw]"
   ]
  },
  {
   "cell_type": "code",
   "execution_count": 96,
   "id": "eecb5124-7169-4766-aa88-e0f9e399a15d",
   "metadata": {
    "execution": {
     "iopub.execute_input": "2023-03-08T13:07:00.450405Z",
     "iopub.status.busy": "2023-03-08T13:07:00.449829Z",
     "iopub.status.idle": "2023-03-08T13:07:00.651860Z",
     "shell.execute_reply": "2023-03-08T13:07:00.651572Z",
     "shell.execute_reply.started": "2023-03-08T13:07:00.450345Z"
    },
    "tags": []
   },
   "outputs": [
    {
     "data": {
      "text/plain": [
       "<Axes: xlabel='time', ylabel='browserversion'>"
      ]
     },
     "execution_count": 96,
     "metadata": {},
     "output_type": "execute_result"
    },
    {
     "data": {
      "image/png": "[encoded data removed]",
      "text/plain": [
       "<Figure size 1200x500 with 1 Axes>"
      ]
     },
     "metadata": {},
     "output_type": "display_data"
    }
   ],
   "source": [
    "sns.scatterplot(data=one_cookie_data, x=\"time\", y=\"browserversion\")"
   ]
  },
  {
   "cell_type": "markdown",
   "id": "7ff608b6-41b0-4b5a-8343-5adf8ce782c4",
   "metadata": {},
   "source": [
    "## Lets try to find how many error are they"
   ]
  },
  {
   "cell_type": "markdown",
   "id": "453d539a-9c87-47c7-a04a-4d4bea7e2243",
   "metadata": {},
   "source": [
    "For a given cookie:\n",
    "Go over all of its apearesnces and see if the browserversion stays consistent.\n",
    "Lets strat by a simple \"yes/no\" test."
   ]
  },
  {
   "cell_type": "code",
   "execution_count": 99,
   "id": "89787b12-80fc-48e0-9b15-b7dc950f1e1c",
   "metadata": {
    "execution": {
     "iopub.execute_input": "2023-03-08T13:20:29.787261Z",
     "iopub.status.busy": "2023-03-08T13:20:29.786420Z",
     "iopub.status.idle": "2023-03-08T13:20:29.827577Z",
     "shell.execute_reply": "2023-03-08T13:20:29.827071Z",
     "shell.execute_reply.started": "2023-03-08T13:20:29.787177Z"
    },
    "tags": []
   },
   "outputs": [],
   "source": [
    "one_cookie_data = one_cookie_data.sort_values(by=\"time\")"
   ]
  },
  {
   "cell_type": "code",
   "execution_count": 108,
   "id": "6867477d-a73d-48ab-9892-a500ff06294c",
   "metadata": {
    "execution": {
     "iopub.execute_input": "2023-03-08T13:40:46.085078Z",
     "iopub.status.busy": "2023-03-08T13:40:46.083613Z",
     "iopub.status.idle": "2023-03-08T13:40:46.134152Z",
     "shell.execute_reply": "2023-03-08T13:40:46.133571Z",
     "shell.execute_reply.started": "2023-03-08T13:40:46.085003Z"
    },
    "tags": []
   },
   "outputs": [],
   "source": [
    "one_cookie_data[\"prev_browserversion\"] = one_cookie_data[\"browserversion\"].shift(1).fillna(\"0.0.0.0\")"
   ]
  },
  {
   "cell_type": "code",
   "execution_count": 115,
   "id": "a308e1b3-3a23-4ea5-a63b-1b79dd8ad83a",
   "metadata": {
    "execution": {
     "iopub.execute_input": "2023-03-08T13:45:23.434675Z",
     "iopub.status.busy": "2023-03-08T13:45:23.433801Z",
     "iopub.status.idle": "2023-03-08T13:45:23.466721Z",
     "shell.execute_reply": "2023-03-08T13:45:23.466279Z",
     "shell.execute_reply.started": "2023-03-08T13:45:23.434608Z"
    },
    "tags": []
   },
   "outputs": [
    {
     "data": {
      "text/plain": [
       "True"
      ]
     },
     "execution_count": 115,
     "metadata": {},
     "output_type": "execute_result"
    }
   ],
   "source": [
    "all(np.vectorize(compare_versions)(one_cookie_data['prev_browserversion'], one_cookie_data['browserversion']) <= 0)"
   ]
  },
  {
   "cell_type": "code",
   "execution_count": 116,
   "id": "80d90a4c-bc6a-4a51-a517-fbcd66dc08d2",
   "metadata": {
    "execution": {
     "iopub.execute_input": "2023-03-08T13:47:49.212878Z",
     "iopub.status.busy": "2023-03-08T13:47:49.211877Z",
     "iopub.status.idle": "2023-03-08T13:47:49.252763Z",
     "shell.execute_reply": "2023-03-08T13:47:49.252140Z",
     "shell.execute_reply.started": "2023-03-08T13:47:49.212763Z"
    },
    "tags": []
   },
   "outputs": [],
   "source": [
    "def has_no_errors(cookie, df=data):\n",
    "    one_cookie_data = df[df[\"iiqid\"]==cookie].sort_values(by=\"time\")\n",
    "    one_cookie_data[\"prev_browserversion\"] = one_cookie_data[\"browserversion\"].shift(1).fillna(\"0.0.0.0\")\n",
    "    one_cookie_data[\"prev_osversion\"] = one_cookie_data[\"osversion\"].shift(1).fillna(\"0\")\n",
    "    browser_consistency = all(np.vectorize(compare_versions)(one_cookie_data['prev_browserversion'], one_cookie_data['browserversion']) <= 0)\n",
    "    os_consistency = all(np.vectorize(compare_versions)(one_cookie_data['osversion'], one_cookie_data['osversion']) <= 0)\n",
    "    return browser_consistency and os_consistency"
   ]
  },
  {
   "cell_type": "code",
   "execution_count": 119,
   "id": "18cd1119-290a-4f3a-a800-2ce97cb924a6",
   "metadata": {
    "execution": {
     "iopub.execute_input": "2023-03-08T13:48:32.441682Z",
     "iopub.status.busy": "2023-03-08T13:48:32.440499Z",
     "iopub.status.idle": "2023-03-08T13:48:32.699432Z",
     "shell.execute_reply": "2023-03-08T13:48:32.699167Z",
     "shell.execute_reply.started": "2023-03-08T13:48:32.441587Z"
    },
    "tags": []
   },
   "outputs": [
    {
     "data": {
      "text/plain": [
       "True"
      ]
     },
     "execution_count": 119,
     "metadata": {},
     "output_type": "execute_result"
    }
   ],
   "source": [
    "has_no_errors(one_cookie)"
   ]
  },
  {
   "cell_type": "code",
   "execution_count": 121,
   "id": "79baced7-f4e5-4a75-a0df-ee12295ae273",
   "metadata": {
    "execution": {
     "iopub.execute_input": "2023-03-08T13:54:07.239446Z",
     "iopub.status.busy": "2023-03-08T13:54:07.238529Z",
     "iopub.status.idle": "2023-03-08T13:54:07.290338Z",
     "shell.execute_reply": "2023-03-08T13:54:07.289605Z",
     "shell.execute_reply.started": "2023-03-08T13:54:07.239357Z"
    },
    "tags": []
   },
   "outputs": [],
   "source": [
    "# fraction_of_bad_cookies = sum(has_no_errors(c) for c in data[\"iiqid\"].unique()) / len(data)"
   ]
  },
  {
   "cell_type": "code",
   "execution_count": 122,
   "id": "365615ca-59bb-4dc6-87c3-fb864bfd8151",
   "metadata": {
    "execution": {
     "iopub.execute_input": "2023-03-08T13:54:11.650333Z",
     "iopub.status.busy": "2023-03-08T13:54:11.649721Z",
     "iopub.status.idle": "2023-03-08T13:54:11.683061Z",
     "shell.execute_reply": "2023-03-08T13:54:11.682365Z",
     "shell.execute_reply.started": "2023-03-08T13:54:11.650289Z"
    },
    "tags": []
   },
   "outputs": [],
   "source": [
    "# \"{0.0}\".foramt(fraction_of_bad_cookies)"
   ]
  },
  {
   "cell_type": "code",
   "execution_count": 157,
   "id": "57758561-d9c6-4853-b04a-a4573da56022",
   "metadata": {
    "execution": {
     "iopub.execute_input": "2023-03-08T15:01:37.506514Z",
     "iopub.status.busy": "2023-03-08T15:01:37.505952Z",
     "iopub.status.idle": "2023-03-08T15:01:38.388928Z",
     "shell.execute_reply": "2023-03-08T15:01:38.388591Z",
     "shell.execute_reply.started": "2023-03-08T15:01:37.506469Z"
    },
    "tags": []
   },
   "outputs": [],
   "source": [
    "data.sort_values(by=\"time\", inplace=True)\n",
    "# grouped_cookies = data.groupby([\"hh_id\", \"iiqid\"])"
   ]
  },
  {
   "cell_type": "code",
   "execution_count": 158,
   "id": "426123b5-f1bb-461f-97bf-7ee1b437e439",
   "metadata": {
    "execution": {
     "iopub.execute_input": "2023-03-08T15:01:38.661717Z",
     "iopub.status.busy": "2023-03-08T15:01:38.661078Z",
     "iopub.status.idle": "2023-03-08T15:01:39.438537Z",
     "shell.execute_reply": "2023-03-08T15:01:39.438189Z",
     "shell.execute_reply.started": "2023-03-08T15:01:38.661665Z"
    },
    "tags": []
   },
   "outputs": [],
   "source": [
    "data['prev_osversion'] = data.groupby(['hh_id', 'iiqid'])['osversion'].shift(1).fillna(\"0\")\n",
    "data['prev_browserversion'] = data.groupby(['hh_id', 'iiqid'])['browserversion'].shift(1).fillna(\"0.0.0.0\")"
   ]
  },
  {
   "cell_type": "code",
   "execution_count": 159,
   "id": "93ddc011-d270-48b3-b1db-be645a6ad179",
   "metadata": {
    "execution": {
     "iopub.execute_input": "2023-03-08T15:01:39.439396Z",
     "iopub.status.busy": "2023-03-08T15:01:39.439292Z",
     "iopub.status.idle": "2023-03-08T15:01:50.434192Z",
     "shell.execute_reply": "2023-03-08T15:01:50.433350Z",
     "shell.execute_reply.started": "2023-03-08T15:01:39.439384Z"
    },
    "tags": []
   },
   "outputs": [],
   "source": [
    "full_valid_rows = data[(np.vectorize(compare_versions)(data['osversion'], \n",
    "                                                         data['prev_osversion']) >= 0)\n",
    "                       & (np.vectorize(compare_versions)(data['browserversion'], \n",
    "                                                               data['prev_browserversion']) >= 0)]"
   ]
  },
  {
   "cell_type": "code",
   "execution_count": null,
   "id": "52673ab4-1f40-4d3b-b1d7-386664ae4fcf",
   "metadata": {
    "execution": {
     "iopub.status.busy": "2023-03-08T14:53:40.774779Z",
     "iopub.status.idle": "2023-03-08T14:53:40.774928Z",
     "shell.execute_reply": "2023-03-08T14:53:40.774857Z",
     "shell.execute_reply.started": "2023-03-08T14:53:40.774849Z"
    },
    "tags": []
   },
   "outputs": [],
   "source": [
    "# comparisons = [compare_versions(browser_ver1, browser_ver2)\n",
    "#                    for browser_ver1, browser_ver2 in zip(grouped_cookies['browserversion'].iloc[:-1], grouped_cookies['browserversion'].iloc[1:])]                                             "
   ]
  },
  {
   "cell_type": "code",
   "execution_count": 164,
   "id": "1fc9ab43-6c60-49eb-873e-f576cbea8624",
   "metadata": {
    "execution": {
     "iopub.execute_input": "2023-03-08T15:05:01.479258Z",
     "iopub.status.busy": "2023-03-08T15:05:01.477501Z",
     "iopub.status.idle": "2023-03-08T15:05:01.854086Z",
     "shell.execute_reply": "2023-03-08T15:05:01.853606Z",
     "shell.execute_reply.started": "2023-03-08T15:05:01.479193Z"
    },
    "tags": []
   },
   "outputs": [],
   "source": [
    "ok_rows_counts = full_valid_rows.groupby(['hh_id', 'iiqid']).size()"
   ]
  },
  {
   "cell_type": "code",
   "execution_count": 165,
   "id": "8e1c854b-a1c2-4fbf-a48a-1df0cc912ef7",
   "metadata": {
    "execution": {
     "iopub.execute_input": "2023-03-08T15:05:16.063478Z",
     "iopub.status.busy": "2023-03-08T15:05:16.063025Z",
     "iopub.status.idle": "2023-03-08T15:05:16.413375Z",
     "shell.execute_reply": "2023-03-08T15:05:16.412662Z",
     "shell.execute_reply.started": "2023-03-08T15:05:16.063443Z"
    },
    "tags": []
   },
   "outputs": [],
   "source": [
    "total_rows_counts = data.groupby(['hh_id', 'iiqid']).size()"
   ]
  },
  {
   "cell_type": "code",
   "execution_count": 166,
   "id": "ce04e1be-e856-41d1-ba6d-b1b76467d7ad",
   "metadata": {
    "execution": {
     "iopub.execute_input": "2023-03-08T15:05:32.290256Z",
     "iopub.status.busy": "2023-03-08T15:05:32.289419Z",
     "iopub.status.idle": "2023-03-08T15:05:32.346994Z",
     "shell.execute_reply": "2023-03-08T15:05:32.346549Z",
     "shell.execute_reply.started": "2023-03-08T15:05:32.290174Z"
    },
    "tags": []
   },
   "outputs": [],
   "source": [
    "all_ok = ok_rows_counts.eq(total_rows_counts)"
   ]
  },
  {
   "cell_type": "code",
   "execution_count": 167,
   "id": "c932a40f-b71d-484f-9edb-2425f2f5ae7f",
   "metadata": {
    "execution": {
     "iopub.execute_input": "2023-03-08T15:05:35.581468Z",
     "iopub.status.busy": "2023-03-08T15:05:35.580906Z",
     "iopub.status.idle": "2023-03-08T15:05:35.614965Z",
     "shell.execute_reply": "2023-03-08T15:05:35.614462Z",
     "shell.execute_reply.started": "2023-03-08T15:05:35.581428Z"
    },
    "tags": []
   },
   "outputs": [
    {
     "data": {
      "text/plain": [
       "hh_id       iiqid     \n",
       "008lj1AMI8  6MILYBoI9P     True\n",
       "            UVg62Vt8Va     True\n",
       "            WATS0P8zVm     True\n",
       "            mXwL7QCw5O     True\n",
       "            vjNRSKwlH4     True\n",
       "                          ...  \n",
       "zygR659Gbx  zU35cTjEsV    False\n",
       "zzyXvF318v  0UXCVZvWch    False\n",
       "            26UHp1Gc7Y     True\n",
       "            2oWL7w8Na8     True\n",
       "            uo36TXLVcg    False\n",
       "Length: 48506, dtype: bool"
      ]
     },
     "execution_count": 167,
     "metadata": {},
     "output_type": "execute_result"
    }
   ],
   "source": [
    "all_ok"
   ]
  },
  {
   "cell_type": "code",
   "execution_count": 170,
   "id": "961bf36c-44d9-4c7d-8580-a54e858d2806",
   "metadata": {
    "execution": {
     "iopub.execute_input": "2023-03-08T15:07:10.691394Z",
     "iopub.status.busy": "2023-03-08T15:07:10.689544Z",
     "iopub.status.idle": "2023-03-08T15:07:10.756094Z",
     "shell.execute_reply": "2023-03-08T15:07:10.755660Z",
     "shell.execute_reply.started": "2023-03-08T15:07:10.691287Z"
    },
    "tags": []
   },
   "outputs": [],
   "source": [
    "result = pd.concat([total_rows_counts, all_ok], axis=1)\n",
    "result.columns = ['instances','ok'] "
   ]
  },
  {
   "cell_type": "code",
   "execution_count": 171,
   "id": "57736011-a7c3-4166-959c-ec16c0309d07",
   "metadata": {
    "execution": {
     "iopub.execute_input": "2023-03-08T15:07:11.206241Z",
     "iopub.status.busy": "2023-03-08T15:07:11.205566Z",
     "iopub.status.idle": "2023-03-08T15:07:11.242775Z",
     "shell.execute_reply": "2023-03-08T15:07:11.242337Z",
     "shell.execute_reply.started": "2023-03-08T15:07:11.206187Z"
    },
    "tags": []
   },
   "outputs": [
    {
     "data": {
      "text/html": [
       "<div>\n",
       "<style scoped>\n",
       "    .dataframe tbody tr th:only-of-type {\n",
       "        vertical-align: middle;\n",
       "    }\n",
       "\n",
       "    .dataframe tbody tr th {\n",
       "        vertical-align: top;\n",
       "    }\n",
       "\n",
       "    .dataframe thead th {\n",
       "        text-align: right;\n",
       "    }\n",
       "</style>\n",
       "<table border=\"1\" class=\"dataframe\">\n",
       "  <thead>\n",
       "    <tr style=\"text-align: right;\">\n",
       "      <th></th>\n",
       "      <th></th>\n",
       "      <th>instances</th>\n",
       "      <th>ok</th>\n",
       "    </tr>\n",
       "    <tr>\n",
       "      <th>hh_id</th>\n",
       "      <th>iiqid</th>\n",
       "      <th></th>\n",
       "      <th></th>\n",
       "    </tr>\n",
       "  </thead>\n",
       "  <tbody>\n",
       "    <tr>\n",
       "      <th rowspan=\"5\" valign=\"top\">008lj1AMI8</th>\n",
       "      <th>6MILYBoI9P</th>\n",
       "      <td>66</td>\n",
       "      <td>True</td>\n",
       "    </tr>\n",
       "    <tr>\n",
       "      <th>UVg62Vt8Va</th>\n",
       "      <td>41</td>\n",
       "      <td>True</td>\n",
       "    </tr>\n",
       "    <tr>\n",
       "      <th>WATS0P8zVm</th>\n",
       "      <td>156</td>\n",
       "      <td>True</td>\n",
       "    </tr>\n",
       "    <tr>\n",
       "      <th>mXwL7QCw5O</th>\n",
       "      <td>51</td>\n",
       "      <td>True</td>\n",
       "    </tr>\n",
       "    <tr>\n",
       "      <th>vjNRSKwlH4</th>\n",
       "      <td>28</td>\n",
       "      <td>True</td>\n",
       "    </tr>\n",
       "    <tr>\n",
       "      <th>...</th>\n",
       "      <th>...</th>\n",
       "      <td>...</td>\n",
       "      <td>...</td>\n",
       "    </tr>\n",
       "    <tr>\n",
       "      <th>zygR659Gbx</th>\n",
       "      <th>zU35cTjEsV</th>\n",
       "      <td>595</td>\n",
       "      <td>False</td>\n",
       "    </tr>\n",
       "    <tr>\n",
       "      <th rowspan=\"4\" valign=\"top\">zzyXvF318v</th>\n",
       "      <th>0UXCVZvWch</th>\n",
       "      <td>40</td>\n",
       "      <td>False</td>\n",
       "    </tr>\n",
       "    <tr>\n",
       "      <th>26UHp1Gc7Y</th>\n",
       "      <td>46</td>\n",
       "      <td>True</td>\n",
       "    </tr>\n",
       "    <tr>\n",
       "      <th>2oWL7w8Na8</th>\n",
       "      <td>2</td>\n",
       "      <td>True</td>\n",
       "    </tr>\n",
       "    <tr>\n",
       "      <th>uo36TXLVcg</th>\n",
       "      <td>126</td>\n",
       "      <td>False</td>\n",
       "    </tr>\n",
       "  </tbody>\n",
       "</table>\n",
       "<p>48506 rows × 2 columns</p>\n",
       "</div>"
      ],
      "text/plain": [
       "                       instances     ok\n",
       "hh_id      iiqid                       \n",
       "008lj1AMI8 6MILYBoI9P         66   True\n",
       "           UVg62Vt8Va         41   True\n",
       "           WATS0P8zVm        156   True\n",
       "           mXwL7QCw5O         51   True\n",
       "           vjNRSKwlH4         28   True\n",
       "...                          ...    ...\n",
       "zygR659Gbx zU35cTjEsV        595  False\n",
       "zzyXvF318v 0UXCVZvWch         40  False\n",
       "           26UHp1Gc7Y         46   True\n",
       "           2oWL7w8Na8          2   True\n",
       "           uo36TXLVcg        126  False\n",
       "\n",
       "[48506 rows x 2 columns]"
      ]
     },
     "execution_count": 171,
     "metadata": {},
     "output_type": "execute_result"
    }
   ],
   "source": [
    "result"
   ]
  },
  {
   "cell_type": "code",
   "execution_count": 172,
   "id": "5a5bb060-a06b-4d8f-b6f7-9c0bfde2100f",
   "metadata": {
    "execution": {
     "iopub.execute_input": "2023-03-08T15:07:27.779282Z",
     "iopub.status.busy": "2023-03-08T15:07:27.778650Z",
     "iopub.status.idle": "2023-03-08T15:07:27.918484Z",
     "shell.execute_reply": "2023-03-08T15:07:27.917766Z",
     "shell.execute_reply.started": "2023-03-08T15:07:27.779243Z"
    },
    "tags": []
   },
   "outputs": [
    {
     "data": {
      "text/plain": [
       "<Axes: xlabel='ok', ylabel='count'>"
      ]
     },
     "execution_count": 172,
     "metadata": {},
     "output_type": "execute_result"
    },
    {
     "data": {
      "image/png": "[encoded data removed]",
      "text/plain": [
       "<Figure size 1200x500 with 1 Axes>"
      ]
     },
     "metadata": {},
     "output_type": "display_data"
    }
   ],
   "source": [
    "sns.countplot(data=result, x='ok')"
   ]
  },
  {
   "cell_type": "code",
   "execution_count": null,
   "id": "2adaa07d-7f49-4793-b9f9-52ca9d1103de",
   "metadata": {
    "execution": {
     "iopub.status.busy": "2023-03-08T15:09:49.582082Z",
     "iopub.status.idle": "2023-03-08T15:09:49.582238Z",
     "shell.execute_reply": "2023-03-08T15:09:49.582187Z",
     "shell.execute_reply.started": "2023-03-08T15:09:49.582181Z"
    },
    "tags": []
   },
   "outputs": [],
   "source": [
    "sns.boxplot(data=result, x='ok', y='instances')"
   ]
  },
  {
   "cell_type": "code",
   "execution_count": null,
   "id": "d90d3c29-acbc-4867-a9cb-9aaf373e601e",
   "metadata": {},
   "outputs": [],
   "source": []
  }
 ],
 "metadata": {
  "kernelspec": {
   "display_name": "Python 3 (ipykernel)",
   "language": "python",
   "name": "python3"
  },
  "language_info": {
   "codemirror_mode": {
    "name": "ipython",
    "version": 3
   },
   "file_extension": ".py",
   "mimetype": "text/x-python",
   "name": "python",
   "nbconvert_exporter": "python",
   "pygments_lexer": "ipython3",
   "version": "3.10.10"
  }
 },
 "nbformat": 4,
 "nbformat_minor": 5
}
