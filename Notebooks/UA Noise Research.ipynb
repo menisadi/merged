{
 "cells": [
  {
   "cell_type": "code",
   "execution_count": 1,
   "id": "79b4e6bf-b2c3-4d6f-8a06-aac5aa4b7950",
   "metadata": {
    "execution": {
     "iopub.execute_input": "2023-03-09T12:39:30.912863Z",
     "iopub.status.busy": "2023-03-09T12:39:30.912001Z",
     "iopub.status.idle": "2023-03-09T12:39:32.027101Z",
     "shell.execute_reply": "2023-03-09T12:39:32.026829Z",
     "shell.execute_reply.started": "2023-03-09T12:39:30.912804Z"
    },
    "tags": []
   },
   "outputs": [],
   "source": [
    "import numpy as np\n",
    "import pandas as pd\n",
    "import seaborn as sns\n",
    "import matplotlib.pyplot as plt\n",
    "sns.set(rc={'figure.figsize':(12,5)})\n",
    "%load_ext autoreload\n",
    "%autoreload 2 "
   ]
  },
  {
   "cell_type": "code",
   "execution_count": 2,
   "id": "29c1c2eb-313a-4b0c-9445-5ce1deb0cd72",
   "metadata": {
    "execution": {
     "iopub.execute_input": "2023-03-09T12:39:32.027930Z",
     "iopub.status.busy": "2023-03-09T12:39:32.027789Z",
     "iopub.status.idle": "2023-03-09T12:39:32.037906Z",
     "shell.execute_reply": "2023-03-09T12:39:32.037669Z",
     "shell.execute_reply.started": "2023-03-09T12:39:32.027921Z"
    },
    "tags": []
   },
   "outputs": [],
   "source": [
    "import sys\n",
    "import os\n",
    "import itertools\n",
    "import re\n",
    "from functools import cmp_to_key\n",
    "sys.path.append(os.path.abspath('../modules'))\n",
    "from hard_rules import candidate_cookies, versions_key, compare_versions"
   ]
  },
  {
   "cell_type": "code",
   "execution_count": 84,
   "id": "df85c712-94ef-41d3-9d9d-94bb54dda496",
   "metadata": {
    "execution": {
     "iopub.execute_input": "2023-03-09T14:01:41.465298Z",
     "iopub.status.busy": "2023-03-09T14:01:41.464575Z",
     "iopub.status.idle": "2023-03-09T14:01:43.702214Z",
     "shell.execute_reply": "2023-03-09T14:01:43.701492Z",
     "shell.execute_reply.started": "2023-03-09T14:01:41.465232Z"
    },
    "tags": []
   },
   "outputs": [],
   "source": [
    "data = pd.read_parquet(\"../Data/10K_HH.parquet\")"
   ]
  },
  {
   "cell_type": "code",
   "execution_count": 85,
   "id": "b6fdaf01-7cff-46fb-9657-b9c5e08d948c",
   "metadata": {
    "execution": {
     "iopub.execute_input": "2023-03-09T14:01:43.703957Z",
     "iopub.status.busy": "2023-03-09T14:01:43.703773Z",
     "iopub.status.idle": "2023-03-09T14:01:44.496073Z",
     "shell.execute_reply": "2023-03-09T14:01:44.495380Z",
     "shell.execute_reply.started": "2023-03-09T14:01:43.703936Z"
    },
    "tags": []
   },
   "outputs": [],
   "source": [
    "data = data[data[\"maid\"]==7]"
   ]
  },
  {
   "cell_type": "code",
   "execution_count": 86,
   "id": "76286cb0-267a-4492-a14f-f96764e9c9ae",
   "metadata": {
    "execution": {
     "iopub.execute_input": "2023-03-09T14:01:44.497668Z",
     "iopub.status.busy": "2023-03-09T14:01:44.497069Z",
     "iopub.status.idle": "2023-03-09T14:01:47.716133Z",
     "shell.execute_reply": "2023-03-09T14:01:47.715829Z",
     "shell.execute_reply.started": "2023-03-09T14:01:44.497637Z"
    },
    "tags": []
   },
   "outputs": [
    {
     "data": {
      "text/plain": [
       "(2021, 12)         56\n",
       "(2022, 1)         365\n",
       "(2022, 2)          22\n",
       "(2022, 12)    1329060\n",
       "(2023, 1)     1402187\n",
       "(2023, 2)      669026\n",
       "Name: time, dtype: int64"
      ]
     },
     "execution_count": 86,
     "metadata": {},
     "output_type": "execute_result"
    }
   ],
   "source": [
    "data[\"time\"].apply(lambda t: (t.year, t.month)).value_counts().sort_index()"
   ]
  },
  {
   "cell_type": "code",
   "execution_count": 87,
   "id": "fd840e05-8f8e-440e-b538-55d5edf5a2bb",
   "metadata": {
    "execution": {
     "iopub.execute_input": "2023-03-09T14:01:47.717179Z",
     "iopub.status.busy": "2023-03-09T14:01:47.717083Z",
     "iopub.status.idle": "2023-03-09T14:01:48.241644Z",
     "shell.execute_reply": "2023-03-09T14:01:48.241093Z",
     "shell.execute_reply.started": "2023-03-09T14:01:47.717171Z"
    },
    "tags": []
   },
   "outputs": [],
   "source": [
    "data = data[data[\"time\"] >= pd.to_datetime(\"2022-12-01\")]"
   ]
  },
  {
   "cell_type": "code",
   "execution_count": 88,
   "id": "57c92bac-941f-4ed5-938c-d0a6d24026f5",
   "metadata": {
    "execution": {
     "iopub.execute_input": "2023-03-09T14:01:48.242236Z",
     "iopub.status.busy": "2023-03-09T14:01:48.242140Z",
     "iopub.status.idle": "2023-03-09T14:01:49.402151Z",
     "shell.execute_reply": "2023-03-09T14:01:49.401794Z",
     "shell.execute_reply.started": "2023-03-09T14:01:48.242227Z"
    },
    "tags": []
   },
   "outputs": [],
   "source": [
    "pattern = re.compile(r'^\\d+(\\.\\d+)*$')\n",
    "data = data[data.osversion.str.match(pattern)]"
   ]
  },
  {
   "cell_type": "code",
   "execution_count": 89,
   "id": "885ba94a-a20a-462d-b281-e50680289ebf",
   "metadata": {
    "execution": {
     "iopub.execute_input": "2023-03-09T14:01:49.402765Z",
     "iopub.status.busy": "2023-03-09T14:01:49.402665Z",
     "iopub.status.idle": "2023-03-09T14:01:50.849498Z",
     "shell.execute_reply": "2023-03-09T14:01:50.849157Z",
     "shell.execute_reply.started": "2023-03-09T14:01:49.402757Z"
    },
    "tags": []
   },
   "outputs": [],
   "source": [
    "pattern = re.compile(r'^\\d+(\\.\\d+)*$')\n",
    "data = data[data.browserversion.str.match(pattern)]"
   ]
  },
  {
   "cell_type": "code",
   "execution_count": 22,
   "id": "1b8eea4f-3204-4dab-ae0b-c4934182056e",
   "metadata": {
    "execution": {
     "iopub.execute_input": "2023-03-09T08:47:07.715589Z",
     "iopub.status.busy": "2023-03-09T08:47:07.714735Z",
     "iopub.status.idle": "2023-03-09T08:47:08.071900Z",
     "shell.execute_reply": "2023-03-09T08:47:08.071608Z",
     "shell.execute_reply.started": "2023-03-09T08:47:07.715532Z"
    },
    "tags": []
   },
   "outputs": [],
   "source": [
    "grouped = data.groupby(['hh_id', 'iiqid']).agg({'time': ['min', 'max']})"
   ]
  },
  {
   "cell_type": "code",
   "execution_count": 23,
   "id": "f27a51f8-2633-4c19-9aa0-e37247189c50",
   "metadata": {
    "execution": {
     "iopub.execute_input": "2023-03-09T08:47:08.072706Z",
     "iopub.status.busy": "2023-03-09T08:47:08.072607Z",
     "iopub.status.idle": "2023-03-09T08:47:08.088201Z",
     "shell.execute_reply": "2023-03-09T08:47:08.087823Z",
     "shell.execute_reply.started": "2023-03-09T08:47:08.072697Z"
    },
    "tags": []
   },
   "outputs": [],
   "source": [
    "grouped[\"lifespan\"] = grouped[(\"time\", \"max\")] - grouped[(\"time\", \"min\")]"
   ]
  },
  {
   "cell_type": "code",
   "execution_count": 24,
   "id": "323cd237-ae41-4bc2-bcd0-0ffe4bc82697",
   "metadata": {
    "execution": {
     "iopub.execute_input": "2023-03-09T08:47:08.090637Z",
     "iopub.status.busy": "2023-03-09T08:47:08.090529Z",
     "iopub.status.idle": "2023-03-09T08:47:08.207181Z",
     "shell.execute_reply": "2023-03-09T08:47:08.206732Z",
     "shell.execute_reply.started": "2023-03-09T08:47:08.090628Z"
    },
    "tags": []
   },
   "outputs": [],
   "source": [
    "grouped[\"lifespan\"] = grouped[\"lifespan\"].apply(lambda t: t.days)"
   ]
  },
  {
   "cell_type": "code",
   "execution_count": 25,
   "id": "2e444e24-ad61-458d-b981-3ee69f00a9f2",
   "metadata": {
    "execution": {
     "iopub.execute_input": "2023-03-09T08:47:08.237785Z",
     "iopub.status.busy": "2023-03-09T08:47:08.237622Z",
     "iopub.status.idle": "2023-03-09T08:47:08.259333Z",
     "shell.execute_reply": "2023-03-09T08:47:08.259044Z",
     "shell.execute_reply.started": "2023-03-09T08:47:08.237772Z"
    },
    "tags": []
   },
   "outputs": [
    {
     "data": {
      "text/html": [
       "<div>\n",
       "<style scoped>\n",
       "    .dataframe tbody tr th:only-of-type {\n",
       "        vertical-align: middle;\n",
       "    }\n",
       "\n",
       "    .dataframe tbody tr th {\n",
       "        vertical-align: top;\n",
       "    }\n",
       "\n",
       "    .dataframe thead th {\n",
       "        text-align: right;\n",
       "    }\n",
       "</style>\n",
       "<table border=\"1\" class=\"dataframe\">\n",
       "  <thead>\n",
       "    <tr style=\"text-align: right;\">\n",
       "      <th></th>\n",
       "      <th>timestamp</th>\n",
       "      <th>filename</th>\n",
       "      <th>iiqid</th>\n",
       "      <th>hh_id</th>\n",
       "      <th>maid</th>\n",
       "      <th>partner_id</th>\n",
       "      <th>ip</th>\n",
       "      <th>iscellip</th>\n",
       "      <th>cellispid</th>\n",
       "      <th>domain</th>\n",
       "      <th>...</th>\n",
       "      <th>osversion</th>\n",
       "      <th>browser</th>\n",
       "      <th>advertisedbrowser</th>\n",
       "      <th>browserversion</th>\n",
       "      <th>type</th>\n",
       "      <th>is_best_ip</th>\n",
       "      <th>time</th>\n",
       "      <th>is_hh</th>\n",
       "      <th>prev_osversion</th>\n",
       "      <th>prev_browserversion</th>\n",
       "    </tr>\n",
       "  </thead>\n",
       "  <tbody>\n",
       "    <tr>\n",
       "      <th>5305360</th>\n",
       "      <td>1669852802551</td>\n",
       "      <td>HH_M</td>\n",
       "      <td>WorsfJNhdF</td>\n",
       "      <td>OVfCx6ZAeC</td>\n",
       "      <td>7</td>\n",
       "      <td>10253</td>\n",
       "      <td>1014397863</td>\n",
       "      <td>False</td>\n",
       "      <td>-1793086944</td>\n",
       "      <td>-1297673767</td>\n",
       "      <td>...</td>\n",
       "      <td>10</td>\n",
       "      <td>edge</td>\n",
       "      <td>Edge</td>\n",
       "      <td>107.0.1418.56</td>\n",
       "      <td>desktop</td>\n",
       "      <td>False</td>\n",
       "      <td>2022-12-01 00:00:02.551</td>\n",
       "      <td>True</td>\n",
       "      <td>0</td>\n",
       "      <td>0.0.0.0</td>\n",
       "    </tr>\n",
       "    <tr>\n",
       "      <th>274574</th>\n",
       "      <td>1669852802551</td>\n",
       "      <td>HH_M</td>\n",
       "      <td>WorsfJNhdF</td>\n",
       "      <td>OVfCx6ZAeC</td>\n",
       "      <td>7</td>\n",
       "      <td>10253</td>\n",
       "      <td>1014397863</td>\n",
       "      <td>False</td>\n",
       "      <td>-1793086944</td>\n",
       "      <td>-1297673767</td>\n",
       "      <td>...</td>\n",
       "      <td>10</td>\n",
       "      <td>edge</td>\n",
       "      <td>Edge</td>\n",
       "      <td>107.0.1418.56</td>\n",
       "      <td>desktop</td>\n",
       "      <td>False</td>\n",
       "      <td>2022-12-01 00:00:02.551</td>\n",
       "      <td>True</td>\n",
       "      <td>10</td>\n",
       "      <td>107.0.1418.56</td>\n",
       "    </tr>\n",
       "    <tr>\n",
       "      <th>5799545</th>\n",
       "      <td>1669852815024</td>\n",
       "      <td>NHB_M</td>\n",
       "      <td>xR6Olq5vyY</td>\n",
       "      <td>1096230683</td>\n",
       "      <td>7</td>\n",
       "      <td>14</td>\n",
       "      <td>1096235864</td>\n",
       "      <td>False</td>\n",
       "      <td>-785738892</td>\n",
       "      <td>1632511751</td>\n",
       "      <td>...</td>\n",
       "      <td>9</td>\n",
       "      <td>chrome mobile</td>\n",
       "      <td>Facebook on Android</td>\n",
       "      <td>9</td>\n",
       "      <td>smartphone</td>\n",
       "      <td>False</td>\n",
       "      <td>2022-12-01 00:00:15.024</td>\n",
       "      <td>True</td>\n",
       "      <td>0</td>\n",
       "      <td>0.0.0.0</td>\n",
       "    </tr>\n",
       "    <tr>\n",
       "      <th>1884467</th>\n",
       "      <td>1669852821516</td>\n",
       "      <td>HH_M</td>\n",
       "      <td>3bsIDAAL9s</td>\n",
       "      <td>uH94IApkve</td>\n",
       "      <td>7</td>\n",
       "      <td>14</td>\n",
       "      <td>1255127361</td>\n",
       "      <td>False</td>\n",
       "      <td>1891219528</td>\n",
       "      <td>-1545077811</td>\n",
       "      <td>...</td>\n",
       "      <td>10</td>\n",
       "      <td>chrome desktop</td>\n",
       "      <td>Chrome</td>\n",
       "      <td>108.0.0.0</td>\n",
       "      <td>desktop</td>\n",
       "      <td>False</td>\n",
       "      <td>2022-12-01 00:00:21.516</td>\n",
       "      <td>True</td>\n",
       "      <td>0</td>\n",
       "      <td>0.0.0.0</td>\n",
       "    </tr>\n",
       "    <tr>\n",
       "      <th>6016795</th>\n",
       "      <td>1669852821516</td>\n",
       "      <td>HH_M</td>\n",
       "      <td>3bsIDAAL9s</td>\n",
       "      <td>uH94IApkve</td>\n",
       "      <td>7</td>\n",
       "      <td>14</td>\n",
       "      <td>1255127361</td>\n",
       "      <td>False</td>\n",
       "      <td>1891219528</td>\n",
       "      <td>-1545077811</td>\n",
       "      <td>...</td>\n",
       "      <td>10</td>\n",
       "      <td>chrome desktop</td>\n",
       "      <td>Chrome</td>\n",
       "      <td>108.0.0.0</td>\n",
       "      <td>desktop</td>\n",
       "      <td>False</td>\n",
       "      <td>2022-12-01 00:00:21.516</td>\n",
       "      <td>True</td>\n",
       "      <td>10</td>\n",
       "      <td>108.0.0.0</td>\n",
       "    </tr>\n",
       "  </tbody>\n",
       "</table>\n",
       "<p>5 rows × 24 columns</p>\n",
       "</div>"
      ],
      "text/plain": [
       "             timestamp filename       iiqid       hh_id  maid  partner_id  \\\n",
       "5305360  1669852802551     HH_M  WorsfJNhdF  OVfCx6ZAeC     7       10253   \n",
       "274574   1669852802551     HH_M  WorsfJNhdF  OVfCx6ZAeC     7       10253   \n",
       "5799545  1669852815024    NHB_M  xR6Olq5vyY  1096230683     7          14   \n",
       "1884467  1669852821516     HH_M  3bsIDAAL9s  uH94IApkve     7          14   \n",
       "6016795  1669852821516     HH_M  3bsIDAAL9s  uH94IApkve     7          14   \n",
       "\n",
       "                 ip  iscellip   cellispid      domain  ...  osversion  \\\n",
       "5305360  1014397863     False -1793086944 -1297673767  ...         10   \n",
       "274574   1014397863     False -1793086944 -1297673767  ...         10   \n",
       "5799545  1096235864     False  -785738892  1632511751  ...          9   \n",
       "1884467  1255127361     False  1891219528 -1545077811  ...         10   \n",
       "6016795  1255127361     False  1891219528 -1545077811  ...         10   \n",
       "\n",
       "                browser    advertisedbrowser browserversion        type  \\\n",
       "5305360            edge                 Edge  107.0.1418.56     desktop   \n",
       "274574             edge                 Edge  107.0.1418.56     desktop   \n",
       "5799545   chrome mobile  Facebook on Android              9  smartphone   \n",
       "1884467  chrome desktop               Chrome      108.0.0.0     desktop   \n",
       "6016795  chrome desktop               Chrome      108.0.0.0     desktop   \n",
       "\n",
       "        is_best_ip                    time is_hh prev_osversion  \\\n",
       "5305360      False 2022-12-01 00:00:02.551  True              0   \n",
       "274574       False 2022-12-01 00:00:02.551  True             10   \n",
       "5799545      False 2022-12-01 00:00:15.024  True              0   \n",
       "1884467      False 2022-12-01 00:00:21.516  True              0   \n",
       "6016795      False 2022-12-01 00:00:21.516  True             10   \n",
       "\n",
       "         prev_browserversion  \n",
       "5305360              0.0.0.0  \n",
       "274574         107.0.1418.56  \n",
       "5799545              0.0.0.0  \n",
       "1884467              0.0.0.0  \n",
       "6016795            108.0.0.0  \n",
       "\n",
       "[5 rows x 24 columns]"
      ]
     },
     "execution_count": 25,
     "metadata": {},
     "output_type": "execute_result"
    }
   ],
   "source": [
    "data.head()"
   ]
  },
  {
   "cell_type": "code",
   "execution_count": 26,
   "id": "1d1aa5dc-91d4-4fe2-bf29-92d825871669",
   "metadata": {
    "execution": {
     "iopub.execute_input": "2023-03-09T08:47:13.588529Z",
     "iopub.status.busy": "2023-03-09T08:47:13.587878Z",
     "iopub.status.idle": "2023-03-09T08:47:13.639458Z",
     "shell.execute_reply": "2023-03-09T08:47:13.638864Z",
     "shell.execute_reply.started": "2023-03-09T08:47:13.588483Z"
    },
    "tags": []
   },
   "outputs": [
    {
     "data": {
      "text/plain": [
       "84"
      ]
     },
     "execution_count": 26,
     "metadata": {},
     "output_type": "execute_result"
    }
   ],
   "source": [
    "grouped.lifespan.max()"
   ]
  },
  {
   "cell_type": "code",
   "execution_count": 28,
   "id": "46c1e69a-80eb-4a0a-ae7b-179f13a685ef",
   "metadata": {
    "execution": {
     "iopub.execute_input": "2023-03-09T08:47:45.371417Z",
     "iopub.status.busy": "2023-03-09T08:47:45.370184Z",
     "iopub.status.idle": "2023-03-09T08:47:45.603821Z",
     "shell.execute_reply": "2023-03-09T08:47:45.603317Z",
     "shell.execute_reply.started": "2023-03-09T08:47:45.371350Z"
    },
    "tags": []
   },
   "outputs": [
    {
     "data": {
      "text/plain": [
       "<Axes: xlabel='lifespan', ylabel='Count'>"
      ]
     },
     "execution_count": 28,
     "metadata": {},
     "output_type": "execute_result"
    },
    {
     "data": {
      "image/png": "[encoded data removed]",
      "text/plain": [
       "<Figure size 1200x500 with 1 Axes>"
      ]
     },
     "metadata": {},
     "output_type": "display_data"
    }
   ],
   "source": [
    "sns.histplot(data=grouped[grouped[\"lifespan\"]>0], x=\"lifespan\")\n",
    "# sns.histplot(data=grouped, x=\"lifespan\")"
   ]
  },
  {
   "cell_type": "code",
   "execution_count": 50,
   "id": "be09cf8e-dd87-460e-9c1d-bcc9c6f2628d",
   "metadata": {
    "execution": {
     "iopub.execute_input": "2023-03-08T12:35:02.701392Z",
     "iopub.status.busy": "2023-03-08T12:35:02.700894Z",
     "iopub.status.idle": "2023-03-08T12:35:02.823192Z",
     "shell.execute_reply": "2023-03-08T12:35:02.822673Z",
     "shell.execute_reply.started": "2023-03-08T12:35:02.701342Z"
    },
    "tags": []
   },
   "outputs": [
    {
     "data": {
      "text/plain": [
       "<BarContainer object of 2 artists>"
      ]
     },
     "execution_count": 50,
     "metadata": {},
     "output_type": "execute_result"
    },
    {
     "data": {
      "image/png": "[encoded data removed]",
      "text/plain": [
       "<Figure size 1200x500 with 1 Axes>"
      ]
     },
     "metadata": {},
     "output_type": "display_data"
    }
   ],
   "source": [
    "plt.bar([\"0\",\"> 0\"], \n",
    "        [len(grouped[grouped[\"lifespan\"]==0]), len(grouped[grouped[\"lifespan\"]>0])])"
   ]
  },
  {
   "cell_type": "code",
   "execution_count": 51,
   "id": "edee8c66-c4fa-4fa3-ae1c-31d8d6fb183f",
   "metadata": {
    "execution": {
     "iopub.execute_input": "2023-03-08T12:36:48.447388Z",
     "iopub.status.busy": "2023-03-08T12:36:48.446738Z",
     "iopub.status.idle": "2023-03-08T12:36:48.498445Z",
     "shell.execute_reply": "2023-03-08T12:36:48.498035Z",
     "shell.execute_reply.started": "2023-03-08T12:36:48.447315Z"
    },
    "tags": []
   },
   "outputs": [
    {
     "data": {
      "text/html": [
       "<div>\n",
       "<style scoped>\n",
       "    .dataframe tbody tr th:only-of-type {\n",
       "        vertical-align: middle;\n",
       "    }\n",
       "\n",
       "    .dataframe tbody tr th {\n",
       "        vertical-align: top;\n",
       "    }\n",
       "\n",
       "    .dataframe thead tr th {\n",
       "        text-align: left;\n",
       "    }\n",
       "\n",
       "    .dataframe thead tr:last-of-type th {\n",
       "        text-align: right;\n",
       "    }\n",
       "</style>\n",
       "<table border=\"1\" class=\"dataframe\">\n",
       "  <thead>\n",
       "    <tr>\n",
       "      <th></th>\n",
       "      <th></th>\n",
       "      <th colspan=\"2\" halign=\"left\">time</th>\n",
       "      <th>lifespan</th>\n",
       "    </tr>\n",
       "    <tr>\n",
       "      <th></th>\n",
       "      <th></th>\n",
       "      <th>min</th>\n",
       "      <th>max</th>\n",
       "      <th></th>\n",
       "    </tr>\n",
       "    <tr>\n",
       "      <th>hh_id</th>\n",
       "      <th>iiqid</th>\n",
       "      <th></th>\n",
       "      <th></th>\n",
       "      <th></th>\n",
       "    </tr>\n",
       "  </thead>\n",
       "  <tbody>\n",
       "    <tr>\n",
       "      <th rowspan=\"5\" valign=\"top\">008lj1AMI8</th>\n",
       "      <th>6MILYBoI9P</th>\n",
       "      <td>2022-12-06 20:30:42.973</td>\n",
       "      <td>2023-02-03 17:29:52.687</td>\n",
       "      <td>58</td>\n",
       "    </tr>\n",
       "    <tr>\n",
       "      <th>UVg62Vt8Va</th>\n",
       "      <td>2022-12-04 06:04:54.956</td>\n",
       "      <td>2023-02-03 22:48:53.120</td>\n",
       "      <td>61</td>\n",
       "    </tr>\n",
       "    <tr>\n",
       "      <th>WATS0P8zVm</th>\n",
       "      <td>2023-01-04 09:04:24.973</td>\n",
       "      <td>2023-02-08 09:39:50.615</td>\n",
       "      <td>35</td>\n",
       "    </tr>\n",
       "    <tr>\n",
       "      <th>X93J3N7vAC</th>\n",
       "      <td>2022-12-02 03:20:07.416</td>\n",
       "      <td>2023-01-02 06:31:36.724</td>\n",
       "      <td>31</td>\n",
       "    </tr>\n",
       "    <tr>\n",
       "      <th>eIVlRbV49r</th>\n",
       "      <td>2023-01-06 00:40:28.200</td>\n",
       "      <td>2023-02-09 03:11:06.924</td>\n",
       "      <td>34</td>\n",
       "    </tr>\n",
       "  </tbody>\n",
       "</table>\n",
       "</div>"
      ],
      "text/plain": [
       "                                         time                         lifespan\n",
       "                                          min                     max         \n",
       "hh_id      iiqid                                                              \n",
       "008lj1AMI8 6MILYBoI9P 2022-12-06 20:30:42.973 2023-02-03 17:29:52.687       58\n",
       "           UVg62Vt8Va 2022-12-04 06:04:54.956 2023-02-03 22:48:53.120       61\n",
       "           WATS0P8zVm 2023-01-04 09:04:24.973 2023-02-08 09:39:50.615       35\n",
       "           X93J3N7vAC 2022-12-02 03:20:07.416 2023-01-02 06:31:36.724       31\n",
       "           eIVlRbV49r 2023-01-06 00:40:28.200 2023-02-09 03:11:06.924       34"
      ]
     },
     "execution_count": 51,
     "metadata": {},
     "output_type": "execute_result"
    }
   ],
   "source": [
    "grouped.head()"
   ]
  },
  {
   "cell_type": "code",
   "execution_count": 89,
   "id": "f4b4b439-7f14-4d3f-b6c4-f7e2b5bf7227",
   "metadata": {
    "execution": {
     "iopub.execute_input": "2023-03-08T13:06:53.291493Z",
     "iopub.status.busy": "2023-03-08T13:06:53.290712Z",
     "iopub.status.idle": "2023-03-08T13:06:53.331050Z",
     "shell.execute_reply": "2023-03-08T13:06:53.330588Z",
     "shell.execute_reply.started": "2023-03-08T13:06:53.291437Z"
    },
    "tags": []
   },
   "outputs": [
    {
     "data": {
      "text/html": [
       "<div>\n",
       "<style scoped>\n",
       "    .dataframe tbody tr th:only-of-type {\n",
       "        vertical-align: middle;\n",
       "    }\n",
       "\n",
       "    .dataframe tbody tr th {\n",
       "        vertical-align: top;\n",
       "    }\n",
       "\n",
       "    .dataframe thead tr th {\n",
       "        text-align: left;\n",
       "    }\n",
       "\n",
       "    .dataframe thead tr:last-of-type th {\n",
       "        text-align: right;\n",
       "    }\n",
       "</style>\n",
       "<table border=\"1\" class=\"dataframe\">\n",
       "  <thead>\n",
       "    <tr>\n",
       "      <th></th>\n",
       "      <th></th>\n",
       "      <th colspan=\"2\" halign=\"left\">time</th>\n",
       "      <th>lifespan</th>\n",
       "    </tr>\n",
       "    <tr>\n",
       "      <th></th>\n",
       "      <th></th>\n",
       "      <th>min</th>\n",
       "      <th>max</th>\n",
       "      <th></th>\n",
       "    </tr>\n",
       "    <tr>\n",
       "      <th>hh_id</th>\n",
       "      <th>iiqid</th>\n",
       "      <th></th>\n",
       "      <th></th>\n",
       "      <th></th>\n",
       "    </tr>\n",
       "  </thead>\n",
       "  <tbody>\n",
       "    <tr>\n",
       "      <th>418078058</th>\n",
       "      <th>Bcjz15r0Ms</th>\n",
       "      <td>2022-12-08 05:04:58.662</td>\n",
       "      <td>2023-02-20 04:49:41.883</td>\n",
       "      <td>73</td>\n",
       "    </tr>\n",
       "  </tbody>\n",
       "</table>\n",
       "</div>"
      ],
      "text/plain": [
       "                                        time                         lifespan\n",
       "                                         min                     max         \n",
       "hh_id     iiqid                                                              \n",
       "418078058 Bcjz15r0Ms 2022-12-08 05:04:58.662 2023-02-20 04:49:41.883       73"
      ]
     },
     "execution_count": 89,
     "metadata": {},
     "output_type": "execute_result"
    }
   ],
   "source": [
    "one_row = grouped[grouped[\"lifespan\"] > 60].sample(1)\n",
    "one_row"
   ]
  },
  {
   "cell_type": "code",
   "execution_count": 90,
   "id": "7504b955-2ee2-495e-8443-70d56f3557fa",
   "metadata": {
    "execution": {
     "iopub.execute_input": "2023-03-08T13:06:56.173958Z",
     "iopub.status.busy": "2023-03-08T13:06:56.173058Z",
     "iopub.status.idle": "2023-03-08T13:06:56.209757Z",
     "shell.execute_reply": "2023-03-08T13:06:56.209096Z",
     "shell.execute_reply.started": "2023-03-08T13:06:56.173888Z"
    },
    "tags": []
   },
   "outputs": [],
   "source": [
    "one_cookie = one_row.index.get_level_values(1).values[0]"
   ]
  },
  {
   "cell_type": "code",
   "execution_count": 91,
   "id": "a8386b86-6f41-4646-b5d4-bcc238d9b517",
   "metadata": {
    "execution": {
     "iopub.execute_input": "2023-03-08T13:06:56.442151Z",
     "iopub.status.busy": "2023-03-08T13:06:56.441225Z",
     "iopub.status.idle": "2023-03-08T13:06:56.474658Z",
     "shell.execute_reply": "2023-03-08T13:06:56.474233Z",
     "shell.execute_reply.started": "2023-03-08T13:06:56.442084Z"
    },
    "tags": []
   },
   "outputs": [
    {
     "data": {
      "text/plain": [
       "'Bcjz15r0Ms'"
      ]
     },
     "execution_count": 91,
     "metadata": {},
     "output_type": "execute_result"
    }
   ],
   "source": [
    "one_cookie"
   ]
  },
  {
   "cell_type": "code",
   "execution_count": 92,
   "id": "597ffbc5-52b2-4ffc-949a-abf540053107",
   "metadata": {
    "execution": {
     "iopub.execute_input": "2023-03-08T13:06:56.782752Z",
     "iopub.status.busy": "2023-03-08T13:06:56.782190Z",
     "iopub.status.idle": "2023-03-08T13:06:57.052936Z",
     "shell.execute_reply": "2023-03-08T13:06:57.052639Z",
     "shell.execute_reply.started": "2023-03-08T13:06:56.782714Z"
    },
    "tags": []
   },
   "outputs": [],
   "source": [
    "one_cookie_data = data[data[\"iiqid\"]==one_cookie]"
   ]
  },
  {
   "cell_type": "code",
   "execution_count": 93,
   "id": "bce2562a-7f06-4f80-a11c-86ed0465a416",
   "metadata": {
    "execution": {
     "iopub.execute_input": "2023-03-08T13:06:57.278485Z",
     "iopub.status.busy": "2023-03-08T13:06:57.277926Z",
     "iopub.status.idle": "2023-03-08T13:06:57.314241Z",
     "shell.execute_reply": "2023-03-08T13:06:57.313440Z",
     "shell.execute_reply.started": "2023-03-08T13:06:57.278450Z"
    },
    "tags": []
   },
   "outputs": [
    {
     "data": {
      "text/plain": [
       "chrome mobile    37\n",
       "Name: browser, dtype: int64"
      ]
     },
     "execution_count": 93,
     "metadata": {},
     "output_type": "execute_result"
    }
   ],
   "source": [
    "one_cookie_data.browser.value_counts()"
   ]
  },
  {
   "cell_type": "code",
   "execution_count": 94,
   "id": "fbcebb78-893f-4205-8481-22de1cb895cb",
   "metadata": {
    "execution": {
     "iopub.execute_input": "2023-03-08T13:06:58.045941Z",
     "iopub.status.busy": "2023-03-08T13:06:58.045302Z",
     "iopub.status.idle": "2023-03-08T13:06:58.078544Z",
     "shell.execute_reply": "2023-03-08T13:06:58.077973Z",
     "shell.execute_reply.started": "2023-03-08T13:06:58.045905Z"
    },
    "tags": []
   },
   "outputs": [],
   "source": [
    "most_common_brw = one_cookie_data.browser.mode().iloc[0]"
   ]
  },
  {
   "cell_type": "code",
   "execution_count": 95,
   "id": "52de0094-b7c2-4fa2-93b6-bfad1596720f",
   "metadata": {
    "execution": {
     "iopub.execute_input": "2023-03-08T13:06:59.770049Z",
     "iopub.status.busy": "2023-03-08T13:06:59.769188Z",
     "iopub.status.idle": "2023-03-08T13:06:59.801228Z",
     "shell.execute_reply": "2023-03-08T13:06:59.800385Z",
     "shell.execute_reply.started": "2023-03-08T13:06:59.769983Z"
    },
    "tags": []
   },
   "outputs": [],
   "source": [
    "one_cookie_data = one_cookie_data[one_cookie_data[\"browser\"]==most_common_brw]"
   ]
  },
  {
   "cell_type": "code",
   "execution_count": 96,
   "id": "eecb5124-7169-4766-aa88-e0f9e399a15d",
   "metadata": {
    "execution": {
     "iopub.execute_input": "2023-03-08T13:07:00.450405Z",
     "iopub.status.busy": "2023-03-08T13:07:00.449829Z",
     "iopub.status.idle": "2023-03-08T13:07:00.651860Z",
     "shell.execute_reply": "2023-03-08T13:07:00.651572Z",
     "shell.execute_reply.started": "2023-03-08T13:07:00.450345Z"
    },
    "tags": []
   },
   "outputs": [
    {
     "data": {
      "text/plain": [
       "<Axes: xlabel='time', ylabel='browserversion'>"
      ]
     },
     "execution_count": 96,
     "metadata": {},
     "output_type": "execute_result"
    },
    {
     "data": {
      "image/png": "[encoded data removed]",
      "text/plain": [
       "<Figure size 1200x500 with 1 Axes>"
      ]
     },
     "metadata": {},
     "output_type": "display_data"
    }
   ],
   "source": [
    "sns.scatterplot(data=one_cookie_data, x=\"time\", y=\"browserversion\")"
   ]
  },
  {
   "cell_type": "markdown",
   "id": "7ff608b6-41b0-4b5a-8343-5adf8ce782c4",
   "metadata": {},
   "source": [
    "## Lets try to find how many error are they"
   ]
  },
  {
   "cell_type": "markdown",
   "id": "453d539a-9c87-47c7-a04a-4d4bea7e2243",
   "metadata": {},
   "source": [
    "For a given cookie:\n",
    "Go over all of its apearesnces and see if the browserversion stays consistent.\n",
    "Lets strat by a simple \"yes/no\" test."
   ]
  },
  {
   "cell_type": "code",
   "execution_count": 99,
   "id": "89787b12-80fc-48e0-9b15-b7dc950f1e1c",
   "metadata": {
    "execution": {
     "iopub.execute_input": "2023-03-08T13:20:29.787261Z",
     "iopub.status.busy": "2023-03-08T13:20:29.786420Z",
     "iopub.status.idle": "2023-03-08T13:20:29.827577Z",
     "shell.execute_reply": "2023-03-08T13:20:29.827071Z",
     "shell.execute_reply.started": "2023-03-08T13:20:29.787177Z"
    },
    "tags": []
   },
   "outputs": [],
   "source": [
    "one_cookie_data = one_cookie_data.sort_values(by=\"time\")"
   ]
  },
  {
   "cell_type": "code",
   "execution_count": 108,
   "id": "6867477d-a73d-48ab-9892-a500ff06294c",
   "metadata": {
    "execution": {
     "iopub.execute_input": "2023-03-08T13:40:46.085078Z",
     "iopub.status.busy": "2023-03-08T13:40:46.083613Z",
     "iopub.status.idle": "2023-03-08T13:40:46.134152Z",
     "shell.execute_reply": "2023-03-08T13:40:46.133571Z",
     "shell.execute_reply.started": "2023-03-08T13:40:46.085003Z"
    },
    "tags": []
   },
   "outputs": [],
   "source": [
    "one_cookie_data[\"prev_browserversion\"] = one_cookie_data[\"browserversion\"].shift(1).fillna(\"0.0.0.0\")"
   ]
  },
  {
   "cell_type": "code",
   "execution_count": 115,
   "id": "a308e1b3-3a23-4ea5-a63b-1b79dd8ad83a",
   "metadata": {
    "execution": {
     "iopub.execute_input": "2023-03-08T13:45:23.434675Z",
     "iopub.status.busy": "2023-03-08T13:45:23.433801Z",
     "iopub.status.idle": "2023-03-08T13:45:23.466721Z",
     "shell.execute_reply": "2023-03-08T13:45:23.466279Z",
     "shell.execute_reply.started": "2023-03-08T13:45:23.434608Z"
    },
    "tags": []
   },
   "outputs": [
    {
     "data": {
      "text/plain": [
       "True"
      ]
     },
     "execution_count": 115,
     "metadata": {},
     "output_type": "execute_result"
    }
   ],
   "source": [
    "all(np.vectorize(compare_versions)(one_cookie_data['prev_browserversion'], one_cookie_data['browserversion']) <= 0)"
   ]
  },
  {
   "cell_type": "code",
   "execution_count": 116,
   "id": "80d90a4c-bc6a-4a51-a517-fbcd66dc08d2",
   "metadata": {
    "execution": {
     "iopub.execute_input": "2023-03-08T13:47:49.212878Z",
     "iopub.status.busy": "2023-03-08T13:47:49.211877Z",
     "iopub.status.idle": "2023-03-08T13:47:49.252763Z",
     "shell.execute_reply": "2023-03-08T13:47:49.252140Z",
     "shell.execute_reply.started": "2023-03-08T13:47:49.212763Z"
    },
    "tags": []
   },
   "outputs": [],
   "source": [
    "def has_no_errors(cookie, df=data):\n",
    "    one_cookie_data = df[df[\"iiqid\"]==cookie].sort_values(by=\"time\")\n",
    "    one_cookie_data[\"prev_browserversion\"] = one_cookie_data[\"browserversion\"].shift(1).fillna(\"0.0.0.0\")\n",
    "    one_cookie_data[\"prev_osversion\"] = one_cookie_data[\"osversion\"].shift(1).fillna(\"0\")\n",
    "    browser_consistency = all(np.vectorize(compare_versions)(one_cookie_data['prev_browserversion'], one_cookie_data['browserversion']) <= 0)\n",
    "    os_consistency = all(np.vectorize(compare_versions)(one_cookie_data['osversion'], one_cookie_data['osversion']) <= 0)\n",
    "    return browser_consistency and os_consistency"
   ]
  },
  {
   "cell_type": "code",
   "execution_count": 119,
   "id": "18cd1119-290a-4f3a-a800-2ce97cb924a6",
   "metadata": {
    "execution": {
     "iopub.execute_input": "2023-03-08T13:48:32.441682Z",
     "iopub.status.busy": "2023-03-08T13:48:32.440499Z",
     "iopub.status.idle": "2023-03-08T13:48:32.699432Z",
     "shell.execute_reply": "2023-03-08T13:48:32.699167Z",
     "shell.execute_reply.started": "2023-03-08T13:48:32.441587Z"
    },
    "tags": []
   },
   "outputs": [
    {
     "data": {
      "text/plain": [
       "True"
      ]
     },
     "execution_count": 119,
     "metadata": {},
     "output_type": "execute_result"
    }
   ],
   "source": [
    "has_no_errors(one_cookie)"
   ]
  },
  {
   "cell_type": "code",
   "execution_count": 8,
   "id": "57758561-d9c6-4853-b04a-a4573da56022",
   "metadata": {
    "execution": {
     "iopub.execute_input": "2023-03-09T08:42:49.093833Z",
     "iopub.status.busy": "2023-03-09T08:42:49.092579Z",
     "iopub.status.idle": "2023-03-09T08:42:50.128594Z",
     "shell.execute_reply": "2023-03-09T08:42:50.128135Z",
     "shell.execute_reply.started": "2023-03-09T08:42:49.093760Z"
    },
    "tags": []
   },
   "outputs": [],
   "source": [
    "data.sort_values(by=\"time\", inplace=True)\n",
    "# grouped_cookies = data.groupby([\"hh_id\", \"iiqid\"])"
   ]
  },
  {
   "cell_type": "code",
   "execution_count": 9,
   "id": "426123b5-f1bb-461f-97bf-7ee1b437e439",
   "metadata": {
    "execution": {
     "iopub.execute_input": "2023-03-09T08:42:55.977269Z",
     "iopub.status.busy": "2023-03-09T08:42:55.976625Z",
     "iopub.status.idle": "2023-03-09T08:42:56.994378Z",
     "shell.execute_reply": "2023-03-09T08:42:56.994043Z",
     "shell.execute_reply.started": "2023-03-09T08:42:55.977154Z"
    },
    "tags": []
   },
   "outputs": [],
   "source": [
    "data['prev_osversion'] = data.groupby(['hh_id', 'iiqid'])['osversion'].shift(1).fillna(\"0\")\n",
    "data['prev_browserversion'] = data.groupby(['hh_id', 'iiqid'])['browserversion'].shift(1).fillna(\"0.0.0.0\")"
   ]
  },
  {
   "cell_type": "code",
   "execution_count": 10,
   "id": "93ddc011-d270-48b3-b1db-be645a6ad179",
   "metadata": {
    "execution": {
     "iopub.execute_input": "2023-03-09T08:42:57.706761Z",
     "iopub.status.busy": "2023-03-09T08:42:57.705834Z",
     "iopub.status.idle": "2023-03-09T08:43:09.027905Z",
     "shell.execute_reply": "2023-03-09T08:43:09.027134Z",
     "shell.execute_reply.started": "2023-03-09T08:42:57.706694Z"
    },
    "tags": []
   },
   "outputs": [],
   "source": [
    "full_valid_rows = data[(np.vectorize(compare_versions)(data['osversion'], \n",
    "                                                         data['prev_osversion']) >= 0)\n",
    "                       & (np.vectorize(compare_versions)(data['browserversion'], \n",
    "                                                               data['prev_browserversion']) >= 0)]"
   ]
  },
  {
   "cell_type": "code",
   "execution_count": 12,
   "id": "1fc9ab43-6c60-49eb-873e-f576cbea8624",
   "metadata": {
    "execution": {
     "iopub.execute_input": "2023-03-09T08:43:11.415617Z",
     "iopub.status.busy": "2023-03-09T08:43:11.414875Z",
     "iopub.status.idle": "2023-03-09T08:43:11.735285Z",
     "shell.execute_reply": "2023-03-09T08:43:11.735004Z",
     "shell.execute_reply.started": "2023-03-09T08:43:11.415581Z"
    },
    "tags": []
   },
   "outputs": [],
   "source": [
    "ok_rows_counts = full_valid_rows.groupby(['hh_id', 'iiqid']).size()"
   ]
  },
  {
   "cell_type": "code",
   "execution_count": 13,
   "id": "8e1c854b-a1c2-4fbf-a48a-1df0cc912ef7",
   "metadata": {
    "execution": {
     "iopub.execute_input": "2023-03-09T08:43:11.911587Z",
     "iopub.status.busy": "2023-03-09T08:43:11.911313Z",
     "iopub.status.idle": "2023-03-09T08:43:12.205558Z",
     "shell.execute_reply": "2023-03-09T08:43:12.205089Z",
     "shell.execute_reply.started": "2023-03-09T08:43:11.911564Z"
    },
    "tags": []
   },
   "outputs": [],
   "source": [
    "total_rows_counts = data.groupby(['hh_id', 'iiqid']).size()"
   ]
  },
  {
   "cell_type": "code",
   "execution_count": 14,
   "id": "ce04e1be-e856-41d1-ba6d-b1b76467d7ad",
   "metadata": {
    "execution": {
     "iopub.execute_input": "2023-03-09T08:43:15.813539Z",
     "iopub.status.busy": "2023-03-09T08:43:15.812853Z",
     "iopub.status.idle": "2023-03-09T08:43:15.852225Z",
     "shell.execute_reply": "2023-03-09T08:43:15.851732Z",
     "shell.execute_reply.started": "2023-03-09T08:43:15.813500Z"
    },
    "tags": []
   },
   "outputs": [],
   "source": [
    "all_ok = ok_rows_counts.eq(total_rows_counts)"
   ]
  },
  {
   "cell_type": "code",
   "execution_count": 16,
   "id": "c932a40f-b71d-484f-9edb-2425f2f5ae7f",
   "metadata": {
    "execution": {
     "iopub.execute_input": "2023-03-09T08:43:31.429723Z",
     "iopub.status.busy": "2023-03-09T08:43:31.428810Z",
     "iopub.status.idle": "2023-03-09T08:43:31.459794Z",
     "shell.execute_reply": "2023-03-09T08:43:31.459333Z",
     "shell.execute_reply.started": "2023-03-09T08:43:31.429656Z"
    },
    "tags": []
   },
   "outputs": [
    {
     "data": {
      "text/plain": [
       "hh_id       iiqid     \n",
       "008lj1AMI8  6MILYBoI9P    True\n",
       "            UVg62Vt8Va    True\n",
       "            WATS0P8zVm    True\n",
       "            mXwL7QCw5O    True\n",
       "            vjNRSKwlH4    True\n",
       "00C30KAqMf  MkDZdCUiPK    True\n",
       "017VVGbSKq  7Gqmdx5cAS    True\n",
       "            9LwaJRXNWe    True\n",
       "            Gc8OsRzRW1    True\n",
       "            xTgngXvS70    True\n",
       "dtype: bool"
      ]
     },
     "execution_count": 16,
     "metadata": {},
     "output_type": "execute_result"
    }
   ],
   "source": [
    "all_ok.head(10)"
   ]
  },
  {
   "cell_type": "code",
   "execution_count": 17,
   "id": "961bf36c-44d9-4c7d-8580-a54e858d2806",
   "metadata": {
    "execution": {
     "iopub.execute_input": "2023-03-09T08:43:37.939046Z",
     "iopub.status.busy": "2023-03-09T08:43:37.938118Z",
     "iopub.status.idle": "2023-03-09T08:43:37.993874Z",
     "shell.execute_reply": "2023-03-09T08:43:37.993475Z",
     "shell.execute_reply.started": "2023-03-09T08:43:37.938984Z"
    },
    "tags": []
   },
   "outputs": [],
   "source": [
    "result = pd.concat([total_rows_counts, all_ok], axis=1)\n",
    "result.columns = ['instances','ok'] "
   ]
  },
  {
   "cell_type": "code",
   "execution_count": 18,
   "id": "57736011-a7c3-4166-959c-ec16c0309d07",
   "metadata": {
    "execution": {
     "iopub.execute_input": "2023-03-09T08:43:41.118234Z",
     "iopub.status.busy": "2023-03-09T08:43:41.117810Z",
     "iopub.status.idle": "2023-03-09T08:43:41.155796Z",
     "shell.execute_reply": "2023-03-09T08:43:41.155457Z",
     "shell.execute_reply.started": "2023-03-09T08:43:41.118202Z"
    },
    "tags": []
   },
   "outputs": [
    {
     "data": {
      "text/html": [
       "<div>\n",
       "<style scoped>\n",
       "    .dataframe tbody tr th:only-of-type {\n",
       "        vertical-align: middle;\n",
       "    }\n",
       "\n",
       "    .dataframe tbody tr th {\n",
       "        vertical-align: top;\n",
       "    }\n",
       "\n",
       "    .dataframe thead th {\n",
       "        text-align: right;\n",
       "    }\n",
       "</style>\n",
       "<table border=\"1\" class=\"dataframe\">\n",
       "  <thead>\n",
       "    <tr style=\"text-align: right;\">\n",
       "      <th></th>\n",
       "      <th></th>\n",
       "      <th>instances</th>\n",
       "      <th>ok</th>\n",
       "    </tr>\n",
       "    <tr>\n",
       "      <th>hh_id</th>\n",
       "      <th>iiqid</th>\n",
       "      <th></th>\n",
       "      <th></th>\n",
       "    </tr>\n",
       "  </thead>\n",
       "  <tbody>\n",
       "    <tr>\n",
       "      <th rowspan=\"5\" valign=\"top\">008lj1AMI8</th>\n",
       "      <th>6MILYBoI9P</th>\n",
       "      <td>66</td>\n",
       "      <td>True</td>\n",
       "    </tr>\n",
       "    <tr>\n",
       "      <th>UVg62Vt8Va</th>\n",
       "      <td>41</td>\n",
       "      <td>True</td>\n",
       "    </tr>\n",
       "    <tr>\n",
       "      <th>WATS0P8zVm</th>\n",
       "      <td>156</td>\n",
       "      <td>True</td>\n",
       "    </tr>\n",
       "    <tr>\n",
       "      <th>mXwL7QCw5O</th>\n",
       "      <td>51</td>\n",
       "      <td>True</td>\n",
       "    </tr>\n",
       "    <tr>\n",
       "      <th>vjNRSKwlH4</th>\n",
       "      <td>28</td>\n",
       "      <td>True</td>\n",
       "    </tr>\n",
       "    <tr>\n",
       "      <th>...</th>\n",
       "      <th>...</th>\n",
       "      <td>...</td>\n",
       "      <td>...</td>\n",
       "    </tr>\n",
       "    <tr>\n",
       "      <th>zygR659Gbx</th>\n",
       "      <th>zU35cTjEsV</th>\n",
       "      <td>595</td>\n",
       "      <td>False</td>\n",
       "    </tr>\n",
       "    <tr>\n",
       "      <th rowspan=\"4\" valign=\"top\">zzyXvF318v</th>\n",
       "      <th>0UXCVZvWch</th>\n",
       "      <td>40</td>\n",
       "      <td>False</td>\n",
       "    </tr>\n",
       "    <tr>\n",
       "      <th>26UHp1Gc7Y</th>\n",
       "      <td>46</td>\n",
       "      <td>True</td>\n",
       "    </tr>\n",
       "    <tr>\n",
       "      <th>2oWL7w8Na8</th>\n",
       "      <td>2</td>\n",
       "      <td>True</td>\n",
       "    </tr>\n",
       "    <tr>\n",
       "      <th>uo36TXLVcg</th>\n",
       "      <td>126</td>\n",
       "      <td>False</td>\n",
       "    </tr>\n",
       "  </tbody>\n",
       "</table>\n",
       "<p>48506 rows × 2 columns</p>\n",
       "</div>"
      ],
      "text/plain": [
       "                       instances     ok\n",
       "hh_id      iiqid                       \n",
       "008lj1AMI8 6MILYBoI9P         66   True\n",
       "           UVg62Vt8Va         41   True\n",
       "           WATS0P8zVm        156   True\n",
       "           mXwL7QCw5O         51   True\n",
       "           vjNRSKwlH4         28   True\n",
       "...                          ...    ...\n",
       "zygR659Gbx zU35cTjEsV        595  False\n",
       "zzyXvF318v 0UXCVZvWch         40  False\n",
       "           26UHp1Gc7Y         46   True\n",
       "           2oWL7w8Na8          2   True\n",
       "           uo36TXLVcg        126  False\n",
       "\n",
       "[48506 rows x 2 columns]"
      ]
     },
     "execution_count": 18,
     "metadata": {},
     "output_type": "execute_result"
    }
   ],
   "source": [
    "result"
   ]
  },
  {
   "cell_type": "code",
   "execution_count": 19,
   "id": "5a5bb060-a06b-4d8f-b6f7-9c0bfde2100f",
   "metadata": {
    "execution": {
     "iopub.execute_input": "2023-03-09T08:43:50.301927Z",
     "iopub.status.busy": "2023-03-09T08:43:50.301409Z",
     "iopub.status.idle": "2023-03-09T08:43:50.603784Z",
     "shell.execute_reply": "2023-03-09T08:43:50.603495Z",
     "shell.execute_reply.started": "2023-03-09T08:43:50.301877Z"
    },
    "tags": []
   },
   "outputs": [
    {
     "data": {
      "text/plain": [
       "<Axes: xlabel='ok', ylabel='count'>"
      ]
     },
     "execution_count": 19,
     "metadata": {},
     "output_type": "execute_result"
    },
    {
     "data": {
      "image/png": "[encoded data removed]",
      "text/plain": [
       "<Figure size 1200x500 with 1 Axes>"
      ]
     },
     "metadata": {},
     "output_type": "display_data"
    }
   ],
   "source": [
    "sns.countplot(data=result, x='ok')"
   ]
  },
  {
   "cell_type": "code",
   "execution_count": 35,
   "id": "2adaa07d-7f49-4793-b9f9-52ca9d1103de",
   "metadata": {
    "execution": {
     "iopub.execute_input": "2023-03-09T09:06:16.414312Z",
     "iopub.status.busy": "2023-03-09T09:06:16.412977Z",
     "iopub.status.idle": "2023-03-09T09:06:16.489492Z",
     "shell.execute_reply": "2023-03-09T09:06:16.489082Z",
     "shell.execute_reply.started": "2023-03-09T09:06:16.414232Z"
    },
    "tags": []
   },
   "outputs": [],
   "source": [
    "cookie_hhd_data = pd.concat([grouped, result], axis=1)\n",
    "cookie_hhd_data.columns = [\"time_min\", \"time_max\", \"lifespan\", \"instances\", \"ok\"]"
   ]
  },
  {
   "cell_type": "code",
   "execution_count": 81,
   "id": "cff76074-3681-402c-bded-69961723db58",
   "metadata": {
    "execution": {
     "iopub.execute_input": "2023-03-09T09:46:49.110874Z",
     "iopub.status.busy": "2023-03-09T09:46:49.109953Z",
     "iopub.status.idle": "2023-03-09T09:46:49.154216Z",
     "shell.execute_reply": "2023-03-09T09:46:49.153651Z",
     "shell.execute_reply.started": "2023-03-09T09:46:49.110785Z"
    },
    "tags": []
   },
   "outputs": [],
   "source": [
    "lifespan_order = [str(i) for i in range(84, -1, -1)]"
   ]
  },
  {
   "cell_type": "code",
   "execution_count": 88,
   "id": "d90d3c29-acbc-4867-a9cb-9aaf373e601e",
   "metadata": {
    "execution": {
     "iopub.execute_input": "2023-03-09T09:49:24.351927Z",
     "iopub.status.busy": "2023-03-09T09:49:24.351369Z",
     "iopub.status.idle": "2023-03-09T09:49:24.626524Z",
     "shell.execute_reply": "2023-03-09T09:49:24.626242Z",
     "shell.execute_reply.started": "2023-03-09T09:49:24.351891Z"
    },
    "tags": []
   },
   "outputs": [
    {
     "data": {
      "image/png": "[encoded data removed]",
      "text/plain": [
       "<Figure size 1200x500 with 1 Axes>"
      ]
     },
     "metadata": {},
     "output_type": "display_data"
    }
   ],
   "source": [
    "sns.barplot(data=cookie_hhd_data, x=\"lifespan\", y=\"ok\", errorbar=None, order=list(reversed(range(0, 85))))\n",
    "plt.xticks(range(0, 85, 4));"
   ]
  },
  {
   "cell_type": "code",
   "execution_count": 356,
   "id": "e93b1983-1e36-4c5f-b979-4d882c831334",
   "metadata": {
    "execution": {
     "iopub.execute_input": "2023-03-09T11:02:57.162308Z",
     "iopub.status.busy": "2023-03-09T11:02:57.160316Z",
     "iopub.status.idle": "2023-03-09T11:02:59.030103Z",
     "shell.execute_reply": "2023-03-09T11:02:59.029625Z",
     "shell.execute_reply.started": "2023-03-09T11:02:57.162220Z"
    },
    "tags": []
   },
   "outputs": [],
   "source": [
    "found = False\n",
    "while not found:\n",
    "    one_cookie_sample = cookie_hhd_data[cookie_hhd_data[\"ok\"]==False].sample()\n",
    "    one_cookie_id = one_cookie_sample.index.get_level_values(1).values[0]\n",
    "    one_cookie_data = data[data[\"iiqid\"]==one_cookie_id]\n",
    "    browsers_of_cookie = one_cookie_data.browser.value_counts().sort_values(ascending=False)\n",
    "    if browsers_of_cookie.sum() > 25:\n",
    "        if len(browsers_of_cookie) > 1:\n",
    "            if browsers_of_cookie.iloc[1]  > browsers_of_cookie.sum()/4:\n",
    "                found = True"
   ]
  },
  {
   "cell_type": "code",
   "execution_count": 330,
   "id": "f7e55360-3b8d-4573-83e1-53e552524b03",
   "metadata": {
    "execution": {
     "iopub.execute_input": "2023-03-09T10:57:31.372620Z",
     "iopub.status.busy": "2023-03-09T10:57:31.372135Z",
     "iopub.status.idle": "2023-03-09T10:57:31.408315Z",
     "shell.execute_reply": "2023-03-09T10:57:31.407697Z",
     "shell.execute_reply.started": "2023-03-09T10:57:31.372586Z"
    },
    "tags": []
   },
   "outputs": [],
   "source": [
    "one_cookie_sample = cookie_hhd_data[cookie_hhd_data[\"ok\"]==False].sample()"
   ]
  },
  {
   "cell_type": "code",
   "execution_count": 331,
   "id": "7fac31cc-8136-421e-b9d3-3d0c04f08a55",
   "metadata": {
    "execution": {
     "iopub.execute_input": "2023-03-09T10:57:31.477076Z",
     "iopub.status.busy": "2023-03-09T10:57:31.476598Z",
     "iopub.status.idle": "2023-03-09T10:57:31.501688Z",
     "shell.execute_reply": "2023-03-09T10:57:31.501196Z",
     "shell.execute_reply.started": "2023-03-09T10:57:31.477036Z"
    },
    "tags": []
   },
   "outputs": [],
   "source": [
    "one_cookie_id = one_cookie_sample.index.get_level_values(1).values[0]"
   ]
  },
  {
   "cell_type": "code",
   "execution_count": 332,
   "id": "a2932e62-c391-4382-8bda-e070e6eece15",
   "metadata": {
    "execution": {
     "iopub.execute_input": "2023-03-09T10:57:31.768850Z",
     "iopub.status.busy": "2023-03-09T10:57:31.768367Z",
     "iopub.status.idle": "2023-03-09T10:57:31.929665Z",
     "shell.execute_reply": "2023-03-09T10:57:31.929351Z",
     "shell.execute_reply.started": "2023-03-09T10:57:31.768816Z"
    },
    "tags": []
   },
   "outputs": [],
   "source": [
    "one_cookie_data = data[data[\"iiqid\"]==one_cookie_id]"
   ]
  },
  {
   "cell_type": "code",
   "execution_count": 337,
   "id": "b586a665-73e6-4966-82c4-eb021532c7e0",
   "metadata": {
    "execution": {
     "iopub.execute_input": "2023-03-09T10:59:41.613420Z",
     "iopub.status.busy": "2023-03-09T10:59:41.612157Z",
     "iopub.status.idle": "2023-03-09T10:59:41.650817Z",
     "shell.execute_reply": "2023-03-09T10:59:41.650454Z",
     "shell.execute_reply.started": "2023-03-09T10:59:41.613256Z"
    },
    "tags": []
   },
   "outputs": [],
   "source": [
    "browsers_of_cookie = one_cookie_data.browser.value_counts().sort_values(ascending=False)"
   ]
  },
  {
   "cell_type": "code",
   "execution_count": 342,
   "id": "50325827-85c2-4761-a0a2-4112f8b6cd70",
   "metadata": {
    "execution": {
     "iopub.execute_input": "2023-03-09T11:01:04.344550Z",
     "iopub.status.busy": "2023-03-09T11:01:04.342734Z",
     "iopub.status.idle": "2023-03-09T11:01:04.399653Z",
     "shell.execute_reply": "2023-03-09T11:01:04.398587Z",
     "shell.execute_reply.started": "2023-03-09T11:01:04.344463Z"
    },
    "tags": []
   },
   "outputs": [
    {
     "data": {
      "text/plain": [
       "26.25"
      ]
     },
     "execution_count": 342,
     "metadata": {},
     "output_type": "execute_result"
    }
   ],
   "source": [
    "browsers_of_cookie.sum()/4"
   ]
  },
  {
   "cell_type": "code",
   "execution_count": 357,
   "id": "b68e72ec-4d2b-4f9f-8edf-2572257397e1",
   "metadata": {
    "execution": {
     "iopub.execute_input": "2023-03-09T11:03:07.208938Z",
     "iopub.status.busy": "2023-03-09T11:03:07.207368Z",
     "iopub.status.idle": "2023-03-09T11:03:07.259640Z",
     "shell.execute_reply": "2023-03-09T11:03:07.259175Z",
     "shell.execute_reply.started": "2023-03-09T11:03:07.208853Z"
    },
    "tags": []
   },
   "outputs": [
    {
     "data": {
      "text/plain": [
       "chrome desktop    50\n",
       "safari            29\n",
       "Name: browser, dtype: int64"
      ]
     },
     "execution_count": 357,
     "metadata": {},
     "output_type": "execute_result"
    }
   ],
   "source": [
    "one_cookie_data.browser.value_counts()"
   ]
  },
  {
   "cell_type": "code",
   "execution_count": 347,
   "id": "7778ef4c-c621-4319-8e3a-e9f5acf37fc3",
   "metadata": {
    "execution": {
     "iopub.execute_input": "2023-03-09T11:02:13.284057Z",
     "iopub.status.busy": "2023-03-09T11:02:13.283071Z",
     "iopub.status.idle": "2023-03-09T11:02:13.315292Z",
     "shell.execute_reply": "2023-03-09T11:02:13.314682Z",
     "shell.execute_reply.started": "2023-03-09T11:02:13.284014Z"
    },
    "tags": []
   },
   "outputs": [],
   "source": [
    "ordered_versions = sorted(one_cookie_data.browserversion.unique(), key=cmp_to_key(compare_versions))"
   ]
  },
  {
   "cell_type": "code",
   "execution_count": 348,
   "id": "09a3010f-bc33-4170-afaa-a1b66611749f",
   "metadata": {
    "execution": {
     "iopub.execute_input": "2023-03-09T11:02:13.765122Z",
     "iopub.status.busy": "2023-03-09T11:02:13.764383Z",
     "iopub.status.idle": "2023-03-09T11:02:14.030909Z",
     "shell.execute_reply": "2023-03-09T11:02:14.030560Z",
     "shell.execute_reply.started": "2023-03-09T11:02:13.765076Z"
    },
    "tags": []
   },
   "outputs": [
    {
     "data": {
      "text/plain": [
       "<Axes: xlabel='time', ylabel='browserversion'>"
      ]
     },
     "execution_count": 348,
     "metadata": {},
     "output_type": "execute_result"
    },
    {
     "data": {
      "image/png": "[encoded data removed]",
      "text/plain": [
       "<Figure size 1200x500 with 1 Axes>"
      ]
     },
     "metadata": {},
     "output_type": "display_data"
    }
   ],
   "source": [
    "sns.stripplot(data=one_cookie_data, x=\"time\", y=\"browserversion\", \n",
    "              order=ordered_versions[::-1], jitter=False)"
   ]
  },
  {
   "cell_type": "code",
   "execution_count": 349,
   "id": "ca6e1402-e98a-4a2b-8828-4ca31afaf60c",
   "metadata": {
    "execution": {
     "iopub.execute_input": "2023-03-09T11:02:19.645352Z",
     "iopub.status.busy": "2023-03-09T11:02:19.644738Z",
     "iopub.status.idle": "2023-03-09T11:02:19.711321Z",
     "shell.execute_reply": "2023-03-09T11:02:19.710542Z",
     "shell.execute_reply.started": "2023-03-09T11:02:19.645304Z"
    },
    "tags": []
   },
   "outputs": [],
   "source": [
    "# one_cookie_data[one_cookie_data[\"browserversion\"].apply(lambda v: v[0]==\"2\")]"
   ]
  },
  {
   "cell_type": "code",
   "execution_count": 354,
   "id": "188b81e3-16f6-4f3f-83f0-19f24de2fd4a",
   "metadata": {
    "execution": {
     "iopub.execute_input": "2023-03-09T11:02:42.044947Z",
     "iopub.status.busy": "2023-03-09T11:02:42.043774Z",
     "iopub.status.idle": "2023-03-09T11:02:42.088636Z",
     "shell.execute_reply": "2023-03-09T11:02:42.086846Z",
     "shell.execute_reply.started": "2023-03-09T11:02:42.044893Z"
    },
    "tags": []
   },
   "outputs": [
    {
     "data": {
      "text/plain": [
       "'xmyR15e8dP'"
      ]
     },
     "execution_count": 354,
     "metadata": {},
     "output_type": "execute_result"
    }
   ],
   "source": [
    "one_cookie_id"
   ]
  },
  {
   "cell_type": "code",
   "execution_count": 358,
   "id": "358446f9-4bb1-4309-a630-1d8bf12a69c6",
   "metadata": {
    "execution": {
     "iopub.execute_input": "2023-03-09T11:03:10.953050Z",
     "iopub.status.busy": "2023-03-09T11:03:10.952365Z",
     "iopub.status.idle": "2023-03-09T11:03:11.118911Z",
     "shell.execute_reply": "2023-03-09T11:03:11.118458Z",
     "shell.execute_reply.started": "2023-03-09T11:03:10.952984Z"
    },
    "tags": []
   },
   "outputs": [
    {
     "data": {
      "text/plain": [
       "<Axes: title={'center': \"Cookie's iiqid: V5F1rG6Krd\"}>"
      ]
     },
     "execution_count": 358,
     "metadata": {},
     "output_type": "execute_result"
    },
    {
     "data": {
      "image/png": "[encoded data removed]",
      "text/plain": [
       "<Figure size 1200x500 with 1 Axes>"
      ]
     },
     "metadata": {},
     "output_type": "display_data"
    }
   ],
   "source": [
    "one_cookie_data.browser.value_counts().plot.bar(title=f\"Cookie's iiqid: {one_cookie_id}\")"
   ]
  },
  {
   "cell_type": "markdown",
   "id": "5764dba5-2575-45a0-bfb7-7cb54ed23550",
   "metadata": {},
   "source": [
    "## Mixed Constant For One Cookie"
   ]
  },
  {
   "cell_type": "code",
   "execution_count": 9,
   "id": "589c9714-6c17-451a-b9a3-ec1d0518d3ab",
   "metadata": {
    "execution": {
     "iopub.execute_input": "2023-03-09T12:39:58.167751Z",
     "iopub.status.busy": "2023-03-09T12:39:58.166974Z",
     "iopub.status.idle": "2023-03-09T12:39:58.197022Z",
     "shell.execute_reply": "2023-03-09T12:39:58.196497Z",
     "shell.execute_reply.started": "2023-03-09T12:39:58.167682Z"
    },
    "tags": []
   },
   "outputs": [],
   "source": [
    "# data.groupby([\"hh_id\", \"iiqid\", "
   ]
  },
  {
   "cell_type": "code",
   "execution_count": 10,
   "id": "3ade422e-6a6d-4dc9-afdf-e145e5a9f03e",
   "metadata": {
    "execution": {
     "iopub.execute_input": "2023-03-09T12:40:00.408067Z",
     "iopub.status.busy": "2023-03-09T12:40:00.407171Z",
     "iopub.status.idle": "2023-03-09T12:40:03.024006Z",
     "shell.execute_reply": "2023-03-09T12:40:03.023523Z",
     "shell.execute_reply.started": "2023-03-09T12:40:00.408000Z"
    },
    "tags": []
   },
   "outputs": [],
   "source": [
    "unique_values_per_cookie = data.groupby([\"hh_id\", \"iiqid\"])[[\"timestamp\", \"brand\", \"model\", \"os\", \"browser\"]].nunique()"
   ]
  },
  {
   "cell_type": "code",
   "execution_count": 11,
   "id": "42d788e0-09c8-4996-8939-41205a8970a4",
   "metadata": {
    "execution": {
     "iopub.execute_input": "2023-03-09T12:40:03.024959Z",
     "iopub.status.busy": "2023-03-09T12:40:03.024860Z",
     "iopub.status.idle": "2023-03-09T12:40:03.036954Z",
     "shell.execute_reply": "2023-03-09T12:40:03.036700Z",
     "shell.execute_reply.started": "2023-03-09T12:40:03.024949Z"
    },
    "tags": []
   },
   "outputs": [],
   "source": [
    "unique_values_per_cookie[\"sum\"] = unique_values_per_cookie.iloc[:,1:].sum(axis=1)"
   ]
  },
  {
   "cell_type": "code",
   "execution_count": 12,
   "id": "8522bb68-e8ba-4589-ade3-244ffeb972ca",
   "metadata": {
    "execution": {
     "iopub.execute_input": "2023-03-09T12:40:03.037558Z",
     "iopub.status.busy": "2023-03-09T12:40:03.037427Z",
     "iopub.status.idle": "2023-03-09T12:40:03.048844Z",
     "shell.execute_reply": "2023-03-09T12:40:03.048527Z",
     "shell.execute_reply.started": "2023-03-09T12:40:03.037549Z"
    },
    "tags": []
   },
   "outputs": [],
   "source": [
    "equal_4 = unique_values_per_cookie[unique_values_per_cookie[\"sum\"]==4]\n",
    "more_than_4 = unique_values_per_cookie[unique_values_per_cookie[\"sum\"]>4]"
   ]
  },
  {
   "cell_type": "code",
   "execution_count": 13,
   "id": "d2e8993f-3f2b-41cd-9c20-0deb6faf0265",
   "metadata": {
    "execution": {
     "iopub.execute_input": "2023-03-09T12:40:03.049886Z",
     "iopub.status.busy": "2023-03-09T12:40:03.049786Z",
     "iopub.status.idle": "2023-03-09T12:40:03.166323Z",
     "shell.execute_reply": "2023-03-09T12:40:03.165976Z",
     "shell.execute_reply.started": "2023-03-09T12:40:03.049878Z"
    },
    "tags": []
   },
   "outputs": [
    {
     "data": {
      "text/plain": [
       "Text(0.5, 1.0, 'Number of user agents assosiated with each cookie')"
      ]
     },
     "execution_count": 13,
     "metadata": {},
     "output_type": "execute_result"
    },
    {
     "data": {
      "image/png": "[encoded data removed]",
      "text/plain": [
       "<Figure size 1200x500 with 1 Axes>"
      ]
     },
     "metadata": {},
     "output_type": "display_data"
    }
   ],
   "source": [
    "plt.bar([\"Just One\", \"More Than One\"], [len(equal_4), len(more_than_4)])\n",
    "plt.title(\"Number of user agents assosiated with each cookie\")"
   ]
  },
  {
   "cell_type": "code",
   "execution_count": 53,
   "id": "0713cec6-ea59-4713-a77e-8b6f87acd65f",
   "metadata": {
    "execution": {
     "iopub.execute_input": "2023-03-09T12:51:35.215026Z",
     "iopub.status.busy": "2023-03-09T12:51:35.213620Z",
     "iopub.status.idle": "2023-03-09T12:51:36.027293Z",
     "shell.execute_reply": "2023-03-09T12:51:36.026829Z",
     "shell.execute_reply.started": "2023-03-09T12:51:35.214966Z"
    },
    "tags": []
   },
   "outputs": [],
   "source": [
    "column_pick = \"browser\"\n",
    "browser_counts = data.groupby([\"hh_id\", \"iiqid\"])[column_pick].value_counts()"
   ]
  },
  {
   "cell_type": "code",
   "execution_count": 54,
   "id": "a61b4dbf-9ed6-44ec-a587-ca42a6ffe47f",
   "metadata": {
    "execution": {
     "iopub.execute_input": "2023-03-09T12:51:36.028405Z",
     "iopub.status.busy": "2023-03-09T12:51:36.028301Z",
     "iopub.status.idle": "2023-03-09T12:51:36.055239Z",
     "shell.execute_reply": "2023-03-09T12:51:36.054835Z",
     "shell.execute_reply.started": "2023-03-09T12:51:36.028396Z"
    },
    "tags": []
   },
   "outputs": [],
   "source": [
    "unstacked_browser_counts = browser_counts.unstack(level=2).fillna(0).astype(int)"
   ]
  },
  {
   "cell_type": "code",
   "execution_count": 55,
   "id": "3fa95128-7d57-4418-893d-73d6938af8d7",
   "metadata": {
    "execution": {
     "iopub.execute_input": "2023-03-09T12:51:36.056113Z",
     "iopub.status.busy": "2023-03-09T12:51:36.056002Z",
     "iopub.status.idle": "2023-03-09T12:51:36.088359Z",
     "shell.execute_reply": "2023-03-09T12:51:36.088046Z",
     "shell.execute_reply.started": "2023-03-09T12:51:36.056097Z"
    },
    "tags": []
   },
   "outputs": [],
   "source": [
    "unstacked_browser_counts[\"mode\"] = unstacked_browser_counts.idxmax(axis=1)"
   ]
  },
  {
   "cell_type": "code",
   "execution_count": 56,
   "id": "520b36b6-05c9-4e9c-94d2-bd7c1a4019fc",
   "metadata": {
    "execution": {
     "iopub.execute_input": "2023-03-09T12:51:36.089569Z",
     "iopub.status.busy": "2023-03-09T12:51:36.089468Z",
     "iopub.status.idle": "2023-03-09T12:51:36.103316Z",
     "shell.execute_reply": "2023-03-09T12:51:36.102898Z",
     "shell.execute_reply.started": "2023-03-09T12:51:36.089560Z"
    },
    "tags": []
   },
   "outputs": [],
   "source": [
    "unstacked_browser_counts[\"total\"] = unstacked_browser_counts.select_dtypes('number').sum(axis=1)"
   ]
  },
  {
   "cell_type": "code",
   "execution_count": 57,
   "id": "82efd8bb-4df0-44a5-8a83-ec633b33b425",
   "metadata": {
    "execution": {
     "iopub.execute_input": "2023-03-09T12:51:36.103832Z",
     "iopub.status.busy": "2023-03-09T12:51:36.103740Z",
     "iopub.status.idle": "2023-03-09T12:51:36.307545Z",
     "shell.execute_reply": "2023-03-09T12:51:36.307178Z",
     "shell.execute_reply.started": "2023-03-09T12:51:36.103823Z"
    },
    "tags": []
   },
   "outputs": [],
   "source": [
    "def get_value(row):\n",
    "    return row[row['mode']]\n",
    "\n",
    "unstacked_browser_counts[\"mode_count\"] = unstacked_browser_counts.apply(get_value, axis=1)"
   ]
  },
  {
   "cell_type": "code",
   "execution_count": 58,
   "id": "dc2948ab-1136-4ec5-8a2d-97547787822b",
   "metadata": {
    "execution": {
     "iopub.execute_input": "2023-03-09T12:51:36.308141Z",
     "iopub.status.busy": "2023-03-09T12:51:36.308038Z",
     "iopub.status.idle": "2023-03-09T12:51:36.320075Z",
     "shell.execute_reply": "2023-03-09T12:51:36.319695Z",
     "shell.execute_reply.started": "2023-03-09T12:51:36.308132Z"
    },
    "tags": []
   },
   "outputs": [],
   "source": [
    "unstacked_browser_counts[\"mode_fraction\"] = unstacked_browser_counts[\"mode_count\"] / unstacked_browser_counts[\"total\"]"
   ]
  },
  {
   "cell_type": "code",
   "execution_count": 59,
   "id": "1822115b-ed81-48a9-bee4-d6b01515f8aa",
   "metadata": {
    "execution": {
     "iopub.execute_input": "2023-03-09T12:51:41.369391Z",
     "iopub.status.busy": "2023-03-09T12:51:41.368969Z",
     "iopub.status.idle": "2023-03-09T12:51:41.643394Z",
     "shell.execute_reply": "2023-03-09T12:51:41.643073Z",
     "shell.execute_reply.started": "2023-03-09T12:51:41.369362Z"
    },
    "tags": []
   },
   "outputs": [
    {
     "data": {
      "text/plain": [
       "Text(0.5, 1.0, 'Distribution of UA homogeneity per cookie')"
      ]
     },
     "execution_count": 59,
     "metadata": {},
     "output_type": "execute_result"
    },
    {
     "data": {
      "image/png": "[encoded data removed]",
      "text/plain": [
       "<Figure size 1200x500 with 1 Axes>"
      ]
     },
     "metadata": {},
     "output_type": "display_data"
    }
   ],
   "source": [
    "sns.histplot(data=unstacked_browser_counts, x=\"mode_fraction\", bins=50)\n",
    "plt.title(\"Distribution of UA homogeneity per cookie\")"
   ]
  },
  {
   "cell_type": "code",
   "execution_count": 73,
   "id": "53674d03-adee-4a29-814b-8a6df9551ecf",
   "metadata": {
    "execution": {
     "iopub.execute_input": "2023-03-09T13:16:27.957173Z",
     "iopub.status.busy": "2023-03-09T13:16:27.956712Z",
     "iopub.status.idle": "2023-03-09T13:16:28.180494Z",
     "shell.execute_reply": "2023-03-09T13:16:28.180020Z",
     "shell.execute_reply.started": "2023-03-09T13:16:27.957140Z"
    },
    "tags": []
   },
   "outputs": [
    {
     "data": {
      "text/plain": [
       "Text(0.5, 1.0, 'Distribution of UA homogeneity per cookie')"
      ]
     },
     "execution_count": 73,
     "metadata": {},
     "output_type": "execute_result"
    },
    {
     "data": {
      "image/png": "[encoded data removed]",
      "text/plain": [
       "<Figure size 1200x500 with 1 Axes>"
      ]
     },
     "metadata": {},
     "output_type": "display_data"
    }
   ],
   "source": [
    "sns.histplot(data=unstacked_browser_counts[unstacked_browser_counts[\"mode_fraction\"] < 1], x=\"mode_fraction\", bins=50)\n",
    "plt.title(\"Distribution of UA homogeneity per cookie\")"
   ]
  },
  {
   "cell_type": "markdown",
   "id": "5125f9ea-f64b-4a80-8aeb-00471f322db4",
   "metadata": {},
   "source": [
    "## ow many errors are they, if we exclude the mixed UA"
   ]
  },
  {
   "cell_type": "code",
   "execution_count": 97,
   "id": "3db5d2e5-60d5-472f-9ee8-b01d5bb3bdcf",
   "metadata": {
    "execution": {
     "iopub.execute_input": "2023-03-09T14:06:07.888918Z",
     "iopub.status.busy": "2023-03-09T14:06:07.888082Z",
     "iopub.status.idle": "2023-03-09T14:06:08.307949Z",
     "shell.execute_reply": "2023-03-09T14:06:08.307214Z",
     "shell.execute_reply.started": "2023-03-09T14:06:07.888860Z"
    },
    "tags": []
   },
   "outputs": [],
   "source": [
    "non_mixed_data = data[data[\"iiqid\"].isin(equal_4.index.get_level_values(1).to_list())]"
   ]
  },
  {
   "cell_type": "code",
   "execution_count": 99,
   "id": "f5085f34-7f3a-484d-a2b5-640b3b611ca7",
   "metadata": {
    "execution": {
     "iopub.execute_input": "2023-03-09T14:06:33.445480Z",
     "iopub.status.busy": "2023-03-09T14:06:33.444928Z",
     "iopub.status.idle": "2023-03-09T14:06:33.872894Z",
     "shell.execute_reply": "2023-03-09T14:06:33.872088Z",
     "shell.execute_reply.started": "2023-03-09T14:06:33.445441Z"
    },
    "tags": []
   },
   "outputs": [],
   "source": [
    "non_mixed_data = non_mixed_data.sort_values(by=\"time\")"
   ]
  },
  {
   "cell_type": "code",
   "execution_count": 100,
   "id": "5042be3b-dfb0-49e0-b044-b0de84b336f4",
   "metadata": {
    "execution": {
     "iopub.execute_input": "2023-03-09T14:06:50.637059Z",
     "iopub.status.busy": "2023-03-09T14:06:50.635894Z",
     "iopub.status.idle": "2023-03-09T14:06:51.063020Z",
     "shell.execute_reply": "2023-03-09T14:06:51.062620Z",
     "shell.execute_reply.started": "2023-03-09T14:06:50.636984Z"
    },
    "tags": []
   },
   "outputs": [],
   "source": [
    "non_mixed_data['prev_osversion'] = non_mixed_data.groupby(['hh_id', 'iiqid'])['osversion'].shift(1).fillna(\"0\")\n",
    "non_mixed_data['prev_browserversion'] = non_mixed_data.groupby(['hh_id', 'iiqid'])['browserversion'].shift(1).fillna(\"0.0.0.0\")"
   ]
  },
  {
   "cell_type": "code",
   "execution_count": 101,
   "id": "578b2a90-eaba-4740-8ca1-055d1333759b",
   "metadata": {
    "execution": {
     "iopub.execute_input": "2023-03-09T14:07:23.672658Z",
     "iopub.status.busy": "2023-03-09T14:07:23.671155Z",
     "iopub.status.idle": "2023-03-09T14:07:28.622960Z",
     "shell.execute_reply": "2023-03-09T14:07:28.622509Z",
     "shell.execute_reply.started": "2023-03-09T14:07:23.672582Z"
    },
    "tags": []
   },
   "outputs": [],
   "source": [
    "full_valid_rows = non_mixed_data[(np.vectorize(compare_versions)(non_mixed_data['osversion'], \n",
    "                                                         non_mixed_data['prev_osversion']) >= 0)\n",
    "                       & (np.vectorize(compare_versions)(non_mixed_data['browserversion'], \n",
    "                                                               non_mixed_data['prev_browserversion']) >= 0)]"
   ]
  },
  {
   "cell_type": "code",
   "execution_count": 102,
   "id": "fbf9c419-2c17-422e-a5e8-3d7775ed4d6d",
   "metadata": {
    "execution": {
     "iopub.execute_input": "2023-03-09T14:07:34.688760Z",
     "iopub.status.busy": "2023-03-09T14:07:34.687684Z",
     "iopub.status.idle": "2023-03-09T14:07:34.897778Z",
     "shell.execute_reply": "2023-03-09T14:07:34.897294Z",
     "shell.execute_reply.started": "2023-03-09T14:07:34.688710Z"
    },
    "tags": []
   },
   "outputs": [],
   "source": [
    "ok_rows_counts = full_valid_rows.groupby(['hh_id', 'iiqid']).size()"
   ]
  },
  {
   "cell_type": "code",
   "execution_count": 103,
   "id": "72231a7c-8ab5-430e-8403-6617a3db489b",
   "metadata": {
    "execution": {
     "iopub.execute_input": "2023-03-09T14:07:41.828649Z",
     "iopub.status.busy": "2023-03-09T14:07:41.827828Z",
     "iopub.status.idle": "2023-03-09T14:07:42.014104Z",
     "shell.execute_reply": "2023-03-09T14:07:42.013614Z",
     "shell.execute_reply.started": "2023-03-09T14:07:41.828587Z"
    },
    "tags": []
   },
   "outputs": [],
   "source": [
    "total_rows_counts = non_mixed_data.groupby(['hh_id', 'iiqid']).size()"
   ]
  },
  {
   "cell_type": "code",
   "execution_count": 104,
   "id": "5c6c31ae-0ddf-4f3f-acc2-3bef35e5b2a9",
   "metadata": {
    "execution": {
     "iopub.execute_input": "2023-03-09T14:07:43.378646Z",
     "iopub.status.busy": "2023-03-09T14:07:43.378137Z",
     "iopub.status.idle": "2023-03-09T14:07:43.414794Z",
     "shell.execute_reply": "2023-03-09T14:07:43.414252Z",
     "shell.execute_reply.started": "2023-03-09T14:07:43.378615Z"
    },
    "tags": []
   },
   "outputs": [],
   "source": [
    "all_ok = ok_rows_counts.eq(total_rows_counts)"
   ]
  },
  {
   "cell_type": "code",
   "execution_count": 105,
   "id": "75ddbd44-f4c9-4e57-a2e2-54413ff5769a",
   "metadata": {
    "execution": {
     "iopub.execute_input": "2023-03-09T14:07:51.338626Z",
     "iopub.status.busy": "2023-03-09T14:07:51.337702Z",
     "iopub.status.idle": "2023-03-09T14:07:51.381993Z",
     "shell.execute_reply": "2023-03-09T14:07:51.381423Z",
     "shell.execute_reply.started": "2023-03-09T14:07:51.338558Z"
    },
    "tags": []
   },
   "outputs": [],
   "source": [
    "result = pd.concat([total_rows_counts, all_ok], axis=1)\n",
    "result.columns = ['instances','ok'] "
   ]
  },
  {
   "cell_type": "code",
   "execution_count": 107,
   "id": "c0636171-df12-4988-9ecc-91303ad8d770",
   "metadata": {
    "execution": {
     "iopub.execute_input": "2023-03-09T14:07:56.406957Z",
     "iopub.status.busy": "2023-03-09T14:07:56.406466Z",
     "iopub.status.idle": "2023-03-09T14:07:56.640181Z",
     "shell.execute_reply": "2023-03-09T14:07:56.639673Z",
     "shell.execute_reply.started": "2023-03-09T14:07:56.406925Z"
    },
    "tags": []
   },
   "outputs": [
    {
     "data": {
      "text/plain": [
       "<Axes: xlabel='ok', ylabel='count'>"
      ]
     },
     "execution_count": 107,
     "metadata": {},
     "output_type": "execute_result"
    },
    {
     "data": {
      "image/png": "[encoded data removed]",
      "text/plain": [
       "<Figure size 1200x500 with 1 Axes>"
      ]
     },
     "metadata": {},
     "output_type": "display_data"
    }
   ],
   "source": [
    "sns.countplot(data=result, x='ok')"
   ]
  },
  {
   "cell_type": "code",
   "execution_count": 110,
   "id": "9401e369-1426-45eb-8819-b2936126cc55",
   "metadata": {
    "execution": {
     "iopub.execute_input": "2023-03-09T14:09:07.079099Z",
     "iopub.status.busy": "2023-03-09T14:09:07.073447Z",
     "iopub.status.idle": "2023-03-09T14:09:07.306154Z",
     "shell.execute_reply": "2023-03-09T14:09:07.305775Z",
     "shell.execute_reply.started": "2023-03-09T14:09:07.079003Z"
    },
    "tags": []
   },
   "outputs": [],
   "source": [
    "grouped = non_mixed_data.groupby(['hh_id', 'iiqid']).agg({'time': ['min', 'max']})"
   ]
  },
  {
   "cell_type": "code",
   "execution_count": 111,
   "id": "e507ef38-4a52-495c-bfac-bc387f2d9698",
   "metadata": {
    "execution": {
     "iopub.execute_input": "2023-03-09T14:09:07.635523Z",
     "iopub.status.busy": "2023-03-09T14:09:07.635001Z",
     "iopub.status.idle": "2023-03-09T14:09:07.670769Z",
     "shell.execute_reply": "2023-03-09T14:09:07.670257Z",
     "shell.execute_reply.started": "2023-03-09T14:09:07.635481Z"
    },
    "tags": []
   },
   "outputs": [],
   "source": [
    "grouped[\"lifespan\"] = grouped[(\"time\", \"max\")] - grouped[(\"time\", \"min\")]"
   ]
  },
  {
   "cell_type": "code",
   "execution_count": 112,
   "id": "7a371736-ab39-4a2d-bece-b50a5e3c9a88",
   "metadata": {
    "execution": {
     "iopub.execute_input": "2023-03-09T14:09:10.017554Z",
     "iopub.status.busy": "2023-03-09T14:09:10.016700Z",
     "iopub.status.idle": "2023-03-09T14:09:10.109349Z",
     "shell.execute_reply": "2023-03-09T14:09:10.109020Z",
     "shell.execute_reply.started": "2023-03-09T14:09:10.017479Z"
    },
    "tags": []
   },
   "outputs": [],
   "source": [
    "grouped[\"lifespan\"] = grouped[\"lifespan\"].apply(lambda t: t.days)"
   ]
  },
  {
   "cell_type": "code",
   "execution_count": 113,
   "id": "b13af126-d0d6-4db5-bbf6-5255faa9b2ac",
   "metadata": {
    "execution": {
     "iopub.execute_input": "2023-03-09T14:09:16.132310Z",
     "iopub.status.busy": "2023-03-09T14:09:16.131845Z",
     "iopub.status.idle": "2023-03-09T14:09:16.174296Z",
     "shell.execute_reply": "2023-03-09T14:09:16.173773Z",
     "shell.execute_reply.started": "2023-03-09T14:09:16.132275Z"
    },
    "tags": []
   },
   "outputs": [],
   "source": [
    "cookie_hhd_data = pd.concat([grouped, result], axis=1)\n",
    "cookie_hhd_data.columns = [\"time_min\", \"time_max\", \"lifespan\", \"instances\", \"ok\"]"
   ]
  },
  {
   "cell_type": "code",
   "execution_count": 114,
   "id": "b063516a-b314-45e4-a9de-95b15f3f14a0",
   "metadata": {
    "execution": {
     "iopub.execute_input": "2023-03-09T14:09:18.637351Z",
     "iopub.status.busy": "2023-03-09T14:09:18.636346Z",
     "iopub.status.idle": "2023-03-09T14:09:18.668392Z",
     "shell.execute_reply": "2023-03-09T14:09:18.667775Z",
     "shell.execute_reply.started": "2023-03-09T14:09:18.637282Z"
    },
    "tags": []
   },
   "outputs": [],
   "source": [
    "lifespan_order = [str(i) for i in range(84, -1, -1)]"
   ]
  },
  {
   "cell_type": "code",
   "execution_count": 115,
   "id": "e9024677-aa3c-4849-9d5b-5fe4690258e2",
   "metadata": {
    "execution": {
     "iopub.execute_input": "2023-03-09T14:09:29.178121Z",
     "iopub.status.busy": "2023-03-09T14:09:29.177380Z",
     "iopub.status.idle": "2023-03-09T14:09:29.508452Z",
     "shell.execute_reply": "2023-03-09T14:09:29.508152Z",
     "shell.execute_reply.started": "2023-03-09T14:09:29.178046Z"
    },
    "tags": []
   },
   "outputs": [
    {
     "data": {
      "image/png": "[encoded data removed]",
      "text/plain": [
       "<Figure size 1200x500 with 1 Axes>"
      ]
     },
     "metadata": {},
     "output_type": "display_data"
    }
   ],
   "source": [
    "sns.barplot(data=cookie_hhd_data, x=\"lifespan\", y=\"ok\", errorbar=None, order=list(reversed(range(0, 85))))\n",
    "plt.xticks(range(0, 85, 4));"
   ]
  },
  {
   "cell_type": "code",
   "execution_count": 129,
   "id": "5cc016f4-10e3-4531-ad41-cb77cd939dbd",
   "metadata": {
    "execution": {
     "iopub.execute_input": "2023-03-09T14:50:33.310543Z",
     "iopub.status.busy": "2023-03-09T14:50:33.309587Z",
     "iopub.status.idle": "2023-03-09T14:50:33.343577Z",
     "shell.execute_reply": "2023-03-09T14:50:33.343191Z",
     "shell.execute_reply.started": "2023-03-09T14:50:33.310469Z"
    },
    "tags": []
   },
   "outputs": [
    {
     "data": {
      "text/plain": [
       "0.005588064737202804"
      ]
     },
     "execution_count": 129,
     "metadata": {},
     "output_type": "execute_result"
    }
   ],
   "source": [
    "# cookie_hhd_data[\"instances\"].plot.hist()\n",
    "sum(cookie_hhd_data[\"instances\"] > 500) / len(cookie_hhd_data)"
   ]
  },
  {
   "cell_type": "code",
   "execution_count": 137,
   "id": "3582297a-ebb5-4026-a413-baa01094de3c",
   "metadata": {
    "execution": {
     "iopub.execute_input": "2023-03-09T14:53:48.103724Z",
     "iopub.status.busy": "2023-03-09T14:53:48.102286Z",
     "iopub.status.idle": "2023-03-09T14:53:50.754163Z",
     "shell.execute_reply": "2023-03-09T14:53:50.753803Z",
     "shell.execute_reply.started": "2023-03-09T14:53:48.103598Z"
    },
    "tags": []
   },
   "outputs": [
    {
     "data": {
      "text/plain": [
       "<Axes: xlabel='instances', ylabel='ok'>"
      ]
     },
     "execution_count": 137,
     "metadata": {},
     "output_type": "execute_result"
    },
    {
     "data": {
      "image/png": "[encoded data removed]",
      "text/plain": [
       "<Figure size 1200x500 with 1 Axes>"
      ]
     },
     "metadata": {},
     "output_type": "display_data"
    }
   ],
   "source": [
    "sns.barplot(data=cookie_hhd_data, x=\"instances\", y=\"ok\", errorbar=None) #, order=list(reversed(range(0, 85))))\n",
    "# plt.xticks(range(0, 500, 50))\n",
    "# plt.xlim(0, 500);"
   ]
  },
  {
   "cell_type": "code",
   "execution_count": 136,
   "id": "500d7dcc-c51f-4b8c-9f31-d53aa7cbcb58",
   "metadata": {
    "execution": {
     "iopub.execute_input": "2023-03-09T14:53:12.013051Z",
     "iopub.status.busy": "2023-03-09T14:53:12.011416Z",
     "iopub.status.idle": "2023-03-09T14:53:12.073073Z",
     "shell.execute_reply": "2023-03-09T14:53:12.072763Z",
     "shell.execute_reply.started": "2023-03-09T14:53:12.012971Z"
    },
    "tags": []
   },
   "outputs": [
    {
     "data": {
      "text/html": [
       "<div>\n",
       "<style scoped>\n",
       "    .dataframe tbody tr th:only-of-type {\n",
       "        vertical-align: middle;\n",
       "    }\n",
       "\n",
       "    .dataframe tbody tr th {\n",
       "        vertical-align: top;\n",
       "    }\n",
       "\n",
       "    .dataframe thead th {\n",
       "        text-align: right;\n",
       "    }\n",
       "</style>\n",
       "<table border=\"1\" class=\"dataframe\">\n",
       "  <thead>\n",
       "    <tr style=\"text-align: right;\">\n",
       "      <th></th>\n",
       "      <th></th>\n",
       "      <th>time_min</th>\n",
       "      <th>time_max</th>\n",
       "      <th>lifespan</th>\n",
       "      <th>instances</th>\n",
       "      <th>ok</th>\n",
       "    </tr>\n",
       "    <tr>\n",
       "      <th>hh_id</th>\n",
       "      <th>iiqid</th>\n",
       "      <th></th>\n",
       "      <th></th>\n",
       "      <th></th>\n",
       "      <th></th>\n",
       "      <th></th>\n",
       "    </tr>\n",
       "  </thead>\n",
       "  <tbody>\n",
       "    <tr>\n",
       "      <th rowspan=\"5\" valign=\"top\">008lj1AMI8</th>\n",
       "      <th>6MILYBoI9P</th>\n",
       "      <td>2022-12-06 20:30:42.973</td>\n",
       "      <td>2023-02-03 17:29:52.687</td>\n",
       "      <td>58</td>\n",
       "      <td>66</td>\n",
       "      <td>True</td>\n",
       "    </tr>\n",
       "    <tr>\n",
       "      <th>UVg62Vt8Va</th>\n",
       "      <td>2022-12-04 06:04:54.956</td>\n",
       "      <td>2023-02-03 22:48:53.120</td>\n",
       "      <td>61</td>\n",
       "      <td>41</td>\n",
       "      <td>True</td>\n",
       "    </tr>\n",
       "    <tr>\n",
       "      <th>WATS0P8zVm</th>\n",
       "      <td>2023-01-04 09:04:24.973</td>\n",
       "      <td>2023-02-08 09:39:50.615</td>\n",
       "      <td>35</td>\n",
       "      <td>156</td>\n",
       "      <td>True</td>\n",
       "    </tr>\n",
       "    <tr>\n",
       "      <th>mXwL7QCw5O</th>\n",
       "      <td>2022-12-02 17:01:54.895</td>\n",
       "      <td>2023-02-08 13:58:34.536</td>\n",
       "      <td>67</td>\n",
       "      <td>51</td>\n",
       "      <td>True</td>\n",
       "    </tr>\n",
       "    <tr>\n",
       "      <th>vjNRSKwlH4</th>\n",
       "      <td>2022-12-01 20:43:03.895</td>\n",
       "      <td>2023-01-05 06:20:52.917</td>\n",
       "      <td>34</td>\n",
       "      <td>28</td>\n",
       "      <td>True</td>\n",
       "    </tr>\n",
       "  </tbody>\n",
       "</table>\n",
       "</div>"
      ],
      "text/plain": [
       "                                     time_min                time_max  \\\n",
       "hh_id      iiqid                                                        \n",
       "008lj1AMI8 6MILYBoI9P 2022-12-06 20:30:42.973 2023-02-03 17:29:52.687   \n",
       "           UVg62Vt8Va 2022-12-04 06:04:54.956 2023-02-03 22:48:53.120   \n",
       "           WATS0P8zVm 2023-01-04 09:04:24.973 2023-02-08 09:39:50.615   \n",
       "           mXwL7QCw5O 2022-12-02 17:01:54.895 2023-02-08 13:58:34.536   \n",
       "           vjNRSKwlH4 2022-12-01 20:43:03.895 2023-01-05 06:20:52.917   \n",
       "\n",
       "                       lifespan  instances    ok  \n",
       "hh_id      iiqid                                  \n",
       "008lj1AMI8 6MILYBoI9P        58         66  True  \n",
       "           UVg62Vt8Va        61         41  True  \n",
       "           WATS0P8zVm        35        156  True  \n",
       "           mXwL7QCw5O        67         51  True  \n",
       "           vjNRSKwlH4        34         28  True  "
      ]
     },
     "execution_count": 136,
     "metadata": {},
     "output_type": "execute_result"
    }
   ],
   "source": [
    "cookie_hhd_data.head()"
   ]
  },
  {
   "cell_type": "code",
   "execution_count": 244,
   "id": "6e07fcce-51a3-419d-a723-175f0e4f921a",
   "metadata": {
    "execution": {
     "iopub.execute_input": "2023-03-09T15:05:49.495907Z",
     "iopub.status.busy": "2023-03-09T15:05:49.495191Z",
     "iopub.status.idle": "2023-03-09T15:05:49.650903Z",
     "shell.execute_reply": "2023-03-09T15:05:49.649839Z",
     "shell.execute_reply.started": "2023-03-09T15:05:49.495857Z"
    },
    "tags": []
   },
   "outputs": [],
   "source": [
    "found = False\n",
    "while not found:\n",
    "    one_cookie_sample = cookie_hhd_data[cookie_hhd_data[\"ok\"]==False].sample()\n",
    "    one_cookie_id = one_cookie_sample.index.get_level_values(1).values[0]\n",
    "    one_cookie_data = data[data[\"iiqid\"]==one_cookie_id]\n",
    "    browsers_of_cookie = one_cookie_data.browser.value_counts().sort_values(ascending=False)\n",
    "    if browsers_of_cookie.sum() > 25:\n",
    "        if len(browsers_of_cookie) == 1:\n",
    "            found = True"
   ]
  },
  {
   "cell_type": "code",
   "execution_count": 245,
   "id": "6b5d44c5-a514-462d-85c3-44687449d3f5",
   "metadata": {
    "execution": {
     "iopub.execute_input": "2023-03-09T15:05:49.854267Z",
     "iopub.status.busy": "2023-03-09T15:05:49.853851Z",
     "iopub.status.idle": "2023-03-09T15:05:49.886542Z",
     "shell.execute_reply": "2023-03-09T15:05:49.885783Z",
     "shell.execute_reply.started": "2023-03-09T15:05:49.854229Z"
    },
    "tags": []
   },
   "outputs": [],
   "source": [
    "ordered_versions = sorted(one_cookie_data.browserversion.unique(), key=cmp_to_key(compare_versions))"
   ]
  },
  {
   "cell_type": "code",
   "execution_count": 246,
   "id": "331394e4-e897-49b3-9cf9-6b0d46e4f0f3",
   "metadata": {
    "execution": {
     "iopub.execute_input": "2023-03-09T15:05:50.180905Z",
     "iopub.status.busy": "2023-03-09T15:05:50.180330Z",
     "iopub.status.idle": "2023-03-09T15:05:50.406682Z",
     "shell.execute_reply": "2023-03-09T15:05:50.406377Z",
     "shell.execute_reply.started": "2023-03-09T15:05:50.180859Z"
    },
    "tags": []
   },
   "outputs": [
    {
     "data": {
      "text/plain": [
       "Text(0.5, 1.0, \"Cookie's iiqid: uwMFDFZwoX\")"
      ]
     },
     "execution_count": 246,
     "metadata": {},
     "output_type": "execute_result"
    },
    {
     "data": {
      "image/png": "[encoded data removed]",
      "text/plain": [
       "<Figure size 1200x500 with 1 Axes>"
      ]
     },
     "metadata": {},
     "output_type": "display_data"
    }
   ],
   "source": [
    "sns.stripplot(data=one_cookie_data, x=\"time\", y=\"browserversion\", \n",
    "              order=ordered_versions[::-1], jitter=False)\n",
    "plt.title(f\"Cookie's iiqid: {one_cookie_id}\")"
   ]
  },
  {
   "cell_type": "code",
   "execution_count": 247,
   "id": "3fb63963-c5b6-488f-8dfa-8142f27ae267",
   "metadata": {
    "execution": {
     "iopub.execute_input": "2023-03-09T15:06:18.487236Z",
     "iopub.status.busy": "2023-03-09T15:06:18.485752Z",
     "iopub.status.idle": "2023-03-09T15:06:18.558302Z",
     "shell.execute_reply": "2023-03-09T15:06:18.557806Z",
     "shell.execute_reply.started": "2023-03-09T15:06:18.487167Z"
    },
    "tags": []
   },
   "outputs": [],
   "source": [
    "one_cookie_data.to_csv(\"another_example_for_version_noise.csv\")"
   ]
  },
  {
   "cell_type": "code",
   "execution_count": null,
   "id": "c4bf254d-fe06-4e1a-b980-eaf0cf82f702",
   "metadata": {},
   "outputs": [],
   "source": []
  }
 ],
 "metadata": {
  "kernelspec": {
   "display_name": "Python 3 (ipykernel)",
   "language": "python",
   "name": "python3"
  },
  "language_info": {
   "codemirror_mode": {
    "name": "ipython",
    "version": 3
   },
   "file_extension": ".py",
   "mimetype": "text/x-python",
   "name": "python",
   "nbconvert_exporter": "python",
   "pygments_lexer": "ipython3",
   "version": "3.10.10"
  }
 },
 "nbformat": 4,
 "nbformat_minor": 5
}
