{
 "cells": [
  {
   "cell_type": "code",
   "execution_count": 1,
   "id": "884671c8-fbec-4809-8eed-c2076eaba747",
   "metadata": {
    "tags": []
   },
   "outputs": [],
   "source": [
    "import numpy as np\n",
    "import pandas as pd"
   ]
  },
  {
   "cell_type": "code",
   "execution_count": 33,
   "id": "7f2921a8-6190-48d0-aa45-d9ad99405ba5",
   "metadata": {
    "tags": []
   },
   "outputs": [],
   "source": [
    "import unittest"
   ]
  },
  {
   "cell_type": "code",
   "execution_count": 34,
   "id": "bb6eaa16-695c-435a-b6fc-936dc01fd8a8",
   "metadata": {
    "tags": []
   },
   "outputs": [],
   "source": [
    "import itertools"
   ]
  },
  {
   "cell_type": "code",
   "execution_count": 3,
   "id": "946423e3-710b-4d5b-adef-3bd9b8565a8c",
   "metadata": {
    "tags": []
   },
   "outputs": [],
   "source": [
    "import seaborn as sns\n",
    "import matplotlib.pyplot as plt"
   ]
  },
  {
   "cell_type": "code",
   "execution_count": 4,
   "id": "195740a1-37a4-4144-9889-bdab56ad94ba",
   "metadata": {
    "tags": []
   },
   "outputs": [],
   "source": [
    "sns.set(rc={'figure.figsize':(13,5)})"
   ]
  },
  {
   "cell_type": "markdown",
   "id": "7373eaed-d3d2-42e1-8d82-c928a95a9652",
   "metadata": {},
   "source": [
    "1. A->constant UA = B-> constant UA\n",
    "2. A->changing(version) UA <= B-> changing(version)UA\n",
    "3. A and B were in the same IP/routers (we currently still work with ips so we need to make sure the ip didnt jump and we are actually looking at two different routers. this is important because we can see two cookies that are actually in different routers and not actually connected at all but think that they are)\n",
    "4. A stopped appearing in any ip before B started appearing for the first time"
   ]
  },
  {
   "cell_type": "code",
   "execution_count": 5,
   "id": "debd836c-8e14-4a0d-9a43-60a107f0ac77",
   "metadata": {
    "tags": []
   },
   "outputs": [],
   "source": [
    "def versions_key(versions_series):\n",
    "    expanded = versions_series.str.split('.', expand=True).fillna(value='0').astype(int)\n",
    "    return (expanded.iloc[:,::-1] * [10**i for i in range(0, len(expanded.columns))]).sum(axis=1)"
   ]
  },
  {
   "cell_type": "code",
   "execution_count": 6,
   "id": "f3d4ef6c-45da-4f6a-ad85-9d86175d5e09",
   "metadata": {
    "tags": []
   },
   "outputs": [],
   "source": [
    "def trim_version(version):\n",
    "    parts = version.split('.')\n",
    "    last_nonzero_part = len(parts)\n",
    "    found_non_zero = False\n",
    "    for i in range(len(parts)-1, -1, -1):\n",
    "        if int(parts[i]) != 0:\n",
    "            last_nonzero_part = i+1\n",
    "            found_non_zero = True\n",
    "            break\n",
    "    trimmed_parts = parts[:last_nonzero_part]\n",
    "    return trimmed_parts if found_non_zero else ['0']\n",
    "\n",
    "\n",
    "def compare_versions(version1, version2):    \n",
    "    # split and remove trailing zeros, as we treat them as 'unkown'\n",
    "    v1 = trim_version(version1)\n",
    "    v2 = trim_version(version2)\n",
    "    \n",
    "    len1, len2 = len(v1), len(v2)\n",
    "    i = 0\n",
    "    \n",
    "    while i < len1 or i < len2:\n",
    "        if i >= len1 or i >= len2:\n",
    "            return 0 # if one is a prefix of the other then for our purposes they are equal\n",
    "        \n",
    "        if int(v1[i]) < int(v2[i]):\n",
    "            return -1  # version 1 is less than version 2\n",
    "        elif int(v1[i]) > int(v2[i]):\n",
    "            return 1   # version 1 is greater than version 2\n",
    "        \n",
    "        i += 1\n",
    "    \n",
    "    return 0  # version 1 is equal to version 2"
   ]
  },
  {
   "cell_type": "code",
   "execution_count": 7,
   "id": "65abd2df-b0b7-4078-8d44-ea8b58a51a2a",
   "metadata": {
    "tags": []
   },
   "outputs": [],
   "source": [
    "class TestVersionFunctions(unittest.TestCase):\n",
    "    \n",
    "    def test_trim_version(self):\n",
    "        self.assertEqual(trim_version('1.0.0'), ['1'])\n",
    "        self.assertEqual(trim_version('1.2.3.0'), ['1','2','3'])\n",
    "        self.assertEqual(trim_version('0'), ['0'])\n",
    "        self.assertEqual(trim_version('0.0.0.0'), ['0'])\n",
    "        self.assertEqual(trim_version('10.0'), ['10'])\n",
    "        self.assertEqual(trim_version('1.2.3.4.5.6.7.8.9'), ['1','2','3','4','5','6','7','8','9'])\n",
    "        \n",
    "    def test_compare_versions(self):\n",
    "        self.assertEqual(compare_versions('1', '2'), -1)\n",
    "        self.assertEqual(compare_versions('1.0.0', '1.0'), 0)\n",
    "        self.assertEqual(compare_versions('1.2.3', '1.2.3.0'), 0)\n",
    "        self.assertEqual(compare_versions('1.2.3', '1.2.2'), 1)\n",
    "        self.assertEqual(compare_versions('2.3.4', '1.3.4'), 1)\n",
    "        self.assertEqual(compare_versions('1.2.3', '1.2.4'), -1)\n",
    "        self.assertEqual(compare_versions('1.2.3', '1.2.3.4'), 0)\n",
    "        self.assertEqual(compare_versions('1.2.3.4', '1.2.3'), 0)\n",
    "        self.assertEqual(compare_versions('1.2.3.4', '1.2.3.4'), 0)\n",
    "        self.assertEqual(compare_versions('0', '0.0'), 0)\n",
    "        self.assertEqual(compare_versions('108.0.0.0', '108.1.5.3'), 0)\n",
    "        self.assertEqual(compare_versions('108.3', '108.2.3.1'), 1)\n"
   ]
  },
  {
   "cell_type": "code",
   "execution_count": 8,
   "id": "3f2554ee-b719-4528-ab05-cd7b5acc1c90",
   "metadata": {
    "tags": []
   },
   "outputs": [
    {
     "name": "stderr",
     "output_type": "stream",
     "text": [
      "test_compare_versions (__main__.TestVersionFunctions) ... ok\n",
      "test_trim_version (__main__.TestVersionFunctions) ... ok\n",
      "\n",
      "----------------------------------------------------------------------\n",
      "Ran 2 tests in 0.001s\n",
      "\n",
      "OK\n"
     ]
    },
    {
     "data": {
      "text/plain": [
       "<unittest.main.TestProgram at 0x16c0d0760>"
      ]
     },
     "execution_count": 8,
     "metadata": {},
     "output_type": "execute_result"
    }
   ],
   "source": [
    "unittest.main(argv=[''], verbosity=2, exit=False)"
   ]
  },
  {
   "cell_type": "code",
   "execution_count": 9,
   "id": "734b321a-c53c-4986-a7cd-767e8c78bca1",
   "metadata": {
    "tags": []
   },
   "outputs": [],
   "source": [
    "# class TestCompareVersions(unittest.TestCase):\n",
    "#     def test_equal_versions(self):\n",
    "#         self.assertEqual(compare_versions('1.2.3', '1.2.3'), 0)\n",
    "#         self.assertEqual(compare_versions('0.0.0', '0.0.0'), 0)\n",
    "#         self.assertEqual(compare_versions('10.20.30', '10.20.30'), 0)\n",
    "        \n",
    "#     def test_lesser_versions(self):\n",
    "#         self.assertEqual(compare_versions('1.2.3', '1.2.4'), -1)\n",
    "#         self.assertEqual(compare_versions('1.2.3', '1.3.0'), -1)\n",
    "#         self.assertEqual(compare_versions('1.2.3', '2.0.0'), -1)\n",
    "#         self.assertEqual(compare_versions('1.2.3', '1.2.4.5'), -1)\n",
    "        \n",
    "#     def test_greater_versions(self):\n",
    "#         self.assertEqual(compare_versions('1.2.4', '1.2.3'), 1)\n",
    "#         self.assertEqual(compare_versions('1.3.0', '1.2.3'), 1)\n",
    "#         self.assertEqual(compare_versions('2.0.0', '1.2.3'), 1)\n",
    "#         self.assertEqual(compare_versions('1.2.4.5', '1.2.3'), 1)\n",
    "        \n",
    "#     def test_prefix_versions(self):\n",
    "#         self.assertEqual(compare_versions('1.2', '1.2.0'), 0)\n",
    "#         self.assertEqual(compare_versions('1.2.0', '1.2'), 0)\n",
    "#         self.assertEqual(compare_versions('1.2', '1.2.3'), -1)\n",
    "#         self.assertEqual(compare_versions('1.2.3', '1.2'), 1)\n"
   ]
  },
  {
   "cell_type": "code",
   "execution_count": 10,
   "id": "89762ad0-a570-4ae9-ba28-9e6fa50c96d9",
   "metadata": {
    "tags": []
   },
   "outputs": [],
   "source": [
    "# unittest.main(argv=[''], verbosity=2, exit=False)"
   ]
  },
  {
   "cell_type": "code",
   "execution_count": 11,
   "id": "4338cab9-0450-4256-88b1-a8fc0246e805",
   "metadata": {
    "tags": []
   },
   "outputs": [],
   "source": [
    "def constUA(row):\n",
    "    return row[['brand','model', 'os', 'browser', 'advertisedbrowser']]\n",
    "\n",
    "def constUAconsistent(row1, row2):\n",
    "    return constUA(row1).equals(constUA(row2))\n",
    "\n",
    "def changinUAconsistent(row1, row2):\n",
    "    os_consistent = compare_versions(row1['osversion'], row2['osversion']) <= 0\n",
    "    browser_consistent = compare_versions(row1['browserversion'], row2['browserversion']) <= 0\n",
    "    return os_consistent and browser_consistent\n",
    "                          \n",
    "def time_intersection(row1, row2):\n",
    "    row1['timestamp'] < row2['timestamp']"
   ]
  },
  {
   "cell_type": "code",
   "execution_count": 12,
   "id": "6a2a8c4c-59d2-4fa1-8115-11f4fa66cc26",
   "metadata": {
    "tags": []
   },
   "outputs": [],
   "source": [
    "def candidate_cookies(df, cookie1, cookie2):\n",
    "    df_cookie1 = df[df['iiqid'] == cookie1]\n",
    "    df_cookie2 = df[df['iiqid'] == cookie2]\n",
    "    first_ck1, last_ck1 = df_cookie1.iloc[df_cookie1['timestamp'].argmin()], df_cookie1.iloc[df_cookie1['timestamp'].argmax()]\n",
    "    first_ck2, last_ck2 = df_cookie2.iloc[df_cookie2['timestamp'].argmin()], df_cookie2.iloc[df_cookie2['timestamp'].argmax()]\n",
    "    if last_ck1['timestamp'] < first_ck2['timestamp']:\n",
    "        # print(f\"constUAconsistent: {constUAconsistent(last_ck1, first_ck2)}\")   \n",
    "        # print(f\"changinUAconsistent: {changinUAconsistent(last_ck1, first_ck2)}\")\n",
    "        return constUAconsistent(last_ck1, first_ck2) and   changinUAconsistent(last_ck1, first_ck2)\n",
    "    elif first_ck1['timestamp'] > last_ck2['timestamp']:\n",
    "        # print(f\"constUAconsistent: {constUAconsistent(first_ck1, last_ck2)}\")\n",
    "        # print(f\"changinUAconsistent: {changinUAconsistent(first_ck1, last_ck2)}\")\n",
    "        return constUAconsistent(first_ck1, last_ck2) and   changinUAconsistent(first_ck1, last_ck2)\n",
    "        \n",
    "    return False"
   ]
  },
  {
   "cell_type": "markdown",
   "id": "2c108d0c-30b6-443d-bb14-ebd962b85f45",
   "metadata": {
    "tags": []
   },
   "source": [
    "## Find Simple Cases"
   ]
  },
  {
   "cell_type": "code",
   "execution_count": 13,
   "id": "0e8bd47b-97a3-4caa-b55b-f2db171e867f",
   "metadata": {
    "tags": []
   },
   "outputs": [],
   "source": [
    "data = pd.read_csv(\"houses1000.csv\")"
   ]
  },
  {
   "cell_type": "code",
   "execution_count": 14,
   "id": "262b8f56-fcde-4403-b7fc-9cc6fc0cc267",
   "metadata": {
    "tags": []
   },
   "outputs": [],
   "source": [
    "needed_columns = ['timestamp', 'maid', 'hh_id','iiqid', 'partner_id', 'ip', 'iscellip',\n",
    "       'cellispid', 'domain','is_house_ip_or_source_ip', 'brand', 'model', 'os', 'osversion',\n",
    "       'browser', 'advertisedbrowser', 'browserversion', 'type', 'is_best_ip']\n",
    "unnecessary_columns = [c for c in data.columns if c not in needed_columns]"
   ]
  },
  {
   "cell_type": "code",
   "execution_count": 15,
   "id": "95b247a4-4753-49fc-8fd7-acf18964fde0",
   "metadata": {
    "tags": []
   },
   "outputs": [],
   "source": [
    "data.drop(unnecessary_columns, axis=1, inplace=True)"
   ]
  },
  {
   "cell_type": "code",
   "execution_count": 16,
   "id": "25958c9c-48e0-4381-93cd-e6ff67b1eec9",
   "metadata": {
    "tags": []
   },
   "outputs": [],
   "source": [
    "third_parties = data[(data['maid'] == 4) | (data['maid'] == 7)]"
   ]
  },
  {
   "cell_type": "code",
   "execution_count": 17,
   "id": "51081592-d1e8-4d78-a346-d3572f461d53",
   "metadata": {
    "tags": []
   },
   "outputs": [
    {
     "data": {
      "text/plain": [
       "990"
      ]
     },
     "execution_count": 17,
     "metadata": {},
     "output_type": "execute_result"
    }
   ],
   "source": [
    "third_parties['hh_id'].nunique()"
   ]
  },
  {
   "cell_type": "code",
   "execution_count": 18,
   "id": "8f6e4021-a70b-4a88-bb54-224912cd3f3a",
   "metadata": {
    "tags": []
   },
   "outputs": [
    {
     "name": "stderr",
     "output_type": "stream",
     "text": [
      "/var/folders/nw/8w_76z_n6fz418hmsps2_rq40000gn/T/ipykernel_76847/4172549046.py:1: SettingWithCopyWarning: \n",
      "A value is trying to be set on a copy of a slice from a DataFrame.\n",
      "Try using .loc[row_indexer,col_indexer] = value instead\n",
      "\n",
      "See the caveats in the documentation: https://pandas.pydata.org/pandas-docs/stable/user_guide/indexing.html#returning-a-view-versus-a-copy\n",
      "  third_parties['time'] = pd.to_datetime(third_parties['timestamp'], unit='ms')\n"
     ]
    }
   ],
   "source": [
    "third_parties['time'] = pd.to_datetime(third_parties['timestamp'], unit='ms')"
   ]
  },
  {
   "cell_type": "code",
   "execution_count": 19,
   "id": "06e8eb00-6772-42c8-bc89-9d724022ff67",
   "metadata": {
    "tags": []
   },
   "outputs": [],
   "source": [
    "third_parties = third_parties.dropna()"
   ]
  },
  {
   "cell_type": "markdown",
   "id": "7d951dec-fa36-4789-9362-d9b19e91afc7",
   "metadata": {},
   "source": [
    "### Find Those Examples"
   ]
  },
  {
   "cell_type": "code",
   "execution_count": 104,
   "id": "86a17fa1-ead1-4efa-bd0b-2adb4af58daa",
   "metadata": {
    "tags": []
   },
   "outputs": [
    {
     "name": "stdout",
     "output_type": "stream",
     "text": [
      "Found!\n"
     ]
    }
   ],
   "source": [
    "tuple_size = 3\n",
    "\n",
    "found = False\n",
    "while not found:\n",
    "    random_hh_id = np.random.choice(third_parties['hh_id'])\n",
    "    random_h = third_parties[third_parties['hh_id']==random_hh_id]\n",
    "    if random_h['iiqid'].nunique() > 1:\n",
    "        for cookie_tuple in itertools.combinations(random_h['iiqid'].unique(), r=tuple_size):\n",
    "            # print(pair)\n",
    "            test_first_pair = candidate_cookies(random_h, cookie_tuple[0], cookie_tuple[1])\n",
    "            test_second_pair = candidate_cookies(random_h, cookie_tuple[1], cookie_tuple[2])\n",
    "            if test_first_pair and test_second_pair:\n",
    "                print(\"Found!\")\n",
    "                found = True\n",
    "                break"
   ]
  },
  {
   "cell_type": "code",
   "execution_count": 105,
   "id": "2b67c9fe-4c78-4380-b5ac-47df5942c3e4",
   "metadata": {
    "tags": []
   },
   "outputs": [
    {
     "data": {
      "text/plain": [
       "('cJGuTfdF5a', '4YN99ETHeS', 'fF5PJD1txu')"
      ]
     },
     "execution_count": 105,
     "metadata": {},
     "output_type": "execute_result"
    }
   ],
   "source": [
    "cookie_tuple"
   ]
  },
  {
   "cell_type": "code",
   "execution_count": 106,
   "id": "8341dc9b-6f79-41d8-930e-1c2a109de130",
   "metadata": {},
   "outputs": [],
   "source": [
    "cookie_data = random_h[random_h['iiqid'].isin(cookie_tuple)]\n",
    "most_frequent_browser = cookie_data['browser'].mode()[0]\n",
    "filtered_cookie_data = cookie_data[cookie_data['browser']==most_frequent_browser]"
   ]
  },
  {
   "cell_type": "code",
   "execution_count": 107,
   "id": "4c8ae979-853e-4c9f-9093-c9bd91b22734",
   "metadata": {
    "tags": []
   },
   "outputs": [
    {
     "data": {
      "text/plain": [
       "safari    9\n",
       "Name: browser, dtype: int64"
      ]
     },
     "execution_count": 107,
     "metadata": {},
     "output_type": "execute_result"
    }
   ],
   "source": [
    "cookie_data['browser'].value_counts()"
   ]
  },
  {
   "cell_type": "code",
   "execution_count": 108,
   "id": "61da147d-9ab0-4cb2-b65f-951b6ce5559c",
   "metadata": {
    "tags": []
   },
   "outputs": [
    {
     "data": {
      "text/plain": [
       "<seaborn.axisgrid.FacetGrid at 0x16c97bd30>"
      ]
     },
     "execution_count": 108,
     "metadata": {},
     "output_type": "execute_result"
    },
    {
     "data": {
      "image/png": "[encoded data removed]",
      "text/plain": [
       "<Figure size 1050.38x500 with 1 Axes>"
      ]
     },
     "metadata": {},
     "output_type": "display_data"
    }
   ],
   "source": [
    "sns.catplot(data=filtered_cookie_data, x='time', y='browserversion', \n",
    "            hue='iiqid', kind='strip', legend_out=True, height=5, aspect=1.8) #, size=2)"
   ]
  },
  {
   "cell_type": "code",
   "execution_count": 109,
   "id": "79ca7694-bcb0-4f27-810c-3a44c747abb0",
   "metadata": {
    "tags": []
   },
   "outputs": [],
   "source": [
    "# from functools import cmp_to_key"
   ]
  },
  {
   "cell_type": "code",
   "execution_count": 110,
   "id": "0361af70-b60e-45c7-8e07-c2b483779126",
   "metadata": {
    "tags": []
   },
   "outputs": [],
   "source": [
    "sorted_cookies = filtered_cookie_data.sort_values(by='browserversion', key=versions_key, ascending=False)"
   ]
  },
  {
   "cell_type": "code",
   "execution_count": 111,
   "id": "7aad943d-7bf3-46f7-a1eb-3c474dd79787",
   "metadata": {
    "tags": []
   },
   "outputs": [
    {
     "data": {
      "text/plain": [
       "<seaborn.axisgrid.FacetGrid at 0x16c192d70>"
      ]
     },
     "execution_count": 111,
     "metadata": {},
     "output_type": "execute_result"
    },
    {
     "data": {
      "image/png": "[encoded data removed]",
      "text/plain": [
       "<Figure size 1050.38x500 with 1 Axes>"
      ]
     },
     "metadata": {},
     "output_type": "display_data"
    }
   ],
   "source": [
    "sns.catplot(data=filtered_cookie_data, x='time', y='browserversion', \n",
    "            hue='iiqid', kind='strip', order=sorted_cookies.browserversion, legend_out=True, height=5, aspect=1.8)"
   ]
  },
  {
   "cell_type": "code",
   "execution_count": null,
   "id": "a7817a4a-3283-4ae2-9fc0-8ed4f11d25d0",
   "metadata": {},
   "outputs": [],
   "source": []
  }
 ],
 "metadata": {
  "kernelspec": {
   "display_name": "Python 3 (ipykernel)",
   "language": "python",
   "name": "python3"
  },
  "language_info": {
   "codemirror_mode": {
    "name": "ipython",
    "version": 3
   },
   "file_extension": ".py",
   "mimetype": "text/x-python",
   "name": "python",
   "nbconvert_exporter": "python",
   "pygments_lexer": "ipython3",
   "version": "3.10.10"
  },
  "toc-autonumbering": false
 },
 "nbformat": 4,
 "nbformat_minor": 5
}
