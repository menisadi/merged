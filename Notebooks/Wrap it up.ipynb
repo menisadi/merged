{
 "cells": [
  {
   "cell_type": "markdown",
   "id": "0fe6b615-8a6d-444f-bc38-c3c0abf5604e",
   "metadata": {},
   "source": [
    "# Comparing Random vs Non Random data"
   ]
  },
  {
   "cell_type": "code",
   "execution_count": 1,
   "id": "739bdbdc-e983-4e12-9d79-3f786b6d397e",
   "metadata": {
    "execution": {
     "iopub.execute_input": "2023-03-28T05:43:18.325347Z",
     "iopub.status.busy": "2023-03-28T05:43:18.324036Z",
     "iopub.status.idle": "2023-03-28T05:43:20.663270Z",
     "shell.execute_reply": "2023-03-28T05:43:20.662981Z",
     "shell.execute_reply.started": "2023-03-28T05:43:18.325303Z"
    },
    "tags": []
   },
   "outputs": [],
   "source": [
    "import numpy as np\n",
    "import pandas as pd\n",
    "import seaborn as sns\n",
    "import matplotlib.pyplot as plt\n",
    "sns.set(rc={'figure.figsize':(12,5)})\n",
    "%load_ext autoreload\n",
    "%autoreload 2"
   ]
  },
  {
   "cell_type": "code",
   "execution_count": 2,
   "id": "0e5094a7-af1c-4399-af54-f7201b16bf2e",
   "metadata": {
    "execution": {
     "iopub.execute_input": "2023-03-28T05:43:20.664841Z",
     "iopub.status.busy": "2023-03-28T05:43:20.664679Z",
     "iopub.status.idle": "2023-03-28T05:43:20.706313Z",
     "shell.execute_reply": "2023-03-28T05:43:20.705961Z",
     "shell.execute_reply.started": "2023-03-28T05:43:20.664831Z"
    },
    "tags": []
   },
   "outputs": [],
   "source": [
    "import re\n",
    "# from tqdm import tqdm\n",
    "from tqdm.notebook import trange, tqdm"
   ]
  },
  {
   "cell_type": "code",
   "execution_count": 3,
   "id": "3050fb28-40bd-438f-acbe-a73806ef1ddb",
   "metadata": {
    "execution": {
     "iopub.execute_input": "2023-03-28T05:43:20.706991Z",
     "iopub.status.busy": "2023-03-28T05:43:20.706852Z",
     "iopub.status.idle": "2023-03-28T05:43:20.721226Z",
     "shell.execute_reply": "2023-03-28T05:43:20.720940Z",
     "shell.execute_reply.started": "2023-03-28T05:43:20.706982Z"
    },
    "tags": []
   },
   "outputs": [],
   "source": [
    "import sys\n",
    "import os\n",
    "sys.path.append(os.path.abspath('../modules'))\n",
    "from lnds import longest_non_decreasing_subsequence as lnds\n",
    "from hard_rules import denoised_fraction, version_serializtion\n"
   ]
  },
  {
   "cell_type": "code",
   "execution_count": 124,
   "id": "3d5100ac-93e2-40ef-ba57-c2d2216f61fd",
   "metadata": {
    "execution": {
     "iopub.execute_input": "2023-03-28T07:32:34.941787Z",
     "iopub.status.busy": "2023-03-28T07:32:34.940074Z",
     "iopub.status.idle": "2023-03-28T07:32:39.648301Z",
     "shell.execute_reply": "2023-03-28T07:32:39.647591Z",
     "shell.execute_reply.started": "2023-03-28T07:32:34.941715Z"
    },
    "tags": []
   },
   "outputs": [],
   "source": [
    "data = pd.read_parquet(\"../Data/random_10k.parquet\")"
   ]
  },
  {
   "cell_type": "code",
   "execution_count": 125,
   "id": "97b8dfd4-c757-4e79-b067-f5cf3321d9be",
   "metadata": {
    "execution": {
     "iopub.execute_input": "2023-03-28T07:32:39.649744Z",
     "iopub.status.busy": "2023-03-28T07:32:39.649572Z",
     "iopub.status.idle": "2023-03-28T07:32:41.012512Z",
     "shell.execute_reply": "2023-03-28T07:32:41.011589Z",
     "shell.execute_reply.started": "2023-03-28T07:32:39.649728Z"
    },
    "tags": []
   },
   "outputs": [],
   "source": [
    "data = data[data[\"maid\"]=='7']"
   ]
  },
  {
   "cell_type": "markdown",
   "id": "2793046e-ba8b-45d4-944a-90719a9a4392",
   "metadata": {},
   "source": [
    "## Filtering\n",
    "1. Non houses \n",
    "2. Cookies with mixed constant \n",
    "3. Cookies which are assigned to a house which they do not apepar in"
   ]
  },
  {
   "cell_type": "code",
   "execution_count": 128,
   "id": "d3bfbf03-0a7a-428a-8975-0897b57c41a8",
   "metadata": {
    "execution": {
     "iopub.execute_input": "2023-03-28T07:33:00.597484Z",
     "iopub.status.busy": "2023-03-28T07:33:00.596568Z",
     "iopub.status.idle": "2023-03-28T07:33:01.125686Z",
     "shell.execute_reply": "2023-03-28T07:33:01.116300Z",
     "shell.execute_reply.started": "2023-03-28T07:33:00.597415Z"
    },
    "tags": []
   },
   "outputs": [],
   "source": [
    "data = data[~data['is_hh']]"
   ]
  },
  {
   "cell_type": "code",
   "execution_count": 129,
   "id": "bc31925f-11d0-4de3-82eb-381456297a7b",
   "metadata": {
    "execution": {
     "iopub.execute_input": "2023-03-28T07:33:01.133178Z",
     "iopub.status.busy": "2023-03-28T07:33:01.132939Z",
     "iopub.status.idle": "2023-03-28T07:33:01.596686Z",
     "shell.execute_reply": "2023-03-28T07:33:01.596237Z",
     "shell.execute_reply.started": "2023-03-28T07:33:01.133155Z"
    },
    "tags": []
   },
   "outputs": [],
   "source": [
    "unique_values_per_cookie = data.groupby([\"hh_id\", \"iiqid\"])[[\"timestamp\", \"brand\", \"model\", \"os\", \"browser\", \"advertisedbrowser\"]].nunique()"
   ]
  },
  {
   "cell_type": "code",
   "execution_count": 130,
   "id": "a43c0706-a99d-4ad7-b351-1d84a2aa1c0b",
   "metadata": {
    "execution": {
     "iopub.execute_input": "2023-03-28T07:33:01.597670Z",
     "iopub.status.busy": "2023-03-28T07:33:01.597564Z",
     "iopub.status.idle": "2023-03-28T07:33:01.611349Z",
     "shell.execute_reply": "2023-03-28T07:33:01.611044Z",
     "shell.execute_reply.started": "2023-03-28T07:33:01.597661Z"
    },
    "tags": []
   },
   "outputs": [],
   "source": [
    "unique_values_per_cookie[\"sum\"] = unique_values_per_cookie.iloc[:,1:].sum(axis=1)"
   ]
  },
  {
   "cell_type": "code",
   "execution_count": 131,
   "id": "c46599e3-cdb4-4f9d-a117-c278c3fe1641",
   "metadata": {
    "execution": {
     "iopub.execute_input": "2023-03-28T07:33:01.611903Z",
     "iopub.status.busy": "2023-03-28T07:33:01.611815Z",
     "iopub.status.idle": "2023-03-28T07:33:01.626423Z",
     "shell.execute_reply": "2023-03-28T07:33:01.626065Z",
     "shell.execute_reply.started": "2023-03-28T07:33:01.611894Z"
    },
    "tags": []
   },
   "outputs": [],
   "source": [
    "equal_5 = unique_values_per_cookie[unique_values_per_cookie[\"sum\"]==5]\n",
    "more_than_5 = unique_values_per_cookie[unique_values_per_cookie[\"sum\"]>5]"
   ]
  },
  {
   "cell_type": "code",
   "execution_count": 132,
   "id": "a074e4c8-eefb-4074-adbb-7b87e7d0baaa",
   "metadata": {
    "execution": {
     "iopub.execute_input": "2023-03-28T07:33:01.627516Z",
     "iopub.status.busy": "2023-03-28T07:33:01.627387Z",
     "iopub.status.idle": "2023-03-28T07:33:01.640077Z",
     "shell.execute_reply": "2023-03-28T07:33:01.639703Z",
     "shell.execute_reply.started": "2023-03-28T07:33:01.627504Z"
    },
    "tags": []
   },
   "outputs": [],
   "source": [
    "mixed_iiqids = more_than_5.index.get_level_values(level=1).to_list()"
   ]
  },
  {
   "cell_type": "code",
   "execution_count": 133,
   "id": "b0843422-e8c3-4df2-b28a-9dee9bd2a59c",
   "metadata": {
    "execution": {
     "iopub.execute_input": "2023-03-28T07:33:01.760525Z",
     "iopub.status.busy": "2023-03-28T07:33:01.760333Z",
     "iopub.status.idle": "2023-03-28T07:33:01.911560Z",
     "shell.execute_reply": "2023-03-28T07:33:01.911177Z",
     "shell.execute_reply.started": "2023-03-28T07:33:01.760512Z"
    },
    "tags": []
   },
   "outputs": [],
   "source": [
    "data = data[~data['iiqid'].isin(mixed_iiqids)]"
   ]
  },
  {
   "cell_type": "code",
   "execution_count": 134,
   "id": "3f121e83-3e31-40a6-8620-740b1780cbe9",
   "metadata": {
    "execution": {
     "iopub.execute_input": "2023-03-28T07:33:01.912436Z",
     "iopub.status.busy": "2023-03-28T07:33:01.912314Z",
     "iopub.status.idle": "2023-03-28T07:33:01.952903Z",
     "shell.execute_reply": "2023-03-28T07:33:01.952592Z",
     "shell.execute_reply.started": "2023-03-28T07:33:01.912425Z"
    },
    "tags": []
   },
   "outputs": [],
   "source": [
    "misplaced_series = ~data.groupby('iiqid')['is_house_ip_or_source_ip'].any()\n",
    "misplaced_iiqids = misplaced_series[misplaced_series].index.values"
   ]
  },
  {
   "cell_type": "code",
   "execution_count": 135,
   "id": "19937e9d-2bda-491c-84f4-a0c6c50b70b6",
   "metadata": {
    "execution": {
     "iopub.execute_input": "2023-03-28T07:33:02.033859Z",
     "iopub.status.busy": "2023-03-28T07:33:02.033657Z",
     "iopub.status.idle": "2023-03-28T07:33:02.156755Z",
     "shell.execute_reply": "2023-03-28T07:33:02.156337Z",
     "shell.execute_reply.started": "2023-03-28T07:33:02.033844Z"
    },
    "tags": []
   },
   "outputs": [],
   "source": [
    "data = data[~data['iiqid'].isin(misplaced_iiqids)]"
   ]
  },
  {
   "cell_type": "markdown",
   "id": "41e84045-4584-450f-a490-b996ce937db0",
   "metadata": {},
   "source": [
    "## Creating relevant tables\n",
    "- Random pairs\n",
    "- Cookies time data\n",
    "- Cookies version noise data"
   ]
  },
  {
   "cell_type": "code",
   "execution_count": 136,
   "id": "334ed53f-ceb6-4b87-9adc-10d91a38c57e",
   "metadata": {
    "execution": {
     "iopub.execute_input": "2023-03-28T07:33:02.335836Z",
     "iopub.status.busy": "2023-03-28T07:33:02.335345Z",
     "iopub.status.idle": "2023-03-28T07:33:02.356618Z",
     "shell.execute_reply": "2023-03-28T07:33:02.356105Z",
     "shell.execute_reply.started": "2023-03-28T07:33:02.335801Z"
    },
    "tags": []
   },
   "outputs": [],
   "source": [
    "const = ['hh_id',\"brand\", \"model\", \"os\", \"browser\"]"
   ]
  },
  {
   "cell_type": "code",
   "execution_count": 137,
   "id": "f50ab241-cbdd-4259-beec-93c5d835f4cc",
   "metadata": {
    "execution": {
     "iopub.execute_input": "2023-03-28T07:33:02.485638Z",
     "iopub.status.busy": "2023-03-28T07:33:02.484876Z",
     "iopub.status.idle": "2023-03-28T07:33:02.515942Z",
     "shell.execute_reply": "2023-03-28T07:33:02.515190Z",
     "shell.execute_reply.started": "2023-03-28T07:33:02.485579Z"
    },
    "tags": []
   },
   "outputs": [],
   "source": [
    "def has_multiple_ua(house):\n",
    "    user_agents = house[const].drop_duplicates()\n",
    "    return len(user_agents) >= 2"
   ]
  },
  {
   "cell_type": "code",
   "execution_count": 234,
   "id": "e45efa30-facf-48d7-a3c9-20110268c979",
   "metadata": {
    "execution": {
     "iopub.execute_input": "2023-03-28T08:01:25.361910Z",
     "iopub.status.busy": "2023-03-28T08:01:25.360944Z",
     "iopub.status.idle": "2023-03-28T08:01:27.843634Z",
     "shell.execute_reply": "2023-03-28T08:01:27.842724Z",
     "shell.execute_reply.started": "2023-03-28T08:01:25.361851Z"
    },
    "tags": []
   },
   "outputs": [],
   "source": [
    "filtered = data.groupby('hh_id', observed=True).filter(has_multiple_ua)"
   ]
  },
  {
   "cell_type": "code",
   "execution_count": 235,
   "id": "ea15c44b-653e-48aa-8c60-201a09f84d52",
   "metadata": {
    "execution": {
     "iopub.execute_input": "2023-03-28T08:01:27.845132Z",
     "iopub.status.busy": "2023-03-28T08:01:27.844954Z",
     "iopub.status.idle": "2023-03-28T08:01:28.245078Z",
     "shell.execute_reply": "2023-03-28T08:01:28.244699Z",
     "shell.execute_reply.started": "2023-03-28T08:01:27.845118Z"
    },
    "tags": []
   },
   "outputs": [],
   "source": [
    "filtered_grouped_by = filtered.groupby(const, observed=True)\n",
    "filtered_grouped = filtered_grouped_by.agg({'iiqid': ['nunique', pd.Series.mode]})"
   ]
  },
  {
   "cell_type": "code",
   "execution_count": 236,
   "id": "8ebcb96a-30c3-437a-adcd-88d3a81d161c",
   "metadata": {
    "execution": {
     "iopub.execute_input": "2023-03-28T08:01:28.245746Z",
     "iopub.status.busy": "2023-03-28T08:01:28.245636Z",
     "iopub.status.idle": "2023-03-28T08:01:28.258345Z",
     "shell.execute_reply": "2023-03-28T08:01:28.258043Z",
     "shell.execute_reply.started": "2023-03-28T08:01:28.245737Z"
    },
    "tags": []
   },
   "outputs": [],
   "source": [
    "filtered_grouped.columns = ['nunique','iiqid']\n",
    "filtered_grouped = filtered_grouped[filtered_grouped['nunique'] == 1].drop('nunique', axis=1)"
   ]
  },
  {
   "cell_type": "code",
   "execution_count": 237,
   "id": "f7d1a6c3-7176-49b3-804e-748beebbab92",
   "metadata": {
    "execution": {
     "iopub.execute_input": "2023-03-28T08:01:28.259510Z",
     "iopub.status.busy": "2023-03-28T08:01:28.259412Z",
     "iopub.status.idle": "2023-03-28T08:01:28.270699Z",
     "shell.execute_reply": "2023-03-28T08:01:28.270372Z",
     "shell.execute_reply.started": "2023-03-28T08:01:28.259501Z"
    },
    "tags": []
   },
   "outputs": [],
   "source": [
    "grouped = filtered_grouped.iloc[:,0].drop_duplicates()"
   ]
  },
  {
   "cell_type": "code",
   "execution_count": 142,
   "id": "538ab1f8-9b2f-4ca6-acd5-36bfcc0ecfbb",
   "metadata": {
    "execution": {
     "iopub.execute_input": "2023-03-28T07:33:04.977752Z",
     "iopub.status.busy": "2023-03-28T07:33:04.977662Z",
     "iopub.status.idle": "2023-03-28T07:33:05.053354Z",
     "shell.execute_reply": "2023-03-28T07:33:05.052921Z",
     "shell.execute_reply.started": "2023-03-28T07:33:04.977744Z"
    },
    "tags": []
   },
   "outputs": [],
   "source": [
    "grouped = grouped.groupby(level=0, observed=True).filter(lambda g: g.nunique() > 1)"
   ]
  },
  {
   "cell_type": "code",
   "execution_count": 143,
   "id": "439a9d48-0395-4b66-9eba-54dc3789005b",
   "metadata": {
    "execution": {
     "iopub.execute_input": "2023-03-28T07:33:05.053920Z",
     "iopub.status.busy": "2023-03-28T07:33:05.053817Z",
     "iopub.status.idle": "2023-03-28T07:33:05.826134Z",
     "shell.execute_reply": "2023-03-28T07:33:05.825658Z",
     "shell.execute_reply.started": "2023-03-28T07:33:05.053911Z"
    },
    "tags": []
   },
   "outputs": [],
   "source": [
    "two_from_each_houe = grouped.groupby(observed=True, level=0, group_keys=False).apply(lambda g: g.sample(2))"
   ]
  },
  {
   "cell_type": "code",
   "execution_count": 144,
   "id": "a2ec24e9-8bc5-4328-af68-8b3f5ad16943",
   "metadata": {
    "execution": {
     "iopub.execute_input": "2023-03-28T07:33:05.826725Z",
     "iopub.status.busy": "2023-03-28T07:33:05.826626Z",
     "iopub.status.idle": "2023-03-28T07:33:05.839935Z",
     "shell.execute_reply": "2023-03-28T07:33:05.839624Z",
     "shell.execute_reply.started": "2023-03-28T07:33:05.826716Z"
    },
    "tags": []
   },
   "outputs": [],
   "source": [
    "trial_data = two_from_each_houe.reset_index()#.drop('hh_id', axis=1).reset_index()"
   ]
  },
  {
   "cell_type": "code",
   "execution_count": 145,
   "id": "661829ed-e96f-478b-a359-eb97759bd0ec",
   "metadata": {
    "execution": {
     "iopub.execute_input": "2023-03-28T07:33:05.840595Z",
     "iopub.status.busy": "2023-03-28T07:33:05.840445Z",
     "iopub.status.idle": "2023-03-28T07:33:05.920662Z",
     "shell.execute_reply": "2023-03-28T07:33:05.920248Z",
     "shell.execute_reply.started": "2023-03-28T07:33:05.840586Z"
    },
    "tags": []
   },
   "outputs": [],
   "source": [
    "trial_pairs = trial_data.groupby('hh_id')['iiqid'].agg(['min', 'max'])\n",
    "trial_pairs.columns = ['first','second']"
   ]
  },
  {
   "cell_type": "code",
   "execution_count": 146,
   "id": "f2e53462-780f-4fc5-8e9b-2c41960adcb3",
   "metadata": {
    "execution": {
     "iopub.execute_input": "2023-03-28T07:33:05.921290Z",
     "iopub.status.busy": "2023-03-28T07:33:05.921197Z",
     "iopub.status.idle": "2023-03-28T07:33:05.962009Z",
     "shell.execute_reply": "2023-03-28T07:33:05.961638Z",
     "shell.execute_reply.started": "2023-03-28T07:33:05.921281Z"
    },
    "tags": []
   },
   "outputs": [],
   "source": [
    "cookie_time = data.groupby('iiqid')['time'].agg(['min', 'max'])"
   ]
  },
  {
   "cell_type": "code",
   "execution_count": 147,
   "id": "b2f4cb88-ed12-4ab4-b081-bf9393aae444",
   "metadata": {
    "execution": {
     "iopub.execute_input": "2023-03-28T07:33:05.963936Z",
     "iopub.status.busy": "2023-03-28T07:33:05.963730Z",
     "iopub.status.idle": "2023-03-28T07:33:05.988644Z",
     "shell.execute_reply": "2023-03-28T07:33:05.988321Z",
     "shell.execute_reply.started": "2023-03-28T07:33:05.963923Z"
    },
    "tags": []
   },
   "outputs": [],
   "source": [
    "cookie_time['interval'] = (cookie_time['max'] - cookie_time['min']).apply(lambda t: t.days)"
   ]
  },
  {
   "cell_type": "code",
   "execution_count": 148,
   "id": "c1bb131b-cae3-4c3c-8076-eb44b2f5f4b3",
   "metadata": {
    "execution": {
     "iopub.execute_input": "2023-03-28T07:33:05.989398Z",
     "iopub.status.busy": "2023-03-28T07:33:05.989249Z",
     "iopub.status.idle": "2023-03-28T07:33:32.890853Z",
     "shell.execute_reply": "2023-03-28T07:33:32.890091Z",
     "shell.execute_reply.started": "2023-03-28T07:33:05.989388Z"
    },
    "tags": []
   },
   "outputs": [],
   "source": [
    "noises = data.groupby('iiqid').apply(denoised_fraction)"
   ]
  },
  {
   "cell_type": "code",
   "execution_count": 149,
   "id": "22613561-c39b-45f5-b5ca-9bfb95264928",
   "metadata": {
    "execution": {
     "iopub.execute_input": "2023-03-28T07:33:32.892201Z",
     "iopub.status.busy": "2023-03-28T07:33:32.891926Z",
     "iopub.status.idle": "2023-03-28T07:33:32.922771Z",
     "shell.execute_reply": "2023-03-28T07:33:32.922299Z",
     "shell.execute_reply.started": "2023-03-28T07:33:32.892179Z"
    },
    "tags": []
   },
   "outputs": [],
   "source": [
    "noises = noises.rename('noise')"
   ]
  },
  {
   "cell_type": "markdown",
   "id": "1eb6bf5f-34d5-4159-b9d5-617b364f8ee9",
   "metadata": {
    "tags": []
   },
   "source": [
    "### A single pair"
   ]
  },
  {
   "cell_type": "markdown",
   "id": "b9adec2c-a3dc-4f5c-b188-b293c5e29fd9",
   "metadata": {},
   "source": [
    "- Time interval first\n",
    "- Time interval second\n",
    "- Time between end first and start second(maybe after remove outliers)\n",
    "- Time interval we looked at (can check options)\n",
    "- Number of points min\n",
    "- Number of points max\n",
    "- UA version error\n",
    "- Overlap errors that we calculate"
   ]
  },
  {
   "cell_type": "code",
   "execution_count": 150,
   "id": "4ad5f77f-f435-48ef-8e87-455217811b7a",
   "metadata": {
    "execution": {
     "iopub.execute_input": "2023-03-28T07:33:32.923508Z",
     "iopub.status.busy": "2023-03-28T07:33:32.923402Z",
     "iopub.status.idle": "2023-03-28T07:33:32.966841Z",
     "shell.execute_reply": "2023-03-28T07:33:32.966387Z",
     "shell.execute_reply.started": "2023-03-28T07:33:32.923498Z"
    },
    "tags": []
   },
   "outputs": [],
   "source": [
    "random_cookie_1 = np.random.choice(data['iiqid'].unique())\n",
    "random_cookie_2 = np.random.choice(data['iiqid'].unique())"
   ]
  },
  {
   "cell_type": "code",
   "execution_count": 151,
   "id": "18323a92-beaa-4382-8070-2211aa601817",
   "metadata": {
    "execution": {
     "iopub.execute_input": "2023-03-28T07:33:32.967422Z",
     "iopub.status.busy": "2023-03-28T07:33:32.967328Z",
     "iopub.status.idle": "2023-03-28T07:33:33.012808Z",
     "shell.execute_reply": "2023-03-28T07:33:33.012527Z",
     "shell.execute_reply.started": "2023-03-28T07:33:32.967413Z"
    },
    "tags": []
   },
   "outputs": [],
   "source": [
    "size1 = len(data[data['iiqid']==random_cookie_1])\n",
    "size2 = len(data[data['iiqid']==random_cookie_2])"
   ]
  },
  {
   "cell_type": "code",
   "execution_count": 152,
   "id": "46bf4741-8879-489a-98ac-c071811974f8",
   "metadata": {
    "execution": {
     "iopub.execute_input": "2023-03-28T07:33:33.013477Z",
     "iopub.status.busy": "2023-03-28T07:33:33.013333Z",
     "iopub.status.idle": "2023-03-28T07:33:33.026329Z",
     "shell.execute_reply": "2023-03-28T07:33:33.026043Z",
     "shell.execute_reply.started": "2023-03-28T07:33:33.013468Z"
    },
    "tags": []
   },
   "outputs": [],
   "source": [
    "single_row = pd.DataFrame({'id1': [random_cookie_1], 'id2': [random_cookie_2], \n",
    "              'min_size': min(size1, size2), 'max_size':max(size1, size2)})"
   ]
  },
  {
   "cell_type": "code",
   "execution_count": 153,
   "id": "79ce40eb-ad0a-47e1-8d7f-0c0fae2617c6",
   "metadata": {
    "execution": {
     "iopub.execute_input": "2023-03-28T07:33:33.027014Z",
     "iopub.status.busy": "2023-03-28T07:33:33.026885Z",
     "iopub.status.idle": "2023-03-28T07:33:33.046553Z",
     "shell.execute_reply": "2023-03-28T07:33:33.046245Z",
     "shell.execute_reply.started": "2023-03-28T07:33:33.027006Z"
    },
    "tags": []
   },
   "outputs": [],
   "source": [
    "single_row = single_row.merge(cookie_time, left_on='id1', right_index=True)\n",
    "single_row = single_row.merge(cookie_time, left_on='id2', right_index=True, \n",
    "                              suffixes=('_id1', '_id2'))"
   ]
  },
  {
   "cell_type": "code",
   "execution_count": 154,
   "id": "599abb2b-7ac7-4f7b-88b1-a3bacb528212",
   "metadata": {
    "execution": {
     "iopub.execute_input": "2023-03-28T07:33:33.047168Z",
     "iopub.status.busy": "2023-03-28T07:33:33.047064Z",
     "iopub.status.idle": "2023-03-28T07:33:33.066913Z",
     "shell.execute_reply": "2023-03-28T07:33:33.066608Z",
     "shell.execute_reply.started": "2023-03-28T07:33:33.047158Z"
    },
    "tags": []
   },
   "outputs": [],
   "source": [
    "single_row = single_row.merge(noises, left_on='id1', right_index=True)\n",
    "single_row = single_row.merge(noises, left_on='id2', right_index=True, \n",
    "                              suffixes=('_id1', '_id2'))"
   ]
  },
  {
   "cell_type": "code",
   "execution_count": 155,
   "id": "2b4c3bd5-5134-4b0b-880a-d7f2cadfe426",
   "metadata": {
    "execution": {
     "iopub.execute_input": "2023-03-28T07:33:33.067595Z",
     "iopub.status.busy": "2023-03-28T07:33:33.067463Z",
     "iopub.status.idle": "2023-03-28T07:33:33.086130Z",
     "shell.execute_reply": "2023-03-28T07:33:33.085820Z",
     "shell.execute_reply.started": "2023-03-28T07:33:33.067585Z"
    },
    "tags": []
   },
   "outputs": [
    {
     "data": {
      "text/html": [
       "<div>\n",
       "<style scoped>\n",
       "    .dataframe tbody tr th:only-of-type {\n",
       "        vertical-align: middle;\n",
       "    }\n",
       "\n",
       "    .dataframe tbody tr th {\n",
       "        vertical-align: top;\n",
       "    }\n",
       "\n",
       "    .dataframe thead th {\n",
       "        text-align: right;\n",
       "    }\n",
       "</style>\n",
       "<table border=\"1\" class=\"dataframe\">\n",
       "  <thead>\n",
       "    <tr style=\"text-align: right;\">\n",
       "      <th></th>\n",
       "      <th>id1</th>\n",
       "      <th>id2</th>\n",
       "      <th>min_size</th>\n",
       "      <th>max_size</th>\n",
       "      <th>min_id1</th>\n",
       "      <th>max_id1</th>\n",
       "      <th>interval_id1</th>\n",
       "      <th>min_id2</th>\n",
       "      <th>max_id2</th>\n",
       "      <th>interval_id2</th>\n",
       "      <th>noise_id1</th>\n",
       "      <th>noise_id2</th>\n",
       "    </tr>\n",
       "  </thead>\n",
       "  <tbody>\n",
       "    <tr>\n",
       "      <th>0</th>\n",
       "      <td>OW39FM2amE</td>\n",
       "      <td>2sMOSv7I8k</td>\n",
       "      <td>1</td>\n",
       "      <td>9</td>\n",
       "      <td>2023-01-24 11:10:16.182</td>\n",
       "      <td>2023-02-21 06:14:09.786</td>\n",
       "      <td>27</td>\n",
       "      <td>2023-01-30 05:54:04.114</td>\n",
       "      <td>2023-01-30 05:54:04.114</td>\n",
       "      <td>0</td>\n",
       "      <td>1.0</td>\n",
       "      <td>1.0</td>\n",
       "    </tr>\n",
       "  </tbody>\n",
       "</table>\n",
       "</div>"
      ],
      "text/plain": [
       "          id1         id2  min_size  max_size                 min_id1  \\\n",
       "0  OW39FM2amE  2sMOSv7I8k         1         9 2023-01-24 11:10:16.182   \n",
       "\n",
       "                  max_id1  interval_id1                 min_id2  \\\n",
       "0 2023-02-21 06:14:09.786            27 2023-01-30 05:54:04.114   \n",
       "\n",
       "                  max_id2  interval_id2  noise_id1  noise_id2  \n",
       "0 2023-01-30 05:54:04.114             0        1.0        1.0  "
      ]
     },
     "execution_count": 155,
     "metadata": {},
     "output_type": "execute_result"
    }
   ],
   "source": [
    "single_row"
   ]
  },
  {
   "cell_type": "markdown",
   "id": "600b16ba-6ec2-4f0f-80f9-9d7eff6a9224",
   "metadata": {},
   "source": [
    "### Random Data"
   ]
  },
  {
   "cell_type": "code",
   "execution_count": 156,
   "id": "675ef9c0-0292-48c8-955c-08a508bfbd28",
   "metadata": {
    "execution": {
     "iopub.execute_input": "2023-03-28T07:33:33.089293Z",
     "iopub.status.busy": "2023-03-28T07:33:33.089124Z",
     "iopub.status.idle": "2023-03-28T07:34:39.521197Z",
     "shell.execute_reply": "2023-03-28T07:34:39.520697Z",
     "shell.execute_reply.started": "2023-03-28T07:33:33.089281Z"
    },
    "tags": []
   },
   "outputs": [
    {
     "data": {
      "application/vnd.jupyter.widget-view+json": {
       "model_id": "7e77b289aa3840ec90f2c4af47bb08d7",
       "version_major": 2,
       "version_minor": 0
      },
      "text/plain": [
       "  0%|          | 0/1330 [00:00<?, ?it/s]"
      ]
     },
     "metadata": {},
     "output_type": "display_data"
    }
   ],
   "source": [
    "noise_of_pairs = {'merge_noise': [], 'size_0': [], 'size_1': [], 'first' :[], 'second': []}\n",
    "\n",
    "for house in tqdm(trial_pairs.index):\n",
    "    iiqid_0, iiqid_1 = trial_pairs.loc[house].values\n",
    "    pair_data = filtered[(filtered['hh_id']==house) \n",
    "                     & ((filtered['iiqid']==iiqid_0) \n",
    "                        | (filtered['iiqid']==iiqid_1))].copy()\n",
    "    pair_data.sort_values(by='time', inplace=True)\n",
    "    serialize_id = {iiqid_0: 0, iiqid_1: 1}\n",
    "    \n",
    "    s, inds = lnds(pair_data['iiqid'].apply(lambda x: serialize_id[x]).values)\n",
    "    not_inds = [i for i in range(len(pair_data)) if i not in inds]\n",
    "    \n",
    "    noise_of_pairs['merge_noise'].append(1 - len(s) / len(pair_data))\n",
    "    noise_of_pairs['size_0'].append(sum(pair_data['iiqid']==iiqid_0))\n",
    "    noise_of_pairs['size_1'].append(sum(pair_data['iiqid']==iiqid_1))\n",
    "    noise_of_pairs['first'].append(iiqid_0)\n",
    "    noise_of_pairs['second'].append(iiqid_1)\n",
    "noise_of_pairs_df = pd.DataFrame(noise_of_pairs)"
   ]
  },
  {
   "cell_type": "code",
   "execution_count": 157,
   "id": "5362dfeb-51c1-4356-b859-8711aa51021f",
   "metadata": {
    "execution": {
     "iopub.execute_input": "2023-03-28T07:34:39.522045Z",
     "iopub.status.busy": "2023-03-28T07:34:39.521927Z",
     "iopub.status.idle": "2023-03-28T07:34:39.544594Z",
     "shell.execute_reply": "2023-03-28T07:34:39.544333Z",
     "shell.execute_reply.started": "2023-03-28T07:34:39.522032Z"
    },
    "tags": []
   },
   "outputs": [],
   "source": [
    "random_trial_data = noise_of_pairs_df.merge(cookie_time, left_on='first', right_index=True)\n",
    "random_trial_data = random_trial_data.merge(cookie_time, left_on='second', right_index=True, \n",
    "                              suffixes=('_0', '_1'))"
   ]
  },
  {
   "cell_type": "code",
   "execution_count": 158,
   "id": "ba9da28a-86fb-451d-98e1-49d49d073b29",
   "metadata": {
    "execution": {
     "iopub.execute_input": "2023-03-28T07:34:39.545179Z",
     "iopub.status.busy": "2023-03-28T07:34:39.545082Z",
     "iopub.status.idle": "2023-03-28T07:34:39.559784Z",
     "shell.execute_reply": "2023-03-28T07:34:39.559537Z",
     "shell.execute_reply.started": "2023-03-28T07:34:39.545170Z"
    },
    "tags": []
   },
   "outputs": [],
   "source": [
    "random_trial_data = random_trial_data.merge(noises, left_on='first', right_index=True)\n",
    "random_trial_data = random_trial_data.merge(noises, left_on='second', right_index=True, \n",
    "                              suffixes=('_0', '_1'))"
   ]
  },
  {
   "cell_type": "code",
   "execution_count": 159,
   "id": "e153b276-d008-4186-9d26-f91f82a33913",
   "metadata": {
    "execution": {
     "iopub.execute_input": "2023-03-28T07:34:39.560328Z",
     "iopub.status.busy": "2023-03-28T07:34:39.560235Z",
     "iopub.status.idle": "2023-03-28T07:34:39.575663Z",
     "shell.execute_reply": "2023-03-28T07:34:39.575277Z",
     "shell.execute_reply.started": "2023-03-28T07:34:39.560319Z"
    },
    "tags": []
   },
   "outputs": [],
   "source": [
    "random_trial_data['min_size'] = random_trial_data[['size_0','size_1']].min(axis=1)\n",
    "random_trial_data['max_size'] = random_trial_data[['size_0','size_1']].max(axis=1)"
   ]
  },
  {
   "cell_type": "code",
   "execution_count": 160,
   "id": "f4b237e1-b847-47ef-8dce-604e85b5b704",
   "metadata": {
    "execution": {
     "iopub.execute_input": "2023-03-28T07:34:39.576721Z",
     "iopub.status.busy": "2023-03-28T07:34:39.576350Z",
     "iopub.status.idle": "2023-03-28T07:34:39.594418Z",
     "shell.execute_reply": "2023-03-28T07:34:39.594019Z",
     "shell.execute_reply.started": "2023-03-28T07:34:39.576709Z"
    },
    "tags": []
   },
   "outputs": [],
   "source": [
    "random_trial_data = random_trial_data.rename(columns={'min_0': 'start_0', 'max_0': 'end_0',\n",
    "                                  'min_1': 'start_1', 'max_1': 'end_1',\n",
    "                                  'noise_0': 'vers_clean_0', 'noise_1': 'vers_clean_1'})"
   ]
  },
  {
   "cell_type": "code",
   "execution_count": 161,
   "id": "721312eb-97d3-4724-b03d-e3f82fe4d895",
   "metadata": {
    "execution": {
     "iopub.execute_input": "2023-03-28T07:34:39.595170Z",
     "iopub.status.busy": "2023-03-28T07:34:39.595062Z",
     "iopub.status.idle": "2023-03-28T07:34:39.611225Z",
     "shell.execute_reply": "2023-03-28T07:34:39.610806Z",
     "shell.execute_reply.started": "2023-03-28T07:34:39.595160Z"
    },
    "tags": []
   },
   "outputs": [],
   "source": [
    "random_trial_data['min_interval'] = random_trial_data[['interval_0', 'interval_1']].min(axis=1)\n",
    "random_trial_data['max_interval'] = random_trial_data[['interval_0', 'interval_1']].max(axis=1)\n",
    "\n",
    "random_trial_data['min_vers_clean'] = random_trial_data[['vers_clean_0', 'vers_clean_1']].min(axis=1)\n",
    "random_trial_data['max_vers_clean'] = random_trial_data[['vers_clean_0', 'vers_clean_1']].max(axis=1)"
   ]
  },
  {
   "cell_type": "code",
   "execution_count": 162,
   "id": "5ffb3ac4-4224-433c-b8e2-b7c1985448e1",
   "metadata": {
    "execution": {
     "iopub.execute_input": "2023-03-28T07:34:39.611925Z",
     "iopub.status.busy": "2023-03-28T07:34:39.611827Z",
     "iopub.status.idle": "2023-03-28T07:34:39.643357Z",
     "shell.execute_reply": "2023-03-28T07:34:39.642990Z",
     "shell.execute_reply.started": "2023-03-28T07:34:39.611916Z"
    },
    "tags": []
   },
   "outputs": [
    {
     "data": {
      "text/html": [
       "<div>\n",
       "<style scoped>\n",
       "    .dataframe tbody tr th:only-of-type {\n",
       "        vertical-align: middle;\n",
       "    }\n",
       "\n",
       "    .dataframe tbody tr th {\n",
       "        vertical-align: top;\n",
       "    }\n",
       "\n",
       "    .dataframe thead th {\n",
       "        text-align: right;\n",
       "    }\n",
       "</style>\n",
       "<table border=\"1\" class=\"dataframe\">\n",
       "  <thead>\n",
       "    <tr style=\"text-align: right;\">\n",
       "      <th></th>\n",
       "      <th>count</th>\n",
       "      <th>mean</th>\n",
       "      <th>std</th>\n",
       "      <th>min</th>\n",
       "      <th>25%</th>\n",
       "      <th>50%</th>\n",
       "      <th>75%</th>\n",
       "      <th>max</th>\n",
       "    </tr>\n",
       "  </thead>\n",
       "  <tbody>\n",
       "    <tr>\n",
       "      <th>merge_noise</th>\n",
       "      <td>1330.0</td>\n",
       "      <td>0.130363</td>\n",
       "      <td>0.140991</td>\n",
       "      <td>0.000000</td>\n",
       "      <td>0.012525</td>\n",
       "      <td>0.071429</td>\n",
       "      <td>0.211815</td>\n",
       "      <td>0.5</td>\n",
       "    </tr>\n",
       "    <tr>\n",
       "      <th>size_0</th>\n",
       "      <td>1330.0</td>\n",
       "      <td>42.560902</td>\n",
       "      <td>81.125276</td>\n",
       "      <td>1.000000</td>\n",
       "      <td>2.000000</td>\n",
       "      <td>12.000000</td>\n",
       "      <td>49.000000</td>\n",
       "      <td>875.0</td>\n",
       "    </tr>\n",
       "    <tr>\n",
       "      <th>size_1</th>\n",
       "      <td>1330.0</td>\n",
       "      <td>43.635338</td>\n",
       "      <td>89.539958</td>\n",
       "      <td>1.000000</td>\n",
       "      <td>2.000000</td>\n",
       "      <td>12.000000</td>\n",
       "      <td>45.750000</td>\n",
       "      <td>1441.0</td>\n",
       "    </tr>\n",
       "    <tr>\n",
       "      <th>interval_0</th>\n",
       "      <td>1330.0</td>\n",
       "      <td>35.803759</td>\n",
       "      <td>33.247887</td>\n",
       "      <td>0.000000</td>\n",
       "      <td>0.000000</td>\n",
       "      <td>30.000000</td>\n",
       "      <td>69.000000</td>\n",
       "      <td>88.0</td>\n",
       "    </tr>\n",
       "    <tr>\n",
       "      <th>interval_1</th>\n",
       "      <td>1330.0</td>\n",
       "      <td>35.887970</td>\n",
       "      <td>33.433315</td>\n",
       "      <td>0.000000</td>\n",
       "      <td>0.000000</td>\n",
       "      <td>30.000000</td>\n",
       "      <td>71.000000</td>\n",
       "      <td>88.0</td>\n",
       "    </tr>\n",
       "    <tr>\n",
       "      <th>vers_clean_0</th>\n",
       "      <td>1330.0</td>\n",
       "      <td>0.998322</td>\n",
       "      <td>0.013718</td>\n",
       "      <td>0.666667</td>\n",
       "      <td>1.000000</td>\n",
       "      <td>1.000000</td>\n",
       "      <td>1.000000</td>\n",
       "      <td>1.0</td>\n",
       "    </tr>\n",
       "    <tr>\n",
       "      <th>vers_clean_1</th>\n",
       "      <td>1330.0</td>\n",
       "      <td>0.998235</td>\n",
       "      <td>0.014149</td>\n",
       "      <td>0.666667</td>\n",
       "      <td>1.000000</td>\n",
       "      <td>1.000000</td>\n",
       "      <td>1.000000</td>\n",
       "      <td>1.0</td>\n",
       "    </tr>\n",
       "    <tr>\n",
       "      <th>min_size</th>\n",
       "      <td>1330.0</td>\n",
       "      <td>13.148872</td>\n",
       "      <td>24.894941</td>\n",
       "      <td>1.000000</td>\n",
       "      <td>1.000000</td>\n",
       "      <td>3.000000</td>\n",
       "      <td>14.000000</td>\n",
       "      <td>244.0</td>\n",
       "    </tr>\n",
       "    <tr>\n",
       "      <th>max_size</th>\n",
       "      <td>1330.0</td>\n",
       "      <td>73.047368</td>\n",
       "      <td>110.382378</td>\n",
       "      <td>1.000000</td>\n",
       "      <td>11.000000</td>\n",
       "      <td>36.000000</td>\n",
       "      <td>91.000000</td>\n",
       "      <td>1441.0</td>\n",
       "    </tr>\n",
       "    <tr>\n",
       "      <th>min_interval</th>\n",
       "      <td>1330.0</td>\n",
       "      <td>18.687218</td>\n",
       "      <td>26.092154</td>\n",
       "      <td>0.000000</td>\n",
       "      <td>0.000000</td>\n",
       "      <td>1.000000</td>\n",
       "      <td>33.000000</td>\n",
       "      <td>87.0</td>\n",
       "    </tr>\n",
       "    <tr>\n",
       "      <th>max_interval</th>\n",
       "      <td>1330.0</td>\n",
       "      <td>53.004511</td>\n",
       "      <td>30.872806</td>\n",
       "      <td>0.000000</td>\n",
       "      <td>28.000000</td>\n",
       "      <td>62.000000</td>\n",
       "      <td>81.000000</td>\n",
       "      <td>88.0</td>\n",
       "    </tr>\n",
       "    <tr>\n",
       "      <th>min_vers_clean</th>\n",
       "      <td>1330.0</td>\n",
       "      <td>0.996629</td>\n",
       "      <td>0.019508</td>\n",
       "      <td>0.666667</td>\n",
       "      <td>1.000000</td>\n",
       "      <td>1.000000</td>\n",
       "      <td>1.000000</td>\n",
       "      <td>1.0</td>\n",
       "    </tr>\n",
       "    <tr>\n",
       "      <th>max_vers_clean</th>\n",
       "      <td>1330.0</td>\n",
       "      <td>0.999928</td>\n",
       "      <td>0.001547</td>\n",
       "      <td>0.955556</td>\n",
       "      <td>1.000000</td>\n",
       "      <td>1.000000</td>\n",
       "      <td>1.000000</td>\n",
       "      <td>1.0</td>\n",
       "    </tr>\n",
       "  </tbody>\n",
       "</table>\n",
       "</div>"
      ],
      "text/plain": [
       "                 count       mean         std       min        25%        50%  \\\n",
       "merge_noise     1330.0   0.130363    0.140991  0.000000   0.012525   0.071429   \n",
       "size_0          1330.0  42.560902   81.125276  1.000000   2.000000  12.000000   \n",
       "size_1          1330.0  43.635338   89.539958  1.000000   2.000000  12.000000   \n",
       "interval_0      1330.0  35.803759   33.247887  0.000000   0.000000  30.000000   \n",
       "interval_1      1330.0  35.887970   33.433315  0.000000   0.000000  30.000000   \n",
       "vers_clean_0    1330.0   0.998322    0.013718  0.666667   1.000000   1.000000   \n",
       "vers_clean_1    1330.0   0.998235    0.014149  0.666667   1.000000   1.000000   \n",
       "min_size        1330.0  13.148872   24.894941  1.000000   1.000000   3.000000   \n",
       "max_size        1330.0  73.047368  110.382378  1.000000  11.000000  36.000000   \n",
       "min_interval    1330.0  18.687218   26.092154  0.000000   0.000000   1.000000   \n",
       "max_interval    1330.0  53.004511   30.872806  0.000000  28.000000  62.000000   \n",
       "min_vers_clean  1330.0   0.996629    0.019508  0.666667   1.000000   1.000000   \n",
       "max_vers_clean  1330.0   0.999928    0.001547  0.955556   1.000000   1.000000   \n",
       "\n",
       "                      75%     max  \n",
       "merge_noise      0.211815     0.5  \n",
       "size_0          49.000000   875.0  \n",
       "size_1          45.750000  1441.0  \n",
       "interval_0      69.000000    88.0  \n",
       "interval_1      71.000000    88.0  \n",
       "vers_clean_0     1.000000     1.0  \n",
       "vers_clean_1     1.000000     1.0  \n",
       "min_size        14.000000   244.0  \n",
       "max_size        91.000000  1441.0  \n",
       "min_interval    33.000000    87.0  \n",
       "max_interval    81.000000    88.0  \n",
       "min_vers_clean   1.000000     1.0  \n",
       "max_vers_clean   1.000000     1.0  "
      ]
     },
     "execution_count": 162,
     "metadata": {},
     "output_type": "execute_result"
    }
   ],
   "source": [
    "random_trial_data.describe().transpose()"
   ]
  },
  {
   "cell_type": "code",
   "execution_count": 163,
   "id": "fb5626dd-da1b-4683-b364-4da9509a4ff4",
   "metadata": {
    "execution": {
     "iopub.execute_input": "2023-03-28T07:34:39.643902Z",
     "iopub.status.busy": "2023-03-28T07:34:39.643803Z",
     "iopub.status.idle": "2023-03-28T07:34:39.980976Z",
     "shell.execute_reply": "2023-03-28T07:34:39.980645Z",
     "shell.execute_reply.started": "2023-03-28T07:34:39.643893Z"
    },
    "tags": []
   },
   "outputs": [
    {
     "data": {
      "text/plain": [
       "<AxesSubplot: >"
      ]
     },
     "execution_count": 163,
     "metadata": {},
     "output_type": "execute_result"
    },
    {
     "data": {
      "image/png": "[encoded data removed]",
      "text/plain": [
       "<Figure size 1200x500 with 2 Axes>"
      ]
     },
     "metadata": {},
     "output_type": "display_data"
    }
   ],
   "source": [
    "sns.heatmap(data=random_trial_data.corr(numeric_only=True), annot=True, vmin=-1, vmax=1, cmap='vlag')"
   ]
  },
  {
   "cell_type": "code",
   "execution_count": 164,
   "id": "0f319388-79ac-48e7-9e1b-b336b60966d2",
   "metadata": {
    "execution": {
     "iopub.execute_input": "2023-03-28T07:34:39.981539Z",
     "iopub.status.busy": "2023-03-28T07:34:39.981443Z",
     "iopub.status.idle": "2023-03-28T07:34:39.993026Z",
     "shell.execute_reply": "2023-03-28T07:34:39.992734Z",
     "shell.execute_reply.started": "2023-03-28T07:34:39.981530Z"
    },
    "tags": []
   },
   "outputs": [],
   "source": [
    "# mins = random_trial_data[features].min()\n",
    "# maxs = random_trial_data[features].max()"
   ]
  },
  {
   "cell_type": "code",
   "execution_count": 165,
   "id": "e0e5e8a4-ccc9-4ae4-b33b-dfcbe1a6d707",
   "metadata": {
    "execution": {
     "iopub.execute_input": "2023-03-28T07:34:39.993524Z",
     "iopub.status.busy": "2023-03-28T07:34:39.993440Z",
     "iopub.status.idle": "2023-03-28T07:34:40.003302Z",
     "shell.execute_reply": "2023-03-28T07:34:40.003022Z",
     "shell.execute_reply.started": "2023-03-28T07:34:39.993516Z"
    },
    "tags": []
   },
   "outputs": [],
   "source": [
    "# random_trial_data.loc[(random_trial_data[features] >= thresholds).all(axis=1), 'merge_noise'].mean()"
   ]
  },
  {
   "cell_type": "code",
   "execution_count": 166,
   "id": "8ff98eff-6e91-45a7-8164-ee458c2333a0",
   "metadata": {
    "execution": {
     "iopub.execute_input": "2023-03-28T07:34:40.003779Z",
     "iopub.status.busy": "2023-03-28T07:34:40.003694Z",
     "iopub.status.idle": "2023-03-28T07:34:40.013573Z",
     "shell.execute_reply": "2023-03-28T07:34:40.013299Z",
     "shell.execute_reply.started": "2023-03-28T07:34:40.003771Z"
    },
    "tags": []
   },
   "outputs": [],
   "source": [
    "# matrix = []\n",
    "# for s in range(1, 30):\n",
    "#     row = []\n",
    "#     for i in range(14):\n",
    "#         row.append(random_trial_data.loc[(random_trial_data[features] >= [s, i, 0.5]).all(axis=1), \n",
    "#                                          'merge_noise'].mean())\n",
    "#     matrix.append(row)"
   ]
  },
  {
   "cell_type": "markdown",
   "id": "0a191191-eb07-4533-897f-ea226f4e85cb",
   "metadata": {},
   "source": [
    "From all the pairs which \n",
    "1. Both cookies have more instances than some threshold\n",
    "2. Both cookies are lived more than somethreshold\n",
    "3. Both cookies have version consistency more than some threshold  \n",
    "\n",
    "What fraction have the the merging noise is less than some threshold?"
   ]
  },
  {
   "cell_type": "code",
   "execution_count": 167,
   "id": "93ee2b6f-c39c-4c1b-84c6-463e8a074ce1",
   "metadata": {
    "execution": {
     "iopub.execute_input": "2023-03-28T07:34:40.014079Z",
     "iopub.status.busy": "2023-03-28T07:34:40.013991Z",
     "iopub.status.idle": "2023-03-28T07:34:40.026472Z",
     "shell.execute_reply": "2023-03-28T07:34:40.026132Z",
     "shell.execute_reply.started": "2023-03-28T07:34:40.014070Z"
    },
    "tags": []
   },
   "outputs": [],
   "source": [
    "features = ['min_size', 'min_interval', 'min_vers_clean']\n",
    "target = 'merge_noise'"
   ]
  },
  {
   "cell_type": "code",
   "execution_count": 168,
   "id": "9b6b24ff-b6dc-4440-81d7-c38a360925c8",
   "metadata": {
    "execution": {
     "iopub.execute_input": "2023-03-28T07:34:40.027064Z",
     "iopub.status.busy": "2023-03-28T07:34:40.026972Z",
     "iopub.status.idle": "2023-03-28T07:34:40.039265Z",
     "shell.execute_reply": "2023-03-28T07:34:40.038863Z",
     "shell.execute_reply.started": "2023-03-28T07:34:40.027056Z"
    },
    "tags": []
   },
   "outputs": [],
   "source": [
    "# features\n",
    "thresholds = [3, 7, 0.5]\n",
    "noise_thresh = 0.1"
   ]
  },
  {
   "cell_type": "code",
   "execution_count": 169,
   "id": "67d74cf2-df51-4284-946a-356f537bc644",
   "metadata": {
    "execution": {
     "iopub.execute_input": "2023-03-28T07:34:40.039978Z",
     "iopub.status.busy": "2023-03-28T07:34:40.039872Z",
     "iopub.status.idle": "2023-03-28T07:34:40.054650Z",
     "shell.execute_reply": "2023-03-28T07:34:40.054328Z",
     "shell.execute_reply.started": "2023-03-28T07:34:40.039968Z"
    },
    "tags": []
   },
   "outputs": [
    {
     "name": "stdout",
     "output_type": "stream",
     "text": [
      "0.33941605839416056\n"
     ]
    }
   ],
   "source": [
    "total_above_thresh = random_trial_data.loc[(random_trial_data[features] >= thresholds).all(axis=1)]\n",
    "good_aobve_thresh = total_above_thresh[total_above_thresh['merge_noise'] < noise_thresh]\n",
    "print(len(good_aobve_thresh)/len(total_above_thresh))"
   ]
  },
  {
   "cell_type": "code",
   "execution_count": 170,
   "id": "fd4b97b8-ecb0-4bc2-b6db-a6d31714a5cb",
   "metadata": {
    "execution": {
     "iopub.execute_input": "2023-03-28T07:34:40.055270Z",
     "iopub.status.busy": "2023-03-28T07:34:40.055171Z",
     "iopub.status.idle": "2023-03-28T07:34:40.282278Z",
     "shell.execute_reply": "2023-03-28T07:34:40.281822Z",
     "shell.execute_reply.started": "2023-03-28T07:34:40.055261Z"
    },
    "tags": []
   },
   "outputs": [],
   "source": [
    "matrix = []\n",
    "for s in range(1, 30):\n",
    "    row = []\n",
    "    for i in range(14):\n",
    "        total_above_thresh = random_trial_data.loc[(random_trial_data[features] >= [s, i, 0.5]).all(axis=1)]\n",
    "        good_aobve_thresh = total_above_thresh[total_above_thresh['merge_noise'] < noise_thresh]\n",
    "        row.append(len(good_aobve_thresh)/len(total_above_thresh))\n",
    "    matrix.append(row)"
   ]
  },
  {
   "cell_type": "code",
   "execution_count": 171,
   "id": "cce30c32-278d-4901-a3eb-9053e3e37dcf",
   "metadata": {
    "execution": {
     "iopub.execute_input": "2023-03-28T07:34:40.282790Z",
     "iopub.status.busy": "2023-03-28T07:34:40.282699Z",
     "iopub.status.idle": "2023-03-28T07:34:40.462507Z",
     "shell.execute_reply": "2023-03-28T07:34:40.462199Z",
     "shell.execute_reply.started": "2023-03-28T07:34:40.282781Z"
    },
    "tags": []
   },
   "outputs": [
    {
     "data": {
      "text/plain": [
       "<AxesSubplot: >"
      ]
     },
     "execution_count": 171,
     "metadata": {},
     "output_type": "execute_result"
    },
    {
     "data": {
      "image/png": "[encoded data removed]",
      "text/plain": [
       "<Figure size 1200x500 with 2 Axes>"
      ]
     },
     "metadata": {},
     "output_type": "display_data"
    }
   ],
   "source": [
    "sns.heatmap(data=pd.DataFrame(matrix, columns=range(14), index=range(1,30)), \n",
    "            cmap='viridis')"
   ]
  },
  {
   "cell_type": "markdown",
   "id": "18994987-853e-4349-afda-75e867cd49f2",
   "metadata": {},
   "source": [
    "## Non-Random Data"
   ]
  },
  {
   "cell_type": "code",
   "execution_count": 172,
   "id": "981e4853-f9fe-43a8-90f8-b40435cb71a9",
   "metadata": {
    "execution": {
     "iopub.execute_input": "2023-03-28T07:34:40.463115Z",
     "iopub.status.busy": "2023-03-28T07:34:40.463032Z",
     "iopub.status.idle": "2023-03-28T07:34:41.913007Z",
     "shell.execute_reply": "2023-03-28T07:34:41.912281Z",
     "shell.execute_reply.started": "2023-03-28T07:34:40.463107Z"
    },
    "tags": []
   },
   "outputs": [],
   "source": [
    "more_than_one_cooke = data.groupby(const, observed=True).filter(lambda g: g['iiqid'].nunique() > 1)"
   ]
  },
  {
   "cell_type": "code",
   "execution_count": 173,
   "id": "6be2b354-946f-4e6f-9d52-7e0bb614b636",
   "metadata": {
    "execution": {
     "iopub.execute_input": "2023-03-28T07:34:41.914260Z",
     "iopub.status.busy": "2023-03-28T07:34:41.914073Z",
     "iopub.status.idle": "2023-03-28T07:34:42.060738Z",
     "shell.execute_reply": "2023-03-28T07:34:42.060403Z",
     "shell.execute_reply.started": "2023-03-28T07:34:41.914242Z"
    },
    "tags": []
   },
   "outputs": [],
   "source": [
    "def pick_two_random(group):\n",
    "    return np.random.choice(group.unique(), size=2)\n",
    "\n",
    "pairs_series = more_than_one_cooke.groupby(const, observed=True)['iiqid'].agg(pick_two_random)"
   ]
  },
  {
   "cell_type": "code",
   "execution_count": 174,
   "id": "94099464-5227-406c-8b35-e3e09a28d324",
   "metadata": {
    "execution": {
     "iopub.execute_input": "2023-03-28T07:34:42.061370Z",
     "iopub.status.busy": "2023-03-28T07:34:42.061275Z",
     "iopub.status.idle": "2023-03-28T07:34:42.087098Z",
     "shell.execute_reply": "2023-03-28T07:34:42.086771Z",
     "shell.execute_reply.started": "2023-03-28T07:34:42.061361Z"
    },
    "tags": []
   },
   "outputs": [],
   "source": [
    "brothers_paris = pd.DataFrame.from_dict(\n",
    "        dict(zip(range(len(pairs_series)), pairs_series.values))).\\\n",
    "        transpose()\n",
    "brothers_paris.columns = ['first','second']"
   ]
  },
  {
   "cell_type": "code",
   "execution_count": 175,
   "id": "7cd2d3a9-58e8-4bc0-a113-be2580a509c8",
   "metadata": {
    "execution": {
     "iopub.execute_input": "2023-03-28T07:34:42.087685Z",
     "iopub.status.busy": "2023-03-28T07:34:42.087594Z",
     "iopub.status.idle": "2023-03-28T07:34:42.100378Z",
     "shell.execute_reply": "2023-03-28T07:34:42.100035Z",
     "shell.execute_reply.started": "2023-03-28T07:34:42.087676Z"
    },
    "tags": []
   },
   "outputs": [
    {
     "name": "stdout",
     "output_type": "stream",
     "text": [
      "MONnq4JN4P T9zwT1qFhM\n"
     ]
    }
   ],
   "source": [
    "i = 0\n",
    "iiqid_0, iiqid_1 = trial_pairs.iloc[i].values\n",
    "print(iiqid_0, iiqid_1)"
   ]
  },
  {
   "cell_type": "code",
   "execution_count": 176,
   "id": "aa576168-ff3a-4cd2-b5bf-6618c6d00166",
   "metadata": {
    "execution": {
     "iopub.execute_input": "2023-03-28T07:34:42.101057Z",
     "iopub.status.busy": "2023-03-28T07:34:42.100954Z",
     "iopub.status.idle": "2023-03-28T07:35:34.098322Z",
     "shell.execute_reply": "2023-03-28T07:35:34.097821Z",
     "shell.execute_reply.started": "2023-03-28T07:34:42.101047Z"
    },
    "tags": []
   },
   "outputs": [
    {
     "data": {
      "application/vnd.jupyter.widget-view+json": {
       "model_id": "25db3d1f045d4399b8f3b08b5fd9fe58",
       "version_major": 2,
       "version_minor": 0
      },
      "text/plain": [
       "  0%|          | 0/2627 [00:00<?, ?it/s]"
      ]
     },
     "metadata": {},
     "output_type": "display_data"
    }
   ],
   "source": [
    "noise_of_pairs2 = {'merge_noise': [], 'size_0': [], 'size_1': [], 'first' :[], 'second': []}\n",
    "\n",
    "for i in tqdm(brothers_paris.index):\n",
    "    iiqid_0, iiqid_1 = brothers_paris.iloc[i].values\n",
    "    pair_data = more_than_one_cooke[((more_than_one_cooke['iiqid']==iiqid_0) \n",
    "                        | (more_than_one_cooke['iiqid']==iiqid_1))].copy()\n",
    "    pair_data.sort_values(by='time', inplace=True)\n",
    "    serialize_id = {iiqid_0: 0, iiqid_1: 1}\n",
    "    \n",
    "    s, inds = lnds(pair_data['iiqid'].apply(lambda x: serialize_id[x]).values)\n",
    "    not_inds = [i for i in range(len(pair_data)) if i not in inds]\n",
    "    \n",
    "    noise_of_pairs2['merge_noise'].append(1 - len(s) / len(pair_data))\n",
    "    noise_of_pairs2['size_0'].append(sum(pair_data['iiqid']==iiqid_0))\n",
    "    noise_of_pairs2['size_1'].append(sum(pair_data['iiqid']==iiqid_1))\n",
    "    noise_of_pairs2['first'].append(iiqid_0)\n",
    "    noise_of_pairs2['second'].append(iiqid_1)\n",
    "noise_of_pairs_df2 = pd.DataFrame(noise_of_pairs2)"
   ]
  },
  {
   "cell_type": "code",
   "execution_count": 177,
   "id": "8e06a7ac-bf8b-4917-b050-b3588559fa76",
   "metadata": {
    "execution": {
     "iopub.execute_input": "2023-03-28T07:35:34.099326Z",
     "iopub.status.busy": "2023-03-28T07:35:34.099210Z",
     "iopub.status.idle": "2023-03-28T07:35:34.132117Z",
     "shell.execute_reply": "2023-03-28T07:35:34.131777Z",
     "shell.execute_reply.started": "2023-03-28T07:35:34.099314Z"
    },
    "tags": []
   },
   "outputs": [],
   "source": [
    "random_trial_data2 = noise_of_pairs_df2.merge(cookie_time, left_on='first', right_index=True)\n",
    "random_trial_data2 = random_trial_data2.merge(cookie_time, left_on='second', right_index=True, \n",
    "                              suffixes=('_0', '_1'))"
   ]
  },
  {
   "cell_type": "code",
   "execution_count": 178,
   "id": "1551ddab-d827-4f44-baa0-15039591a411",
   "metadata": {
    "execution": {
     "iopub.execute_input": "2023-03-28T07:35:34.132776Z",
     "iopub.status.busy": "2023-03-28T07:35:34.132678Z",
     "iopub.status.idle": "2023-03-28T07:35:34.156020Z",
     "shell.execute_reply": "2023-03-28T07:35:34.155643Z",
     "shell.execute_reply.started": "2023-03-28T07:35:34.132766Z"
    },
    "tags": []
   },
   "outputs": [],
   "source": [
    "random_trial_data2 = random_trial_data2.merge(noises, left_on='first', right_index=True)\n",
    "random_trial_data2 = random_trial_data2.merge(noises, left_on='second', right_index=True, \n",
    "                              suffixes=('_0', '_1'))"
   ]
  },
  {
   "cell_type": "code",
   "execution_count": 179,
   "id": "19188423-c97d-4b2f-9d29-e857a100d1b5",
   "metadata": {
    "execution": {
     "iopub.execute_input": "2023-03-28T07:35:34.157099Z",
     "iopub.status.busy": "2023-03-28T07:35:34.156924Z",
     "iopub.status.idle": "2023-03-28T07:35:34.174156Z",
     "shell.execute_reply": "2023-03-28T07:35:34.173825Z",
     "shell.execute_reply.started": "2023-03-28T07:35:34.157086Z"
    },
    "tags": []
   },
   "outputs": [],
   "source": [
    "random_trial_data2['min_size'] = random_trial_data2[['size_0','size_1']].min(axis=1)\n",
    "random_trial_data2['max_size'] = random_trial_data2[['size_0','size_1']].max(axis=1)"
   ]
  },
  {
   "cell_type": "code",
   "execution_count": 180,
   "id": "27ae4af2-77be-46e2-9089-e65bb8545700",
   "metadata": {
    "execution": {
     "iopub.execute_input": "2023-03-28T07:35:34.174864Z",
     "iopub.status.busy": "2023-03-28T07:35:34.174727Z",
     "iopub.status.idle": "2023-03-28T07:35:34.187563Z",
     "shell.execute_reply": "2023-03-28T07:35:34.187172Z",
     "shell.execute_reply.started": "2023-03-28T07:35:34.174854Z"
    },
    "tags": []
   },
   "outputs": [],
   "source": [
    "random_trial_data2 = random_trial_data2.rename(columns={'min_0': 'start_0', 'max_0': 'end_0',\n",
    "                                  'min_1': 'start_1', 'max_1': 'end_1',\n",
    "                                  'noise_0': 'vers_clean_0', 'noise_1': 'vers_clean_1'})"
   ]
  },
  {
   "cell_type": "code",
   "execution_count": 181,
   "id": "8dc18431-f04b-418a-958b-00e1777f6ebc",
   "metadata": {
    "execution": {
     "iopub.execute_input": "2023-03-28T07:35:34.193907Z",
     "iopub.status.busy": "2023-03-28T07:35:34.193777Z",
     "iopub.status.idle": "2023-03-28T07:35:34.209032Z",
     "shell.execute_reply": "2023-03-28T07:35:34.208713Z",
     "shell.execute_reply.started": "2023-03-28T07:35:34.193898Z"
    },
    "tags": []
   },
   "outputs": [],
   "source": [
    "random_trial_data2['min_interval'] = random_trial_data2[['interval_0', 'interval_1']].min(axis=1)\n",
    "random_trial_data2['max_interval'] = random_trial_data2[['interval_0', 'interval_1']].max(axis=1)\n",
    "\n",
    "random_trial_data2['min_vers_clean'] = random_trial_data2[['vers_clean_0', 'vers_clean_1']].min(axis=1)\n",
    "random_trial_data2['max_vers_clean'] = random_trial_data2[['vers_clean_0', 'vers_clean_1']].max(axis=1)"
   ]
  },
  {
   "cell_type": "code",
   "execution_count": 182,
   "id": "22d927fa-5e50-43e9-8bfe-3c88ab9c67a8",
   "metadata": {
    "execution": {
     "iopub.execute_input": "2023-03-28T07:35:34.209604Z",
     "iopub.status.busy": "2023-03-28T07:35:34.209507Z",
     "iopub.status.idle": "2023-03-28T07:35:34.235999Z",
     "shell.execute_reply": "2023-03-28T07:35:34.235624Z",
     "shell.execute_reply.started": "2023-03-28T07:35:34.209595Z"
    },
    "tags": []
   },
   "outputs": [
    {
     "data": {
      "text/html": [
       "<div>\n",
       "<style scoped>\n",
       "    .dataframe tbody tr th:only-of-type {\n",
       "        vertical-align: middle;\n",
       "    }\n",
       "\n",
       "    .dataframe tbody tr th {\n",
       "        vertical-align: top;\n",
       "    }\n",
       "\n",
       "    .dataframe thead th {\n",
       "        text-align: right;\n",
       "    }\n",
       "</style>\n",
       "<table border=\"1\" class=\"dataframe\">\n",
       "  <thead>\n",
       "    <tr style=\"text-align: right;\">\n",
       "      <th></th>\n",
       "      <th>count</th>\n",
       "      <th>mean</th>\n",
       "      <th>std</th>\n",
       "      <th>min</th>\n",
       "      <th>25%</th>\n",
       "      <th>50%</th>\n",
       "      <th>75%</th>\n",
       "      <th>max</th>\n",
       "    </tr>\n",
       "  </thead>\n",
       "  <tbody>\n",
       "    <tr>\n",
       "      <th>merge_noise</th>\n",
       "      <td>2627.0</td>\n",
       "      <td>0.088630</td>\n",
       "      <td>0.139919</td>\n",
       "      <td>0.000000</td>\n",
       "      <td>0.0</td>\n",
       "      <td>0.0</td>\n",
       "      <td>0.136364</td>\n",
       "      <td>0.5</td>\n",
       "    </tr>\n",
       "    <tr>\n",
       "      <th>size_0</th>\n",
       "      <td>2627.0</td>\n",
       "      <td>36.585839</td>\n",
       "      <td>76.649918</td>\n",
       "      <td>1.000000</td>\n",
       "      <td>2.0</td>\n",
       "      <td>10.0</td>\n",
       "      <td>36.500000</td>\n",
       "      <td>1171.0</td>\n",
       "    </tr>\n",
       "    <tr>\n",
       "      <th>size_1</th>\n",
       "      <td>2627.0</td>\n",
       "      <td>34.889989</td>\n",
       "      <td>68.358028</td>\n",
       "      <td>1.000000</td>\n",
       "      <td>2.0</td>\n",
       "      <td>9.0</td>\n",
       "      <td>36.000000</td>\n",
       "      <td>1008.0</td>\n",
       "    </tr>\n",
       "    <tr>\n",
       "      <th>interval_0</th>\n",
       "      <td>2627.0</td>\n",
       "      <td>28.202512</td>\n",
       "      <td>31.084218</td>\n",
       "      <td>0.000000</td>\n",
       "      <td>0.0</td>\n",
       "      <td>15.0</td>\n",
       "      <td>55.000000</td>\n",
       "      <td>88.0</td>\n",
       "    </tr>\n",
       "    <tr>\n",
       "      <th>interval_1</th>\n",
       "      <td>2627.0</td>\n",
       "      <td>28.253902</td>\n",
       "      <td>31.048286</td>\n",
       "      <td>0.000000</td>\n",
       "      <td>0.0</td>\n",
       "      <td>16.0</td>\n",
       "      <td>55.000000</td>\n",
       "      <td>88.0</td>\n",
       "    </tr>\n",
       "    <tr>\n",
       "      <th>vers_clean_0</th>\n",
       "      <td>2627.0</td>\n",
       "      <td>0.998532</td>\n",
       "      <td>0.014183</td>\n",
       "      <td>0.600000</td>\n",
       "      <td>1.0</td>\n",
       "      <td>1.0</td>\n",
       "      <td>1.000000</td>\n",
       "      <td>1.0</td>\n",
       "    </tr>\n",
       "    <tr>\n",
       "      <th>vers_clean_1</th>\n",
       "      <td>2627.0</td>\n",
       "      <td>0.997730</td>\n",
       "      <td>0.020788</td>\n",
       "      <td>0.538462</td>\n",
       "      <td>1.0</td>\n",
       "      <td>1.0</td>\n",
       "      <td>1.000000</td>\n",
       "      <td>1.0</td>\n",
       "    </tr>\n",
       "    <tr>\n",
       "      <th>min_size</th>\n",
       "      <td>2627.0</td>\n",
       "      <td>21.612866</td>\n",
       "      <td>47.886295</td>\n",
       "      <td>1.000000</td>\n",
       "      <td>1.0</td>\n",
       "      <td>5.0</td>\n",
       "      <td>20.000000</td>\n",
       "      <td>618.0</td>\n",
       "    </tr>\n",
       "    <tr>\n",
       "      <th>max_size</th>\n",
       "      <td>2627.0</td>\n",
       "      <td>49.862962</td>\n",
       "      <td>88.640766</td>\n",
       "      <td>1.000000</td>\n",
       "      <td>4.0</td>\n",
       "      <td>18.0</td>\n",
       "      <td>59.000000</td>\n",
       "      <td>1171.0</td>\n",
       "    </tr>\n",
       "    <tr>\n",
       "      <th>min_interval</th>\n",
       "      <td>2627.0</td>\n",
       "      <td>20.605634</td>\n",
       "      <td>27.875358</td>\n",
       "      <td>0.000000</td>\n",
       "      <td>0.0</td>\n",
       "      <td>2.0</td>\n",
       "      <td>38.000000</td>\n",
       "      <td>88.0</td>\n",
       "    </tr>\n",
       "    <tr>\n",
       "      <th>max_interval</th>\n",
       "      <td>2627.0</td>\n",
       "      <td>35.850780</td>\n",
       "      <td>32.201535</td>\n",
       "      <td>0.000000</td>\n",
       "      <td>0.0</td>\n",
       "      <td>30.0</td>\n",
       "      <td>69.000000</td>\n",
       "      <td>88.0</td>\n",
       "    </tr>\n",
       "    <tr>\n",
       "      <th>min_vers_clean</th>\n",
       "      <td>2627.0</td>\n",
       "      <td>0.997145</td>\n",
       "      <td>0.022022</td>\n",
       "      <td>0.538462</td>\n",
       "      <td>1.0</td>\n",
       "      <td>1.0</td>\n",
       "      <td>1.000000</td>\n",
       "      <td>1.0</td>\n",
       "    </tr>\n",
       "    <tr>\n",
       "      <th>max_vers_clean</th>\n",
       "      <td>2627.0</td>\n",
       "      <td>0.999117</td>\n",
       "      <td>0.012112</td>\n",
       "      <td>0.600000</td>\n",
       "      <td>1.0</td>\n",
       "      <td>1.0</td>\n",
       "      <td>1.000000</td>\n",
       "      <td>1.0</td>\n",
       "    </tr>\n",
       "  </tbody>\n",
       "</table>\n",
       "</div>"
      ],
      "text/plain": [
       "                 count       mean        std       min  25%   50%        75%  \\\n",
       "merge_noise     2627.0   0.088630   0.139919  0.000000  0.0   0.0   0.136364   \n",
       "size_0          2627.0  36.585839  76.649918  1.000000  2.0  10.0  36.500000   \n",
       "size_1          2627.0  34.889989  68.358028  1.000000  2.0   9.0  36.000000   \n",
       "interval_0      2627.0  28.202512  31.084218  0.000000  0.0  15.0  55.000000   \n",
       "interval_1      2627.0  28.253902  31.048286  0.000000  0.0  16.0  55.000000   \n",
       "vers_clean_0    2627.0   0.998532   0.014183  0.600000  1.0   1.0   1.000000   \n",
       "vers_clean_1    2627.0   0.997730   0.020788  0.538462  1.0   1.0   1.000000   \n",
       "min_size        2627.0  21.612866  47.886295  1.000000  1.0   5.0  20.000000   \n",
       "max_size        2627.0  49.862962  88.640766  1.000000  4.0  18.0  59.000000   \n",
       "min_interval    2627.0  20.605634  27.875358  0.000000  0.0   2.0  38.000000   \n",
       "max_interval    2627.0  35.850780  32.201535  0.000000  0.0  30.0  69.000000   \n",
       "min_vers_clean  2627.0   0.997145   0.022022  0.538462  1.0   1.0   1.000000   \n",
       "max_vers_clean  2627.0   0.999117   0.012112  0.600000  1.0   1.0   1.000000   \n",
       "\n",
       "                   max  \n",
       "merge_noise        0.5  \n",
       "size_0          1171.0  \n",
       "size_1          1008.0  \n",
       "interval_0        88.0  \n",
       "interval_1        88.0  \n",
       "vers_clean_0       1.0  \n",
       "vers_clean_1       1.0  \n",
       "min_size         618.0  \n",
       "max_size        1171.0  \n",
       "min_interval      88.0  \n",
       "max_interval      88.0  \n",
       "min_vers_clean     1.0  \n",
       "max_vers_clean     1.0  "
      ]
     },
     "execution_count": 182,
     "metadata": {},
     "output_type": "execute_result"
    }
   ],
   "source": [
    "random_trial_data2.describe().transpose()"
   ]
  },
  {
   "cell_type": "code",
   "execution_count": 183,
   "id": "e9ddd5e6-439b-4e94-81ae-759de96fca4d",
   "metadata": {
    "execution": {
     "iopub.execute_input": "2023-03-28T07:35:34.237159Z",
     "iopub.status.busy": "2023-03-28T07:35:34.236650Z",
     "iopub.status.idle": "2023-03-28T07:35:34.251180Z",
     "shell.execute_reply": "2023-03-28T07:35:34.250798Z",
     "shell.execute_reply.started": "2023-03-28T07:35:34.237146Z"
    },
    "tags": []
   },
   "outputs": [],
   "source": [
    "# random_trial_data2.corr(numeric_only=True)['merge_noise'][1:].plot.bar()"
   ]
  },
  {
   "cell_type": "code",
   "execution_count": 184,
   "id": "b071620a-8106-40a2-99d3-f391fcf32650",
   "metadata": {
    "execution": {
     "iopub.execute_input": "2023-03-28T07:35:34.251842Z",
     "iopub.status.busy": "2023-03-28T07:35:34.251720Z",
     "iopub.status.idle": "2023-03-28T07:35:34.585262Z",
     "shell.execute_reply": "2023-03-28T07:35:34.584928Z",
     "shell.execute_reply.started": "2023-03-28T07:35:34.251831Z"
    },
    "tags": []
   },
   "outputs": [
    {
     "data": {
      "text/plain": [
       "<AxesSubplot: >"
      ]
     },
     "execution_count": 184,
     "metadata": {},
     "output_type": "execute_result"
    },
    {
     "data": {
      "image/png": "[encoded data removed]",
      "text/plain": [
       "<Figure size 1200x500 with 2 Axes>"
      ]
     },
     "metadata": {},
     "output_type": "display_data"
    }
   ],
   "source": [
    "sns.heatmap(data=random_trial_data2.corr(numeric_only=True), annot=True, vmin=-1, vmax=1, cmap='vlag')"
   ]
  },
  {
   "cell_type": "code",
   "execution_count": 185,
   "id": "1a85f4ba-1934-4380-ad8e-b6481b7e370c",
   "metadata": {
    "execution": {
     "iopub.execute_input": "2023-03-28T07:35:34.585862Z",
     "iopub.status.busy": "2023-03-28T07:35:34.585762Z",
     "iopub.status.idle": "2023-03-28T07:35:34.597604Z",
     "shell.execute_reply": "2023-03-28T07:35:34.597263Z",
     "shell.execute_reply.started": "2023-03-28T07:35:34.585854Z"
    },
    "tags": []
   },
   "outputs": [],
   "source": [
    "features = ['min_size', 'min_interval', 'min_vers_clean']\n",
    "target = 'merge_noise'"
   ]
  },
  {
   "cell_type": "code",
   "execution_count": 186,
   "id": "e0021222-bc84-4e11-a065-b65c5cc1bdbf",
   "metadata": {
    "execution": {
     "iopub.execute_input": "2023-03-28T07:35:34.598145Z",
     "iopub.status.busy": "2023-03-28T07:35:34.598058Z",
     "iopub.status.idle": "2023-03-28T07:35:34.845799Z",
     "shell.execute_reply": "2023-03-28T07:35:34.845453Z",
     "shell.execute_reply.started": "2023-03-28T07:35:34.598137Z"
    },
    "tags": []
   },
   "outputs": [],
   "source": [
    "matrix2 = []\n",
    "for s in range(1, 30):\n",
    "    row = []\n",
    "    for i in range(14):\n",
    "        total_above_thresh = random_trial_data2.loc[(random_trial_data2[features] >= [s, i, 0.5]).all(axis=1)]\n",
    "        good_aobve_thresh = total_above_thresh[total_above_thresh['merge_noise'] < noise_thresh]\n",
    "        row.append(len(good_aobve_thresh)/len(total_above_thresh))\n",
    "    matrix2.append(row)"
   ]
  },
  {
   "cell_type": "code",
   "execution_count": 187,
   "id": "5ae91c97-8159-43f9-9f8b-09c189933c40",
   "metadata": {
    "execution": {
     "iopub.execute_input": "2023-03-28T07:35:34.846380Z",
     "iopub.status.busy": "2023-03-28T07:35:34.846286Z",
     "iopub.status.idle": "2023-03-28T07:35:35.013758Z",
     "shell.execute_reply": "2023-03-28T07:35:35.013472Z",
     "shell.execute_reply.started": "2023-03-28T07:35:34.846371Z"
    },
    "tags": []
   },
   "outputs": [
    {
     "data": {
      "text/plain": [
       "<AxesSubplot: >"
      ]
     },
     "execution_count": 187,
     "metadata": {},
     "output_type": "execute_result"
    },
    {
     "data": {
      "image/png": "[encoded data removed]",
      "text/plain": [
       "<Figure size 1200x500 with 2 Axes>"
      ]
     },
     "metadata": {},
     "output_type": "display_data"
    }
   ],
   "source": [
    "sns.heatmap(data=pd.DataFrame(matrix2, columns=range(14), index=range(1,30)), \n",
    "            cmap='viridis')"
   ]
  },
  {
   "cell_type": "code",
   "execution_count": 188,
   "id": "49f5d8b5-ee57-40f9-9e85-59cb10eace23",
   "metadata": {
    "execution": {
     "iopub.execute_input": "2023-03-28T07:35:35.014551Z",
     "iopub.status.busy": "2023-03-28T07:35:35.014273Z",
     "iopub.status.idle": "2023-03-28T07:35:35.341546Z",
     "shell.execute_reply": "2023-03-28T07:35:35.341247Z",
     "shell.execute_reply.started": "2023-03-28T07:35:35.014542Z"
    },
    "tags": []
   },
   "outputs": [
    {
     "data": {
      "text/plain": [
       "<matplotlib.colorbar.Colorbar at 0x16d36b4c0>"
      ]
     },
     "execution_count": 188,
     "metadata": {},
     "output_type": "execute_result"
    },
    {
     "data": {
      "image/png": "[encoded data removed]",
      "text/plain": [
       "<Figure size 1200x600 with 3 Axes>"
      ]
     },
     "metadata": {},
     "output_type": "display_data"
    }
   ],
   "source": [
    "fig, ax = plt.subplots(1, 2, figsize=(12, 6), sharey=True)\n",
    "\n",
    "heatmap1 = sns.heatmap(matrix, cmap='viridis', ax=ax[0], cbar=False)\n",
    "ax[0].set_title('Random')\n",
    "\n",
    "heatmap2 = sns.heatmap(matrix2, cmap='viridis', ax=ax[1], cbar=False)\n",
    "ax[1].set_title('Non_random')\n",
    "\n",
    "# Add a shared colorbar to the plot\n",
    "mappable = heatmap1.get_children()[0]\n",
    "plt.colorbar(mappable, ax = ax,orientation = 'horizontal', shrink=0.4)"
   ]
  },
  {
   "cell_type": "code",
   "execution_count": 189,
   "id": "b872541c-b8d8-4f69-bb8c-006087bdebff",
   "metadata": {
    "execution": {
     "iopub.execute_input": "2023-03-28T07:35:35.342217Z",
     "iopub.status.busy": "2023-03-28T07:35:35.342120Z",
     "iopub.status.idle": "2023-03-28T07:35:35.354829Z",
     "shell.execute_reply": "2023-03-28T07:35:35.354527Z",
     "shell.execute_reply.started": "2023-03-28T07:35:35.342209Z"
    },
    "tags": []
   },
   "outputs": [],
   "source": [
    "matrix_part = [m[:10] for m in matrix[:10]]\n",
    "matrix2_part = [m[:10] for m in matrix2[:10]]"
   ]
  },
  {
   "cell_type": "code",
   "execution_count": 190,
   "id": "84182fc7-8696-47c4-9c0e-9dcf73b09c0b",
   "metadata": {
    "execution": {
     "iopub.execute_input": "2023-03-28T07:35:35.355374Z",
     "iopub.status.busy": "2023-03-28T07:35:35.355278Z",
     "iopub.status.idle": "2023-03-28T07:35:35.587364Z",
     "shell.execute_reply": "2023-03-28T07:35:35.587067Z",
     "shell.execute_reply.started": "2023-03-28T07:35:35.355366Z"
    },
    "tags": []
   },
   "outputs": [
    {
     "data": {
      "text/plain": [
       "<matplotlib.colorbar.Colorbar at 0x2d0686d40>"
      ]
     },
     "execution_count": 190,
     "metadata": {},
     "output_type": "execute_result"
    },
    {
     "data": {
      "image/png": "[encoded data removed]",
      "text/plain": [
       "<Figure size 1200x600 with 3 Axes>"
      ]
     },
     "metadata": {},
     "output_type": "display_data"
    }
   ],
   "source": [
    "fig, ax = plt.subplots(1, 2, figsize=(12, 6), sharey=True)\n",
    "\n",
    "heatmap1 = sns.heatmap(matrix_part, cmap='viridis', ax=ax[0], cbar=False)\n",
    "ax[0].set_title('Random')\n",
    "\n",
    "heatmap2 = sns.heatmap(matrix2_part, cmap='viridis', ax=ax[1], cbar=False)\n",
    "ax[1].set_title('Non_random')\n",
    "\n",
    "# Add a shared colorbar to the plot\n",
    "mappable = heatmap1.get_children()[0]\n",
    "plt.colorbar(mappable, ax = ax,orientation = 'horizontal', shrink=0.4)"
   ]
  },
  {
   "cell_type": "code",
   "execution_count": 191,
   "id": "09c49e9e-4a87-4e7e-9d1e-8835e83083b8",
   "metadata": {
    "execution": {
     "iopub.execute_input": "2023-03-28T07:35:35.587904Z",
     "iopub.status.busy": "2023-03-28T07:35:35.587823Z",
     "iopub.status.idle": "2023-03-28T07:35:35.601477Z",
     "shell.execute_reply": "2023-03-28T07:35:35.601209Z",
     "shell.execute_reply.started": "2023-03-28T07:35:35.587896Z"
    },
    "tags": []
   },
   "outputs": [
    {
     "data": {
      "text/plain": [
       "226"
      ]
     },
     "execution_count": 191,
     "metadata": {},
     "output_type": "execute_result"
    }
   ],
   "source": [
    "s = 20\n",
    "i = 14\n",
    "len(random_trial_data.loc[(random_trial_data[features] >= [s, i, 0.5]).all(axis=1)])"
   ]
  },
  {
   "cell_type": "code",
   "execution_count": 192,
   "id": "c64fc6bc-53c9-4298-bec6-254d9e110c49",
   "metadata": {
    "execution": {
     "iopub.execute_input": "2023-03-28T07:35:35.601901Z",
     "iopub.status.busy": "2023-03-28T07:35:35.601824Z",
     "iopub.status.idle": "2023-03-28T07:35:35.842273Z",
     "shell.execute_reply": "2023-03-28T07:35:35.841858Z",
     "shell.execute_reply.started": "2023-03-28T07:35:35.601892Z"
    },
    "tags": []
   },
   "outputs": [],
   "source": [
    "matrix_test = []\n",
    "for s in range(1, 30):\n",
    "    row = []\n",
    "    for i in range(14):\n",
    "        total_above_thresh = random_trial_data2.loc[(random_trial_data2[features] >= [s, i, 0.5]).all(axis=1)]\n",
    "        good_aobve_thresh = total_above_thresh[total_above_thresh['merge_noise'] < noise_thresh]\n",
    "        row.append(len(total_above_thresh))\n",
    "    matrix_test.append(row)"
   ]
  },
  {
   "cell_type": "code",
   "execution_count": 193,
   "id": "91124292-1269-4e5b-9517-57ea769a18b7",
   "metadata": {
    "execution": {
     "iopub.execute_input": "2023-03-28T07:35:35.842928Z",
     "iopub.status.busy": "2023-03-28T07:35:35.842831Z",
     "iopub.status.idle": "2023-03-28T07:35:35.855096Z",
     "shell.execute_reply": "2023-03-28T07:35:35.854739Z",
     "shell.execute_reply.started": "2023-03-28T07:35:35.842920Z"
    },
    "tags": []
   },
   "outputs": [
    {
     "data": {
      "text/plain": [
       "423"
      ]
     },
     "execution_count": 193,
     "metadata": {},
     "output_type": "execute_result"
    }
   ],
   "source": [
    "min(min(matrix_test))"
   ]
  },
  {
   "cell_type": "code",
   "execution_count": 194,
   "id": "ff5da7dc-a2b3-4cf6-a82d-4a116023430d",
   "metadata": {
    "execution": {
     "iopub.execute_input": "2023-03-28T07:35:35.855561Z",
     "iopub.status.busy": "2023-03-28T07:35:35.855477Z",
     "iopub.status.idle": "2023-03-28T07:35:36.039870Z",
     "shell.execute_reply": "2023-03-28T07:35:36.039532Z",
     "shell.execute_reply.started": "2023-03-28T07:35:35.855553Z"
    },
    "tags": []
   },
   "outputs": [
    {
     "data": {
      "text/plain": [
       "Text(0.5, 1.0, 'Non-Random')"
      ]
     },
     "execution_count": 194,
     "metadata": {},
     "output_type": "execute_result"
    },
    {
     "data": {
      "image/png": "[encoded data removed]",
      "text/plain": [
       "<Figure size 1200x500 with 2 Axes>"
      ]
     },
     "metadata": {},
     "output_type": "display_data"
    }
   ],
   "source": [
    "sns.heatmap(matrix_test, cmap='viridis')\n",
    "plt.title(\"Non-Random\")"
   ]
  },
  {
   "cell_type": "markdown",
   "id": "45122602-7b00-42e3-aa4e-22bb39e5a16c",
   "metadata": {},
   "source": [
    "## GridSearch"
   ]
  },
  {
   "cell_type": "code",
   "execution_count": 195,
   "id": "2d1f1d3a-a846-4450-b255-2a6f81668962",
   "metadata": {
    "execution": {
     "iopub.execute_input": "2023-03-28T07:35:36.040407Z",
     "iopub.status.busy": "2023-03-28T07:35:36.040323Z",
     "iopub.status.idle": "2023-03-28T07:35:36.052798Z",
     "shell.execute_reply": "2023-03-28T07:35:36.052486Z",
     "shell.execute_reply.started": "2023-03-28T07:35:36.040398Z"
    },
    "tags": []
   },
   "outputs": [],
   "source": [
    "def good_cookies_above_thresh(df, min_interval, min_size, min_vers_clean, merge_noise):\n",
    "    total_above_thresh = df.loc[(df[features] >= [min_size, min_interval, min_vers_clean]).all(axis=1)]\n",
    "    good_aobve_thresh = total_above_thresh[total_above_thresh['merge_noise'] < merge_noise]\n",
    "    return len(good_aobve_thresh)/len(total_above_thresh)"
   ]
  },
  {
   "cell_type": "code",
   "execution_count": 196,
   "id": "ffadcafb-28cd-4217-90f6-979918d6e95b",
   "metadata": {
    "execution": {
     "iopub.execute_input": "2023-03-28T07:35:36.053345Z",
     "iopub.status.busy": "2023-03-28T07:35:36.053267Z",
     "iopub.status.idle": "2023-03-28T07:35:41.821909Z",
     "shell.execute_reply": "2023-03-28T07:35:41.821457Z",
     "shell.execute_reply.started": "2023-03-28T07:35:36.053337Z"
    },
    "tags": []
   },
   "outputs": [
    {
     "data": {
      "application/vnd.jupyter.widget-view+json": {
       "model_id": "79e82b2210844fc4850aa1acb81dfc90",
       "version_major": 2,
       "version_minor": 0
      },
      "text/plain": [
       "  0%|          | 0/5000 [00:00<?, ?it/s]"
      ]
     },
     "metadata": {},
     "output_type": "display_data"
    },
    {
     "name": "stdout",
     "output_type": "stream",
     "text": [
      "Best difference parameters: {'min_interval': 12, 'min_size': 9, 'min_vers_clean': 1.0, 'merge_noise': 0.02}\n",
      "Largest difference: 0.5902115431645879\n",
      "Best ratio parameters: {'min_interval': 11, 'min_size': 9, 'min_vers_clean': 0.778, 'merge_noise': 0.02}\n",
      "Largest ratio: 0.9538228785620738\n"
     ]
    }
   ],
   "source": [
    "# Define the ranges of parameter values to sample from\n",
    "param_ranges = {\n",
    "    'min_interval': np.arange(0, 14),\n",
    "    'min_size': np.arange(1, 10),\n",
    "    'min_vers_clean': np.linspace(0.5, 1, 10),\n",
    "    'merge_noise': np.linspace(0, 0.2, 11)\n",
    "}\n",
    "\n",
    "# Set the number of random samples to generate\n",
    "num_samples = 5000\n",
    "\n",
    "# Initialize variables to keep track of the best parameter values and the largest difference\n",
    "best_diff_params = None\n",
    "best_ratio_params = None\n",
    "largest_difference = None\n",
    "largest_ratio = None\n",
    "\n",
    "# Loop over all random samples of parameter values\n",
    "for i in tqdm(range(num_samples)):\n",
    "    # Sample random values for each parameter within the specified ranges\n",
    "    param_values = {\n",
    "        param_name: np.random.choice(param_range) for param_name, param_range in param_ranges.items()\n",
    "    }\n",
    "    \n",
    "    # Apply the function to both dataframes with the current parameter values\n",
    "    result1 = good_cookies_above_thresh(random_trial_data, **param_values)\n",
    "    result2 = good_cookies_above_thresh(random_trial_data2, **param_values)\n",
    "    \n",
    "    # Compute the difference between the results\n",
    "    difference = abs(result2 - result1)\n",
    "    if result2 > 0:\n",
    "        ratio = 1 - result1/result2\n",
    "    else:\n",
    "        ratio = 0\n",
    "    \n",
    "    # Check if the current parameter values give a larger difference than the previous best\n",
    "    if largest_difference is None or difference > largest_difference:\n",
    "        largest_difference = difference\n",
    "        best_diff_params = param_values\n",
    "\n",
    "    if largest_ratio is None or ratio > largest_ratio:\n",
    "        largest_ratio = ratio\n",
    "        best_ratio_params = param_values\n",
    "\n",
    "# Print the best parameter values and the largest difference\n",
    "print(\"Best difference parameters:\", {k: round(v, 3) for k,v in best_diff_params.items()})\n",
    "print(\"Largest difference:\", largest_difference)\n",
    "print(\"Best ratio parameters:\", {k: round(v, 3) for k,v in best_ratio_params.items()})\n",
    "print(\"Largest ratio:\", largest_ratio)"
   ]
  },
  {
   "cell_type": "code",
   "execution_count": 197,
   "id": "543b100d-1667-4d3e-8b41-8c6044af9a3b",
   "metadata": {
    "execution": {
     "iopub.execute_input": "2023-03-28T07:35:41.822876Z",
     "iopub.status.busy": "2023-03-28T07:35:41.822755Z",
     "iopub.status.idle": "2023-03-28T07:35:41.843720Z",
     "shell.execute_reply": "2023-03-28T07:35:41.843378Z",
     "shell.execute_reply.started": "2023-03-28T07:35:41.822863Z"
    },
    "tags": []
   },
   "outputs": [
    {
     "data": {
      "text/html": [
       "<div>\n",
       "<style scoped>\n",
       "    .dataframe tbody tr th:only-of-type {\n",
       "        vertical-align: middle;\n",
       "    }\n",
       "\n",
       "    .dataframe tbody tr th {\n",
       "        vertical-align: top;\n",
       "    }\n",
       "\n",
       "    .dataframe thead th {\n",
       "        text-align: right;\n",
       "    }\n",
       "</style>\n",
       "<table border=\"1\" class=\"dataframe\">\n",
       "  <thead>\n",
       "    <tr style=\"text-align: right;\">\n",
       "      <th></th>\n",
       "      <th>min_interval</th>\n",
       "      <th>min_size</th>\n",
       "      <th>min_vers_clean</th>\n",
       "      <th>merge_noise</th>\n",
       "      <th>random</th>\n",
       "      <th>non-random</th>\n",
       "    </tr>\n",
       "  </thead>\n",
       "  <tbody>\n",
       "    <tr>\n",
       "      <th>best</th>\n",
       "      <td>12</td>\n",
       "      <td>9</td>\n",
       "      <td>1.0</td>\n",
       "      <td>0.02</td>\n",
       "      <td>0.031915</td>\n",
       "      <td>0.622126</td>\n",
       "    </tr>\n",
       "  </tbody>\n",
       "</table>\n",
       "</div>"
      ],
      "text/plain": [
       "      min_interval  min_size  min_vers_clean  merge_noise    random  \\\n",
       "best            12         9             1.0         0.02  0.031915   \n",
       "\n",
       "      non-random  \n",
       "best    0.622126  "
      ]
     },
     "execution_count": 197,
     "metadata": {},
     "output_type": "execute_result"
    }
   ],
   "source": [
    "result_diff = {k: round(v, 3) for k,v in best_diff_params.items()}\n",
    "result_diff['random'] = good_cookies_above_thresh(random_trial_data, **best_diff_params)\n",
    "result_diff['non-random'] = good_cookies_above_thresh(random_trial_data2, **best_diff_params)\n",
    "pd.DataFrame(result_diff, index=['best'])"
   ]
  },
  {
   "cell_type": "code",
   "execution_count": 198,
   "id": "94d8646a-c684-4ed0-92ab-e38eb88dd78f",
   "metadata": {
    "execution": {
     "iopub.execute_input": "2023-03-28T07:35:41.844257Z",
     "iopub.status.busy": "2023-03-28T07:35:41.844170Z",
     "iopub.status.idle": "2023-03-28T07:35:41.860818Z",
     "shell.execute_reply": "2023-03-28T07:35:41.860443Z",
     "shell.execute_reply.started": "2023-03-28T07:35:41.844248Z"
    },
    "tags": []
   },
   "outputs": [
    {
     "data": {
      "text/html": [
       "<div>\n",
       "<style scoped>\n",
       "    .dataframe tbody tr th:only-of-type {\n",
       "        vertical-align: middle;\n",
       "    }\n",
       "\n",
       "    .dataframe tbody tr th {\n",
       "        vertical-align: top;\n",
       "    }\n",
       "\n",
       "    .dataframe thead th {\n",
       "        text-align: right;\n",
       "    }\n",
       "</style>\n",
       "<table border=\"1\" class=\"dataframe\">\n",
       "  <thead>\n",
       "    <tr style=\"text-align: right;\">\n",
       "      <th></th>\n",
       "      <th>min_interval</th>\n",
       "      <th>min_size</th>\n",
       "      <th>min_vers_clean</th>\n",
       "      <th>merge_noise</th>\n",
       "      <th>random</th>\n",
       "      <th>non-random</th>\n",
       "    </tr>\n",
       "  </thead>\n",
       "  <tbody>\n",
       "    <tr>\n",
       "      <th>best</th>\n",
       "      <td>11</td>\n",
       "      <td>9</td>\n",
       "      <td>0.778</td>\n",
       "      <td>0.02</td>\n",
       "      <td>0.027548</td>\n",
       "      <td>0.596577</td>\n",
       "    </tr>\n",
       "  </tbody>\n",
       "</table>\n",
       "</div>"
      ],
      "text/plain": [
       "      min_interval  min_size  min_vers_clean  merge_noise    random  \\\n",
       "best            11         9           0.778         0.02  0.027548   \n",
       "\n",
       "      non-random  \n",
       "best    0.596577  "
      ]
     },
     "execution_count": 198,
     "metadata": {},
     "output_type": "execute_result"
    }
   ],
   "source": [
    "result_diff = {k: round(v, 3) for k,v in best_ratio_params.items()}\n",
    "result_diff['random'] = good_cookies_above_thresh(random_trial_data, **best_ratio_params)\n",
    "result_diff['non-random'] = good_cookies_above_thresh(random_trial_data2, **best_ratio_params)\n",
    "pd.DataFrame(result_diff, index=['best'])"
   ]
  },
  {
   "cell_type": "code",
   "execution_count": 199,
   "id": "332f0313-0c8e-46ac-b0e8-2ce2d514b779",
   "metadata": {
    "execution": {
     "iopub.execute_input": "2023-03-28T07:35:41.861527Z",
     "iopub.status.busy": "2023-03-28T07:35:41.861416Z",
     "iopub.status.idle": "2023-03-28T07:35:48.904669Z",
     "shell.execute_reply": "2023-03-28T07:35:48.904379Z",
     "shell.execute_reply.started": "2023-03-28T07:35:41.861519Z"
    },
    "tags": []
   },
   "outputs": [
    {
     "data": {
      "application/vnd.jupyter.widget-view+json": {
       "model_id": "37ca4e3a60764f67aed34e03659d2f6a",
       "version_major": 2,
       "version_minor": 0
      },
      "text/plain": [
       "  0%|          | 0/5000 [00:00<?, ?it/s]"
      ]
     },
     "metadata": {},
     "output_type": "display_data"
    }
   ],
   "source": [
    "# Define the ranges of parameter values to sample from\n",
    "param_ranges = {\n",
    "    'min_interval': np.arange(0, 14),\n",
    "    'min_size': np.arange(1, 10),\n",
    "    'min_vers_clean': np.linspace(0.5, 1, 10),\n",
    "    'merge_noise': np.linspace(0, 0.2, 11)\n",
    "}\n",
    "\n",
    "# Set the number of random samples to generate\n",
    "num_samples = 5000\n",
    "\n",
    "# Initialize an empty dataframe to store the results\n",
    "results_df = pd.DataFrame(columns=list(param_ranges.keys()) + ['random', 'non-random', 'difference', 'ratio'])\n",
    "\n",
    "# Loop over all random samples of parameter values\n",
    "for i in tqdm(range(num_samples)):\n",
    "    # Sample random values for each parameter within the specified ranges\n",
    "    param_values = {\n",
    "        param_name: np.random.choice(param_range) for param_name, param_range in param_ranges.items()\n",
    "    }\n",
    "    \n",
    "    # Apply the function to both dataframes with the current parameter values\n",
    "    result1 = good_cookies_above_thresh(random_trial_data, **param_values)\n",
    "    result2 = good_cookies_above_thresh(random_trial_data2, **param_values)\n",
    "    \n",
    "    # Compute the difference between the results\n",
    "    difference = abs(result2 - result1)\n",
    "    if result2 > 0:\n",
    "        ratio = 1 - result1/result2\n",
    "    else:\n",
    "        ratio = 0.\n",
    "    \n",
    "    # Create a new dataframe with the current parameter values and the resulting difference\n",
    "    row_df = pd.DataFrame({**param_values, 'random': result1, 'non-random': result2,\n",
    "                           'difference': difference, 'ratio': ratio}, index=[0])\n",
    "    \n",
    "    # Concatenate the new dataframe to the results dataframe\n",
    "    results_df = pd.concat([results_df, row_df], ignore_index=True)"
   ]
  },
  {
   "cell_type": "code",
   "execution_count": 200,
   "id": "9474f99e-a48c-45bb-a9df-9b9cf9ee05c6",
   "metadata": {
    "execution": {
     "iopub.execute_input": "2023-03-28T07:35:48.905199Z",
     "iopub.status.busy": "2023-03-28T07:35:48.905113Z",
     "iopub.status.idle": "2023-03-28T07:35:48.917529Z",
     "shell.execute_reply": "2023-03-28T07:35:48.917205Z",
     "shell.execute_reply.started": "2023-03-28T07:35:48.905191Z"
    },
    "tags": []
   },
   "outputs": [],
   "source": [
    "results_df['min_interval'] = results_df['min_interval'].astype('int')\n",
    "results_df['min_size'] = results_df['min_size'].astype('int')"
   ]
  },
  {
   "cell_type": "code",
   "execution_count": 201,
   "id": "bea474ea-7826-4328-98e0-f3a1ee06be49",
   "metadata": {
    "execution": {
     "iopub.execute_input": "2023-03-28T07:35:48.918095Z",
     "iopub.status.busy": "2023-03-28T07:35:48.918003Z",
     "iopub.status.idle": "2023-03-28T07:35:48.932142Z",
     "shell.execute_reply": "2023-03-28T07:35:48.931879Z",
     "shell.execute_reply.started": "2023-03-28T07:35:48.918087Z"
    },
    "tags": []
   },
   "outputs": [
    {
     "data": {
      "text/html": [
       "<div>\n",
       "<style scoped>\n",
       "    .dataframe tbody tr th:only-of-type {\n",
       "        vertical-align: middle;\n",
       "    }\n",
       "\n",
       "    .dataframe tbody tr th {\n",
       "        vertical-align: top;\n",
       "    }\n",
       "\n",
       "    .dataframe thead th {\n",
       "        text-align: right;\n",
       "    }\n",
       "</style>\n",
       "<table border=\"1\" class=\"dataframe\">\n",
       "  <thead>\n",
       "    <tr style=\"text-align: right;\">\n",
       "      <th></th>\n",
       "      <th>min_interval</th>\n",
       "      <th>min_size</th>\n",
       "      <th>min_vers_clean</th>\n",
       "      <th>merge_noise</th>\n",
       "      <th>random</th>\n",
       "      <th>non-random</th>\n",
       "      <th>difference</th>\n",
       "      <th>ratio</th>\n",
       "    </tr>\n",
       "  </thead>\n",
       "  <tbody>\n",
       "    <tr>\n",
       "      <th>4814</th>\n",
       "      <td>12</td>\n",
       "      <td>9</td>\n",
       "      <td>0.777778</td>\n",
       "      <td>0.02</td>\n",
       "      <td>0.028090</td>\n",
       "      <td>0.595561</td>\n",
       "      <td>0.567471</td>\n",
       "      <td>0.952835</td>\n",
       "    </tr>\n",
       "    <tr>\n",
       "      <th>4345</th>\n",
       "      <td>11</td>\n",
       "      <td>9</td>\n",
       "      <td>0.944444</td>\n",
       "      <td>0.02</td>\n",
       "      <td>0.028329</td>\n",
       "      <td>0.598259</td>\n",
       "      <td>0.569930</td>\n",
       "      <td>0.952648</td>\n",
       "    </tr>\n",
       "    <tr>\n",
       "      <th>556</th>\n",
       "      <td>13</td>\n",
       "      <td>9</td>\n",
       "      <td>0.555556</td>\n",
       "      <td>0.02</td>\n",
       "      <td>0.028249</td>\n",
       "      <td>0.595771</td>\n",
       "      <td>0.567523</td>\n",
       "      <td>0.952585</td>\n",
       "    </tr>\n",
       "    <tr>\n",
       "      <th>4780</th>\n",
       "      <td>13</td>\n",
       "      <td>9</td>\n",
       "      <td>0.777778</td>\n",
       "      <td>0.02</td>\n",
       "      <td>0.028249</td>\n",
       "      <td>0.595506</td>\n",
       "      <td>0.567257</td>\n",
       "      <td>0.952564</td>\n",
       "    </tr>\n",
       "    <tr>\n",
       "      <th>3660</th>\n",
       "      <td>12</td>\n",
       "      <td>9</td>\n",
       "      <td>0.888889</td>\n",
       "      <td>0.02</td>\n",
       "      <td>0.028249</td>\n",
       "      <td>0.595062</td>\n",
       "      <td>0.566813</td>\n",
       "      <td>0.952528</td>\n",
       "    </tr>\n",
       "    <tr>\n",
       "      <th>3315</th>\n",
       "      <td>12</td>\n",
       "      <td>9</td>\n",
       "      <td>0.888889</td>\n",
       "      <td>0.02</td>\n",
       "      <td>0.028249</td>\n",
       "      <td>0.595062</td>\n",
       "      <td>0.566813</td>\n",
       "      <td>0.952528</td>\n",
       "    </tr>\n",
       "    <tr>\n",
       "      <th>4848</th>\n",
       "      <td>12</td>\n",
       "      <td>9</td>\n",
       "      <td>0.888889</td>\n",
       "      <td>0.02</td>\n",
       "      <td>0.028249</td>\n",
       "      <td>0.595062</td>\n",
       "      <td>0.566813</td>\n",
       "      <td>0.952528</td>\n",
       "    </tr>\n",
       "    <tr>\n",
       "      <th>1350</th>\n",
       "      <td>12</td>\n",
       "      <td>9</td>\n",
       "      <td>0.944444</td>\n",
       "      <td>0.02</td>\n",
       "      <td>0.028902</td>\n",
       "      <td>0.597240</td>\n",
       "      <td>0.568338</td>\n",
       "      <td>0.951608</td>\n",
       "    </tr>\n",
       "    <tr>\n",
       "      <th>2067</th>\n",
       "      <td>11</td>\n",
       "      <td>8</td>\n",
       "      <td>0.722222</td>\n",
       "      <td>0.02</td>\n",
       "      <td>0.028796</td>\n",
       "      <td>0.593496</td>\n",
       "      <td>0.564700</td>\n",
       "      <td>0.951481</td>\n",
       "    </tr>\n",
       "    <tr>\n",
       "      <th>205</th>\n",
       "      <td>12</td>\n",
       "      <td>8</td>\n",
       "      <td>0.611111</td>\n",
       "      <td>0.02</td>\n",
       "      <td>0.029412</td>\n",
       "      <td>0.592506</td>\n",
       "      <td>0.563094</td>\n",
       "      <td>0.950360</td>\n",
       "    </tr>\n",
       "  </tbody>\n",
       "</table>\n",
       "</div>"
      ],
      "text/plain": [
       "      min_interval  min_size  min_vers_clean  merge_noise    random  \\\n",
       "4814            12         9        0.777778         0.02  0.028090   \n",
       "4345            11         9        0.944444         0.02  0.028329   \n",
       "556             13         9        0.555556         0.02  0.028249   \n",
       "4780            13         9        0.777778         0.02  0.028249   \n",
       "3660            12         9        0.888889         0.02  0.028249   \n",
       "3315            12         9        0.888889         0.02  0.028249   \n",
       "4848            12         9        0.888889         0.02  0.028249   \n",
       "1350            12         9        0.944444         0.02  0.028902   \n",
       "2067            11         8        0.722222         0.02  0.028796   \n",
       "205             12         8        0.611111         0.02  0.029412   \n",
       "\n",
       "      non-random  difference     ratio  \n",
       "4814    0.595561    0.567471  0.952835  \n",
       "4345    0.598259    0.569930  0.952648  \n",
       "556     0.595771    0.567523  0.952585  \n",
       "4780    0.595506    0.567257  0.952564  \n",
       "3660    0.595062    0.566813  0.952528  \n",
       "3315    0.595062    0.566813  0.952528  \n",
       "4848    0.595062    0.566813  0.952528  \n",
       "1350    0.597240    0.568338  0.951608  \n",
       "2067    0.593496    0.564700  0.951481  \n",
       "205     0.592506    0.563094  0.950360  "
      ]
     },
     "execution_count": 201,
     "metadata": {},
     "output_type": "execute_result"
    }
   ],
   "source": [
    "results_df.sort_values(by='ratio', ascending=False).head(10)"
   ]
  },
  {
   "cell_type": "code",
   "execution_count": 202,
   "id": "0244ec91-a2f0-46cd-82bf-27d4736384b9",
   "metadata": {
    "execution": {
     "iopub.execute_input": "2023-03-28T07:35:48.932703Z",
     "iopub.status.busy": "2023-03-28T07:35:48.932608Z",
     "iopub.status.idle": "2023-03-28T07:35:49.040887Z",
     "shell.execute_reply": "2023-03-28T07:35:49.040425Z",
     "shell.execute_reply.started": "2023-03-28T07:35:48.932694Z"
    },
    "tags": []
   },
   "outputs": [
    {
     "data": {
      "text/plain": [
       "<AxesSubplot: >"
      ]
     },
     "execution_count": 202,
     "metadata": {},
     "output_type": "execute_result"
    },
    {
     "data": {
      "image/png": "[encoded data removed]",
      "text/plain": [
       "<Figure size 1200x500 with 1 Axes>"
      ]
     },
     "metadata": {},
     "output_type": "display_data"
    }
   ],
   "source": [
    "results_df.corr()[['difference', 'ratio']][:4].plot.bar()"
   ]
  },
  {
   "cell_type": "markdown",
   "id": "f2e830a8-6540-4434-9b55-4d5de092b9c2",
   "metadata": {},
   "source": [
    "## Restrict by longest living cookie"
   ]
  },
  {
   "cell_type": "markdown",
   "id": "0fa31cfb-79fe-4e31-8f97-b032b19849fb",
   "metadata": {},
   "source": [
    "### LOTS"
   ]
  },
  {
   "cell_type": "code",
   "execution_count": null,
   "id": "435c6cea-0abe-497d-95b6-1e9ff2941a25",
   "metadata": {
    "execution": {
     "iopub.status.busy": "2023-03-28T05:50:52.973045Z",
     "iopub.status.idle": "2023-03-28T05:50:52.973176Z",
     "shell.execute_reply": "2023-03-28T05:50:52.973108Z",
     "shell.execute_reply.started": "2023-03-28T05:50:52.973103Z"
    },
    "tags": []
   },
   "outputs": [],
   "source": [
    "df = cookie_time.head(15).reset_index().sort_values(by='min')"
   ]
  },
  {
   "cell_type": "code",
   "execution_count": null,
   "id": "95b121b7-be7d-4ece-a075-cb330f8f426a",
   "metadata": {
    "execution": {
     "iopub.status.busy": "2023-03-28T05:50:52.974010Z",
     "iopub.status.idle": "2023-03-28T05:50:52.974127Z",
     "shell.execute_reply": "2023-03-28T05:50:52.974064Z",
     "shell.execute_reply.started": "2023-03-28T05:50:52.974057Z"
    },
    "tags": []
   },
   "outputs": [],
   "source": [
    "longest_sequence(cookie_time.sample(15).reset_index(), name_str='iiqid', start_str='min', end_str='max')"
   ]
  },
  {
   "cell_type": "code",
   "execution_count": null,
   "id": "fed5250b-114f-46d1-90dc-0e1d2e6afb07",
   "metadata": {
    "execution": {
     "iopub.status.busy": "2023-03-28T05:50:52.974701Z",
     "iopub.status.idle": "2023-03-28T05:50:52.974826Z",
     "shell.execute_reply": "2023-03-28T05:50:52.974764Z",
     "shell.execute_reply.started": "2023-03-28T05:50:52.974756Z"
    },
    "tags": []
   },
   "outputs": [],
   "source": [
    "shots = cookie_time[(5 < cookie_time['interval']) & (cookie_time['interval'] < 20)].reset_index()"
   ]
  },
  {
   "cell_type": "code",
   "execution_count": null,
   "id": "78eb5a32-a0d5-4856-a529-c36b2b01b3a5",
   "metadata": {
    "execution": {
     "iopub.status.busy": "2023-03-28T05:50:52.975260Z",
     "iopub.status.idle": "2023-03-28T05:50:52.975373Z",
     "shell.execute_reply": "2023-03-28T05:50:52.975315Z",
     "shell.execute_reply.started": "2023-03-28T05:50:52.975308Z"
    },
    "tags": []
   },
   "outputs": [],
   "source": [
    "# df = cookie_time.sample(15).reset_index()\n",
    "df = shots.head(15)\n",
    "chosen_ids = longest_sequence(df, name_str='iiqid', start_str='min', end_str='max')\n",
    "plot_intervals(df, name_str='iiqid', start_str='min', end_str='max', color='green', highlight_ids=chosen_ids, highlight_color='red')"
   ]
  },
  {
   "cell_type": "markdown",
   "id": "a1b93fcf-039d-43bc-b106-844919aea728",
   "metadata": {},
   "source": [
    "### Filtering"
   ]
  },
  {
   "cell_type": "code",
   "execution_count": 136,
   "id": "a9e096f3-2cc5-47fb-9a2a-aa7c2ec338d5",
   "metadata": {
    "execution": {
     "iopub.execute_input": "2023-03-28T07:33:02.335836Z",
     "iopub.status.busy": "2023-03-28T07:33:02.335345Z",
     "iopub.status.idle": "2023-03-28T07:33:02.356618Z",
     "shell.execute_reply": "2023-03-28T07:33:02.356105Z",
     "shell.execute_reply.started": "2023-03-28T07:33:02.335801Z"
    },
    "tags": []
   },
   "outputs": [],
   "source": [
    "const = ['hh_id',\"brand\", \"model\", \"os\", \"browser\"]"
   ]
  },
  {
   "cell_type": "code",
   "execution_count": 289,
   "id": "6b4784e0-35aa-44d8-94bb-3f323c04c6b4",
   "metadata": {
    "execution": {
     "iopub.execute_input": "2023-03-28T11:27:55.701535Z",
     "iopub.status.busy": "2023-03-28T11:27:55.699927Z",
     "iopub.status.idle": "2023-03-28T11:27:55.923676Z",
     "shell.execute_reply": "2023-03-28T11:27:55.923220Z",
     "shell.execute_reply.started": "2023-03-28T11:27:55.701446Z"
    },
    "tags": []
   },
   "outputs": [],
   "source": [
    "cookies_data = cookie_time.reset_index().merge(data[const+['iiqid']], on='iiqid', how='left')"
   ]
  },
  {
   "cell_type": "code",
   "execution_count": 300,
   "id": "41d356bb-9413-4d70-834b-95f6b7f8f974",
   "metadata": {
    "execution": {
     "iopub.execute_input": "2023-03-28T11:35:48.077418Z",
     "iopub.status.busy": "2023-03-28T11:35:48.076041Z",
     "iopub.status.idle": "2023-03-28T11:35:48.450127Z",
     "shell.execute_reply": "2023-03-28T11:35:48.449663Z",
     "shell.execute_reply.started": "2023-03-28T11:35:48.077356Z"
    },
    "tags": []
   },
   "outputs": [],
   "source": [
    "longest_cookie_per_home = cookies_data.groupby('hh_id').apply(lambda h: h.loc[h['interval'].idxmax(), 'iiqid'])"
   ]
  },
  {
   "cell_type": "code",
   "execution_count": 304,
   "id": "559e3813-fea5-4ac9-9167-cadb37555f06",
   "metadata": {
    "execution": {
     "iopub.execute_input": "2023-03-28T11:37:22.863641Z",
     "iopub.status.busy": "2023-03-28T11:37:22.862730Z",
     "iopub.status.idle": "2023-03-28T11:37:22.893557Z",
     "shell.execute_reply": "2023-03-28T11:37:22.893132Z",
     "shell.execute_reply.started": "2023-03-28T11:37:22.863577Z"
    },
    "tags": []
   },
   "outputs": [],
   "source": [
    "longest_cookie_per_home.name = 'iiqid'"
   ]
  },
  {
   "cell_type": "code",
   "execution_count": 308,
   "id": "5cfcb63a-6f6d-47c8-ba2d-9da6f5ff3041",
   "metadata": {
    "execution": {
     "iopub.execute_input": "2023-03-28T11:38:06.398755Z",
     "iopub.status.busy": "2023-03-28T11:38:06.397965Z",
     "iopub.status.idle": "2023-03-28T11:38:06.607755Z",
     "shell.execute_reply": "2023-03-28T11:38:06.607387Z",
     "shell.execute_reply.started": "2023-03-28T11:38:06.398690Z"
    },
    "tags": []
   },
   "outputs": [],
   "source": [
    "longest_cookie_per_home_data = pd.merge(longest_cookie_per_home.reset_index(), cookies_data, on=['hh_id', 'iiqid'], how='inner')"
   ]
  },
  {
   "cell_type": "code",
   "execution_count": 312,
   "id": "768d7a46-8f53-422b-acfe-d76061d6f5d4",
   "metadata": {
    "execution": {
     "iopub.execute_input": "2023-03-28T11:38:51.058321Z",
     "iopub.status.busy": "2023-03-28T11:38:51.057853Z",
     "iopub.status.idle": "2023-03-28T11:38:51.224664Z",
     "shell.execute_reply": "2023-03-28T11:38:51.224239Z",
     "shell.execute_reply.started": "2023-03-28T11:38:51.058290Z"
    },
    "tags": []
   },
   "outputs": [
    {
     "data": {
      "text/plain": [
       "<AxesSubplot: ylabel='Frequency'>"
      ]
     },
     "execution_count": 312,
     "metadata": {},
     "output_type": "execute_result"
    },
    {
     "data": {
      "image/png": "[encoded data removed]",
      "text/plain": [
       "<Figure size 1200x500 with 1 Axes>"
      ]
     },
     "metadata": {},
     "output_type": "display_data"
    }
   ],
   "source": [
    "longest_cookie_per_home_data['interval'].plot.hist(bins=50)"
   ]
  },
  {
   "cell_type": "code",
   "execution_count": 137,
   "id": "c0d1483c-bf43-4892-936d-d1ecc0428ce8",
   "metadata": {
    "execution": {
     "iopub.execute_input": "2023-03-28T07:33:02.485638Z",
     "iopub.status.busy": "2023-03-28T07:33:02.484876Z",
     "iopub.status.idle": "2023-03-28T07:33:02.515942Z",
     "shell.execute_reply": "2023-03-28T07:33:02.515190Z",
     "shell.execute_reply.started": "2023-03-28T07:33:02.485579Z"
    },
    "tags": []
   },
   "outputs": [],
   "source": [
    "def has_multiple_ua(house):\n",
    "    user_agents = house[const].drop_duplicates()\n",
    "    return len(user_agents) >= 2"
   ]
  },
  {
   "cell_type": "code",
   "execution_count": 234,
   "id": "2d7ce604-7f2b-46e4-8fcd-3b3607f3ea25",
   "metadata": {
    "execution": {
     "iopub.execute_input": "2023-03-28T08:01:25.361910Z",
     "iopub.status.busy": "2023-03-28T08:01:25.360944Z",
     "iopub.status.idle": "2023-03-28T08:01:27.843634Z",
     "shell.execute_reply": "2023-03-28T08:01:27.842724Z",
     "shell.execute_reply.started": "2023-03-28T08:01:25.361851Z"
    },
    "tags": []
   },
   "outputs": [],
   "source": [
    "filtered = data.groupby('hh_id', observed=True).filter(has_multiple_ua)"
   ]
  },
  {
   "cell_type": "code",
   "execution_count": 235,
   "id": "4320f13e-f882-47b6-99e8-3f5e5ca6e3eb",
   "metadata": {
    "execution": {
     "iopub.execute_input": "2023-03-28T08:01:27.845132Z",
     "iopub.status.busy": "2023-03-28T08:01:27.844954Z",
     "iopub.status.idle": "2023-03-28T08:01:28.245078Z",
     "shell.execute_reply": "2023-03-28T08:01:28.244699Z",
     "shell.execute_reply.started": "2023-03-28T08:01:27.845118Z"
    },
    "tags": []
   },
   "outputs": [],
   "source": [
    "filtered_grouped_by = filtered.groupby(const, observed=True)\n",
    "filtered_grouped = filtered_grouped_by.agg({'iiqid': ['nunique', pd.Series.mode]})"
   ]
  },
  {
   "cell_type": "code",
   "execution_count": 236,
   "id": "b5da12e6-604f-44e5-8c6e-6797dcd19323",
   "metadata": {
    "execution": {
     "iopub.execute_input": "2023-03-28T08:01:28.245746Z",
     "iopub.status.busy": "2023-03-28T08:01:28.245636Z",
     "iopub.status.idle": "2023-03-28T08:01:28.258345Z",
     "shell.execute_reply": "2023-03-28T08:01:28.258043Z",
     "shell.execute_reply.started": "2023-03-28T08:01:28.245737Z"
    },
    "tags": []
   },
   "outputs": [],
   "source": [
    "filtered_grouped.columns = ['nunique','iiqid']\n",
    "filtered_grouped = filtered_grouped[filtered_grouped['nunique'] == 1].drop('nunique', axis=1)"
   ]
  },
  {
   "cell_type": "code",
   "execution_count": 237,
   "id": "e6ffc93a-8675-460c-a894-bf8f63654e22",
   "metadata": {
    "execution": {
     "iopub.execute_input": "2023-03-28T08:01:28.259510Z",
     "iopub.status.busy": "2023-03-28T08:01:28.259412Z",
     "iopub.status.idle": "2023-03-28T08:01:28.270699Z",
     "shell.execute_reply": "2023-03-28T08:01:28.270372Z",
     "shell.execute_reply.started": "2023-03-28T08:01:28.259501Z"
    },
    "tags": []
   },
   "outputs": [],
   "source": [
    "grouped = filtered_grouped.iloc[:,0].drop_duplicates()"
   ]
  },
  {
   "cell_type": "code",
   "execution_count": 142,
   "id": "048bd396-06a7-4649-a545-8302c032ff58",
   "metadata": {
    "execution": {
     "iopub.execute_input": "2023-03-28T07:33:04.977752Z",
     "iopub.status.busy": "2023-03-28T07:33:04.977662Z",
     "iopub.status.idle": "2023-03-28T07:33:05.053354Z",
     "shell.execute_reply": "2023-03-28T07:33:05.052921Z",
     "shell.execute_reply.started": "2023-03-28T07:33:04.977744Z"
    },
    "tags": []
   },
   "outputs": [],
   "source": [
    "grouped = grouped.groupby(level=0, observed=True).filter(lambda g: g.nunique() > 1)"
   ]
  },
  {
   "cell_type": "code",
   "execution_count": 238,
   "id": "f89ac43f-730d-4abf-94b7-a03b67b16b63",
   "metadata": {
    "execution": {
     "iopub.execute_input": "2023-03-28T08:01:43.070341Z",
     "iopub.status.busy": "2023-03-28T08:01:43.068779Z",
     "iopub.status.idle": "2023-03-28T08:01:43.158726Z",
     "shell.execute_reply": "2023-03-28T08:01:43.158307Z",
     "shell.execute_reply.started": "2023-03-28T08:01:43.070259Z"
    },
    "tags": []
   },
   "outputs": [],
   "source": [
    "cookie_time_grouped = grouped.reset_index().merge(cookie_time, on='iiqid', how='left').set_index(const)"
   ]
  },
  {
   "cell_type": "code",
   "execution_count": 239,
   "id": "3bce03f8-a7c4-4e57-b217-97492ddecc35",
   "metadata": {
    "execution": {
     "iopub.execute_input": "2023-03-28T08:01:43.323680Z",
     "iopub.status.busy": "2023-03-28T08:01:43.323115Z",
     "iopub.status.idle": "2023-03-28T08:01:43.362876Z",
     "shell.execute_reply": "2023-03-28T08:01:43.362340Z",
     "shell.execute_reply.started": "2023-03-28T08:01:43.323647Z"
    },
    "tags": []
   },
   "outputs": [],
   "source": [
    "longest_in_hh = cookie_time_grouped.groupby(observed=True, level=0)['interval'].max().reset_index()"
   ]
  },
  {
   "cell_type": "code",
   "execution_count": 240,
   "id": "6a1ab05d-b54d-4796-b9bc-7bc58e98cfbe",
   "metadata": {
    "execution": {
     "iopub.execute_input": "2023-03-28T08:01:43.573083Z",
     "iopub.status.busy": "2023-03-28T08:01:43.572332Z",
     "iopub.status.idle": "2023-03-28T08:01:43.611401Z",
     "shell.execute_reply": "2023-03-28T08:01:43.610905Z",
     "shell.execute_reply.started": "2023-03-28T08:01:43.573019Z"
    },
    "tags": []
   },
   "outputs": [],
   "source": [
    "longest_in_const = pd.merge(cookie_time_grouped.reset_index(), longest_in_hh, \n",
    "         on=['hh_id', 'interval'], how='inner')"
   ]
  },
  {
   "cell_type": "code",
   "execution_count": 241,
   "id": "9a6ea776-a83c-4602-acb6-cfdcd16d962d",
   "metadata": {
    "execution": {
     "iopub.execute_input": "2023-03-28T08:01:43.904394Z",
     "iopub.status.busy": "2023-03-28T08:01:43.903934Z",
     "iopub.status.idle": "2023-03-28T08:01:43.942989Z",
     "shell.execute_reply": "2023-03-28T08:01:43.942531Z",
     "shell.execute_reply.started": "2023-03-28T08:01:43.904361Z"
    },
    "tags": []
   },
   "outputs": [],
   "source": [
    "grouped_with_longest = cookie_time_grouped.reset_index().merge(longest_in_const, on='hh_id', how='left', suffixes=[None, '_best'])"
   ]
  },
  {
   "cell_type": "code",
   "execution_count": 242,
   "id": "9af9fa5e-3c27-485d-9e3d-1958c2ed9bcb",
   "metadata": {
    "execution": {
     "iopub.execute_input": "2023-03-28T08:01:44.405615Z",
     "iopub.status.busy": "2023-03-28T08:01:44.405150Z",
     "iopub.status.idle": "2023-03-28T08:01:44.442131Z",
     "shell.execute_reply": "2023-03-28T08:01:44.441640Z",
     "shell.execute_reply.started": "2023-03-28T08:01:44.405580Z"
    },
    "tags": []
   },
   "outputs": [],
   "source": [
    "filter_by_longest = grouped_with_longest[(((grouped_with_longest['min'] < grouped_with_longest['min_best'])\n",
    "                       & (grouped_with_longest['max'] > grouped_with_longest['min_best']))\n",
    "                      | ((grouped_with_longest['min'] > grouped_with_longest['min_best'])\n",
    "                         & (grouped_with_longest['min'] < grouped_with_longest['max_best'])))]"
   ]
  },
  {
   "cell_type": "code",
   "execution_count": 245,
   "id": "dbc1f97f-1338-4bea-9265-75cbb6e0ba5a",
   "metadata": {
    "execution": {
     "iopub.execute_input": "2023-03-28T08:03:04.019378Z",
     "iopub.status.busy": "2023-03-28T08:03:04.018384Z",
     "iopub.status.idle": "2023-03-28T08:03:04.076146Z",
     "shell.execute_reply": "2023-03-28T08:03:04.075442Z",
     "shell.execute_reply.started": "2023-03-28T08:03:04.019301Z"
    },
    "tags": []
   },
   "outputs": [],
   "source": [
    "filter_by_longest = filter_by_longest.set_index(const)"
   ]
  },
  {
   "cell_type": "code",
   "execution_count": 255,
   "id": "536acfa2-7671-4180-8a50-b28576187917",
   "metadata": {
    "execution": {
     "iopub.execute_input": "2023-03-28T08:06:08.990915Z",
     "iopub.status.busy": "2023-03-28T08:06:08.989313Z",
     "iopub.status.idle": "2023-03-28T08:06:09.040835Z",
     "shell.execute_reply": "2023-03-28T08:06:09.040366Z",
     "shell.execute_reply.started": "2023-03-28T08:06:08.990850Z"
    },
    "tags": []
   },
   "outputs": [],
   "source": [
    "filter_by_longest = filter_by_longest.iloc[:,0].drop_duplicates()"
   ]
  },
  {
   "cell_type": "code",
   "execution_count": 257,
   "id": "0c0945e7-25ec-4ed2-9556-453958fbe643",
   "metadata": {
    "execution": {
     "iopub.execute_input": "2023-03-28T08:06:19.997289Z",
     "iopub.status.busy": "2023-03-28T08:06:19.995748Z",
     "iopub.status.idle": "2023-03-28T08:06:20.097343Z",
     "shell.execute_reply": "2023-03-28T08:06:20.096874Z",
     "shell.execute_reply.started": "2023-03-28T08:06:19.997201Z"
    },
    "tags": []
   },
   "outputs": [],
   "source": [
    "filter_by_longest = filter_by_longest.groupby(level=0, observed=True).filter(lambda g: g.nunique() > 1)"
   ]
  },
  {
   "cell_type": "code",
   "execution_count": 263,
   "id": "cbf85fa9-7454-447b-9e17-0593e922ff13",
   "metadata": {
    "execution": {
     "iopub.execute_input": "2023-03-28T08:09:56.270795Z",
     "iopub.status.busy": "2023-03-28T08:09:56.269499Z",
     "iopub.status.idle": "2023-03-28T08:09:57.188743Z",
     "shell.execute_reply": "2023-03-28T08:09:57.188383Z",
     "shell.execute_reply.started": "2023-03-28T08:09:56.270740Z"
    },
    "tags": []
   },
   "outputs": [
    {
     "data": {
      "text/plain": [
       "0"
      ]
     },
     "execution_count": 263,
     "metadata": {},
     "output_type": "execute_result"
    }
   ],
   "source": [
    "filter_by_lingest.groupby(observed=True, level=0, group_keys=False)[const].apply(lambda g: any(g.nunique() > 1)).sum()"
   ]
  },
  {
   "cell_type": "code",
   "execution_count": 264,
   "id": "a000b6f8-194d-44a1-ad0d-fec1dbaf937f",
   "metadata": {
    "execution": {
     "iopub.execute_input": "2023-03-28T08:10:19.575083Z",
     "iopub.status.busy": "2023-03-28T08:10:19.573439Z",
     "iopub.status.idle": "2023-03-28T08:10:19.624200Z",
     "shell.execute_reply": "2023-03-28T08:10:19.623260Z",
     "shell.execute_reply.started": "2023-03-28T08:10:19.575010Z"
    },
    "tags": []
   },
   "outputs": [],
   "source": [
    "# two_from_each_houe = filter_by_lingest.groupby(observed=True, level=0, \n",
    "#                                                group_keys=False).apply(lambda g: g.sample(2))"
   ]
  },
  {
   "cell_type": "code",
   "execution_count": 22,
   "id": "a09d720e-b126-4f51-8070-ddc4560a0abd",
   "metadata": {
    "execution": {
     "iopub.execute_input": "2023-03-28T05:43:30.884154Z",
     "iopub.status.busy": "2023-03-28T05:43:30.884063Z",
     "iopub.status.idle": "2023-03-28T05:43:30.896308Z",
     "shell.execute_reply": "2023-03-28T05:43:30.895975Z",
     "shell.execute_reply.started": "2023-03-28T05:43:30.884146Z"
    },
    "tags": []
   },
   "outputs": [],
   "source": [
    "trial_data = two_from_each_houe.reset_index()#.drop('hh_id', axis=1).reset_index()"
   ]
  },
  {
   "cell_type": "code",
   "execution_count": 23,
   "id": "04c3a156-fd45-49f4-a85f-de3a3cf2bf8d",
   "metadata": {
    "execution": {
     "iopub.execute_input": "2023-03-28T05:43:30.896870Z",
     "iopub.status.busy": "2023-03-28T05:43:30.896782Z",
     "iopub.status.idle": "2023-03-28T05:43:31.014188Z",
     "shell.execute_reply": "2023-03-28T05:43:31.013738Z",
     "shell.execute_reply.started": "2023-03-28T05:43:30.896863Z"
    },
    "tags": []
   },
   "outputs": [],
   "source": [
    "trial_pairs = trial_data.groupby('hh_id')['iiqid'].agg(['min', 'max'])\n",
    "trial_pairs.columns = ['first','second']"
   ]
  },
  {
   "cell_type": "code",
   "execution_count": 100,
   "id": "6b591341-f5a6-48a4-92a3-36f6e7609a53",
   "metadata": {
    "execution": {
     "iopub.execute_input": "2023-03-28T06:04:46.009752Z",
     "iopub.status.busy": "2023-03-28T06:04:46.009081Z",
     "iopub.status.idle": "2023-03-28T06:04:46.610131Z",
     "shell.execute_reply": "2023-03-28T06:04:46.609623Z",
     "shell.execute_reply.started": "2023-03-28T06:04:46.009700Z"
    },
    "tags": []
   },
   "outputs": [
    {
     "data": {
      "text/html": [
       "<div>\n",
       "<style scoped>\n",
       "    .dataframe tbody tr th:only-of-type {\n",
       "        vertical-align: middle;\n",
       "    }\n",
       "\n",
       "    .dataframe tbody tr th {\n",
       "        vertical-align: top;\n",
       "    }\n",
       "\n",
       "    .dataframe thead th {\n",
       "        text-align: right;\n",
       "    }\n",
       "</style>\n",
       "<table border=\"1\" class=\"dataframe\">\n",
       "  <thead>\n",
       "    <tr style=\"text-align: right;\">\n",
       "      <th></th>\n",
       "      <th>timestamp</th>\n",
       "      <th>iiqid</th>\n",
       "      <th>hh_id</th>\n",
       "      <th>maid</th>\n",
       "      <th>partner_id</th>\n",
       "      <th>ip</th>\n",
       "      <th>iscellip</th>\n",
       "      <th>cellispid</th>\n",
       "      <th>domain</th>\n",
       "      <th>is_house_ip_or_source_ip</th>\n",
       "      <th>...</th>\n",
       "      <th>model</th>\n",
       "      <th>os</th>\n",
       "      <th>osversion</th>\n",
       "      <th>browser</th>\n",
       "      <th>advertisedbrowser</th>\n",
       "      <th>browserversion</th>\n",
       "      <th>type</th>\n",
       "      <th>is_best_ip</th>\n",
       "      <th>time</th>\n",
       "      <th>is_hh</th>\n",
       "    </tr>\n",
       "  </thead>\n",
       "  <tbody>\n",
       "    <tr>\n",
       "      <th>6038</th>\n",
       "      <td>1674261805256</td>\n",
       "      <td>BnbWxgk98P</td>\n",
       "      <td>1279543812</td>\n",
       "      <td>7</td>\n",
       "      <td>11304</td>\n",
       "      <td>1279468148</td>\n",
       "      <td>False</td>\n",
       "      <td>195387531</td>\n",
       "      <td>-919294197</td>\n",
       "      <td>False</td>\n",
       "      <td>...</td>\n",
       "      <td>firefox</td>\n",
       "      <td>windows</td>\n",
       "      <td>10</td>\n",
       "      <td>firefox desktop</td>\n",
       "      <td>Firefox</td>\n",
       "      <td>99.0</td>\n",
       "      <td>desktop</td>\n",
       "      <td>False</td>\n",
       "      <td>2023-01-21 00:43:25.256</td>\n",
       "      <td>True</td>\n",
       "    </tr>\n",
       "    <tr>\n",
       "      <th>6039</th>\n",
       "      <td>1674261804149</td>\n",
       "      <td>BnbWxgk98P</td>\n",
       "      <td>1279543812</td>\n",
       "      <td>7</td>\n",
       "      <td>10253</td>\n",
       "      <td>1279468148</td>\n",
       "      <td>False</td>\n",
       "      <td>195387531</td>\n",
       "      <td>720825214</td>\n",
       "      <td>False</td>\n",
       "      <td>...</td>\n",
       "      <td>firefox</td>\n",
       "      <td>windows</td>\n",
       "      <td>10</td>\n",
       "      <td>firefox desktop</td>\n",
       "      <td>Firefox</td>\n",
       "      <td>99.0</td>\n",
       "      <td>desktop</td>\n",
       "      <td>False</td>\n",
       "      <td>2023-01-21 00:43:24.149</td>\n",
       "      <td>True</td>\n",
       "    </tr>\n",
       "    <tr>\n",
       "      <th>6040</th>\n",
       "      <td>1674261804012</td>\n",
       "      <td>BnbWxgk98P</td>\n",
       "      <td>1279543812</td>\n",
       "      <td>7</td>\n",
       "      <td>11304</td>\n",
       "      <td>1279468148</td>\n",
       "      <td>False</td>\n",
       "      <td>195387531</td>\n",
       "      <td>-1119659455</td>\n",
       "      <td>False</td>\n",
       "      <td>...</td>\n",
       "      <td>firefox</td>\n",
       "      <td>windows</td>\n",
       "      <td>10</td>\n",
       "      <td>firefox desktop</td>\n",
       "      <td>Firefox</td>\n",
       "      <td>99.0</td>\n",
       "      <td>desktop</td>\n",
       "      <td>False</td>\n",
       "      <td>2023-01-21 00:43:24.012</td>\n",
       "      <td>True</td>\n",
       "    </tr>\n",
       "    <tr>\n",
       "      <th>6041</th>\n",
       "      <td>1674168125336</td>\n",
       "      <td>BnbWxgk98P</td>\n",
       "      <td>1279543812</td>\n",
       "      <td>7</td>\n",
       "      <td>10253</td>\n",
       "      <td>1279468148</td>\n",
       "      <td>False</td>\n",
       "      <td>195387531</td>\n",
       "      <td>1953294843</td>\n",
       "      <td>False</td>\n",
       "      <td>...</td>\n",
       "      <td>firefox</td>\n",
       "      <td>windows</td>\n",
       "      <td>10</td>\n",
       "      <td>firefox desktop</td>\n",
       "      <td>Firefox</td>\n",
       "      <td>99.0</td>\n",
       "      <td>desktop</td>\n",
       "      <td>False</td>\n",
       "      <td>2023-01-19 22:42:05.336</td>\n",
       "      <td>True</td>\n",
       "    </tr>\n",
       "    <tr>\n",
       "      <th>6042</th>\n",
       "      <td>1674151252141</td>\n",
       "      <td>BnbWxgk98P</td>\n",
       "      <td>1279543812</td>\n",
       "      <td>7</td>\n",
       "      <td>10253</td>\n",
       "      <td>1279468148</td>\n",
       "      <td>False</td>\n",
       "      <td>195387531</td>\n",
       "      <td>1953294843</td>\n",
       "      <td>False</td>\n",
       "      <td>...</td>\n",
       "      <td>firefox</td>\n",
       "      <td>windows</td>\n",
       "      <td>10</td>\n",
       "      <td>firefox desktop</td>\n",
       "      <td>Firefox</td>\n",
       "      <td>99.0</td>\n",
       "      <td>desktop</td>\n",
       "      <td>False</td>\n",
       "      <td>2023-01-19 18:00:52.141</td>\n",
       "      <td>True</td>\n",
       "    </tr>\n",
       "    <tr>\n",
       "      <th>...</th>\n",
       "      <td>...</td>\n",
       "      <td>...</td>\n",
       "      <td>...</td>\n",
       "      <td>...</td>\n",
       "      <td>...</td>\n",
       "      <td>...</td>\n",
       "      <td>...</td>\n",
       "      <td>...</td>\n",
       "      <td>...</td>\n",
       "      <td>...</td>\n",
       "      <td>...</td>\n",
       "      <td>...</td>\n",
       "      <td>...</td>\n",
       "      <td>...</td>\n",
       "      <td>...</td>\n",
       "      <td>...</td>\n",
       "      <td>...</td>\n",
       "      <td>...</td>\n",
       "      <td>...</td>\n",
       "      <td>...</td>\n",
       "      <td>...</td>\n",
       "    </tr>\n",
       "    <tr>\n",
       "      <th>8493028</th>\n",
       "      <td>1672768850981</td>\n",
       "      <td>XOJI7Q4xs2</td>\n",
       "      <td>800609212</td>\n",
       "      <td>7</td>\n",
       "      <td>15019</td>\n",
       "      <td>800618411</td>\n",
       "      <td>False</td>\n",
       "      <td>1937092536</td>\n",
       "      <td>1052828942</td>\n",
       "      <td>False</td>\n",
       "      <td>...</td>\n",
       "      <td>pixel 7 pro</td>\n",
       "      <td>android</td>\n",
       "      <td>13</td>\n",
       "      <td>chrome mobile</td>\n",
       "      <td>Chrome Mobile</td>\n",
       "      <td>108.0.0.0</td>\n",
       "      <td>smartphone</td>\n",
       "      <td>False</td>\n",
       "      <td>2023-01-03 18:00:50.981</td>\n",
       "      <td>True</td>\n",
       "    </tr>\n",
       "    <tr>\n",
       "      <th>8493029</th>\n",
       "      <td>1672768850769</td>\n",
       "      <td>XOJI7Q4xs2</td>\n",
       "      <td>800609212</td>\n",
       "      <td>7</td>\n",
       "      <td>15019</td>\n",
       "      <td>800618411</td>\n",
       "      <td>False</td>\n",
       "      <td>1937092536</td>\n",
       "      <td>20133086</td>\n",
       "      <td>False</td>\n",
       "      <td>...</td>\n",
       "      <td>pixel 7 pro</td>\n",
       "      <td>android</td>\n",
       "      <td>13</td>\n",
       "      <td>chrome mobile</td>\n",
       "      <td>Chrome Mobile</td>\n",
       "      <td>108.0.0.0</td>\n",
       "      <td>smartphone</td>\n",
       "      <td>False</td>\n",
       "      <td>2023-01-03 18:00:50.769</td>\n",
       "      <td>True</td>\n",
       "    </tr>\n",
       "    <tr>\n",
       "      <th>8493030</th>\n",
       "      <td>1672764369273</td>\n",
       "      <td>XOJI7Q4xs2</td>\n",
       "      <td>800609212</td>\n",
       "      <td>7</td>\n",
       "      <td>15119</td>\n",
       "      <td>800618411</td>\n",
       "      <td>False</td>\n",
       "      <td>1937092536</td>\n",
       "      <td>1967261364</td>\n",
       "      <td>False</td>\n",
       "      <td>...</td>\n",
       "      <td>pixel 7 pro</td>\n",
       "      <td>android</td>\n",
       "      <td>13</td>\n",
       "      <td>chrome mobile</td>\n",
       "      <td>Chrome Mobile</td>\n",
       "      <td>108.0.0.0</td>\n",
       "      <td>smartphone</td>\n",
       "      <td>False</td>\n",
       "      <td>2023-01-03 16:46:09.273</td>\n",
       "      <td>True</td>\n",
       "    </tr>\n",
       "    <tr>\n",
       "      <th>8493031</th>\n",
       "      <td>1672764368603</td>\n",
       "      <td>XOJI7Q4xs2</td>\n",
       "      <td>800609212</td>\n",
       "      <td>7</td>\n",
       "      <td>14</td>\n",
       "      <td>800618411</td>\n",
       "      <td>False</td>\n",
       "      <td>1937092536</td>\n",
       "      <td>1967261364</td>\n",
       "      <td>False</td>\n",
       "      <td>...</td>\n",
       "      <td>pixel 7 pro</td>\n",
       "      <td>android</td>\n",
       "      <td>13</td>\n",
       "      <td>chrome mobile</td>\n",
       "      <td>Chrome Mobile</td>\n",
       "      <td>108.0.0.0</td>\n",
       "      <td>smartphone</td>\n",
       "      <td>False</td>\n",
       "      <td>2023-01-03 16:46:08.603</td>\n",
       "      <td>True</td>\n",
       "    </tr>\n",
       "    <tr>\n",
       "      <th>8493032</th>\n",
       "      <td>1672734489516</td>\n",
       "      <td>XOJI7Q4xs2</td>\n",
       "      <td>800609212</td>\n",
       "      <td>7</td>\n",
       "      <td>14</td>\n",
       "      <td>800609212</td>\n",
       "      <td>False</td>\n",
       "      <td>1937092536</td>\n",
       "      <td>-1189039308</td>\n",
       "      <td>True</td>\n",
       "      <td>...</td>\n",
       "      <td>pixel 7 pro</td>\n",
       "      <td>android</td>\n",
       "      <td>13</td>\n",
       "      <td>chrome mobile</td>\n",
       "      <td>Chrome Mobile</td>\n",
       "      <td>108.0.0.0</td>\n",
       "      <td>smartphone</td>\n",
       "      <td>False</td>\n",
       "      <td>2023-01-03 08:28:09.516</td>\n",
       "      <td>True</td>\n",
       "    </tr>\n",
       "  </tbody>\n",
       "</table>\n",
       "<p>842683 rows × 21 columns</p>\n",
       "</div>"
      ],
      "text/plain": [
       "             timestamp       iiqid       hh_id maid  partner_id          ip  \\\n",
       "6038     1674261805256  BnbWxgk98P  1279543812    7       11304  1279468148   \n",
       "6039     1674261804149  BnbWxgk98P  1279543812    7       10253  1279468148   \n",
       "6040     1674261804012  BnbWxgk98P  1279543812    7       11304  1279468148   \n",
       "6041     1674168125336  BnbWxgk98P  1279543812    7       10253  1279468148   \n",
       "6042     1674151252141  BnbWxgk98P  1279543812    7       10253  1279468148   \n",
       "...                ...         ...         ...  ...         ...         ...   \n",
       "8493028  1672768850981  XOJI7Q4xs2   800609212    7       15019   800618411   \n",
       "8493029  1672768850769  XOJI7Q4xs2   800609212    7       15019   800618411   \n",
       "8493030  1672764369273  XOJI7Q4xs2   800609212    7       15119   800618411   \n",
       "8493031  1672764368603  XOJI7Q4xs2   800609212    7          14   800618411   \n",
       "8493032  1672734489516  XOJI7Q4xs2   800609212    7          14   800609212   \n",
       "\n",
       "         iscellip   cellispid       domain  is_house_ip_or_source_ip  ...  \\\n",
       "6038        False   195387531   -919294197                     False  ...   \n",
       "6039        False   195387531    720825214                     False  ...   \n",
       "6040        False   195387531  -1119659455                     False  ...   \n",
       "6041        False   195387531   1953294843                     False  ...   \n",
       "6042        False   195387531   1953294843                     False  ...   \n",
       "...           ...         ...          ...                       ...  ...   \n",
       "8493028     False  1937092536   1052828942                     False  ...   \n",
       "8493029     False  1937092536     20133086                     False  ...   \n",
       "8493030     False  1937092536   1967261364                     False  ...   \n",
       "8493031     False  1937092536   1967261364                     False  ...   \n",
       "8493032     False  1937092536  -1189039308                      True  ...   \n",
       "\n",
       "               model       os osversion          browser advertisedbrowser  \\\n",
       "6038         firefox  windows        10  firefox desktop           Firefox   \n",
       "6039         firefox  windows        10  firefox desktop           Firefox   \n",
       "6040         firefox  windows        10  firefox desktop           Firefox   \n",
       "6041         firefox  windows        10  firefox desktop           Firefox   \n",
       "6042         firefox  windows        10  firefox desktop           Firefox   \n",
       "...              ...      ...       ...              ...               ...   \n",
       "8493028  pixel 7 pro  android        13    chrome mobile     Chrome Mobile   \n",
       "8493029  pixel 7 pro  android        13    chrome mobile     Chrome Mobile   \n",
       "8493030  pixel 7 pro  android        13    chrome mobile     Chrome Mobile   \n",
       "8493031  pixel 7 pro  android        13    chrome mobile     Chrome Mobile   \n",
       "8493032  pixel 7 pro  android        13    chrome mobile     Chrome Mobile   \n",
       "\n",
       "        browserversion        type is_best_ip                    time is_hh  \n",
       "6038              99.0     desktop      False 2023-01-21 00:43:25.256  True  \n",
       "6039              99.0     desktop      False 2023-01-21 00:43:24.149  True  \n",
       "6040              99.0     desktop      False 2023-01-21 00:43:24.012  True  \n",
       "6041              99.0     desktop      False 2023-01-19 22:42:05.336  True  \n",
       "6042              99.0     desktop      False 2023-01-19 18:00:52.141  True  \n",
       "...                ...         ...        ...                     ...   ...  \n",
       "8493028      108.0.0.0  smartphone      False 2023-01-03 18:00:50.981  True  \n",
       "8493029      108.0.0.0  smartphone      False 2023-01-03 18:00:50.769  True  \n",
       "8493030      108.0.0.0  smartphone      False 2023-01-03 16:46:09.273  True  \n",
       "8493031      108.0.0.0  smartphone      False 2023-01-03 16:46:08.603  True  \n",
       "8493032      108.0.0.0  smartphone      False 2023-01-03 08:28:09.516  True  \n",
       "\n",
       "[842683 rows x 21 columns]"
      ]
     },
     "execution_count": 100,
     "metadata": {},
     "output_type": "execute_result"
    }
   ],
   "source": [
    "# max_session_length = \n",
    "data.groupby("
   ]
  },
  {
   "cell_type": "code",
   "execution_count": null,
   "id": "99f2133c-90b4-4138-9d86-13303bf2da46",
   "metadata": {},
   "outputs": [],
   "source": []
  }
 ],
 "metadata": {
  "kernelspec": {
   "display_name": "Python 3 (ipykernel)",
   "language": "python",
   "name": "python3"
  },
  "language_info": {
   "codemirror_mode": {
    "name": "ipython",
    "version": 3
   },
   "file_extension": ".py",
   "mimetype": "text/x-python",
   "name": "python",
   "nbconvert_exporter": "python",
   "pygments_lexer": "ipython3",
   "version": "3.10.10"
  }
 },
 "nbformat": 4,
 "nbformat_minor": 5
}
