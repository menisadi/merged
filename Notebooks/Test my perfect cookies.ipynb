{
 "cells": [
  {
   "cell_type": "code",
   "execution_count": 1,
   "id": "e1c67657-2460-486b-824a-bf08750fa303",
   "metadata": {
    "execution": {
     "iopub.execute_input": "2023-03-05T07:32:03.339575Z",
     "iopub.status.busy": "2023-03-05T07:32:03.338602Z",
     "iopub.status.idle": "2023-03-05T07:32:04.519421Z",
     "shell.execute_reply": "2023-03-05T07:32:04.519137Z",
     "shell.execute_reply.started": "2023-03-05T07:32:03.339509Z"
    },
    "tags": []
   },
   "outputs": [],
   "source": [
    "import numpy as np\n",
    "import pandas as pd\n",
    "import seaborn as sns\n",
    "import matplotlib.pyplot as plt\n",
    "import matplotlib.ticker as mtick\n",
    "import itertools"
   ]
  },
  {
   "cell_type": "code",
   "execution_count": 2,
   "id": "91fd3c96-b8ba-4143-b42c-d01c1e34c0ea",
   "metadata": {
    "execution": {
     "iopub.execute_input": "2023-03-05T07:32:04.520371Z",
     "iopub.status.busy": "2023-03-05T07:32:04.520221Z",
     "iopub.status.idle": "2023-03-05T07:32:04.522927Z",
     "shell.execute_reply": "2023-03-05T07:32:04.522690Z",
     "shell.execute_reply.started": "2023-03-05T07:32:04.520361Z"
    },
    "tags": []
   },
   "outputs": [],
   "source": [
    "import sys\n",
    "import os\n",
    "sys.path.append(os.path.abspath('../modules'))\n",
    "from hard_rules import candidate_cookies, versions_key, compare_versions"
   ]
  },
  {
   "cell_type": "code",
   "execution_count": 3,
   "id": "9cdacc37-a4bf-41ee-8988-116860b22cad",
   "metadata": {
    "execution": {
     "iopub.execute_input": "2023-03-05T07:32:04.523485Z",
     "iopub.status.busy": "2023-03-05T07:32:04.523370Z",
     "iopub.status.idle": "2023-03-05T07:32:04.525635Z",
     "shell.execute_reply": "2023-03-05T07:32:04.525368Z",
     "shell.execute_reply.started": "2023-03-05T07:32:04.523478Z"
    },
    "tags": []
   },
   "outputs": [],
   "source": [
    "from perfect_cookies import preprocessing, count_perfect_cookies, plot_cookies_dist\n",
    "import perfect_cookies\n",
    "import hard_rules"
   ]
  },
  {
   "cell_type": "code",
   "execution_count": 4,
   "id": "299186c8-d0c1-467b-9fb8-38e50178d27e",
   "metadata": {
    "execution": {
     "iopub.execute_input": "2023-03-05T07:32:04.526527Z",
     "iopub.status.busy": "2023-03-05T07:32:04.526435Z",
     "iopub.status.idle": "2023-03-05T07:32:04.530897Z",
     "shell.execute_reply": "2023-03-05T07:32:04.530670Z",
     "shell.execute_reply.started": "2023-03-05T07:32:04.526519Z"
    },
    "tags": []
   },
   "outputs": [],
   "source": [
    "from tqdm import tqdm"
   ]
  },
  {
   "cell_type": "code",
   "execution_count": 5,
   "id": "c45d5f2c-9c9a-487b-be3e-d07ff38c05c1",
   "metadata": {
    "execution": {
     "iopub.execute_input": "2023-03-05T07:32:04.716455Z",
     "iopub.status.busy": "2023-03-05T07:32:04.715951Z",
     "iopub.status.idle": "2023-03-05T07:32:04.721970Z",
     "shell.execute_reply": "2023-03-05T07:32:04.720836Z",
     "shell.execute_reply.started": "2023-03-05T07:32:04.716414Z"
    },
    "tags": []
   },
   "outputs": [],
   "source": [
    "sns.set(rc={'figure.figsize':(12,5)})"
   ]
  },
  {
   "cell_type": "code",
   "execution_count": 6,
   "id": "ba99902c-2b1a-4ab7-b05b-de725c516a24",
   "metadata": {
    "execution": {
     "iopub.execute_input": "2023-03-05T07:32:06.927433Z",
     "iopub.status.busy": "2023-03-05T07:32:06.926911Z",
     "iopub.status.idle": "2023-03-05T07:32:06.960476Z",
     "shell.execute_reply": "2023-03-05T07:32:06.959956Z",
     "shell.execute_reply.started": "2023-03-05T07:32:06.927400Z"
    },
    "tags": []
   },
   "outputs": [],
   "source": [
    "%load_ext autoreload\n",
    "%autoreload 2"
   ]
  },
  {
   "cell_type": "code",
   "execution_count": 90,
   "id": "5c78b932-2bb2-416f-9795-5a53e824913c",
   "metadata": {
    "execution": {
     "iopub.execute_input": "2023-03-02T07:43:19.297204Z",
     "iopub.status.busy": "2023-03-02T07:43:19.296321Z",
     "iopub.status.idle": "2023-03-02T07:43:21.400191Z",
     "shell.execute_reply": "2023-03-02T07:43:21.399453Z",
     "shell.execute_reply.started": "2023-03-02T07:43:19.297141Z"
    },
    "tags": []
   },
   "outputs": [],
   "source": [
    "data = pd.read_parquet('../Data/10K_HH.parquet')"
   ]
  },
  {
   "cell_type": "code",
   "execution_count": 91,
   "id": "522b34f9-5734-4e9c-9240-a49f9eeb7cb5",
   "metadata": {
    "execution": {
     "iopub.execute_input": "2023-03-02T07:43:24.544408Z",
     "iopub.status.busy": "2023-03-02T07:43:24.543376Z",
     "iopub.status.idle": "2023-03-02T07:43:24.579243Z",
     "shell.execute_reply": "2023-03-02T07:43:24.578765Z",
     "shell.execute_reply.started": "2023-03-02T07:43:24.544322Z"
    },
    "tags": []
   },
   "outputs": [],
   "source": [
    "maid_chosen = \"third_party\""
   ]
  },
  {
   "cell_type": "code",
   "execution_count": 402,
   "id": "3de04a49-6e71-4d96-92e9-b4679f04988f",
   "metadata": {
    "execution": {
     "iopub.execute_input": "2023-03-02T13:15:48.811235Z",
     "iopub.status.busy": "2023-03-02T13:15:48.809923Z",
     "iopub.status.idle": "2023-03-02T13:16:00.159031Z",
     "shell.execute_reply": "2023-03-02T13:16:00.158211Z",
     "shell.execute_reply.started": "2023-03-02T13:15:48.811170Z"
    },
    "tags": []
   },
   "outputs": [],
   "source": [
    "df = preprocessing(data)"
   ]
  },
  {
   "cell_type": "code",
   "execution_count": 93,
   "id": "db721175-24ae-49e6-a61c-0eeb3e68be92",
   "metadata": {
    "execution": {
     "iopub.execute_input": "2023-03-02T07:43:34.659072Z",
     "iopub.status.busy": "2023-03-02T07:43:34.658741Z",
     "iopub.status.idle": "2023-03-02T07:43:36.686614Z",
     "shell.execute_reply": "2023-03-02T07:43:36.685768Z",
     "shell.execute_reply.started": "2023-03-02T07:43:34.659056Z"
    },
    "tags": []
   },
   "outputs": [],
   "source": [
    "df_sorted = df.sort_values(by='time')"
   ]
  },
  {
   "cell_type": "code",
   "execution_count": 94,
   "id": "71b10ac5-69ee-46b0-b515-628ff4e5b793",
   "metadata": {
    "execution": {
     "iopub.execute_input": "2023-03-02T07:43:36.687850Z",
     "iopub.status.busy": "2023-03-02T07:43:36.687624Z",
     "iopub.status.idle": "2023-03-02T07:43:38.768152Z",
     "shell.execute_reply": "2023-03-02T07:43:38.767249Z",
     "shell.execute_reply.started": "2023-03-02T07:43:36.687833Z"
    },
    "tags": []
   },
   "outputs": [],
   "source": [
    "df_sorted = df_sorted[df_sorted[\"time\"] >= pd.to_datetime(\"2022-12-01\")]"
   ]
  },
  {
   "cell_type": "code",
   "execution_count": 95,
   "id": "808639d8-402d-49ea-95cb-4faf6c407bf9",
   "metadata": {
    "execution": {
     "iopub.execute_input": "2023-03-02T07:43:48.895468Z",
     "iopub.status.busy": "2023-03-02T07:43:48.894413Z",
     "iopub.status.idle": "2023-03-02T07:43:57.527781Z",
     "shell.execute_reply": "2023-03-02T07:43:57.527264Z",
     "shell.execute_reply.started": "2023-03-02T07:43:48.895384Z"
    },
    "tags": []
   },
   "outputs": [
    {
     "data": {
      "text/plain": [
       "(2022, 12)    3039691\n",
       "(2023, 1)     3063579\n",
       "(2023, 2)     1383089\n",
       "Name: time, dtype: int64"
      ]
     },
     "execution_count": 95,
     "metadata": {},
     "output_type": "execute_result"
    }
   ],
   "source": [
    "df_sorted[\"time\"].apply(lambda t: (t.year, t.month)).value_counts().sort_index()"
   ]
  },
  {
   "cell_type": "code",
   "execution_count": 96,
   "id": "8bec7507-33dd-408b-941a-e93154cec8ff",
   "metadata": {
    "execution": {
     "iopub.execute_input": "2023-03-02T07:43:57.529309Z",
     "iopub.status.busy": "2023-03-02T07:43:57.529188Z",
     "iopub.status.idle": "2023-03-02T07:43:57.546561Z",
     "shell.execute_reply": "2023-03-02T07:43:57.546228Z",
     "shell.execute_reply.started": "2023-03-02T07:43:57.529295Z"
    },
    "tags": []
   },
   "outputs": [],
   "source": [
    "two_thirds_index = int(len(df_sorted) * 2/3)"
   ]
  },
  {
   "cell_type": "code",
   "execution_count": 97,
   "id": "cdc5c0f9-f66c-41fd-ba0d-7ba72c3250ab",
   "metadata": {
    "execution": {
     "iopub.execute_input": "2023-03-02T07:43:57.547183Z",
     "iopub.status.busy": "2023-03-02T07:43:57.547098Z",
     "iopub.status.idle": "2023-03-02T07:43:58.593770Z",
     "shell.execute_reply": "2023-03-02T07:43:58.593416Z",
     "shell.execute_reply.started": "2023-03-02T07:43:57.547174Z"
    },
    "tags": []
   },
   "outputs": [],
   "source": [
    "train = df_sorted.iloc[:two_thirds_index]\n",
    "test = df_sorted.iloc[two_thirds_index:]"
   ]
  },
  {
   "cell_type": "markdown",
   "id": "0cb547e2-6089-47c6-abe6-09c00b04dba1",
   "metadata": {
    "tags": []
   },
   "source": [
    "## Lets Predict"
   ]
  },
  {
   "cell_type": "code",
   "execution_count": 231,
   "id": "e70dc443-cb88-42fd-8a77-816eb6146a65",
   "metadata": {
    "execution": {
     "iopub.execute_input": "2023-03-02T10:53:59.883103Z",
     "iopub.status.busy": "2023-03-02T10:53:59.881266Z",
     "iopub.status.idle": "2023-03-02T10:53:59.933363Z",
     "shell.execute_reply": "2023-03-02T10:53:59.932857Z",
     "shell.execute_reply.started": "2023-03-02T10:53:59.883021Z"
    },
    "tags": []
   },
   "outputs": [],
   "source": [
    "import re"
   ]
  },
  {
   "cell_type": "code",
   "execution_count": 232,
   "id": "8ca6b15f-1876-44de-9add-5fe342513cd4",
   "metadata": {
    "execution": {
     "iopub.execute_input": "2023-03-02T10:54:00.473059Z",
     "iopub.status.busy": "2023-03-02T10:54:00.472640Z",
     "iopub.status.idle": "2023-03-02T10:54:01.716618Z",
     "shell.execute_reply": "2023-03-02T10:54:01.715778Z",
     "shell.execute_reply.started": "2023-03-02T10:54:00.473026Z"
    },
    "tags": []
   },
   "outputs": [],
   "source": [
    "only_relevant_maid = train[train[\"maid\"] == perfect_cookies.maid2int(maid_chosen)]"
   ]
  },
  {
   "cell_type": "code",
   "execution_count": 233,
   "id": "b14360bb-b703-4f4b-9e97-82b9ea2ec77c",
   "metadata": {
    "execution": {
     "iopub.execute_input": "2023-03-02T10:54:01.718244Z",
     "iopub.status.busy": "2023-03-02T10:54:01.718092Z",
     "iopub.status.idle": "2023-03-02T10:54:02.551864Z",
     "shell.execute_reply": "2023-03-02T10:54:02.551507Z",
     "shell.execute_reply.started": "2023-03-02T10:54:01.718231Z"
    },
    "tags": []
   },
   "outputs": [],
   "source": [
    "pattern = re.compile(r'^\\d+(\\.\\d+)*$')\n",
    "only_relevant_maid = only_relevant_maid[only_relevant_maid.osversion.str.match(pattern)]"
   ]
  },
  {
   "cell_type": "code",
   "execution_count": 234,
   "id": "f54223db-c177-420e-b36d-0493258c92a6",
   "metadata": {
    "execution": {
     "iopub.execute_input": "2023-03-02T10:54:02.552483Z",
     "iopub.status.busy": "2023-03-02T10:54:02.552379Z",
     "iopub.status.idle": "2023-03-02T10:54:05.641810Z",
     "shell.execute_reply": "2023-03-02T10:54:05.640953Z",
     "shell.execute_reply.started": "2023-03-02T10:54:02.552474Z"
    },
    "tags": []
   },
   "outputs": [],
   "source": [
    "more_than_one = only_relevant_maid.groupby(\n",
    "        [\"hh_id\", \"brand\", \"model\", \"os\", \"browser\", \"advertisedbrowser\"]\n",
    "    ).filter(lambda x: x[\"iiqid\"].nunique() > 1)"
   ]
  },
  {
   "cell_type": "code",
   "execution_count": 235,
   "id": "13ef03d0-3136-4bdc-9898-8564ebb4fcb7",
   "metadata": {
    "execution": {
     "iopub.execute_input": "2023-03-02T10:54:05.643703Z",
     "iopub.status.busy": "2023-03-02T10:54:05.643535Z",
     "iopub.status.idle": "2023-03-02T10:54:11.954960Z",
     "shell.execute_reply": "2023-03-02T10:54:11.954668Z",
     "shell.execute_reply.started": "2023-03-02T10:54:05.643687Z"
    },
    "tags": []
   },
   "outputs": [],
   "source": [
    "grouped_data = more_than_one.groupby(['hh_id', 'brand', 'model', 'os', 'browser', 'advertisedbrowser', 'iiqid']).agg(\n",
    "    {'browserversion': [hard_rules.min_ver, hard_rules.max_ver], 'osversion': [hard_rules.min_ver, hard_rules.max_ver],\n",
    "     'time': ['min', 'max']}).reset_index()"
   ]
  },
  {
   "cell_type": "code",
   "execution_count": 236,
   "id": "86a3d613-6ab5-4586-8145-eb91550e3bab",
   "metadata": {
    "execution": {
     "iopub.execute_input": "2023-03-02T10:54:11.955549Z",
     "iopub.status.busy": "2023-03-02T10:54:11.955457Z",
     "iopub.status.idle": "2023-03-02T10:54:11.967098Z",
     "shell.execute_reply": "2023-03-02T10:54:11.966747Z",
     "shell.execute_reply.started": "2023-03-02T10:54:11.955540Z"
    },
    "tags": []
   },
   "outputs": [],
   "source": [
    "grouped_data.columns = ['hh_id', 'brand', 'model', \n",
    "                        'os', 'browser', 'advertisedbrowser', 'iiqid', \n",
    "                        'min_browser_ver', 'max_browser_ver', \n",
    "                        'min_os_ver', 'max_os_ver', \n",
    "                        'min_time', 'max_time']"
   ]
  },
  {
   "cell_type": "code",
   "execution_count": 237,
   "id": "cef9243a-4f94-461b-bd10-80cd077f38f8",
   "metadata": {
    "execution": {
     "iopub.execute_input": "2023-03-02T10:54:11.967698Z",
     "iopub.status.busy": "2023-03-02T10:54:11.967605Z",
     "iopub.status.idle": "2023-03-02T10:54:11.990224Z",
     "shell.execute_reply": "2023-03-02T10:54:11.989890Z",
     "shell.execute_reply.started": "2023-03-02T10:54:11.967689Z"
    },
    "tags": []
   },
   "outputs": [],
   "source": [
    "grouped_data = grouped_data.sort_values(by=['hh_id', 'brand', 'model', 'os', 'browser', 'advertisedbrowser', 'min_time'])"
   ]
  },
  {
   "cell_type": "code",
   "execution_count": 264,
   "id": "7091933e-05a9-40f5-9b99-ba9c50f5656c",
   "metadata": {
    "execution": {
     "iopub.execute_input": "2023-03-02T11:04:57.353834Z",
     "iopub.status.busy": "2023-03-02T11:04:57.352935Z",
     "iopub.status.idle": "2023-03-02T11:04:57.419711Z",
     "shell.execute_reply": "2023-03-02T11:04:57.419249Z",
     "shell.execute_reply.started": "2023-03-02T11:04:57.353769Z"
    },
    "tags": []
   },
   "outputs": [
    {
     "name": "stdout",
     "output_type": "stream",
     "text": [
      "8291\n",
      "24703\n"
     ]
    }
   ],
   "source": [
    "grouped_ages = (end_of_time - grouped_data.groupby([\n",
    "    'hh_id', 'brand', 'model', 'os', 'browser', 'advertisedbrowser'\n",
    "            ])[\"min_time\"].max()).apply(lambda t: t.days)\n",
    "print(len(grouped_ages))\n",
    "print(len(grouped_data))\n",
    "# grouped_data.groupby(['hh_id', 'brand', 'model', 'os', 'browser', 'advertisedbrowser'])['max_time'].shift(1)"
   ]
  },
  {
   "cell_type": "code",
   "execution_count": 265,
   "id": "ddd7b0bd-3591-4e4e-a5ca-0afdbeebeb7e",
   "metadata": {
    "execution": {
     "iopub.execute_input": "2023-03-02T11:06:34.447981Z",
     "iopub.status.busy": "2023-03-02T11:06:34.446235Z",
     "iopub.status.idle": "2023-03-02T11:06:34.535997Z",
     "shell.execute_reply": "2023-03-02T11:06:34.535661Z",
     "shell.execute_reply.started": "2023-03-02T11:06:34.447903Z"
    },
    "tags": []
   },
   "outputs": [],
   "source": [
    "grouped_data['prev_max_time'] = grouped_data.groupby(['hh_id', 'brand', 'model', 'os', 'browser', 'advertisedbrowser'])['max_time'].shift(1).fillna(pd.Timestamp.min)\n",
    "grouped_data['prev_max_browser_ver'] = grouped_data.groupby(['hh_id', 'brand', 'model', 'os', 'browser', 'advertisedbrowser'])['max_browser_ver'].shift(1).fillna(hard_rules.MINUS_INF_VERSION)\n",
    "grouped_data['prev_max_os_ver'] = grouped_data.groupby(['hh_id', 'brand', 'model', 'os', 'browser', 'advertisedbrowser'])['max_os_ver'].shift(1).fillna(hard_rules.MINUS_INF_VERSION)"
   ]
  },
  {
   "cell_type": "code",
   "execution_count": 266,
   "id": "22ca6f3d-836a-4549-9714-01d06057a062",
   "metadata": {
    "execution": {
     "iopub.execute_input": "2023-03-02T11:06:41.533175Z",
     "iopub.status.busy": "2023-03-02T11:06:41.532570Z",
     "iopub.status.idle": "2023-03-02T11:06:41.661648Z",
     "shell.execute_reply": "2023-03-02T11:06:41.661239Z",
     "shell.execute_reply.started": "2023-03-02T11:06:41.533139Z"
    },
    "tags": []
   },
   "outputs": [],
   "source": [
    "full_valid_rows = grouped_data[(grouped_data['min_time'] > grouped_data['prev_max_time'])\n",
    "                              & (np.vectorize(compare_versions)(grouped_data['min_browser_ver'], \n",
    "                                                               grouped_data['prev_max_browser_ver']) >= 0)\n",
    "                              & (np.vectorize(compare_versions)(grouped_data['min_os_ver'], \n",
    "                                                               grouped_data['prev_max_os_ver']) >= 0)]"
   ]
  },
  {
   "cell_type": "code",
   "execution_count": 354,
   "id": "b524c62d-48dc-46e9-8061-94784b367ce2",
   "metadata": {
    "execution": {
     "iopub.execute_input": "2023-03-02T12:59:11.288863Z",
     "iopub.status.busy": "2023-03-02T12:59:11.277196Z",
     "iopub.status.idle": "2023-03-02T12:59:11.330266Z",
     "shell.execute_reply": "2023-03-02T12:59:11.329790Z",
     "shell.execute_reply.started": "2023-03-02T12:59:11.288650Z"
    },
    "tags": []
   },
   "outputs": [],
   "source": [
    "end_of_time = pd.Timestamp('2023-02-24')"
   ]
  },
  {
   "cell_type": "code",
   "execution_count": 272,
   "id": "4faae8b3-08e9-45e9-81ff-75ef22f2c2a2",
   "metadata": {
    "execution": {
     "iopub.execute_input": "2023-03-02T11:31:19.967697Z",
     "iopub.status.busy": "2023-03-02T11:31:19.966354Z",
     "iopub.status.idle": "2023-03-02T11:31:20.080838Z",
     "shell.execute_reply": "2023-03-02T11:31:20.080533Z",
     "shell.execute_reply.started": "2023-03-02T11:31:19.967641Z"
    },
    "tags": []
   },
   "outputs": [],
   "source": [
    "original_rows_per_hhua = grouped_data.groupby(['hh_id', 'brand', 'model', 'os', 'browser', 'advertisedbrowser']).size()\n",
    "last_cookie_age_per_hhua = (end_of_time - grouped_data.groupby(['hh_id', 'brand', 'model', 'os', 'browser', 'advertisedbrowser'])[\"min_time\"].max()).apply(lambda t: t.days)\n",
    "valid_rows_per_hhua = full_valid_rows.groupby(['hh_id', 'brand', 'model', 'os', 'browser', 'advertisedbrowser']).size()\n",
    "all_mergable = valid_rows_per_hhua.eq(original_rows_per_hhua)\n",
    "\n",
    "result = pd.concat([original_rows_per_hhua, all_mergable, last_cookie_age_per_hhua], axis=1)\n",
    "result.columns = ['cookies','mergeable', 'last_cookie_age'] "
   ]
  },
  {
   "cell_type": "code",
   "execution_count": 273,
   "id": "edd24e3e-f417-497c-9f63-4b9198b0e8f0",
   "metadata": {
    "execution": {
     "iopub.execute_input": "2023-03-02T11:31:26.535461Z",
     "iopub.status.busy": "2023-03-02T11:31:26.535084Z",
     "iopub.status.idle": "2023-03-02T11:31:26.571708Z",
     "shell.execute_reply": "2023-03-02T11:31:26.571227Z",
     "shell.execute_reply.started": "2023-03-02T11:31:26.535436Z"
    },
    "tags": []
   },
   "outputs": [
    {
     "data": {
      "text/html": [
       "<div>\n",
       "<style scoped>\n",
       "    .dataframe tbody tr th:only-of-type {\n",
       "        vertical-align: middle;\n",
       "    }\n",
       "\n",
       "    .dataframe tbody tr th {\n",
       "        vertical-align: top;\n",
       "    }\n",
       "\n",
       "    .dataframe thead th {\n",
       "        text-align: right;\n",
       "    }\n",
       "</style>\n",
       "<table border=\"1\" class=\"dataframe\">\n",
       "  <thead>\n",
       "    <tr style=\"text-align: right;\">\n",
       "      <th></th>\n",
       "      <th></th>\n",
       "      <th></th>\n",
       "      <th></th>\n",
       "      <th></th>\n",
       "      <th></th>\n",
       "      <th>cookies</th>\n",
       "      <th>mergeable</th>\n",
       "      <th>last_cookie_age</th>\n",
       "    </tr>\n",
       "    <tr>\n",
       "      <th>hh_id</th>\n",
       "      <th>brand</th>\n",
       "      <th>model</th>\n",
       "      <th>os</th>\n",
       "      <th>browser</th>\n",
       "      <th>advertisedbrowser</th>\n",
       "      <th></th>\n",
       "      <th></th>\n",
       "      <th></th>\n",
       "    </tr>\n",
       "  </thead>\n",
       "  <tbody>\n",
       "    <tr>\n",
       "      <th>008lj1AMI8</th>\n",
       "      <th>google</th>\n",
       "      <th>chrome</th>\n",
       "      <th>windows</th>\n",
       "      <th>chrome desktop</th>\n",
       "      <th>Chrome</th>\n",
       "      <td>2</td>\n",
       "      <td>False</td>\n",
       "      <td>81</td>\n",
       "    </tr>\n",
       "    <tr>\n",
       "      <th>017VVGbSKq</th>\n",
       "      <th>samsung</th>\n",
       "      <th>sm-a125u</th>\n",
       "      <th>android</th>\n",
       "      <th>chrome mobile</th>\n",
       "      <th>Facebook on Android</th>\n",
       "      <td>2</td>\n",
       "      <td>True</td>\n",
       "      <td>65</td>\n",
       "    </tr>\n",
       "    <tr>\n",
       "      <th>02AntYkc0F</th>\n",
       "      <th>blu</th>\n",
       "      <th>b131dl</th>\n",
       "      <th>android</th>\n",
       "      <th>chrome mobile</th>\n",
       "      <th>Chrome Mobile</th>\n",
       "      <td>2</td>\n",
       "      <td>True</td>\n",
       "      <td>62</td>\n",
       "    </tr>\n",
       "    <tr>\n",
       "      <th>03M6awhGWm</th>\n",
       "      <th>samsung</th>\n",
       "      <th>sm-n975f</th>\n",
       "      <th>android</th>\n",
       "      <th>chrome mobile</th>\n",
       "      <th>Chrome Mobile</th>\n",
       "      <td>2</td>\n",
       "      <td>False</td>\n",
       "      <td>65</td>\n",
       "    </tr>\n",
       "    <tr>\n",
       "      <th>03gbDb0Gsc</th>\n",
       "      <th>google</th>\n",
       "      <th>chrome</th>\n",
       "      <th>windows</th>\n",
       "      <th>chrome desktop</th>\n",
       "      <th>Chrome</th>\n",
       "      <td>2</td>\n",
       "      <td>False</td>\n",
       "      <td>50</td>\n",
       "    </tr>\n",
       "  </tbody>\n",
       "</table>\n",
       "</div>"
      ],
      "text/plain": [
       "                                                                        cookies  \\\n",
       "hh_id      brand   model    os      browser        advertisedbrowser              \n",
       "008lj1AMI8 google  chrome   windows chrome desktop Chrome                     2   \n",
       "017VVGbSKq samsung sm-a125u android chrome mobile  Facebook on Android        2   \n",
       "02AntYkc0F blu     b131dl   android chrome mobile  Chrome Mobile              2   \n",
       "03M6awhGWm samsung sm-n975f android chrome mobile  Chrome Mobile              2   \n",
       "03gbDb0Gsc google  chrome   windows chrome desktop Chrome                     2   \n",
       "\n",
       "                                                                        mergeable  \\\n",
       "hh_id      brand   model    os      browser        advertisedbrowser                \n",
       "008lj1AMI8 google  chrome   windows chrome desktop Chrome                   False   \n",
       "017VVGbSKq samsung sm-a125u android chrome mobile  Facebook on Android       True   \n",
       "02AntYkc0F blu     b131dl   android chrome mobile  Chrome Mobile             True   \n",
       "03M6awhGWm samsung sm-n975f android chrome mobile  Chrome Mobile            False   \n",
       "03gbDb0Gsc google  chrome   windows chrome desktop Chrome                   False   \n",
       "\n",
       "                                                                        last_cookie_age  \n",
       "hh_id      brand   model    os      browser        advertisedbrowser                     \n",
       "008lj1AMI8 google  chrome   windows chrome desktop Chrome                            81  \n",
       "017VVGbSKq samsung sm-a125u android chrome mobile  Facebook on Android               65  \n",
       "02AntYkc0F blu     b131dl   android chrome mobile  Chrome Mobile                     62  \n",
       "03M6awhGWm samsung sm-n975f android chrome mobile  Chrome Mobile                     65  \n",
       "03gbDb0Gsc google  chrome   windows chrome desktop Chrome                            50  "
      ]
     },
     "execution_count": 273,
     "metadata": {},
     "output_type": "execute_result"
    }
   ],
   "source": [
    "result.head()"
   ]
  },
  {
   "cell_type": "markdown",
   "id": "ce30ddd9-e3ac-4151-a6cf-0ad7df48c586",
   "metadata": {},
   "source": [
    "### Now Lets reveal the last third a.k.a the test"
   ]
  },
  {
   "cell_type": "code",
   "execution_count": 109,
   "id": "c5f4c447-18d8-4108-9fce-9bbb17df7199",
   "metadata": {
    "execution": {
     "iopub.execute_input": "2023-03-02T07:44:54.289852Z",
     "iopub.status.busy": "2023-03-02T07:44:54.289255Z",
     "iopub.status.idle": "2023-03-02T07:44:55.496350Z",
     "shell.execute_reply": "2023-03-02T07:44:55.495596Z",
     "shell.execute_reply.started": "2023-03-02T07:44:54.289815Z"
    },
    "tags": []
   },
   "outputs": [],
   "source": [
    "only_relevant_maid_full = df_sorted[df_sorted[\"maid\"] == perfect_cookies.maid2int(maid_chosen)]"
   ]
  },
  {
   "cell_type": "code",
   "execution_count": 110,
   "id": "b4f2f35d-c0f3-4e0d-9438-d91b7a6c0ac6",
   "metadata": {
    "execution": {
     "iopub.execute_input": "2023-03-02T07:44:56.460231Z",
     "iopub.status.busy": "2023-03-02T07:44:56.459439Z",
     "iopub.status.idle": "2023-03-02T07:44:57.825787Z",
     "shell.execute_reply": "2023-03-02T07:44:57.825089Z",
     "shell.execute_reply.started": "2023-03-02T07:44:56.460165Z"
    },
    "tags": []
   },
   "outputs": [],
   "source": [
    "pattern = re.compile(r'^\\d+(\\.\\d+)*$')\n",
    "only_relevant_maid_full = only_relevant_maid_full[only_relevant_maid_full.osversion.str.match(pattern)]"
   ]
  },
  {
   "cell_type": "code",
   "execution_count": 111,
   "id": "e37d0f64-73a1-4187-ad1b-47b4302980ad",
   "metadata": {
    "execution": {
     "iopub.execute_input": "2023-03-02T07:44:59.747560Z",
     "iopub.status.busy": "2023-03-02T07:44:59.746990Z",
     "iopub.status.idle": "2023-03-02T07:45:04.574194Z",
     "shell.execute_reply": "2023-03-02T07:45:04.573533Z",
     "shell.execute_reply.started": "2023-03-02T07:44:59.747521Z"
    },
    "tags": []
   },
   "outputs": [],
   "source": [
    "more_than_one_full = only_relevant_maid_full.groupby(\n",
    "        [\"hh_id\", \"brand\", \"model\", \"os\", \"browser\", \"advertisedbrowser\"]\n",
    "    ).filter(lambda x: x[\"iiqid\"].nunique() > 1)"
   ]
  },
  {
   "cell_type": "code",
   "execution_count": 112,
   "id": "22426639-c913-4ac1-b432-63e09d97b716",
   "metadata": {
    "execution": {
     "iopub.execute_input": "2023-03-02T07:45:20.061808Z",
     "iopub.status.busy": "2023-03-02T07:45:20.061026Z",
     "iopub.status.idle": "2023-03-02T07:45:30.795093Z",
     "shell.execute_reply": "2023-03-02T07:45:30.794452Z",
     "shell.execute_reply.started": "2023-03-02T07:45:20.061764Z"
    },
    "tags": []
   },
   "outputs": [],
   "source": [
    "grouped_data_full = more_than_one_full.groupby(['hh_id', 'brand', 'model', 'os', 'browser', 'advertisedbrowser', 'iiqid']).agg(\n",
    "    {'browserversion': [hard_rules.min_ver, hard_rules.max_ver], 'osversion': [hard_rules.min_ver, hard_rules.max_ver],\n",
    "     'time': ['min', 'max']}).reset_index()"
   ]
  },
  {
   "cell_type": "code",
   "execution_count": 113,
   "id": "796ceb6c-60ac-4e64-84df-2d31129173aa",
   "metadata": {
    "execution": {
     "iopub.execute_input": "2023-03-02T07:45:30.796418Z",
     "iopub.status.busy": "2023-03-02T07:45:30.796275Z",
     "iopub.status.idle": "2023-03-02T07:45:30.814439Z",
     "shell.execute_reply": "2023-03-02T07:45:30.814099Z",
     "shell.execute_reply.started": "2023-03-02T07:45:30.796403Z"
    },
    "tags": []
   },
   "outputs": [],
   "source": [
    "grouped_data_full.columns = ['hh_id', 'brand', 'model', \n",
    "                        'os', 'browser', 'advertisedbrowser', 'iiqid', \n",
    "                        'min_browser_ver', 'max_browser_ver', \n",
    "                        'min_os_ver', 'max_os_ver', \n",
    "                        'min_time', 'max_time']"
   ]
  },
  {
   "cell_type": "code",
   "execution_count": 114,
   "id": "ccb6ffbd-cfb4-4dcf-83a0-86e2c812e86e",
   "metadata": {
    "execution": {
     "iopub.execute_input": "2023-03-02T07:45:31.217917Z",
     "iopub.status.busy": "2023-03-02T07:45:31.215176Z",
     "iopub.status.idle": "2023-03-02T07:45:31.271969Z",
     "shell.execute_reply": "2023-03-02T07:45:31.271570Z",
     "shell.execute_reply.started": "2023-03-02T07:45:31.217866Z"
    },
    "tags": []
   },
   "outputs": [],
   "source": [
    "grouped_data_full = grouped_data_full.sort_values(by=['hh_id', 'brand', 'model', 'os', 'browser', 'advertisedbrowser', 'min_time'])"
   ]
  },
  {
   "cell_type": "code",
   "execution_count": 115,
   "id": "772950af-5e0a-4f8c-9f42-4802ff7bebb9",
   "metadata": {
    "execution": {
     "iopub.execute_input": "2023-03-02T07:45:38.161294Z",
     "iopub.status.busy": "2023-03-02T07:45:38.160785Z",
     "iopub.status.idle": "2023-03-02T07:45:38.243371Z",
     "shell.execute_reply": "2023-03-02T07:45:38.242757Z",
     "shell.execute_reply.started": "2023-03-02T07:45:38.161263Z"
    },
    "tags": []
   },
   "outputs": [],
   "source": [
    "grouped_data_full['prev_max_time'] = grouped_data_full.groupby(['hh_id', 'brand', 'model', 'os', 'browser', 'advertisedbrowser'])['max_time'].shift(1).fillna(pd.Timestamp.min)\n",
    "grouped_data_full['prev_max_browser_ver'] = grouped_data_full.groupby(['hh_id', 'brand', 'model', 'os', 'browser', 'advertisedbrowser'])['max_browser_ver'].shift(1).fillna(hard_rules.MINUS_INF_VERSION)\n",
    "grouped_data_full['prev_max_os_ver'] = grouped_data_full.groupby(['hh_id', 'brand', 'model', 'os', 'browser', 'advertisedbrowser'])['max_os_ver'].shift(1).fillna(hard_rules.MINUS_INF_VERSION)"
   ]
  },
  {
   "cell_type": "code",
   "execution_count": 116,
   "id": "64d5bb74-e6cc-477a-a86a-5b419a825820",
   "metadata": {
    "execution": {
     "iopub.execute_input": "2023-03-02T07:45:44.708500Z",
     "iopub.status.busy": "2023-03-02T07:45:44.707840Z",
     "iopub.status.idle": "2023-03-02T07:45:44.893627Z",
     "shell.execute_reply": "2023-03-02T07:45:44.893326Z",
     "shell.execute_reply.started": "2023-03-02T07:45:44.708450Z"
    },
    "tags": []
   },
   "outputs": [],
   "source": [
    "full_valid_rows_full = grouped_data_full[(grouped_data_full['min_time'] > grouped_data_full['prev_max_time'])\n",
    "                              & (np.vectorize(compare_versions)(grouped_data_full['min_browser_ver'], \n",
    "                                                               grouped_data_full['prev_max_browser_ver']) >= 0)\n",
    "                              & (np.vectorize(compare_versions)(grouped_data_full['min_os_ver'], \n",
    "                                                               grouped_data_full['prev_max_os_ver']) >= 0)]"
   ]
  },
  {
   "cell_type": "code",
   "execution_count": 117,
   "id": "c20e5291-9b91-4079-b5ba-7653088f1342",
   "metadata": {
    "execution": {
     "iopub.execute_input": "2023-03-02T07:46:09.901480Z",
     "iopub.status.busy": "2023-03-02T07:46:09.899444Z",
     "iopub.status.idle": "2023-03-02T07:46:09.996188Z",
     "shell.execute_reply": "2023-03-02T07:46:09.995783Z",
     "shell.execute_reply.started": "2023-03-02T07:46:09.901392Z"
    },
    "tags": []
   },
   "outputs": [],
   "source": [
    "original_rows_per_hhua_full = grouped_data_full.groupby(['hh_id', 'brand', 'model', 'os', 'browser', 'advertisedbrowser']).size()\n",
    "valid_rows_per_hhua_full = full_valid_rows_full.groupby(['hh_id', 'brand', 'model', 'os', 'browser', 'advertisedbrowser']).size()\n",
    "all_mergable_full = valid_rows_per_hhua_full.eq(original_rows_per_hhua_full)\n",
    "\n",
    "result_full = pd.concat([original_rows_per_hhua_full, all_mergable_full], axis=1)\n",
    "result_full.columns = ['cookies_full','mergeable_full'] "
   ]
  },
  {
   "cell_type": "code",
   "execution_count": 118,
   "id": "6e6aeabf-bac3-41ab-a5ac-d2ec3145adfa",
   "metadata": {
    "execution": {
     "iopub.execute_input": "2023-03-02T07:46:13.141860Z",
     "iopub.status.busy": "2023-03-02T07:46:13.141285Z",
     "iopub.status.idle": "2023-03-02T07:46:13.178935Z",
     "shell.execute_reply": "2023-03-02T07:46:13.178406Z",
     "shell.execute_reply.started": "2023-03-02T07:46:13.141824Z"
    },
    "tags": []
   },
   "outputs": [
    {
     "data": {
      "text/html": [
       "<div>\n",
       "<style scoped>\n",
       "    .dataframe tbody tr th:only-of-type {\n",
       "        vertical-align: middle;\n",
       "    }\n",
       "\n",
       "    .dataframe tbody tr th {\n",
       "        vertical-align: top;\n",
       "    }\n",
       "\n",
       "    .dataframe thead th {\n",
       "        text-align: right;\n",
       "    }\n",
       "</style>\n",
       "<table border=\"1\" class=\"dataframe\">\n",
       "  <thead>\n",
       "    <tr style=\"text-align: right;\">\n",
       "      <th></th>\n",
       "      <th></th>\n",
       "      <th></th>\n",
       "      <th></th>\n",
       "      <th></th>\n",
       "      <th></th>\n",
       "      <th>cookies_full</th>\n",
       "      <th>mergeable_full</th>\n",
       "    </tr>\n",
       "    <tr>\n",
       "      <th>hh_id</th>\n",
       "      <th>brand</th>\n",
       "      <th>model</th>\n",
       "      <th>os</th>\n",
       "      <th>browser</th>\n",
       "      <th>advertisedbrowser</th>\n",
       "      <th></th>\n",
       "      <th></th>\n",
       "    </tr>\n",
       "  </thead>\n",
       "  <tbody>\n",
       "    <tr>\n",
       "      <th>008lj1AMI8</th>\n",
       "      <th>google</th>\n",
       "      <th>chrome</th>\n",
       "      <th>windows</th>\n",
       "      <th>chrome desktop</th>\n",
       "      <th>Chrome</th>\n",
       "      <td>2</td>\n",
       "      <td>False</td>\n",
       "    </tr>\n",
       "    <tr>\n",
       "      <th>017VVGbSKq</th>\n",
       "      <th>samsung</th>\n",
       "      <th>sm-a125u</th>\n",
       "      <th>android</th>\n",
       "      <th>chrome mobile</th>\n",
       "      <th>Facebook on Android</th>\n",
       "      <td>2</td>\n",
       "      <td>True</td>\n",
       "    </tr>\n",
       "    <tr>\n",
       "      <th>02AntYkc0F</th>\n",
       "      <th>blu</th>\n",
       "      <th>b131dl</th>\n",
       "      <th>android</th>\n",
       "      <th>chrome mobile</th>\n",
       "      <th>Chrome Mobile</th>\n",
       "      <td>2</td>\n",
       "      <td>True</td>\n",
       "    </tr>\n",
       "    <tr>\n",
       "      <th>03M6awhGWm</th>\n",
       "      <th>samsung</th>\n",
       "      <th>sm-n975f</th>\n",
       "      <th>android</th>\n",
       "      <th>chrome mobile</th>\n",
       "      <th>Chrome Mobile</th>\n",
       "      <td>2</td>\n",
       "      <td>False</td>\n",
       "    </tr>\n",
       "    <tr>\n",
       "      <th>03gbDb0Gsc</th>\n",
       "      <th>google</th>\n",
       "      <th>chrome</th>\n",
       "      <th>windows</th>\n",
       "      <th>chrome desktop</th>\n",
       "      <th>Chrome</th>\n",
       "      <td>2</td>\n",
       "      <td>False</td>\n",
       "    </tr>\n",
       "  </tbody>\n",
       "</table>\n",
       "</div>"
      ],
      "text/plain": [
       "                                                                        cookies_full  \\\n",
       "hh_id      brand   model    os      browser        advertisedbrowser                   \n",
       "008lj1AMI8 google  chrome   windows chrome desktop Chrome                          2   \n",
       "017VVGbSKq samsung sm-a125u android chrome mobile  Facebook on Android             2   \n",
       "02AntYkc0F blu     b131dl   android chrome mobile  Chrome Mobile                   2   \n",
       "03M6awhGWm samsung sm-n975f android chrome mobile  Chrome Mobile                   2   \n",
       "03gbDb0Gsc google  chrome   windows chrome desktop Chrome                          2   \n",
       "\n",
       "                                                                        mergeable_full  \n",
       "hh_id      brand   model    os      browser        advertisedbrowser                    \n",
       "008lj1AMI8 google  chrome   windows chrome desktop Chrome                        False  \n",
       "017VVGbSKq samsung sm-a125u android chrome mobile  Facebook on Android            True  \n",
       "02AntYkc0F blu     b131dl   android chrome mobile  Chrome Mobile                  True  \n",
       "03M6awhGWm samsung sm-n975f android chrome mobile  Chrome Mobile                 False  \n",
       "03gbDb0Gsc google  chrome   windows chrome desktop Chrome                        False  "
      ]
     },
     "execution_count": 118,
     "metadata": {},
     "output_type": "execute_result"
    }
   ],
   "source": [
    "result_full.head()"
   ]
  },
  {
   "cell_type": "code",
   "execution_count": 274,
   "id": "c0827238-71d3-4162-9463-2528e2b258ff",
   "metadata": {
    "execution": {
     "iopub.execute_input": "2023-03-02T11:59:57.537704Z",
     "iopub.status.busy": "2023-03-02T11:59:57.535903Z",
     "iopub.status.idle": "2023-03-02T11:59:57.620244Z",
     "shell.execute_reply": "2023-03-02T11:59:57.619928Z",
     "shell.execute_reply.started": "2023-03-02T11:59:57.537655Z"
    },
    "tags": []
   },
   "outputs": [],
   "source": [
    "tested_train = result.join(result_full, how='left')"
   ]
  },
  {
   "cell_type": "code",
   "execution_count": 284,
   "id": "c8d632fa-0574-40d4-b508-ee9721156582",
   "metadata": {
    "execution": {
     "iopub.execute_input": "2023-03-02T12:08:50.928247Z",
     "iopub.status.busy": "2023-03-02T12:08:50.927275Z",
     "iopub.status.idle": "2023-03-02T12:08:50.987215Z",
     "shell.execute_reply": "2023-03-02T12:08:50.986687Z",
     "shell.execute_reply.started": "2023-03-02T12:08:50.928156Z"
    },
    "tags": []
   },
   "outputs": [
    {
     "data": {
      "text/html": [
       "<div>\n",
       "<style scoped>\n",
       "    .dataframe tbody tr th:only-of-type {\n",
       "        vertical-align: middle;\n",
       "    }\n",
       "\n",
       "    .dataframe tbody tr th {\n",
       "        vertical-align: top;\n",
       "    }\n",
       "\n",
       "    .dataframe thead th {\n",
       "        text-align: right;\n",
       "    }\n",
       "</style>\n",
       "<table border=\"1\" class=\"dataframe\">\n",
       "  <thead>\n",
       "    <tr style=\"text-align: right;\">\n",
       "      <th></th>\n",
       "      <th></th>\n",
       "      <th></th>\n",
       "      <th></th>\n",
       "      <th></th>\n",
       "      <th></th>\n",
       "      <th>cookies</th>\n",
       "      <th>mergeable</th>\n",
       "      <th>last_cookie_age</th>\n",
       "      <th>cookies_full</th>\n",
       "      <th>mergeable_full</th>\n",
       "    </tr>\n",
       "    <tr>\n",
       "      <th>hh_id</th>\n",
       "      <th>brand</th>\n",
       "      <th>model</th>\n",
       "      <th>os</th>\n",
       "      <th>browser</th>\n",
       "      <th>advertisedbrowser</th>\n",
       "      <th></th>\n",
       "      <th></th>\n",
       "      <th></th>\n",
       "      <th></th>\n",
       "      <th></th>\n",
       "    </tr>\n",
       "  </thead>\n",
       "  <tbody>\n",
       "    <tr>\n",
       "      <th>008lj1AMI8</th>\n",
       "      <th>google</th>\n",
       "      <th>chrome</th>\n",
       "      <th>windows</th>\n",
       "      <th>chrome desktop</th>\n",
       "      <th>Chrome</th>\n",
       "      <td>2</td>\n",
       "      <td>False</td>\n",
       "      <td>81</td>\n",
       "      <td>2</td>\n",
       "      <td>False</td>\n",
       "    </tr>\n",
       "    <tr>\n",
       "      <th>017VVGbSKq</th>\n",
       "      <th>samsung</th>\n",
       "      <th>sm-a125u</th>\n",
       "      <th>android</th>\n",
       "      <th>chrome mobile</th>\n",
       "      <th>Facebook on Android</th>\n",
       "      <td>2</td>\n",
       "      <td>True</td>\n",
       "      <td>65</td>\n",
       "      <td>2</td>\n",
       "      <td>True</td>\n",
       "    </tr>\n",
       "    <tr>\n",
       "      <th>02AntYkc0F</th>\n",
       "      <th>blu</th>\n",
       "      <th>b131dl</th>\n",
       "      <th>android</th>\n",
       "      <th>chrome mobile</th>\n",
       "      <th>Chrome Mobile</th>\n",
       "      <td>2</td>\n",
       "      <td>True</td>\n",
       "      <td>62</td>\n",
       "      <td>2</td>\n",
       "      <td>True</td>\n",
       "    </tr>\n",
       "    <tr>\n",
       "      <th>03M6awhGWm</th>\n",
       "      <th>samsung</th>\n",
       "      <th>sm-n975f</th>\n",
       "      <th>android</th>\n",
       "      <th>chrome mobile</th>\n",
       "      <th>Chrome Mobile</th>\n",
       "      <td>2</td>\n",
       "      <td>False</td>\n",
       "      <td>65</td>\n",
       "      <td>2</td>\n",
       "      <td>False</td>\n",
       "    </tr>\n",
       "    <tr>\n",
       "      <th>03gbDb0Gsc</th>\n",
       "      <th>google</th>\n",
       "      <th>chrome</th>\n",
       "      <th>windows</th>\n",
       "      <th>chrome desktop</th>\n",
       "      <th>Chrome</th>\n",
       "      <td>2</td>\n",
       "      <td>False</td>\n",
       "      <td>50</td>\n",
       "      <td>2</td>\n",
       "      <td>False</td>\n",
       "    </tr>\n",
       "  </tbody>\n",
       "</table>\n",
       "</div>"
      ],
      "text/plain": [
       "                                                                        cookies  \\\n",
       "hh_id      brand   model    os      browser        advertisedbrowser              \n",
       "008lj1AMI8 google  chrome   windows chrome desktop Chrome                     2   \n",
       "017VVGbSKq samsung sm-a125u android chrome mobile  Facebook on Android        2   \n",
       "02AntYkc0F blu     b131dl   android chrome mobile  Chrome Mobile              2   \n",
       "03M6awhGWm samsung sm-n975f android chrome mobile  Chrome Mobile              2   \n",
       "03gbDb0Gsc google  chrome   windows chrome desktop Chrome                     2   \n",
       "\n",
       "                                                                        mergeable  \\\n",
       "hh_id      brand   model    os      browser        advertisedbrowser                \n",
       "008lj1AMI8 google  chrome   windows chrome desktop Chrome                   False   \n",
       "017VVGbSKq samsung sm-a125u android chrome mobile  Facebook on Android       True   \n",
       "02AntYkc0F blu     b131dl   android chrome mobile  Chrome Mobile             True   \n",
       "03M6awhGWm samsung sm-n975f android chrome mobile  Chrome Mobile            False   \n",
       "03gbDb0Gsc google  chrome   windows chrome desktop Chrome                   False   \n",
       "\n",
       "                                                                        last_cookie_age  \\\n",
       "hh_id      brand   model    os      browser        advertisedbrowser                      \n",
       "008lj1AMI8 google  chrome   windows chrome desktop Chrome                            81   \n",
       "017VVGbSKq samsung sm-a125u android chrome mobile  Facebook on Android               65   \n",
       "02AntYkc0F blu     b131dl   android chrome mobile  Chrome Mobile                     62   \n",
       "03M6awhGWm samsung sm-n975f android chrome mobile  Chrome Mobile                     65   \n",
       "03gbDb0Gsc google  chrome   windows chrome desktop Chrome                            50   \n",
       "\n",
       "                                                                        cookies_full  \\\n",
       "hh_id      brand   model    os      browser        advertisedbrowser                   \n",
       "008lj1AMI8 google  chrome   windows chrome desktop Chrome                          2   \n",
       "017VVGbSKq samsung sm-a125u android chrome mobile  Facebook on Android             2   \n",
       "02AntYkc0F blu     b131dl   android chrome mobile  Chrome Mobile                   2   \n",
       "03M6awhGWm samsung sm-n975f android chrome mobile  Chrome Mobile                   2   \n",
       "03gbDb0Gsc google  chrome   windows chrome desktop Chrome                          2   \n",
       "\n",
       "                                                                        mergeable_full  \n",
       "hh_id      brand   model    os      browser        advertisedbrowser                    \n",
       "008lj1AMI8 google  chrome   windows chrome desktop Chrome                        False  \n",
       "017VVGbSKq samsung sm-a125u android chrome mobile  Facebook on Android            True  \n",
       "02AntYkc0F blu     b131dl   android chrome mobile  Chrome Mobile                  True  \n",
       "03M6awhGWm samsung sm-n975f android chrome mobile  Chrome Mobile                 False  \n",
       "03gbDb0Gsc google  chrome   windows chrome desktop Chrome                        False  "
      ]
     },
     "execution_count": 284,
     "metadata": {},
     "output_type": "execute_result"
    }
   ],
   "source": [
    "tested_train.head()"
   ]
  },
  {
   "cell_type": "code",
   "execution_count": 403,
   "id": "7fcef16c-f05c-4339-80bf-8db287ad8cf7",
   "metadata": {
    "execution": {
     "iopub.execute_input": "2023-03-02T13:23:05.354535Z",
     "iopub.status.busy": "2023-03-02T13:23:05.352667Z",
     "iopub.status.idle": "2023-03-02T13:23:05.433428Z",
     "shell.execute_reply": "2023-03-02T13:23:05.433015Z",
     "shell.execute_reply.started": "2023-03-02T13:23:05.354462Z"
    },
    "tags": []
   },
   "outputs": [],
   "source": [
    "accuracy_by_age = tested_train.groupby('last_cookie_age').apply(lambda x: (x.loc[(x['mergeable']==True) & (x['mergeable_full']==True)].shape[0]) / x.loc[x['mergeable']==True].shape[0])"
   ]
  },
  {
   "cell_type": "code",
   "execution_count": 416,
   "id": "0c2ac70a-c163-43ad-aebc-7f8852f61a4c",
   "metadata": {
    "execution": {
     "iopub.execute_input": "2023-03-02T13:47:51.798281Z",
     "iopub.status.busy": "2023-03-02T13:47:51.797388Z",
     "iopub.status.idle": "2023-03-02T13:47:51.840269Z",
     "shell.execute_reply": "2023-03-02T13:47:51.839664Z",
     "shell.execute_reply.started": "2023-03-02T13:47:51.798214Z"
    },
    "tags": []
   },
   "outputs": [
    {
     "name": "stdout",
     "output_type": "stream",
     "text": [
      "66\n",
      "100\n",
      "114\n",
      "96\n",
      "89\n",
      "90\n",
      "59\n",
      "95\n",
      "65\n",
      "68\n",
      "57\n",
      "70\n",
      "62\n",
      "51\n",
      "64\n",
      "61\n",
      "46\n",
      "52\n",
      "57\n",
      "48\n",
      "38\n",
      "54\n",
      "50\n",
      "46\n",
      "41\n",
      "56\n",
      "59\n",
      "45\n",
      "54\n",
      "29\n",
      "47\n",
      "45\n",
      "40\n",
      "40\n",
      "31\n",
      "40\n",
      "37\n",
      "20\n",
      "20\n",
      "20\n",
      "18\n",
      "17\n",
      "16\n",
      "21\n",
      "18\n",
      "10\n",
      "51\n",
      "69\n",
      "43\n",
      "27\n"
     ]
    }
   ],
   "source": [
    "for i in range(min(accuracy_by_age.index), max(accuracy_by_age.index)):\n",
    "    print(len(tested_train[(tested_train[\"last_cookie_age\"]==i) & (tested_train[\"mergeable\"]==True)]))"
   ]
  },
  {
   "cell_type": "code",
   "execution_count": 342,
   "id": "e7ee27b2-08e0-4019-a6dd-d1811ef6dffe",
   "metadata": {
    "execution": {
     "iopub.execute_input": "2023-03-02T12:51:56.091740Z",
     "iopub.status.busy": "2023-03-02T12:51:56.090080Z",
     "iopub.status.idle": "2023-03-02T12:51:56.122966Z",
     "shell.execute_reply": "2023-03-02T12:51:56.122489Z",
     "shell.execute_reply.started": "2023-03-02T12:51:56.091667Z"
    },
    "tags": []
   },
   "outputs": [],
   "source": [
    "from numpy.polynomial.polynomial import polyfit"
   ]
  },
  {
   "cell_type": "code",
   "execution_count": 440,
   "id": "670e46c7-9979-4c2b-828a-67424c6750ef",
   "metadata": {
    "execution": {
     "iopub.execute_input": "2023-03-02T14:27:18.191907Z",
     "iopub.status.busy": "2023-03-02T14:27:18.191068Z",
     "iopub.status.idle": "2023-03-02T14:27:18.218633Z",
     "shell.execute_reply": "2023-03-02T14:27:18.217820Z",
     "shell.execute_reply.started": "2023-03-02T14:27:18.191862Z"
    },
    "tags": []
   },
   "outputs": [],
   "source": [
    "x = np.array(accuracy_by_age.index)\n",
    "y = np.array(accuracy_by_age)\n",
    "\n",
    "b, m = polyfit(x=accuracy_by_age.index, y=accuracy_by_age, deg=1)\n",
    "coeffs = polyfit(x, y, deg=2)"
   ]
  },
  {
   "cell_type": "code",
   "execution_count": 441,
   "id": "f941da29-6250-425a-9277-0317207d5419",
   "metadata": {
    "execution": {
     "iopub.execute_input": "2023-03-02T14:27:18.539622Z",
     "iopub.status.busy": "2023-03-02T14:27:18.538938Z",
     "iopub.status.idle": "2023-03-02T14:27:18.573294Z",
     "shell.execute_reply": "2023-03-02T14:27:18.572624Z",
     "shell.execute_reply.started": "2023-03-02T14:27:18.539589Z"
    },
    "tags": []
   },
   "outputs": [
    {
     "data": {
      "text/plain": [
       "array([ 1.44852081e-01,  1.87593300e-02, -1.20146318e-04])"
      ]
     },
     "execution_count": 441,
     "metadata": {},
     "output_type": "execute_result"
    }
   ],
   "source": [
    "coeffs"
   ]
  },
  {
   "cell_type": "code",
   "execution_count": 443,
   "id": "bd121df0-9aff-4382-a2d5-77494e7d2ec0",
   "metadata": {
    "execution": {
     "iopub.execute_input": "2023-03-02T14:27:26.713001Z",
     "iopub.status.busy": "2023-03-02T14:27:26.712273Z",
     "iopub.status.idle": "2023-03-02T14:27:26.896821Z",
     "shell.execute_reply": "2023-03-02T14:27:26.896401Z",
     "shell.execute_reply.started": "2023-03-02T14:27:26.712937Z"
    },
    "tags": []
   },
   "outputs": [
    {
     "data": {
      "image/png": "[encoded data removed]",
      "text/plain": [
       "<Figure size 1200x500 with 1 Axes>"
      ]
     },
     "metadata": {},
     "output_type": "display_data"
    }
   ],
   "source": [
    "# plt.plot(accuracy_by_age, 'o-')\n",
    "plt.plot(x, y, 'o', label='Accuracy')\n",
    "plt.plot(x, coeffs[0] + coeffs[1] * x + coeffs[2] * x**2, '-', label='Regression Line')\n",
    "# plt.plot(accuracy_by_age.index, b + m * accuracy_by_age.index, '-', label='Regression Line')\n",
    "plt.xlim(accuracy_by_age.index.max()+1, accuracy_by_age.index.min()-1)\n",
    "plt.xlabel('Last Cookie Age')\n",
    "plt.ylabel('Accuracy')\n",
    "plt.title('Accuracy vs Last Cookie Age')\n",
    "plt.legend()\n",
    "plt.tight_layout()\n",
    "plt.show()"
   ]
  },
  {
   "cell_type": "code",
   "execution_count": 124,
   "id": "96497b7c-cce0-40f9-9eda-f34e43860757",
   "metadata": {
    "execution": {
     "iopub.execute_input": "2023-03-02T08:17:40.510145Z",
     "iopub.status.busy": "2023-03-02T08:17:40.509591Z",
     "iopub.status.idle": "2023-03-02T08:17:40.551402Z",
     "shell.execute_reply": "2023-03-02T08:17:40.550791Z",
     "shell.execute_reply.started": "2023-03-02T08:17:40.510094Z"
    }
   },
   "outputs": [
    {
     "name": "stdout",
     "output_type": "stream",
     "text": [
      "How many merges didn't get ruined\n",
      "93.3%\n"
     ]
    }
   ],
   "source": [
    "print(\"How many merges didn't get ruined\")\n",
    "print('{:.1%}'.format((tested_train[\"mergeable\"]==tested_train[\"mergeable_full\"]).sum()/len(tested_train)))"
   ]
  },
  {
   "cell_type": "code",
   "execution_count": 123,
   "id": "a0172a6b-e24f-477c-9a2c-dee4cb0dec97",
   "metadata": {
    "execution": {
     "iopub.execute_input": "2023-03-02T08:16:31.840194Z",
     "iopub.status.busy": "2023-03-02T08:16:31.838614Z",
     "iopub.status.idle": "2023-03-02T08:16:31.927824Z",
     "shell.execute_reply": "2023-03-02T08:16:31.927053Z",
     "shell.execute_reply.started": "2023-03-02T08:16:31.840141Z"
    },
    "tags": []
   },
   "outputs": [
    {
     "name": "stdout",
     "output_type": "stream",
     "text": [
      "How many didn't change at all\n",
      "74.7%\n"
     ]
    }
   ],
   "source": [
    "print(\"How many didn't change at all\")\n",
    "print('{:.1%}'.format((tested_train[\"cookies\"]==tested_train[\"cookies_full\"]).sum()/len(tested_train)))"
   ]
  },
  {
   "cell_type": "code",
   "execution_count": 128,
   "id": "087c8851-c593-4c59-844a-9af1e8c3770c",
   "metadata": {
    "execution": {
     "iopub.execute_input": "2023-03-02T08:24:30.055695Z",
     "iopub.status.busy": "2023-03-02T08:24:30.054975Z",
     "iopub.status.idle": "2023-03-02T08:24:30.088449Z",
     "shell.execute_reply": "2023-03-02T08:24:30.088053Z",
     "shell.execute_reply.started": "2023-03-02T08:24:30.055643Z"
    },
    "tags": []
   },
   "outputs": [
    {
     "name": "stdout",
     "output_type": "stream",
     "text": [
      "From those who changed, how many merges didn't get ruined\n",
      "88.3%\n"
     ]
    }
   ],
   "source": [
    "print(\"From those who changed, how many merges didn't get ruined\")\n",
    "changed_total = tested_train[tested_train[\"cookies\"]!=tested_train[\"cookies_full\"]]\n",
    "changed_but_still_ok = changed_total[changed_total[\"mergeable\"]==changed_total[\"mergeable_full\"]]\n",
    "\n",
    "print('{:.1%}'.format(len(changed_but_still_ok)/len(changed_total)))"
   ]
  },
  {
   "cell_type": "markdown",
   "id": "51bed24a-e511-4076-b9cc-f675217cca80",
   "metadata": {
    "execution": {
     "iopub.execute_input": "2023-03-02T08:51:07.283757Z",
     "iopub.status.busy": "2023-03-02T08:51:07.282920Z",
     "iopub.status.idle": "2023-03-02T08:51:07.318372Z",
     "shell.execute_reply": "2023-03-02T08:51:07.317982Z",
     "shell.execute_reply.started": "2023-03-02T08:51:07.283680Z"
    },
    "tags": []
   },
   "source": [
    "### Now for every broswer"
   ]
  },
  {
   "cell_type": "code",
   "execution_count": 284,
   "id": "dd463403-b7bd-4e2d-901c-19917ff8707f",
   "metadata": {
    "execution": {
     "iopub.execute_input": "2023-03-02T12:08:50.928247Z",
     "iopub.status.busy": "2023-03-02T12:08:50.927275Z",
     "iopub.status.idle": "2023-03-02T12:08:50.987215Z",
     "shell.execute_reply": "2023-03-02T12:08:50.986687Z",
     "shell.execute_reply.started": "2023-03-02T12:08:50.928156Z"
    },
    "tags": []
   },
   "outputs": [
    {
     "data": {
      "text/html": [
       "<div>\n",
       "<style scoped>\n",
       "    .dataframe tbody tr th:only-of-type {\n",
       "        vertical-align: middle;\n",
       "    }\n",
       "\n",
       "    .dataframe tbody tr th {\n",
       "        vertical-align: top;\n",
       "    }\n",
       "\n",
       "    .dataframe thead th {\n",
       "        text-align: right;\n",
       "    }\n",
       "</style>\n",
       "<table border=\"1\" class=\"dataframe\">\n",
       "  <thead>\n",
       "    <tr style=\"text-align: right;\">\n",
       "      <th></th>\n",
       "      <th></th>\n",
       "      <th></th>\n",
       "      <th></th>\n",
       "      <th></th>\n",
       "      <th></th>\n",
       "      <th>cookies</th>\n",
       "      <th>mergeable</th>\n",
       "      <th>last_cookie_age</th>\n",
       "      <th>cookies_full</th>\n",
       "      <th>mergeable_full</th>\n",
       "    </tr>\n",
       "    <tr>\n",
       "      <th>hh_id</th>\n",
       "      <th>brand</th>\n",
       "      <th>model</th>\n",
       "      <th>os</th>\n",
       "      <th>browser</th>\n",
       "      <th>advertisedbrowser</th>\n",
       "      <th></th>\n",
       "      <th></th>\n",
       "      <th></th>\n",
       "      <th></th>\n",
       "      <th></th>\n",
       "    </tr>\n",
       "  </thead>\n",
       "  <tbody>\n",
       "    <tr>\n",
       "      <th>008lj1AMI8</th>\n",
       "      <th>google</th>\n",
       "      <th>chrome</th>\n",
       "      <th>windows</th>\n",
       "      <th>chrome desktop</th>\n",
       "      <th>Chrome</th>\n",
       "      <td>2</td>\n",
       "      <td>False</td>\n",
       "      <td>81</td>\n",
       "      <td>2</td>\n",
       "      <td>False</td>\n",
       "    </tr>\n",
       "    <tr>\n",
       "      <th>017VVGbSKq</th>\n",
       "      <th>samsung</th>\n",
       "      <th>sm-a125u</th>\n",
       "      <th>android</th>\n",
       "      <th>chrome mobile</th>\n",
       "      <th>Facebook on Android</th>\n",
       "      <td>2</td>\n",
       "      <td>True</td>\n",
       "      <td>65</td>\n",
       "      <td>2</td>\n",
       "      <td>True</td>\n",
       "    </tr>\n",
       "    <tr>\n",
       "      <th>02AntYkc0F</th>\n",
       "      <th>blu</th>\n",
       "      <th>b131dl</th>\n",
       "      <th>android</th>\n",
       "      <th>chrome mobile</th>\n",
       "      <th>Chrome Mobile</th>\n",
       "      <td>2</td>\n",
       "      <td>True</td>\n",
       "      <td>62</td>\n",
       "      <td>2</td>\n",
       "      <td>True</td>\n",
       "    </tr>\n",
       "    <tr>\n",
       "      <th>03M6awhGWm</th>\n",
       "      <th>samsung</th>\n",
       "      <th>sm-n975f</th>\n",
       "      <th>android</th>\n",
       "      <th>chrome mobile</th>\n",
       "      <th>Chrome Mobile</th>\n",
       "      <td>2</td>\n",
       "      <td>False</td>\n",
       "      <td>65</td>\n",
       "      <td>2</td>\n",
       "      <td>False</td>\n",
       "    </tr>\n",
       "    <tr>\n",
       "      <th>03gbDb0Gsc</th>\n",
       "      <th>google</th>\n",
       "      <th>chrome</th>\n",
       "      <th>windows</th>\n",
       "      <th>chrome desktop</th>\n",
       "      <th>Chrome</th>\n",
       "      <td>2</td>\n",
       "      <td>False</td>\n",
       "      <td>50</td>\n",
       "      <td>2</td>\n",
       "      <td>False</td>\n",
       "    </tr>\n",
       "  </tbody>\n",
       "</table>\n",
       "</div>"
      ],
      "text/plain": [
       "                                                                        cookies  \\\n",
       "hh_id      brand   model    os      browser        advertisedbrowser              \n",
       "008lj1AMI8 google  chrome   windows chrome desktop Chrome                     2   \n",
       "017VVGbSKq samsung sm-a125u android chrome mobile  Facebook on Android        2   \n",
       "02AntYkc0F blu     b131dl   android chrome mobile  Chrome Mobile              2   \n",
       "03M6awhGWm samsung sm-n975f android chrome mobile  Chrome Mobile              2   \n",
       "03gbDb0Gsc google  chrome   windows chrome desktop Chrome                     2   \n",
       "\n",
       "                                                                        mergeable  \\\n",
       "hh_id      brand   model    os      browser        advertisedbrowser                \n",
       "008lj1AMI8 google  chrome   windows chrome desktop Chrome                   False   \n",
       "017VVGbSKq samsung sm-a125u android chrome mobile  Facebook on Android       True   \n",
       "02AntYkc0F blu     b131dl   android chrome mobile  Chrome Mobile             True   \n",
       "03M6awhGWm samsung sm-n975f android chrome mobile  Chrome Mobile            False   \n",
       "03gbDb0Gsc google  chrome   windows chrome desktop Chrome                   False   \n",
       "\n",
       "                                                                        last_cookie_age  \\\n",
       "hh_id      brand   model    os      browser        advertisedbrowser                      \n",
       "008lj1AMI8 google  chrome   windows chrome desktop Chrome                            81   \n",
       "017VVGbSKq samsung sm-a125u android chrome mobile  Facebook on Android               65   \n",
       "02AntYkc0F blu     b131dl   android chrome mobile  Chrome Mobile                     62   \n",
       "03M6awhGWm samsung sm-n975f android chrome mobile  Chrome Mobile                     65   \n",
       "03gbDb0Gsc google  chrome   windows chrome desktop Chrome                            50   \n",
       "\n",
       "                                                                        cookies_full  \\\n",
       "hh_id      brand   model    os      browser        advertisedbrowser                   \n",
       "008lj1AMI8 google  chrome   windows chrome desktop Chrome                          2   \n",
       "017VVGbSKq samsung sm-a125u android chrome mobile  Facebook on Android             2   \n",
       "02AntYkc0F blu     b131dl   android chrome mobile  Chrome Mobile                   2   \n",
       "03M6awhGWm samsung sm-n975f android chrome mobile  Chrome Mobile                   2   \n",
       "03gbDb0Gsc google  chrome   windows chrome desktop Chrome                          2   \n",
       "\n",
       "                                                                        mergeable_full  \n",
       "hh_id      brand   model    os      browser        advertisedbrowser                    \n",
       "008lj1AMI8 google  chrome   windows chrome desktop Chrome                        False  \n",
       "017VVGbSKq samsung sm-a125u android chrome mobile  Facebook on Android            True  \n",
       "02AntYkc0F blu     b131dl   android chrome mobile  Chrome Mobile                  True  \n",
       "03M6awhGWm samsung sm-n975f android chrome mobile  Chrome Mobile                 False  \n",
       "03gbDb0Gsc google  chrome   windows chrome desktop Chrome                        False  "
      ]
     },
     "execution_count": 284,
     "metadata": {},
     "output_type": "execute_result"
    }
   ],
   "source": [
    "tested_train.head()"
   ]
  },
  {
   "cell_type": "code",
   "execution_count": 392,
   "id": "97654b07-3a2b-4b10-9a85-e382b309ac44",
   "metadata": {
    "execution": {
     "iopub.execute_input": "2023-03-02T13:12:07.121202Z",
     "iopub.status.busy": "2023-03-02T13:12:07.119369Z",
     "iopub.status.idle": "2023-03-02T13:12:07.153335Z",
     "shell.execute_reply": "2023-03-02T13:12:07.152759Z",
     "shell.execute_reply.started": "2023-03-02T13:12:07.121114Z"
    },
    "tags": []
   },
   "outputs": [],
   "source": [
    "b = \"chrome mobile\""
   ]
  },
  {
   "cell_type": "code",
   "execution_count": 398,
   "id": "a08d5510-973b-46dc-98d4-65a67a7cb158",
   "metadata": {
    "execution": {
     "iopub.execute_input": "2023-03-02T13:13:52.399769Z",
     "iopub.status.busy": "2023-03-02T13:13:52.398006Z",
     "iopub.status.idle": "2023-03-02T13:13:52.469269Z",
     "shell.execute_reply": "2023-03-02T13:13:52.468811Z",
     "shell.execute_reply.started": "2023-03-02T13:13:52.399698Z"
    },
    "tags": []
   },
   "outputs": [],
   "source": [
    "tested_train_by_browser = tested_train.reset_index()[tested_train.reset_index()[\"browser\"]==b]"
   ]
  },
  {
   "cell_type": "code",
   "execution_count": 399,
   "id": "155c4abe-c929-4257-ade2-3bbc5205de62",
   "metadata": {
    "execution": {
     "iopub.execute_input": "2023-03-02T13:14:36.270319Z",
     "iopub.status.busy": "2023-03-02T13:14:36.268408Z",
     "iopub.status.idle": "2023-03-02T13:14:36.344893Z",
     "shell.execute_reply": "2023-03-02T13:14:36.344506Z",
     "shell.execute_reply.started": "2023-03-02T13:14:36.270247Z"
    },
    "tags": []
   },
   "outputs": [],
   "source": [
    "accuracy_by_age_by_browser = tested_train_by_browser.groupby('last_cookie_age').apply(lambda x: (x.loc[x['mergeable'] == x['mergeable_full']].shape[0]) / x.shape[0])"
   ]
  },
  {
   "cell_type": "code",
   "execution_count": 400,
   "id": "de9d5db1-3962-4fb8-81f4-ece76f0ddbbf",
   "metadata": {
    "execution": {
     "iopub.execute_input": "2023-03-02T13:14:50.858062Z",
     "iopub.status.busy": "2023-03-02T13:14:50.857363Z",
     "iopub.status.idle": "2023-03-02T13:14:50.895897Z",
     "shell.execute_reply": "2023-03-02T13:14:50.895431Z",
     "shell.execute_reply.started": "2023-03-02T13:14:50.857999Z"
    },
    "tags": []
   },
   "outputs": [],
   "source": [
    "b, m = polyfit(x=accuracy_by_age_by_browser.index, y=accuracy_by_age_by_browser, deg=1)"
   ]
  },
  {
   "cell_type": "code",
   "execution_count": 401,
   "id": "bd4b24ce-8ece-4854-9ef8-2738103dfbf2",
   "metadata": {
    "execution": {
     "iopub.execute_input": "2023-03-02T13:15:04.076595Z",
     "iopub.status.busy": "2023-03-02T13:15:04.074763Z",
     "iopub.status.idle": "2023-03-02T13:15:04.275618Z",
     "shell.execute_reply": "2023-03-02T13:15:04.275282Z",
     "shell.execute_reply.started": "2023-03-02T13:15:04.076529Z"
    },
    "tags": []
   },
   "outputs": [
    {
     "data": {
      "image/png": "[encoded data removed]",
      "text/plain": [
       "<Figure size 1200x500 with 1 Axes>"
      ]
     },
     "metadata": {},
     "output_type": "display_data"
    }
   ],
   "source": [
    "# plt.plot(accuracy_by_age, 'o-')\n",
    "plt.plot(accuracy_by_age_by_browser.index, accuracy_by_age_by_browser, 'o')\n",
    "plt.plot(accuracy_by_age_by_browser.index, b + m * accuracy_by_age_by_browser.index, '-')\n",
    "plt.xlim(accuracy_by_age_by_browser.index.max()+1, accuracy_by_age_by_browser.index.min()-1)\n",
    "plt.xlabel('Last Cookie Age')\n",
    "plt.ylabel('Accuracy')\n",
    "plt.title('Accuracy vs Last Cookie Age')\n",
    "plt.tight_layout()\n",
    "plt.show()"
   ]
  },
  {
   "cell_type": "code",
   "execution_count": 472,
   "id": "b282e380-ba84-4fba-8e2c-d8e897b66039",
   "metadata": {
    "execution": {
     "iopub.execute_input": "2023-03-02T14:48:41.344957Z",
     "iopub.status.busy": "2023-03-02T14:48:41.343988Z",
     "iopub.status.idle": "2023-03-02T14:48:41.377360Z",
     "shell.execute_reply": "2023-03-02T14:48:41.376987Z",
     "shell.execute_reply.started": "2023-03-02T14:48:41.344903Z"
    },
    "tags": []
   },
   "outputs": [
    {
     "data": {
      "text/plain": [
       "2067"
      ]
     },
     "execution_count": 472,
     "metadata": {},
     "output_type": "execute_result"
    }
   ],
   "source": []
  },
  {
   "cell_type": "code",
   "execution_count": 475,
   "id": "50d7f4da-0a6b-4eb6-afc5-4b47643f11c6",
   "metadata": {
    "execution": {
     "iopub.execute_input": "2023-03-02T14:51:03.207542Z",
     "iopub.status.busy": "2023-03-02T14:51:03.206369Z",
     "iopub.status.idle": "2023-03-02T14:51:04.101602Z",
     "shell.execute_reply": "2023-03-02T14:51:04.101282Z",
     "shell.execute_reply.started": "2023-03-02T14:51:03.207413Z"
    },
    "tags": []
   },
   "outputs": [
    {
     "data": {
      "image/png": "[encoded data removed]",
      "text/plain": [
       "<Figure size 1200x1600 with 8 Axes>"
      ]
     },
     "metadata": {},
     "output_type": "display_data"
    }
   ],
   "source": [
    "fig, axs = plt.subplots(nrows = 4, ncols=2)\n",
    "fig.set_figheight(16)\n",
    "fig.set_figwidth(12)\n",
    "plt.subplots_adjust(hspace=0.5)\n",
    "fig.suptitle(f\"Merge Accuracy vs Last Cookie's Age\\n\\n{maid_chosen}\")\n",
    "\n",
    "top_browsers = tested_train.reset_index().browser.value_counts()[:8].index\n",
    "\n",
    "for i, b in enumerate(top_browsers):\n",
    "    ax = axs.flatten()[i]\n",
    "    \n",
    "    tested_train_by_browser = tested_train.reset_index()[tested_train.reset_index()[\"browser\"]==b]\n",
    "    accuracy_by_age_by_browser = tested_train_by_browser.groupby('last_cookie_age').apply(lambda x: (x.loc[x['mergeable'] == x['mergeable_full']].shape[0]) / x.shape[0])\n",
    "    total_count_for_browser = tested_train.reset_index().browser.value_counts().loc[b]\n",
    "    \n",
    "    x = np.array(accuracy_by_age_by_browser.index)\n",
    "    y = np.array(accuracy_by_age_by_browser)\n",
    "    coeffs = polyfit(x, y, deg=1)\n",
    "    ax.plot(x, y, 'o', label='Accuracy')\n",
    "    # ax.plot(x, coeffs[0] + coeffs[1] * x + coeffs[2] * x**2, '-', label='Regression Line')\n",
    "    ax.plot(x, coeffs[0] + coeffs[1] * x, '-', label='Regression Line')\n",
    "    \n",
    "    ax.title.set_text(f\"{b} : total : {total_count_for_browser}\")\n",
    "    ax.set_xlim(accuracy_by_age.index.max()+1, accuracy_by_age.index.min()-1)\n",
    "    ax.set_xlabel('Last Cookie Age')\n",
    "    ax.set_ylabel('Accuracy')\n",
    "    # ax.set_title('Accuracy vs Last Cookie Age')\n",
    "    handles, labels = ax.get_legend_handles_labels()\n",
    "    fig.legend(handles, labels, loc='upper center', fontsize='medium', bbox_to_anchor=(0.5, 0.05))    "
   ]
  },
  {
   "cell_type": "markdown",
   "id": "b9c4841a-d138-481b-bc42-fc1ef67c0eb0",
   "metadata": {},
   "source": [
    "## Scale up the data - 100K"
   ]
  },
  {
   "cell_type": "code",
   "execution_count": 7,
   "id": "d97d4947-a93c-45d2-a975-4e359d0024ee",
   "metadata": {
    "execution": {
     "iopub.execute_input": "2023-03-05T07:32:13.295594Z",
     "iopub.status.busy": "2023-03-05T07:32:13.294750Z",
     "iopub.status.idle": "2023-03-05T07:35:13.392948Z",
     "shell.execute_reply": "2023-03-05T07:35:13.385413Z",
     "shell.execute_reply.started": "2023-03-05T07:32:13.295534Z"
    }
   },
   "outputs": [],
   "source": [
    "data = pd.read_csv('../Data/100KHH.csv')"
   ]
  },
  {
   "cell_type": "code",
   "execution_count": 8,
   "id": "5f061273-4c36-4977-a92f-5ecd70ecd974",
   "metadata": {
    "execution": {
     "iopub.execute_input": "2023-03-05T07:35:13.411475Z",
     "iopub.status.busy": "2023-03-05T07:35:13.409792Z",
     "iopub.status.idle": "2023-03-05T07:35:13.666498Z",
     "shell.execute_reply": "2023-03-05T07:35:13.666198Z",
     "shell.execute_reply.started": "2023-03-05T07:35:13.410814Z"
    },
    "tags": []
   },
   "outputs": [],
   "source": [
    "needed_columns = ['timestamp', 'filename', 'maid', 'hh_id','iiqid', 'partner_id', 'ip', 'iscellip',\n",
    "       'cellispid', 'domain','is_house_ip_or_source_ip', 'brand', 'model', 'os', 'osversion',\n",
    "       'browser', 'advertisedbrowser', 'browserversion', 'type', 'is_best_ip']\n",
    "unnecessary_columns = [c for c in data.columns if c not in needed_columns]"
   ]
  },
  {
   "cell_type": "code",
   "execution_count": 9,
   "id": "ddfe1734-8a2e-4918-85e7-0df7325be36c",
   "metadata": {
    "execution": {
     "iopub.execute_input": "2023-03-05T07:35:13.667130Z",
     "iopub.status.busy": "2023-03-05T07:35:13.667023Z",
     "iopub.status.idle": "2023-03-05T07:36:38.654319Z",
     "shell.execute_reply": "2023-03-05T07:36:38.649951Z",
     "shell.execute_reply.started": "2023-03-05T07:35:13.667121Z"
    },
    "tags": []
   },
   "outputs": [],
   "source": [
    "data.drop(unnecessary_columns, axis=1, inplace=True)"
   ]
  },
  {
   "cell_type": "code",
   "execution_count": 13,
   "id": "b2614b7d-8dff-4d23-b069-827c6b4686b1",
   "metadata": {
    "execution": {
     "iopub.execute_input": "2023-03-05T07:41:04.360879Z",
     "iopub.status.busy": "2023-03-05T07:41:04.359969Z",
     "iopub.status.idle": "2023-03-05T07:41:04.415228Z",
     "shell.execute_reply": "2023-03-05T07:41:04.414493Z",
     "shell.execute_reply.started": "2023-03-05T07:41:04.360818Z"
    },
    "tags": []
   },
   "outputs": [
    {
     "name": "stdout",
     "output_type": "stream",
     "text": [
      "<class 'pandas.core.frame.DataFrame'>\n",
      "RangeIndex: 142712868 entries, 0 to 142712867\n",
      "Data columns (total 1 columns):\n",
      " #   Column  Dtype \n",
      "---  ------  ----- \n",
      " 0   hh_id   object\n",
      "dtypes: object(1)\n",
      "memory usage: 1.1+ GB\n"
     ]
    }
   ],
   "source": [
    "data.info()"
   ]
  },
  {
   "cell_type": "code",
   "execution_count": 10,
   "id": "275098f4-6cc3-496d-a87b-25d725f69748",
   "metadata": {
    "execution": {
     "iopub.execute_input": "2023-03-05T07:36:38.663467Z",
     "iopub.status.busy": "2023-03-05T07:36:38.662895Z",
     "iopub.status.idle": "2023-03-05T07:36:40.056932Z",
     "shell.execute_reply": "2023-03-05T07:36:40.056319Z",
     "shell.execute_reply.started": "2023-03-05T07:36:38.663257Z"
    },
    "tags": []
   },
   "outputs": [
    {
     "ename": "KeyError",
     "evalue": "'timestamp'",
     "output_type": "error",
     "traceback": [
      "\u001b[0;31m---------------------------------------------------------------------------\u001b[0m",
      "\u001b[0;31mKeyError\u001b[0m                                  Traceback (most recent call last)",
      "File \u001b[0;32m~/.pyenv/versions/3.10.10/envs/merge/lib/python3.10/site-packages/pandas/core/indexes/base.py:3802\u001b[0m, in \u001b[0;36mIndex.get_loc\u001b[0;34m(self, key, method, tolerance)\u001b[0m\n\u001b[1;32m   3801\u001b[0m \u001b[38;5;28;01mtry\u001b[39;00m:\n\u001b[0;32m-> 3802\u001b[0m     \u001b[38;5;28;01mreturn\u001b[39;00m \u001b[38;5;28;43mself\u001b[39;49m\u001b[38;5;241;43m.\u001b[39;49m\u001b[43m_engine\u001b[49m\u001b[38;5;241;43m.\u001b[39;49m\u001b[43mget_loc\u001b[49m\u001b[43m(\u001b[49m\u001b[43mcasted_key\u001b[49m\u001b[43m)\u001b[49m\n\u001b[1;32m   3803\u001b[0m \u001b[38;5;28;01mexcept\u001b[39;00m \u001b[38;5;167;01mKeyError\u001b[39;00m \u001b[38;5;28;01mas\u001b[39;00m err:\n",
      "File \u001b[0;32m~/.pyenv/versions/3.10.10/envs/merge/lib/python3.10/site-packages/pandas/_libs/index.pyx:138\u001b[0m, in \u001b[0;36mpandas._libs.index.IndexEngine.get_loc\u001b[0;34m()\u001b[0m\n",
      "File \u001b[0;32m~/.pyenv/versions/3.10.10/envs/merge/lib/python3.10/site-packages/pandas/_libs/index.pyx:165\u001b[0m, in \u001b[0;36mpandas._libs.index.IndexEngine.get_loc\u001b[0;34m()\u001b[0m\n",
      "File \u001b[0;32mpandas/_libs/hashtable_class_helper.pxi:5745\u001b[0m, in \u001b[0;36mpandas._libs.hashtable.PyObjectHashTable.get_item\u001b[0;34m()\u001b[0m\n",
      "File \u001b[0;32mpandas/_libs/hashtable_class_helper.pxi:5753\u001b[0m, in \u001b[0;36mpandas._libs.hashtable.PyObjectHashTable.get_item\u001b[0;34m()\u001b[0m\n",
      "\u001b[0;31mKeyError\u001b[0m: 'timestamp'",
      "\nThe above exception was the direct cause of the following exception:\n",
      "\u001b[0;31mKeyError\u001b[0m                                  Traceback (most recent call last)",
      "Cell \u001b[0;32mIn[10], line 1\u001b[0m\n\u001b[0;32m----> 1\u001b[0m data[\u001b[38;5;124m'\u001b[39m\u001b[38;5;124mtime\u001b[39m\u001b[38;5;124m'\u001b[39m] \u001b[38;5;241m=\u001b[39m pd\u001b[38;5;241m.\u001b[39mto_datetime(\u001b[43mdata\u001b[49m\u001b[43m[\u001b[49m\u001b[38;5;124;43m'\u001b[39;49m\u001b[38;5;124;43mtimestamp\u001b[39;49m\u001b[38;5;124;43m'\u001b[39;49m\u001b[43m]\u001b[49m, unit\u001b[38;5;241m=\u001b[39m\u001b[38;5;124m'\u001b[39m\u001b[38;5;124mms\u001b[39m\u001b[38;5;124m'\u001b[39m)\n",
      "File \u001b[0;32m~/.pyenv/versions/3.10.10/envs/merge/lib/python3.10/site-packages/pandas/core/frame.py:3807\u001b[0m, in \u001b[0;36mDataFrame.__getitem__\u001b[0;34m(self, key)\u001b[0m\n\u001b[1;32m   3805\u001b[0m \u001b[38;5;28;01mif\u001b[39;00m \u001b[38;5;28mself\u001b[39m\u001b[38;5;241m.\u001b[39mcolumns\u001b[38;5;241m.\u001b[39mnlevels \u001b[38;5;241m>\u001b[39m \u001b[38;5;241m1\u001b[39m:\n\u001b[1;32m   3806\u001b[0m     \u001b[38;5;28;01mreturn\u001b[39;00m \u001b[38;5;28mself\u001b[39m\u001b[38;5;241m.\u001b[39m_getitem_multilevel(key)\n\u001b[0;32m-> 3807\u001b[0m indexer \u001b[38;5;241m=\u001b[39m \u001b[38;5;28;43mself\u001b[39;49m\u001b[38;5;241;43m.\u001b[39;49m\u001b[43mcolumns\u001b[49m\u001b[38;5;241;43m.\u001b[39;49m\u001b[43mget_loc\u001b[49m\u001b[43m(\u001b[49m\u001b[43mkey\u001b[49m\u001b[43m)\u001b[49m\n\u001b[1;32m   3808\u001b[0m \u001b[38;5;28;01mif\u001b[39;00m is_integer(indexer):\n\u001b[1;32m   3809\u001b[0m     indexer \u001b[38;5;241m=\u001b[39m [indexer]\n",
      "File \u001b[0;32m~/.pyenv/versions/3.10.10/envs/merge/lib/python3.10/site-packages/pandas/core/indexes/base.py:3804\u001b[0m, in \u001b[0;36mIndex.get_loc\u001b[0;34m(self, key, method, tolerance)\u001b[0m\n\u001b[1;32m   3802\u001b[0m     \u001b[38;5;28;01mreturn\u001b[39;00m \u001b[38;5;28mself\u001b[39m\u001b[38;5;241m.\u001b[39m_engine\u001b[38;5;241m.\u001b[39mget_loc(casted_key)\n\u001b[1;32m   3803\u001b[0m \u001b[38;5;28;01mexcept\u001b[39;00m \u001b[38;5;167;01mKeyError\u001b[39;00m \u001b[38;5;28;01mas\u001b[39;00m err:\n\u001b[0;32m-> 3804\u001b[0m     \u001b[38;5;28;01mraise\u001b[39;00m \u001b[38;5;167;01mKeyError\u001b[39;00m(key) \u001b[38;5;28;01mfrom\u001b[39;00m \u001b[38;5;21;01merr\u001b[39;00m\n\u001b[1;32m   3805\u001b[0m \u001b[38;5;28;01mexcept\u001b[39;00m \u001b[38;5;167;01mTypeError\u001b[39;00m:\n\u001b[1;32m   3806\u001b[0m     \u001b[38;5;66;03m# If we have a listlike key, _check_indexing_error will raise\u001b[39;00m\n\u001b[1;32m   3807\u001b[0m     \u001b[38;5;66;03m#  InvalidIndexError. Otherwise we fall through and re-raise\u001b[39;00m\n\u001b[1;32m   3808\u001b[0m     \u001b[38;5;66;03m#  the TypeError.\u001b[39;00m\n\u001b[1;32m   3809\u001b[0m     \u001b[38;5;28mself\u001b[39m\u001b[38;5;241m.\u001b[39m_check_indexing_error(key)\n",
      "\u001b[0;31mKeyError\u001b[0m: 'timestamp'"
     ]
    }
   ],
   "source": [
    "data['time'] = pd.to_datetime(data['timestamp'], unit='ms')"
   ]
  },
  {
   "cell_type": "code",
   "execution_count": null,
   "id": "26dc836a-0c19-4d86-bb5d-98c540f35930",
   "metadata": {
    "execution": {
     "iopub.status.busy": "2023-03-05T07:36:40.057226Z",
     "iopub.status.idle": "2023-03-05T07:36:40.057359Z",
     "shell.execute_reply": "2023-03-05T07:36:40.057294Z",
     "shell.execute_reply.started": "2023-03-05T07:36:40.057288Z"
    },
    "tags": []
   },
   "outputs": [],
   "source": [
    "data.dropna(inplace=True)"
   ]
  },
  {
   "cell_type": "markdown",
   "id": "a0eb0a68-6662-4eb8-a6cc-d6e3d39283dc",
   "metadata": {},
   "source": [
    "hh_id contains households id and also non-houdsehols.  \n",
    "The former are strings and the later are integers.   \n",
    "So we record this in a seperate cell and convert all to str  "
   ]
  },
  {
   "cell_type": "code",
   "execution_count": null,
   "id": "55db2d34-1440-438b-8d6d-2b80f1b80935",
   "metadata": {
    "execution": {
     "iopub.status.busy": "2023-03-05T07:36:40.057853Z",
     "iopub.status.idle": "2023-03-05T07:36:40.057965Z",
     "shell.execute_reply": "2023-03-05T07:36:40.057906Z",
     "shell.execute_reply.started": "2023-03-05T07:36:40.057900Z"
    },
    "tags": []
   },
   "outputs": [],
   "source": [
    "data['is_hh'] = data['hh_id'].apply(lambda x: isinstance(x, str))"
   ]
  },
  {
   "cell_type": "code",
   "execution_count": null,
   "id": "3d103f7f-d001-4f34-8ed1-26f4552395a6",
   "metadata": {
    "execution": {
     "iopub.status.busy": "2023-03-05T07:36:40.058420Z",
     "iopub.status.idle": "2023-03-05T07:36:40.058524Z",
     "shell.execute_reply": "2023-03-05T07:36:40.058468Z",
     "shell.execute_reply.started": "2023-03-05T07:36:40.058463Z"
    },
    "tags": []
   },
   "outputs": [],
   "source": [
    "data.is_hh.value_counts()"
   ]
  },
  {
   "cell_type": "code",
   "execution_count": null,
   "id": "57258a53-73e0-429e-a60e-e430273e653f",
   "metadata": {
    "execution": {
     "iopub.status.busy": "2023-03-05T07:36:40.058975Z",
     "iopub.status.idle": "2023-03-05T07:36:40.059077Z",
     "shell.execute_reply": "2023-03-05T07:36:40.059022Z",
     "shell.execute_reply.started": "2023-03-05T07:36:40.059017Z"
    },
    "tags": []
   },
   "outputs": [],
   "source": [
    "data['hh_id'] = data['hh_id'].astype(str)"
   ]
  },
  {
   "cell_type": "markdown",
   "id": "eb6a2b61-22d7-4df7-b312-5c29f1143936",
   "metadata": {},
   "source": [
    "Save the preprosecced data"
   ]
  },
  {
   "cell_type": "code",
   "execution_count": null,
   "id": "ad8cb2b8-8b42-45aa-ae43-839f156402cb",
   "metadata": {
    "execution": {
     "iopub.status.busy": "2023-03-05T07:36:40.059493Z",
     "iopub.status.idle": "2023-03-05T07:36:40.059595Z",
     "shell.execute_reply": "2023-03-05T07:36:40.059540Z",
     "shell.execute_reply.started": "2023-03-05T07:36:40.059535Z"
    },
    "tags": []
   },
   "outputs": [],
   "source": [
    "data.to_parquet('100KHH.parquet')"
   ]
  },
  {
   "cell_type": "code",
   "execution_count": null,
   "id": "4a66a023-109c-4b55-a96c-858769a9bada",
   "metadata": {
    "execution": {
     "iopub.status.busy": "2023-03-05T07:36:40.060023Z",
     "iopub.status.idle": "2023-03-05T07:36:40.060141Z",
     "shell.execute_reply": "2023-03-05T07:36:40.060081Z",
     "shell.execute_reply.started": "2023-03-05T07:36:40.060075Z"
    },
    "tags": []
   },
   "outputs": [],
   "source": [
    "# data = pd.read_parquet('../Data/10K_HH.parquet')"
   ]
  },
  {
   "cell_type": "code",
   "execution_count": null,
   "id": "c8387007-b258-4597-8349-0a7d5f707137",
   "metadata": {},
   "outputs": [],
   "source": []
  }
 ],
 "metadata": {
  "kernelspec": {
   "display_name": "Python 3 (ipykernel)",
   "language": "python",
   "name": "python3"
  },
  "language_info": {
   "codemirror_mode": {
    "name": "ipython",
    "version": 3
   },
   "file_extension": ".py",
   "mimetype": "text/x-python",
   "name": "python",
   "nbconvert_exporter": "python",
   "pygments_lexer": "ipython3",
   "version": "3.10.10"
  }
 },
 "nbformat": 4,
 "nbformat_minor": 5
}
