{
 "cells": [
  {
   "cell_type": "markdown",
   "id": "55589d1a-7fe2-43f1-b436-ad4ee89cbc8f",
   "metadata": {},
   "source": [
    "# Perfect Cookies Test"
   ]
  },
  {
   "cell_type": "code",
   "execution_count": 1,
   "id": "e1c67657-2460-486b-824a-bf08750fa303",
   "metadata": {
    "execution": {
     "iopub.execute_input": "2023-03-07T07:33:55.739833Z",
     "iopub.status.busy": "2023-03-07T07:33:55.739178Z",
     "iopub.status.idle": "2023-03-07T07:33:56.833483Z",
     "shell.execute_reply": "2023-03-07T07:33:56.833172Z",
     "shell.execute_reply.started": "2023-03-07T07:33:55.739788Z"
    },
    "tags": []
   },
   "outputs": [],
   "source": [
    "import numpy as np\n",
    "import pandas as pd\n",
    "import seaborn as sns\n",
    "import matplotlib.pyplot as plt\n",
    "import matplotlib.ticker as mtick\n",
    "import itertools"
   ]
  },
  {
   "cell_type": "code",
   "execution_count": 2,
   "id": "91fd3c96-b8ba-4143-b42c-d01c1e34c0ea",
   "metadata": {
    "execution": {
     "iopub.execute_input": "2023-03-07T07:33:58.055511Z",
     "iopub.status.busy": "2023-03-07T07:33:58.054904Z",
     "iopub.status.idle": "2023-03-07T07:33:58.064842Z",
     "shell.execute_reply": "2023-03-07T07:33:58.063894Z",
     "shell.execute_reply.started": "2023-03-07T07:33:58.055485Z"
    },
    "tags": []
   },
   "outputs": [],
   "source": [
    "import sys\n",
    "import os\n",
    "sys.path.append(os.path.abspath('../modules'))\n",
    "from hard_rules import candidate_cookies, versions_key, compare_versions"
   ]
  },
  {
   "cell_type": "code",
   "execution_count": 3,
   "id": "9cdacc37-a4bf-41ee-8988-116860b22cad",
   "metadata": {
    "execution": {
     "iopub.execute_input": "2023-03-07T07:33:58.225355Z",
     "iopub.status.busy": "2023-03-07T07:33:58.224560Z",
     "iopub.status.idle": "2023-03-07T07:33:58.234110Z",
     "shell.execute_reply": "2023-03-07T07:33:58.233174Z",
     "shell.execute_reply.started": "2023-03-07T07:33:58.225292Z"
    },
    "tags": []
   },
   "outputs": [],
   "source": [
    "from perfect_cookies import preprocessing, count_perfect_cookies, plot_cookies_dist\n",
    "import perfect_cookies\n",
    "import hard_rules"
   ]
  },
  {
   "cell_type": "code",
   "execution_count": 4,
   "id": "299186c8-d0c1-467b-9fb8-38e50178d27e",
   "metadata": {
    "execution": {
     "iopub.execute_input": "2023-03-07T07:33:58.400278Z",
     "iopub.status.busy": "2023-03-07T07:33:58.399524Z",
     "iopub.status.idle": "2023-03-07T07:33:58.415170Z",
     "shell.execute_reply": "2023-03-07T07:33:58.414405Z",
     "shell.execute_reply.started": "2023-03-07T07:33:58.400214Z"
    },
    "tags": []
   },
   "outputs": [],
   "source": [
    "from tqdm import tqdm"
   ]
  },
  {
   "cell_type": "code",
   "execution_count": 5,
   "id": "c45d5f2c-9c9a-487b-be3e-d07ff38c05c1",
   "metadata": {
    "execution": {
     "iopub.execute_input": "2023-03-07T07:33:58.687317Z",
     "iopub.status.busy": "2023-03-07T07:33:58.686603Z",
     "iopub.status.idle": "2023-03-07T07:33:58.693758Z",
     "shell.execute_reply": "2023-03-07T07:33:58.692862Z",
     "shell.execute_reply.started": "2023-03-07T07:33:58.687259Z"
    },
    "tags": []
   },
   "outputs": [],
   "source": [
    "sns.set(rc={'figure.figsize':(12,5)})"
   ]
  },
  {
   "cell_type": "code",
   "execution_count": 6,
   "id": "ba99902c-2b1a-4ab7-b05b-de725c516a24",
   "metadata": {
    "execution": {
     "iopub.execute_input": "2023-03-07T07:34:00.803391Z",
     "iopub.status.busy": "2023-03-07T07:34:00.802468Z",
     "iopub.status.idle": "2023-03-07T07:34:00.834129Z",
     "shell.execute_reply": "2023-03-07T07:34:00.833435Z",
     "shell.execute_reply.started": "2023-03-07T07:34:00.803309Z"
    },
    "tags": []
   },
   "outputs": [],
   "source": [
    "%load_ext autoreload\n",
    "%autoreload 2"
   ]
  },
  {
   "cell_type": "markdown",
   "id": "85004f63-dff7-4f0d-8e34-eebd7862edfb",
   "metadata": {},
   "source": [
    "## Reading the data"
   ]
  },
  {
   "cell_type": "code",
   "execution_count": 90,
   "id": "5c78b932-2bb2-416f-9795-5a53e824913c",
   "metadata": {
    "execution": {
     "iopub.execute_input": "2023-03-02T07:43:19.297204Z",
     "iopub.status.busy": "2023-03-02T07:43:19.296321Z",
     "iopub.status.idle": "2023-03-02T07:43:21.400191Z",
     "shell.execute_reply": "2023-03-02T07:43:21.399453Z",
     "shell.execute_reply.started": "2023-03-02T07:43:19.297141Z"
    },
    "tags": []
   },
   "outputs": [],
   "source": [
    "data = pd.read_parquet('../Data/10K_HH.parquet')"
   ]
  },
  {
   "cell_type": "code",
   "execution_count": 91,
   "id": "522b34f9-5734-4e9c-9240-a49f9eeb7cb5",
   "metadata": {
    "execution": {
     "iopub.execute_input": "2023-03-02T07:43:24.544408Z",
     "iopub.status.busy": "2023-03-02T07:43:24.543376Z",
     "iopub.status.idle": "2023-03-02T07:43:24.579243Z",
     "shell.execute_reply": "2023-03-02T07:43:24.578765Z",
     "shell.execute_reply.started": "2023-03-02T07:43:24.544322Z"
    },
    "tags": []
   },
   "outputs": [],
   "source": [
    "maid_chosen = \"third_party\""
   ]
  },
  {
   "cell_type": "code",
   "execution_count": 402,
   "id": "3de04a49-6e71-4d96-92e9-b4679f04988f",
   "metadata": {
    "execution": {
     "iopub.execute_input": "2023-03-02T13:15:48.811235Z",
     "iopub.status.busy": "2023-03-02T13:15:48.809923Z",
     "iopub.status.idle": "2023-03-02T13:16:00.159031Z",
     "shell.execute_reply": "2023-03-02T13:16:00.158211Z",
     "shell.execute_reply.started": "2023-03-02T13:15:48.811170Z"
    },
    "tags": []
   },
   "outputs": [],
   "source": [
    "df = preprocessing(data)"
   ]
  },
  {
   "cell_type": "code",
   "execution_count": 93,
   "id": "db721175-24ae-49e6-a61c-0eeb3e68be92",
   "metadata": {
    "execution": {
     "iopub.execute_input": "2023-03-02T07:43:34.659072Z",
     "iopub.status.busy": "2023-03-02T07:43:34.658741Z",
     "iopub.status.idle": "2023-03-02T07:43:36.686614Z",
     "shell.execute_reply": "2023-03-02T07:43:36.685768Z",
     "shell.execute_reply.started": "2023-03-02T07:43:34.659056Z"
    },
    "tags": []
   },
   "outputs": [],
   "source": [
    "df_sorted = df.sort_values(by='time')"
   ]
  },
  {
   "cell_type": "code",
   "execution_count": 94,
   "id": "71b10ac5-69ee-46b0-b515-628ff4e5b793",
   "metadata": {
    "execution": {
     "iopub.execute_input": "2023-03-02T07:43:36.687850Z",
     "iopub.status.busy": "2023-03-02T07:43:36.687624Z",
     "iopub.status.idle": "2023-03-02T07:43:38.768152Z",
     "shell.execute_reply": "2023-03-02T07:43:38.767249Z",
     "shell.execute_reply.started": "2023-03-02T07:43:36.687833Z"
    },
    "tags": []
   },
   "outputs": [],
   "source": [
    "df_sorted = df_sorted[df_sorted[\"time\"] >= pd.to_datetime(\"2022-12-01\")]"
   ]
  },
  {
   "cell_type": "code",
   "execution_count": 95,
   "id": "808639d8-402d-49ea-95cb-4faf6c407bf9",
   "metadata": {
    "execution": {
     "iopub.execute_input": "2023-03-02T07:43:48.895468Z",
     "iopub.status.busy": "2023-03-02T07:43:48.894413Z",
     "iopub.status.idle": "2023-03-02T07:43:57.527781Z",
     "shell.execute_reply": "2023-03-02T07:43:57.527264Z",
     "shell.execute_reply.started": "2023-03-02T07:43:48.895384Z"
    },
    "tags": []
   },
   "outputs": [
    {
     "data": {
      "text/plain": [
       "(2022, 12)    3039691\n",
       "(2023, 1)     3063579\n",
       "(2023, 2)     1383089\n",
       "Name: time, dtype: int64"
      ]
     },
     "execution_count": 95,
     "metadata": {},
     "output_type": "execute_result"
    }
   ],
   "source": [
    "df_sorted[\"time\"].apply(lambda t: (t.year, t.month)).value_counts().sort_index()"
   ]
  },
  {
   "cell_type": "code",
   "execution_count": 96,
   "id": "8bec7507-33dd-408b-941a-e93154cec8ff",
   "metadata": {
    "execution": {
     "iopub.execute_input": "2023-03-02T07:43:57.529309Z",
     "iopub.status.busy": "2023-03-02T07:43:57.529188Z",
     "iopub.status.idle": "2023-03-02T07:43:57.546561Z",
     "shell.execute_reply": "2023-03-02T07:43:57.546228Z",
     "shell.execute_reply.started": "2023-03-02T07:43:57.529295Z"
    },
    "tags": []
   },
   "outputs": [],
   "source": [
    "two_thirds_index = int(len(df_sorted) * 2/3)"
   ]
  },
  {
   "cell_type": "code",
   "execution_count": 97,
   "id": "cdc5c0f9-f66c-41fd-ba0d-7ba72c3250ab",
   "metadata": {
    "execution": {
     "iopub.execute_input": "2023-03-02T07:43:57.547183Z",
     "iopub.status.busy": "2023-03-02T07:43:57.547098Z",
     "iopub.status.idle": "2023-03-02T07:43:58.593770Z",
     "shell.execute_reply": "2023-03-02T07:43:58.593416Z",
     "shell.execute_reply.started": "2023-03-02T07:43:57.547174Z"
    },
    "tags": []
   },
   "outputs": [],
   "source": [
    "train = df_sorted.iloc[:two_thirds_index]\n",
    "test = df_sorted.iloc[two_thirds_index:]"
   ]
  },
  {
   "cell_type": "markdown",
   "id": "0cb547e2-6089-47c6-abe6-09c00b04dba1",
   "metadata": {
    "tags": []
   },
   "source": [
    "## Lets Predict"
   ]
  },
  {
   "cell_type": "code",
   "execution_count": 231,
   "id": "e70dc443-cb88-42fd-8a77-816eb6146a65",
   "metadata": {
    "execution": {
     "iopub.execute_input": "2023-03-02T10:53:59.883103Z",
     "iopub.status.busy": "2023-03-02T10:53:59.881266Z",
     "iopub.status.idle": "2023-03-02T10:53:59.933363Z",
     "shell.execute_reply": "2023-03-02T10:53:59.932857Z",
     "shell.execute_reply.started": "2023-03-02T10:53:59.883021Z"
    },
    "tags": []
   },
   "outputs": [],
   "source": [
    "import re"
   ]
  },
  {
   "cell_type": "code",
   "execution_count": 232,
   "id": "8ca6b15f-1876-44de-9add-5fe342513cd4",
   "metadata": {
    "execution": {
     "iopub.execute_input": "2023-03-02T10:54:00.473059Z",
     "iopub.status.busy": "2023-03-02T10:54:00.472640Z",
     "iopub.status.idle": "2023-03-02T10:54:01.716618Z",
     "shell.execute_reply": "2023-03-02T10:54:01.715778Z",
     "shell.execute_reply.started": "2023-03-02T10:54:00.473026Z"
    },
    "tags": []
   },
   "outputs": [],
   "source": [
    "only_relevant_maid = train[train[\"maid\"] == perfect_cookies.maid2int(maid_chosen)]"
   ]
  },
  {
   "cell_type": "code",
   "execution_count": 233,
   "id": "b14360bb-b703-4f4b-9e97-82b9ea2ec77c",
   "metadata": {
    "execution": {
     "iopub.execute_input": "2023-03-02T10:54:01.718244Z",
     "iopub.status.busy": "2023-03-02T10:54:01.718092Z",
     "iopub.status.idle": "2023-03-02T10:54:02.551864Z",
     "shell.execute_reply": "2023-03-02T10:54:02.551507Z",
     "shell.execute_reply.started": "2023-03-02T10:54:01.718231Z"
    },
    "tags": []
   },
   "outputs": [],
   "source": [
    "pattern = re.compile(r'^\\d+(\\.\\d+)*$')\n",
    "only_relevant_maid = only_relevant_maid[only_relevant_maid.osversion.str.match(pattern)]"
   ]
  },
  {
   "cell_type": "code",
   "execution_count": 234,
   "id": "f54223db-c177-420e-b36d-0493258c92a6",
   "metadata": {
    "execution": {
     "iopub.execute_input": "2023-03-02T10:54:02.552483Z",
     "iopub.status.busy": "2023-03-02T10:54:02.552379Z",
     "iopub.status.idle": "2023-03-02T10:54:05.641810Z",
     "shell.execute_reply": "2023-03-02T10:54:05.640953Z",
     "shell.execute_reply.started": "2023-03-02T10:54:02.552474Z"
    },
    "tags": []
   },
   "outputs": [],
   "source": [
    "more_than_one = only_relevant_maid.groupby(\n",
    "        [\"hh_id\", \"brand\", \"model\", \"os\", \"browser\", \"advertisedbrowser\"]\n",
    "    ).filter(lambda x: x[\"iiqid\"].nunique() > 1)"
   ]
  },
  {
   "cell_type": "code",
   "execution_count": 235,
   "id": "13ef03d0-3136-4bdc-9898-8564ebb4fcb7",
   "metadata": {
    "execution": {
     "iopub.execute_input": "2023-03-02T10:54:05.643703Z",
     "iopub.status.busy": "2023-03-02T10:54:05.643535Z",
     "iopub.status.idle": "2023-03-02T10:54:11.954960Z",
     "shell.execute_reply": "2023-03-02T10:54:11.954668Z",
     "shell.execute_reply.started": "2023-03-02T10:54:05.643687Z"
    },
    "tags": []
   },
   "outputs": [],
   "source": [
    "grouped_data = more_than_one.groupby(['hh_id', 'brand', 'model', 'os', 'browser', 'advertisedbrowser', 'iiqid']).agg(\n",
    "    {'browserversion': [hard_rules.min_ver, hard_rules.max_ver], 'osversion': [hard_rules.min_ver, hard_rules.max_ver],\n",
    "     'time': ['min', 'max']}).reset_index()"
   ]
  },
  {
   "cell_type": "code",
   "execution_count": 236,
   "id": "86a3d613-6ab5-4586-8145-eb91550e3bab",
   "metadata": {
    "execution": {
     "iopub.execute_input": "2023-03-02T10:54:11.955549Z",
     "iopub.status.busy": "2023-03-02T10:54:11.955457Z",
     "iopub.status.idle": "2023-03-02T10:54:11.967098Z",
     "shell.execute_reply": "2023-03-02T10:54:11.966747Z",
     "shell.execute_reply.started": "2023-03-02T10:54:11.955540Z"
    },
    "tags": []
   },
   "outputs": [],
   "source": [
    "grouped_data.columns = ['hh_id', 'brand', 'model', \n",
    "                        'os', 'browser', 'advertisedbrowser', 'iiqid', \n",
    "                        'min_browser_ver', 'max_browser_ver', \n",
    "                        'min_os_ver', 'max_os_ver', \n",
    "                        'min_time', 'max_time']"
   ]
  },
  {
   "cell_type": "code",
   "execution_count": 237,
   "id": "cef9243a-4f94-461b-bd10-80cd077f38f8",
   "metadata": {
    "execution": {
     "iopub.execute_input": "2023-03-02T10:54:11.967698Z",
     "iopub.status.busy": "2023-03-02T10:54:11.967605Z",
     "iopub.status.idle": "2023-03-02T10:54:11.990224Z",
     "shell.execute_reply": "2023-03-02T10:54:11.989890Z",
     "shell.execute_reply.started": "2023-03-02T10:54:11.967689Z"
    },
    "tags": []
   },
   "outputs": [],
   "source": [
    "grouped_data = grouped_data.sort_values(by=['hh_id', 'brand', 'model', 'os', 'browser', 'advertisedbrowser', 'min_time'])"
   ]
  },
  {
   "cell_type": "code",
   "execution_count": 264,
   "id": "7091933e-05a9-40f5-9b99-ba9c50f5656c",
   "metadata": {
    "execution": {
     "iopub.execute_input": "2023-03-02T11:04:57.353834Z",
     "iopub.status.busy": "2023-03-02T11:04:57.352935Z",
     "iopub.status.idle": "2023-03-02T11:04:57.419711Z",
     "shell.execute_reply": "2023-03-02T11:04:57.419249Z",
     "shell.execute_reply.started": "2023-03-02T11:04:57.353769Z"
    },
    "tags": []
   },
   "outputs": [
    {
     "name": "stdout",
     "output_type": "stream",
     "text": [
      "8291\n",
      "24703\n"
     ]
    }
   ],
   "source": [
    "grouped_ages = (end_of_time - grouped_data.groupby([\n",
    "    'hh_id', 'brand', 'model', 'os', 'browser', 'advertisedbrowser'\n",
    "            ])[\"min_time\"].max()).apply(lambda t: t.days)\n",
    "print(len(grouped_ages))\n",
    "print(len(grouped_data))\n",
    "# grouped_data.groupby(['hh_id', 'brand', 'model', 'os', 'browser', 'advertisedbrowser'])['max_time'].shift(1)"
   ]
  },
  {
   "cell_type": "code",
   "execution_count": 265,
   "id": "ddd7b0bd-3591-4e4e-a5ca-0afdbeebeb7e",
   "metadata": {
    "execution": {
     "iopub.execute_input": "2023-03-02T11:06:34.447981Z",
     "iopub.status.busy": "2023-03-02T11:06:34.446235Z",
     "iopub.status.idle": "2023-03-02T11:06:34.535997Z",
     "shell.execute_reply": "2023-03-02T11:06:34.535661Z",
     "shell.execute_reply.started": "2023-03-02T11:06:34.447903Z"
    },
    "tags": []
   },
   "outputs": [],
   "source": [
    "grouped_data['prev_max_time'] = grouped_data.groupby(['hh_id', 'brand', 'model', 'os', 'browser', 'advertisedbrowser'])['max_time'].shift(1).fillna(pd.Timestamp.min)\n",
    "grouped_data['prev_max_browser_ver'] = grouped_data.groupby(['hh_id', 'brand', 'model', 'os', 'browser', 'advertisedbrowser'])['max_browser_ver'].shift(1).fillna(hard_rules.MINUS_INF_VERSION)\n",
    "grouped_data['prev_max_os_ver'] = grouped_data.groupby(['hh_id', 'brand', 'model', 'os', 'browser', 'advertisedbrowser'])['max_os_ver'].shift(1).fillna(hard_rules.MINUS_INF_VERSION)"
   ]
  },
  {
   "cell_type": "code",
   "execution_count": 266,
   "id": "22ca6f3d-836a-4549-9714-01d06057a062",
   "metadata": {
    "execution": {
     "iopub.execute_input": "2023-03-02T11:06:41.533175Z",
     "iopub.status.busy": "2023-03-02T11:06:41.532570Z",
     "iopub.status.idle": "2023-03-02T11:06:41.661648Z",
     "shell.execute_reply": "2023-03-02T11:06:41.661239Z",
     "shell.execute_reply.started": "2023-03-02T11:06:41.533139Z"
    },
    "tags": []
   },
   "outputs": [],
   "source": [
    "full_valid_rows = grouped_data[(grouped_data['min_time'] > grouped_data['prev_max_time'])\n",
    "                              & (np.vectorize(compare_versions)(grouped_data['min_browser_ver'], \n",
    "                                                               grouped_data['prev_max_browser_ver']) >= 0)\n",
    "                              & (np.vectorize(compare_versions)(grouped_data['min_os_ver'], \n",
    "                                                               grouped_data['prev_max_os_ver']) >= 0)]"
   ]
  },
  {
   "cell_type": "code",
   "execution_count": 354,
   "id": "b524c62d-48dc-46e9-8061-94784b367ce2",
   "metadata": {
    "execution": {
     "iopub.execute_input": "2023-03-02T12:59:11.288863Z",
     "iopub.status.busy": "2023-03-02T12:59:11.277196Z",
     "iopub.status.idle": "2023-03-02T12:59:11.330266Z",
     "shell.execute_reply": "2023-03-02T12:59:11.329790Z",
     "shell.execute_reply.started": "2023-03-02T12:59:11.288650Z"
    },
    "tags": []
   },
   "outputs": [],
   "source": [
    "end_of_time = pd.Timestamp('2023-02-24')"
   ]
  },
  {
   "cell_type": "code",
   "execution_count": 272,
   "id": "4faae8b3-08e9-45e9-81ff-75ef22f2c2a2",
   "metadata": {
    "execution": {
     "iopub.execute_input": "2023-03-02T11:31:19.967697Z",
     "iopub.status.busy": "2023-03-02T11:31:19.966354Z",
     "iopub.status.idle": "2023-03-02T11:31:20.080838Z",
     "shell.execute_reply": "2023-03-02T11:31:20.080533Z",
     "shell.execute_reply.started": "2023-03-02T11:31:19.967641Z"
    },
    "tags": []
   },
   "outputs": [],
   "source": [
    "original_rows_per_hhua = grouped_data.groupby(['hh_id', 'brand', 'model', 'os', 'browser', 'advertisedbrowser']).size()\n",
    "last_cookie_age_per_hhua = (end_of_time - grouped_data.groupby(['hh_id', 'brand', 'model', 'os', 'browser', 'advertisedbrowser'])[\"min_time\"].max()).apply(lambda t: t.days)\n",
    "valid_rows_per_hhua = full_valid_rows.groupby(['hh_id', 'brand', 'model', 'os', 'browser', 'advertisedbrowser']).size()\n",
    "all_mergable = valid_rows_per_hhua.eq(original_rows_per_hhua)\n",
    "\n",
    "result = pd.concat([original_rows_per_hhua, all_mergable, last_cookie_age_per_hhua], axis=1)\n",
    "result.columns = ['cookies','mergeable', 'last_cookie_age'] "
   ]
  },
  {
   "cell_type": "code",
   "execution_count": 273,
   "id": "edd24e3e-f417-497c-9f63-4b9198b0e8f0",
   "metadata": {
    "execution": {
     "iopub.execute_input": "2023-03-02T11:31:26.535461Z",
     "iopub.status.busy": "2023-03-02T11:31:26.535084Z",
     "iopub.status.idle": "2023-03-02T11:31:26.571708Z",
     "shell.execute_reply": "2023-03-02T11:31:26.571227Z",
     "shell.execute_reply.started": "2023-03-02T11:31:26.535436Z"
    },
    "tags": []
   },
   "outputs": [
    {
     "data": {
      "text/html": [
       "<div>\n",
       "<style scoped>\n",
       "    .dataframe tbody tr th:only-of-type {\n",
       "        vertical-align: middle;\n",
       "    }\n",
       "\n",
       "    .dataframe tbody tr th {\n",
       "        vertical-align: top;\n",
       "    }\n",
       "\n",
       "    .dataframe thead th {\n",
       "        text-align: right;\n",
       "    }\n",
       "</style>\n",
       "<table border=\"1\" class=\"dataframe\">\n",
       "  <thead>\n",
       "    <tr style=\"text-align: right;\">\n",
       "      <th></th>\n",
       "      <th></th>\n",
       "      <th></th>\n",
       "      <th></th>\n",
       "      <th></th>\n",
       "      <th></th>\n",
       "      <th>cookies</th>\n",
       "      <th>mergeable</th>\n",
       "      <th>last_cookie_age</th>\n",
       "    </tr>\n",
       "    <tr>\n",
       "      <th>hh_id</th>\n",
       "      <th>brand</th>\n",
       "      <th>model</th>\n",
       "      <th>os</th>\n",
       "      <th>browser</th>\n",
       "      <th>advertisedbrowser</th>\n",
       "      <th></th>\n",
       "      <th></th>\n",
       "      <th></th>\n",
       "    </tr>\n",
       "  </thead>\n",
       "  <tbody>\n",
       "    <tr>\n",
       "      <th>008lj1AMI8</th>\n",
       "      <th>google</th>\n",
       "      <th>chrome</th>\n",
       "      <th>windows</th>\n",
       "      <th>chrome desktop</th>\n",
       "      <th>Chrome</th>\n",
       "      <td>2</td>\n",
       "      <td>False</td>\n",
       "      <td>81</td>\n",
       "    </tr>\n",
       "    <tr>\n",
       "      <th>017VVGbSKq</th>\n",
       "      <th>samsung</th>\n",
       "      <th>sm-a125u</th>\n",
       "      <th>android</th>\n",
       "      <th>chrome mobile</th>\n",
       "      <th>Facebook on Android</th>\n",
       "      <td>2</td>\n",
       "      <td>True</td>\n",
       "      <td>65</td>\n",
       "    </tr>\n",
       "    <tr>\n",
       "      <th>02AntYkc0F</th>\n",
       "      <th>blu</th>\n",
       "      <th>b131dl</th>\n",
       "      <th>android</th>\n",
       "      <th>chrome mobile</th>\n",
       "      <th>Chrome Mobile</th>\n",
       "      <td>2</td>\n",
       "      <td>True</td>\n",
       "      <td>62</td>\n",
       "    </tr>\n",
       "    <tr>\n",
       "      <th>03M6awhGWm</th>\n",
       "      <th>samsung</th>\n",
       "      <th>sm-n975f</th>\n",
       "      <th>android</th>\n",
       "      <th>chrome mobile</th>\n",
       "      <th>Chrome Mobile</th>\n",
       "      <td>2</td>\n",
       "      <td>False</td>\n",
       "      <td>65</td>\n",
       "    </tr>\n",
       "    <tr>\n",
       "      <th>03gbDb0Gsc</th>\n",
       "      <th>google</th>\n",
       "      <th>chrome</th>\n",
       "      <th>windows</th>\n",
       "      <th>chrome desktop</th>\n",
       "      <th>Chrome</th>\n",
       "      <td>2</td>\n",
       "      <td>False</td>\n",
       "      <td>50</td>\n",
       "    </tr>\n",
       "  </tbody>\n",
       "</table>\n",
       "</div>"
      ],
      "text/plain": [
       "                                                                        cookies  \\\n",
       "hh_id      brand   model    os      browser        advertisedbrowser              \n",
       "008lj1AMI8 google  chrome   windows chrome desktop Chrome                     2   \n",
       "017VVGbSKq samsung sm-a125u android chrome mobile  Facebook on Android        2   \n",
       "02AntYkc0F blu     b131dl   android chrome mobile  Chrome Mobile              2   \n",
       "03M6awhGWm samsung sm-n975f android chrome mobile  Chrome Mobile              2   \n",
       "03gbDb0Gsc google  chrome   windows chrome desktop Chrome                     2   \n",
       "\n",
       "                                                                        mergeable  \\\n",
       "hh_id      brand   model    os      browser        advertisedbrowser                \n",
       "008lj1AMI8 google  chrome   windows chrome desktop Chrome                   False   \n",
       "017VVGbSKq samsung sm-a125u android chrome mobile  Facebook on Android       True   \n",
       "02AntYkc0F blu     b131dl   android chrome mobile  Chrome Mobile             True   \n",
       "03M6awhGWm samsung sm-n975f android chrome mobile  Chrome Mobile            False   \n",
       "03gbDb0Gsc google  chrome   windows chrome desktop Chrome                   False   \n",
       "\n",
       "                                                                        last_cookie_age  \n",
       "hh_id      brand   model    os      browser        advertisedbrowser                     \n",
       "008lj1AMI8 google  chrome   windows chrome desktop Chrome                            81  \n",
       "017VVGbSKq samsung sm-a125u android chrome mobile  Facebook on Android               65  \n",
       "02AntYkc0F blu     b131dl   android chrome mobile  Chrome Mobile                     62  \n",
       "03M6awhGWm samsung sm-n975f android chrome mobile  Chrome Mobile                     65  \n",
       "03gbDb0Gsc google  chrome   windows chrome desktop Chrome                            50  "
      ]
     },
     "execution_count": 273,
     "metadata": {},
     "output_type": "execute_result"
    }
   ],
   "source": [
    "result.head()"
   ]
  },
  {
   "cell_type": "markdown",
   "id": "ce30ddd9-e3ac-4151-a6cf-0ad7df48c586",
   "metadata": {},
   "source": [
    "### Now Lets reveal the last third a.k.a the test"
   ]
  },
  {
   "cell_type": "code",
   "execution_count": 109,
   "id": "c5f4c447-18d8-4108-9fce-9bbb17df7199",
   "metadata": {
    "execution": {
     "iopub.execute_input": "2023-03-02T07:44:54.289852Z",
     "iopub.status.busy": "2023-03-02T07:44:54.289255Z",
     "iopub.status.idle": "2023-03-02T07:44:55.496350Z",
     "shell.execute_reply": "2023-03-02T07:44:55.495596Z",
     "shell.execute_reply.started": "2023-03-02T07:44:54.289815Z"
    },
    "tags": []
   },
   "outputs": [],
   "source": [
    "only_relevant_maid_full = df_sorted[df_sorted[\"maid\"] == perfect_cookies.maid2int(maid_chosen)]"
   ]
  },
  {
   "cell_type": "code",
   "execution_count": 110,
   "id": "b4f2f35d-c0f3-4e0d-9438-d91b7a6c0ac6",
   "metadata": {
    "execution": {
     "iopub.execute_input": "2023-03-02T07:44:56.460231Z",
     "iopub.status.busy": "2023-03-02T07:44:56.459439Z",
     "iopub.status.idle": "2023-03-02T07:44:57.825787Z",
     "shell.execute_reply": "2023-03-02T07:44:57.825089Z",
     "shell.execute_reply.started": "2023-03-02T07:44:56.460165Z"
    },
    "tags": []
   },
   "outputs": [],
   "source": [
    "pattern = re.compile(r'^\\d+(\\.\\d+)*$')\n",
    "only_relevant_maid_full = only_relevant_maid_full[only_relevant_maid_full.osversion.str.match(pattern)]"
   ]
  },
  {
   "cell_type": "code",
   "execution_count": 111,
   "id": "e37d0f64-73a1-4187-ad1b-47b4302980ad",
   "metadata": {
    "execution": {
     "iopub.execute_input": "2023-03-02T07:44:59.747560Z",
     "iopub.status.busy": "2023-03-02T07:44:59.746990Z",
     "iopub.status.idle": "2023-03-02T07:45:04.574194Z",
     "shell.execute_reply": "2023-03-02T07:45:04.573533Z",
     "shell.execute_reply.started": "2023-03-02T07:44:59.747521Z"
    },
    "tags": []
   },
   "outputs": [],
   "source": [
    "more_than_one_full = only_relevant_maid_full.groupby(\n",
    "        [\"hh_id\", \"brand\", \"model\", \"os\", \"browser\", \"advertisedbrowser\"]\n",
    "    ).filter(lambda x: x[\"iiqid\"].nunique() > 1)"
   ]
  },
  {
   "cell_type": "code",
   "execution_count": 112,
   "id": "22426639-c913-4ac1-b432-63e09d97b716",
   "metadata": {
    "execution": {
     "iopub.execute_input": "2023-03-02T07:45:20.061808Z",
     "iopub.status.busy": "2023-03-02T07:45:20.061026Z",
     "iopub.status.idle": "2023-03-02T07:45:30.795093Z",
     "shell.execute_reply": "2023-03-02T07:45:30.794452Z",
     "shell.execute_reply.started": "2023-03-02T07:45:20.061764Z"
    },
    "tags": []
   },
   "outputs": [],
   "source": [
    "grouped_data_full = more_than_one_full.groupby(['hh_id', 'brand', 'model', 'os', 'browser', 'advertisedbrowser', 'iiqid']).agg(\n",
    "    {'browserversion': [hard_rules.min_ver, hard_rules.max_ver], 'osversion': [hard_rules.min_ver, hard_rules.max_ver],\n",
    "     'time': ['min', 'max']}).reset_index()"
   ]
  },
  {
   "cell_type": "code",
   "execution_count": 113,
   "id": "796ceb6c-60ac-4e64-84df-2d31129173aa",
   "metadata": {
    "execution": {
     "iopub.execute_input": "2023-03-02T07:45:30.796418Z",
     "iopub.status.busy": "2023-03-02T07:45:30.796275Z",
     "iopub.status.idle": "2023-03-02T07:45:30.814439Z",
     "shell.execute_reply": "2023-03-02T07:45:30.814099Z",
     "shell.execute_reply.started": "2023-03-02T07:45:30.796403Z"
    },
    "tags": []
   },
   "outputs": [],
   "source": [
    "grouped_data_full.columns = ['hh_id', 'brand', 'model', \n",
    "                        'os', 'browser', 'advertisedbrowser', 'iiqid', \n",
    "                        'min_browser_ver', 'max_browser_ver', \n",
    "                        'min_os_ver', 'max_os_ver', \n",
    "                        'min_time', 'max_time']"
   ]
  },
  {
   "cell_type": "code",
   "execution_count": 114,
   "id": "ccb6ffbd-cfb4-4dcf-83a0-86e2c812e86e",
   "metadata": {
    "execution": {
     "iopub.execute_input": "2023-03-02T07:45:31.217917Z",
     "iopub.status.busy": "2023-03-02T07:45:31.215176Z",
     "iopub.status.idle": "2023-03-02T07:45:31.271969Z",
     "shell.execute_reply": "2023-03-02T07:45:31.271570Z",
     "shell.execute_reply.started": "2023-03-02T07:45:31.217866Z"
    },
    "tags": []
   },
   "outputs": [],
   "source": [
    "grouped_data_full = grouped_data_full.sort_values(by=['hh_id', 'brand', 'model', 'os', 'browser', 'advertisedbrowser', 'min_time'])"
   ]
  },
  {
   "cell_type": "code",
   "execution_count": 115,
   "id": "772950af-5e0a-4f8c-9f42-4802ff7bebb9",
   "metadata": {
    "execution": {
     "iopub.execute_input": "2023-03-02T07:45:38.161294Z",
     "iopub.status.busy": "2023-03-02T07:45:38.160785Z",
     "iopub.status.idle": "2023-03-02T07:45:38.243371Z",
     "shell.execute_reply": "2023-03-02T07:45:38.242757Z",
     "shell.execute_reply.started": "2023-03-02T07:45:38.161263Z"
    },
    "tags": []
   },
   "outputs": [],
   "source": [
    "grouped_data_full['prev_max_time'] = grouped_data_full.groupby(['hh_id', 'brand', 'model', 'os', 'browser', 'advertisedbrowser'])['max_time'].shift(1).fillna(pd.Timestamp.min)\n",
    "grouped_data_full['prev_max_browser_ver'] = grouped_data_full.groupby(['hh_id', 'brand', 'model', 'os', 'browser', 'advertisedbrowser'])['max_browser_ver'].shift(1).fillna(hard_rules.MINUS_INF_VERSION)\n",
    "grouped_data_full['prev_max_os_ver'] = grouped_data_full.groupby(['hh_id', 'brand', 'model', 'os', 'browser', 'advertisedbrowser'])['max_os_ver'].shift(1).fillna(hard_rules.MINUS_INF_VERSION)"
   ]
  },
  {
   "cell_type": "code",
   "execution_count": 116,
   "id": "64d5bb74-e6cc-477a-a86a-5b419a825820",
   "metadata": {
    "execution": {
     "iopub.execute_input": "2023-03-02T07:45:44.708500Z",
     "iopub.status.busy": "2023-03-02T07:45:44.707840Z",
     "iopub.status.idle": "2023-03-02T07:45:44.893627Z",
     "shell.execute_reply": "2023-03-02T07:45:44.893326Z",
     "shell.execute_reply.started": "2023-03-02T07:45:44.708450Z"
    },
    "tags": []
   },
   "outputs": [],
   "source": [
    "full_valid_rows_full = grouped_data_full[(grouped_data_full['min_time'] > grouped_data_full['prev_max_time'])\n",
    "                              & (np.vectorize(compare_versions)(grouped_data_full['min_browser_ver'], \n",
    "                                                               grouped_data_full['prev_max_browser_ver']) >= 0)\n",
    "                              & (np.vectorize(compare_versions)(grouped_data_full['min_os_ver'], \n",
    "                                                               grouped_data_full['prev_max_os_ver']) >= 0)]"
   ]
  },
  {
   "cell_type": "code",
   "execution_count": 117,
   "id": "c20e5291-9b91-4079-b5ba-7653088f1342",
   "metadata": {
    "execution": {
     "iopub.execute_input": "2023-03-02T07:46:09.901480Z",
     "iopub.status.busy": "2023-03-02T07:46:09.899444Z",
     "iopub.status.idle": "2023-03-02T07:46:09.996188Z",
     "shell.execute_reply": "2023-03-02T07:46:09.995783Z",
     "shell.execute_reply.started": "2023-03-02T07:46:09.901392Z"
    },
    "tags": []
   },
   "outputs": [],
   "source": [
    "original_rows_per_hhua_full = grouped_data_full.groupby(['hh_id', 'brand', 'model', 'os', 'browser', 'advertisedbrowser']).size()\n",
    "valid_rows_per_hhua_full = full_valid_rows_full.groupby(['hh_id', 'brand', 'model', 'os', 'browser', 'advertisedbrowser']).size()\n",
    "all_mergable_full = valid_rows_per_hhua_full.eq(original_rows_per_hhua_full)\n",
    "\n",
    "result_full = pd.concat([original_rows_per_hhua_full, all_mergable_full], axis=1)\n",
    "result_full.columns = ['cookies_full','mergeable_full'] "
   ]
  },
  {
   "cell_type": "code",
   "execution_count": 118,
   "id": "6e6aeabf-bac3-41ab-a5ac-d2ec3145adfa",
   "metadata": {
    "execution": {
     "iopub.execute_input": "2023-03-02T07:46:13.141860Z",
     "iopub.status.busy": "2023-03-02T07:46:13.141285Z",
     "iopub.status.idle": "2023-03-02T07:46:13.178935Z",
     "shell.execute_reply": "2023-03-02T07:46:13.178406Z",
     "shell.execute_reply.started": "2023-03-02T07:46:13.141824Z"
    },
    "tags": []
   },
   "outputs": [
    {
     "data": {
      "text/html": [
       "<div>\n",
       "<style scoped>\n",
       "    .dataframe tbody tr th:only-of-type {\n",
       "        vertical-align: middle;\n",
       "    }\n",
       "\n",
       "    .dataframe tbody tr th {\n",
       "        vertical-align: top;\n",
       "    }\n",
       "\n",
       "    .dataframe thead th {\n",
       "        text-align: right;\n",
       "    }\n",
       "</style>\n",
       "<table border=\"1\" class=\"dataframe\">\n",
       "  <thead>\n",
       "    <tr style=\"text-align: right;\">\n",
       "      <th></th>\n",
       "      <th></th>\n",
       "      <th></th>\n",
       "      <th></th>\n",
       "      <th></th>\n",
       "      <th></th>\n",
       "      <th>cookies_full</th>\n",
       "      <th>mergeable_full</th>\n",
       "    </tr>\n",
       "    <tr>\n",
       "      <th>hh_id</th>\n",
       "      <th>brand</th>\n",
       "      <th>model</th>\n",
       "      <th>os</th>\n",
       "      <th>browser</th>\n",
       "      <th>advertisedbrowser</th>\n",
       "      <th></th>\n",
       "      <th></th>\n",
       "    </tr>\n",
       "  </thead>\n",
       "  <tbody>\n",
       "    <tr>\n",
       "      <th>008lj1AMI8</th>\n",
       "      <th>google</th>\n",
       "      <th>chrome</th>\n",
       "      <th>windows</th>\n",
       "      <th>chrome desktop</th>\n",
       "      <th>Chrome</th>\n",
       "      <td>2</td>\n",
       "      <td>False</td>\n",
       "    </tr>\n",
       "    <tr>\n",
       "      <th>017VVGbSKq</th>\n",
       "      <th>samsung</th>\n",
       "      <th>sm-a125u</th>\n",
       "      <th>android</th>\n",
       "      <th>chrome mobile</th>\n",
       "      <th>Facebook on Android</th>\n",
       "      <td>2</td>\n",
       "      <td>True</td>\n",
       "    </tr>\n",
       "    <tr>\n",
       "      <th>02AntYkc0F</th>\n",
       "      <th>blu</th>\n",
       "      <th>b131dl</th>\n",
       "      <th>android</th>\n",
       "      <th>chrome mobile</th>\n",
       "      <th>Chrome Mobile</th>\n",
       "      <td>2</td>\n",
       "      <td>True</td>\n",
       "    </tr>\n",
       "    <tr>\n",
       "      <th>03M6awhGWm</th>\n",
       "      <th>samsung</th>\n",
       "      <th>sm-n975f</th>\n",
       "      <th>android</th>\n",
       "      <th>chrome mobile</th>\n",
       "      <th>Chrome Mobile</th>\n",
       "      <td>2</td>\n",
       "      <td>False</td>\n",
       "    </tr>\n",
       "    <tr>\n",
       "      <th>03gbDb0Gsc</th>\n",
       "      <th>google</th>\n",
       "      <th>chrome</th>\n",
       "      <th>windows</th>\n",
       "      <th>chrome desktop</th>\n",
       "      <th>Chrome</th>\n",
       "      <td>2</td>\n",
       "      <td>False</td>\n",
       "    </tr>\n",
       "  </tbody>\n",
       "</table>\n",
       "</div>"
      ],
      "text/plain": [
       "                                                                        cookies_full  \\\n",
       "hh_id      brand   model    os      browser        advertisedbrowser                   \n",
       "008lj1AMI8 google  chrome   windows chrome desktop Chrome                          2   \n",
       "017VVGbSKq samsung sm-a125u android chrome mobile  Facebook on Android             2   \n",
       "02AntYkc0F blu     b131dl   android chrome mobile  Chrome Mobile                   2   \n",
       "03M6awhGWm samsung sm-n975f android chrome mobile  Chrome Mobile                   2   \n",
       "03gbDb0Gsc google  chrome   windows chrome desktop Chrome                          2   \n",
       "\n",
       "                                                                        mergeable_full  \n",
       "hh_id      brand   model    os      browser        advertisedbrowser                    \n",
       "008lj1AMI8 google  chrome   windows chrome desktop Chrome                        False  \n",
       "017VVGbSKq samsung sm-a125u android chrome mobile  Facebook on Android            True  \n",
       "02AntYkc0F blu     b131dl   android chrome mobile  Chrome Mobile                  True  \n",
       "03M6awhGWm samsung sm-n975f android chrome mobile  Chrome Mobile                 False  \n",
       "03gbDb0Gsc google  chrome   windows chrome desktop Chrome                        False  "
      ]
     },
     "execution_count": 118,
     "metadata": {},
     "output_type": "execute_result"
    }
   ],
   "source": [
    "result_full.head()"
   ]
  },
  {
   "cell_type": "code",
   "execution_count": 274,
   "id": "c0827238-71d3-4162-9463-2528e2b258ff",
   "metadata": {
    "execution": {
     "iopub.execute_input": "2023-03-02T11:59:57.537704Z",
     "iopub.status.busy": "2023-03-02T11:59:57.535903Z",
     "iopub.status.idle": "2023-03-02T11:59:57.620244Z",
     "shell.execute_reply": "2023-03-02T11:59:57.619928Z",
     "shell.execute_reply.started": "2023-03-02T11:59:57.537655Z"
    },
    "tags": []
   },
   "outputs": [],
   "source": [
    "tested_train = result.join(result_full, how='left')"
   ]
  },
  {
   "cell_type": "code",
   "execution_count": 284,
   "id": "c8d632fa-0574-40d4-b508-ee9721156582",
   "metadata": {
    "execution": {
     "iopub.execute_input": "2023-03-02T12:08:50.928247Z",
     "iopub.status.busy": "2023-03-02T12:08:50.927275Z",
     "iopub.status.idle": "2023-03-02T12:08:50.987215Z",
     "shell.execute_reply": "2023-03-02T12:08:50.986687Z",
     "shell.execute_reply.started": "2023-03-02T12:08:50.928156Z"
    },
    "tags": []
   },
   "outputs": [
    {
     "data": {
      "text/html": [
       "<div>\n",
       "<style scoped>\n",
       "    .dataframe tbody tr th:only-of-type {\n",
       "        vertical-align: middle;\n",
       "    }\n",
       "\n",
       "    .dataframe tbody tr th {\n",
       "        vertical-align: top;\n",
       "    }\n",
       "\n",
       "    .dataframe thead th {\n",
       "        text-align: right;\n",
       "    }\n",
       "</style>\n",
       "<table border=\"1\" class=\"dataframe\">\n",
       "  <thead>\n",
       "    <tr style=\"text-align: right;\">\n",
       "      <th></th>\n",
       "      <th></th>\n",
       "      <th></th>\n",
       "      <th></th>\n",
       "      <th></th>\n",
       "      <th></th>\n",
       "      <th>cookies</th>\n",
       "      <th>mergeable</th>\n",
       "      <th>last_cookie_age</th>\n",
       "      <th>cookies_full</th>\n",
       "      <th>mergeable_full</th>\n",
       "    </tr>\n",
       "    <tr>\n",
       "      <th>hh_id</th>\n",
       "      <th>brand</th>\n",
       "      <th>model</th>\n",
       "      <th>os</th>\n",
       "      <th>browser</th>\n",
       "      <th>advertisedbrowser</th>\n",
       "      <th></th>\n",
       "      <th></th>\n",
       "      <th></th>\n",
       "      <th></th>\n",
       "      <th></th>\n",
       "    </tr>\n",
       "  </thead>\n",
       "  <tbody>\n",
       "    <tr>\n",
       "      <th>008lj1AMI8</th>\n",
       "      <th>google</th>\n",
       "      <th>chrome</th>\n",
       "      <th>windows</th>\n",
       "      <th>chrome desktop</th>\n",
       "      <th>Chrome</th>\n",
       "      <td>2</td>\n",
       "      <td>False</td>\n",
       "      <td>81</td>\n",
       "      <td>2</td>\n",
       "      <td>False</td>\n",
       "    </tr>\n",
       "    <tr>\n",
       "      <th>017VVGbSKq</th>\n",
       "      <th>samsung</th>\n",
       "      <th>sm-a125u</th>\n",
       "      <th>android</th>\n",
       "      <th>chrome mobile</th>\n",
       "      <th>Facebook on Android</th>\n",
       "      <td>2</td>\n",
       "      <td>True</td>\n",
       "      <td>65</td>\n",
       "      <td>2</td>\n",
       "      <td>True</td>\n",
       "    </tr>\n",
       "    <tr>\n",
       "      <th>02AntYkc0F</th>\n",
       "      <th>blu</th>\n",
       "      <th>b131dl</th>\n",
       "      <th>android</th>\n",
       "      <th>chrome mobile</th>\n",
       "      <th>Chrome Mobile</th>\n",
       "      <td>2</td>\n",
       "      <td>True</td>\n",
       "      <td>62</td>\n",
       "      <td>2</td>\n",
       "      <td>True</td>\n",
       "    </tr>\n",
       "    <tr>\n",
       "      <th>03M6awhGWm</th>\n",
       "      <th>samsung</th>\n",
       "      <th>sm-n975f</th>\n",
       "      <th>android</th>\n",
       "      <th>chrome mobile</th>\n",
       "      <th>Chrome Mobile</th>\n",
       "      <td>2</td>\n",
       "      <td>False</td>\n",
       "      <td>65</td>\n",
       "      <td>2</td>\n",
       "      <td>False</td>\n",
       "    </tr>\n",
       "    <tr>\n",
       "      <th>03gbDb0Gsc</th>\n",
       "      <th>google</th>\n",
       "      <th>chrome</th>\n",
       "      <th>windows</th>\n",
       "      <th>chrome desktop</th>\n",
       "      <th>Chrome</th>\n",
       "      <td>2</td>\n",
       "      <td>False</td>\n",
       "      <td>50</td>\n",
       "      <td>2</td>\n",
       "      <td>False</td>\n",
       "    </tr>\n",
       "  </tbody>\n",
       "</table>\n",
       "</div>"
      ],
      "text/plain": [
       "                                                                        cookies  \\\n",
       "hh_id      brand   model    os      browser        advertisedbrowser              \n",
       "008lj1AMI8 google  chrome   windows chrome desktop Chrome                     2   \n",
       "017VVGbSKq samsung sm-a125u android chrome mobile  Facebook on Android        2   \n",
       "02AntYkc0F blu     b131dl   android chrome mobile  Chrome Mobile              2   \n",
       "03M6awhGWm samsung sm-n975f android chrome mobile  Chrome Mobile              2   \n",
       "03gbDb0Gsc google  chrome   windows chrome desktop Chrome                     2   \n",
       "\n",
       "                                                                        mergeable  \\\n",
       "hh_id      brand   model    os      browser        advertisedbrowser                \n",
       "008lj1AMI8 google  chrome   windows chrome desktop Chrome                   False   \n",
       "017VVGbSKq samsung sm-a125u android chrome mobile  Facebook on Android       True   \n",
       "02AntYkc0F blu     b131dl   android chrome mobile  Chrome Mobile             True   \n",
       "03M6awhGWm samsung sm-n975f android chrome mobile  Chrome Mobile            False   \n",
       "03gbDb0Gsc google  chrome   windows chrome desktop Chrome                   False   \n",
       "\n",
       "                                                                        last_cookie_age  \\\n",
       "hh_id      brand   model    os      browser        advertisedbrowser                      \n",
       "008lj1AMI8 google  chrome   windows chrome desktop Chrome                            81   \n",
       "017VVGbSKq samsung sm-a125u android chrome mobile  Facebook on Android               65   \n",
       "02AntYkc0F blu     b131dl   android chrome mobile  Chrome Mobile                     62   \n",
       "03M6awhGWm samsung sm-n975f android chrome mobile  Chrome Mobile                     65   \n",
       "03gbDb0Gsc google  chrome   windows chrome desktop Chrome                            50   \n",
       "\n",
       "                                                                        cookies_full  \\\n",
       "hh_id      brand   model    os      browser        advertisedbrowser                   \n",
       "008lj1AMI8 google  chrome   windows chrome desktop Chrome                          2   \n",
       "017VVGbSKq samsung sm-a125u android chrome mobile  Facebook on Android             2   \n",
       "02AntYkc0F blu     b131dl   android chrome mobile  Chrome Mobile                   2   \n",
       "03M6awhGWm samsung sm-n975f android chrome mobile  Chrome Mobile                   2   \n",
       "03gbDb0Gsc google  chrome   windows chrome desktop Chrome                          2   \n",
       "\n",
       "                                                                        mergeable_full  \n",
       "hh_id      brand   model    os      browser        advertisedbrowser                    \n",
       "008lj1AMI8 google  chrome   windows chrome desktop Chrome                        False  \n",
       "017VVGbSKq samsung sm-a125u android chrome mobile  Facebook on Android            True  \n",
       "02AntYkc0F blu     b131dl   android chrome mobile  Chrome Mobile                  True  \n",
       "03M6awhGWm samsung sm-n975f android chrome mobile  Chrome Mobile                 False  \n",
       "03gbDb0Gsc google  chrome   windows chrome desktop Chrome                        False  "
      ]
     },
     "execution_count": 284,
     "metadata": {},
     "output_type": "execute_result"
    }
   ],
   "source": [
    "tested_train.head()"
   ]
  },
  {
   "cell_type": "code",
   "execution_count": 403,
   "id": "7fcef16c-f05c-4339-80bf-8db287ad8cf7",
   "metadata": {
    "execution": {
     "iopub.execute_input": "2023-03-02T13:23:05.354535Z",
     "iopub.status.busy": "2023-03-02T13:23:05.352667Z",
     "iopub.status.idle": "2023-03-02T13:23:05.433428Z",
     "shell.execute_reply": "2023-03-02T13:23:05.433015Z",
     "shell.execute_reply.started": "2023-03-02T13:23:05.354462Z"
    },
    "tags": []
   },
   "outputs": [],
   "source": [
    "accuracy_by_age = tested_train.groupby('last_cookie_age').apply(lambda x: (x.loc[(x['mergeable']==True) & (x['mergeable_full']==True)].shape[0]) / x.loc[x['mergeable']==True].shape[0])"
   ]
  },
  {
   "cell_type": "code",
   "execution_count": 416,
   "id": "0c2ac70a-c163-43ad-aebc-7f8852f61a4c",
   "metadata": {
    "execution": {
     "iopub.execute_input": "2023-03-02T13:47:51.798281Z",
     "iopub.status.busy": "2023-03-02T13:47:51.797388Z",
     "iopub.status.idle": "2023-03-02T13:47:51.840269Z",
     "shell.execute_reply": "2023-03-02T13:47:51.839664Z",
     "shell.execute_reply.started": "2023-03-02T13:47:51.798214Z"
    },
    "tags": []
   },
   "outputs": [
    {
     "name": "stdout",
     "output_type": "stream",
     "text": [
      "66\n",
      "100\n",
      "114\n",
      "96\n",
      "89\n",
      "90\n",
      "59\n",
      "95\n",
      "65\n",
      "68\n",
      "57\n",
      "70\n",
      "62\n",
      "51\n",
      "64\n",
      "61\n",
      "46\n",
      "52\n",
      "57\n",
      "48\n",
      "38\n",
      "54\n",
      "50\n",
      "46\n",
      "41\n",
      "56\n",
      "59\n",
      "45\n",
      "54\n",
      "29\n",
      "47\n",
      "45\n",
      "40\n",
      "40\n",
      "31\n",
      "40\n",
      "37\n",
      "20\n",
      "20\n",
      "20\n",
      "18\n",
      "17\n",
      "16\n",
      "21\n",
      "18\n",
      "10\n",
      "51\n",
      "69\n",
      "43\n",
      "27\n"
     ]
    }
   ],
   "source": [
    "for i in range(min(accuracy_by_age.index), max(accuracy_by_age.index)):\n",
    "    print(len(tested_train[(tested_train[\"last_cookie_age\"]==i) & (tested_train[\"mergeable\"]==True)]))"
   ]
  },
  {
   "cell_type": "code",
   "execution_count": 342,
   "id": "e7ee27b2-08e0-4019-a6dd-d1811ef6dffe",
   "metadata": {
    "execution": {
     "iopub.execute_input": "2023-03-02T12:51:56.091740Z",
     "iopub.status.busy": "2023-03-02T12:51:56.090080Z",
     "iopub.status.idle": "2023-03-02T12:51:56.122966Z",
     "shell.execute_reply": "2023-03-02T12:51:56.122489Z",
     "shell.execute_reply.started": "2023-03-02T12:51:56.091667Z"
    },
    "tags": []
   },
   "outputs": [],
   "source": [
    "from numpy.polynomial.polynomial import polyfit"
   ]
  },
  {
   "cell_type": "code",
   "execution_count": 440,
   "id": "670e46c7-9979-4c2b-828a-67424c6750ef",
   "metadata": {
    "execution": {
     "iopub.execute_input": "2023-03-02T14:27:18.191907Z",
     "iopub.status.busy": "2023-03-02T14:27:18.191068Z",
     "iopub.status.idle": "2023-03-02T14:27:18.218633Z",
     "shell.execute_reply": "2023-03-02T14:27:18.217820Z",
     "shell.execute_reply.started": "2023-03-02T14:27:18.191862Z"
    },
    "tags": []
   },
   "outputs": [],
   "source": [
    "x = np.array(accuracy_by_age.index)\n",
    "y = np.array(accuracy_by_age)\n",
    "\n",
    "b, m = polyfit(x=accuracy_by_age.index, y=accuracy_by_age, deg=1)\n",
    "coeffs = polyfit(x, y, deg=2)"
   ]
  },
  {
   "cell_type": "code",
   "execution_count": 441,
   "id": "f941da29-6250-425a-9277-0317207d5419",
   "metadata": {
    "execution": {
     "iopub.execute_input": "2023-03-02T14:27:18.539622Z",
     "iopub.status.busy": "2023-03-02T14:27:18.538938Z",
     "iopub.status.idle": "2023-03-02T14:27:18.573294Z",
     "shell.execute_reply": "2023-03-02T14:27:18.572624Z",
     "shell.execute_reply.started": "2023-03-02T14:27:18.539589Z"
    },
    "tags": []
   },
   "outputs": [
    {
     "data": {
      "text/plain": [
       "array([ 1.44852081e-01,  1.87593300e-02, -1.20146318e-04])"
      ]
     },
     "execution_count": 441,
     "metadata": {},
     "output_type": "execute_result"
    }
   ],
   "source": [
    "coeffs"
   ]
  },
  {
   "cell_type": "code",
   "execution_count": 443,
   "id": "bd121df0-9aff-4382-a2d5-77494e7d2ec0",
   "metadata": {
    "execution": {
     "iopub.execute_input": "2023-03-02T14:27:26.713001Z",
     "iopub.status.busy": "2023-03-02T14:27:26.712273Z",
     "iopub.status.idle": "2023-03-02T14:27:26.896821Z",
     "shell.execute_reply": "2023-03-02T14:27:26.896401Z",
     "shell.execute_reply.started": "2023-03-02T14:27:26.712937Z"
    },
    "tags": []
   },
   "outputs": [
    {
     "data": {
      "image/png": "[encoded data removed]",
      "text/plain": [
       "<Figure size 1200x500 with 1 Axes>"
      ]
     },
     "metadata": {},
     "output_type": "display_data"
    }
   ],
   "source": [
    "# plt.plot(accuracy_by_age, 'o-')\n",
    "plt.plot(x, y, 'o', label='Accuracy')\n",
    "plt.plot(x, coeffs[0] + coeffs[1] * x + coeffs[2] * x**2, '-', label='Regression Line')\n",
    "# plt.plot(accuracy_by_age.index, b + m * accuracy_by_age.index, '-', label='Regression Line')\n",
    "plt.xlim(accuracy_by_age.index.max()+1, accuracy_by_age.index.min()-1)\n",
    "plt.xlabel('Last Cookie Age')\n",
    "plt.ylabel('Accuracy')\n",
    "plt.title('Accuracy vs Last Cookie Age')\n",
    "plt.legend()\n",
    "plt.tight_layout()\n",
    "plt.show()"
   ]
  },
  {
   "cell_type": "code",
   "execution_count": 124,
   "id": "96497b7c-cce0-40f9-9eda-f34e43860757",
   "metadata": {
    "execution": {
     "iopub.execute_input": "2023-03-02T08:17:40.510145Z",
     "iopub.status.busy": "2023-03-02T08:17:40.509591Z",
     "iopub.status.idle": "2023-03-02T08:17:40.551402Z",
     "shell.execute_reply": "2023-03-02T08:17:40.550791Z",
     "shell.execute_reply.started": "2023-03-02T08:17:40.510094Z"
    }
   },
   "outputs": [
    {
     "name": "stdout",
     "output_type": "stream",
     "text": [
      "How many merges didn't get ruined\n",
      "93.3%\n"
     ]
    }
   ],
   "source": [
    "print(\"How many merges didn't get ruined\")\n",
    "print('{:.1%}'.format((tested_train[\"mergeable\"]==tested_train[\"mergeable_full\"]).sum()/len(tested_train)))"
   ]
  },
  {
   "cell_type": "code",
   "execution_count": 123,
   "id": "a0172a6b-e24f-477c-9a2c-dee4cb0dec97",
   "metadata": {
    "execution": {
     "iopub.execute_input": "2023-03-02T08:16:31.840194Z",
     "iopub.status.busy": "2023-03-02T08:16:31.838614Z",
     "iopub.status.idle": "2023-03-02T08:16:31.927824Z",
     "shell.execute_reply": "2023-03-02T08:16:31.927053Z",
     "shell.execute_reply.started": "2023-03-02T08:16:31.840141Z"
    },
    "tags": []
   },
   "outputs": [
    {
     "name": "stdout",
     "output_type": "stream",
     "text": [
      "How many didn't change at all\n",
      "74.7%\n"
     ]
    }
   ],
   "source": [
    "print(\"How many didn't change at all\")\n",
    "print('{:.1%}'.format((tested_train[\"cookies\"]==tested_train[\"cookies_full\"]).sum()/len(tested_train)))"
   ]
  },
  {
   "cell_type": "code",
   "execution_count": 128,
   "id": "087c8851-c593-4c59-844a-9af1e8c3770c",
   "metadata": {
    "execution": {
     "iopub.execute_input": "2023-03-02T08:24:30.055695Z",
     "iopub.status.busy": "2023-03-02T08:24:30.054975Z",
     "iopub.status.idle": "2023-03-02T08:24:30.088449Z",
     "shell.execute_reply": "2023-03-02T08:24:30.088053Z",
     "shell.execute_reply.started": "2023-03-02T08:24:30.055643Z"
    },
    "tags": []
   },
   "outputs": [
    {
     "name": "stdout",
     "output_type": "stream",
     "text": [
      "From those who changed, how many merges didn't get ruined\n",
      "88.3%\n"
     ]
    }
   ],
   "source": [
    "print(\"From those who changed, how many merges didn't get ruined\")\n",
    "changed_total = tested_train[tested_train[\"cookies\"]!=tested_train[\"cookies_full\"]]\n",
    "changed_but_still_ok = changed_total[changed_total[\"mergeable\"]==changed_total[\"mergeable_full\"]]\n",
    "\n",
    "print('{:.1%}'.format(len(changed_but_still_ok)/len(changed_total)))"
   ]
  },
  {
   "cell_type": "markdown",
   "id": "51bed24a-e511-4076-b9cc-f675217cca80",
   "metadata": {
    "execution": {
     "iopub.execute_input": "2023-03-02T08:51:07.283757Z",
     "iopub.status.busy": "2023-03-02T08:51:07.282920Z",
     "iopub.status.idle": "2023-03-02T08:51:07.318372Z",
     "shell.execute_reply": "2023-03-02T08:51:07.317982Z",
     "shell.execute_reply.started": "2023-03-02T08:51:07.283680Z"
    },
    "tags": []
   },
   "source": [
    "### Now for every broswer"
   ]
  },
  {
   "cell_type": "code",
   "execution_count": 284,
   "id": "dd463403-b7bd-4e2d-901c-19917ff8707f",
   "metadata": {
    "execution": {
     "iopub.execute_input": "2023-03-02T12:08:50.928247Z",
     "iopub.status.busy": "2023-03-02T12:08:50.927275Z",
     "iopub.status.idle": "2023-03-02T12:08:50.987215Z",
     "shell.execute_reply": "2023-03-02T12:08:50.986687Z",
     "shell.execute_reply.started": "2023-03-02T12:08:50.928156Z"
    },
    "tags": []
   },
   "outputs": [
    {
     "data": {
      "text/html": [
       "<div>\n",
       "<style scoped>\n",
       "    .dataframe tbody tr th:only-of-type {\n",
       "        vertical-align: middle;\n",
       "    }\n",
       "\n",
       "    .dataframe tbody tr th {\n",
       "        vertical-align: top;\n",
       "    }\n",
       "\n",
       "    .dataframe thead th {\n",
       "        text-align: right;\n",
       "    }\n",
       "</style>\n",
       "<table border=\"1\" class=\"dataframe\">\n",
       "  <thead>\n",
       "    <tr style=\"text-align: right;\">\n",
       "      <th></th>\n",
       "      <th></th>\n",
       "      <th></th>\n",
       "      <th></th>\n",
       "      <th></th>\n",
       "      <th></th>\n",
       "      <th>cookies</th>\n",
       "      <th>mergeable</th>\n",
       "      <th>last_cookie_age</th>\n",
       "      <th>cookies_full</th>\n",
       "      <th>mergeable_full</th>\n",
       "    </tr>\n",
       "    <tr>\n",
       "      <th>hh_id</th>\n",
       "      <th>brand</th>\n",
       "      <th>model</th>\n",
       "      <th>os</th>\n",
       "      <th>browser</th>\n",
       "      <th>advertisedbrowser</th>\n",
       "      <th></th>\n",
       "      <th></th>\n",
       "      <th></th>\n",
       "      <th></th>\n",
       "      <th></th>\n",
       "    </tr>\n",
       "  </thead>\n",
       "  <tbody>\n",
       "    <tr>\n",
       "      <th>008lj1AMI8</th>\n",
       "      <th>google</th>\n",
       "      <th>chrome</th>\n",
       "      <th>windows</th>\n",
       "      <th>chrome desktop</th>\n",
       "      <th>Chrome</th>\n",
       "      <td>2</td>\n",
       "      <td>False</td>\n",
       "      <td>81</td>\n",
       "      <td>2</td>\n",
       "      <td>False</td>\n",
       "    </tr>\n",
       "    <tr>\n",
       "      <th>017VVGbSKq</th>\n",
       "      <th>samsung</th>\n",
       "      <th>sm-a125u</th>\n",
       "      <th>android</th>\n",
       "      <th>chrome mobile</th>\n",
       "      <th>Facebook on Android</th>\n",
       "      <td>2</td>\n",
       "      <td>True</td>\n",
       "      <td>65</td>\n",
       "      <td>2</td>\n",
       "      <td>True</td>\n",
       "    </tr>\n",
       "    <tr>\n",
       "      <th>02AntYkc0F</th>\n",
       "      <th>blu</th>\n",
       "      <th>b131dl</th>\n",
       "      <th>android</th>\n",
       "      <th>chrome mobile</th>\n",
       "      <th>Chrome Mobile</th>\n",
       "      <td>2</td>\n",
       "      <td>True</td>\n",
       "      <td>62</td>\n",
       "      <td>2</td>\n",
       "      <td>True</td>\n",
       "    </tr>\n",
       "    <tr>\n",
       "      <th>03M6awhGWm</th>\n",
       "      <th>samsung</th>\n",
       "      <th>sm-n975f</th>\n",
       "      <th>android</th>\n",
       "      <th>chrome mobile</th>\n",
       "      <th>Chrome Mobile</th>\n",
       "      <td>2</td>\n",
       "      <td>False</td>\n",
       "      <td>65</td>\n",
       "      <td>2</td>\n",
       "      <td>False</td>\n",
       "    </tr>\n",
       "    <tr>\n",
       "      <th>03gbDb0Gsc</th>\n",
       "      <th>google</th>\n",
       "      <th>chrome</th>\n",
       "      <th>windows</th>\n",
       "      <th>chrome desktop</th>\n",
       "      <th>Chrome</th>\n",
       "      <td>2</td>\n",
       "      <td>False</td>\n",
       "      <td>50</td>\n",
       "      <td>2</td>\n",
       "      <td>False</td>\n",
       "    </tr>\n",
       "  </tbody>\n",
       "</table>\n",
       "</div>"
      ],
      "text/plain": [
       "                                                                        cookies  \\\n",
       "hh_id      brand   model    os      browser        advertisedbrowser              \n",
       "008lj1AMI8 google  chrome   windows chrome desktop Chrome                     2   \n",
       "017VVGbSKq samsung sm-a125u android chrome mobile  Facebook on Android        2   \n",
       "02AntYkc0F blu     b131dl   android chrome mobile  Chrome Mobile              2   \n",
       "03M6awhGWm samsung sm-n975f android chrome mobile  Chrome Mobile              2   \n",
       "03gbDb0Gsc google  chrome   windows chrome desktop Chrome                     2   \n",
       "\n",
       "                                                                        mergeable  \\\n",
       "hh_id      brand   model    os      browser        advertisedbrowser                \n",
       "008lj1AMI8 google  chrome   windows chrome desktop Chrome                   False   \n",
       "017VVGbSKq samsung sm-a125u android chrome mobile  Facebook on Android       True   \n",
       "02AntYkc0F blu     b131dl   android chrome mobile  Chrome Mobile             True   \n",
       "03M6awhGWm samsung sm-n975f android chrome mobile  Chrome Mobile            False   \n",
       "03gbDb0Gsc google  chrome   windows chrome desktop Chrome                   False   \n",
       "\n",
       "                                                                        last_cookie_age  \\\n",
       "hh_id      brand   model    os      browser        advertisedbrowser                      \n",
       "008lj1AMI8 google  chrome   windows chrome desktop Chrome                            81   \n",
       "017VVGbSKq samsung sm-a125u android chrome mobile  Facebook on Android               65   \n",
       "02AntYkc0F blu     b131dl   android chrome mobile  Chrome Mobile                     62   \n",
       "03M6awhGWm samsung sm-n975f android chrome mobile  Chrome Mobile                     65   \n",
       "03gbDb0Gsc google  chrome   windows chrome desktop Chrome                            50   \n",
       "\n",
       "                                                                        cookies_full  \\\n",
       "hh_id      brand   model    os      browser        advertisedbrowser                   \n",
       "008lj1AMI8 google  chrome   windows chrome desktop Chrome                          2   \n",
       "017VVGbSKq samsung sm-a125u android chrome mobile  Facebook on Android             2   \n",
       "02AntYkc0F blu     b131dl   android chrome mobile  Chrome Mobile                   2   \n",
       "03M6awhGWm samsung sm-n975f android chrome mobile  Chrome Mobile                   2   \n",
       "03gbDb0Gsc google  chrome   windows chrome desktop Chrome                          2   \n",
       "\n",
       "                                                                        mergeable_full  \n",
       "hh_id      brand   model    os      browser        advertisedbrowser                    \n",
       "008lj1AMI8 google  chrome   windows chrome desktop Chrome                        False  \n",
       "017VVGbSKq samsung sm-a125u android chrome mobile  Facebook on Android            True  \n",
       "02AntYkc0F blu     b131dl   android chrome mobile  Chrome Mobile                  True  \n",
       "03M6awhGWm samsung sm-n975f android chrome mobile  Chrome Mobile                 False  \n",
       "03gbDb0Gsc google  chrome   windows chrome desktop Chrome                        False  "
      ]
     },
     "execution_count": 284,
     "metadata": {},
     "output_type": "execute_result"
    }
   ],
   "source": [
    "tested_train.head()"
   ]
  },
  {
   "cell_type": "code",
   "execution_count": 392,
   "id": "97654b07-3a2b-4b10-9a85-e382b309ac44",
   "metadata": {
    "execution": {
     "iopub.execute_input": "2023-03-02T13:12:07.121202Z",
     "iopub.status.busy": "2023-03-02T13:12:07.119369Z",
     "iopub.status.idle": "2023-03-02T13:12:07.153335Z",
     "shell.execute_reply": "2023-03-02T13:12:07.152759Z",
     "shell.execute_reply.started": "2023-03-02T13:12:07.121114Z"
    },
    "tags": []
   },
   "outputs": [],
   "source": [
    "b = \"chrome mobile\""
   ]
  },
  {
   "cell_type": "code",
   "execution_count": 398,
   "id": "a08d5510-973b-46dc-98d4-65a67a7cb158",
   "metadata": {
    "execution": {
     "iopub.execute_input": "2023-03-02T13:13:52.399769Z",
     "iopub.status.busy": "2023-03-02T13:13:52.398006Z",
     "iopub.status.idle": "2023-03-02T13:13:52.469269Z",
     "shell.execute_reply": "2023-03-02T13:13:52.468811Z",
     "shell.execute_reply.started": "2023-03-02T13:13:52.399698Z"
    },
    "tags": []
   },
   "outputs": [],
   "source": [
    "tested_train_by_browser = tested_train.reset_index()[tested_train.reset_index()[\"browser\"]==b]"
   ]
  },
  {
   "cell_type": "code",
   "execution_count": 399,
   "id": "155c4abe-c929-4257-ade2-3bbc5205de62",
   "metadata": {
    "execution": {
     "iopub.execute_input": "2023-03-02T13:14:36.270319Z",
     "iopub.status.busy": "2023-03-02T13:14:36.268408Z",
     "iopub.status.idle": "2023-03-02T13:14:36.344893Z",
     "shell.execute_reply": "2023-03-02T13:14:36.344506Z",
     "shell.execute_reply.started": "2023-03-02T13:14:36.270247Z"
    },
    "tags": []
   },
   "outputs": [],
   "source": [
    "accuracy_by_age_by_browser = tested_train_by_browser.groupby('last_cookie_age').apply(lambda x: (x.loc[x['mergeable'] == x['mergeable_full']].shape[0]) / x.shape[0])"
   ]
  },
  {
   "cell_type": "code",
   "execution_count": 400,
   "id": "de9d5db1-3962-4fb8-81f4-ece76f0ddbbf",
   "metadata": {
    "execution": {
     "iopub.execute_input": "2023-03-02T13:14:50.858062Z",
     "iopub.status.busy": "2023-03-02T13:14:50.857363Z",
     "iopub.status.idle": "2023-03-02T13:14:50.895897Z",
     "shell.execute_reply": "2023-03-02T13:14:50.895431Z",
     "shell.execute_reply.started": "2023-03-02T13:14:50.857999Z"
    },
    "tags": []
   },
   "outputs": [],
   "source": [
    "b, m = polyfit(x=accuracy_by_age_by_browser.index, y=accuracy_by_age_by_browser, deg=1)"
   ]
  },
  {
   "cell_type": "code",
   "execution_count": 401,
   "id": "bd4b24ce-8ece-4854-9ef8-2738103dfbf2",
   "metadata": {
    "execution": {
     "iopub.execute_input": "2023-03-02T13:15:04.076595Z",
     "iopub.status.busy": "2023-03-02T13:15:04.074763Z",
     "iopub.status.idle": "2023-03-02T13:15:04.275618Z",
     "shell.execute_reply": "2023-03-02T13:15:04.275282Z",
     "shell.execute_reply.started": "2023-03-02T13:15:04.076529Z"
    },
    "tags": []
   },
   "outputs": [
    {
     "data": {
      "image/png": "[encoded data removed]",
      "text/plain": [
       "<Figure size 1200x500 with 1 Axes>"
      ]
     },
     "metadata": {},
     "output_type": "display_data"
    }
   ],
   "source": [
    "# plt.plot(accuracy_by_age, 'o-')\n",
    "plt.plot(accuracy_by_age_by_browser.index, accuracy_by_age_by_browser, 'o')\n",
    "plt.plot(accuracy_by_age_by_browser.index, b + m * accuracy_by_age_by_browser.index, '-')\n",
    "plt.xlim(accuracy_by_age_by_browser.index.max()+1, accuracy_by_age_by_browser.index.min()-1)\n",
    "plt.xlabel('Last Cookie Age')\n",
    "plt.ylabel('Accuracy')\n",
    "plt.title('Accuracy vs Last Cookie Age')\n",
    "plt.tight_layout()\n",
    "plt.show()"
   ]
  },
  {
   "cell_type": "code",
   "execution_count": 472,
   "id": "b282e380-ba84-4fba-8e2c-d8e897b66039",
   "metadata": {
    "execution": {
     "iopub.execute_input": "2023-03-02T14:48:41.344957Z",
     "iopub.status.busy": "2023-03-02T14:48:41.343988Z",
     "iopub.status.idle": "2023-03-02T14:48:41.377360Z",
     "shell.execute_reply": "2023-03-02T14:48:41.376987Z",
     "shell.execute_reply.started": "2023-03-02T14:48:41.344903Z"
    },
    "tags": []
   },
   "outputs": [
    {
     "data": {
      "text/plain": [
       "2067"
      ]
     },
     "execution_count": 472,
     "metadata": {},
     "output_type": "execute_result"
    }
   ],
   "source": []
  },
  {
   "cell_type": "code",
   "execution_count": 475,
   "id": "50d7f4da-0a6b-4eb6-afc5-4b47643f11c6",
   "metadata": {
    "execution": {
     "iopub.execute_input": "2023-03-02T14:51:03.207542Z",
     "iopub.status.busy": "2023-03-02T14:51:03.206369Z",
     "iopub.status.idle": "2023-03-02T14:51:04.101602Z",
     "shell.execute_reply": "2023-03-02T14:51:04.101282Z",
     "shell.execute_reply.started": "2023-03-02T14:51:03.207413Z"
    },
    "tags": []
   },
   "outputs": [
    {
     "data": {
      "image/png": "[encoded data removed]",
      "text/plain": [
       "<Figure size 1200x1600 with 8 Axes>"
      ]
     },
     "metadata": {},
     "output_type": "display_data"
    }
   ],
   "source": [
    "fig, axs = plt.subplots(nrows = 4, ncols=2)\n",
    "fig.set_figheight(16)\n",
    "fig.set_figwidth(12)\n",
    "plt.subplots_adjust(hspace=0.5)\n",
    "fig.suptitle(f\"Merge Accuracy vs Last Cookie's Age\\n\\n{maid_chosen}\")\n",
    "\n",
    "top_browsers = tested_train.reset_index().browser.value_counts()[:8].index\n",
    "\n",
    "for i, b in enumerate(top_browsers):\n",
    "    ax = axs.flatten()[i]\n",
    "    \n",
    "    tested_train_by_browser = tested_train.reset_index()[tested_train.reset_index()[\"browser\"]==b]\n",
    "    accuracy_by_age_by_browser = tested_train_by_browser.groupby('last_cookie_age').apply(lambda x: (x.loc[x['mergeable'] == x['mergeable_full']].shape[0]) / x.shape[0])\n",
    "    total_count_for_browser = tested_train.reset_index().browser.value_counts().loc[b]\n",
    "    \n",
    "    x = np.array(accuracy_by_age_by_browser.index)\n",
    "    y = np.array(accuracy_by_age_by_browser)\n",
    "    coeffs = polyfit(x, y, deg=1)\n",
    "    ax.plot(x, y, 'o', label='Accuracy')\n",
    "    # ax.plot(x, coeffs[0] + coeffs[1] * x + coeffs[2] * x**2, '-', label='Regression Line')\n",
    "    ax.plot(x, coeffs[0] + coeffs[1] * x, '-', label='Regression Line')\n",
    "    \n",
    "    ax.title.set_text(f\"{b} : total : {total_count_for_browser}\")\n",
    "    ax.set_xlim(accuracy_by_age.index.max()+1, accuracy_by_age.index.min()-1)\n",
    "    ax.set_xlabel('Last Cookie Age')\n",
    "    ax.set_ylabel('Accuracy')\n",
    "    # ax.set_title('Accuracy vs Last Cookie Age')\n",
    "    handles, labels = ax.get_legend_handles_labels()\n",
    "    fig.legend(handles, labels, loc='upper center', fontsize='medium', bbox_to_anchor=(0.5, 0.05))    "
   ]
  },
  {
   "cell_type": "markdown",
   "id": "b9c4841a-d138-481b-bc42-fc1ef67c0eb0",
   "metadata": {},
   "source": [
    "## Scale up the data - 100K"
   ]
  },
  {
   "cell_type": "code",
   "execution_count": 7,
   "id": "a6f154cf-831a-41b4-8429-9c820f11f186",
   "metadata": {
    "execution": {
     "iopub.execute_input": "2023-03-07T07:34:06.239565Z",
     "iopub.status.busy": "2023-03-07T07:34:06.238697Z",
     "iopub.status.idle": "2023-03-07T07:34:06.271688Z",
     "shell.execute_reply": "2023-03-07T07:34:06.271164Z",
     "shell.execute_reply.started": "2023-03-07T07:34:06.239504Z"
    },
    "tags": []
   },
   "outputs": [],
   "source": [
    "import gc"
   ]
  },
  {
   "cell_type": "code",
   "execution_count": 21,
   "id": "839b2a01-9d40-4d06-a075-749f9f99b332",
   "metadata": {
    "execution": {
     "iopub.execute_input": "2023-03-07T07:39:19.603708Z",
     "iopub.status.busy": "2023-03-07T07:39:19.603021Z",
     "iopub.status.idle": "2023-03-07T07:39:19.760960Z",
     "shell.execute_reply": "2023-03-07T07:39:19.760628Z",
     "shell.execute_reply.started": "2023-03-07T07:39:19.603649Z"
    },
    "tags": []
   },
   "outputs": [
    {
     "data": {
      "text/plain": [
       "1288"
      ]
     },
     "execution_count": 21,
     "metadata": {},
     "output_type": "execute_result"
    }
   ],
   "source": [
    "gc.collect()"
   ]
  },
  {
   "cell_type": "code",
   "execution_count": 9,
   "id": "d97d4947-a93c-45d2-a975-4e359d0024ee",
   "metadata": {
    "execution": {
     "iopub.execute_input": "2023-03-07T07:34:15.650978Z",
     "iopub.status.busy": "2023-03-07T07:34:15.650078Z",
     "iopub.status.idle": "2023-03-07T07:35:01.903418Z",
     "shell.execute_reply": "2023-03-07T07:35:01.900986Z",
     "shell.execute_reply.started": "2023-03-07T07:34:15.650909Z"
    },
    "tags": []
   },
   "outputs": [],
   "source": [
    "data = pd.read_csv('../Data/100KHH7.csv')"
   ]
  },
  {
   "cell_type": "code",
   "execution_count": 30,
   "id": "7d75830f-26a3-4b54-8221-89d799a7cf8a",
   "metadata": {
    "execution": {
     "iopub.execute_input": "2023-03-07T07:44:59.783078Z",
     "iopub.status.busy": "2023-03-07T07:44:59.782589Z",
     "iopub.status.idle": "2023-03-07T07:44:59.828262Z",
     "shell.execute_reply": "2023-03-07T07:44:59.827923Z",
     "shell.execute_reply.started": "2023-03-07T07:44:59.783019Z"
    },
    "tags": []
   },
   "outputs": [
    {
     "data": {
      "text/html": [
       "<div>\n",
       "<style scoped>\n",
       "    .dataframe tbody tr th:only-of-type {\n",
       "        vertical-align: middle;\n",
       "    }\n",
       "\n",
       "    .dataframe tbody tr th {\n",
       "        vertical-align: top;\n",
       "    }\n",
       "\n",
       "    .dataframe thead th {\n",
       "        text-align: right;\n",
       "    }\n",
       "</style>\n",
       "<table border=\"1\" class=\"dataframe\">\n",
       "  <thead>\n",
       "    <tr style=\"text-align: right;\">\n",
       "      <th></th>\n",
       "      <th>timestamp</th>\n",
       "      <th>filename</th>\n",
       "      <th>maid</th>\n",
       "      <th>hh_id</th>\n",
       "      <th>iiqid</th>\n",
       "      <th>partner_id</th>\n",
       "      <th>ip</th>\n",
       "      <th>iscellip</th>\n",
       "      <th>cellispid</th>\n",
       "      <th>domain</th>\n",
       "      <th>...</th>\n",
       "      <th>brand</th>\n",
       "      <th>model</th>\n",
       "      <th>os</th>\n",
       "      <th>osversion</th>\n",
       "      <th>browser</th>\n",
       "      <th>advertisedbrowser</th>\n",
       "      <th>browserversion</th>\n",
       "      <th>type</th>\n",
       "      <th>is_best_ip</th>\n",
       "      <th>time</th>\n",
       "    </tr>\n",
       "  </thead>\n",
       "  <tbody>\n",
       "    <tr>\n",
       "      <th>0</th>\n",
       "      <td>1671485334960</td>\n",
       "      <td>HH_M</td>\n",
       "      <td>7</td>\n",
       "      <td>0rbVVSZ9hT</td>\n",
       "      <td>ypsxOpa2dh</td>\n",
       "      <td>15317</td>\n",
       "      <td>1813854856</td>\n",
       "      <td>False</td>\n",
       "      <td>1256337485</td>\n",
       "      <td>1468002127</td>\n",
       "      <td>...</td>\n",
       "      <td>microsoft</td>\n",
       "      <td>edge</td>\n",
       "      <td>windows</td>\n",
       "      <td>10</td>\n",
       "      <td>edge</td>\n",
       "      <td>Edge</td>\n",
       "      <td>108.0.1462.54</td>\n",
       "      <td>desktop</td>\n",
       "      <td>False</td>\n",
       "      <td>2022-12-19 21:28:54.960</td>\n",
       "    </tr>\n",
       "    <tr>\n",
       "      <th>1</th>\n",
       "      <td>1671485333183</td>\n",
       "      <td>HH_M</td>\n",
       "      <td>7</td>\n",
       "      <td>0rbVVSZ9hT</td>\n",
       "      <td>ypsxOpa2dh</td>\n",
       "      <td>15106</td>\n",
       "      <td>1813854856</td>\n",
       "      <td>False</td>\n",
       "      <td>1256337485</td>\n",
       "      <td>1468002127</td>\n",
       "      <td>...</td>\n",
       "      <td>microsoft</td>\n",
       "      <td>edge</td>\n",
       "      <td>windows</td>\n",
       "      <td>10</td>\n",
       "      <td>edge</td>\n",
       "      <td>Edge</td>\n",
       "      <td>108.0.1462.54</td>\n",
       "      <td>desktop</td>\n",
       "      <td>False</td>\n",
       "      <td>2022-12-19 21:28:53.183</td>\n",
       "    </tr>\n",
       "    <tr>\n",
       "      <th>2</th>\n",
       "      <td>1674180419682</td>\n",
       "      <td>HH_M</td>\n",
       "      <td>7</td>\n",
       "      <td>0dY6RH1DOS</td>\n",
       "      <td>dkfC5h1G2p</td>\n",
       "      <td>15019</td>\n",
       "      <td>2487401185</td>\n",
       "      <td>False</td>\n",
       "      <td>-1841348430</td>\n",
       "      <td>20133086</td>\n",
       "      <td>...</td>\n",
       "      <td>mozilla</td>\n",
       "      <td>firefox</td>\n",
       "      <td>windows</td>\n",
       "      <td>10</td>\n",
       "      <td>firefox desktop</td>\n",
       "      <td>Firefox</td>\n",
       "      <td>108.0</td>\n",
       "      <td>desktop</td>\n",
       "      <td>False</td>\n",
       "      <td>2023-01-20 02:06:59.682</td>\n",
       "    </tr>\n",
       "    <tr>\n",
       "      <th>3</th>\n",
       "      <td>1674180419440</td>\n",
       "      <td>HH_M</td>\n",
       "      <td>7</td>\n",
       "      <td>0dY6RH1DOS</td>\n",
       "      <td>dkfC5h1G2p</td>\n",
       "      <td>15019</td>\n",
       "      <td>2487401185</td>\n",
       "      <td>False</td>\n",
       "      <td>-1841348430</td>\n",
       "      <td>-91937866</td>\n",
       "      <td>...</td>\n",
       "      <td>mozilla</td>\n",
       "      <td>firefox</td>\n",
       "      <td>windows</td>\n",
       "      <td>10</td>\n",
       "      <td>firefox desktop</td>\n",
       "      <td>Firefox</td>\n",
       "      <td>108.0</td>\n",
       "      <td>desktop</td>\n",
       "      <td>False</td>\n",
       "      <td>2023-01-20 02:06:59.440</td>\n",
       "    </tr>\n",
       "    <tr>\n",
       "      <th>4</th>\n",
       "      <td>1674093351017</td>\n",
       "      <td>HH_M</td>\n",
       "      <td>7</td>\n",
       "      <td>0dY6RH1DOS</td>\n",
       "      <td>dkfC5h1G2p</td>\n",
       "      <td>15127</td>\n",
       "      <td>2487401185</td>\n",
       "      <td>False</td>\n",
       "      <td>-1841348430</td>\n",
       "      <td>-91937866</td>\n",
       "      <td>...</td>\n",
       "      <td>mozilla</td>\n",
       "      <td>firefox</td>\n",
       "      <td>windows</td>\n",
       "      <td>10</td>\n",
       "      <td>firefox desktop</td>\n",
       "      <td>Firefox</td>\n",
       "      <td>108.0</td>\n",
       "      <td>desktop</td>\n",
       "      <td>False</td>\n",
       "      <td>2023-01-19 01:55:51.017</td>\n",
       "    </tr>\n",
       "  </tbody>\n",
       "</table>\n",
       "<p>5 rows × 21 columns</p>\n",
       "</div>"
      ],
      "text/plain": [
       "       timestamp filename  maid       hh_id       iiqid  partner_id  \\\n",
       "0  1671485334960     HH_M     7  0rbVVSZ9hT  ypsxOpa2dh       15317   \n",
       "1  1671485333183     HH_M     7  0rbVVSZ9hT  ypsxOpa2dh       15106   \n",
       "2  1674180419682     HH_M     7  0dY6RH1DOS  dkfC5h1G2p       15019   \n",
       "3  1674180419440     HH_M     7  0dY6RH1DOS  dkfC5h1G2p       15019   \n",
       "4  1674093351017     HH_M     7  0dY6RH1DOS  dkfC5h1G2p       15127   \n",
       "\n",
       "           ip  iscellip   cellispid      domain  ...      brand    model  \\\n",
       "0  1813854856     False  1256337485  1468002127  ...  microsoft     edge   \n",
       "1  1813854856     False  1256337485  1468002127  ...  microsoft     edge   \n",
       "2  2487401185     False -1841348430    20133086  ...    mozilla  firefox   \n",
       "3  2487401185     False -1841348430   -91937866  ...    mozilla  firefox   \n",
       "4  2487401185     False -1841348430   -91937866  ...    mozilla  firefox   \n",
       "\n",
       "        os osversion          browser advertisedbrowser browserversion  \\\n",
       "0  windows        10             edge              Edge  108.0.1462.54   \n",
       "1  windows        10             edge              Edge  108.0.1462.54   \n",
       "2  windows        10  firefox desktop           Firefox          108.0   \n",
       "3  windows        10  firefox desktop           Firefox          108.0   \n",
       "4  windows        10  firefox desktop           Firefox          108.0   \n",
       "\n",
       "      type is_best_ip                    time  \n",
       "0  desktop      False 2022-12-19 21:28:54.960  \n",
       "1  desktop      False 2022-12-19 21:28:53.183  \n",
       "2  desktop      False 2023-01-20 02:06:59.682  \n",
       "3  desktop      False 2023-01-20 02:06:59.440  \n",
       "4  desktop      False 2023-01-19 01:55:51.017  \n",
       "\n",
       "[5 rows x 21 columns]"
      ]
     },
     "execution_count": 30,
     "metadata": {},
     "output_type": "execute_result"
    }
   ],
   "source": [
    "data.head()"
   ]
  },
  {
   "cell_type": "code",
   "execution_count": 33,
   "id": "b2614b7d-8dff-4d23-b069-827c6b4686b1",
   "metadata": {
    "execution": {
     "iopub.execute_input": "2023-03-07T07:45:49.709969Z",
     "iopub.status.busy": "2023-03-07T07:45:49.709337Z",
     "iopub.status.idle": "2023-03-07T07:45:49.738480Z",
     "shell.execute_reply": "2023-03-07T07:45:49.738098Z",
     "shell.execute_reply.started": "2023-03-07T07:45:49.709950Z"
    },
    "tags": []
   },
   "outputs": [
    {
     "name": "stdout",
     "output_type": "stream",
     "text": [
      "<class 'pandas.core.frame.DataFrame'>\n",
      "Int64Index: 36528704 entries, 0 to 36644572\n",
      "Data columns (total 21 columns):\n",
      " #   Column                    Dtype         \n",
      "---  ------                    -----         \n",
      " 0   timestamp                 int64         \n",
      " 1   filename                  object        \n",
      " 2   maid                      int64         \n",
      " 3   hh_id                     object        \n",
      " 4   iiqid                     object        \n",
      " 5   partner_id                int64         \n",
      " 6   ip                        int64         \n",
      " 7   iscellip                  bool          \n",
      " 8   cellispid                 int64         \n",
      " 9   domain                    int64         \n",
      " 10  is_house_ip_or_source_ip  bool          \n",
      " 11  brand                     object        \n",
      " 12  model                     object        \n",
      " 13  os                        object        \n",
      " 14  osversion                 object        \n",
      " 15  browser                   object        \n",
      " 16  advertisedbrowser         object        \n",
      " 17  browserversion            object        \n",
      " 18  type                      object        \n",
      " 19  is_best_ip                bool          \n",
      " 20  time                      datetime64[ns]\n",
      "dtypes: bool(3), datetime64[ns](1), int64(6), object(11)\n",
      "memory usage: 5.3+ GB\n"
     ]
    }
   ],
   "source": [
    "data.info()"
   ]
  },
  {
   "cell_type": "code",
   "execution_count": 29,
   "id": "275098f4-6cc3-496d-a87b-25d725f69748",
   "metadata": {
    "execution": {
     "iopub.execute_input": "2023-03-07T07:44:56.090336Z",
     "iopub.status.busy": "2023-03-07T07:44:56.089462Z",
     "iopub.status.idle": "2023-03-07T07:44:56.555682Z",
     "shell.execute_reply": "2023-03-07T07:44:56.555155Z",
     "shell.execute_reply.started": "2023-03-07T07:44:56.090274Z"
    },
    "tags": []
   },
   "outputs": [],
   "source": [
    "data['time'] = pd.to_datetime(data['timestamp'], unit='ms')"
   ]
  },
  {
   "cell_type": "code",
   "execution_count": 32,
   "id": "26dc836a-0c19-4d86-bb5d-98c540f35930",
   "metadata": {
    "execution": {
     "iopub.execute_input": "2023-03-07T07:45:14.210772Z",
     "iopub.status.busy": "2023-03-07T07:45:14.209859Z",
     "iopub.status.idle": "2023-03-07T07:45:49.706182Z",
     "shell.execute_reply": "2023-03-07T07:45:49.704971Z",
     "shell.execute_reply.started": "2023-03-07T07:45:14.210706Z"
    },
    "tags": []
   },
   "outputs": [],
   "source": [
    "data.dropna(inplace=True)"
   ]
  },
  {
   "cell_type": "code",
   "execution_count": 23,
   "id": "55db2d34-1440-438b-8d6d-2b80f1b80935",
   "metadata": {
    "execution": {
     "iopub.execute_input": "2023-03-07T07:41:13.226344Z",
     "iopub.status.busy": "2023-03-07T07:41:13.225796Z",
     "iopub.status.idle": "2023-03-07T07:41:13.260259Z",
     "shell.execute_reply": "2023-03-07T07:41:13.259643Z",
     "shell.execute_reply.started": "2023-03-07T07:41:13.226309Z"
    },
    "tags": []
   },
   "outputs": [],
   "source": [
    "# data['is_hh'] = data['hh_id'].apply(lambda x: isinstance(x, str))"
   ]
  },
  {
   "cell_type": "code",
   "execution_count": 24,
   "id": "3d103f7f-d001-4f34-8ed1-26f4552395a6",
   "metadata": {
    "execution": {
     "iopub.execute_input": "2023-03-07T07:41:13.623816Z",
     "iopub.status.busy": "2023-03-07T07:41:13.623033Z",
     "iopub.status.idle": "2023-03-07T07:41:13.655318Z",
     "shell.execute_reply": "2023-03-07T07:41:13.654844Z",
     "shell.execute_reply.started": "2023-03-07T07:41:13.623746Z"
    },
    "tags": []
   },
   "outputs": [],
   "source": [
    "# data.is_hh.value_counts()"
   ]
  },
  {
   "cell_type": "code",
   "execution_count": 25,
   "id": "57258a53-73e0-429e-a60e-e430273e653f",
   "metadata": {
    "execution": {
     "iopub.execute_input": "2023-03-07T07:41:18.613069Z",
     "iopub.status.busy": "2023-03-07T07:41:18.612198Z",
     "iopub.status.idle": "2023-03-07T07:41:18.642549Z",
     "shell.execute_reply": "2023-03-07T07:41:18.641999Z",
     "shell.execute_reply.started": "2023-03-07T07:41:18.613005Z"
    },
    "tags": []
   },
   "outputs": [],
   "source": [
    "# data['hh_id'] = data['hh_id'].astype(str)"
   ]
  },
  {
   "cell_type": "markdown",
   "id": "eb6a2b61-22d7-4df7-b312-5c29f1143936",
   "metadata": {},
   "source": [
    "Save the preprosecced data"
   ]
  },
  {
   "cell_type": "code",
   "execution_count": 34,
   "id": "ad8cb2b8-8b42-45aa-ae43-839f156402cb",
   "metadata": {
    "execution": {
     "iopub.execute_input": "2023-03-07T07:45:49.739028Z",
     "iopub.status.busy": "2023-03-07T07:45:49.738934Z",
     "iopub.status.idle": "2023-03-07T07:46:24.227380Z",
     "shell.execute_reply": "2023-03-07T07:46:24.223655Z",
     "shell.execute_reply.started": "2023-03-07T07:45:49.739018Z"
    },
    "tags": []
   },
   "outputs": [],
   "source": [
    "data.to_parquet('100KHH7.parquet')"
   ]
  },
  {
   "cell_type": "code",
   "execution_count": null,
   "id": "4a66a023-109c-4b55-a96c-858769a9bada",
   "metadata": {
    "execution": {
     "iopub.status.busy": "2023-03-05T07:36:40.060023Z",
     "iopub.status.idle": "2023-03-05T07:36:40.060141Z",
     "shell.execute_reply": "2023-03-05T07:36:40.060081Z",
     "shell.execute_reply.started": "2023-03-05T07:36:40.060075Z"
    },
    "tags": []
   },
   "outputs": [],
   "source": [
    "# data = pd.read_parquet('../Data/10K_HH.parquet')"
   ]
  },
  {
   "cell_type": "markdown",
   "id": "f97fdbd1-40cd-4600-a829-7103dc75d273",
   "metadata": {},
   "source": [
    "### Now lets test"
   ]
  },
  {
   "cell_type": "code",
   "execution_count": 35,
   "id": "4e9fa631-bbda-4343-9ac3-792cafbb2a63",
   "metadata": {
    "execution": {
     "iopub.execute_input": "2023-03-07T07:46:50.677163Z",
     "iopub.status.busy": "2023-03-07T07:46:50.676234Z",
     "iopub.status.idle": "2023-03-07T07:46:50.745948Z",
     "shell.execute_reply": "2023-03-07T07:46:50.745566Z",
     "shell.execute_reply.started": "2023-03-07T07:46:50.677108Z"
    },
    "tags": []
   },
   "outputs": [],
   "source": [
    "maid_chosen = \"third_party\""
   ]
  },
  {
   "cell_type": "code",
   "execution_count": 36,
   "id": "8a5c2ac1-5fce-4e99-b127-8055d76ec186",
   "metadata": {
    "execution": {
     "iopub.execute_input": "2023-03-07T07:46:51.367924Z",
     "iopub.status.busy": "2023-03-07T07:46:51.367315Z",
     "iopub.status.idle": "2023-03-07T07:47:08.663236Z",
     "shell.execute_reply": "2023-03-07T07:47:08.659697Z",
     "shell.execute_reply.started": "2023-03-07T07:46:51.367849Z"
    },
    "tags": []
   },
   "outputs": [],
   "source": [
    "df_sorted = data.sort_values(by='time')"
   ]
  },
  {
   "cell_type": "code",
   "execution_count": 37,
   "id": "8727cca2-d47a-40b2-85dc-d246c67f6801",
   "metadata": {
    "execution": {
     "iopub.execute_input": "2023-03-07T07:47:08.668503Z",
     "iopub.status.busy": "2023-03-07T07:47:08.668020Z",
     "iopub.status.idle": "2023-03-07T07:47:40.593601Z",
     "shell.execute_reply": "2023-03-07T07:47:40.590522Z",
     "shell.execute_reply.started": "2023-03-07T07:47:08.668485Z"
    },
    "tags": []
   },
   "outputs": [],
   "source": [
    "df_sorted = df_sorted[df_sorted[\"time\"] >= pd.to_datetime(\"2022-12-01\")]"
   ]
  },
  {
   "cell_type": "code",
   "execution_count": 38,
   "id": "f3a7a3f9-9c92-4cb0-9f7c-e9dd25ec193a",
   "metadata": {
    "execution": {
     "iopub.execute_input": "2023-03-07T07:47:40.599039Z",
     "iopub.status.busy": "2023-03-07T07:47:40.598682Z",
     "iopub.status.idle": "2023-03-07T07:48:26.699735Z",
     "shell.execute_reply": "2023-03-07T07:48:26.699101Z",
     "shell.execute_reply.started": "2023-03-07T07:47:40.599020Z"
    },
    "tags": []
   },
   "outputs": [
    {
     "data": {
      "text/plain": [
       "(2022, 12)    11646145\n",
       "(2023, 1)     12914353\n",
       "(2023, 2)     11964937\n",
       "Name: time, dtype: int64"
      ]
     },
     "execution_count": 38,
     "metadata": {},
     "output_type": "execute_result"
    }
   ],
   "source": [
    "df_sorted[\"time\"].apply(lambda t: (t.year, t.month)).value_counts().sort_index()"
   ]
  },
  {
   "cell_type": "code",
   "execution_count": 39,
   "id": "f41c930b-d64c-4317-a188-348d77a81dc1",
   "metadata": {
    "execution": {
     "iopub.execute_input": "2023-03-07T07:48:26.702271Z",
     "iopub.status.busy": "2023-03-07T07:48:26.702132Z",
     "iopub.status.idle": "2023-03-07T07:48:26.721406Z",
     "shell.execute_reply": "2023-03-07T07:48:26.721111Z",
     "shell.execute_reply.started": "2023-03-07T07:48:26.702252Z"
    },
    "tags": []
   },
   "outputs": [],
   "source": [
    "two_thirds_index = int(len(df_sorted) * 2/3)"
   ]
  },
  {
   "cell_type": "code",
   "execution_count": 40,
   "id": "d821677a-b7b6-49ee-ab99-347af05e9d4c",
   "metadata": {
    "execution": {
     "iopub.execute_input": "2023-03-07T07:48:26.721948Z",
     "iopub.status.busy": "2023-03-07T07:48:26.721857Z",
     "iopub.status.idle": "2023-03-07T07:48:26.737292Z",
     "shell.execute_reply": "2023-03-07T07:48:26.736957Z",
     "shell.execute_reply.started": "2023-03-07T07:48:26.721939Z"
    },
    "tags": []
   },
   "outputs": [],
   "source": [
    "train = df_sorted.iloc[:two_thirds_index]\n",
    "test = df_sorted.iloc[two_thirds_index:]"
   ]
  },
  {
   "cell_type": "markdown",
   "id": "1f777d3e-6ee0-4fb8-85e0-7ea09be61739",
   "metadata": {},
   "source": [
    "#### The first step of the test"
   ]
  },
  {
   "cell_type": "code",
   "execution_count": 41,
   "id": "af4af574-3620-40d9-b715-fe35f8282a43",
   "metadata": {
    "execution": {
     "iopub.execute_input": "2023-03-07T07:48:26.737896Z",
     "iopub.status.busy": "2023-03-07T07:48:26.737814Z",
     "iopub.status.idle": "2023-03-07T07:48:26.749724Z",
     "shell.execute_reply": "2023-03-07T07:48:26.749321Z",
     "shell.execute_reply.started": "2023-03-07T07:48:26.737887Z"
    },
    "tags": []
   },
   "outputs": [],
   "source": [
    "import re"
   ]
  },
  {
   "cell_type": "code",
   "execution_count": 42,
   "id": "c13219a0-da91-4495-adee-6fc1fa2fe3d8",
   "metadata": {
    "execution": {
     "iopub.execute_input": "2023-03-07T07:48:26.750517Z",
     "iopub.status.busy": "2023-03-07T07:48:26.750362Z",
     "iopub.status.idle": "2023-03-07T07:48:37.062461Z",
     "shell.execute_reply": "2023-03-07T07:48:37.061636Z",
     "shell.execute_reply.started": "2023-03-07T07:48:26.750506Z"
    },
    "tags": []
   },
   "outputs": [],
   "source": [
    "only_relevant_maid = train[train[\"maid\"] == perfect_cookies.maid2int(maid_chosen)]"
   ]
  },
  {
   "cell_type": "code",
   "execution_count": 43,
   "id": "16ba9ccf-f82c-4c7d-a25c-b6914a0f4d29",
   "metadata": {
    "execution": {
     "iopub.execute_input": "2023-03-07T07:48:37.063869Z",
     "iopub.status.busy": "2023-03-07T07:48:37.063667Z",
     "iopub.status.idle": "2023-03-07T07:48:54.715111Z",
     "shell.execute_reply": "2023-03-07T07:48:54.711908Z",
     "shell.execute_reply.started": "2023-03-07T07:48:37.063851Z"
    },
    "tags": []
   },
   "outputs": [],
   "source": [
    "pattern = re.compile(r'^\\d+(\\.\\d+)*$')\n",
    "only_relevant_maid = only_relevant_maid[only_relevant_maid.osversion.str.match(pattern)]"
   ]
  },
  {
   "cell_type": "code",
   "execution_count": 44,
   "id": "f658785d-52f7-479f-91df-7cd5a5591f46",
   "metadata": {
    "execution": {
     "iopub.execute_input": "2023-03-07T07:48:54.718743Z",
     "iopub.status.busy": "2023-03-07T07:48:54.718601Z",
     "iopub.status.idle": "2023-03-07T07:49:43.542975Z",
     "shell.execute_reply": "2023-03-07T07:49:43.539815Z",
     "shell.execute_reply.started": "2023-03-07T07:48:54.718729Z"
    },
    "tags": []
   },
   "outputs": [],
   "source": [
    "more_than_one = only_relevant_maid.groupby(\n",
    "        [\"hh_id\", \"brand\", \"model\", \"os\", \"browser\", \"advertisedbrowser\"]\n",
    "    ).filter(lambda x: x[\"iiqid\"].nunique() > 1)"
   ]
  },
  {
   "cell_type": "code",
   "execution_count": 46,
   "id": "05af7729-c3b5-4fd4-93a2-d51f91cc7f38",
   "metadata": {
    "execution": {
     "iopub.execute_input": "2023-03-07T07:51:19.027878Z",
     "iopub.status.busy": "2023-03-07T07:51:19.025792Z",
     "iopub.status.idle": "2023-03-07T07:51:24.909370Z",
     "shell.execute_reply": "2023-03-07T07:51:24.908556Z",
     "shell.execute_reply.started": "2023-03-07T07:51:19.027784Z"
    },
    "tags": []
   },
   "outputs": [],
   "source": [
    "del data"
   ]
  },
  {
   "cell_type": "code",
   "execution_count": 62,
   "id": "01c78d0f-65ee-4403-91b5-b7c176c591dd",
   "metadata": {
    "execution": {
     "iopub.execute_input": "2023-03-07T08:01:44.475418Z",
     "iopub.status.busy": "2023-03-07T08:01:44.474212Z",
     "iopub.status.idle": "2023-03-07T08:01:44.871888Z",
     "shell.execute_reply": "2023-03-07T08:01:44.871528Z",
     "shell.execute_reply.started": "2023-03-07T08:01:44.475339Z"
    },
    "tags": []
   },
   "outputs": [
    {
     "data": {
      "text/plain": [
       "78472"
      ]
     },
     "execution_count": 62,
     "metadata": {},
     "output_type": "execute_result"
    }
   ],
   "source": [
    "gc.collect()"
   ]
  },
  {
   "cell_type": "code",
   "execution_count": 51,
   "id": "f9dc8e54-ff25-4722-ac02-d89f4405913f",
   "metadata": {
    "execution": {
     "iopub.execute_input": "2023-03-07T07:55:59.454490Z",
     "iopub.status.busy": "2023-03-07T07:55:59.453278Z",
     "iopub.status.idle": "2023-03-07T07:55:59.504261Z",
     "shell.execute_reply": "2023-03-07T07:55:59.503892Z",
     "shell.execute_reply.started": "2023-03-07T07:55:59.454431Z"
    },
    "tags": []
   },
   "outputs": [],
   "source": [
    "def has_nonnumeric_chars(string):\n",
    "    for char in string:\n",
    "        if not (char.isdigit() or char == '.'):\n",
    "            return True\n",
    "    return False"
   ]
  },
  {
   "cell_type": "code",
   "execution_count": 53,
   "id": "9c857a7b-5782-456f-8bdf-9de2d0298e4f",
   "metadata": {
    "execution": {
     "iopub.execute_input": "2023-03-07T07:58:14.643489Z",
     "iopub.status.busy": "2023-03-07T07:58:14.642306Z",
     "iopub.status.idle": "2023-03-07T07:58:18.552199Z",
     "shell.execute_reply": "2023-03-07T07:58:18.551753Z",
     "shell.execute_reply.started": "2023-03-07T07:58:14.643422Z"
    },
    "tags": []
   },
   "outputs": [],
   "source": [
    "nonnumeric = more_than_one.loc[more_than_one.browserversion.apply(has_nonnumeric_chars), \"browserversion\"]"
   ]
  },
  {
   "cell_type": "code",
   "execution_count": 60,
   "id": "39e8aa32-d3a6-467e-8a06-3b40b0ec7f5e",
   "metadata": {
    "execution": {
     "iopub.execute_input": "2023-03-07T08:00:28.593818Z",
     "iopub.status.busy": "2023-03-07T08:00:28.592877Z",
     "iopub.status.idle": "2023-03-07T08:00:28.623576Z",
     "shell.execute_reply": "2023-03-07T08:00:28.622923Z",
     "shell.execute_reply.started": "2023-03-07T08:00:28.593756Z"
    },
    "tags": []
   },
   "outputs": [
    {
     "data": {
      "text/plain": [
       "'0.00080%'"
      ]
     },
     "execution_count": 60,
     "metadata": {},
     "output_type": "execute_result"
    }
   ],
   "source": [
    "\"{:.5%}\".format(len(nonnumeric)/len(more_than_one))"
   ]
  },
  {
   "cell_type": "code",
   "execution_count": 61,
   "id": "504581a1-7eca-45c6-9a76-d013af4b69e3",
   "metadata": {
    "execution": {
     "iopub.execute_input": "2023-03-07T08:01:32.688549Z",
     "iopub.status.busy": "2023-03-07T08:01:32.687509Z",
     "iopub.status.idle": "2023-03-07T08:01:39.821265Z",
     "shell.execute_reply": "2023-03-07T08:01:39.820611Z",
     "shell.execute_reply.started": "2023-03-07T08:01:32.688495Z"
    },
    "tags": []
   },
   "outputs": [],
   "source": [
    "more_than_one = more_than_one[~more_than_one.browserversion.apply(has_nonnumeric_chars)]"
   ]
  },
  {
   "cell_type": "code",
   "execution_count": 63,
   "id": "6ba21ed3-1f43-4a7c-b6f7-8c47dfb33cda",
   "metadata": {
    "execution": {
     "iopub.execute_input": "2023-03-07T08:01:49.673845Z",
     "iopub.status.busy": "2023-03-07T08:01:49.673168Z",
     "iopub.status.idle": "2023-03-07T08:03:08.103322Z",
     "shell.execute_reply": "2023-03-07T08:03:08.102583Z",
     "shell.execute_reply.started": "2023-03-07T08:01:49.673805Z"
    },
    "tags": []
   },
   "outputs": [],
   "source": [
    "grouped_data = more_than_one.groupby(['hh_id', 'brand', 'model', 'os', 'browser', 'advertisedbrowser', 'iiqid']).agg(\n",
    "    {'browserversion': [hard_rules.min_ver, hard_rules.max_ver], 'osversion': [hard_rules.min_ver, hard_rules.max_ver],\n",
    "     'time': ['min', 'max']}).reset_index()"
   ]
  },
  {
   "cell_type": "code",
   "execution_count": 64,
   "id": "6b689577-b90b-4c7f-8412-4bf9f94957de",
   "metadata": {
    "execution": {
     "iopub.execute_input": "2023-03-07T08:03:08.104680Z",
     "iopub.status.busy": "2023-03-07T08:03:08.104524Z",
     "iopub.status.idle": "2023-03-07T08:03:08.122998Z",
     "shell.execute_reply": "2023-03-07T08:03:08.122688Z",
     "shell.execute_reply.started": "2023-03-07T08:03:08.104663Z"
    },
    "tags": []
   },
   "outputs": [],
   "source": [
    "grouped_data.columns = ['hh_id', 'brand', 'model', \n",
    "                        'os', 'browser', 'advertisedbrowser', 'iiqid', \n",
    "                        'min_browser_ver', 'max_browser_ver', \n",
    "                        'min_os_ver', 'max_os_ver', \n",
    "                        'min_time', 'max_time']"
   ]
  },
  {
   "cell_type": "code",
   "execution_count": 65,
   "id": "607403d1-5161-427b-b902-d6833982d075",
   "metadata": {
    "execution": {
     "iopub.execute_input": "2023-03-07T08:04:28.130901Z",
     "iopub.status.busy": "2023-03-07T08:04:28.129888Z",
     "iopub.status.idle": "2023-03-07T08:04:28.387076Z",
     "shell.execute_reply": "2023-03-07T08:04:28.386604Z",
     "shell.execute_reply.started": "2023-03-07T08:04:28.130842Z"
    },
    "tags": []
   },
   "outputs": [],
   "source": [
    "grouped_data = grouped_data.sort_values(by=['hh_id', 'brand', 'model', 'os', 'browser', 'advertisedbrowser', 'min_time'])"
   ]
  },
  {
   "cell_type": "code",
   "execution_count": 69,
   "id": "d512217c-b2e0-4651-a4fd-2f30e253cba4",
   "metadata": {
    "execution": {
     "iopub.execute_input": "2023-03-07T08:08:36.274995Z",
     "iopub.status.busy": "2023-03-07T08:08:36.274087Z",
     "iopub.status.idle": "2023-03-07T08:08:36.306583Z",
     "shell.execute_reply": "2023-03-07T08:08:36.306156Z",
     "shell.execute_reply.started": "2023-03-07T08:08:36.274926Z"
    },
    "tags": []
   },
   "outputs": [],
   "source": [
    "end_of_time = pd.Timestamp('2023-02-28')"
   ]
  },
  {
   "cell_type": "code",
   "execution_count": 70,
   "id": "bd9d54f8-4663-42ba-979b-7663e5c3ba23",
   "metadata": {
    "execution": {
     "iopub.execute_input": "2023-03-07T08:08:37.548284Z",
     "iopub.status.busy": "2023-03-07T08:08:37.547368Z",
     "iopub.status.idle": "2023-03-07T08:08:37.779212Z",
     "shell.execute_reply": "2023-03-07T08:08:37.778833Z",
     "shell.execute_reply.started": "2023-03-07T08:08:37.548220Z"
    },
    "tags": []
   },
   "outputs": [
    {
     "name": "stdout",
     "output_type": "stream",
     "text": [
      "93599\n",
      "297398\n"
     ]
    }
   ],
   "source": [
    "grouped_ages = (end_of_time - grouped_data.groupby([\n",
    "    'hh_id', 'brand', 'model', 'os', 'browser', 'advertisedbrowser'\n",
    "            ])[\"min_time\"].max()).apply(lambda t: t.days)\n",
    "print(len(grouped_ages))\n",
    "print(len(grouped_data))\n",
    "# grouped_data.groupby(['hh_id', 'brand', 'model', 'os', 'browser', 'advertisedbrowser'])['max_time'].shift(1)"
   ]
  },
  {
   "cell_type": "code",
   "execution_count": 71,
   "id": "e0f8fff7-c902-44c8-ac2a-d5c7e9cb3536",
   "metadata": {
    "execution": {
     "iopub.execute_input": "2023-03-07T08:08:38.750263Z",
     "iopub.status.busy": "2023-03-07T08:08:38.749489Z",
     "iopub.status.idle": "2023-03-07T08:08:39.037537Z",
     "shell.execute_reply": "2023-03-07T08:08:39.037077Z",
     "shell.execute_reply.started": "2023-03-07T08:08:38.750193Z"
    },
    "tags": []
   },
   "outputs": [],
   "source": [
    "grouped_data['prev_max_time'] = grouped_data.groupby(['hh_id', 'brand', 'model', 'os', 'browser', 'advertisedbrowser'])['max_time'].shift(1).fillna(pd.Timestamp.min)\n",
    "grouped_data['prev_max_browser_ver'] = grouped_data.groupby(['hh_id', 'brand', 'model', 'os', 'browser', 'advertisedbrowser'])['max_browser_ver'].shift(1).fillna(hard_rules.MINUS_INF_VERSION)\n",
    "grouped_data['prev_max_os_ver'] = grouped_data.groupby(['hh_id', 'brand', 'model', 'os', 'browser', 'advertisedbrowser'])['max_os_ver'].shift(1).fillna(hard_rules.MINUS_INF_VERSION)"
   ]
  },
  {
   "cell_type": "code",
   "execution_count": 72,
   "id": "4842c739-280f-4269-af5e-be08ea08e693",
   "metadata": {
    "execution": {
     "iopub.execute_input": "2023-03-07T08:08:47.786624Z",
     "iopub.status.busy": "2023-03-07T08:08:47.785410Z",
     "iopub.status.idle": "2023-03-07T08:08:48.841327Z",
     "shell.execute_reply": "2023-03-07T08:08:48.840860Z",
     "shell.execute_reply.started": "2023-03-07T08:08:47.786556Z"
    },
    "tags": []
   },
   "outputs": [],
   "source": [
    "full_valid_rows = grouped_data[(grouped_data['min_time'] > grouped_data['prev_max_time'])\n",
    "                              & (np.vectorize(compare_versions)(grouped_data['min_browser_ver'], \n",
    "                                                               grouped_data['prev_max_browser_ver']) >= 0)\n",
    "                              & (np.vectorize(compare_versions)(grouped_data['min_os_ver'], \n",
    "                                                               grouped_data['prev_max_os_ver']) >= 0)]"
   ]
  },
  {
   "cell_type": "code",
   "execution_count": 73,
   "id": "3773e000-c1d6-4182-b02a-3ed14794f9fc",
   "metadata": {
    "execution": {
     "iopub.execute_input": "2023-03-07T08:08:48.842330Z",
     "iopub.status.busy": "2023-03-07T08:08:48.842202Z",
     "iopub.status.idle": "2023-03-07T08:08:48.853841Z",
     "shell.execute_reply": "2023-03-07T08:08:48.853480Z",
     "shell.execute_reply.started": "2023-03-07T08:08:48.842321Z"
    },
    "tags": []
   },
   "outputs": [],
   "source": [
    "end_of_time = pd.Timestamp('2023-02-24')"
   ]
  },
  {
   "cell_type": "code",
   "execution_count": 74,
   "id": "7e2231ff-bd4d-4fa5-8438-40d0033eef8a",
   "metadata": {
    "execution": {
     "iopub.execute_input": "2023-03-07T08:08:52.283207Z",
     "iopub.status.busy": "2023-03-07T08:08:52.282329Z",
     "iopub.status.idle": "2023-03-07T08:08:52.893828Z",
     "shell.execute_reply": "2023-03-07T08:08:52.893404Z",
     "shell.execute_reply.started": "2023-03-07T08:08:52.283144Z"
    },
    "tags": []
   },
   "outputs": [],
   "source": [
    "original_rows_per_hhua = grouped_data.groupby(['hh_id', 'brand', 'model', 'os', 'browser', 'advertisedbrowser']).size()\n",
    "last_cookie_age_per_hhua = (end_of_time - grouped_data.groupby(['hh_id', 'brand', 'model', 'os', 'browser', 'advertisedbrowser'])[\"min_time\"].max()).apply(lambda t: t.days)\n",
    "valid_rows_per_hhua = full_valid_rows.groupby(['hh_id', 'brand', 'model', 'os', 'browser', 'advertisedbrowser']).size()\n",
    "all_mergable = valid_rows_per_hhua.eq(original_rows_per_hhua)\n",
    "\n",
    "result = pd.concat([original_rows_per_hhua, all_mergable, last_cookie_age_per_hhua], axis=1)\n",
    "result.columns = ['cookies','mergeable', 'last_cookie_age'] "
   ]
  },
  {
   "cell_type": "markdown",
   "id": "0324de0b-be03-4a8b-b8be-7b17c55ef32e",
   "metadata": {},
   "source": [
    "#### Now Lets reveal the last third a.k.a the test"
   ]
  },
  {
   "cell_type": "code",
   "execution_count": 75,
   "id": "bdd8c46a-f94a-4b42-83bc-53668eccbda0",
   "metadata": {
    "execution": {
     "iopub.execute_input": "2023-03-07T08:10:27.302412Z",
     "iopub.status.busy": "2023-03-07T08:10:27.300916Z",
     "iopub.status.idle": "2023-03-07T08:10:52.988497Z",
     "shell.execute_reply": "2023-03-07T08:10:52.987149Z",
     "shell.execute_reply.started": "2023-03-07T08:10:27.302350Z"
    },
    "tags": []
   },
   "outputs": [],
   "source": [
    "only_relevant_maid_full = df_sorted[df_sorted[\"maid\"] == perfect_cookies.maid2int(maid_chosen)]"
   ]
  },
  {
   "cell_type": "code",
   "execution_count": 76,
   "id": "39097ecb-198d-411f-830a-9dc8d31d8b48",
   "metadata": {
    "execution": {
     "iopub.execute_input": "2023-03-07T08:10:52.992816Z",
     "iopub.status.busy": "2023-03-07T08:10:52.992663Z",
     "iopub.status.idle": "2023-03-07T08:11:26.937169Z",
     "shell.execute_reply": "2023-03-07T08:11:26.934401Z",
     "shell.execute_reply.started": "2023-03-07T08:10:52.992802Z"
    },
    "tags": []
   },
   "outputs": [],
   "source": [
    "pattern = re.compile(r'^\\d+(\\.\\d+)*$')\n",
    "only_relevant_maid_full = only_relevant_maid_full[only_relevant_maid_full.osversion.str.match(pattern)]"
   ]
  },
  {
   "cell_type": "code",
   "execution_count": 81,
   "id": "b119c8b7-e2ca-488e-b5f4-086be3bb3b2a",
   "metadata": {
    "execution": {
     "iopub.execute_input": "2023-03-07T08:41:10.017269Z",
     "iopub.status.busy": "2023-03-07T08:41:10.015757Z",
     "iopub.status.idle": "2023-03-07T08:42:55.095586Z",
     "shell.execute_reply": "2023-03-07T08:42:55.090032Z",
     "shell.execute_reply.started": "2023-03-07T08:41:10.017193Z"
    },
    "tags": []
   },
   "outputs": [],
   "source": [
    "more_than_one_full = only_relevant_maid_full.groupby(\n",
    "        [\"hh_id\", \"brand\", \"model\", \"os\", \"browser\", \"advertisedbrowser\"]\n",
    "    ).filter(lambda x: x[\"iiqid\"].nunique() > 1)"
   ]
  },
  {
   "cell_type": "code",
   "execution_count": 82,
   "id": "d8205680-2c73-412d-a403-a117f70e85ab",
   "metadata": {
    "execution": {
     "iopub.execute_input": "2023-03-07T08:42:55.102188Z",
     "iopub.status.busy": "2023-03-07T08:42:55.101655Z",
     "iopub.status.idle": "2023-03-07T08:43:10.134905Z",
     "shell.execute_reply": "2023-03-07T08:43:10.133166Z",
     "shell.execute_reply.started": "2023-03-07T08:42:55.102169Z"
    },
    "tags": []
   },
   "outputs": [],
   "source": [
    "more_than_one_full = more_than_one_full[~more_than_one_full.browserversion.apply(has_nonnumeric_chars)]"
   ]
  },
  {
   "cell_type": "code",
   "execution_count": 83,
   "id": "f3b63b09-09e0-4245-90dd-61d28f7da24a",
   "metadata": {
    "execution": {
     "iopub.execute_input": "2023-03-07T08:43:10.136473Z",
     "iopub.status.busy": "2023-03-07T08:43:10.136026Z",
     "iopub.status.idle": "2023-03-07T08:45:16.540603Z",
     "shell.execute_reply": "2023-03-07T08:45:16.540013Z",
     "shell.execute_reply.started": "2023-03-07T08:43:10.136459Z"
    },
    "tags": []
   },
   "outputs": [],
   "source": [
    "grouped_data_full = more_than_one_full.groupby(['hh_id', 'brand', 'model', 'os', 'browser', 'advertisedbrowser', 'iiqid']).agg(\n",
    "    {'browserversion': [hard_rules.min_ver, hard_rules.max_ver], 'osversion': [hard_rules.min_ver, hard_rules.max_ver],\n",
    "     'time': ['min', 'max']}).reset_index()"
   ]
  },
  {
   "cell_type": "code",
   "execution_count": 84,
   "id": "3a3f5e78-e3e9-4912-aaf6-63efdc73f1f0",
   "metadata": {
    "execution": {
     "iopub.execute_input": "2023-03-07T08:45:16.543215Z",
     "iopub.status.busy": "2023-03-07T08:45:16.542908Z",
     "iopub.status.idle": "2023-03-07T08:45:16.561603Z",
     "shell.execute_reply": "2023-03-07T08:45:16.561277Z",
     "shell.execute_reply.started": "2023-03-07T08:45:16.543200Z"
    },
    "tags": []
   },
   "outputs": [],
   "source": [
    "grouped_data_full.columns = ['hh_id', 'brand', 'model', \n",
    "                        'os', 'browser', 'advertisedbrowser', 'iiqid', \n",
    "                        'min_browser_ver', 'max_browser_ver', \n",
    "                        'min_os_ver', 'max_os_ver', \n",
    "                        'min_time', 'max_time']"
   ]
  },
  {
   "cell_type": "code",
   "execution_count": 85,
   "id": "e1f5663a-7ef6-4915-97ae-52d6afd0f4a3",
   "metadata": {
    "execution": {
     "iopub.execute_input": "2023-03-07T08:45:16.562329Z",
     "iopub.status.busy": "2023-03-07T08:45:16.562087Z",
     "iopub.status.idle": "2023-03-07T08:45:16.815482Z",
     "shell.execute_reply": "2023-03-07T08:45:16.815157Z",
     "shell.execute_reply.started": "2023-03-07T08:45:16.562319Z"
    },
    "tags": []
   },
   "outputs": [],
   "source": [
    "grouped_data_full = grouped_data_full.sort_values(by=['hh_id', 'brand', 'model', 'os', 'browser', 'advertisedbrowser', 'min_time'])"
   ]
  },
  {
   "cell_type": "code",
   "execution_count": 86,
   "id": "bc4b450b-36af-4bbe-92a8-bfde64800c70",
   "metadata": {
    "execution": {
     "iopub.execute_input": "2023-03-07T08:45:16.816019Z",
     "iopub.status.busy": "2023-03-07T08:45:16.815925Z",
     "iopub.status.idle": "2023-03-07T08:45:17.139842Z",
     "shell.execute_reply": "2023-03-07T08:45:17.139501Z",
     "shell.execute_reply.started": "2023-03-07T08:45:16.816010Z"
    },
    "tags": []
   },
   "outputs": [],
   "source": [
    "grouped_data_full['prev_max_time'] = grouped_data_full.groupby(['hh_id', 'brand', 'model', 'os', 'browser', 'advertisedbrowser'])['max_time'].shift(1).fillna(pd.Timestamp.min)\n",
    "grouped_data_full['prev_max_browser_ver'] = grouped_data_full.groupby(['hh_id', 'brand', 'model', 'os', 'browser', 'advertisedbrowser'])['max_browser_ver'].shift(1).fillna(hard_rules.MINUS_INF_VERSION)\n",
    "grouped_data_full['prev_max_os_ver'] = grouped_data_full.groupby(['hh_id', 'brand', 'model', 'os', 'browser', 'advertisedbrowser'])['max_os_ver'].shift(1).fillna(hard_rules.MINUS_INF_VERSION)"
   ]
  },
  {
   "cell_type": "code",
   "execution_count": 87,
   "id": "1c693454-7f1e-4b39-94c3-0627496fba47",
   "metadata": {
    "execution": {
     "iopub.execute_input": "2023-03-07T08:45:17.141512Z",
     "iopub.status.busy": "2023-03-07T08:45:17.141433Z",
     "iopub.status.idle": "2023-03-07T08:45:18.466245Z",
     "shell.execute_reply": "2023-03-07T08:45:18.465762Z",
     "shell.execute_reply.started": "2023-03-07T08:45:17.141503Z"
    },
    "tags": []
   },
   "outputs": [],
   "source": [
    "full_valid_rows_full = grouped_data_full[(grouped_data_full['min_time'] > grouped_data_full['prev_max_time'])\n",
    "                              & (np.vectorize(compare_versions)(grouped_data_full['min_browser_ver'], \n",
    "                                                               grouped_data_full['prev_max_browser_ver']) >= 0)\n",
    "                              & (np.vectorize(compare_versions)(grouped_data_full['min_os_ver'], \n",
    "                                                               grouped_data_full['prev_max_os_ver']) >= 0)]"
   ]
  },
  {
   "cell_type": "code",
   "execution_count": 88,
   "id": "f62f98d0-5bca-449a-8a0a-621c596f5abf",
   "metadata": {
    "execution": {
     "iopub.execute_input": "2023-03-07T08:45:18.466944Z",
     "iopub.status.busy": "2023-03-07T08:45:18.466837Z",
     "iopub.status.idle": "2023-03-07T08:45:18.722946Z",
     "shell.execute_reply": "2023-03-07T08:45:18.722587Z",
     "shell.execute_reply.started": "2023-03-07T08:45:18.466935Z"
    },
    "tags": []
   },
   "outputs": [],
   "source": [
    "original_rows_per_hhua_full = grouped_data_full.groupby(['hh_id', 'brand', 'model', 'os', 'browser', 'advertisedbrowser']).size()\n",
    "valid_rows_per_hhua_full = full_valid_rows_full.groupby(['hh_id', 'brand', 'model', 'os', 'browser', 'advertisedbrowser']).size()\n",
    "all_mergable_full = valid_rows_per_hhua_full.eq(original_rows_per_hhua_full)\n",
    "\n",
    "result_full = pd.concat([original_rows_per_hhua_full, all_mergable_full], axis=1)\n",
    "result_full.columns = ['cookies_full','mergeable_full'] "
   ]
  },
  {
   "cell_type": "code",
   "execution_count": 89,
   "id": "4789b416-2629-4045-b2bf-b5c9ccc894fb",
   "metadata": {
    "execution": {
     "iopub.execute_input": "2023-03-07T08:45:18.723504Z",
     "iopub.status.busy": "2023-03-07T08:45:18.723412Z",
     "iopub.status.idle": "2023-03-07T08:45:18.742091Z",
     "shell.execute_reply": "2023-03-07T08:45:18.741579Z",
     "shell.execute_reply.started": "2023-03-07T08:45:18.723496Z"
    },
    "tags": []
   },
   "outputs": [
    {
     "data": {
      "text/html": [
       "<div>\n",
       "<style scoped>\n",
       "    .dataframe tbody tr th:only-of-type {\n",
       "        vertical-align: middle;\n",
       "    }\n",
       "\n",
       "    .dataframe tbody tr th {\n",
       "        vertical-align: top;\n",
       "    }\n",
       "\n",
       "    .dataframe thead th {\n",
       "        text-align: right;\n",
       "    }\n",
       "</style>\n",
       "<table border=\"1\" class=\"dataframe\">\n",
       "  <thead>\n",
       "    <tr style=\"text-align: right;\">\n",
       "      <th></th>\n",
       "      <th></th>\n",
       "      <th></th>\n",
       "      <th></th>\n",
       "      <th></th>\n",
       "      <th></th>\n",
       "      <th>cookies_full</th>\n",
       "      <th>mergeable_full</th>\n",
       "    </tr>\n",
       "    <tr>\n",
       "      <th>hh_id</th>\n",
       "      <th>brand</th>\n",
       "      <th>model</th>\n",
       "      <th>os</th>\n",
       "      <th>browser</th>\n",
       "      <th>advertisedbrowser</th>\n",
       "      <th></th>\n",
       "      <th></th>\n",
       "    </tr>\n",
       "  </thead>\n",
       "  <tbody>\n",
       "    <tr>\n",
       "      <th rowspan=\"2\" valign=\"top\">0001z5np75</th>\n",
       "      <th>apple</th>\n",
       "      <th>iphone</th>\n",
       "      <th>ios</th>\n",
       "      <th>safari</th>\n",
       "      <th>Mobile Safari</th>\n",
       "      <td>5</td>\n",
       "      <td>False</td>\n",
       "    </tr>\n",
       "    <tr>\n",
       "      <th>google</th>\n",
       "      <th>chrome</th>\n",
       "      <th>macos</th>\n",
       "      <th>chrome desktop</th>\n",
       "      <th>Chrome</th>\n",
       "      <td>4</td>\n",
       "      <td>False</td>\n",
       "    </tr>\n",
       "    <tr>\n",
       "      <th rowspan=\"3\" valign=\"top\">0005gBVGI5</th>\n",
       "      <th rowspan=\"2\" valign=\"top\">google</th>\n",
       "      <th rowspan=\"2\" valign=\"top\">chrome</th>\n",
       "      <th>chrome os</th>\n",
       "      <th>chrome desktop</th>\n",
       "      <th>Chrome</th>\n",
       "      <td>4</td>\n",
       "      <td>True</td>\n",
       "    </tr>\n",
       "    <tr>\n",
       "      <th>windows</th>\n",
       "      <th>chrome desktop</th>\n",
       "      <th>Chrome</th>\n",
       "      <td>5</td>\n",
       "      <td>False</td>\n",
       "    </tr>\n",
       "    <tr>\n",
       "      <th>microsoft</th>\n",
       "      <th>edge</th>\n",
       "      <th>windows</th>\n",
       "      <th>edge</th>\n",
       "      <th>Edge</th>\n",
       "      <td>2</td>\n",
       "      <td>True</td>\n",
       "    </tr>\n",
       "  </tbody>\n",
       "</table>\n",
       "</div>"
      ],
      "text/plain": [
       "                                                                        cookies_full  \\\n",
       "hh_id      brand     model  os        browser        advertisedbrowser                 \n",
       "0001z5np75 apple     iphone ios       safari         Mobile Safari                 5   \n",
       "           google    chrome macos     chrome desktop Chrome                        4   \n",
       "0005gBVGI5 google    chrome chrome os chrome desktop Chrome                        4   \n",
       "                            windows   chrome desktop Chrome                        5   \n",
       "           microsoft edge   windows   edge           Edge                          2   \n",
       "\n",
       "                                                                        mergeable_full  \n",
       "hh_id      brand     model  os        browser        advertisedbrowser                  \n",
       "0001z5np75 apple     iphone ios       safari         Mobile Safari               False  \n",
       "           google    chrome macos     chrome desktop Chrome                      False  \n",
       "0005gBVGI5 google    chrome chrome os chrome desktop Chrome                       True  \n",
       "                            windows   chrome desktop Chrome                      False  \n",
       "           microsoft edge   windows   edge           Edge                         True  "
      ]
     },
     "execution_count": 89,
     "metadata": {},
     "output_type": "execute_result"
    }
   ],
   "source": [
    "result_full.head()"
   ]
  },
  {
   "cell_type": "code",
   "execution_count": 90,
   "id": "a37536fa-42c5-44d7-87e3-3dfcc0d30732",
   "metadata": {
    "execution": {
     "iopub.execute_input": "2023-03-07T08:45:18.744046Z",
     "iopub.status.busy": "2023-03-07T08:45:18.743727Z",
     "iopub.status.idle": "2023-03-07T08:45:19.142279Z",
     "shell.execute_reply": "2023-03-07T08:45:19.141992Z",
     "shell.execute_reply.started": "2023-03-07T08:45:18.744037Z"
    },
    "tags": []
   },
   "outputs": [],
   "source": [
    "tested_train = result.join(result_full, how='left')"
   ]
  },
  {
   "cell_type": "code",
   "execution_count": 91,
   "id": "57b569d0-8c5b-4485-b619-f5275cad833f",
   "metadata": {
    "execution": {
     "iopub.execute_input": "2023-03-07T08:45:19.143068Z",
     "iopub.status.busy": "2023-03-07T08:45:19.142982Z",
     "iopub.status.idle": "2023-03-07T08:45:19.156969Z",
     "shell.execute_reply": "2023-03-07T08:45:19.156575Z",
     "shell.execute_reply.started": "2023-03-07T08:45:19.143059Z"
    },
    "tags": []
   },
   "outputs": [
    {
     "data": {
      "text/html": [
       "<div>\n",
       "<style scoped>\n",
       "    .dataframe tbody tr th:only-of-type {\n",
       "        vertical-align: middle;\n",
       "    }\n",
       "\n",
       "    .dataframe tbody tr th {\n",
       "        vertical-align: top;\n",
       "    }\n",
       "\n",
       "    .dataframe thead th {\n",
       "        text-align: right;\n",
       "    }\n",
       "</style>\n",
       "<table border=\"1\" class=\"dataframe\">\n",
       "  <thead>\n",
       "    <tr style=\"text-align: right;\">\n",
       "      <th></th>\n",
       "      <th></th>\n",
       "      <th></th>\n",
       "      <th></th>\n",
       "      <th></th>\n",
       "      <th></th>\n",
       "      <th>cookies</th>\n",
       "      <th>mergeable</th>\n",
       "      <th>last_cookie_age</th>\n",
       "      <th>cookies_full</th>\n",
       "      <th>mergeable_full</th>\n",
       "    </tr>\n",
       "    <tr>\n",
       "      <th>hh_id</th>\n",
       "      <th>brand</th>\n",
       "      <th>model</th>\n",
       "      <th>os</th>\n",
       "      <th>browser</th>\n",
       "      <th>advertisedbrowser</th>\n",
       "      <th></th>\n",
       "      <th></th>\n",
       "      <th></th>\n",
       "      <th></th>\n",
       "      <th></th>\n",
       "    </tr>\n",
       "  </thead>\n",
       "  <tbody>\n",
       "    <tr>\n",
       "      <th rowspan=\"2\" valign=\"top\">0001z5np75</th>\n",
       "      <th>apple</th>\n",
       "      <th>iphone</th>\n",
       "      <th>ios</th>\n",
       "      <th>safari</th>\n",
       "      <th>Mobile Safari</th>\n",
       "      <td>3</td>\n",
       "      <td>True</td>\n",
       "      <td>75</td>\n",
       "      <td>5</td>\n",
       "      <td>False</td>\n",
       "    </tr>\n",
       "    <tr>\n",
       "      <th>google</th>\n",
       "      <th>chrome</th>\n",
       "      <th>macos</th>\n",
       "      <th>chrome desktop</th>\n",
       "      <th>Chrome</th>\n",
       "      <td>4</td>\n",
       "      <td>False</td>\n",
       "      <td>53</td>\n",
       "      <td>4</td>\n",
       "      <td>False</td>\n",
       "    </tr>\n",
       "    <tr>\n",
       "      <th rowspan=\"2\" valign=\"top\">0005gBVGI5</th>\n",
       "      <th rowspan=\"2\" valign=\"top\">google</th>\n",
       "      <th rowspan=\"2\" valign=\"top\">chrome</th>\n",
       "      <th>chrome os</th>\n",
       "      <th>chrome desktop</th>\n",
       "      <th>Chrome</th>\n",
       "      <td>4</td>\n",
       "      <td>True</td>\n",
       "      <td>35</td>\n",
       "      <td>4</td>\n",
       "      <td>True</td>\n",
       "    </tr>\n",
       "    <tr>\n",
       "      <th>windows</th>\n",
       "      <th>chrome desktop</th>\n",
       "      <th>Chrome</th>\n",
       "      <td>4</td>\n",
       "      <td>False</td>\n",
       "      <td>58</td>\n",
       "      <td>5</td>\n",
       "      <td>False</td>\n",
       "    </tr>\n",
       "    <tr>\n",
       "      <th>000D1TTj2K</th>\n",
       "      <th>google</th>\n",
       "      <th>chrome</th>\n",
       "      <th>windows</th>\n",
       "      <th>chrome desktop</th>\n",
       "      <th>Chrome</th>\n",
       "      <td>2</td>\n",
       "      <td>True</td>\n",
       "      <td>45</td>\n",
       "      <td>2</td>\n",
       "      <td>True</td>\n",
       "    </tr>\n",
       "  </tbody>\n",
       "</table>\n",
       "</div>"
      ],
      "text/plain": [
       "                                                                     cookies  \\\n",
       "hh_id      brand  model  os        browser        advertisedbrowser            \n",
       "0001z5np75 apple  iphone ios       safari         Mobile Safari            3   \n",
       "           google chrome macos     chrome desktop Chrome                   4   \n",
       "0005gBVGI5 google chrome chrome os chrome desktop Chrome                   4   \n",
       "                         windows   chrome desktop Chrome                   4   \n",
       "000D1TTj2K google chrome windows   chrome desktop Chrome                   2   \n",
       "\n",
       "                                                                     mergeable  \\\n",
       "hh_id      brand  model  os        browser        advertisedbrowser              \n",
       "0001z5np75 apple  iphone ios       safari         Mobile Safari           True   \n",
       "           google chrome macos     chrome desktop Chrome                 False   \n",
       "0005gBVGI5 google chrome chrome os chrome desktop Chrome                  True   \n",
       "                         windows   chrome desktop Chrome                 False   \n",
       "000D1TTj2K google chrome windows   chrome desktop Chrome                  True   \n",
       "\n",
       "                                                                     last_cookie_age  \\\n",
       "hh_id      brand  model  os        browser        advertisedbrowser                    \n",
       "0001z5np75 apple  iphone ios       safari         Mobile Safari                   75   \n",
       "           google chrome macos     chrome desktop Chrome                          53   \n",
       "0005gBVGI5 google chrome chrome os chrome desktop Chrome                          35   \n",
       "                         windows   chrome desktop Chrome                          58   \n",
       "000D1TTj2K google chrome windows   chrome desktop Chrome                          45   \n",
       "\n",
       "                                                                     cookies_full  \\\n",
       "hh_id      brand  model  os        browser        advertisedbrowser                 \n",
       "0001z5np75 apple  iphone ios       safari         Mobile Safari                 5   \n",
       "           google chrome macos     chrome desktop Chrome                        4   \n",
       "0005gBVGI5 google chrome chrome os chrome desktop Chrome                        4   \n",
       "                         windows   chrome desktop Chrome                        5   \n",
       "000D1TTj2K google chrome windows   chrome desktop Chrome                        2   \n",
       "\n",
       "                                                                     mergeable_full  \n",
       "hh_id      brand  model  os        browser        advertisedbrowser                  \n",
       "0001z5np75 apple  iphone ios       safari         Mobile Safari               False  \n",
       "           google chrome macos     chrome desktop Chrome                      False  \n",
       "0005gBVGI5 google chrome chrome os chrome desktop Chrome                       True  \n",
       "                         windows   chrome desktop Chrome                      False  \n",
       "000D1TTj2K google chrome windows   chrome desktop Chrome                       True  "
      ]
     },
     "execution_count": 91,
     "metadata": {},
     "output_type": "execute_result"
    }
   ],
   "source": [
    "tested_train.head()"
   ]
  },
  {
   "cell_type": "code",
   "execution_count": 92,
   "id": "8d72d948-6084-4e59-a9f2-aaf407c649db",
   "metadata": {
    "execution": {
     "iopub.execute_input": "2023-03-07T08:45:19.157584Z",
     "iopub.status.busy": "2023-03-07T08:45:19.157495Z",
     "iopub.status.idle": "2023-03-07T08:45:19.197365Z",
     "shell.execute_reply": "2023-03-07T08:45:19.196883Z",
     "shell.execute_reply.started": "2023-03-07T08:45:19.157575Z"
    },
    "tags": []
   },
   "outputs": [],
   "source": [
    "accuracy_by_age = tested_train.groupby('last_cookie_age').apply(lambda x: (x.loc[(x['mergeable']==True) & (x['mergeable_full']==True)].shape[0]) / x.loc[x['mergeable']==True].shape[0])"
   ]
  },
  {
   "cell_type": "code",
   "execution_count": 94,
   "id": "fd057fc3-11c3-4fde-af89-66f0b36410b4",
   "metadata": {
    "execution": {
     "iopub.execute_input": "2023-03-07T08:47:45.474256Z",
     "iopub.status.busy": "2023-03-07T08:47:45.472845Z",
     "iopub.status.idle": "2023-03-07T08:47:45.522167Z",
     "shell.execute_reply": "2023-03-07T08:47:45.521364Z",
     "shell.execute_reply.started": "2023-03-07T08:47:45.474173Z"
    },
    "tags": []
   },
   "outputs": [],
   "source": [
    "from numpy.polynomial.polynomial import polyfit"
   ]
  },
  {
   "cell_type": "code",
   "execution_count": 95,
   "id": "b9e3be2b-5b43-4526-a25a-3e749aa330a9",
   "metadata": {
    "execution": {
     "iopub.execute_input": "2023-03-07T08:47:45.912275Z",
     "iopub.status.busy": "2023-03-07T08:47:45.911687Z",
     "iopub.status.idle": "2023-03-07T08:47:45.954858Z",
     "shell.execute_reply": "2023-03-07T08:47:45.954297Z",
     "shell.execute_reply.started": "2023-03-07T08:47:45.912232Z"
    },
    "tags": []
   },
   "outputs": [],
   "source": [
    "x = np.array(accuracy_by_age.index)\n",
    "y = np.array(accuracy_by_age)\n",
    "\n",
    "b, m = polyfit(x=accuracy_by_age.index, y=accuracy_by_age, deg=1)\n",
    "coeffs = polyfit(x, y, deg=2)"
   ]
  },
  {
   "cell_type": "code",
   "execution_count": 96,
   "id": "8eaf8329-7b04-4616-a653-bc0a7c5c64b0",
   "metadata": {
    "execution": {
     "iopub.execute_input": "2023-03-07T08:47:46.302713Z",
     "iopub.status.busy": "2023-03-07T08:47:46.302173Z",
     "iopub.status.idle": "2023-03-07T08:47:46.335303Z",
     "shell.execute_reply": "2023-03-07T08:47:46.334750Z",
     "shell.execute_reply.started": "2023-03-07T08:47:46.302677Z"
    },
    "tags": []
   },
   "outputs": [
    {
     "data": {
      "text/plain": [
       "array([ 5.07882730e-01,  7.91292080e-03, -4.38188751e-05])"
      ]
     },
     "execution_count": 96,
     "metadata": {},
     "output_type": "execute_result"
    }
   ],
   "source": [
    "coeffs"
   ]
  },
  {
   "cell_type": "code",
   "execution_count": 97,
   "id": "8ccb7729-c69c-45b8-ac15-c5384bbadd61",
   "metadata": {
    "execution": {
     "iopub.execute_input": "2023-03-07T08:47:46.743523Z",
     "iopub.status.busy": "2023-03-07T08:47:46.742623Z",
     "iopub.status.idle": "2023-03-07T08:47:47.072945Z",
     "shell.execute_reply": "2023-03-07T08:47:47.072651Z",
     "shell.execute_reply.started": "2023-03-07T08:47:46.743456Z"
    },
    "tags": []
   },
   "outputs": [
    {
     "data": {
      "image/png": "[encoded data removed]",
      "text/plain": [
       "<Figure size 1200x500 with 1 Axes>"
      ]
     },
     "metadata": {},
     "output_type": "display_data"
    }
   ],
   "source": [
    "# plt.plot(accuracy_by_age, 'o-')\n",
    "plt.plot(x, y, 'o', label='Accuracy')\n",
    "plt.plot(x, coeffs[0] + coeffs[1] * x + coeffs[2] * x**2, '-', label='Regression Line')\n",
    "# plt.plot(accuracy_by_age.index, b + m * accuracy_by_age.index, '-', label='Regression Line')\n",
    "plt.xlim(accuracy_by_age.index.max()+1, accuracy_by_age.index.min()-1)\n",
    "plt.xlabel('Last Cookie Age')\n",
    "plt.ylabel('Accuracy')\n",
    "plt.title('Accuracy vs Last Cookie Age')\n",
    "plt.legend()\n",
    "plt.tight_layout()\n",
    "plt.show()"
   ]
  },
  {
   "cell_type": "markdown",
   "id": "677ca858-6d8a-42ff-a2d8-35a85d3783a3",
   "metadata": {
    "tags": []
   },
   "source": [
    "##### Compare to random noise from the curve"
   ]
  },
  {
   "cell_type": "code",
   "execution_count": 101,
   "id": "70038376-27b0-4f19-a0eb-e1f28c99c52d",
   "metadata": {
    "execution": {
     "iopub.execute_input": "2023-03-07T09:00:10.950783Z",
     "iopub.status.busy": "2023-03-07T09:00:10.949106Z",
     "iopub.status.idle": "2023-03-07T09:00:10.987418Z",
     "shell.execute_reply": "2023-03-07T09:00:10.986705Z",
     "shell.execute_reply.started": "2023-03-07T09:00:10.950683Z"
    },
    "tags": []
   },
   "outputs": [],
   "source": [
    "# for i in range(min(accuracy_by_age.index), max(accuracy_by_age.index)):\n",
    "#     print(len(tested_train[(tested_train[\"last_cookie_age\"]==i) & (tested_train[\"mergeable\"]==True)]))"
   ]
  },
  {
   "cell_type": "code",
   "execution_count": 115,
   "id": "33c3563d-839c-4107-8276-0348db6241d9",
   "metadata": {
    "execution": {
     "iopub.execute_input": "2023-03-07T09:18:40.460294Z",
     "iopub.status.busy": "2023-03-07T09:18:40.459312Z",
     "iopub.status.idle": "2023-03-07T09:18:40.499448Z",
     "shell.execute_reply": "2023-03-07T09:18:40.499105Z",
     "shell.execute_reply.started": "2023-03-07T09:18:40.460230Z"
    },
    "tags": []
   },
   "outputs": [],
   "source": [
    "def age_size(age):\n",
    "    return len(tested_train[(tested_train[\"last_cookie_age\"]==age) & (tested_train[\"mergeable\"]==True)])"
   ]
  },
  {
   "cell_type": "code",
   "execution_count": 116,
   "id": "39d97f8b-8a40-4d75-8263-86ff921adbc4",
   "metadata": {
    "execution": {
     "iopub.execute_input": "2023-03-07T09:18:41.860357Z",
     "iopub.status.busy": "2023-03-07T09:18:41.859454Z",
     "iopub.status.idle": "2023-03-07T09:18:41.896273Z",
     "shell.execute_reply": "2023-03-07T09:18:41.895690Z",
     "shell.execute_reply.started": "2023-03-07T09:18:41.860282Z"
    },
    "tags": []
   },
   "outputs": [],
   "source": [
    "def curve(age):\n",
    "    return coeffs[0] + coeffs[1] * age + coeffs[2] * age**2"
   ]
  },
  {
   "cell_type": "code",
   "execution_count": 117,
   "id": "af2c4551-e4f3-435c-a9a9-2d4b85c60733",
   "metadata": {
    "execution": {
     "iopub.execute_input": "2023-03-07T09:18:42.664875Z",
     "iopub.status.busy": "2023-03-07T09:18:42.664417Z",
     "iopub.status.idle": "2023-03-07T09:18:42.702491Z",
     "shell.execute_reply": "2023-03-07T09:18:42.702024Z",
     "shell.execute_reply.started": "2023-03-07T09:18:42.664844Z"
    },
    "tags": []
   },
   "outputs": [
    {
     "name": "stdout",
     "output_type": "stream",
     "text": [
      "0.7939815816563255\n",
      "0.8122362869198312\n"
     ]
    }
   ],
   "source": [
    "p = curve(50)\n",
    "n = age_size(50)\n",
    "print(p)\n",
    "print(np.random.binomial(n, p) / n)"
   ]
  },
  {
   "cell_type": "code",
   "execution_count": 123,
   "id": "389f2746-4aac-4115-8c7d-26e3010333b5",
   "metadata": {
    "execution": {
     "iopub.execute_input": "2023-03-07T09:19:06.202894Z",
     "iopub.status.busy": "2023-03-07T09:19:06.201547Z",
     "iopub.status.idle": "2023-03-07T09:19:06.286708Z",
     "shell.execute_reply": "2023-03-07T09:19:06.286309Z",
     "shell.execute_reply.started": "2023-03-07T09:19:06.202828Z"
    },
    "tags": []
   },
   "outputs": [],
   "source": [
    "noisy_curve = [np.random.binomial(age_size(age), curve(age)) / age_size(age) for age in accuracy_by_age.index]"
   ]
  },
  {
   "cell_type": "code",
   "execution_count": 153,
   "id": "3e584be2-a744-47b2-9ea9-5d014930091c",
   "metadata": {
    "execution": {
     "iopub.execute_input": "2023-03-07T10:18:29.826640Z",
     "iopub.status.busy": "2023-03-07T10:18:29.825747Z",
     "iopub.status.idle": "2023-03-07T10:18:29.904597Z",
     "shell.execute_reply": "2023-03-07T10:18:29.904218Z",
     "shell.execute_reply.started": "2023-03-07T10:18:29.826573Z"
    },
    "tags": []
   },
   "outputs": [],
   "source": [
    "stds = [np.sqrt(curve(age)*(1-curve(age))/age_size(age)) for age in accuracy_by_age.index]"
   ]
  },
  {
   "cell_type": "code",
   "execution_count": 169,
   "id": "8fa0ff14-97b6-49b3-a299-990c5f20e7ad",
   "metadata": {
    "execution": {
     "iopub.execute_input": "2023-03-07T10:25:08.850856Z",
     "iopub.status.busy": "2023-03-07T10:25:08.850110Z",
     "iopub.status.idle": "2023-03-07T10:25:09.033124Z",
     "shell.execute_reply": "2023-03-07T10:25:09.032496Z",
     "shell.execute_reply.started": "2023-03-07T10:25:08.850805Z"
    },
    "tags": []
   },
   "outputs": [
    {
     "data": {
      "image/png": "[encoded data removed]",
      "text/plain": [
       "<Figure size 1200x500 with 1 Axes>"
      ]
     },
     "metadata": {},
     "output_type": "display_data"
    }
   ],
   "source": [
    "plt.plot(x, noisy_curve, 'o', label='Accuracy', color=\"blue\")\n",
    "plt.plot(x, coeffs[0] + coeffs[1] * x + coeffs[2] * x**2, '-', label='Regression Line', color=\"red\")\n",
    "# plt.plot(accuracy_by_age.index, b + m * accuracy_by_age.index, '-', label='Regression Line')\n",
    "plt.xlim(accuracy_by_age.index.max()+1, accuracy_by_age.index.min()-1)\n",
    "# plt.errorbar(x, noisy_curve, yerr=stds, fmt='o-', capsize=4, ecolor=\"grey\")\n",
    "plt.xlabel('Last Cookie Age')\n",
    "plt.ylabel('Accuracy')\n",
    "plt.title('Accuracy vs Last Cookie Age')\n",
    "plt.legend()\n",
    "plt.tight_layout()\n",
    "plt.show()"
   ]
  },
  {
   "cell_type": "code",
   "execution_count": 158,
   "id": "e1dbb1da-3edd-4f59-8d25-f88319bb9c73",
   "metadata": {
    "execution": {
     "iopub.execute_input": "2023-03-07T10:21:14.849394Z",
     "iopub.status.busy": "2023-03-07T10:21:14.847927Z",
     "iopub.status.idle": "2023-03-07T10:21:15.058578Z",
     "shell.execute_reply": "2023-03-07T10:21:15.058247Z",
     "shell.execute_reply.started": "2023-03-07T10:21:14.849329Z"
    },
    "tags": []
   },
   "outputs": [
    {
     "data": {
      "text/plain": [
       "(85.0, 22.0)"
      ]
     },
     "execution_count": 158,
     "metadata": {},
     "output_type": "execute_result"
    },
    {
     "data": {
      "image/png": "[encoded data removed]",
      "text/plain": [
       "<Figure size 1200x500 with 1 Axes>"
      ]
     },
     "metadata": {},
     "output_type": "display_data"
    }
   ],
   "source": [
    "plt.bar(accuracy_by_age.index, [age_size(i) for i in accuracy_by_age.index])\n",
    "plt.xlim(accuracy_by_age.index.max()+1, accuracy_by_age.index.min()-1)"
   ]
  },
  {
   "cell_type": "markdown",
   "id": "afc0adfb-e142-42dd-93ee-9eed16cd56e8",
   "metadata": {},
   "source": [
    "#### Another version"
   ]
  },
  {
   "cell_type": "code",
   "execution_count": 126,
   "id": "f1b0f883-269b-4ee4-b05e-c6e0f076beec",
   "metadata": {
    "execution": {
     "iopub.execute_input": "2023-03-07T09:40:58.200778Z",
     "iopub.status.busy": "2023-03-07T09:40:58.196249Z",
     "iopub.status.idle": "2023-03-07T09:40:58.248228Z",
     "shell.execute_reply": "2023-03-07T09:40:58.247694Z",
     "shell.execute_reply.started": "2023-03-07T09:40:58.200337Z"
    },
    "tags": []
   },
   "outputs": [],
   "source": [
    "tested_train_merged = tested_train[tested_train[\"mergeable\"] == True]"
   ]
  },
  {
   "cell_type": "code",
   "execution_count": 131,
   "id": "8c1c0e84-fc8e-49e9-a5ba-13c2974708be",
   "metadata": {
    "execution": {
     "iopub.execute_input": "2023-03-07T09:42:29.507772Z",
     "iopub.status.busy": "2023-03-07T09:42:29.506803Z",
     "iopub.status.idle": "2023-03-07T09:42:29.546319Z",
     "shell.execute_reply": "2023-03-07T09:42:29.545978Z",
     "shell.execute_reply.started": "2023-03-07T09:42:29.507670Z"
    },
    "tags": []
   },
   "outputs": [],
   "source": [
    "success_rate_by_age = tested_train_merged.groupby(\"last_cookie_age\")[\"mergeable_full\"].mean()"
   ]
  },
  {
   "cell_type": "code",
   "execution_count": 132,
   "id": "b8207c63-e01b-4a86-b28e-62d8b2f80971",
   "metadata": {
    "execution": {
     "iopub.execute_input": "2023-03-07T09:42:50.421198Z",
     "iopub.status.busy": "2023-03-07T09:42:50.419832Z",
     "iopub.status.idle": "2023-03-07T09:42:50.448506Z",
     "shell.execute_reply": "2023-03-07T09:42:50.447919Z",
     "shell.execute_reply.started": "2023-03-07T09:42:50.421141Z"
    },
    "tags": []
   },
   "outputs": [],
   "source": [
    "success_rate_by_age_std = tested_train_merged.groupby(\"last_cookie_age\")[\"mergeable_full\"].std() "
   ]
  },
  {
   "cell_type": "code",
   "execution_count": 161,
   "id": "3f05bf22-d64f-40c6-9ac1-90d53f43ac5c",
   "metadata": {
    "execution": {
     "iopub.execute_input": "2023-03-07T10:22:54.542197Z",
     "iopub.status.busy": "2023-03-07T10:22:54.541226Z",
     "iopub.status.idle": "2023-03-07T10:22:54.575213Z",
     "shell.execute_reply": "2023-03-07T10:22:54.574798Z",
     "shell.execute_reply.started": "2023-03-07T10:22:54.542116Z"
    },
    "tags": []
   },
   "outputs": [],
   "source": [
    "x = np.array(success_rate_by_age.index)\n",
    "y = np.array(success_rate_by_age)\n",
    "\n",
    "# b, m = polyfit(x=success_rate_by_age.index, y=success_rate_by_age, deg=1)\n",
    "coeffs = polyfit(x, y, deg=2)"
   ]
  },
  {
   "cell_type": "code",
   "execution_count": 162,
   "id": "a2393f1a-7fc5-4fde-825f-987951396a5f",
   "metadata": {
    "execution": {
     "iopub.execute_input": "2023-03-07T10:22:54.890019Z",
     "iopub.status.busy": "2023-03-07T10:22:54.889110Z",
     "iopub.status.idle": "2023-03-07T10:22:54.922049Z",
     "shell.execute_reply": "2023-03-07T10:22:54.921311Z",
     "shell.execute_reply.started": "2023-03-07T10:22:54.889949Z"
    },
    "tags": []
   },
   "outputs": [
    {
     "data": {
      "text/plain": [
       "array([ 5.07882730e-01,  7.91292080e-03, -4.38188751e-05])"
      ]
     },
     "execution_count": 162,
     "metadata": {},
     "output_type": "execute_result"
    }
   ],
   "source": [
    "coeffs"
   ]
  },
  {
   "cell_type": "code",
   "execution_count": 167,
   "id": "48d253f7-9023-4024-b872-5d22a0cfeea4",
   "metadata": {
    "execution": {
     "iopub.execute_input": "2023-03-07T10:24:26.452232Z",
     "iopub.status.busy": "2023-03-07T10:24:26.451117Z",
     "iopub.status.idle": "2023-03-07T10:24:26.636233Z",
     "shell.execute_reply": "2023-03-07T10:24:26.635846Z",
     "shell.execute_reply.started": "2023-03-07T10:24:26.452150Z"
    },
    "tags": []
   },
   "outputs": [
    {
     "data": {
      "image/png": "[encoded data removed]",
      "text/plain": [
       "<Figure size 1200x500 with 1 Axes>"
      ]
     },
     "metadata": {},
     "output_type": "display_data"
    }
   ],
   "source": [
    "# plt.plot(accuracy_by_age, 'o-')\n",
    "plt.plot(x, y, 'o', label='Accuracy', color='blue')\n",
    "plt.plot(x, coeffs[0] + coeffs[1] * x + coeffs[2] * x**2, '-', label='Regression Line', color=\"red\")\n",
    "# plt.plot(accuracy_by_age.index, b + m * accuracy_by_age.index, '-', label='Regression Line')\n",
    "plt.xlim(success_rate_by_age.index.max()+1, success_rate_by_age.index.min()-1)\n",
    "# plt.errorbar(x, y, yerr=success_rate_by_age_std[::-1], fmt='o-', capsize=4, ecolor=\"grey\")\n",
    "# plt.errorbar(x, y, yerr=stds, fmt='o-', capsize=4, ecolor=\"grey\")\n",
    "plt.xlabel('Last Cookie Age')\n",
    "plt.ylabel('Accuracy')\n",
    "plt.title('Accuracy vs Last Cookie Age')\n",
    "plt.legend()\n",
    "plt.tight_layout()\n",
    "plt.show()"
   ]
  },
  {
   "cell_type": "code",
   "execution_count": 140,
   "id": "75c4f976-d903-4a07-b596-690b5a9c593b",
   "metadata": {
    "execution": {
     "iopub.execute_input": "2023-03-07T09:47:53.601427Z",
     "iopub.status.busy": "2023-03-07T09:47:53.600750Z",
     "iopub.status.idle": "2023-03-07T09:47:53.635123Z",
     "shell.execute_reply": "2023-03-07T09:47:53.634719Z",
     "shell.execute_reply.started": "2023-03-07T09:47:53.601356Z"
    },
    "tags": []
   },
   "outputs": [
    {
     "data": {
      "text/plain": [
       "last_cookie_age\n",
       "23    0.492120\n",
       "24    0.480364\n",
       "25    0.471762\n",
       "26    0.456046\n",
       "27    0.460119\n",
       "        ...   \n",
       "80    0.239245\n",
       "81    0.192779\n",
       "82    0.231956\n",
       "83    0.277770\n",
       "84    0.291712\n",
       "Name: mergeable_full, Length: 62, dtype: float64"
      ]
     },
     "execution_count": 140,
     "metadata": {},
     "output_type": "execute_result"
    }
   ],
   "source": [
    "success_rate_by_age_std"
   ]
  },
  {
   "cell_type": "code",
   "execution_count": 170,
   "id": "af4c2195-5bbc-40ec-a812-eea1a17a7fb4",
   "metadata": {
    "execution": {
     "iopub.execute_input": "2023-03-07T10:32:52.542541Z",
     "iopub.status.busy": "2023-03-07T10:32:52.541586Z",
     "iopub.status.idle": "2023-03-07T10:32:52.579445Z",
     "shell.execute_reply": "2023-03-07T10:32:52.578735Z",
     "shell.execute_reply.started": "2023-03-07T10:32:52.542425Z"
    },
    "tags": []
   },
   "outputs": [
    {
     "data": {
      "text/plain": [
       "Int64Index([23, 24, 25, 26, 27, 28, 29, 30, 31, 32, 33, 34, 35, 36, 37, 38, 39,\n",
       "            40, 41, 42, 43, 44, 45, 46, 47, 48, 49, 50, 51, 52, 53, 54, 55, 56,\n",
       "            57, 58, 59, 60, 61, 62, 63, 64, 65, 66, 67, 68, 69, 70, 71, 72, 73,\n",
       "            74, 75, 76, 77, 78, 79, 80, 81, 82, 83, 84],\n",
       "           dtype='int64', name='last_cookie_age')"
      ]
     },
     "execution_count": 170,
     "metadata": {},
     "output_type": "execute_result"
    }
   ],
   "source": [
    "accuracy_by_age.index"
   ]
  },
  {
   "cell_type": "code",
   "execution_count": null,
   "id": "930222e1-602f-47a7-bf84-3dddb9669a53",
   "metadata": {
    "tags": []
   },
   "outputs": [],
   "source": []
  },
  {
   "cell_type": "code",
   "execution_count": null,
   "id": "6e37f83f-d966-4115-b18e-f5da368eb404",
   "metadata": {},
   "outputs": [],
   "source": []
  }
 ],
 "metadata": {
  "kernelspec": {
   "display_name": "Python 3 (ipykernel)",
   "language": "python",
   "name": "python3"
  },
  "language_info": {
   "codemirror_mode": {
    "name": "ipython",
    "version": 3
   },
   "file_extension": ".py",
   "mimetype": "text/x-python",
   "name": "python",
   "nbconvert_exporter": "python",
   "pygments_lexer": "ipython3",
   "version": "3.10.10"
  }
 },
 "nbformat": 4,
 "nbformat_minor": 5
}
