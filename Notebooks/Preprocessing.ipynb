{
 "cells": [
  {
   "cell_type": "markdown",
   "id": "bb657d74-8da8-44f0-a5b9-c33fdbd3a8b0",
   "metadata": {},
   "source": [
    "# Preprocessing Piplines"
   ]
  },
  {
   "cell_type": "code",
   "execution_count": 1,
   "id": "002177ca-98c8-4454-a02b-a90813b3da35",
   "metadata": {
    "tags": []
   },
   "outputs": [],
   "source": [
    "import numpy as np\n",
    "import pandas as pd\n",
    "import seaborn as sns\n",
    "import matplotlib.pyplot as plt\n",
    "sns.set(rc={'figure.figsize':(12,5)})\n",
    "%load_ext autoreload\n",
    "%autoreload 2 "
   ]
  },
  {
   "cell_type": "code",
   "execution_count": 2,
   "id": "43ed09d4-4c05-46f7-b787-57245913e6f5",
   "metadata": {
    "tags": []
   },
   "outputs": [],
   "source": [
    "import re\n",
    "from tqdm import tqdm"
   ]
  },
  {
   "cell_type": "code",
   "execution_count": 3,
   "id": "05017f8f-686d-4ef1-9e72-26569756a157",
   "metadata": {
    "tags": []
   },
   "outputs": [],
   "source": [
    "import sys\n",
    "import os\n",
    "sys.path.append(os.path.abspath('../modules'))\n",
    "from lnds import longest_non_decreasing_subsequence as lnds"
   ]
  },
  {
   "cell_type": "markdown",
   "id": "68bbd248-5060-44e6-ba10-24412ee7298c",
   "metadata": {},
   "source": [
    "## Always"
   ]
  },
  {
   "cell_type": "code",
   "execution_count": 5,
   "id": "1215ba77-9f79-4864-b269-a6e01cc687db",
   "metadata": {},
   "outputs": [],
   "source": [
    "needed_columns = ['timestamp', 'maid', 'hh_id','iiqid', 'partner_id', 'ip', 'iscellip',\n",
    "       'cellispid', 'domain','is_house_ip_or_source_ip', 'brand', 'model', 'os', 'osversion',\n",
    "       'browser', 'advertisedbrowser', 'browserversion', 'type', 'is_best_ip']"
   ]
  },
  {
   "cell_type": "code",
   "execution_count": 17,
   "id": "d214a7c2-6be9-4204-9df2-7deed85f4b46",
   "metadata": {},
   "outputs": [],
   "source": [
    "dtype_dict = {\n",
    "    'maid': 'category', 'hh_id': 'string',\n",
    "    'iscellip': 'boolean', 'domain': 'string','is_house_ip_or_source_ip': 'boolean', \n",
    "    'brand': 'category', 'model': 'category', 'os': 'category', 'osversion': 'string',\n",
    "    'browser': 'category', 'advertisedbrowser': 'string', 'browserversion': 'string', 'is_best_ip': 'boolean'\n",
    "}"
   ]
  },
  {
   "cell_type": "code",
   "execution_count": 21,
   "id": "f9f3e1ca-2c1c-47cf-b16d-1e51c85c6451",
   "metadata": {},
   "outputs": [],
   "source": [
    "data = pd.read_csv(\"../Data/random_10k.csv\", usecols=needed_columns, dtype=dtype_dict)"
   ]
  },
  {
   "cell_type": "code",
   "execution_count": 22,
   "id": "eae9fd3d-5a8b-472d-acb9-a90ecbdb7982",
   "metadata": {
    "tags": []
   },
   "outputs": [],
   "source": [
    "data.dropna(inplace=True)"
   ]
  },
  {
   "cell_type": "code",
   "execution_count": 77,
   "id": "5c046c7b-7551-4c0b-821e-a4e585b7e4a2",
   "metadata": {},
   "outputs": [],
   "source": [
    "# data = data[data['maid']==4 | data['maid']==7]"
   ]
  },
  {
   "cell_type": "code",
   "execution_count": 23,
   "id": "c6664d3c-eb3c-490c-a5a6-2b2965ede3f1",
   "metadata": {
    "tags": []
   },
   "outputs": [],
   "source": [
    "data['time'] = pd.to_datetime(data['timestamp'], unit='ms')"
   ]
  },
  {
   "cell_type": "code",
   "execution_count": 24,
   "id": "64ad4142-9ed4-4133-a63a-ca08d12cbcdc",
   "metadata": {
    "tags": []
   },
   "outputs": [],
   "source": [
    "pattern = re.compile(r'^\\d+(\\.\\d+)*$')\n",
    "data = data[data.osversion.str.match(pattern)]"
   ]
  },
  {
   "cell_type": "code",
   "execution_count": 25,
   "id": "193473f8-1926-46f4-b7e0-059e28e41cea",
   "metadata": {
    "tags": []
   },
   "outputs": [],
   "source": [
    "pattern = re.compile(r'^\\d+(\\.\\d+)*$')\n",
    "data = data[data.browserversion.str.match(pattern)]"
   ]
  },
  {
   "cell_type": "code",
   "execution_count": 44,
   "id": "e4e5c636-385e-4f28-bee6-7089e31fc1a8",
   "metadata": {},
   "outputs": [],
   "source": [
    "data['is_hh'] = data['hh_id'].apply(lambda hh: hh.isnumeric())"
   ]
  },
  {
   "cell_type": "code",
   "execution_count": 45,
   "id": "f5990e0b-9205-46a3-b6f2-ce4a464f6b04",
   "metadata": {
    "tags": []
   },
   "outputs": [],
   "source": [
    "data = data[data[\"time\"] >= pd.to_datetime(\"2022-12-01\")]"
   ]
  },
  {
   "cell_type": "markdown",
   "id": "81c26c71-c08e-47af-b494-ad99c1856374",
   "metadata": {},
   "source": [
    "Remove cookies with mixed consts"
   ]
  },
  {
   "cell_type": "code",
   "execution_count": 46,
   "id": "d358862d-6535-4e0f-a147-4dcef9b3ba79",
   "metadata": {
    "tags": []
   },
   "outputs": [],
   "source": [
    "unique_values_per_cookie = data.groupby([\"hh_id\", \"iiqid\"])[[\"timestamp\", \"brand\", \"model\", \"os\", \"browser\"]].nunique()"
   ]
  },
  {
   "cell_type": "code",
   "execution_count": 47,
   "id": "e815973f-f8c1-41e5-9357-dd4bc5296f93",
   "metadata": {
    "tags": []
   },
   "outputs": [],
   "source": [
    "unique_values_per_cookie[\"sum\"] = unique_values_per_cookie.iloc[:,1:].sum(axis=1)"
   ]
  },
  {
   "cell_type": "code",
   "execution_count": 48,
   "id": "28abdea2-e38c-44d2-811b-53f808bdebb6",
   "metadata": {
    "tags": []
   },
   "outputs": [],
   "source": [
    "# Originnaly there where only 4 columns and the 'ok' sum was 4\n",
    "equal_5 = unique_values_per_cookie[unique_values_per_cookie[\"sum\"]==5]\n",
    "more_than_5 = unique_values_per_cookie[unique_values_per_cookie[\"sum\"]>5]"
   ]
  },
  {
   "cell_type": "code",
   "execution_count": 71,
   "id": "e3c20dcc-88d8-4c9d-9ecd-2fda178d9030",
   "metadata": {},
   "outputs": [],
   "source": [
    "mixed_iiqids = more_than_5.index.get_level_values(level=1).to_list()"
   ]
  },
  {
   "cell_type": "code",
   "execution_count": 76,
   "id": "3d2d4baa-1e15-4145-a8c6-39ca8e6227ec",
   "metadata": {},
   "outputs": [],
   "source": [
    "data = data[~data['iiqid'].isin(mixed_iiqids)]"
   ]
  },
  {
   "cell_type": "markdown",
   "id": "23c60d85-ef8f-4b50-991e-b7aaa38fe9c3",
   "metadata": {},
   "source": [
    "Save the results"
   ]
  },
  {
   "cell_type": "code",
   "execution_count": 82,
   "id": "2ffc7caa-adc8-4328-8297-8122e67bc01f",
   "metadata": {},
   "outputs": [],
   "source": [
    "data.to_pickle(\"random_10k.pickle\")"
   ]
  },
  {
   "cell_type": "markdown",
   "id": "ea802eb1-4a94-4d18-a5c3-5aefa6aca57c",
   "metadata": {},
   "source": [
    "## Case based"
   ]
  },
  {
   "cell_type": "markdown",
   "id": "3e479947-6f81-4c8a-bfe8-aa9f91d5b1de",
   "metadata": {},
   "source": [
    "Only thirds party cookies and maids:"
   ]
  },
  {
   "cell_type": "code",
   "execution_count": 38,
   "id": "4b2126e4-f160-49f4-a4a1-96297058dcef",
   "metadata": {},
   "outputs": [],
   "source": [
    "# data[(data['maid'] == 4) | (data['maid'] == 7)]"
   ]
  },
  {
   "cell_type": "markdown",
   "id": "c448efae-aa89-4559-bebb-9084f3c23efa",
   "metadata": {},
   "source": [
    "Randomize "
   ]
  },
  {
   "cell_type": "code",
   "execution_count": 10,
   "id": "28153e11-5fb9-4117-ac5a-ccf13188361c",
   "metadata": {
    "execution": {
     "iopub.execute_input": "2023-03-16T11:25:47.357147Z",
     "iopub.status.busy": "2023-03-16T11:25:47.356359Z",
     "iopub.status.idle": "2023-03-16T11:25:49.129009Z",
     "shell.execute_reply": "2023-03-16T11:25:49.128652Z",
     "shell.execute_reply.started": "2023-03-16T11:25:47.357083Z"
    },
    "tags": []
   },
   "outputs": [],
   "source": [
    "houses = data['hh_id'].unique()\n",
    "pairs = list(combinations(houses, 2))"
   ]
  },
  {
   "cell_type": "code",
   "execution_count": 12,
   "id": "a5adaa66-ffed-4216-8f75-8628e4d65479",
   "metadata": {
    "execution": {
     "iopub.execute_input": "2023-03-16T08:38:29.964805Z",
     "iopub.status.busy": "2023-03-16T08:38:29.963895Z",
     "iopub.status.idle": "2023-03-16T08:38:30.040890Z",
     "shell.execute_reply": "2023-03-16T08:38:30.040363Z",
     "shell.execute_reply.started": "2023-03-16T08:38:29.964731Z"
    },
    "tags": []
   },
   "outputs": [],
   "source": [
    "sample_size = 2000\n",
    "random_pairs = random.sample(pairs, sample_size)"
   ]
  },
  {
   "cell_type": "code",
   "execution_count": 13,
   "id": "31518b6b-9832-4c50-b0c0-351b7a5bc48b",
   "metadata": {
    "execution": {
     "iopub.execute_input": "2023-03-16T08:38:31.478164Z",
     "iopub.status.busy": "2023-03-16T08:38:31.476462Z",
     "iopub.status.idle": "2023-03-16T08:38:31.577119Z",
     "shell.execute_reply": "2023-03-16T08:38:31.576823Z",
     "shell.execute_reply.started": "2023-03-16T08:38:31.478092Z"
    },
    "tags": []
   },
   "outputs": [],
   "source": [
    "pair = random_pairs[0]\n",
    "pair_data = data[data['hh_id'].isin(pair)].copy()\n",
    "pair_data.sort_values(by='time', inplace=True)\n",
    "random_iiqid_0 = np.random.choice(pair_data.loc[pair_data['hh_id']==pair[0], 'iiqid'].unique())\n",
    "random_iiqid_1 = np.random.choice(pair_data.loc[pair_data['hh_id']==pair[1], 'iiqid'].unique())\n",
    "serialize_id = {random_iiqid_0: 0, random_iiqid_1: 1}"
   ]
  },
  {
   "cell_type": "code",
   "execution_count": null,
   "id": "79a376b4-fa0e-40bb-9320-28809aff3c21",
   "metadata": {},
   "outputs": [],
   "source": []
  }
 ],
 "metadata": {
  "kernelspec": {
   "display_name": "Python 3 (ipykernel)",
   "language": "python",
   "name": "python3"
  },
  "language_info": {
   "codemirror_mode": {
    "name": "ipython",
    "version": 3
   },
   "file_extension": ".py",
   "mimetype": "text/x-python",
   "name": "python",
   "nbconvert_exporter": "python",
   "pygments_lexer": "ipython3",
   "version": "3.10.9"
  }
 },
 "nbformat": 4,
 "nbformat_minor": 5
}
