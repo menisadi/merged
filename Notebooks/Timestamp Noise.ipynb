{
 "cells": [
  {
   "cell_type": "markdown",
   "id": "51b20af9-3939-43aa-9c8c-c351a05ff600",
   "metadata": {},
   "source": [
    "# Timestamp Noise\n",
    "or - softenning the margins"
   ]
  },
  {
   "cell_type": "code",
   "execution_count": 1,
   "id": "e9d4a946-335b-4401-9242-dd435d76ccf3",
   "metadata": {
    "execution": {
     "iopub.execute_input": "2023-03-15T11:01:57.935053Z",
     "iopub.status.busy": "2023-03-15T11:01:57.933552Z",
     "iopub.status.idle": "2023-03-15T11:01:59.132253Z",
     "shell.execute_reply": "2023-03-15T11:01:59.131980Z",
     "shell.execute_reply.started": "2023-03-15T11:01:57.934967Z"
    },
    "tags": []
   },
   "outputs": [],
   "source": [
    "import numpy as np\n",
    "import pandas as pd\n",
    "import seaborn as sns\n",
    "import matplotlib.pyplot as plt\n",
    "sns.set(rc={'figure.figsize':(12,5)})\n",
    "%load_ext autoreload\n",
    "%autoreload 2 "
   ]
  },
  {
   "cell_type": "code",
   "execution_count": 157,
   "id": "1d5e7527-42f2-46be-9ff4-f67545726c44",
   "metadata": {
    "execution": {
     "iopub.execute_input": "2023-03-15T15:13:15.951888Z",
     "iopub.status.busy": "2023-03-15T15:13:15.950979Z",
     "iopub.status.idle": "2023-03-15T15:13:15.981055Z",
     "shell.execute_reply": "2023-03-15T15:13:15.980550Z",
     "shell.execute_reply.started": "2023-03-15T15:13:15.951820Z"
    },
    "tags": []
   },
   "outputs": [],
   "source": [
    "import re\n",
    "from tqdm import tqdm"
   ]
  },
  {
   "cell_type": "code",
   "execution_count": 88,
   "id": "f75634d6-ed3f-4055-a556-20ac72c65d66",
   "metadata": {
    "execution": {
     "iopub.execute_input": "2023-03-15T12:56:31.014727Z",
     "iopub.status.busy": "2023-03-15T12:56:31.014129Z",
     "iopub.status.idle": "2023-03-15T12:56:31.046099Z",
     "shell.execute_reply": "2023-03-15T12:56:31.045608Z",
     "shell.execute_reply.started": "2023-03-15T12:56:31.014687Z"
    },
    "tags": []
   },
   "outputs": [],
   "source": [
    "import sys\n",
    "import os\n",
    "sys.path.append(os.path.abspath('../modules'))\n",
    "from lnds import longest_non_decreasing_subsequence as lnds"
   ]
  },
  {
   "cell_type": "code",
   "execution_count": 3,
   "id": "92cd417b-0980-400d-8e7d-2f5d6ac9cb5f",
   "metadata": {
    "execution": {
     "iopub.execute_input": "2023-03-15T11:02:00.647400Z",
     "iopub.status.busy": "2023-03-15T11:02:00.646547Z",
     "iopub.status.idle": "2023-03-15T11:02:02.650403Z",
     "shell.execute_reply": "2023-03-15T11:02:02.649694Z",
     "shell.execute_reply.started": "2023-03-15T11:02:00.647341Z"
    },
    "tags": []
   },
   "outputs": [],
   "source": [
    "data = pd.read_parquet(\"../Data/10K_HH.parquet\")"
   ]
  },
  {
   "cell_type": "code",
   "execution_count": 4,
   "id": "6478b629-f451-47c2-8aa9-f46024a46d2b",
   "metadata": {
    "execution": {
     "iopub.execute_input": "2023-03-15T11:02:02.652059Z",
     "iopub.status.busy": "2023-03-15T11:02:02.651753Z",
     "iopub.status.idle": "2023-03-15T11:02:03.330545Z",
     "shell.execute_reply": "2023-03-15T11:02:03.330082Z",
     "shell.execute_reply.started": "2023-03-15T11:02:02.652042Z"
    },
    "tags": []
   },
   "outputs": [],
   "source": [
    "data = data[data[\"maid\"]==7]"
   ]
  },
  {
   "cell_type": "code",
   "execution_count": 5,
   "id": "8c6990b5-8414-414e-b6a4-e7794eed5de2",
   "metadata": {
    "execution": {
     "iopub.execute_input": "2023-03-15T11:02:03.844106Z",
     "iopub.status.busy": "2023-03-15T11:02:03.843182Z",
     "iopub.status.idle": "2023-03-15T11:02:04.272639Z",
     "shell.execute_reply": "2023-03-15T11:02:04.272209Z",
     "shell.execute_reply.started": "2023-03-15T11:02:03.844034Z"
    },
    "tags": []
   },
   "outputs": [],
   "source": [
    "data = data[data[\"time\"] >= pd.to_datetime(\"2022-12-01\")]"
   ]
  },
  {
   "cell_type": "code",
   "execution_count": 6,
   "id": "f8927694-1d1c-4c1d-bcc5-931cba57bede",
   "metadata": {
    "execution": {
     "iopub.execute_input": "2023-03-15T11:02:08.953681Z",
     "iopub.status.busy": "2023-03-15T11:02:08.952802Z",
     "iopub.status.idle": "2023-03-15T11:02:10.137895Z",
     "shell.execute_reply": "2023-03-15T11:02:10.137539Z",
     "shell.execute_reply.started": "2023-03-15T11:02:08.953621Z"
    },
    "tags": []
   },
   "outputs": [],
   "source": [
    "pattern = re.compile(r'^\\d+(\\.\\d+)*$')\n",
    "data = data[data.osversion.str.match(pattern)]"
   ]
  },
  {
   "cell_type": "code",
   "execution_count": 7,
   "id": "1f75563e-4b63-412b-9996-7803de86ef42",
   "metadata": {
    "execution": {
     "iopub.execute_input": "2023-03-15T11:02:10.138800Z",
     "iopub.status.busy": "2023-03-15T11:02:10.138708Z",
     "iopub.status.idle": "2023-03-15T11:02:11.646305Z",
     "shell.execute_reply": "2023-03-15T11:02:11.645776Z",
     "shell.execute_reply.started": "2023-03-15T11:02:10.138792Z"
    },
    "tags": []
   },
   "outputs": [],
   "source": [
    "pattern = re.compile(r'^\\d+(\\.\\d+)*$')\n",
    "data = data[data.browserversion.str.match(pattern)]"
   ]
  },
  {
   "cell_type": "markdown",
   "id": "40b6356d-9597-4fd3-bfb4-1e01fc1afe42",
   "metadata": {},
   "source": [
    "Sample tow cookies with the same ua"
   ]
  },
  {
   "cell_type": "code",
   "execution_count": 36,
   "id": "fb7380b0-0eec-47d4-bb73-485aa1bb8cf2",
   "metadata": {
    "execution": {
     "iopub.execute_input": "2023-03-15T11:37:36.364532Z",
     "iopub.status.busy": "2023-03-15T11:37:36.363262Z",
     "iopub.status.idle": "2023-03-15T11:37:36.397298Z",
     "shell.execute_reply": "2023-03-15T11:37:36.396681Z",
     "shell.execute_reply.started": "2023-03-15T11:37:36.364453Z"
    },
    "tags": []
   },
   "outputs": [],
   "source": [
    "constants = ['brand','model','os', 'osversion', 'browser', 'advertisedbrowser', 'browserversion']"
   ]
  },
  {
   "cell_type": "code",
   "execution_count": 37,
   "id": "4b7e762f-8987-4195-b418-d21bafa0e34d",
   "metadata": {
    "execution": {
     "iopub.execute_input": "2023-03-15T11:37:45.252840Z",
     "iopub.status.busy": "2023-03-15T11:37:45.252325Z",
     "iopub.status.idle": "2023-03-15T11:37:46.371683Z",
     "shell.execute_reply": "2023-03-15T11:37:46.371314Z",
     "shell.execute_reply.started": "2023-03-15T11:37:45.252802Z"
    },
    "tags": []
   },
   "outputs": [],
   "source": [
    "data_groups = data.groupby(constants)['iiqid'].nunique()"
   ]
  },
  {
   "cell_type": "code",
   "execution_count": 71,
   "id": "cfc716d4-c2a0-4be9-8387-ad61bedbd78c",
   "metadata": {
    "execution": {
     "iopub.execute_input": "2023-03-15T12:42:58.428385Z",
     "iopub.status.busy": "2023-03-15T12:42:58.427537Z",
     "iopub.status.idle": "2023-03-15T12:42:58.460115Z",
     "shell.execute_reply": "2023-03-15T12:42:58.459677Z",
     "shell.execute_reply.started": "2023-03-15T12:42:58.428319Z"
    },
    "tags": []
   },
   "outputs": [],
   "source": [
    "sample_specs = data_groups[data_groups > 1].sample().index.to_list()[0]"
   ]
  },
  {
   "cell_type": "code",
   "execution_count": 72,
   "id": "1914cc09-48ec-4d96-83ac-56cdb7c0a0e5",
   "metadata": {
    "execution": {
     "iopub.execute_input": "2023-03-15T12:42:59.114181Z",
     "iopub.status.busy": "2023-03-15T12:42:59.113685Z",
     "iopub.status.idle": "2023-03-15T12:43:00.355098Z",
     "shell.execute_reply": "2023-03-15T12:43:00.354661Z",
     "shell.execute_reply.started": "2023-03-15T12:42:59.114147Z"
    },
    "tags": []
   },
   "outputs": [],
   "source": [
    "sample_data = data[data[constants].eq(sample_specs).all(axis=1)].copy()\n",
    "sample_data.sort_values(by='time', inplace=True)"
   ]
  },
  {
   "cell_type": "code",
   "execution_count": 83,
   "id": "2279d760-73c0-46bc-a211-b92d7ea8ee58",
   "metadata": {
    "execution": {
     "iopub.execute_input": "2023-03-15T12:51:46.212934Z",
     "iopub.status.busy": "2023-03-15T12:51:46.211820Z",
     "iopub.status.idle": "2023-03-15T12:51:52.680025Z",
     "shell.execute_reply": "2023-03-15T12:51:52.679673Z",
     "shell.execute_reply.started": "2023-03-15T12:51:46.212866Z"
    },
    "tags": []
   },
   "outputs": [],
   "source": [
    "found = False\n",
    "limit = 1000\n",
    "while not found and limit > 0:\n",
    "    sample_specs = data_groups[data_groups > 1].sample().index.to_list()[0]\n",
    "    sample_data = data[data[constants].eq(sample_specs).all(axis=1)]\n",
    "    if sample_data['iiqid'].value_counts()[:2].min() > 10:\n",
    "        two_frequent = sample_data.loc[sample_data['iiqid'].isin(sample_data['iiqid'].value_counts()[:2].index)].copy()\n",
    "        two_frequent.sort_values(by='time', inplace=True)\n",
    "        found = True\n",
    "    limit -= 1"
   ]
  },
  {
   "cell_type": "code",
   "execution_count": 95,
   "id": "c622ffcf-13d4-4b47-8daf-df11b6b04546",
   "metadata": {
    "execution": {
     "iopub.execute_input": "2023-03-15T13:01:26.594357Z",
     "iopub.status.busy": "2023-03-15T13:01:26.592843Z",
     "iopub.status.idle": "2023-03-15T13:01:26.788774Z",
     "shell.execute_reply": "2023-03-15T13:01:26.788272Z",
     "shell.execute_reply.started": "2023-03-15T13:01:26.594272Z"
    },
    "tags": []
   },
   "outputs": [
    {
     "data": {
      "text/plain": [
       "<Axes: xlabel='time', ylabel='iiqid'>"
      ]
     },
     "execution_count": 95,
     "metadata": {},
     "output_type": "execute_result"
    },
    {
     "data": {
      "image/png": "[encoded data removed]",
      "text/plain": [
       "<Figure size 1200x500 with 1 Axes>"
      ]
     },
     "metadata": {},
     "output_type": "display_data"
    }
   ],
   "source": [
    "# sns.stripplot(data=two_frequent, x='time', y='browserversion', hue='iiqid')\n",
    "sns.stripplot(data=two_frequent, x='time', y='iiqid')"
   ]
  },
  {
   "cell_type": "code",
   "execution_count": 90,
   "id": "c9f273c9-ba91-4bb5-9618-3cb492870043",
   "metadata": {
    "execution": {
     "iopub.execute_input": "2023-03-15T12:58:58.276208Z",
     "iopub.status.busy": "2023-03-15T12:58:58.275288Z",
     "iopub.status.idle": "2023-03-15T12:58:58.306109Z",
     "shell.execute_reply": "2023-03-15T12:58:58.305632Z",
     "shell.execute_reply.started": "2023-03-15T12:58:58.276148Z"
    },
    "tags": []
   },
   "outputs": [],
   "source": [
    "serialize_id = {iiq: i for i, iiq in enumerate(two_frequent['iiqid'].unique())}"
   ]
  },
  {
   "cell_type": "code",
   "execution_count": 91,
   "id": "f77e542e-ebdb-4c3b-bda0-bf22dccc4dea",
   "metadata": {
    "execution": {
     "iopub.execute_input": "2023-03-15T13:00:17.571803Z",
     "iopub.status.busy": "2023-03-15T13:00:17.571124Z",
     "iopub.status.idle": "2023-03-15T13:00:17.616212Z",
     "shell.execute_reply": "2023-03-15T13:00:17.615855Z",
     "shell.execute_reply.started": "2023-03-15T13:00:17.571738Z"
    },
    "tags": []
   },
   "outputs": [],
   "source": [
    "two_frequent['iiqid_num'] = two_frequent['iiqid'].apply(lambda x: serialize_id[x])"
   ]
  },
  {
   "cell_type": "code",
   "execution_count": 105,
   "id": "5f26defb-e0ac-497b-93ef-a83db934a3ba",
   "metadata": {
    "execution": {
     "iopub.execute_input": "2023-03-15T13:14:00.050452Z",
     "iopub.status.busy": "2023-03-15T13:14:00.049601Z",
     "iopub.status.idle": "2023-03-15T13:14:00.113214Z",
     "shell.execute_reply": "2023-03-15T13:14:00.112643Z",
     "shell.execute_reply.started": "2023-03-15T13:14:00.050355Z"
    },
    "tags": []
   },
   "outputs": [],
   "source": [
    "s, inds = lnds(two_frequent['iiqid_num'].values)\n",
    "not_inds = [i for i in range(len(two_frequent)) if i not in inds]"
   ]
  },
  {
   "cell_type": "code",
   "execution_count": 104,
   "id": "6136f611-e306-4fb4-bba3-a6ad4aff63d0",
   "metadata": {
    "execution": {
     "iopub.execute_input": "2023-03-15T13:04:49.828885Z",
     "iopub.status.busy": "2023-03-15T13:04:49.827939Z",
     "iopub.status.idle": "2023-03-15T13:04:50.019984Z",
     "shell.execute_reply": "2023-03-15T13:04:50.019499Z",
     "shell.execute_reply.started": "2023-03-15T13:04:49.828805Z"
    },
    "tags": []
   },
   "outputs": [
    {
     "data": {
      "text/plain": [
       "<Axes: xlabel='time', ylabel='iiqid'>"
      ]
     },
     "execution_count": 104,
     "metadata": {},
     "output_type": "execute_result"
    },
    {
     "data": {
      "image/png": "[encoded data removed]",
      "text/plain": [
       "<Figure size 1200x500 with 1 Axes>"
      ]
     },
     "metadata": {},
     "output_type": "display_data"
    }
   ],
   "source": [
    "sns.stripplot(data=two_frequent.iloc[inds], x='time', y='iiqid')"
   ]
  },
  {
   "cell_type": "code",
   "execution_count": 111,
   "id": "e99eeec4-96a1-4d33-9fde-89bcd8983c30",
   "metadata": {
    "execution": {
     "iopub.execute_input": "2023-03-15T13:21:51.375558Z",
     "iopub.status.busy": "2023-03-15T13:21:51.374868Z",
     "iopub.status.idle": "2023-03-15T13:21:51.548224Z",
     "shell.execute_reply": "2023-03-15T13:21:51.547657Z",
     "shell.execute_reply.started": "2023-03-15T13:21:51.375504Z"
    },
    "tags": []
   },
   "outputs": [
    {
     "data": {
      "text/plain": [
       "[Text(0, 0, 'GhTV3gVyzK'), Text(0, 1, 'BDAIAsqYLO')]"
      ]
     },
     "execution_count": 111,
     "metadata": {},
     "output_type": "execute_result"
    },
    {
     "data": {
      "image/png": "[encoded data removed]",
      "text/plain": [
       "<Figure size 1200x500 with 1 Axes>"
      ]
     },
     "metadata": {},
     "output_type": "display_data"
    }
   ],
   "source": [
    "fig, ax = plt.subplots()\n",
    "ax.scatter(two_frequent['time'].iloc[not_inds], \n",
    "           [v for i, v in enumerate(two_frequent['iiqid_num'].values) if i in not_inds], s=100, c='r', marker='x')\n",
    "ax.scatter(two_frequent.time.iloc[inds], s, c='g', marker='o')\n",
    "# ax.set_title(f\"Cookie's iiqid: {one_cookie_id}\")\n",
    "# ax.set_yticks(range(min(two_frequent['iiqid_num'].values), max(two_frequent['iiqid_num'].values)+1))\n",
    "ax.set_yticks([0,1])\n",
    "ax.set_yticklabels(two_frequent['iiqid'].unique())"
   ]
  },
  {
   "cell_type": "code",
   "execution_count": 113,
   "id": "c670f869-9773-40d5-8e37-bdaa21d9f8f0",
   "metadata": {
    "execution": {
     "iopub.execute_input": "2023-03-15T13:25:24.664750Z",
     "iopub.status.busy": "2023-03-15T13:25:24.663807Z",
     "iopub.status.idle": "2023-03-15T13:25:24.704013Z",
     "shell.execute_reply": "2023-03-15T13:25:24.703585Z",
     "shell.execute_reply.started": "2023-03-15T13:25:24.664667Z"
    },
    "tags": []
   },
   "outputs": [
    {
     "data": {
      "text/plain": [
       "0.7268292682926829"
      ]
     },
     "execution_count": 113,
     "metadata": {},
     "output_type": "execute_result"
    }
   ],
   "source": [
    "len(s)/ len(two_frequent)"
   ]
  },
  {
   "cell_type": "markdown",
   "id": "e7caaa1a-e251-45de-8ae7-a93808dfd3bb",
   "metadata": {
    "execution": {
     "iopub.execute_input": "2023-03-15T13:34:03.827037Z",
     "iopub.status.busy": "2023-03-15T13:34:03.825624Z",
     "iopub.status.idle": "2023-03-15T13:34:03.877601Z",
     "shell.execute_reply": "2023-03-15T13:34:03.877123Z",
     "shell.execute_reply.started": "2023-03-15T13:34:03.826983Z"
    },
    "tags": []
   },
   "source": [
    "## Randomize Trial"
   ]
  },
  {
   "cell_type": "markdown",
   "id": "184fa8a0-0d2e-447b-a86b-f16453196449",
   "metadata": {},
   "source": [
    "### Random Pairs"
   ]
  },
  {
   "cell_type": "code",
   "execution_count": 136,
   "id": "3734a642-922c-4715-b087-c6c2edf24ac7",
   "metadata": {
    "execution": {
     "iopub.execute_input": "2023-03-15T14:50:57.170628Z",
     "iopub.status.busy": "2023-03-15T14:50:57.169720Z",
     "iopub.status.idle": "2023-03-15T14:50:57.200592Z",
     "shell.execute_reply": "2023-03-15T14:50:57.199908Z",
     "shell.execute_reply.started": "2023-03-15T14:50:57.170566Z"
    },
    "tags": []
   },
   "outputs": [],
   "source": [
    "from itertools import combinations\n",
    "import random"
   ]
  },
  {
   "cell_type": "code",
   "execution_count": 132,
   "id": "36394424-3dce-46dc-99ae-5f6681d70eb4",
   "metadata": {
    "execution": {
     "iopub.execute_input": "2023-03-15T14:49:17.345451Z",
     "iopub.status.busy": "2023-03-15T14:49:17.343736Z",
     "iopub.status.idle": "2023-03-15T14:49:18.983783Z",
     "shell.execute_reply": "2023-03-15T14:49:18.983314Z",
     "shell.execute_reply.started": "2023-03-15T14:49:17.345374Z"
    },
    "tags": []
   },
   "outputs": [],
   "source": [
    "houses = data['hh_id'].unique()\n",
    "pairs = list(combinations(houses, 2))"
   ]
  },
  {
   "cell_type": "code",
   "execution_count": 137,
   "id": "cf3b8b80-6f50-4133-bf03-120f076c9927",
   "metadata": {
    "execution": {
     "iopub.execute_input": "2023-03-15T14:51:24.626287Z",
     "iopub.status.busy": "2023-03-15T14:51:24.625408Z",
     "iopub.status.idle": "2023-03-15T14:51:24.662618Z",
     "shell.execute_reply": "2023-03-15T14:51:24.662193Z",
     "shell.execute_reply.started": "2023-03-15T14:51:24.626207Z"
    },
    "tags": []
   },
   "outputs": [],
   "source": [
    "sample_size = 1000\n",
    "random_pairs = random.sample(pairs, sample_size)"
   ]
  },
  {
   "cell_type": "code",
   "execution_count": 146,
   "id": "bb5438b5-1e0c-4cab-9e1e-3daf5ab26282",
   "metadata": {
    "execution": {
     "iopub.execute_input": "2023-03-15T15:07:41.298231Z",
     "iopub.status.busy": "2023-03-15T15:07:41.296589Z",
     "iopub.status.idle": "2023-03-15T15:07:41.398605Z",
     "shell.execute_reply": "2023-03-15T15:07:41.398293Z",
     "shell.execute_reply.started": "2023-03-15T15:07:41.298145Z"
    },
    "tags": []
   },
   "outputs": [],
   "source": [
    "pair = random_pairs[0]\n",
    "pair_data = data[data['hh_id'].isin(pair)].copy()\n",
    "pair_data.sort_values(by='time', inplace=True)\n",
    "random_iiqid_0 = np.random.choice(pair_data.loc[pair_data['hh_id']==pair[0], 'iiqid'].unique())\n",
    "random_iiqid_1 = np.random.choice(pair_data.loc[pair_data['hh_id']==pair[1], 'iiqid'].unique())\n",
    "serialize_id = {random_iiqid_0: 0, random_iiqid_1: 1}"
   ]
  },
  {
   "cell_type": "code",
   "execution_count": 150,
   "id": "8f3dd5f6-5af7-4e86-9c44-f6db201fac93",
   "metadata": {
    "execution": {
     "iopub.execute_input": "2023-03-15T15:09:26.976181Z",
     "iopub.status.busy": "2023-03-15T15:09:26.975294Z",
     "iopub.status.idle": "2023-03-15T15:09:27.009784Z",
     "shell.execute_reply": "2023-03-15T15:09:27.009089Z",
     "shell.execute_reply.started": "2023-03-15T15:09:26.976119Z"
    },
    "tags": []
   },
   "outputs": [
    {
     "data": {
      "text/plain": [
       "{'2h9dQiCeUt': 0, 'yXzjL8h3KQ': 1}"
      ]
     },
     "execution_count": 150,
     "metadata": {},
     "output_type": "execute_result"
    }
   ],
   "source": [
    "serialize_id"
   ]
  },
  {
   "cell_type": "code",
   "execution_count": 153,
   "id": "b627e96a-5dea-41a1-abff-36971a76178f",
   "metadata": {
    "execution": {
     "iopub.execute_input": "2023-03-15T15:11:40.986778Z",
     "iopub.status.busy": "2023-03-15T15:11:40.986244Z",
     "iopub.status.idle": "2023-03-15T15:11:41.016257Z",
     "shell.execute_reply": "2023-03-15T15:11:41.015909Z",
     "shell.execute_reply.started": "2023-03-15T15:11:40.986732Z"
    },
    "tags": []
   },
   "outputs": [
    {
     "data": {
      "text/plain": [
       "5156556    True\n",
       "5156555    True\n",
       "6302737    True\n",
       "6302736    True\n",
       "6302735    True\n",
       "           ... \n",
       "5156334    True\n",
       "5156333    True\n",
       "5156332    True\n",
       "6302598    True\n",
       "6302597    True\n",
       "Name: iiqid, Length: 391, dtype: bool"
      ]
     },
     "execution_count": 153,
     "metadata": {},
     "output_type": "execute_result"
    }
   ],
   "source": [
    "pair_data['iiqid'].isin([random_iiqid_0, random_iiqid_1])"
   ]
  },
  {
   "cell_type": "code",
   "execution_count": 212,
   "id": "76318667-5058-42e6-a1e8-490473c4dbda",
   "metadata": {
    "execution": {
     "iopub.execute_input": "2023-03-15T15:38:32.724108Z",
     "iopub.status.busy": "2023-03-15T15:38:32.723592Z",
     "iopub.status.idle": "2023-03-15T15:39:20.252388Z",
     "shell.execute_reply": "2023-03-15T15:39:20.251799Z",
     "shell.execute_reply.started": "2023-03-15T15:38:32.724076Z"
    },
    "tags": []
   },
   "outputs": [
    {
     "name": "stderr",
     "output_type": "stream",
     "text": [
      "100%|███████████████████████████████████████| 1000/1000 [00:47<00:00, 21.06it/s]\n"
     ]
    }
   ],
   "source": [
    "noise_of_pairs = []\n",
    "for pair in tqdm(random_pairs):\n",
    "    pair_data = data[data['hh_id'].isin(pair)].copy()\n",
    "    pair_data.sort_values(by='time', inplace=True)\n",
    "    random_iiqid_0 = np.random.choice(pair_data.loc[pair_data['hh_id']==pair[0], 'iiqid'].unique())\n",
    "    random_iiqid_1 = np.random.choice(pair_data.loc[pair_data['hh_id']==pair[1], 'iiqid'].unique())\n",
    "    serialize_id = {random_iiqid_0: 0, random_iiqid_1: 1}\n",
    "    pair_data = pair_data[pair_data['iiqid'].isin([random_iiqid_0, random_iiqid_1])]\n",
    "    s, inds = lnds(pair_data['iiqid'].apply(lambda x: serialize_id[x]).values)\n",
    "    not_inds = [i for i in range(len(pair_data)) if i not in inds]\n",
    "    noise_of_pairs.append(len(s) / len(pair_data))"
   ]
  },
  {
   "cell_type": "code",
   "execution_count": 214,
   "id": "c4735aff-00e0-498a-84b1-f7278f36a560",
   "metadata": {
    "execution": {
     "iopub.execute_input": "2023-03-15T15:39:20.329714Z",
     "iopub.status.busy": "2023-03-15T15:39:20.329586Z",
     "iopub.status.idle": "2023-03-15T15:39:20.488933Z",
     "shell.execute_reply": "2023-03-15T15:39:20.488653Z",
     "shell.execute_reply.started": "2023-03-15T15:39:20.329705Z"
    },
    "tags": []
   },
   "outputs": [
    {
     "data": {
      "image/png": "[encoded data removed]",
      "text/plain": [
       "<Figure size 1200x500 with 1 Axes>"
      ]
     },
     "metadata": {},
     "output_type": "display_data"
    }
   ],
   "source": [
    "plt.hist([1-i for i in noise_of_pairs], alpha=0.8, bins=50);"
   ]
  },
  {
   "cell_type": "code",
   "execution_count": 238,
   "id": "436be588-7839-4976-90d7-f4ff79479fdd",
   "metadata": {
    "execution": {
     "iopub.execute_input": "2023-03-15T15:44:28.076856Z",
     "iopub.status.busy": "2023-03-15T15:44:28.075055Z",
     "iopub.status.idle": "2023-03-15T15:44:28.190612Z",
     "shell.execute_reply": "2023-03-15T15:44:28.190129Z",
     "shell.execute_reply.started": "2023-03-15T15:44:28.076790Z"
    },
    "tags": []
   },
   "outputs": [
    {
     "name": "stdout",
     "output_type": "stream",
     "text": [
      "First cookie fraction: 0.01\n",
      "First cookie fraction: 0.99\n",
      "Noise: 0.010000000000000009\n"
     ]
    }
   ],
   "source": [
    "pair = random_pairs[int(np.random.randint(0, len(random_pairs), 1))]\n",
    "pair_data = data[data['hh_id'].isin(pair)].copy()\n",
    "pair_data.sort_values(by='time', inplace=True)\n",
    "random_iiqid_0 = np.random.choice(pair_data.loc[pair_data['hh_id']==pair[0], 'iiqid'].unique())\n",
    "random_iiqid_1 = np.random.choice(pair_data.loc[pair_data['hh_id']==pair[1], 'iiqid'].unique())\n",
    "serialize_id = {random_iiqid_0: 0, random_iiqid_1: 1}\n",
    "pair_data = pair_data[pair_data['iiqid'].isin([random_iiqid_0, random_iiqid_1])]\n",
    "print(f\"First cookie fraction: {(sum(pair_data['iiqid']==random_iiqid_0))/len(pair_data)}\")\n",
    "print(f\"First cookie fraction: {(sum(pair_data['iiqid']==random_iiqid_1))/len(pair_data)}\")\n",
    "s, inds = lnds(pair_data['iiqid'].apply(lambda x: serialize_id[x]).values)\n",
    "not_inds = [i for i in range(len(pair_data)) if i not in inds]\n",
    "print(f\"Noise: {1 - len(s) / len(pair_data)}\")"
   ]
  },
  {
   "cell_type": "code",
   "execution_count": 239,
   "id": "87d25c34-7c4e-459e-9f47-61e0cb0a64fb",
   "metadata": {
    "execution": {
     "iopub.execute_input": "2023-03-15T15:44:28.721103Z",
     "iopub.status.busy": "2023-03-15T15:44:28.720222Z",
     "iopub.status.idle": "2023-03-15T15:44:28.751097Z",
     "shell.execute_reply": "2023-03-15T15:44:28.750508Z",
     "shell.execute_reply.started": "2023-03-15T15:44:28.721033Z"
    },
    "tags": []
   },
   "outputs": [
    {
     "name": "stdout",
     "output_type": "stream",
     "text": [
      "Noise: 0.010000000000000009\n",
      "Noise: 0.010101010101010102\n"
     ]
    }
   ],
   "source": [
    "print(f\"Noise: {1 - len(s) / len(pair_data)}\")\n",
    "print(f\"Noise: {len(not_inds) / len(inds)}\")"
   ]
  },
  {
   "cell_type": "code",
   "execution_count": 241,
   "id": "0e66b83b-ce12-41d2-bdf9-2705066b1815",
   "metadata": {
    "execution": {
     "iopub.execute_input": "2023-03-15T15:44:31.057672Z",
     "iopub.status.busy": "2023-03-15T15:44:31.056791Z",
     "iopub.status.idle": "2023-03-15T15:44:31.248583Z",
     "shell.execute_reply": "2023-03-15T15:44:31.248085Z",
     "shell.execute_reply.started": "2023-03-15T15:44:31.057612Z"
    },
    "tags": []
   },
   "outputs": [
    {
     "data": {
      "text/plain": [
       "Text(0.5, 1.0, 'Noise: 0.010000000000000009')"
      ]
     },
     "execution_count": 241,
     "metadata": {},
     "output_type": "execute_result"
    },
    {
     "data": {
      "image/png": "[encoded data removed]",
      "text/plain": [
       "<Figure size 1200x500 with 1 Axes>"
      ]
     },
     "metadata": {},
     "output_type": "display_data"
    }
   ],
   "source": [
    "plt.scatter(pair_data['time'].iloc[not_inds], \n",
    "           [v for i, v in enumerate(pair_data['iiqid'].values) if i in not_inds], s=100, c='r', marker='x')\n",
    "plt.scatter(pair_data.time.iloc[inds], \n",
    "            [v for i, v in enumerate(pair_data['iiqid'].values) if i in inds], c='g', marker='o', alpha=0.3)\n",
    "plt.title(f\"Noise: {1 - len(s) / len(pair_data)}\")"
   ]
  },
  {
   "cell_type": "code",
   "execution_count": 243,
   "id": "db617122-3396-4412-8001-625fd4033eb6",
   "metadata": {
    "execution": {
     "iopub.execute_input": "2023-03-15T15:45:49.496697Z",
     "iopub.status.busy": "2023-03-15T15:45:49.495819Z",
     "iopub.status.idle": "2023-03-15T15:45:49.535206Z",
     "shell.execute_reply": "2023-03-15T15:45:49.534812Z",
     "shell.execute_reply.started": "2023-03-15T15:45:49.496637Z"
    },
    "tags": []
   },
   "outputs": [
    {
     "data": {
      "text/plain": [
       "count    1000.000000\n",
       "mean        0.111778\n",
       "std         0.123670\n",
       "min         0.000000\n",
       "25%         0.009501\n",
       "50%         0.062500\n",
       "75%         0.183732\n",
       "max         0.500000\n",
       "dtype: float64"
      ]
     },
     "execution_count": 243,
     "metadata": {},
     "output_type": "execute_result"
    }
   ],
   "source": [
    "pd.Series([1-i for i in noise_of_pairs]).describe()"
   ]
  },
  {
   "cell_type": "code",
   "execution_count": 248,
   "id": "090c00ec-6793-42ed-b435-7919413e14ae",
   "metadata": {
    "execution": {
     "iopub.execute_input": "2023-03-15T15:48:45.429946Z",
     "iopub.status.busy": "2023-03-15T15:48:45.429064Z",
     "iopub.status.idle": "2023-03-15T15:48:45.459001Z",
     "shell.execute_reply": "2023-03-15T15:48:45.458512Z",
     "shell.execute_reply.started": "2023-03-15T15:48:45.429884Z"
    },
    "tags": []
   },
   "outputs": [],
   "source": [
    "zeros = [j for j, i in enumerate(noise_of_pairs) if i == 1]"
   ]
  },
  {
   "cell_type": "code",
   "execution_count": 279,
   "id": "3cbd072f-43fa-4d25-8306-2d737030724a",
   "metadata": {
    "execution": {
     "iopub.execute_input": "2023-03-15T15:54:47.462731Z",
     "iopub.status.busy": "2023-03-15T15:54:47.462018Z",
     "iopub.status.idle": "2023-03-15T15:54:47.559142Z",
     "shell.execute_reply": "2023-03-15T15:54:47.558812Z",
     "shell.execute_reply.started": "2023-03-15T15:54:47.462685Z"
    },
    "tags": []
   },
   "outputs": [
    {
     "name": "stdout",
     "output_type": "stream",
     "text": [
      "True\n"
     ]
    }
   ],
   "source": [
    "found = False\n",
    "limit = 1000\n",
    "while not found and limit > 0:\n",
    "    pair = random_pairs[random.sample(zeros, 1)[0]]\n",
    "    pair_data = data[data['hh_id'].isin(pair)].copy()\n",
    "    pair_data.sort_values(by='time', inplace=True)\n",
    "    random_iiqid_0 = np.random.choice(pair_data.loc[pair_data['hh_id']==pair[0], 'iiqid'].unique())\n",
    "    random_iiqid_1 = np.random.choice(pair_data.loc[pair_data['hh_id']==pair[1], 'iiqid'].unique())\n",
    "    serialize_id = {random_iiqid_0: 0, random_iiqid_1: 1}\n",
    "    pair_data = pair_data[pair_data['iiqid'].isin([random_iiqid_0, random_iiqid_1])]\n",
    "    # print(f\"First cookie fraction: {(sum(pair_data['iiqid']==random_iiqid_0))/len(pair_data)}\")\n",
    "    # print(f\"First cookie fraction: {(sum(pair_data['iiqid']==random_iiqid_1))/len(pair_data)}\")\n",
    "    if 0.9 > (sum(pair_data['iiqid']==random_iiqid_0))/len(pair_data) > 0.1:\n",
    "        if sum(pair_data['iiqid']==random_iiqid_0) > 2 and sum(pair_data['iiqid']==random_iiqid_1) > 2:\n",
    "            found = True\n",
    "            s, inds = lnds(pair_data['iiqid'].apply(lambda x: serialize_id[x]).values)\n",
    "            not_inds = [i for i in range(len(pair_data)) if i not in inds]\n",
    "    limit -= 1\n",
    "print(found)\n",
    "    # print(f\"Noise: {1 - len(s) / len(pair_data)}\")"
   ]
  },
  {
   "cell_type": "code",
   "execution_count": 280,
   "id": "bec7149e-9b4f-45b2-8ec9-f4b0c05e449e",
   "metadata": {
    "execution": {
     "iopub.execute_input": "2023-03-15T15:54:47.644450Z",
     "iopub.status.busy": "2023-03-15T15:54:47.644060Z",
     "iopub.status.idle": "2023-03-15T15:54:47.819607Z",
     "shell.execute_reply": "2023-03-15T15:54:47.819102Z",
     "shell.execute_reply.started": "2023-03-15T15:54:47.644434Z"
    },
    "tags": []
   },
   "outputs": [
    {
     "data": {
      "text/plain": [
       "Text(0.5, 1.0, 'Noise: 0.13157894736842102')"
      ]
     },
     "execution_count": 280,
     "metadata": {},
     "output_type": "execute_result"
    },
    {
     "data": {
      "image/png": "[encoded data removed]",
      "text/plain": [
       "<Figure size 1200x500 with 1 Axes>"
      ]
     },
     "metadata": {},
     "output_type": "display_data"
    }
   ],
   "source": [
    "plt.scatter(pair_data['time'].iloc[not_inds], \n",
    "           [v for i, v in enumerate(pair_data['iiqid'].values) if i in not_inds], s=100, c='r', marker='x')\n",
    "plt.scatter(pair_data.time.iloc[inds], \n",
    "            [v for i, v in enumerate(pair_data['iiqid'].values) if i in inds], c='g', marker='o', alpha=0.6)\n",
    "plt.title(f\"Noise: {1 - len(s) / len(pair_data)}\")"
   ]
  },
  {
   "cell_type": "markdown",
   "id": "f1f58b2a-e77d-4a0b-9757-eba0eff64c67",
   "metadata": {
    "tags": []
   },
   "source": [
    "### All pairs with the same constant part"
   ]
  },
  {
   "cell_type": "code",
   "execution_count": null,
   "id": "947c3d85-8e31-4415-907d-69ed2784ff9b",
   "metadata": {},
   "outputs": [],
   "source": [
    "def overlap(cookies):\n",
    "    "
   ]
  },
  {
   "cell_type": "code",
   "execution_count": 122,
   "id": "223ba120-ef1e-4307-ad8c-3a2fbd431bee",
   "metadata": {
    "execution": {
     "iopub.execute_input": "2023-03-15T13:45:04.162779Z",
     "iopub.status.busy": "2023-03-15T13:45:04.161372Z",
     "iopub.status.idle": "2023-03-15T13:45:05.290133Z",
     "shell.execute_reply": "2023-03-15T13:45:05.289633Z",
     "shell.execute_reply.started": "2023-03-15T13:45:04.162693Z"
    },
    "tags": []
   },
   "outputs": [],
   "source": [
    "data_groups = data.groupby(constants)['hh_id'].nunique()"
   ]
  },
  {
   "cell_type": "code",
   "execution_count": 126,
   "id": "25606cac-0c33-461a-9886-f03af6e4f174",
   "metadata": {
    "execution": {
     "iopub.execute_input": "2023-03-15T13:45:52.648342Z",
     "iopub.status.busy": "2023-03-15T13:45:52.646651Z",
     "iopub.status.idle": "2023-03-15T13:45:52.705820Z",
     "shell.execute_reply": "2023-03-15T13:45:52.705365Z",
     "shell.execute_reply.started": "2023-03-15T13:45:52.648263Z"
    },
    "tags": []
   },
   "outputs": [],
   "source": [
    "indices = data_groups[data_groups > 1].index.to_list()"
   ]
  },
  {
   "cell_type": "code",
   "execution_count": null,
   "id": "0cdf97e8-73a9-4c72-9f05-32c5abef12c7",
   "metadata": {},
   "outputs": [],
   "source": [
    "data[data[constants].eq(sample_specs).all(axis=1)].copy()"
   ]
  },
  {
   "cell_type": "code",
   "execution_count": 72,
   "id": "6117ed35-ff27-4532-8ac5-18dab3743958",
   "metadata": {
    "execution": {
     "iopub.execute_input": "2023-03-15T12:42:59.114181Z",
     "iopub.status.busy": "2023-03-15T12:42:59.113685Z",
     "iopub.status.idle": "2023-03-15T12:43:00.355098Z",
     "shell.execute_reply": "2023-03-15T12:43:00.354661Z",
     "shell.execute_reply.started": "2023-03-15T12:42:59.114147Z"
    },
    "tags": []
   },
   "outputs": [],
   "source": [
    "sample_data = data[data[constants].eq(sample_specs).all(axis=1)].copy()\n",
    "sample_data.sort_values(by='time', inplace=True)"
   ]
  },
  {
   "cell_type": "code",
   "execution_count": 121,
   "id": "84b4ae69-a609-4ff2-8292-182844f3b7df",
   "metadata": {
    "execution": {
     "iopub.execute_input": "2023-03-15T13:44:32.489250Z",
     "iopub.status.busy": "2023-03-15T13:44:32.488345Z",
     "iopub.status.idle": "2023-03-15T13:44:33.608522Z",
     "shell.execute_reply": "2023-03-15T13:44:33.607911Z",
     "shell.execute_reply.started": "2023-03-15T13:44:32.489185Z"
    },
    "tags": []
   },
   "outputs": [
    {
     "data": {
      "text/plain": [
       "brand  model   os       osversion  browser        advertisedbrowser    browserversion\n",
       "acer   b3-a40  android  7.0        chrome mobile  Chrome Mobile        107.0.0.0         1\n",
       "                                                                       108.0.0.0         2\n",
       "                                                                       109.0.0.0         2\n",
       "                                                                       69.0.3497.100     1\n",
       "                                                  Facebook on Android  7.0               2\n",
       "                                                                                        ..\n",
       "zte    z982    android  7.1.1      chrome mobile  Chromium             110.0.5481.65     1\n",
       "       zr01    android  10         chrome mobile  Chrome Mobile        100.0.4896.127    1\n",
       "                                                                       108.0.0.0         1\n",
       "                                                                       109.0.0.0         1\n",
       "                                                  Facebook on Android  10                1\n",
       "Name: hh_id, Length: 17227, dtype: int64"
      ]
     },
     "execution_count": 121,
     "metadata": {},
     "output_type": "execute_result"
    }
   ],
   "source": [
    "data.groupby(constants)['hh_id'].nunique()"
   ]
  },
  {
   "cell_type": "code",
   "execution_count": null,
   "id": "f794782e-3b76-43b1-8400-d99ca343756e",
   "metadata": {},
   "outputs": [],
   "source": []
  }
 ],
 "metadata": {
  "kernelspec": {
   "display_name": "Python 3 (ipykernel)",
   "language": "python",
   "name": "python3"
  },
  "language_info": {
   "codemirror_mode": {
    "name": "ipython",
    "version": 3
   },
   "file_extension": ".py",
   "mimetype": "text/x-python",
   "name": "python",
   "nbconvert_exporter": "python",
   "pygments_lexer": "ipython3",
   "version": "3.10.10"
  }
 },
 "nbformat": 4,
 "nbformat_minor": 5
}
