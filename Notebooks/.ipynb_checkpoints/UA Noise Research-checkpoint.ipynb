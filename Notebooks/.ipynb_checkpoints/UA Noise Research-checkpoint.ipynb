{
 "cells": [
  {
   "cell_type": "code",
   "execution_count": 216,
   "id": "79b4e6bf-b2c3-4d6f-8a06-aac5aa4b7950",
   "metadata": {
    "execution": {
     "iopub.execute_input": "2023-03-12T10:07:44.920503Z",
     "iopub.status.busy": "2023-03-12T10:07:44.918349Z",
     "iopub.status.idle": "2023-03-12T10:07:44.966568Z",
     "shell.execute_reply": "2023-03-12T10:07:44.966103Z",
     "shell.execute_reply.started": "2023-03-12T10:07:44.920408Z"
    },
    "tags": []
   },
   "outputs": [
    {
     "name": "stdout",
     "output_type": "stream",
     "text": [
      "The autoreload extension is already loaded. To reload it, use:\n",
      "  %reload_ext autoreload\n"
     ]
    }
   ],
   "source": [
    "import numpy as np\n",
    "import pandas as pd\n",
    "import seaborn as sns\n",
    "import matplotlib.pyplot as plt\n",
    "import matplotlib.dates as mdates\n",
    "sns.set(rc={'figure.figsize':(12,5)})\n",
    "%load_ext autoreload\n",
    "%autoreload 2 "
   ]
  },
  {
   "cell_type": "code",
   "execution_count": 2,
   "id": "29c1c2eb-313a-4b0c-9445-5ce1deb0cd72",
   "metadata": {
    "execution": {
     "iopub.execute_input": "2023-03-12T07:57:33.867307Z",
     "iopub.status.busy": "2023-03-12T07:57:33.867145Z",
     "iopub.status.idle": "2023-03-12T07:57:33.881194Z",
     "shell.execute_reply": "2023-03-12T07:57:33.880850Z",
     "shell.execute_reply.started": "2023-03-12T07:57:33.867298Z"
    },
    "tags": []
   },
   "outputs": [],
   "source": [
    "import sys\n",
    "import os\n",
    "import itertools\n",
    "import re\n",
    "from functools import cmp_to_key\n",
    "sys.path.append(os.path.abspath('../modules'))\n",
    "from hard_rules import candidate_cookies, versions_key, compare_versions"
   ]
  },
  {
   "cell_type": "code",
   "execution_count": 3,
   "id": "df85c712-94ef-41d3-9d9d-94bb54dda496",
   "metadata": {
    "execution": {
     "iopub.execute_input": "2023-03-12T07:57:36.244787Z",
     "iopub.status.busy": "2023-03-12T07:57:36.244402Z",
     "iopub.status.idle": "2023-03-12T07:57:38.389556Z",
     "shell.execute_reply": "2023-03-12T07:57:38.388909Z",
     "shell.execute_reply.started": "2023-03-12T07:57:36.244762Z"
    },
    "tags": []
   },
   "outputs": [],
   "source": [
    "data = pd.read_parquet(\"../Data/10K_HH.parquet\")"
   ]
  },
  {
   "cell_type": "code",
   "execution_count": 4,
   "id": "b6fdaf01-7cff-46fb-9657-b9c5e08d948c",
   "metadata": {
    "execution": {
     "iopub.execute_input": "2023-03-12T07:57:57.087674Z",
     "iopub.status.busy": "2023-03-12T07:57:57.086811Z",
     "iopub.status.idle": "2023-03-12T07:57:57.913287Z",
     "shell.execute_reply": "2023-03-12T07:57:57.912636Z",
     "shell.execute_reply.started": "2023-03-12T07:57:57.087596Z"
    },
    "tags": []
   },
   "outputs": [],
   "source": [
    "data = data[data[\"maid\"]==7]"
   ]
  },
  {
   "cell_type": "code",
   "execution_count": 5,
   "id": "76286cb0-267a-4492-a14f-f96764e9c9ae",
   "metadata": {
    "execution": {
     "iopub.execute_input": "2023-03-12T07:57:58.888437Z",
     "iopub.status.busy": "2023-03-12T07:57:58.887529Z",
     "iopub.status.idle": "2023-03-12T07:58:01.387474Z",
     "shell.execute_reply": "2023-03-12T07:58:01.387185Z",
     "shell.execute_reply.started": "2023-03-12T07:57:58.888363Z"
    },
    "tags": []
   },
   "outputs": [
    {
     "data": {
      "text/plain": [
       "(2021, 12)         56\n",
       "(2022, 1)         365\n",
       "(2022, 2)          22\n",
       "(2022, 12)    1329060\n",
       "(2023, 1)     1402187\n",
       "(2023, 2)      669026\n",
       "Name: time, dtype: int64"
      ]
     },
     "execution_count": 5,
     "metadata": {},
     "output_type": "execute_result"
    }
   ],
   "source": [
    "data[\"time\"].apply(lambda t: (t.year, t.month)).value_counts().sort_index()"
   ]
  },
  {
   "cell_type": "code",
   "execution_count": 6,
   "id": "fd840e05-8f8e-440e-b538-55d5edf5a2bb",
   "metadata": {
    "execution": {
     "iopub.execute_input": "2023-03-12T07:58:01.388274Z",
     "iopub.status.busy": "2023-03-12T07:58:01.388180Z",
     "iopub.status.idle": "2023-03-12T07:58:01.818271Z",
     "shell.execute_reply": "2023-03-12T07:58:01.817930Z",
     "shell.execute_reply.started": "2023-03-12T07:58:01.388266Z"
    },
    "tags": []
   },
   "outputs": [],
   "source": [
    "data = data[data[\"time\"] >= pd.to_datetime(\"2022-12-01\")]"
   ]
  },
  {
   "cell_type": "code",
   "execution_count": 7,
   "id": "57c92bac-941f-4ed5-938c-d0a6d24026f5",
   "metadata": {
    "execution": {
     "iopub.execute_input": "2023-03-12T07:58:01.818813Z",
     "iopub.status.busy": "2023-03-12T07:58:01.818726Z",
     "iopub.status.idle": "2023-03-12T07:58:03.006322Z",
     "shell.execute_reply": "2023-03-12T07:58:03.005920Z",
     "shell.execute_reply.started": "2023-03-12T07:58:01.818804Z"
    },
    "tags": []
   },
   "outputs": [],
   "source": [
    "pattern = re.compile(r'^\\d+(\\.\\d+)*$')\n",
    "data = data[data.osversion.str.match(pattern)]"
   ]
  },
  {
   "cell_type": "code",
   "execution_count": 8,
   "id": "885ba94a-a20a-462d-b281-e50680289ebf",
   "metadata": {
    "execution": {
     "iopub.execute_input": "2023-03-12T07:58:10.807569Z",
     "iopub.status.busy": "2023-03-12T07:58:10.806676Z",
     "iopub.status.idle": "2023-03-12T07:58:12.370339Z",
     "shell.execute_reply": "2023-03-12T07:58:12.369985Z",
     "shell.execute_reply.started": "2023-03-12T07:58:10.807498Z"
    },
    "tags": []
   },
   "outputs": [],
   "source": [
    "pattern = re.compile(r'^\\d+(\\.\\d+)*$')\n",
    "data = data[data.browserversion.str.match(pattern)]"
   ]
  },
  {
   "cell_type": "code",
   "execution_count": 9,
   "id": "1b8eea4f-3204-4dab-ae0b-c4934182056e",
   "metadata": {
    "execution": {
     "iopub.execute_input": "2023-03-12T07:58:12.371347Z",
     "iopub.status.busy": "2023-03-12T07:58:12.371244Z",
     "iopub.status.idle": "2023-03-12T07:58:12.833242Z",
     "shell.execute_reply": "2023-03-12T07:58:12.832895Z",
     "shell.execute_reply.started": "2023-03-12T07:58:12.371338Z"
    },
    "tags": []
   },
   "outputs": [],
   "source": [
    "grouped = data.groupby(['hh_id', 'iiqid']).agg({'time': ['min', 'max']})"
   ]
  },
  {
   "cell_type": "code",
   "execution_count": 10,
   "id": "f27a51f8-2633-4c19-9aa0-e37247189c50",
   "metadata": {
    "execution": {
     "iopub.execute_input": "2023-03-12T07:58:14.219084Z",
     "iopub.status.busy": "2023-03-12T07:58:14.218640Z",
     "iopub.status.idle": "2023-03-12T07:58:14.252727Z",
     "shell.execute_reply": "2023-03-12T07:58:14.252230Z",
     "shell.execute_reply.started": "2023-03-12T07:58:14.219051Z"
    },
    "tags": []
   },
   "outputs": [],
   "source": [
    "grouped[\"lifespan\"] = grouped[(\"time\", \"max\")] - grouped[(\"time\", \"min\")]"
   ]
  },
  {
   "cell_type": "code",
   "execution_count": 11,
   "id": "323cd237-ae41-4bc2-bcd0-0ffe4bc82697",
   "metadata": {
    "execution": {
     "iopub.execute_input": "2023-03-12T07:58:14.413139Z",
     "iopub.status.busy": "2023-03-12T07:58:14.412634Z",
     "iopub.status.idle": "2023-03-12T07:58:14.497450Z",
     "shell.execute_reply": "2023-03-12T07:58:14.497111Z",
     "shell.execute_reply.started": "2023-03-12T07:58:14.413102Z"
    },
    "tags": []
   },
   "outputs": [],
   "source": [
    "grouped[\"lifespan\"] = grouped[\"lifespan\"].apply(lambda t: t.days)"
   ]
  },
  {
   "cell_type": "code",
   "execution_count": 18,
   "id": "ad3d256e-68a9-4bb4-894e-b71f0a578e02",
   "metadata": {
    "execution": {
     "iopub.execute_input": "2023-03-12T07:59:55.156654Z",
     "iopub.status.busy": "2023-03-12T07:59:55.154963Z",
     "iopub.status.idle": "2023-03-12T07:59:55.209471Z",
     "shell.execute_reply": "2023-03-12T07:59:55.208998Z",
     "shell.execute_reply.started": "2023-03-12T07:59:55.156566Z"
    },
    "tags": []
   },
   "outputs": [
    {
     "data": {
      "text/html": [
       "<div>\n",
       "<style scoped>\n",
       "    .dataframe tbody tr th:only-of-type {\n",
       "        vertical-align: middle;\n",
       "    }\n",
       "\n",
       "    .dataframe tbody tr th {\n",
       "        vertical-align: top;\n",
       "    }\n",
       "\n",
       "    .dataframe thead tr th {\n",
       "        text-align: left;\n",
       "    }\n",
       "\n",
       "    .dataframe thead tr:last-of-type th {\n",
       "        text-align: right;\n",
       "    }\n",
       "</style>\n",
       "<table border=\"1\" class=\"dataframe\">\n",
       "  <thead>\n",
       "    <tr>\n",
       "      <th></th>\n",
       "      <th></th>\n",
       "      <th colspan=\"2\" halign=\"left\">time</th>\n",
       "      <th>lifespan</th>\n",
       "    </tr>\n",
       "    <tr>\n",
       "      <th></th>\n",
       "      <th></th>\n",
       "      <th>min</th>\n",
       "      <th>max</th>\n",
       "      <th></th>\n",
       "    </tr>\n",
       "    <tr>\n",
       "      <th>hh_id</th>\n",
       "      <th>iiqid</th>\n",
       "      <th></th>\n",
       "      <th></th>\n",
       "      <th></th>\n",
       "    </tr>\n",
       "  </thead>\n",
       "  <tbody>\n",
       "    <tr>\n",
       "      <th rowspan=\"5\" valign=\"top\">008lj1AMI8</th>\n",
       "      <th>6MILYBoI9P</th>\n",
       "      <td>2022-12-06 20:30:42.973</td>\n",
       "      <td>2023-02-03 17:29:52.687</td>\n",
       "      <td>58</td>\n",
       "    </tr>\n",
       "    <tr>\n",
       "      <th>UVg62Vt8Va</th>\n",
       "      <td>2022-12-04 06:04:54.956</td>\n",
       "      <td>2023-02-03 22:48:53.120</td>\n",
       "      <td>61</td>\n",
       "    </tr>\n",
       "    <tr>\n",
       "      <th>WATS0P8zVm</th>\n",
       "      <td>2023-01-04 09:04:24.973</td>\n",
       "      <td>2023-02-08 09:39:50.615</td>\n",
       "      <td>35</td>\n",
       "    </tr>\n",
       "    <tr>\n",
       "      <th>mXwL7QCw5O</th>\n",
       "      <td>2022-12-02 17:01:54.895</td>\n",
       "      <td>2023-02-08 13:58:34.536</td>\n",
       "      <td>67</td>\n",
       "    </tr>\n",
       "    <tr>\n",
       "      <th>vjNRSKwlH4</th>\n",
       "      <td>2022-12-01 20:43:03.895</td>\n",
       "      <td>2023-01-05 06:20:52.917</td>\n",
       "      <td>34</td>\n",
       "    </tr>\n",
       "  </tbody>\n",
       "</table>\n",
       "</div>"
      ],
      "text/plain": [
       "                                         time                         lifespan\n",
       "                                          min                     max         \n",
       "hh_id      iiqid                                                              \n",
       "008lj1AMI8 6MILYBoI9P 2022-12-06 20:30:42.973 2023-02-03 17:29:52.687       58\n",
       "           UVg62Vt8Va 2022-12-04 06:04:54.956 2023-02-03 22:48:53.120       61\n",
       "           WATS0P8zVm 2023-01-04 09:04:24.973 2023-02-08 09:39:50.615       35\n",
       "           mXwL7QCw5O 2022-12-02 17:01:54.895 2023-02-08 13:58:34.536       67\n",
       "           vjNRSKwlH4 2022-12-01 20:43:03.895 2023-01-05 06:20:52.917       34"
      ]
     },
     "execution_count": 18,
     "metadata": {},
     "output_type": "execute_result"
    }
   ],
   "source": [
    "grouped.head()"
   ]
  },
  {
   "cell_type": "code",
   "execution_count": 12,
   "id": "2e444e24-ad61-458d-b981-3ee69f00a9f2",
   "metadata": {
    "execution": {
     "iopub.execute_input": "2023-03-12T07:58:14.686757Z",
     "iopub.status.busy": "2023-03-12T07:58:14.686364Z",
     "iopub.status.idle": "2023-03-12T07:58:14.727701Z",
     "shell.execute_reply": "2023-03-12T07:58:14.727271Z",
     "shell.execute_reply.started": "2023-03-12T07:58:14.686728Z"
    },
    "tags": []
   },
   "outputs": [
    {
     "data": {
      "text/html": [
       "<div>\n",
       "<style scoped>\n",
       "    .dataframe tbody tr th:only-of-type {\n",
       "        vertical-align: middle;\n",
       "    }\n",
       "\n",
       "    .dataframe tbody tr th {\n",
       "        vertical-align: top;\n",
       "    }\n",
       "\n",
       "    .dataframe thead th {\n",
       "        text-align: right;\n",
       "    }\n",
       "</style>\n",
       "<table border=\"1\" class=\"dataframe\">\n",
       "  <thead>\n",
       "    <tr style=\"text-align: right;\">\n",
       "      <th></th>\n",
       "      <th>timestamp</th>\n",
       "      <th>filename</th>\n",
       "      <th>iiqid</th>\n",
       "      <th>hh_id</th>\n",
       "      <th>maid</th>\n",
       "      <th>partner_id</th>\n",
       "      <th>ip</th>\n",
       "      <th>iscellip</th>\n",
       "      <th>cellispid</th>\n",
       "      <th>domain</th>\n",
       "      <th>...</th>\n",
       "      <th>model</th>\n",
       "      <th>os</th>\n",
       "      <th>osversion</th>\n",
       "      <th>browser</th>\n",
       "      <th>advertisedbrowser</th>\n",
       "      <th>browserversion</th>\n",
       "      <th>type</th>\n",
       "      <th>is_best_ip</th>\n",
       "      <th>time</th>\n",
       "      <th>is_hh</th>\n",
       "    </tr>\n",
       "  </thead>\n",
       "  <tbody>\n",
       "    <tr>\n",
       "      <th>317</th>\n",
       "      <td>1672454576791</td>\n",
       "      <td>HH_M</td>\n",
       "      <td>DkRTpvzRBp</td>\n",
       "      <td>2RrCJATsw0</td>\n",
       "      <td>7</td>\n",
       "      <td>15019</td>\n",
       "      <td>2935173494</td>\n",
       "      <td>True</td>\n",
       "      <td>1256337485</td>\n",
       "      <td>831946351</td>\n",
       "      <td>...</td>\n",
       "      <td>iphone</td>\n",
       "      <td>ios</td>\n",
       "      <td>16.0</td>\n",
       "      <td>safari</td>\n",
       "      <td>Mobile Safari</td>\n",
       "      <td>16.0</td>\n",
       "      <td>smartphone</td>\n",
       "      <td>False</td>\n",
       "      <td>2022-12-31 02:42:56.791</td>\n",
       "      <td>True</td>\n",
       "    </tr>\n",
       "    <tr>\n",
       "      <th>318</th>\n",
       "      <td>1672418570693</td>\n",
       "      <td>HH_M</td>\n",
       "      <td>DkRTpvzRBp</td>\n",
       "      <td>2RrCJATsw0</td>\n",
       "      <td>7</td>\n",
       "      <td>15019</td>\n",
       "      <td>1645510743</td>\n",
       "      <td>False</td>\n",
       "      <td>-390920904</td>\n",
       "      <td>831946351</td>\n",
       "      <td>...</td>\n",
       "      <td>iphone</td>\n",
       "      <td>ios</td>\n",
       "      <td>16.0</td>\n",
       "      <td>safari</td>\n",
       "      <td>Mobile Safari</td>\n",
       "      <td>16.0</td>\n",
       "      <td>smartphone</td>\n",
       "      <td>False</td>\n",
       "      <td>2022-12-30 16:42:50.693</td>\n",
       "      <td>True</td>\n",
       "    </tr>\n",
       "    <tr>\n",
       "      <th>319</th>\n",
       "      <td>1672278111596</td>\n",
       "      <td>HH_M</td>\n",
       "      <td>DkRTpvzRBp</td>\n",
       "      <td>2RrCJATsw0</td>\n",
       "      <td>7</td>\n",
       "      <td>15019</td>\n",
       "      <td>1193046921</td>\n",
       "      <td>False</td>\n",
       "      <td>-390920904</td>\n",
       "      <td>831946351</td>\n",
       "      <td>...</td>\n",
       "      <td>iphone</td>\n",
       "      <td>ios</td>\n",
       "      <td>16.0</td>\n",
       "      <td>safari</td>\n",
       "      <td>Mobile Safari</td>\n",
       "      <td>16.0</td>\n",
       "      <td>smartphone</td>\n",
       "      <td>False</td>\n",
       "      <td>2022-12-29 01:41:51.596</td>\n",
       "      <td>True</td>\n",
       "    </tr>\n",
       "    <tr>\n",
       "      <th>320</th>\n",
       "      <td>1672186457438</td>\n",
       "      <td>HH_M</td>\n",
       "      <td>DkRTpvzRBp</td>\n",
       "      <td>2RrCJATsw0</td>\n",
       "      <td>7</td>\n",
       "      <td>15019</td>\n",
       "      <td>1645512144</td>\n",
       "      <td>False</td>\n",
       "      <td>-390920904</td>\n",
       "      <td>831946351</td>\n",
       "      <td>...</td>\n",
       "      <td>iphone</td>\n",
       "      <td>ios</td>\n",
       "      <td>16.0</td>\n",
       "      <td>safari</td>\n",
       "      <td>Mobile Safari</td>\n",
       "      <td>16.0</td>\n",
       "      <td>smartphone</td>\n",
       "      <td>False</td>\n",
       "      <td>2022-12-28 00:14:17.438</td>\n",
       "      <td>True</td>\n",
       "    </tr>\n",
       "    <tr>\n",
       "      <th>321</th>\n",
       "      <td>1671982417563</td>\n",
       "      <td>HH_M</td>\n",
       "      <td>DkRTpvzRBp</td>\n",
       "      <td>2RrCJATsw0</td>\n",
       "      <td>7</td>\n",
       "      <td>15019</td>\n",
       "      <td>1645512144</td>\n",
       "      <td>False</td>\n",
       "      <td>-390920904</td>\n",
       "      <td>831946351</td>\n",
       "      <td>...</td>\n",
       "      <td>iphone</td>\n",
       "      <td>ios</td>\n",
       "      <td>16.0</td>\n",
       "      <td>safari</td>\n",
       "      <td>Mobile Safari</td>\n",
       "      <td>16.0</td>\n",
       "      <td>smartphone</td>\n",
       "      <td>False</td>\n",
       "      <td>2022-12-25 15:33:37.563</td>\n",
       "      <td>True</td>\n",
       "    </tr>\n",
       "  </tbody>\n",
       "</table>\n",
       "<p>5 rows × 22 columns</p>\n",
       "</div>"
      ],
      "text/plain": [
       "         timestamp filename       iiqid       hh_id  maid  partner_id  \\\n",
       "317  1672454576791     HH_M  DkRTpvzRBp  2RrCJATsw0     7       15019   \n",
       "318  1672418570693     HH_M  DkRTpvzRBp  2RrCJATsw0     7       15019   \n",
       "319  1672278111596     HH_M  DkRTpvzRBp  2RrCJATsw0     7       15019   \n",
       "320  1672186457438     HH_M  DkRTpvzRBp  2RrCJATsw0     7       15019   \n",
       "321  1671982417563     HH_M  DkRTpvzRBp  2RrCJATsw0     7       15019   \n",
       "\n",
       "             ip  iscellip   cellispid     domain  ...   model   os osversion  \\\n",
       "317  2935173494      True  1256337485  831946351  ...  iphone  ios      16.0   \n",
       "318  1645510743     False  -390920904  831946351  ...  iphone  ios      16.0   \n",
       "319  1193046921     False  -390920904  831946351  ...  iphone  ios      16.0   \n",
       "320  1645512144     False  -390920904  831946351  ...  iphone  ios      16.0   \n",
       "321  1645512144     False  -390920904  831946351  ...  iphone  ios      16.0   \n",
       "\n",
       "    browser advertisedbrowser browserversion        type is_best_ip  \\\n",
       "317  safari     Mobile Safari           16.0  smartphone      False   \n",
       "318  safari     Mobile Safari           16.0  smartphone      False   \n",
       "319  safari     Mobile Safari           16.0  smartphone      False   \n",
       "320  safari     Mobile Safari           16.0  smartphone      False   \n",
       "321  safari     Mobile Safari           16.0  smartphone      False   \n",
       "\n",
       "                       time  is_hh  \n",
       "317 2022-12-31 02:42:56.791   True  \n",
       "318 2022-12-30 16:42:50.693   True  \n",
       "319 2022-12-29 01:41:51.596   True  \n",
       "320 2022-12-28 00:14:17.438   True  \n",
       "321 2022-12-25 15:33:37.563   True  \n",
       "\n",
       "[5 rows x 22 columns]"
      ]
     },
     "execution_count": 12,
     "metadata": {},
     "output_type": "execute_result"
    }
   ],
   "source": [
    "data.head()"
   ]
  },
  {
   "cell_type": "code",
   "execution_count": 13,
   "id": "1d1aa5dc-91d4-4fe2-bf29-92d825871669",
   "metadata": {
    "execution": {
     "iopub.execute_input": "2023-03-12T07:58:37.893048Z",
     "iopub.status.busy": "2023-03-12T07:58:37.892000Z",
     "iopub.status.idle": "2023-03-12T07:58:37.925181Z",
     "shell.execute_reply": "2023-03-12T07:58:37.924772Z",
     "shell.execute_reply.started": "2023-03-12T07:58:37.892978Z"
    },
    "tags": []
   },
   "outputs": [
    {
     "data": {
      "text/plain": [
       "84"
      ]
     },
     "execution_count": 13,
     "metadata": {},
     "output_type": "execute_result"
    }
   ],
   "source": [
    "grouped.lifespan.max()"
   ]
  },
  {
   "cell_type": "code",
   "execution_count": 14,
   "id": "46c1e69a-80eb-4a0a-ae7b-179f13a685ef",
   "metadata": {
    "execution": {
     "iopub.execute_input": "2023-03-12T07:58:38.116644Z",
     "iopub.status.busy": "2023-03-12T07:58:38.116172Z",
     "iopub.status.idle": "2023-03-12T07:58:38.347431Z",
     "shell.execute_reply": "2023-03-12T07:58:38.347111Z",
     "shell.execute_reply.started": "2023-03-12T07:58:38.116614Z"
    },
    "tags": []
   },
   "outputs": [
    {
     "data": {
      "text/plain": [
       "<Axes: xlabel='lifespan', ylabel='Count'>"
      ]
     },
     "execution_count": 14,
     "metadata": {},
     "output_type": "execute_result"
    },
    {
     "data": {
      "image/png": "[encoded data removed]",
      "text/plain": [
       "<Figure size 1200x500 with 1 Axes>"
      ]
     },
     "metadata": {},
     "output_type": "display_data"
    }
   ],
   "source": [
    "sns.histplot(data=grouped[grouped[\"lifespan\"]>0], x=\"lifespan\")\n",
    "# sns.histplot(data=grouped, x=\"lifespan\")"
   ]
  },
  {
   "cell_type": "code",
   "execution_count": 15,
   "id": "be09cf8e-dd87-460e-9c1d-bcc9c6f2628d",
   "metadata": {
    "execution": {
     "iopub.execute_input": "2023-03-12T07:58:44.045840Z",
     "iopub.status.busy": "2023-03-12T07:58:44.045386Z",
     "iopub.status.idle": "2023-03-12T07:58:44.167209Z",
     "shell.execute_reply": "2023-03-12T07:58:44.166392Z",
     "shell.execute_reply.started": "2023-03-12T07:58:44.045811Z"
    },
    "tags": []
   },
   "outputs": [
    {
     "data": {
      "text/plain": [
       "<BarContainer object of 2 artists>"
      ]
     },
     "execution_count": 15,
     "metadata": {},
     "output_type": "execute_result"
    },
    {
     "data": {
      "image/png": "[encoded data removed]",
      "text/plain": [
       "<Figure size 1200x500 with 1 Axes>"
      ]
     },
     "metadata": {},
     "output_type": "display_data"
    }
   ],
   "source": [
    "plt.bar([\"0\",\"> 0\"], \n",
    "        [len(grouped[grouped[\"lifespan\"]==0]), len(grouped[grouped[\"lifespan\"]>0])])"
   ]
  },
  {
   "cell_type": "code",
   "execution_count": 16,
   "id": "edee8c66-c4fa-4fa3-ae1c-31d8d6fb183f",
   "metadata": {
    "execution": {
     "iopub.execute_input": "2023-03-12T07:58:46.106250Z",
     "iopub.status.busy": "2023-03-12T07:58:46.105736Z",
     "iopub.status.idle": "2023-03-12T07:58:46.137364Z",
     "shell.execute_reply": "2023-03-12T07:58:46.136916Z",
     "shell.execute_reply.started": "2023-03-12T07:58:46.106222Z"
    },
    "tags": []
   },
   "outputs": [
    {
     "data": {
      "text/html": [
       "<div>\n",
       "<style scoped>\n",
       "    .dataframe tbody tr th:only-of-type {\n",
       "        vertical-align: middle;\n",
       "    }\n",
       "\n",
       "    .dataframe tbody tr th {\n",
       "        vertical-align: top;\n",
       "    }\n",
       "\n",
       "    .dataframe thead tr th {\n",
       "        text-align: left;\n",
       "    }\n",
       "\n",
       "    .dataframe thead tr:last-of-type th {\n",
       "        text-align: right;\n",
       "    }\n",
       "</style>\n",
       "<table border=\"1\" class=\"dataframe\">\n",
       "  <thead>\n",
       "    <tr>\n",
       "      <th></th>\n",
       "      <th></th>\n",
       "      <th colspan=\"2\" halign=\"left\">time</th>\n",
       "      <th>lifespan</th>\n",
       "    </tr>\n",
       "    <tr>\n",
       "      <th></th>\n",
       "      <th></th>\n",
       "      <th>min</th>\n",
       "      <th>max</th>\n",
       "      <th></th>\n",
       "    </tr>\n",
       "    <tr>\n",
       "      <th>hh_id</th>\n",
       "      <th>iiqid</th>\n",
       "      <th></th>\n",
       "      <th></th>\n",
       "      <th></th>\n",
       "    </tr>\n",
       "  </thead>\n",
       "  <tbody>\n",
       "    <tr>\n",
       "      <th rowspan=\"5\" valign=\"top\">008lj1AMI8</th>\n",
       "      <th>6MILYBoI9P</th>\n",
       "      <td>2022-12-06 20:30:42.973</td>\n",
       "      <td>2023-02-03 17:29:52.687</td>\n",
       "      <td>58</td>\n",
       "    </tr>\n",
       "    <tr>\n",
       "      <th>UVg62Vt8Va</th>\n",
       "      <td>2022-12-04 06:04:54.956</td>\n",
       "      <td>2023-02-03 22:48:53.120</td>\n",
       "      <td>61</td>\n",
       "    </tr>\n",
       "    <tr>\n",
       "      <th>WATS0P8zVm</th>\n",
       "      <td>2023-01-04 09:04:24.973</td>\n",
       "      <td>2023-02-08 09:39:50.615</td>\n",
       "      <td>35</td>\n",
       "    </tr>\n",
       "    <tr>\n",
       "      <th>mXwL7QCw5O</th>\n",
       "      <td>2022-12-02 17:01:54.895</td>\n",
       "      <td>2023-02-08 13:58:34.536</td>\n",
       "      <td>67</td>\n",
       "    </tr>\n",
       "    <tr>\n",
       "      <th>vjNRSKwlH4</th>\n",
       "      <td>2022-12-01 20:43:03.895</td>\n",
       "      <td>2023-01-05 06:20:52.917</td>\n",
       "      <td>34</td>\n",
       "    </tr>\n",
       "  </tbody>\n",
       "</table>\n",
       "</div>"
      ],
      "text/plain": [
       "                                         time                         lifespan\n",
       "                                          min                     max         \n",
       "hh_id      iiqid                                                              \n",
       "008lj1AMI8 6MILYBoI9P 2022-12-06 20:30:42.973 2023-02-03 17:29:52.687       58\n",
       "           UVg62Vt8Va 2022-12-04 06:04:54.956 2023-02-03 22:48:53.120       61\n",
       "           WATS0P8zVm 2023-01-04 09:04:24.973 2023-02-08 09:39:50.615       35\n",
       "           mXwL7QCw5O 2022-12-02 17:01:54.895 2023-02-08 13:58:34.536       67\n",
       "           vjNRSKwlH4 2022-12-01 20:43:03.895 2023-01-05 06:20:52.917       34"
      ]
     },
     "execution_count": 16,
     "metadata": {},
     "output_type": "execute_result"
    }
   ],
   "source": [
    "grouped.head()"
   ]
  },
  {
   "cell_type": "code",
   "execution_count": 17,
   "id": "f4b4b439-7f14-4d3f-b6c4-f7e2b5bf7227",
   "metadata": {
    "execution": {
     "iopub.execute_input": "2023-03-12T07:58:47.695031Z",
     "iopub.status.busy": "2023-03-12T07:58:47.693987Z",
     "iopub.status.idle": "2023-03-12T07:58:47.732665Z",
     "shell.execute_reply": "2023-03-12T07:58:47.732153Z",
     "shell.execute_reply.started": "2023-03-12T07:58:47.694950Z"
    },
    "tags": []
   },
   "outputs": [
    {
     "data": {
      "text/html": [
       "<div>\n",
       "<style scoped>\n",
       "    .dataframe tbody tr th:only-of-type {\n",
       "        vertical-align: middle;\n",
       "    }\n",
       "\n",
       "    .dataframe tbody tr th {\n",
       "        vertical-align: top;\n",
       "    }\n",
       "\n",
       "    .dataframe thead tr th {\n",
       "        text-align: left;\n",
       "    }\n",
       "\n",
       "    .dataframe thead tr:last-of-type th {\n",
       "        text-align: right;\n",
       "    }\n",
       "</style>\n",
       "<table border=\"1\" class=\"dataframe\">\n",
       "  <thead>\n",
       "    <tr>\n",
       "      <th></th>\n",
       "      <th></th>\n",
       "      <th colspan=\"2\" halign=\"left\">time</th>\n",
       "      <th>lifespan</th>\n",
       "    </tr>\n",
       "    <tr>\n",
       "      <th></th>\n",
       "      <th></th>\n",
       "      <th>min</th>\n",
       "      <th>max</th>\n",
       "      <th></th>\n",
       "    </tr>\n",
       "    <tr>\n",
       "      <th>hh_id</th>\n",
       "      <th>iiqid</th>\n",
       "      <th></th>\n",
       "      <th></th>\n",
       "      <th></th>\n",
       "    </tr>\n",
       "  </thead>\n",
       "  <tbody>\n",
       "    <tr>\n",
       "      <th>pf5jEgESJa</th>\n",
       "      <th>WosrCrerQi</th>\n",
       "      <td>2022-12-08 05:19:27.969</td>\n",
       "      <td>2023-02-07 14:49:18.291</td>\n",
       "      <td>61</td>\n",
       "    </tr>\n",
       "  </tbody>\n",
       "</table>\n",
       "</div>"
      ],
      "text/plain": [
       "                                         time                         lifespan\n",
       "                                          min                     max         \n",
       "hh_id      iiqid                                                              \n",
       "pf5jEgESJa WosrCrerQi 2022-12-08 05:19:27.969 2023-02-07 14:49:18.291       61"
      ]
     },
     "execution_count": 17,
     "metadata": {},
     "output_type": "execute_result"
    }
   ],
   "source": [
    "one_row = grouped[grouped[\"lifespan\"] > 60].sample(1)\n",
    "one_row"
   ]
  },
  {
   "cell_type": "code",
   "execution_count": 90,
   "id": "7504b955-2ee2-495e-8443-70d56f3557fa",
   "metadata": {
    "execution": {
     "iopub.execute_input": "2023-03-08T13:06:56.173958Z",
     "iopub.status.busy": "2023-03-08T13:06:56.173058Z",
     "iopub.status.idle": "2023-03-08T13:06:56.209757Z",
     "shell.execute_reply": "2023-03-08T13:06:56.209096Z",
     "shell.execute_reply.started": "2023-03-08T13:06:56.173888Z"
    },
    "tags": []
   },
   "outputs": [],
   "source": [
    "one_cookie = one_row.index.get_level_values(1).values[0]"
   ]
  },
  {
   "cell_type": "code",
   "execution_count": 91,
   "id": "a8386b86-6f41-4646-b5d4-bcc238d9b517",
   "metadata": {
    "execution": {
     "iopub.execute_input": "2023-03-08T13:06:56.442151Z",
     "iopub.status.busy": "2023-03-08T13:06:56.441225Z",
     "iopub.status.idle": "2023-03-08T13:06:56.474658Z",
     "shell.execute_reply": "2023-03-08T13:06:56.474233Z",
     "shell.execute_reply.started": "2023-03-08T13:06:56.442084Z"
    },
    "tags": []
   },
   "outputs": [
    {
     "data": {
      "text/plain": [
       "'Bcjz15r0Ms'"
      ]
     },
     "execution_count": 91,
     "metadata": {},
     "output_type": "execute_result"
    }
   ],
   "source": [
    "one_cookie"
   ]
  },
  {
   "cell_type": "code",
   "execution_count": 92,
   "id": "597ffbc5-52b2-4ffc-949a-abf540053107",
   "metadata": {
    "execution": {
     "iopub.execute_input": "2023-03-08T13:06:56.782752Z",
     "iopub.status.busy": "2023-03-08T13:06:56.782190Z",
     "iopub.status.idle": "2023-03-08T13:06:57.052936Z",
     "shell.execute_reply": "2023-03-08T13:06:57.052639Z",
     "shell.execute_reply.started": "2023-03-08T13:06:56.782714Z"
    },
    "tags": []
   },
   "outputs": [],
   "source": [
    "one_cookie_data = data[data[\"iiqid\"]==one_cookie]"
   ]
  },
  {
   "cell_type": "code",
   "execution_count": 93,
   "id": "bce2562a-7f06-4f80-a11c-86ed0465a416",
   "metadata": {
    "execution": {
     "iopub.execute_input": "2023-03-08T13:06:57.278485Z",
     "iopub.status.busy": "2023-03-08T13:06:57.277926Z",
     "iopub.status.idle": "2023-03-08T13:06:57.314241Z",
     "shell.execute_reply": "2023-03-08T13:06:57.313440Z",
     "shell.execute_reply.started": "2023-03-08T13:06:57.278450Z"
    },
    "tags": []
   },
   "outputs": [
    {
     "data": {
      "text/plain": [
       "chrome mobile    37\n",
       "Name: browser, dtype: int64"
      ]
     },
     "execution_count": 93,
     "metadata": {},
     "output_type": "execute_result"
    }
   ],
   "source": [
    "one_cookie_data.browser.value_counts()"
   ]
  },
  {
   "cell_type": "code",
   "execution_count": 94,
   "id": "fbcebb78-893f-4205-8481-22de1cb895cb",
   "metadata": {
    "execution": {
     "iopub.execute_input": "2023-03-08T13:06:58.045941Z",
     "iopub.status.busy": "2023-03-08T13:06:58.045302Z",
     "iopub.status.idle": "2023-03-08T13:06:58.078544Z",
     "shell.execute_reply": "2023-03-08T13:06:58.077973Z",
     "shell.execute_reply.started": "2023-03-08T13:06:58.045905Z"
    },
    "tags": []
   },
   "outputs": [],
   "source": [
    "most_common_brw = one_cookie_data.browser.mode().iloc[0]"
   ]
  },
  {
   "cell_type": "code",
   "execution_count": 95,
   "id": "52de0094-b7c2-4fa2-93b6-bfad1596720f",
   "metadata": {
    "execution": {
     "iopub.execute_input": "2023-03-08T13:06:59.770049Z",
     "iopub.status.busy": "2023-03-08T13:06:59.769188Z",
     "iopub.status.idle": "2023-03-08T13:06:59.801228Z",
     "shell.execute_reply": "2023-03-08T13:06:59.800385Z",
     "shell.execute_reply.started": "2023-03-08T13:06:59.769983Z"
    },
    "tags": []
   },
   "outputs": [],
   "source": [
    "one_cookie_data = one_cookie_data[one_cookie_data[\"browser\"]==most_common_brw]"
   ]
  },
  {
   "cell_type": "code",
   "execution_count": 96,
   "id": "eecb5124-7169-4766-aa88-e0f9e399a15d",
   "metadata": {
    "execution": {
     "iopub.execute_input": "2023-03-08T13:07:00.450405Z",
     "iopub.status.busy": "2023-03-08T13:07:00.449829Z",
     "iopub.status.idle": "2023-03-08T13:07:00.651860Z",
     "shell.execute_reply": "2023-03-08T13:07:00.651572Z",
     "shell.execute_reply.started": "2023-03-08T13:07:00.450345Z"
    },
    "tags": []
   },
   "outputs": [
    {
     "data": {
      "text/plain": [
       "<Axes: xlabel='time', ylabel='browserversion'>"
      ]
     },
     "execution_count": 96,
     "metadata": {},
     "output_type": "execute_result"
    },
    {
     "data": {
      "image/png": "[encoded data removed]",
      "text/plain": [
       "<Figure size 1200x500 with 1 Axes>"
      ]
     },
     "metadata": {},
     "output_type": "display_data"
    }
   ],
   "source": [
    "sns.scatterplot(data=one_cookie_data, x=\"time\", y=\"browserversion\")"
   ]
  },
  {
   "cell_type": "markdown",
   "id": "7ff608b6-41b0-4b5a-8343-5adf8ce782c4",
   "metadata": {},
   "source": [
    "## Lets try to find how many error are they"
   ]
  },
  {
   "cell_type": "markdown",
   "id": "453d539a-9c87-47c7-a04a-4d4bea7e2243",
   "metadata": {},
   "source": [
    "For a given cookie:\n",
    "Go over all of its apearesnces and see if the browserversion stays consistent.\n",
    "Lets strat by a simple \"yes/no\" test."
   ]
  },
  {
   "cell_type": "code",
   "execution_count": 99,
   "id": "89787b12-80fc-48e0-9b15-b7dc950f1e1c",
   "metadata": {
    "execution": {
     "iopub.execute_input": "2023-03-08T13:20:29.787261Z",
     "iopub.status.busy": "2023-03-08T13:20:29.786420Z",
     "iopub.status.idle": "2023-03-08T13:20:29.827577Z",
     "shell.execute_reply": "2023-03-08T13:20:29.827071Z",
     "shell.execute_reply.started": "2023-03-08T13:20:29.787177Z"
    },
    "tags": []
   },
   "outputs": [],
   "source": [
    "one_cookie_data = one_cookie_data.sort_values(by=\"time\")"
   ]
  },
  {
   "cell_type": "code",
   "execution_count": 108,
   "id": "6867477d-a73d-48ab-9892-a500ff06294c",
   "metadata": {
    "execution": {
     "iopub.execute_input": "2023-03-08T13:40:46.085078Z",
     "iopub.status.busy": "2023-03-08T13:40:46.083613Z",
     "iopub.status.idle": "2023-03-08T13:40:46.134152Z",
     "shell.execute_reply": "2023-03-08T13:40:46.133571Z",
     "shell.execute_reply.started": "2023-03-08T13:40:46.085003Z"
    },
    "tags": []
   },
   "outputs": [],
   "source": [
    "one_cookie_data[\"prev_browserversion\"] = one_cookie_data[\"browserversion\"].shift(1).fillna(\"0.0.0.0\")"
   ]
  },
  {
   "cell_type": "code",
   "execution_count": 115,
   "id": "a308e1b3-3a23-4ea5-a63b-1b79dd8ad83a",
   "metadata": {
    "execution": {
     "iopub.execute_input": "2023-03-08T13:45:23.434675Z",
     "iopub.status.busy": "2023-03-08T13:45:23.433801Z",
     "iopub.status.idle": "2023-03-08T13:45:23.466721Z",
     "shell.execute_reply": "2023-03-08T13:45:23.466279Z",
     "shell.execute_reply.started": "2023-03-08T13:45:23.434608Z"
    },
    "tags": []
   },
   "outputs": [
    {
     "data": {
      "text/plain": [
       "True"
      ]
     },
     "execution_count": 115,
     "metadata": {},
     "output_type": "execute_result"
    }
   ],
   "source": [
    "all(np.vectorize(compare_versions)(one_cookie_data['prev_browserversion'], one_cookie_data['browserversion']) <= 0)"
   ]
  },
  {
   "cell_type": "code",
   "execution_count": 75,
   "id": "80d90a4c-bc6a-4a51-a517-fbcd66dc08d2",
   "metadata": {
    "execution": {
     "iopub.execute_input": "2023-03-12T08:45:48.007983Z",
     "iopub.status.busy": "2023-03-12T08:45:48.006883Z",
     "iopub.status.idle": "2023-03-12T08:45:48.045832Z",
     "shell.execute_reply": "2023-03-12T08:45:48.045118Z",
     "shell.execute_reply.started": "2023-03-12T08:45:48.007906Z"
    },
    "tags": []
   },
   "outputs": [],
   "source": [
    "def has_no_errors(cookie, df=data):\n",
    "    one_cookie_data = df[df[\"iiqid\"]==cookie].sort_values(by=\"time\")\n",
    "    one_cookie_data[\"prev_browserversion\"] = one_cookie_data[\"browserversion\"].shift(1).fillna(\"0.0.0.0\")\n",
    "    one_cookie_data[\"prev_osversion\"] = one_cookie_data[\"osversion\"].shift(1).fillna(\"0\")\n",
    "    browser_consistency = all(np.vectorize(compare_versions)(one_cookie_data['prev_browserversion'], one_cookie_data['browserversion']) <= 0)\n",
    "    os_consistency = all(np.vectorize(compare_versions)(one_cookie_data['osversion'], one_cookie_data['osversion']) <= 0)\n",
    "    return browser_consistency and os_consistency"
   ]
  },
  {
   "cell_type": "code",
   "execution_count": 119,
   "id": "18cd1119-290a-4f3a-a800-2ce97cb924a6",
   "metadata": {
    "execution": {
     "iopub.execute_input": "2023-03-08T13:48:32.441682Z",
     "iopub.status.busy": "2023-03-08T13:48:32.440499Z",
     "iopub.status.idle": "2023-03-08T13:48:32.699432Z",
     "shell.execute_reply": "2023-03-08T13:48:32.699167Z",
     "shell.execute_reply.started": "2023-03-08T13:48:32.441587Z"
    },
    "tags": []
   },
   "outputs": [
    {
     "data": {
      "text/plain": [
       "True"
      ]
     },
     "execution_count": 119,
     "metadata": {},
     "output_type": "execute_result"
    }
   ],
   "source": [
    "has_no_errors(one_cookie)"
   ]
  },
  {
   "cell_type": "code",
   "execution_count": 19,
   "id": "57758561-d9c6-4853-b04a-a4573da56022",
   "metadata": {
    "execution": {
     "iopub.execute_input": "2023-03-12T08:20:14.852808Z",
     "iopub.status.busy": "2023-03-12T08:20:14.851078Z",
     "iopub.status.idle": "2023-03-12T08:20:16.121093Z",
     "shell.execute_reply": "2023-03-12T08:20:16.118492Z",
     "shell.execute_reply.started": "2023-03-12T08:20:14.852779Z"
    },
    "tags": []
   },
   "outputs": [],
   "source": [
    "data.sort_values(by=\"time\", inplace=True)\n",
    "# grouped_cookies = data.groupby([\"hh_id\", \"iiqid\"])"
   ]
  },
  {
   "cell_type": "code",
   "execution_count": 25,
   "id": "0b2a6d03-69c4-4945-a6a0-74f3927bbacd",
   "metadata": {
    "execution": {
     "iopub.execute_input": "2023-03-12T08:24:24.200985Z",
     "iopub.status.busy": "2023-03-12T08:24:24.199698Z",
     "iopub.status.idle": "2023-03-12T08:24:24.421863Z",
     "shell.execute_reply": "2023-03-12T08:24:24.421454Z",
     "shell.execute_reply.started": "2023-03-12T08:24:24.200903Z"
    },
    "tags": []
   },
   "outputs": [
    {
     "data": {
      "text/html": [
       "<div>\n",
       "<style scoped>\n",
       "    .dataframe tbody tr th:only-of-type {\n",
       "        vertical-align: middle;\n",
       "    }\n",
       "\n",
       "    .dataframe tbody tr th {\n",
       "        vertical-align: top;\n",
       "    }\n",
       "\n",
       "    .dataframe thead th {\n",
       "        text-align: right;\n",
       "    }\n",
       "</style>\n",
       "<table border=\"1\" class=\"dataframe\">\n",
       "  <thead>\n",
       "    <tr style=\"text-align: right;\">\n",
       "      <th></th>\n",
       "      <th>hh_id</th>\n",
       "      <th>iiqid</th>\n",
       "      <th>osversion</th>\n",
       "    </tr>\n",
       "  </thead>\n",
       "  <tbody>\n",
       "    <tr>\n",
       "      <th>8297176</th>\n",
       "      <td>1097159426</td>\n",
       "      <td>Ds994Aq4Kq</td>\n",
       "      <td>9</td>\n",
       "    </tr>\n",
       "    <tr>\n",
       "      <th>8297175</th>\n",
       "      <td>1097159426</td>\n",
       "      <td>Ds994Aq4Kq</td>\n",
       "      <td>9</td>\n",
       "    </tr>\n",
       "    <tr>\n",
       "      <th>8297174</th>\n",
       "      <td>1097159426</td>\n",
       "      <td>Ds994Aq4Kq</td>\n",
       "      <td>9</td>\n",
       "    </tr>\n",
       "    <tr>\n",
       "      <th>8297173</th>\n",
       "      <td>1097159426</td>\n",
       "      <td>Ds994Aq4Kq</td>\n",
       "      <td>9</td>\n",
       "    </tr>\n",
       "    <tr>\n",
       "      <th>8297172</th>\n",
       "      <td>1097159426</td>\n",
       "      <td>Ds994Aq4Kq</td>\n",
       "      <td>9</td>\n",
       "    </tr>\n",
       "    <tr>\n",
       "      <th>...</th>\n",
       "      <td>...</td>\n",
       "      <td>...</td>\n",
       "      <td>...</td>\n",
       "    </tr>\n",
       "    <tr>\n",
       "      <th>8296372</th>\n",
       "      <td>1097159426</td>\n",
       "      <td>I2g1DDxkA3</td>\n",
       "      <td>9</td>\n",
       "    </tr>\n",
       "    <tr>\n",
       "      <th>8296371</th>\n",
       "      <td>1097159426</td>\n",
       "      <td>I2g1DDxkA3</td>\n",
       "      <td>9</td>\n",
       "    </tr>\n",
       "    <tr>\n",
       "      <th>8296072</th>\n",
       "      <td>1097159426</td>\n",
       "      <td>k78WlySg6A</td>\n",
       "      <td>9</td>\n",
       "    </tr>\n",
       "    <tr>\n",
       "      <th>8296392</th>\n",
       "      <td>1097159426</td>\n",
       "      <td>Ds994Aq4Kq</td>\n",
       "      <td>9</td>\n",
       "    </tr>\n",
       "    <tr>\n",
       "      <th>8296391</th>\n",
       "      <td>1097159426</td>\n",
       "      <td>Ds994Aq4Kq</td>\n",
       "      <td>9</td>\n",
       "    </tr>\n",
       "  </tbody>\n",
       "</table>\n",
       "<p>827 rows × 3 columns</p>\n",
       "</div>"
      ],
      "text/plain": [
       "              hh_id       iiqid osversion\n",
       "8297176  1097159426  Ds994Aq4Kq         9\n",
       "8297175  1097159426  Ds994Aq4Kq         9\n",
       "8297174  1097159426  Ds994Aq4Kq         9\n",
       "8297173  1097159426  Ds994Aq4Kq         9\n",
       "8297172  1097159426  Ds994Aq4Kq         9\n",
       "...             ...         ...       ...\n",
       "8296372  1097159426  I2g1DDxkA3         9\n",
       "8296371  1097159426  I2g1DDxkA3         9\n",
       "8296072  1097159426  k78WlySg6A         9\n",
       "8296392  1097159426  Ds994Aq4Kq         9\n",
       "8296391  1097159426  Ds994Aq4Kq         9\n",
       "\n",
       "[827 rows x 3 columns]"
      ]
     },
     "execution_count": 25,
     "metadata": {},
     "output_type": "execute_result"
    }
   ],
   "source": [
    "data[data['hh_id']=='1097159426'][['hh_id', 'iiqid', 'osversion']]"
   ]
  },
  {
   "cell_type": "code",
   "execution_count": 21,
   "id": "7975fc07-9116-4ba7-9d9f-ef56a3bcae8d",
   "metadata": {
    "execution": {
     "iopub.execute_input": "2023-03-12T08:20:48.082407Z",
     "iopub.status.busy": "2023-03-12T08:20:48.080724Z",
     "iopub.status.idle": "2023-03-12T08:20:48.474382Z",
     "shell.execute_reply": "2023-03-12T08:20:48.473717Z",
     "shell.execute_reply.started": "2023-03-12T08:20:48.082360Z"
    },
    "tags": []
   },
   "outputs": [
    {
     "data": {
      "text/plain": [
       "5305360    NaN\n",
       "274574      10\n",
       "5799545    NaN\n",
       "1884467    NaN\n",
       "6016795     10\n",
       "          ... \n",
       "8296392      9\n",
       "8203159     13\n",
       "8296391      9\n",
       "8281614     12\n",
       "8281613     12\n",
       "Name: osversion, Length: 3400058, dtype: object"
      ]
     },
     "execution_count": 21,
     "metadata": {},
     "output_type": "execute_result"
    }
   ],
   "source": [
    "data.groupby(['hh_id', 'iiqid'])['osversion'].shift(1)"
   ]
  },
  {
   "cell_type": "code",
   "execution_count": 26,
   "id": "426123b5-f1bb-461f-97bf-7ee1b437e439",
   "metadata": {
    "execution": {
     "iopub.execute_input": "2023-03-12T08:35:16.816999Z",
     "iopub.status.busy": "2023-03-12T08:35:16.815654Z",
     "iopub.status.idle": "2023-03-12T08:35:17.662237Z",
     "shell.execute_reply": "2023-03-12T08:35:17.661887Z",
     "shell.execute_reply.started": "2023-03-12T08:35:16.816951Z"
    },
    "tags": []
   },
   "outputs": [],
   "source": [
    "data['prev_osversion'] = data.groupby(['hh_id', 'iiqid'])['osversion'].shift(1).fillna(\"0\")\n",
    "data['prev_browserversion'] = data.groupby(['hh_id', 'iiqid'])['browserversion'].shift(1).fillna(\"0.0.0.0\")"
   ]
  },
  {
   "cell_type": "code",
   "execution_count": 44,
   "id": "11eeab2f-b927-462e-b739-71a0d18f72e6",
   "metadata": {
    "execution": {
     "iopub.execute_input": "2023-03-12T08:42:51.521127Z",
     "iopub.status.busy": "2023-03-12T08:42:51.519711Z",
     "iopub.status.idle": "2023-03-12T08:42:51.767461Z",
     "shell.execute_reply": "2023-03-12T08:42:51.767163Z",
     "shell.execute_reply.started": "2023-03-12T08:42:51.521043Z"
    },
    "tags": []
   },
   "outputs": [],
   "source": [
    "data[data['hh_id']==data['hh_id'].sample(1).values[0]].set_index(['hh_id', 'iiqid']).to_csv('temp.csv')"
   ]
  },
  {
   "cell_type": "code",
   "execution_count": 45,
   "id": "93ddc011-d270-48b3-b1db-be645a6ad179",
   "metadata": {
    "execution": {
     "iopub.execute_input": "2023-03-12T08:43:41.275010Z",
     "iopub.status.busy": "2023-03-12T08:43:41.273291Z",
     "iopub.status.idle": "2023-03-12T08:43:52.208978Z",
     "shell.execute_reply": "2023-03-12T08:43:52.208138Z",
     "shell.execute_reply.started": "2023-03-12T08:43:41.274934Z"
    },
    "tags": []
   },
   "outputs": [],
   "source": [
    "full_valid_rows = data[(np.vectorize(compare_versions)(data['osversion'], \n",
    "                                                         data['prev_osversion']) >= 0)\n",
    "                       & (np.vectorize(compare_versions)(data['browserversion'], \n",
    "                                                               data['prev_browserversion']) >= 0)]"
   ]
  },
  {
   "cell_type": "code",
   "execution_count": 46,
   "id": "1fc9ab43-6c60-49eb-873e-f576cbea8624",
   "metadata": {
    "execution": {
     "iopub.execute_input": "2023-03-12T08:43:52.211230Z",
     "iopub.status.busy": "2023-03-12T08:43:52.211055Z",
     "iopub.status.idle": "2023-03-12T08:43:52.536369Z",
     "shell.execute_reply": "2023-03-12T08:43:52.536073Z",
     "shell.execute_reply.started": "2023-03-12T08:43:52.211211Z"
    },
    "tags": []
   },
   "outputs": [],
   "source": [
    "ok_rows_counts = full_valid_rows.groupby(['hh_id', 'iiqid']).size()"
   ]
  },
  {
   "cell_type": "code",
   "execution_count": 47,
   "id": "8e1c854b-a1c2-4fbf-a48a-1df0cc912ef7",
   "metadata": {
    "execution": {
     "iopub.execute_input": "2023-03-12T08:43:52.536879Z",
     "iopub.status.busy": "2023-03-12T08:43:52.536796Z",
     "iopub.status.idle": "2023-03-12T08:43:52.796834Z",
     "shell.execute_reply": "2023-03-12T08:43:52.796440Z",
     "shell.execute_reply.started": "2023-03-12T08:43:52.536871Z"
    },
    "tags": []
   },
   "outputs": [],
   "source": [
    "total_rows_counts = data.groupby(['hh_id', 'iiqid']).size()"
   ]
  },
  {
   "cell_type": "code",
   "execution_count": 48,
   "id": "ce04e1be-e856-41d1-ba6d-b1b76467d7ad",
   "metadata": {
    "execution": {
     "iopub.execute_input": "2023-03-12T08:43:52.798122Z",
     "iopub.status.busy": "2023-03-12T08:43:52.798031Z",
     "iopub.status.idle": "2023-03-12T08:43:52.813355Z",
     "shell.execute_reply": "2023-03-12T08:43:52.813094Z",
     "shell.execute_reply.started": "2023-03-12T08:43:52.798113Z"
    },
    "tags": []
   },
   "outputs": [],
   "source": [
    "all_ok = ok_rows_counts.eq(total_rows_counts)"
   ]
  },
  {
   "cell_type": "code",
   "execution_count": 49,
   "id": "c932a40f-b71d-484f-9edb-2425f2f5ae7f",
   "metadata": {
    "execution": {
     "iopub.execute_input": "2023-03-12T08:43:52.813959Z",
     "iopub.status.busy": "2023-03-12T08:43:52.813846Z",
     "iopub.status.idle": "2023-03-12T08:43:52.831085Z",
     "shell.execute_reply": "2023-03-12T08:43:52.830729Z",
     "shell.execute_reply.started": "2023-03-12T08:43:52.813950Z"
    },
    "tags": []
   },
   "outputs": [
    {
     "data": {
      "text/plain": [
       "hh_id       iiqid     \n",
       "008lj1AMI8  6MILYBoI9P    True\n",
       "            UVg62Vt8Va    True\n",
       "            WATS0P8zVm    True\n",
       "            mXwL7QCw5O    True\n",
       "            vjNRSKwlH4    True\n",
       "00C30KAqMf  MkDZdCUiPK    True\n",
       "017VVGbSKq  7Gqmdx5cAS    True\n",
       "            9LwaJRXNWe    True\n",
       "            Gc8OsRzRW1    True\n",
       "            xTgngXvS70    True\n",
       "dtype: bool"
      ]
     },
     "execution_count": 49,
     "metadata": {},
     "output_type": "execute_result"
    }
   ],
   "source": [
    "all_ok.head(10)"
   ]
  },
  {
   "cell_type": "code",
   "execution_count": 50,
   "id": "961bf36c-44d9-4c7d-8580-a54e858d2806",
   "metadata": {
    "execution": {
     "iopub.execute_input": "2023-03-12T08:43:52.831971Z",
     "iopub.status.busy": "2023-03-12T08:43:52.831848Z",
     "iopub.status.idle": "2023-03-12T08:43:52.852951Z",
     "shell.execute_reply": "2023-03-12T08:43:52.852683Z",
     "shell.execute_reply.started": "2023-03-12T08:43:52.831961Z"
    },
    "tags": []
   },
   "outputs": [],
   "source": [
    "result = pd.concat([total_rows_counts, all_ok], axis=1)\n",
    "result.columns = ['instances','ok'] "
   ]
  },
  {
   "cell_type": "code",
   "execution_count": 51,
   "id": "57736011-a7c3-4166-959c-ec16c0309d07",
   "metadata": {
    "execution": {
     "iopub.execute_input": "2023-03-12T08:43:52.853603Z",
     "iopub.status.busy": "2023-03-12T08:43:52.853459Z",
     "iopub.status.idle": "2023-03-12T08:43:52.870459Z",
     "shell.execute_reply": "2023-03-12T08:43:52.870128Z",
     "shell.execute_reply.started": "2023-03-12T08:43:52.853593Z"
    },
    "tags": []
   },
   "outputs": [
    {
     "data": {
      "text/html": [
       "<div>\n",
       "<style scoped>\n",
       "    .dataframe tbody tr th:only-of-type {\n",
       "        vertical-align: middle;\n",
       "    }\n",
       "\n",
       "    .dataframe tbody tr th {\n",
       "        vertical-align: top;\n",
       "    }\n",
       "\n",
       "    .dataframe thead th {\n",
       "        text-align: right;\n",
       "    }\n",
       "</style>\n",
       "<table border=\"1\" class=\"dataframe\">\n",
       "  <thead>\n",
       "    <tr style=\"text-align: right;\">\n",
       "      <th></th>\n",
       "      <th></th>\n",
       "      <th>instances</th>\n",
       "      <th>ok</th>\n",
       "    </tr>\n",
       "    <tr>\n",
       "      <th>hh_id</th>\n",
       "      <th>iiqid</th>\n",
       "      <th></th>\n",
       "      <th></th>\n",
       "    </tr>\n",
       "  </thead>\n",
       "  <tbody>\n",
       "    <tr>\n",
       "      <th rowspan=\"5\" valign=\"top\">008lj1AMI8</th>\n",
       "      <th>6MILYBoI9P</th>\n",
       "      <td>66</td>\n",
       "      <td>True</td>\n",
       "    </tr>\n",
       "    <tr>\n",
       "      <th>UVg62Vt8Va</th>\n",
       "      <td>41</td>\n",
       "      <td>True</td>\n",
       "    </tr>\n",
       "    <tr>\n",
       "      <th>WATS0P8zVm</th>\n",
       "      <td>156</td>\n",
       "      <td>True</td>\n",
       "    </tr>\n",
       "    <tr>\n",
       "      <th>mXwL7QCw5O</th>\n",
       "      <td>51</td>\n",
       "      <td>True</td>\n",
       "    </tr>\n",
       "    <tr>\n",
       "      <th>vjNRSKwlH4</th>\n",
       "      <td>28</td>\n",
       "      <td>True</td>\n",
       "    </tr>\n",
       "    <tr>\n",
       "      <th>...</th>\n",
       "      <th>...</th>\n",
       "      <td>...</td>\n",
       "      <td>...</td>\n",
       "    </tr>\n",
       "    <tr>\n",
       "      <th>zygR659Gbx</th>\n",
       "      <th>zU35cTjEsV</th>\n",
       "      <td>595</td>\n",
       "      <td>False</td>\n",
       "    </tr>\n",
       "    <tr>\n",
       "      <th rowspan=\"4\" valign=\"top\">zzyXvF318v</th>\n",
       "      <th>0UXCVZvWch</th>\n",
       "      <td>40</td>\n",
       "      <td>False</td>\n",
       "    </tr>\n",
       "    <tr>\n",
       "      <th>26UHp1Gc7Y</th>\n",
       "      <td>46</td>\n",
       "      <td>True</td>\n",
       "    </tr>\n",
       "    <tr>\n",
       "      <th>2oWL7w8Na8</th>\n",
       "      <td>2</td>\n",
       "      <td>True</td>\n",
       "    </tr>\n",
       "    <tr>\n",
       "      <th>uo36TXLVcg</th>\n",
       "      <td>126</td>\n",
       "      <td>False</td>\n",
       "    </tr>\n",
       "  </tbody>\n",
       "</table>\n",
       "<p>48506 rows × 2 columns</p>\n",
       "</div>"
      ],
      "text/plain": [
       "                       instances     ok\n",
       "hh_id      iiqid                       \n",
       "008lj1AMI8 6MILYBoI9P         66   True\n",
       "           UVg62Vt8Va         41   True\n",
       "           WATS0P8zVm        156   True\n",
       "           mXwL7QCw5O         51   True\n",
       "           vjNRSKwlH4         28   True\n",
       "...                          ...    ...\n",
       "zygR659Gbx zU35cTjEsV        595  False\n",
       "zzyXvF318v 0UXCVZvWch         40  False\n",
       "           26UHp1Gc7Y         46   True\n",
       "           2oWL7w8Na8          2   True\n",
       "           uo36TXLVcg        126  False\n",
       "\n",
       "[48506 rows x 2 columns]"
      ]
     },
     "execution_count": 51,
     "metadata": {},
     "output_type": "execute_result"
    }
   ],
   "source": [
    "result"
   ]
  },
  {
   "cell_type": "code",
   "execution_count": 52,
   "id": "5a5bb060-a06b-4d8f-b6f7-9c0bfde2100f",
   "metadata": {
    "execution": {
     "iopub.execute_input": "2023-03-12T08:43:52.871267Z",
     "iopub.status.busy": "2023-03-12T08:43:52.871085Z",
     "iopub.status.idle": "2023-03-12T08:43:52.998357Z",
     "shell.execute_reply": "2023-03-12T08:43:52.997984Z",
     "shell.execute_reply.started": "2023-03-12T08:43:52.871255Z"
    },
    "tags": []
   },
   "outputs": [
    {
     "data": {
      "text/plain": [
       "<Axes: xlabel='ok', ylabel='count'>"
      ]
     },
     "execution_count": 52,
     "metadata": {},
     "output_type": "execute_result"
    },
    {
     "data": {
      "image/png": "[encoded data removed]",
      "text/plain": [
       "<Figure size 1200x500 with 1 Axes>"
      ]
     },
     "metadata": {},
     "output_type": "display_data"
    }
   ],
   "source": [
    "sns.countplot(data=result, x='ok')"
   ]
  },
  {
   "cell_type": "code",
   "execution_count": 53,
   "id": "2adaa07d-7f49-4793-b9f9-52ca9d1103de",
   "metadata": {
    "execution": {
     "iopub.execute_input": "2023-03-12T08:43:52.999173Z",
     "iopub.status.busy": "2023-03-12T08:43:52.999089Z",
     "iopub.status.idle": "2023-03-12T08:43:53.033048Z",
     "shell.execute_reply": "2023-03-12T08:43:53.032713Z",
     "shell.execute_reply.started": "2023-03-12T08:43:52.999164Z"
    },
    "tags": []
   },
   "outputs": [],
   "source": [
    "cookie_hhd_data = pd.concat([grouped, result], axis=1)\n",
    "cookie_hhd_data.columns = [\"time_min\", \"time_max\", \"lifespan\", \"instances\", \"ok\"]"
   ]
  },
  {
   "cell_type": "code",
   "execution_count": 54,
   "id": "cff76074-3681-402c-bded-69961723db58",
   "metadata": {
    "execution": {
     "iopub.execute_input": "2023-03-12T08:43:53.035449Z",
     "iopub.status.busy": "2023-03-12T08:43:53.035309Z",
     "iopub.status.idle": "2023-03-12T08:43:53.047805Z",
     "shell.execute_reply": "2023-03-12T08:43:53.047526Z",
     "shell.execute_reply.started": "2023-03-12T08:43:53.035439Z"
    },
    "tags": []
   },
   "outputs": [],
   "source": [
    "lifespan_order = [str(i) for i in range(84, -1, -1)]"
   ]
  },
  {
   "cell_type": "code",
   "execution_count": 55,
   "id": "d90d3c29-acbc-4867-a9cb-9aaf373e601e",
   "metadata": {
    "execution": {
     "iopub.execute_input": "2023-03-12T08:43:53.048235Z",
     "iopub.status.busy": "2023-03-12T08:43:53.048153Z",
     "iopub.status.idle": "2023-03-12T08:43:53.294585Z",
     "shell.execute_reply": "2023-03-12T08:43:53.294193Z",
     "shell.execute_reply.started": "2023-03-12T08:43:53.048226Z"
    },
    "tags": []
   },
   "outputs": [
    {
     "data": {
      "image/png": "[encoded data removed]",
      "text/plain": [
       "<Figure size 1200x500 with 1 Axes>"
      ]
     },
     "metadata": {},
     "output_type": "display_data"
    }
   ],
   "source": [
    "sns.barplot(data=cookie_hhd_data, x=\"lifespan\", y=\"ok\", errorbar=None, order=list(reversed(range(0, 85))))\n",
    "plt.xticks(range(0, 85, 4));"
   ]
  },
  {
   "cell_type": "code",
   "execution_count": 172,
   "id": "e93b1983-1e36-4c5f-b979-4d882c831334",
   "metadata": {
    "execution": {
     "iopub.execute_input": "2023-03-12T09:47:54.650813Z",
     "iopub.status.busy": "2023-03-12T09:47:54.649291Z",
     "iopub.status.idle": "2023-03-12T09:47:55.990659Z",
     "shell.execute_reply": "2023-03-12T09:47:55.989919Z",
     "shell.execute_reply.started": "2023-03-12T09:47:54.650703Z"
    },
    "tags": []
   },
   "outputs": [
    {
     "name": "stdout",
     "output_type": "stream",
     "text": [
      "Found!\n"
     ]
    }
   ],
   "source": [
    "found = False\n",
    "limit_search = 1000\n",
    "while not found and limit_search > 0:\n",
    "    limit_search -= 1\n",
    "    one_cookie_sample = cookie_hhd_data[cookie_hhd_data[\"ok\"]==False].sample()\n",
    "    one_cookie_id = one_cookie_sample.index.get_level_values(1).values[0]\n",
    "    one_cookie_data = data[data[\"iiqid\"]==one_cookie_id]\n",
    "    # browsers_of_cookie = one_cookie_data.browser.value_counts().sort_values(ascending=False)\n",
    "    browsers_of_cookie = len(one_cookie_data.browser.unique())\n",
    "    os_of_cookie = len(one_cookie_data.os.unique())\n",
    "    if browsers_of_cookie == 1 and os_of_cookie == 1:\n",
    "        # if len(browsers_of_cookie) > 1:\n",
    "        # if browsers_of_cookie.iloc[1]  > browsers_of_cookie.sum()/4:\n",
    "        found = True\n",
    "if found:\n",
    "    print(\"Found!\")\n",
    "else:\n",
    "    print(\"Not Found\")"
   ]
  },
  {
   "cell_type": "code",
   "execution_count": 173,
   "id": "bcfc4be0-9275-47b4-b249-b778a6203ca5",
   "metadata": {
    "execution": {
     "iopub.execute_input": "2023-03-12T09:48:05.726139Z",
     "iopub.status.busy": "2023-03-12T09:48:05.724567Z",
     "iopub.status.idle": "2023-03-12T09:48:05.792751Z",
     "shell.execute_reply": "2023-03-12T09:48:05.792039Z",
     "shell.execute_reply.started": "2023-03-12T09:48:05.726053Z"
    },
    "tags": []
   },
   "outputs": [],
   "source": [
    "# one_cookie_data.browser"
   ]
  },
  {
   "cell_type": "code",
   "execution_count": 160,
   "id": "f7e55360-3b8d-4573-83e1-53e552524b03",
   "metadata": {
    "execution": {
     "iopub.execute_input": "2023-03-12T09:45:22.518022Z",
     "iopub.status.busy": "2023-03-12T09:45:22.517497Z",
     "iopub.status.idle": "2023-03-12T09:45:22.554057Z",
     "shell.execute_reply": "2023-03-12T09:45:22.553606Z",
     "shell.execute_reply.started": "2023-03-12T09:45:22.517992Z"
    },
    "tags": []
   },
   "outputs": [],
   "source": [
    "one_cookie_sample = cookie_hhd_data[cookie_hhd_data[\"ok\"]==False].sample()"
   ]
  },
  {
   "cell_type": "code",
   "execution_count": 161,
   "id": "7fac31cc-8136-421e-b9d3-3d0c04f08a55",
   "metadata": {
    "execution": {
     "iopub.execute_input": "2023-03-12T09:45:22.719008Z",
     "iopub.status.busy": "2023-03-12T09:45:22.718374Z",
     "iopub.status.idle": "2023-03-12T09:45:22.751074Z",
     "shell.execute_reply": "2023-03-12T09:45:22.750579Z",
     "shell.execute_reply.started": "2023-03-12T09:45:22.718958Z"
    },
    "tags": []
   },
   "outputs": [],
   "source": [
    "one_cookie_id = one_cookie_sample.index.get_level_values(1).values[0]"
   ]
  },
  {
   "cell_type": "code",
   "execution_count": 162,
   "id": "a2932e62-c391-4382-8bda-e070e6eece15",
   "metadata": {
    "execution": {
     "iopub.execute_input": "2023-03-12T09:45:22.886176Z",
     "iopub.status.busy": "2023-03-12T09:45:22.885660Z",
     "iopub.status.idle": "2023-03-12T09:45:23.065734Z",
     "shell.execute_reply": "2023-03-12T09:45:23.065290Z",
     "shell.execute_reply.started": "2023-03-12T09:45:22.886141Z"
    },
    "tags": []
   },
   "outputs": [],
   "source": [
    "one_cookie_data = data[data[\"iiqid\"]==one_cookie_id]"
   ]
  },
  {
   "cell_type": "code",
   "execution_count": 163,
   "id": "b586a665-73e6-4966-82c4-eb021532c7e0",
   "metadata": {
    "execution": {
     "iopub.execute_input": "2023-03-12T09:45:23.066609Z",
     "iopub.status.busy": "2023-03-12T09:45:23.066496Z",
     "iopub.status.idle": "2023-03-12T09:45:23.080880Z",
     "shell.execute_reply": "2023-03-12T09:45:23.080519Z",
     "shell.execute_reply.started": "2023-03-12T09:45:23.066600Z"
    },
    "tags": []
   },
   "outputs": [],
   "source": [
    "browsers_of_cookie = one_cookie_data.browser.value_counts().sort_values(ascending=False)"
   ]
  },
  {
   "cell_type": "code",
   "execution_count": 164,
   "id": "50325827-85c2-4761-a0a2-4112f8b6cd70",
   "metadata": {
    "execution": {
     "iopub.execute_input": "2023-03-12T09:45:23.182878Z",
     "iopub.status.busy": "2023-03-12T09:45:23.182627Z",
     "iopub.status.idle": "2023-03-12T09:45:23.202411Z",
     "shell.execute_reply": "2023-03-12T09:45:23.201899Z",
     "shell.execute_reply.started": "2023-03-12T09:45:23.182861Z"
    },
    "tags": []
   },
   "outputs": [
    {
     "data": {
      "text/plain": [
       "48.5"
      ]
     },
     "execution_count": 164,
     "metadata": {},
     "output_type": "execute_result"
    }
   ],
   "source": [
    "browsers_of_cookie.sum()/4"
   ]
  },
  {
   "cell_type": "code",
   "execution_count": 175,
   "id": "b68e72ec-4d2b-4f9f-8edf-2572257397e1",
   "metadata": {
    "execution": {
     "iopub.execute_input": "2023-03-12T09:49:12.384245Z",
     "iopub.status.busy": "2023-03-12T09:49:12.382841Z",
     "iopub.status.idle": "2023-03-12T09:49:12.437999Z",
     "shell.execute_reply": "2023-03-12T09:49:12.437586Z",
     "shell.execute_reply.started": "2023-03-12T09:49:12.384185Z"
    },
    "tags": []
   },
   "outputs": [
    {
     "data": {
      "text/plain": [
       "edge    246\n",
       "Name: browser, dtype: int64"
      ]
     },
     "execution_count": 175,
     "metadata": {},
     "output_type": "execute_result"
    }
   ],
   "source": [
    "one_cookie_data.browser.value_counts()"
   ]
  },
  {
   "cell_type": "code",
   "execution_count": 176,
   "id": "7778ef4c-c621-4319-8e3a-e9f5acf37fc3",
   "metadata": {
    "execution": {
     "iopub.execute_input": "2023-03-12T09:49:15.169475Z",
     "iopub.status.busy": "2023-03-12T09:49:15.168662Z",
     "iopub.status.idle": "2023-03-12T09:49:15.201263Z",
     "shell.execute_reply": "2023-03-12T09:49:15.200726Z",
     "shell.execute_reply.started": "2023-03-12T09:49:15.169416Z"
    },
    "tags": []
   },
   "outputs": [],
   "source": [
    "ordered_versions = sorted(one_cookie_data.browserversion.unique(), key=cmp_to_key(compare_versions))"
   ]
  },
  {
   "cell_type": "code",
   "execution_count": 177,
   "id": "09a3010f-bc33-4170-afaa-a1b66611749f",
   "metadata": {
    "execution": {
     "iopub.execute_input": "2023-03-12T09:49:15.779433Z",
     "iopub.status.busy": "2023-03-12T09:49:15.778492Z",
     "iopub.status.idle": "2023-03-12T09:49:16.039962Z",
     "shell.execute_reply": "2023-03-12T09:49:16.039632Z",
     "shell.execute_reply.started": "2023-03-12T09:49:15.779360Z"
    },
    "tags": []
   },
   "outputs": [
    {
     "data": {
      "text/plain": [
       "<Axes: xlabel='time', ylabel='browserversion'>"
      ]
     },
     "execution_count": 177,
     "metadata": {},
     "output_type": "execute_result"
    },
    {
     "data": {
      "image/png": "[encoded data removed]",
      "text/plain": [
       "<Figure size 1200x500 with 1 Axes>"
      ]
     },
     "metadata": {},
     "output_type": "display_data"
    }
   ],
   "source": [
    "sns.stripplot(data=one_cookie_data, x=\"time\", y=\"browserversion\", \n",
    "              order=ordered_versions[::-1], jitter=False)"
   ]
  },
  {
   "cell_type": "code",
   "execution_count": 178,
   "id": "ca6e1402-e98a-4a2b-8828-4ca31afaf60c",
   "metadata": {
    "execution": {
     "iopub.execute_input": "2023-03-12T09:49:28.135460Z",
     "iopub.status.busy": "2023-03-12T09:49:28.133889Z",
     "iopub.status.idle": "2023-03-12T09:49:28.191571Z",
     "shell.execute_reply": "2023-03-12T09:49:28.190972Z",
     "shell.execute_reply.started": "2023-03-12T09:49:28.135380Z"
    },
    "tags": []
   },
   "outputs": [],
   "source": [
    "# one_cookie_data[one_cookie_data[\"browserversion\"].apply(lambda v: v[0]==\"2\")]"
   ]
  },
  {
   "cell_type": "code",
   "execution_count": 179,
   "id": "188b81e3-16f6-4f3f-83f0-19f24de2fd4a",
   "metadata": {
    "execution": {
     "iopub.execute_input": "2023-03-12T09:49:28.472205Z",
     "iopub.status.busy": "2023-03-12T09:49:28.471626Z",
     "iopub.status.idle": "2023-03-12T09:49:28.504890Z",
     "shell.execute_reply": "2023-03-12T09:49:28.504475Z",
     "shell.execute_reply.started": "2023-03-12T09:49:28.472163Z"
    },
    "tags": []
   },
   "outputs": [
    {
     "data": {
      "text/plain": [
       "'cUO4TrcMgH'"
      ]
     },
     "execution_count": 179,
     "metadata": {},
     "output_type": "execute_result"
    }
   ],
   "source": [
    "one_cookie_id"
   ]
  },
  {
   "cell_type": "code",
   "execution_count": 180,
   "id": "358446f9-4bb1-4309-a630-1d8bf12a69c6",
   "metadata": {
    "execution": {
     "iopub.execute_input": "2023-03-12T09:49:28.829203Z",
     "iopub.status.busy": "2023-03-12T09:49:28.828283Z",
     "iopub.status.idle": "2023-03-12T09:49:28.967278Z",
     "shell.execute_reply": "2023-03-12T09:49:28.966366Z",
     "shell.execute_reply.started": "2023-03-12T09:49:28.829134Z"
    },
    "tags": []
   },
   "outputs": [
    {
     "data": {
      "text/plain": [
       "<Axes: title={'center': \"Cookie's iiqid: cUO4TrcMgH\"}>"
      ]
     },
     "execution_count": 180,
     "metadata": {},
     "output_type": "execute_result"
    },
    {
     "data": {
      "image/png": "[encoded data removed]",
      "text/plain": [
       "<Figure size 1200x500 with 1 Axes>"
      ]
     },
     "metadata": {},
     "output_type": "display_data"
    }
   ],
   "source": [
    "one_cookie_data.browser.value_counts().plot.bar(title=f\"Cookie's iiqid: {one_cookie_id}\")"
   ]
  },
  {
   "cell_type": "markdown",
   "id": "5764dba5-2575-45a0-bfb7-7cb54ed23550",
   "metadata": {},
   "source": [
    "## Mixed Constant For One Cookie"
   ]
  },
  {
   "cell_type": "code",
   "execution_count": 9,
   "id": "589c9714-6c17-451a-b9a3-ec1d0518d3ab",
   "metadata": {
    "execution": {
     "iopub.execute_input": "2023-03-09T12:39:58.167751Z",
     "iopub.status.busy": "2023-03-09T12:39:58.166974Z",
     "iopub.status.idle": "2023-03-09T12:39:58.197022Z",
     "shell.execute_reply": "2023-03-09T12:39:58.196497Z",
     "shell.execute_reply.started": "2023-03-09T12:39:58.167682Z"
    },
    "tags": []
   },
   "outputs": [],
   "source": [
    "# data.groupby([\"hh_id\", \"iiqid\", "
   ]
  },
  {
   "cell_type": "code",
   "execution_count": 10,
   "id": "3ade422e-6a6d-4dc9-afdf-e145e5a9f03e",
   "metadata": {
    "execution": {
     "iopub.execute_input": "2023-03-09T12:40:00.408067Z",
     "iopub.status.busy": "2023-03-09T12:40:00.407171Z",
     "iopub.status.idle": "2023-03-09T12:40:03.024006Z",
     "shell.execute_reply": "2023-03-09T12:40:03.023523Z",
     "shell.execute_reply.started": "2023-03-09T12:40:00.408000Z"
    },
    "tags": []
   },
   "outputs": [],
   "source": [
    "unique_values_per_cookie = data.groupby([\"hh_id\", \"iiqid\"])[[\"timestamp\", \"brand\", \"model\", \"os\", \"browser\"]].nunique()"
   ]
  },
  {
   "cell_type": "code",
   "execution_count": 11,
   "id": "42d788e0-09c8-4996-8939-41205a8970a4",
   "metadata": {
    "execution": {
     "iopub.execute_input": "2023-03-09T12:40:03.024959Z",
     "iopub.status.busy": "2023-03-09T12:40:03.024860Z",
     "iopub.status.idle": "2023-03-09T12:40:03.036954Z",
     "shell.execute_reply": "2023-03-09T12:40:03.036700Z",
     "shell.execute_reply.started": "2023-03-09T12:40:03.024949Z"
    },
    "tags": []
   },
   "outputs": [],
   "source": [
    "unique_values_per_cookie[\"sum\"] = unique_values_per_cookie.iloc[:,1:].sum(axis=1)"
   ]
  },
  {
   "cell_type": "code",
   "execution_count": 12,
   "id": "8522bb68-e8ba-4589-ade3-244ffeb972ca",
   "metadata": {
    "execution": {
     "iopub.execute_input": "2023-03-09T12:40:03.037558Z",
     "iopub.status.busy": "2023-03-09T12:40:03.037427Z",
     "iopub.status.idle": "2023-03-09T12:40:03.048844Z",
     "shell.execute_reply": "2023-03-09T12:40:03.048527Z",
     "shell.execute_reply.started": "2023-03-09T12:40:03.037549Z"
    },
    "tags": []
   },
   "outputs": [],
   "source": [
    "equal_4 = unique_values_per_cookie[unique_values_per_cookie[\"sum\"]==4]\n",
    "more_than_4 = unique_values_per_cookie[unique_values_per_cookie[\"sum\"]>4]"
   ]
  },
  {
   "cell_type": "code",
   "execution_count": 13,
   "id": "d2e8993f-3f2b-41cd-9c20-0deb6faf0265",
   "metadata": {
    "execution": {
     "iopub.execute_input": "2023-03-09T12:40:03.049886Z",
     "iopub.status.busy": "2023-03-09T12:40:03.049786Z",
     "iopub.status.idle": "2023-03-09T12:40:03.166323Z",
     "shell.execute_reply": "2023-03-09T12:40:03.165976Z",
     "shell.execute_reply.started": "2023-03-09T12:40:03.049878Z"
    },
    "tags": []
   },
   "outputs": [
    {
     "data": {
      "text/plain": [
       "Text(0.5, 1.0, 'Number of user agents assosiated with each cookie')"
      ]
     },
     "execution_count": 13,
     "metadata": {},
     "output_type": "execute_result"
    },
    {
     "data": {
      "image/png": "[encoded data removed]",
      "text/plain": [
       "<Figure size 1200x500 with 1 Axes>"
      ]
     },
     "metadata": {},
     "output_type": "display_data"
    }
   ],
   "source": [
    "plt.bar([\"Just One\", \"More Than One\"], [len(equal_4), len(more_than_4)])\n",
    "plt.title(\"Number of user agents assosiated with each cookie\")"
   ]
  },
  {
   "cell_type": "code",
   "execution_count": 53,
   "id": "0713cec6-ea59-4713-a77e-8b6f87acd65f",
   "metadata": {
    "execution": {
     "iopub.execute_input": "2023-03-09T12:51:35.215026Z",
     "iopub.status.busy": "2023-03-09T12:51:35.213620Z",
     "iopub.status.idle": "2023-03-09T12:51:36.027293Z",
     "shell.execute_reply": "2023-03-09T12:51:36.026829Z",
     "shell.execute_reply.started": "2023-03-09T12:51:35.214966Z"
    },
    "tags": []
   },
   "outputs": [],
   "source": [
    "column_pick = \"browser\"\n",
    "browser_counts = data.groupby([\"hh_id\", \"iiqid\"])[column_pick].value_counts()"
   ]
  },
  {
   "cell_type": "code",
   "execution_count": 54,
   "id": "a61b4dbf-9ed6-44ec-a587-ca42a6ffe47f",
   "metadata": {
    "execution": {
     "iopub.execute_input": "2023-03-09T12:51:36.028405Z",
     "iopub.status.busy": "2023-03-09T12:51:36.028301Z",
     "iopub.status.idle": "2023-03-09T12:51:36.055239Z",
     "shell.execute_reply": "2023-03-09T12:51:36.054835Z",
     "shell.execute_reply.started": "2023-03-09T12:51:36.028396Z"
    },
    "tags": []
   },
   "outputs": [],
   "source": [
    "unstacked_browser_counts = browser_counts.unstack(level=2).fillna(0).astype(int)"
   ]
  },
  {
   "cell_type": "code",
   "execution_count": 55,
   "id": "3fa95128-7d57-4418-893d-73d6938af8d7",
   "metadata": {
    "execution": {
     "iopub.execute_input": "2023-03-09T12:51:36.056113Z",
     "iopub.status.busy": "2023-03-09T12:51:36.056002Z",
     "iopub.status.idle": "2023-03-09T12:51:36.088359Z",
     "shell.execute_reply": "2023-03-09T12:51:36.088046Z",
     "shell.execute_reply.started": "2023-03-09T12:51:36.056097Z"
    },
    "tags": []
   },
   "outputs": [],
   "source": [
    "unstacked_browser_counts[\"mode\"] = unstacked_browser_counts.idxmax(axis=1)"
   ]
  },
  {
   "cell_type": "code",
   "execution_count": 56,
   "id": "520b36b6-05c9-4e9c-94d2-bd7c1a4019fc",
   "metadata": {
    "execution": {
     "iopub.execute_input": "2023-03-09T12:51:36.089569Z",
     "iopub.status.busy": "2023-03-09T12:51:36.089468Z",
     "iopub.status.idle": "2023-03-09T12:51:36.103316Z",
     "shell.execute_reply": "2023-03-09T12:51:36.102898Z",
     "shell.execute_reply.started": "2023-03-09T12:51:36.089560Z"
    },
    "tags": []
   },
   "outputs": [],
   "source": [
    "unstacked_browser_counts[\"total\"] = unstacked_browser_counts.select_dtypes('number').sum(axis=1)"
   ]
  },
  {
   "cell_type": "code",
   "execution_count": 57,
   "id": "82efd8bb-4df0-44a5-8a83-ec633b33b425",
   "metadata": {
    "execution": {
     "iopub.execute_input": "2023-03-09T12:51:36.103832Z",
     "iopub.status.busy": "2023-03-09T12:51:36.103740Z",
     "iopub.status.idle": "2023-03-09T12:51:36.307545Z",
     "shell.execute_reply": "2023-03-09T12:51:36.307178Z",
     "shell.execute_reply.started": "2023-03-09T12:51:36.103823Z"
    },
    "tags": []
   },
   "outputs": [],
   "source": [
    "def get_value(row):\n",
    "    return row[row['mode']]\n",
    "\n",
    "unstacked_browser_counts[\"mode_count\"] = unstacked_browser_counts.apply(get_value, axis=1)"
   ]
  },
  {
   "cell_type": "code",
   "execution_count": 58,
   "id": "dc2948ab-1136-4ec5-8a2d-97547787822b",
   "metadata": {
    "execution": {
     "iopub.execute_input": "2023-03-09T12:51:36.308141Z",
     "iopub.status.busy": "2023-03-09T12:51:36.308038Z",
     "iopub.status.idle": "2023-03-09T12:51:36.320075Z",
     "shell.execute_reply": "2023-03-09T12:51:36.319695Z",
     "shell.execute_reply.started": "2023-03-09T12:51:36.308132Z"
    },
    "tags": []
   },
   "outputs": [],
   "source": [
    "unstacked_browser_counts[\"mode_fraction\"] = unstacked_browser_counts[\"mode_count\"] / unstacked_browser_counts[\"total\"]"
   ]
  },
  {
   "cell_type": "code",
   "execution_count": 59,
   "id": "1822115b-ed81-48a9-bee4-d6b01515f8aa",
   "metadata": {
    "execution": {
     "iopub.execute_input": "2023-03-09T12:51:41.369391Z",
     "iopub.status.busy": "2023-03-09T12:51:41.368969Z",
     "iopub.status.idle": "2023-03-09T12:51:41.643394Z",
     "shell.execute_reply": "2023-03-09T12:51:41.643073Z",
     "shell.execute_reply.started": "2023-03-09T12:51:41.369362Z"
    },
    "tags": []
   },
   "outputs": [
    {
     "data": {
      "text/plain": [
       "Text(0.5, 1.0, 'Distribution of UA homogeneity per cookie')"
      ]
     },
     "execution_count": 59,
     "metadata": {},
     "output_type": "execute_result"
    },
    {
     "data": {
      "image/png": "[encoded data removed]",
      "text/plain": [
       "<Figure size 1200x500 with 1 Axes>"
      ]
     },
     "metadata": {},
     "output_type": "display_data"
    }
   ],
   "source": [
    "sns.histplot(data=unstacked_browser_counts, x=\"mode_fraction\", bins=50)\n",
    "plt.title(\"Distribution of UA homogeneity per cookie\")"
   ]
  },
  {
   "cell_type": "code",
   "execution_count": 73,
   "id": "53674d03-adee-4a29-814b-8a6df9551ecf",
   "metadata": {
    "execution": {
     "iopub.execute_input": "2023-03-09T13:16:27.957173Z",
     "iopub.status.busy": "2023-03-09T13:16:27.956712Z",
     "iopub.status.idle": "2023-03-09T13:16:28.180494Z",
     "shell.execute_reply": "2023-03-09T13:16:28.180020Z",
     "shell.execute_reply.started": "2023-03-09T13:16:27.957140Z"
    },
    "tags": []
   },
   "outputs": [
    {
     "data": {
      "text/plain": [
       "Text(0.5, 1.0, 'Distribution of UA homogeneity per cookie')"
      ]
     },
     "execution_count": 73,
     "metadata": {},
     "output_type": "execute_result"
    },
    {
     "data": {
      "image/png": "[encoded data removed]",
      "text/plain": [
       "<Figure size 1200x500 with 1 Axes>"
      ]
     },
     "metadata": {},
     "output_type": "display_data"
    }
   ],
   "source": [
    "sns.histplot(data=unstacked_browser_counts[unstacked_browser_counts[\"mode_fraction\"] < 1], x=\"mode_fraction\", bins=50)\n",
    "plt.title(\"Distribution of UA homogeneity per cookie\")"
   ]
  },
  {
   "cell_type": "markdown",
   "id": "5125f9ea-f64b-4a80-8aeb-00471f322db4",
   "metadata": {},
   "source": [
    "## ow many errors are they, if we exclude the mixed UA"
   ]
  },
  {
   "cell_type": "code",
   "execution_count": 97,
   "id": "3db5d2e5-60d5-472f-9ee8-b01d5bb3bdcf",
   "metadata": {
    "execution": {
     "iopub.execute_input": "2023-03-09T14:06:07.888918Z",
     "iopub.status.busy": "2023-03-09T14:06:07.888082Z",
     "iopub.status.idle": "2023-03-09T14:06:08.307949Z",
     "shell.execute_reply": "2023-03-09T14:06:08.307214Z",
     "shell.execute_reply.started": "2023-03-09T14:06:07.888860Z"
    },
    "tags": []
   },
   "outputs": [],
   "source": [
    "non_mixed_data = data[data[\"iiqid\"].isin(equal_4.index.get_level_values(1).to_list())]"
   ]
  },
  {
   "cell_type": "code",
   "execution_count": 99,
   "id": "f5085f34-7f3a-484d-a2b5-640b3b611ca7",
   "metadata": {
    "execution": {
     "iopub.execute_input": "2023-03-09T14:06:33.445480Z",
     "iopub.status.busy": "2023-03-09T14:06:33.444928Z",
     "iopub.status.idle": "2023-03-09T14:06:33.872894Z",
     "shell.execute_reply": "2023-03-09T14:06:33.872088Z",
     "shell.execute_reply.started": "2023-03-09T14:06:33.445441Z"
    },
    "tags": []
   },
   "outputs": [],
   "source": [
    "non_mixed_data = non_mixed_data.sort_values(by=\"time\")"
   ]
  },
  {
   "cell_type": "code",
   "execution_count": 100,
   "id": "5042be3b-dfb0-49e0-b044-b0de84b336f4",
   "metadata": {
    "execution": {
     "iopub.execute_input": "2023-03-09T14:06:50.637059Z",
     "iopub.status.busy": "2023-03-09T14:06:50.635894Z",
     "iopub.status.idle": "2023-03-09T14:06:51.063020Z",
     "shell.execute_reply": "2023-03-09T14:06:51.062620Z",
     "shell.execute_reply.started": "2023-03-09T14:06:50.636984Z"
    },
    "tags": []
   },
   "outputs": [],
   "source": [
    "non_mixed_data['prev_osversion'] = non_mixed_data.groupby(['hh_id', 'iiqid'])['osversion'].shift(1).fillna(\"0\")\n",
    "non_mixed_data['prev_browserversion'] = non_mixed_data.groupby(['hh_id', 'iiqid'])['browserversion'].shift(1).fillna(\"0.0.0.0\")"
   ]
  },
  {
   "cell_type": "code",
   "execution_count": 101,
   "id": "578b2a90-eaba-4740-8ca1-055d1333759b",
   "metadata": {
    "execution": {
     "iopub.execute_input": "2023-03-09T14:07:23.672658Z",
     "iopub.status.busy": "2023-03-09T14:07:23.671155Z",
     "iopub.status.idle": "2023-03-09T14:07:28.622960Z",
     "shell.execute_reply": "2023-03-09T14:07:28.622509Z",
     "shell.execute_reply.started": "2023-03-09T14:07:23.672582Z"
    },
    "tags": []
   },
   "outputs": [],
   "source": [
    "full_valid_rows = non_mixed_data[(np.vectorize(compare_versions)(non_mixed_data['osversion'], \n",
    "                                                         non_mixed_data['prev_osversion']) >= 0)\n",
    "                       & (np.vectorize(compare_versions)(non_mixed_data['browserversion'], \n",
    "                                                               non_mixed_data['prev_browserversion']) >= 0)]"
   ]
  },
  {
   "cell_type": "code",
   "execution_count": 102,
   "id": "fbf9c419-2c17-422e-a5e8-3d7775ed4d6d",
   "metadata": {
    "execution": {
     "iopub.execute_input": "2023-03-09T14:07:34.688760Z",
     "iopub.status.busy": "2023-03-09T14:07:34.687684Z",
     "iopub.status.idle": "2023-03-09T14:07:34.897778Z",
     "shell.execute_reply": "2023-03-09T14:07:34.897294Z",
     "shell.execute_reply.started": "2023-03-09T14:07:34.688710Z"
    },
    "tags": []
   },
   "outputs": [],
   "source": [
    "ok_rows_counts = full_valid_rows.groupby(['hh_id', 'iiqid']).size()"
   ]
  },
  {
   "cell_type": "code",
   "execution_count": 103,
   "id": "72231a7c-8ab5-430e-8403-6617a3db489b",
   "metadata": {
    "execution": {
     "iopub.execute_input": "2023-03-09T14:07:41.828649Z",
     "iopub.status.busy": "2023-03-09T14:07:41.827828Z",
     "iopub.status.idle": "2023-03-09T14:07:42.014104Z",
     "shell.execute_reply": "2023-03-09T14:07:42.013614Z",
     "shell.execute_reply.started": "2023-03-09T14:07:41.828587Z"
    },
    "tags": []
   },
   "outputs": [],
   "source": [
    "total_rows_counts = non_mixed_data.groupby(['hh_id', 'iiqid']).size()"
   ]
  },
  {
   "cell_type": "code",
   "execution_count": 104,
   "id": "5c6c31ae-0ddf-4f3f-acc2-3bef35e5b2a9",
   "metadata": {
    "execution": {
     "iopub.execute_input": "2023-03-09T14:07:43.378646Z",
     "iopub.status.busy": "2023-03-09T14:07:43.378137Z",
     "iopub.status.idle": "2023-03-09T14:07:43.414794Z",
     "shell.execute_reply": "2023-03-09T14:07:43.414252Z",
     "shell.execute_reply.started": "2023-03-09T14:07:43.378615Z"
    },
    "tags": []
   },
   "outputs": [],
   "source": [
    "all_ok = ok_rows_counts.eq(total_rows_counts)"
   ]
  },
  {
   "cell_type": "code",
   "execution_count": 105,
   "id": "75ddbd44-f4c9-4e57-a2e2-54413ff5769a",
   "metadata": {
    "execution": {
     "iopub.execute_input": "2023-03-09T14:07:51.338626Z",
     "iopub.status.busy": "2023-03-09T14:07:51.337702Z",
     "iopub.status.idle": "2023-03-09T14:07:51.381993Z",
     "shell.execute_reply": "2023-03-09T14:07:51.381423Z",
     "shell.execute_reply.started": "2023-03-09T14:07:51.338558Z"
    },
    "tags": []
   },
   "outputs": [],
   "source": [
    "result = pd.concat([total_rows_counts, all_ok], axis=1)\n",
    "result.columns = ['instances','ok'] "
   ]
  },
  {
   "cell_type": "code",
   "execution_count": 107,
   "id": "c0636171-df12-4988-9ecc-91303ad8d770",
   "metadata": {
    "execution": {
     "iopub.execute_input": "2023-03-09T14:07:56.406957Z",
     "iopub.status.busy": "2023-03-09T14:07:56.406466Z",
     "iopub.status.idle": "2023-03-09T14:07:56.640181Z",
     "shell.execute_reply": "2023-03-09T14:07:56.639673Z",
     "shell.execute_reply.started": "2023-03-09T14:07:56.406925Z"
    },
    "tags": []
   },
   "outputs": [
    {
     "data": {
      "text/plain": [
       "<Axes: xlabel='ok', ylabel='count'>"
      ]
     },
     "execution_count": 107,
     "metadata": {},
     "output_type": "execute_result"
    },
    {
     "data": {
      "image/png": "[encoded data removed]",
      "text/plain": [
       "<Figure size 1200x500 with 1 Axes>"
      ]
     },
     "metadata": {},
     "output_type": "display_data"
    }
   ],
   "source": [
    "sns.countplot(data=result, x='ok')"
   ]
  },
  {
   "cell_type": "code",
   "execution_count": 110,
   "id": "9401e369-1426-45eb-8819-b2936126cc55",
   "metadata": {
    "execution": {
     "iopub.execute_input": "2023-03-09T14:09:07.079099Z",
     "iopub.status.busy": "2023-03-09T14:09:07.073447Z",
     "iopub.status.idle": "2023-03-09T14:09:07.306154Z",
     "shell.execute_reply": "2023-03-09T14:09:07.305775Z",
     "shell.execute_reply.started": "2023-03-09T14:09:07.079003Z"
    },
    "tags": []
   },
   "outputs": [],
   "source": [
    "grouped = non_mixed_data.groupby(['hh_id', 'iiqid']).agg({'time': ['min', 'max']})"
   ]
  },
  {
   "cell_type": "code",
   "execution_count": 111,
   "id": "e507ef38-4a52-495c-bfac-bc387f2d9698",
   "metadata": {
    "execution": {
     "iopub.execute_input": "2023-03-09T14:09:07.635523Z",
     "iopub.status.busy": "2023-03-09T14:09:07.635001Z",
     "iopub.status.idle": "2023-03-09T14:09:07.670769Z",
     "shell.execute_reply": "2023-03-09T14:09:07.670257Z",
     "shell.execute_reply.started": "2023-03-09T14:09:07.635481Z"
    },
    "tags": []
   },
   "outputs": [],
   "source": [
    "grouped[\"lifespan\"] = grouped[(\"time\", \"max\")] - grouped[(\"time\", \"min\")]"
   ]
  },
  {
   "cell_type": "code",
   "execution_count": 112,
   "id": "7a371736-ab39-4a2d-bece-b50a5e3c9a88",
   "metadata": {
    "execution": {
     "iopub.execute_input": "2023-03-09T14:09:10.017554Z",
     "iopub.status.busy": "2023-03-09T14:09:10.016700Z",
     "iopub.status.idle": "2023-03-09T14:09:10.109349Z",
     "shell.execute_reply": "2023-03-09T14:09:10.109020Z",
     "shell.execute_reply.started": "2023-03-09T14:09:10.017479Z"
    },
    "tags": []
   },
   "outputs": [],
   "source": [
    "grouped[\"lifespan\"] = grouped[\"lifespan\"].apply(lambda t: t.days)"
   ]
  },
  {
   "cell_type": "code",
   "execution_count": 113,
   "id": "b13af126-d0d6-4db5-bbf6-5255faa9b2ac",
   "metadata": {
    "execution": {
     "iopub.execute_input": "2023-03-09T14:09:16.132310Z",
     "iopub.status.busy": "2023-03-09T14:09:16.131845Z",
     "iopub.status.idle": "2023-03-09T14:09:16.174296Z",
     "shell.execute_reply": "2023-03-09T14:09:16.173773Z",
     "shell.execute_reply.started": "2023-03-09T14:09:16.132275Z"
    },
    "tags": []
   },
   "outputs": [],
   "source": [
    "cookie_hhd_data = pd.concat([grouped, result], axis=1)\n",
    "cookie_hhd_data.columns = [\"time_min\", \"time_max\", \"lifespan\", \"instances\", \"ok\"]"
   ]
  },
  {
   "cell_type": "code",
   "execution_count": 114,
   "id": "b063516a-b314-45e4-a9de-95b15f3f14a0",
   "metadata": {
    "execution": {
     "iopub.execute_input": "2023-03-09T14:09:18.637351Z",
     "iopub.status.busy": "2023-03-09T14:09:18.636346Z",
     "iopub.status.idle": "2023-03-09T14:09:18.668392Z",
     "shell.execute_reply": "2023-03-09T14:09:18.667775Z",
     "shell.execute_reply.started": "2023-03-09T14:09:18.637282Z"
    },
    "tags": []
   },
   "outputs": [],
   "source": [
    "lifespan_order = [str(i) for i in range(84, -1, -1)]"
   ]
  },
  {
   "cell_type": "code",
   "execution_count": 115,
   "id": "e9024677-aa3c-4849-9d5b-5fe4690258e2",
   "metadata": {
    "execution": {
     "iopub.execute_input": "2023-03-09T14:09:29.178121Z",
     "iopub.status.busy": "2023-03-09T14:09:29.177380Z",
     "iopub.status.idle": "2023-03-09T14:09:29.508452Z",
     "shell.execute_reply": "2023-03-09T14:09:29.508152Z",
     "shell.execute_reply.started": "2023-03-09T14:09:29.178046Z"
    },
    "tags": []
   },
   "outputs": [
    {
     "data": {
      "image/png": "[encoded data removed]",
      "text/plain": [
       "<Figure size 1200x500 with 1 Axes>"
      ]
     },
     "metadata": {},
     "output_type": "display_data"
    }
   ],
   "source": [
    "sns.barplot(data=cookie_hhd_data, x=\"lifespan\", y=\"ok\", errorbar=None, order=list(reversed(range(0, 85))))\n",
    "plt.xticks(range(0, 85, 4));"
   ]
  },
  {
   "cell_type": "code",
   "execution_count": 129,
   "id": "5cc016f4-10e3-4531-ad41-cb77cd939dbd",
   "metadata": {
    "execution": {
     "iopub.execute_input": "2023-03-09T14:50:33.310543Z",
     "iopub.status.busy": "2023-03-09T14:50:33.309587Z",
     "iopub.status.idle": "2023-03-09T14:50:33.343577Z",
     "shell.execute_reply": "2023-03-09T14:50:33.343191Z",
     "shell.execute_reply.started": "2023-03-09T14:50:33.310469Z"
    },
    "tags": []
   },
   "outputs": [
    {
     "data": {
      "text/plain": [
       "0.005588064737202804"
      ]
     },
     "execution_count": 129,
     "metadata": {},
     "output_type": "execute_result"
    }
   ],
   "source": [
    "# cookie_hhd_data[\"instances\"].plot.hist()\n",
    "sum(cookie_hhd_data[\"instances\"] > 500) / len(cookie_hhd_data)"
   ]
  },
  {
   "cell_type": "code",
   "execution_count": 137,
   "id": "3582297a-ebb5-4026-a413-baa01094de3c",
   "metadata": {
    "execution": {
     "iopub.execute_input": "2023-03-09T14:53:48.103724Z",
     "iopub.status.busy": "2023-03-09T14:53:48.102286Z",
     "iopub.status.idle": "2023-03-09T14:53:50.754163Z",
     "shell.execute_reply": "2023-03-09T14:53:50.753803Z",
     "shell.execute_reply.started": "2023-03-09T14:53:48.103598Z"
    },
    "tags": []
   },
   "outputs": [
    {
     "data": {
      "text/plain": [
       "<Axes: xlabel='instances', ylabel='ok'>"
      ]
     },
     "execution_count": 137,
     "metadata": {},
     "output_type": "execute_result"
    },
    {
     "data": {
      "image/png": "[encoded data removed]",
      "text/plain": [
       "<Figure size 1200x500 with 1 Axes>"
      ]
     },
     "metadata": {},
     "output_type": "display_data"
    }
   ],
   "source": [
    "sns.barplot(data=cookie_hhd_data, x=\"instances\", y=\"ok\", errorbar=None) #, order=list(reversed(range(0, 85))))\n",
    "# plt.xticks(range(0, 500, 50))\n",
    "# plt.xlim(0, 500);"
   ]
  },
  {
   "cell_type": "code",
   "execution_count": 136,
   "id": "500d7dcc-c51f-4b8c-9f31-d53aa7cbcb58",
   "metadata": {
    "execution": {
     "iopub.execute_input": "2023-03-09T14:53:12.013051Z",
     "iopub.status.busy": "2023-03-09T14:53:12.011416Z",
     "iopub.status.idle": "2023-03-09T14:53:12.073073Z",
     "shell.execute_reply": "2023-03-09T14:53:12.072763Z",
     "shell.execute_reply.started": "2023-03-09T14:53:12.012971Z"
    },
    "tags": []
   },
   "outputs": [
    {
     "data": {
      "text/html": [
       "<div>\n",
       "<style scoped>\n",
       "    .dataframe tbody tr th:only-of-type {\n",
       "        vertical-align: middle;\n",
       "    }\n",
       "\n",
       "    .dataframe tbody tr th {\n",
       "        vertical-align: top;\n",
       "    }\n",
       "\n",
       "    .dataframe thead th {\n",
       "        text-align: right;\n",
       "    }\n",
       "</style>\n",
       "<table border=\"1\" class=\"dataframe\">\n",
       "  <thead>\n",
       "    <tr style=\"text-align: right;\">\n",
       "      <th></th>\n",
       "      <th></th>\n",
       "      <th>time_min</th>\n",
       "      <th>time_max</th>\n",
       "      <th>lifespan</th>\n",
       "      <th>instances</th>\n",
       "      <th>ok</th>\n",
       "    </tr>\n",
       "    <tr>\n",
       "      <th>hh_id</th>\n",
       "      <th>iiqid</th>\n",
       "      <th></th>\n",
       "      <th></th>\n",
       "      <th></th>\n",
       "      <th></th>\n",
       "      <th></th>\n",
       "    </tr>\n",
       "  </thead>\n",
       "  <tbody>\n",
       "    <tr>\n",
       "      <th rowspan=\"5\" valign=\"top\">008lj1AMI8</th>\n",
       "      <th>6MILYBoI9P</th>\n",
       "      <td>2022-12-06 20:30:42.973</td>\n",
       "      <td>2023-02-03 17:29:52.687</td>\n",
       "      <td>58</td>\n",
       "      <td>66</td>\n",
       "      <td>True</td>\n",
       "    </tr>\n",
       "    <tr>\n",
       "      <th>UVg62Vt8Va</th>\n",
       "      <td>2022-12-04 06:04:54.956</td>\n",
       "      <td>2023-02-03 22:48:53.120</td>\n",
       "      <td>61</td>\n",
       "      <td>41</td>\n",
       "      <td>True</td>\n",
       "    </tr>\n",
       "    <tr>\n",
       "      <th>WATS0P8zVm</th>\n",
       "      <td>2023-01-04 09:04:24.973</td>\n",
       "      <td>2023-02-08 09:39:50.615</td>\n",
       "      <td>35</td>\n",
       "      <td>156</td>\n",
       "      <td>True</td>\n",
       "    </tr>\n",
       "    <tr>\n",
       "      <th>mXwL7QCw5O</th>\n",
       "      <td>2022-12-02 17:01:54.895</td>\n",
       "      <td>2023-02-08 13:58:34.536</td>\n",
       "      <td>67</td>\n",
       "      <td>51</td>\n",
       "      <td>True</td>\n",
       "    </tr>\n",
       "    <tr>\n",
       "      <th>vjNRSKwlH4</th>\n",
       "      <td>2022-12-01 20:43:03.895</td>\n",
       "      <td>2023-01-05 06:20:52.917</td>\n",
       "      <td>34</td>\n",
       "      <td>28</td>\n",
       "      <td>True</td>\n",
       "    </tr>\n",
       "  </tbody>\n",
       "</table>\n",
       "</div>"
      ],
      "text/plain": [
       "                                     time_min                time_max  \\\n",
       "hh_id      iiqid                                                        \n",
       "008lj1AMI8 6MILYBoI9P 2022-12-06 20:30:42.973 2023-02-03 17:29:52.687   \n",
       "           UVg62Vt8Va 2022-12-04 06:04:54.956 2023-02-03 22:48:53.120   \n",
       "           WATS0P8zVm 2023-01-04 09:04:24.973 2023-02-08 09:39:50.615   \n",
       "           mXwL7QCw5O 2022-12-02 17:01:54.895 2023-02-08 13:58:34.536   \n",
       "           vjNRSKwlH4 2022-12-01 20:43:03.895 2023-01-05 06:20:52.917   \n",
       "\n",
       "                       lifespan  instances    ok  \n",
       "hh_id      iiqid                                  \n",
       "008lj1AMI8 6MILYBoI9P        58         66  True  \n",
       "           UVg62Vt8Va        61         41  True  \n",
       "           WATS0P8zVm        35        156  True  \n",
       "           mXwL7QCw5O        67         51  True  \n",
       "           vjNRSKwlH4        34         28  True  "
      ]
     },
     "execution_count": 136,
     "metadata": {},
     "output_type": "execute_result"
    }
   ],
   "source": [
    "cookie_hhd_data.head()"
   ]
  },
  {
   "cell_type": "code",
   "execution_count": 244,
   "id": "6e07fcce-51a3-419d-a723-175f0e4f921a",
   "metadata": {
    "execution": {
     "iopub.execute_input": "2023-03-09T15:05:49.495907Z",
     "iopub.status.busy": "2023-03-09T15:05:49.495191Z",
     "iopub.status.idle": "2023-03-09T15:05:49.650903Z",
     "shell.execute_reply": "2023-03-09T15:05:49.649839Z",
     "shell.execute_reply.started": "2023-03-09T15:05:49.495857Z"
    },
    "tags": []
   },
   "outputs": [],
   "source": [
    "found = False\n",
    "while not found:\n",
    "    one_cookie_sample = cookie_hhd_data[cookie_hhd_data[\"ok\"]==False].sample()\n",
    "    one_cookie_id = one_cookie_sample.index.get_level_values(1).values[0]\n",
    "    one_cookie_data = data[data[\"iiqid\"]==one_cookie_id]\n",
    "    browsers_of_cookie = one_cookie_data.browser.value_counts().sort_values(ascending=False)\n",
    "    if browsers_of_cookie.sum() > 25:\n",
    "        if len(browsers_of_cookie) == 1:\n",
    "            found = True"
   ]
  },
  {
   "cell_type": "code",
   "execution_count": 245,
   "id": "6b5d44c5-a514-462d-85c3-44687449d3f5",
   "metadata": {
    "execution": {
     "iopub.execute_input": "2023-03-09T15:05:49.854267Z",
     "iopub.status.busy": "2023-03-09T15:05:49.853851Z",
     "iopub.status.idle": "2023-03-09T15:05:49.886542Z",
     "shell.execute_reply": "2023-03-09T15:05:49.885783Z",
     "shell.execute_reply.started": "2023-03-09T15:05:49.854229Z"
    },
    "tags": []
   },
   "outputs": [],
   "source": [
    "ordered_versions = sorted(one_cookie_data.browserversion.unique(), key=cmp_to_key(compare_versions))"
   ]
  },
  {
   "cell_type": "code",
   "execution_count": 246,
   "id": "331394e4-e897-49b3-9cf9-6b0d46e4f0f3",
   "metadata": {
    "execution": {
     "iopub.execute_input": "2023-03-09T15:05:50.180905Z",
     "iopub.status.busy": "2023-03-09T15:05:50.180330Z",
     "iopub.status.idle": "2023-03-09T15:05:50.406682Z",
     "shell.execute_reply": "2023-03-09T15:05:50.406377Z",
     "shell.execute_reply.started": "2023-03-09T15:05:50.180859Z"
    },
    "tags": []
   },
   "outputs": [
    {
     "data": {
      "text/plain": [
       "Text(0.5, 1.0, \"Cookie's iiqid: uwMFDFZwoX\")"
      ]
     },
     "execution_count": 246,
     "metadata": {},
     "output_type": "execute_result"
    },
    {
     "data": {
      "image/png": "[encoded data removed]",
      "text/plain": [
       "<Figure size 1200x500 with 1 Axes>"
      ]
     },
     "metadata": {},
     "output_type": "display_data"
    }
   ],
   "source": [
    "sns.stripplot(data=one_cookie_data, x=\"time\", y=\"browserversion\", \n",
    "              order=ordered_versions[::-1], jitter=False)\n",
    "plt.title(f\"Cookie's iiqid: {one_cookie_id}\")"
   ]
  },
  {
   "cell_type": "code",
   "execution_count": 247,
   "id": "3fb63963-c5b6-488f-8dfa-8142f27ae267",
   "metadata": {
    "execution": {
     "iopub.execute_input": "2023-03-09T15:06:18.487236Z",
     "iopub.status.busy": "2023-03-09T15:06:18.485752Z",
     "iopub.status.idle": "2023-03-09T15:06:18.558302Z",
     "shell.execute_reply": "2023-03-09T15:06:18.557806Z",
     "shell.execute_reply.started": "2023-03-09T15:06:18.487167Z"
    },
    "tags": []
   },
   "outputs": [],
   "source": [
    "one_cookie_data.to_csv(\"another_example_for_version_noise.csv\")"
   ]
  },
  {
   "cell_type": "markdown",
   "id": "e8ddbc51-3da9-46ea-87f2-adf601c3ac58",
   "metadata": {},
   "source": [
    "## Isotonic Regression"
   ]
  },
  {
   "cell_type": "code",
   "execution_count": 181,
   "id": "0dc71f16-3e47-4e8b-9a07-299ad6f4c158",
   "metadata": {
    "execution": {
     "iopub.execute_input": "2023-03-12T09:49:50.097146Z",
     "iopub.status.busy": "2023-03-12T09:49:50.095640Z",
     "iopub.status.idle": "2023-03-12T09:49:50.134048Z",
     "shell.execute_reply": "2023-03-12T09:49:50.133433Z",
     "shell.execute_reply.started": "2023-03-12T09:49:50.097095Z"
    },
    "tags": []
   },
   "outputs": [],
   "source": [
    "import sklearn as sk\n",
    "from sklearn.isotonic import IsotonicRegression"
   ]
  },
  {
   "cell_type": "code",
   "execution_count": 205,
   "id": "5e23b4fc-96f0-444a-9266-b9ff0c446290",
   "metadata": {
    "execution": {
     "iopub.execute_input": "2023-03-12T10:03:45.140677Z",
     "iopub.status.busy": "2023-03-12T10:03:45.139661Z",
     "iopub.status.idle": "2023-03-12T10:03:45.193990Z",
     "shell.execute_reply": "2023-03-12T10:03:45.193562Z",
     "shell.execute_reply.started": "2023-03-12T10:03:45.140554Z"
    },
    "tags": []
   },
   "outputs": [],
   "source": [
    "single_example = one_cookie_data.copy()"
   ]
  },
  {
   "cell_type": "code",
   "execution_count": 206,
   "id": "8ce11c75-6840-4597-9adb-d5d6914fb793",
   "metadata": {
    "execution": {
     "iopub.execute_input": "2023-03-12T10:03:51.209610Z",
     "iopub.status.busy": "2023-03-12T10:03:51.208813Z",
     "iopub.status.idle": "2023-03-12T10:03:51.244112Z",
     "shell.execute_reply": "2023-03-12T10:03:51.243711Z",
     "shell.execute_reply.started": "2023-03-12T10:03:51.209539Z"
    },
    "tags": []
   },
   "outputs": [],
   "source": [
    "ordered_versions = sorted(single_example.browserversion.unique(), key=cmp_to_key(compare_versions))"
   ]
  },
  {
   "cell_type": "code",
   "execution_count": 207,
   "id": "553b6012-3d7d-4c23-aace-36fe3dfed232",
   "metadata": {
    "execution": {
     "iopub.execute_input": "2023-03-12T10:03:55.248807Z",
     "iopub.status.busy": "2023-03-12T10:03:55.247870Z",
     "iopub.status.idle": "2023-03-12T10:03:55.536386Z",
     "shell.execute_reply": "2023-03-12T10:03:55.535998Z",
     "shell.execute_reply.started": "2023-03-12T10:03:55.248739Z"
    },
    "tags": []
   },
   "outputs": [
    {
     "data": {
      "text/plain": [
       "Text(0.5, 1.0, \"Cookie's iiqid: cUO4TrcMgH\")"
      ]
     },
     "execution_count": 207,
     "metadata": {},
     "output_type": "execute_result"
    },
    {
     "data": {
      "image/png": "[encoded data removed]",
      "text/plain": [
       "<Figure size 1200x500 with 1 Axes>"
      ]
     },
     "metadata": {},
     "output_type": "display_data"
    }
   ],
   "source": [
    "sns.stripplot(data=single_example, x=\"time\", y=\"browserversion\", \n",
    "              order=ordered_versions[::-1], jitter=False)\n",
    "plt.title(f\"Cookie's iiqid: {one_cookie_id}\")"
   ]
  },
  {
   "cell_type": "code",
   "execution_count": 237,
   "id": "44b56066-d381-4c5c-b7cb-36b93ef9a113",
   "metadata": {
    "execution": {
     "iopub.execute_input": "2023-03-12T10:18:04.581051Z",
     "iopub.status.busy": "2023-03-12T10:18:04.579215Z",
     "iopub.status.idle": "2023-03-12T10:18:04.629715Z",
     "shell.execute_reply": "2023-03-12T10:18:04.629016Z",
     "shell.execute_reply.started": "2023-03-12T10:18:04.580979Z"
    },
    "tags": []
   },
   "outputs": [],
   "source": [
    "isotonic = IsotonicRegression() #out_of_bounds='clip')"
   ]
  },
  {
   "cell_type": "code",
   "execution_count": 196,
   "id": "6fb7a6ed-313d-4210-922b-eecbeeb87197",
   "metadata": {
    "execution": {
     "iopub.execute_input": "2023-03-12T09:54:08.788969Z",
     "iopub.status.busy": "2023-03-12T09:54:08.788089Z",
     "iopub.status.idle": "2023-03-12T09:54:08.824392Z",
     "shell.execute_reply": "2023-03-12T09:54:08.823776Z",
     "shell.execute_reply.started": "2023-03-12T09:54:08.788905Z"
    },
    "tags": []
   },
   "outputs": [],
   "source": [
    "serialized_browserversions = dict(enumerate(ordered_versions))"
   ]
  },
  {
   "cell_type": "code",
   "execution_count": 209,
   "id": "c52335a6-0ec7-46b8-af6a-963eac9a65de",
   "metadata": {
    "execution": {
     "iopub.execute_input": "2023-03-12T10:04:19.076633Z",
     "iopub.status.busy": "2023-03-12T10:04:19.075878Z",
     "iopub.status.idle": "2023-03-12T10:04:19.109159Z",
     "shell.execute_reply": "2023-03-12T10:04:19.108642Z",
     "shell.execute_reply.started": "2023-03-12T10:04:19.076577Z"
    },
    "tags": []
   },
   "outputs": [],
   "source": [
    "single_example['serial_browserversion'] = None"
   ]
  },
  {
   "cell_type": "code",
   "execution_count": 211,
   "id": "53fc828c-102f-47cc-93c4-83b1c1c4f7b2",
   "metadata": {
    "execution": {
     "iopub.execute_input": "2023-03-12T10:04:47.527137Z",
     "iopub.status.busy": "2023-03-12T10:04:47.525304Z",
     "iopub.status.idle": "2023-03-12T10:04:47.591385Z",
     "shell.execute_reply": "2023-03-12T10:04:47.590844Z",
     "shell.execute_reply.started": "2023-03-12T10:04:47.527057Z"
    },
    "tags": []
   },
   "outputs": [],
   "source": [
    "single_example['serial_browserversion'] = single_example['browserversion'].apply(lambda v: ordered_versions.index(v))"
   ]
  },
  {
   "cell_type": "code",
   "execution_count": 224,
   "id": "80d7d271-bf89-4960-a750-4c8f3414f6ed",
   "metadata": {
    "execution": {
     "iopub.execute_input": "2023-03-12T10:11:15.814903Z",
     "iopub.status.busy": "2023-03-12T10:11:15.813585Z",
     "iopub.status.idle": "2023-03-12T10:11:16.057784Z",
     "shell.execute_reply": "2023-03-12T10:11:16.057466Z",
     "shell.execute_reply.started": "2023-03-12T10:11:15.814846Z"
    },
    "tags": []
   },
   "outputs": [
    {
     "data": {
      "text/plain": [
       "Text(0.5, 1.0, \"Cookie's iiqid: cUO4TrcMgH\")"
      ]
     },
     "execution_count": 224,
     "metadata": {},
     "output_type": "execute_result"
    },
    {
     "data": {
      "image/png": "[encoded data removed]",
      "text/plain": [
       "<Figure size 1200x500 with 1 Axes>"
      ]
     },
     "metadata": {},
     "output_type": "display_data"
    }
   ],
   "source": [
    "sns.scatterplot(data=single_example, x=\"time\", y=\"serial_browserversion\")#, jitter=False)\n",
    "plt.title(f\"Cookie's iiqid: {one_cookie_id}\")"
   ]
  },
  {
   "cell_type": "code",
   "execution_count": 238,
   "id": "500bef01-bd65-4752-aa71-56bc21183b14",
   "metadata": {
    "execution": {
     "iopub.execute_input": "2023-03-12T10:18:13.002162Z",
     "iopub.status.busy": "2023-03-12T10:18:13.001287Z",
     "iopub.status.idle": "2023-03-12T10:18:13.037549Z",
     "shell.execute_reply": "2023-03-12T10:18:13.037049Z",
     "shell.execute_reply.started": "2023-03-12T10:18:13.002102Z"
    },
    "tags": []
   },
   "outputs": [],
   "source": [
    "regressed_version = isotonic.fit_transform(single_example.time, single_example.serial_browserversion).round()"
   ]
  },
  {
   "cell_type": "code",
   "execution_count": 253,
   "id": "a3df4608-2bc3-4e2b-bb3a-043e4b594c46",
   "metadata": {
    "execution": {
     "iopub.execute_input": "2023-03-12T10:22:44.178235Z",
     "iopub.status.busy": "2023-03-12T10:22:44.176295Z",
     "iopub.status.idle": "2023-03-12T10:22:44.227855Z",
     "shell.execute_reply": "2023-03-12T10:22:44.227302Z",
     "shell.execute_reply.started": "2023-03-12T10:22:44.178155Z"
    },
    "tags": []
   },
   "outputs": [],
   "source": [
    "mask = np.where(single_example.serial_browserversion != regressed_version)"
   ]
  },
  {
   "cell_type": "code",
   "execution_count": 258,
   "id": "fb45ca4d-326b-4e0a-a98b-277fef841abf",
   "metadata": {
    "execution": {
     "iopub.execute_input": "2023-03-12T10:23:56.398541Z",
     "iopub.status.busy": "2023-03-12T10:23:56.397309Z",
     "iopub.status.idle": "2023-03-12T10:23:56.610357Z",
     "shell.execute_reply": "2023-03-12T10:23:56.609642Z",
     "shell.execute_reply.started": "2023-03-12T10:23:56.398470Z"
    },
    "tags": []
   },
   "outputs": [
    {
     "data": {
      "text/plain": [
       "<matplotlib.collections.PathCollection at 0x2963a9270>"
      ]
     },
     "execution_count": 258,
     "metadata": {},
     "output_type": "execute_result"
    },
    {
     "data": {
      "image/png": "[encoded data removed]",
      "text/plain": [
       "<Figure size 1200x500 with 1 Axes>"
      ]
     },
     "metadata": {},
     "output_type": "display_data"
    }
   ],
   "source": [
    "plt.scatter(single_example.time, regressed_version)\n",
    "plt.scatter(single_example.time, single_example.serial_browserversion)\n",
    "plt.scatter(single_example.time.iloc[mask], regressed_version[mask], s=200)"
   ]
  },
  {
   "cell_type": "code",
   "execution_count": 265,
   "id": "6277d243-35f1-4dd2-8579-4b631626566b",
   "metadata": {
    "execution": {
     "iopub.execute_input": "2023-03-12T12:19:24.638137Z",
     "iopub.status.busy": "2023-03-12T12:19:24.636547Z",
     "iopub.status.idle": "2023-03-12T12:19:24.686867Z",
     "shell.execute_reply": "2023-03-12T12:19:24.686490Z",
     "shell.execute_reply.started": "2023-03-12T12:19:24.638076Z"
    },
    "tags": []
   },
   "outputs": [],
   "source": [
    "from lnds import longest_non_decreasing_subsequence as lnds"
   ]
  },
  {
   "cell_type": "code",
   "execution_count": 299,
   "id": "b2a0a474-271e-48a4-a9b5-2cb995c680e9",
   "metadata": {
    "execution": {
     "iopub.execute_input": "2023-03-12T12:30:58.177877Z",
     "iopub.status.busy": "2023-03-12T12:30:58.175754Z",
     "iopub.status.idle": "2023-03-12T12:30:58.425441Z",
     "shell.execute_reply": "2023-03-12T12:30:58.425084Z",
     "shell.execute_reply.started": "2023-03-12T12:30:58.177790Z"
    },
    "tags": []
   },
   "outputs": [
    {
     "data": {
      "text/plain": [
       "<matplotlib.collections.PathCollection at 0x2bbe83d60>"
      ]
     },
     "execution_count": 299,
     "metadata": {},
     "output_type": "execute_result"
    },
    {
     "data": {
      "image/png": "[encoded data removed]",
      "text/plain": [
       "<Figure size 1200x500 with 1 Axes>"
      ]
     },
     "metadata": {},
     "output_type": "display_data"
    }
   ],
   "source": [
    "x, y = lnds(single_example.serial_browserversion.values)\n",
    "plt.scatter(single_example.time, single_example.serial_browserversion, c='r')\n",
    "plt.scatter(single_example.time.iloc[y], x, c='g')"
   ]
  },
  {
   "cell_type": "code",
   "execution_count": 301,
   "id": "807dda4e-fb8e-4a42-8e01-1ba7cafb13ea",
   "metadata": {
    "execution": {
     "iopub.execute_input": "2023-03-12T12:48:57.607915Z",
     "iopub.status.busy": "2023-03-12T12:48:57.607102Z",
     "iopub.status.idle": "2023-03-12T12:48:57.665610Z",
     "shell.execute_reply": "2023-03-12T12:48:57.665122Z",
     "shell.execute_reply.started": "2023-03-12T12:48:57.607829Z"
    },
    "tags": []
   },
   "outputs": [
    {
     "data": {
      "text/plain": [
       "0.975609756097561"
      ]
     },
     "execution_count": 301,
     "metadata": {},
     "output_type": "execute_result"
    }
   ],
   "source": [
    "len(x) / len(single_example)"
   ]
  },
  {
   "cell_type": "code",
   "execution_count": 302,
   "id": "b6634e09-2954-45e3-be73-6ae9f1c567f2",
   "metadata": {
    "execution": {
     "iopub.execute_input": "2023-03-12T12:53:42.000126Z",
     "iopub.status.busy": "2023-03-12T12:53:41.999631Z",
     "iopub.status.idle": "2023-03-12T12:53:42.063182Z",
     "shell.execute_reply": "2023-03-12T12:53:42.062728Z",
     "shell.execute_reply.started": "2023-03-12T12:53:42.000075Z"
    },
    "tags": []
   },
   "outputs": [],
   "source": [
    "from hard_rules import denoised_fraction"
   ]
  },
  {
   "cell_type": "code",
   "execution_count": 303,
   "id": "c21fc4af-faac-43c4-875a-547c9081ef3c",
   "metadata": {
    "execution": {
     "iopub.execute_input": "2023-03-12T12:53:48.440394Z",
     "iopub.status.busy": "2023-03-12T12:53:48.439690Z",
     "iopub.status.idle": "2023-03-12T12:53:48.504991Z",
     "shell.execute_reply": "2023-03-12T12:53:48.504641Z",
     "shell.execute_reply.started": "2023-03-12T12:53:48.440345Z"
    },
    "tags": []
   },
   "outputs": [
    {
     "data": {
      "text/plain": [
       "0.975609756097561"
      ]
     },
     "execution_count": 303,
     "metadata": {},
     "output_type": "execute_result"
    }
   ],
   "source": [
    "denoised_fraction(single_example)"
   ]
  },
  {
   "cell_type": "code",
   "execution_count": null,
   "id": "b28d5c04-7ecc-4cf4-a677-ff8a3b85074f",
   "metadata": {},
   "outputs": [],
   "source": []
  }
 ],
 "metadata": {
  "kernelspec": {
   "display_name": "Python 3 (ipykernel)",
   "language": "python",
   "name": "python3"
  },
  "language_info": {
   "codemirror_mode": {
    "name": "ipython",
    "version": 3
   },
   "file_extension": ".py",
   "mimetype": "text/x-python",
   "name": "python",
   "nbconvert_exporter": "python",
   "pygments_lexer": "ipython3",
   "version": "3.10.10"
  }
 },
 "nbformat": 4,
 "nbformat_minor": 5
}
