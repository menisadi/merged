{
 "cells": [
  {
   "cell_type": "markdown",
   "id": "0fe6b615-8a6d-444f-bc38-c3c0abf5604e",
   "metadata": {},
   "source": [
    "# Comparing Random vs Non Random data"
   ]
  },
  {
   "cell_type": "code",
   "execution_count": 95,
   "id": "739bdbdc-e983-4e12-9d79-3f786b6d397e",
   "metadata": {
    "execution": {
     "iopub.execute_input": "2023-03-26T10:02:28.673452Z",
     "iopub.status.busy": "2023-03-26T10:02:28.665818Z",
     "iopub.status.idle": "2023-03-26T10:02:28.743581Z",
     "shell.execute_reply": "2023-03-26T10:02:28.743217Z",
     "shell.execute_reply.started": "2023-03-26T10:02:28.673328Z"
    },
    "tags": []
   },
   "outputs": [
    {
     "name": "stdout",
     "output_type": "stream",
     "text": [
      "The autoreload extension is already loaded. To reload it, use:\n",
      "  %reload_ext autoreload\n"
     ]
    }
   ],
   "source": [
    "import numpy as np\n",
    "import pandas as pd\n",
    "import seaborn as sns\n",
    "import matplotlib.pyplot as plt\n",
    "sns.set(rc={'figure.figsize':(12,5)})\n",
    "%load_ext autoreload\n",
    "%autoreload 2"
   ]
  },
  {
   "cell_type": "code",
   "execution_count": 2,
   "id": "0e5094a7-af1c-4399-af54-f7201b16bf2e",
   "metadata": {
    "execution": {
     "iopub.execute_input": "2023-03-26T06:55:36.587257Z",
     "iopub.status.busy": "2023-03-26T06:55:36.584598Z",
     "iopub.status.idle": "2023-03-26T06:55:36.635522Z",
     "shell.execute_reply": "2023-03-26T06:55:36.635127Z",
     "shell.execute_reply.started": "2023-03-26T06:55:36.587162Z"
    },
    "tags": []
   },
   "outputs": [],
   "source": [
    "import re\n",
    "from tqdm import tqdm"
   ]
  },
  {
   "cell_type": "code",
   "execution_count": 65,
   "id": "3050fb28-40bd-438f-acbe-a73806ef1ddb",
   "metadata": {
    "execution": {
     "iopub.execute_input": "2023-03-26T09:07:55.473925Z",
     "iopub.status.busy": "2023-03-26T09:07:55.472513Z",
     "iopub.status.idle": "2023-03-26T09:07:55.571728Z",
     "shell.execute_reply": "2023-03-26T09:07:55.571397Z",
     "shell.execute_reply.started": "2023-03-26T09:07:55.473840Z"
    },
    "tags": []
   },
   "outputs": [],
   "source": [
    "import sys\n",
    "import os\n",
    "sys.path.append(os.path.abspath('../modules'))\n",
    "from lnds import longest_non_decreasing_subsequence as lnds\n",
    "from hard_rules import denoised_fraction, version_serializtion"
   ]
  },
  {
   "cell_type": "code",
   "execution_count": 4,
   "id": "3d5100ac-93e2-40ef-ba57-c2d2216f61fd",
   "metadata": {
    "execution": {
     "iopub.execute_input": "2023-03-26T06:55:47.509814Z",
     "iopub.status.busy": "2023-03-26T06:55:47.508819Z",
     "iopub.status.idle": "2023-03-26T06:55:50.707631Z",
     "shell.execute_reply": "2023-03-26T06:55:50.706915Z",
     "shell.execute_reply.started": "2023-03-26T06:55:47.509663Z"
    },
    "tags": []
   },
   "outputs": [],
   "source": [
    "data = pd.read_parquet(\"../Data/random_10k.parquet\")"
   ]
  },
  {
   "cell_type": "code",
   "execution_count": 5,
   "id": "97b8dfd4-c757-4e79-b067-f5cf3321d9be",
   "metadata": {
    "execution": {
     "iopub.execute_input": "2023-03-26T06:57:03.045912Z",
     "iopub.status.busy": "2023-03-26T06:57:03.044831Z",
     "iopub.status.idle": "2023-03-26T06:57:04.327376Z",
     "shell.execute_reply": "2023-03-26T06:57:04.326566Z",
     "shell.execute_reply.started": "2023-03-26T06:57:03.045798Z"
    },
    "tags": []
   },
   "outputs": [],
   "source": [
    "data = data[data[\"maid\"]=='7']"
   ]
  },
  {
   "cell_type": "markdown",
   "id": "2793046e-ba8b-45d4-944a-90719a9a4392",
   "metadata": {},
   "source": [
    "## Filtering\n",
    "1. Non houses \n",
    "2. Cookies with mixed constant \n",
    "3. Cookies which are assigned to a house which they do not apepar in"
   ]
  },
  {
   "cell_type": "code",
   "execution_count": 10,
   "id": "d3bfbf03-0a7a-428a-8975-0897b57c41a8",
   "metadata": {
    "execution": {
     "iopub.execute_input": "2023-03-26T07:04:06.511135Z",
     "iopub.status.busy": "2023-03-26T07:04:06.509836Z",
     "iopub.status.idle": "2023-03-26T07:04:07.198360Z",
     "shell.execute_reply": "2023-03-26T07:04:07.197610Z",
     "shell.execute_reply.started": "2023-03-26T07:04:06.511005Z"
    },
    "tags": []
   },
   "outputs": [],
   "source": [
    "data = data[data['is_hh']]"
   ]
  },
  {
   "cell_type": "code",
   "execution_count": 11,
   "id": "bc31925f-11d0-4de3-82eb-381456297a7b",
   "metadata": {
    "execution": {
     "iopub.execute_input": "2023-03-26T07:04:43.237650Z",
     "iopub.status.busy": "2023-03-26T07:04:43.236741Z",
     "iopub.status.idle": "2023-03-26T07:04:44.088382Z",
     "shell.execute_reply": "2023-03-26T07:04:44.087833Z",
     "shell.execute_reply.started": "2023-03-26T07:04:43.237540Z"
    },
    "tags": []
   },
   "outputs": [],
   "source": [
    "unique_values_per_cookie = data.groupby([\"hh_id\", \"iiqid\"])[[\"timestamp\", \"brand\", \"model\", \"os\", \"browser\", \"advertisedbrowser\"]].nunique()"
   ]
  },
  {
   "cell_type": "code",
   "execution_count": 12,
   "id": "a43c0706-a99d-4ad7-b351-1d84a2aa1c0b",
   "metadata": {
    "execution": {
     "iopub.execute_input": "2023-03-26T07:04:48.010510Z",
     "iopub.status.busy": "2023-03-26T07:04:48.009972Z",
     "iopub.status.idle": "2023-03-26T07:04:48.043425Z",
     "shell.execute_reply": "2023-03-26T07:04:48.043052Z",
     "shell.execute_reply.started": "2023-03-26T07:04:48.010467Z"
    },
    "tags": []
   },
   "outputs": [],
   "source": [
    "unique_values_per_cookie[\"sum\"] = unique_values_per_cookie.iloc[:,1:].sum(axis=1)"
   ]
  },
  {
   "cell_type": "code",
   "execution_count": 13,
   "id": "c46599e3-cdb4-4f9d-a117-c278c3fe1641",
   "metadata": {
    "execution": {
     "iopub.execute_input": "2023-03-26T07:04:55.123887Z",
     "iopub.status.busy": "2023-03-26T07:04:55.123163Z",
     "iopub.status.idle": "2023-03-26T07:04:55.158179Z",
     "shell.execute_reply": "2023-03-26T07:04:55.157693Z",
     "shell.execute_reply.started": "2023-03-26T07:04:55.123851Z"
    },
    "tags": []
   },
   "outputs": [],
   "source": [
    "equal_5 = unique_values_per_cookie[unique_values_per_cookie[\"sum\"]==5]\n",
    "more_than_5 = unique_values_per_cookie[unique_values_per_cookie[\"sum\"]>5]"
   ]
  },
  {
   "cell_type": "code",
   "execution_count": 14,
   "id": "a074e4c8-eefb-4074-adbb-7b87e7d0baaa",
   "metadata": {
    "execution": {
     "iopub.execute_input": "2023-03-26T07:04:55.720680Z",
     "iopub.status.busy": "2023-03-26T07:04:55.719950Z",
     "iopub.status.idle": "2023-03-26T07:04:55.754121Z",
     "shell.execute_reply": "2023-03-26T07:04:55.753623Z",
     "shell.execute_reply.started": "2023-03-26T07:04:55.720631Z"
    },
    "tags": []
   },
   "outputs": [],
   "source": [
    "mixed_iiqids = more_than_5.index.get_level_values(level=1).to_list()"
   ]
  },
  {
   "cell_type": "code",
   "execution_count": 15,
   "id": "b0843422-e8c3-4df2-b28a-9dee9bd2a59c",
   "metadata": {
    "execution": {
     "iopub.execute_input": "2023-03-26T07:04:56.378257Z",
     "iopub.status.busy": "2023-03-26T07:04:56.377337Z",
     "iopub.status.idle": "2023-03-26T07:04:56.868059Z",
     "shell.execute_reply": "2023-03-26T07:04:56.867481Z",
     "shell.execute_reply.started": "2023-03-26T07:04:56.378184Z"
    },
    "tags": []
   },
   "outputs": [],
   "source": [
    "data = data[~data['iiqid'].isin(mixed_iiqids)]"
   ]
  },
  {
   "cell_type": "code",
   "execution_count": 16,
   "id": "3f121e83-3e31-40a6-8620-740b1780cbe9",
   "metadata": {
    "execution": {
     "iopub.execute_input": "2023-03-26T07:05:21.317356Z",
     "iopub.status.busy": "2023-03-26T07:05:21.311120Z",
     "iopub.status.idle": "2023-03-26T07:05:21.462106Z",
     "shell.execute_reply": "2023-03-26T07:05:21.461649Z",
     "shell.execute_reply.started": "2023-03-26T07:05:21.316863Z"
    },
    "tags": []
   },
   "outputs": [],
   "source": [
    "misplaced_series = ~data.groupby('iiqid')['is_house_ip_or_source_ip'].any()\n",
    "misplaced_iiqids = misplaced_series[misplaced_series].index.values"
   ]
  },
  {
   "cell_type": "code",
   "execution_count": 17,
   "id": "19937e9d-2bda-491c-84f4-a0c6c50b70b6",
   "metadata": {
    "execution": {
     "iopub.execute_input": "2023-03-26T07:05:28.159383Z",
     "iopub.status.busy": "2023-03-26T07:05:28.158856Z",
     "iopub.status.idle": "2023-03-26T07:05:28.625584Z",
     "shell.execute_reply": "2023-03-26T07:05:28.624761Z",
     "shell.execute_reply.started": "2023-03-26T07:05:28.159345Z"
    },
    "tags": []
   },
   "outputs": [],
   "source": [
    "data = data[~data['iiqid'].isin(misplaced_iiqids)]"
   ]
  },
  {
   "cell_type": "markdown",
   "id": "41e84045-4584-450f-a490-b996ce937db0",
   "metadata": {},
   "source": [
    "## Creating relevant tables\n",
    "- Random pairs\n",
    "- Cookies time data\n",
    "- Cookies version noise data"
   ]
  },
  {
   "cell_type": "code",
   "execution_count": 18,
   "id": "334ed53f-ceb6-4b87-9adc-10d91a38c57e",
   "metadata": {
    "execution": {
     "iopub.execute_input": "2023-03-26T07:07:50.751298Z",
     "iopub.status.busy": "2023-03-26T07:07:50.750100Z",
     "iopub.status.idle": "2023-03-26T07:07:50.798459Z",
     "shell.execute_reply": "2023-03-26T07:07:50.797905Z",
     "shell.execute_reply.started": "2023-03-26T07:07:50.751223Z"
    },
    "tags": []
   },
   "outputs": [],
   "source": [
    "const = ['hh_id',\"brand\", \"model\", \"os\", \"browser\"]"
   ]
  },
  {
   "cell_type": "code",
   "execution_count": 19,
   "id": "f50ab241-cbdd-4259-beec-93c5d835f4cc",
   "metadata": {
    "execution": {
     "iopub.execute_input": "2023-03-26T08:00:33.497791Z",
     "iopub.status.busy": "2023-03-26T08:00:33.494462Z",
     "iopub.status.idle": "2023-03-26T08:00:33.582301Z",
     "shell.execute_reply": "2023-03-26T08:00:33.581955Z",
     "shell.execute_reply.started": "2023-03-26T08:00:33.497667Z"
    },
    "tags": []
   },
   "outputs": [],
   "source": [
    "def has_multiple_ua(house):\n",
    "    user_agents = house[const].drop_duplicates()\n",
    "    return len(user_agents) >= 2"
   ]
  },
  {
   "cell_type": "code",
   "execution_count": 20,
   "id": "e45efa30-facf-48d7-a3c9-20110268c979",
   "metadata": {
    "execution": {
     "iopub.execute_input": "2023-03-26T08:00:34.188549Z",
     "iopub.status.busy": "2023-03-26T08:00:34.187985Z",
     "iopub.status.idle": "2023-03-26T08:00:38.207526Z",
     "shell.execute_reply": "2023-03-26T08:00:38.206810Z",
     "shell.execute_reply.started": "2023-03-26T08:00:34.188502Z"
    },
    "tags": []
   },
   "outputs": [],
   "source": [
    "filtered = data.groupby('hh_id', observed=True).filter(has_multiple_ua)"
   ]
  },
  {
   "cell_type": "code",
   "execution_count": 21,
   "id": "ea15c44b-653e-48aa-8c60-201a09f84d52",
   "metadata": {
    "execution": {
     "iopub.execute_input": "2023-03-26T08:00:38.209134Z",
     "iopub.status.busy": "2023-03-26T08:00:38.208972Z",
     "iopub.status.idle": "2023-03-26T08:00:38.937048Z",
     "shell.execute_reply": "2023-03-26T08:00:38.936773Z",
     "shell.execute_reply.started": "2023-03-26T08:00:38.209117Z"
    },
    "tags": []
   },
   "outputs": [],
   "source": [
    "filtered_grouped_by = filtered.groupby(const, observed=True)\n",
    "filtered_grouped = filtered_grouped_by.agg({'iiqid': ['nunique', pd.Series.mode]})"
   ]
  },
  {
   "cell_type": "code",
   "execution_count": 22,
   "id": "8ebcb96a-30c3-437a-adcd-88d3a81d161c",
   "metadata": {
    "execution": {
     "iopub.execute_input": "2023-03-26T08:00:38.937732Z",
     "iopub.status.busy": "2023-03-26T08:00:38.937590Z",
     "iopub.status.idle": "2023-03-26T08:00:38.952760Z",
     "shell.execute_reply": "2023-03-26T08:00:38.952301Z",
     "shell.execute_reply.started": "2023-03-26T08:00:38.937723Z"
    },
    "tags": []
   },
   "outputs": [],
   "source": [
    "filtered_grouped.columns = ['nunique','iiqid']\n",
    "filtered_grouped = filtered_grouped[filtered_grouped['nunique'] == 1].drop('nunique', axis=1)"
   ]
  },
  {
   "cell_type": "code",
   "execution_count": 23,
   "id": "f7d1a6c3-7176-49b3-804e-748beebbab92",
   "metadata": {
    "execution": {
     "iopub.execute_input": "2023-03-26T08:00:38.953918Z",
     "iopub.status.busy": "2023-03-26T08:00:38.953792Z",
     "iopub.status.idle": "2023-03-26T08:00:38.966997Z",
     "shell.execute_reply": "2023-03-26T08:00:38.966696Z",
     "shell.execute_reply.started": "2023-03-26T08:00:38.953909Z"
    },
    "tags": []
   },
   "outputs": [],
   "source": [
    "grouped = filtered_grouped.iloc[:,0].drop_duplicates()"
   ]
  },
  {
   "cell_type": "code",
   "execution_count": 24,
   "id": "538ab1f8-9b2f-4ca6-acd5-36bfcc0ecfbb",
   "metadata": {
    "execution": {
     "iopub.execute_input": "2023-03-26T08:00:38.967787Z",
     "iopub.status.busy": "2023-03-26T08:00:38.967467Z",
     "iopub.status.idle": "2023-03-26T08:00:39.068102Z",
     "shell.execute_reply": "2023-03-26T08:00:39.067653Z",
     "shell.execute_reply.started": "2023-03-26T08:00:38.967775Z"
    },
    "tags": []
   },
   "outputs": [],
   "source": [
    "grouped = grouped.groupby(level=0, observed=True).filter(lambda g: g.nunique() > 1)"
   ]
  },
  {
   "cell_type": "code",
   "execution_count": 25,
   "id": "439a9d48-0395-4b66-9eba-54dc3789005b",
   "metadata": {
    "execution": {
     "iopub.execute_input": "2023-03-26T08:00:39.068789Z",
     "iopub.status.busy": "2023-03-26T08:00:39.068686Z",
     "iopub.status.idle": "2023-03-26T08:00:40.936908Z",
     "shell.execute_reply": "2023-03-26T08:00:40.936219Z",
     "shell.execute_reply.started": "2023-03-26T08:00:39.068780Z"
    },
    "tags": []
   },
   "outputs": [],
   "source": [
    "two_from_each_houe = grouped.groupby(observed=True, level=0, group_keys=False).apply(lambda g: g.sample(2))"
   ]
  },
  {
   "cell_type": "code",
   "execution_count": 26,
   "id": "a2ec24e9-8bc5-4328-af68-8b3f5ad16943",
   "metadata": {
    "execution": {
     "iopub.execute_input": "2023-03-26T08:00:45.418498Z",
     "iopub.status.busy": "2023-03-26T08:00:45.417521Z",
     "iopub.status.idle": "2023-03-26T08:00:45.456207Z",
     "shell.execute_reply": "2023-03-26T08:00:45.455705Z",
     "shell.execute_reply.started": "2023-03-26T08:00:45.418405Z"
    },
    "tags": []
   },
   "outputs": [],
   "source": [
    "trial_data = two_from_each_houe.reset_index()#.drop('hh_id', axis=1).reset_index()"
   ]
  },
  {
   "cell_type": "code",
   "execution_count": 27,
   "id": "661829ed-e96f-478b-a359-eb97759bd0ec",
   "metadata": {
    "execution": {
     "iopub.execute_input": "2023-03-26T08:00:49.522051Z",
     "iopub.status.busy": "2023-03-26T08:00:49.521179Z",
     "iopub.status.idle": "2023-03-26T08:00:49.676738Z",
     "shell.execute_reply": "2023-03-26T08:00:49.676305Z",
     "shell.execute_reply.started": "2023-03-26T08:00:49.521995Z"
    },
    "tags": []
   },
   "outputs": [],
   "source": [
    "trial_pairs = trial_data.groupby('hh_id')['iiqid'].agg(['min', 'max'])\n",
    "trial_pairs.columns = ['first','second']"
   ]
  },
  {
   "cell_type": "code",
   "execution_count": 30,
   "id": "f2e53462-780f-4fc5-8e9b-2c41960adcb3",
   "metadata": {
    "execution": {
     "iopub.execute_input": "2023-03-26T08:15:56.831985Z",
     "iopub.status.busy": "2023-03-26T08:15:56.830097Z",
     "iopub.status.idle": "2023-03-26T08:15:56.939438Z",
     "shell.execute_reply": "2023-03-26T08:15:56.939088Z",
     "shell.execute_reply.started": "2023-03-26T08:15:56.831829Z"
    },
    "tags": []
   },
   "outputs": [],
   "source": [
    "cookie_time = data.groupby('iiqid')['time'].agg(['min', 'max'])"
   ]
  },
  {
   "cell_type": "code",
   "execution_count": 37,
   "id": "b2f4cb88-ed12-4ab4-b081-bf9393aae444",
   "metadata": {
    "execution": {
     "iopub.execute_input": "2023-03-26T08:17:50.766350Z",
     "iopub.status.busy": "2023-03-26T08:17:50.765219Z",
     "iopub.status.idle": "2023-03-26T08:17:50.817246Z",
     "shell.execute_reply": "2023-03-26T08:17:50.816835Z",
     "shell.execute_reply.started": "2023-03-26T08:17:50.766274Z"
    },
    "tags": []
   },
   "outputs": [],
   "source": [
    "cookie_time['interval'] = (cookie_time['max'] - cookie_time['min']).apply(lambda t: t.days)"
   ]
  },
  {
   "cell_type": "code",
   "execution_count": 70,
   "id": "c1bb131b-cae3-4c3c-8076-eb44b2f5f4b3",
   "metadata": {
    "execution": {
     "iopub.execute_input": "2023-03-26T09:10:26.953522Z",
     "iopub.status.busy": "2023-03-26T09:10:26.952124Z",
     "iopub.status.idle": "2023-03-26T09:11:15.888939Z",
     "shell.execute_reply": "2023-03-26T09:11:15.888328Z",
     "shell.execute_reply.started": "2023-03-26T09:10:26.953445Z"
    },
    "tags": []
   },
   "outputs": [],
   "source": [
    "noises = data.groupby('iiqid').apply(denoised_fraction)"
   ]
  },
  {
   "cell_type": "code",
   "execution_count": 90,
   "id": "22613561-c39b-45f5-b5ca-9bfb95264928",
   "metadata": {
    "execution": {
     "iopub.execute_input": "2023-03-26T09:31:25.688281Z",
     "iopub.status.busy": "2023-03-26T09:31:25.686861Z",
     "iopub.status.idle": "2023-03-26T09:31:25.737852Z",
     "shell.execute_reply": "2023-03-26T09:31:25.737399Z",
     "shell.execute_reply.started": "2023-03-26T09:31:25.688219Z"
    },
    "tags": []
   },
   "outputs": [],
   "source": [
    "noises = noises.rename('noise')"
   ]
  },
  {
   "cell_type": "markdown",
   "id": "1eb6bf5f-34d5-4159-b9d5-617b364f8ee9",
   "metadata": {
    "tags": []
   },
   "source": [
    "## A single pair"
   ]
  },
  {
   "cell_type": "markdown",
   "id": "b9adec2c-a3dc-4f5c-b188-b293c5e29fd9",
   "metadata": {},
   "source": [
    "- Time interval first\n",
    "- Time interval second\n",
    "- Time between end first and start second(maybe after remove outliers)\n",
    "- Time interval we looked at (can check options)\n",
    "- Number of points min\n",
    "- Number of points max\n",
    "- UA version error\n",
    "- Overlap errors that we calculate"
   ]
  },
  {
   "cell_type": "code",
   "execution_count": 42,
   "id": "4ad5f77f-f435-48ef-8e87-455217811b7a",
   "metadata": {
    "execution": {
     "iopub.execute_input": "2023-03-26T08:34:48.487212Z",
     "iopub.status.busy": "2023-03-26T08:34:48.485450Z",
     "iopub.status.idle": "2023-03-26T08:34:48.594931Z",
     "shell.execute_reply": "2023-03-26T08:34:48.594492Z",
     "shell.execute_reply.started": "2023-03-26T08:34:48.487134Z"
    },
    "tags": []
   },
   "outputs": [],
   "source": [
    "random_cookie_1 = np.random.choice(data['iiqid'].unique())\n",
    "random_cookie_2 = np.random.choice(data['iiqid'].unique())"
   ]
  },
  {
   "cell_type": "code",
   "execution_count": 44,
   "id": "18323a92-beaa-4382-8070-2211aa601817",
   "metadata": {
    "execution": {
     "iopub.execute_input": "2023-03-26T08:37:43.569205Z",
     "iopub.status.busy": "2023-03-26T08:37:43.567561Z",
     "iopub.status.idle": "2023-03-26T08:37:43.685086Z",
     "shell.execute_reply": "2023-03-26T08:37:43.684669Z",
     "shell.execute_reply.started": "2023-03-26T08:37:43.569124Z"
    },
    "tags": []
   },
   "outputs": [],
   "source": [
    "size1 = len(data[data['iiqid']==random_cookie_1])\n",
    "size2 = len(data[data['iiqid']==random_cookie_2])"
   ]
  },
  {
   "cell_type": "code",
   "execution_count": 91,
   "id": "46bf4741-8879-489a-98ac-c071811974f8",
   "metadata": {
    "execution": {
     "iopub.execute_input": "2023-03-26T09:31:55.343125Z",
     "iopub.status.busy": "2023-03-26T09:31:55.341614Z",
     "iopub.status.idle": "2023-03-26T09:31:55.401850Z",
     "shell.execute_reply": "2023-03-26T09:31:55.401469Z",
     "shell.execute_reply.started": "2023-03-26T09:31:55.343046Z"
    },
    "tags": []
   },
   "outputs": [],
   "source": [
    "single_row = pd.DataFrame({'id1': [random_cookie_1], 'id2': [random_cookie_2], \n",
    "              'min_size': min(size1, size2), 'max_size':max(size1, size2)})"
   ]
  },
  {
   "cell_type": "code",
   "execution_count": 92,
   "id": "79ce40eb-ad0a-47e1-8d7f-0c0fae2617c6",
   "metadata": {
    "execution": {
     "iopub.execute_input": "2023-03-26T09:31:55.534386Z",
     "iopub.status.busy": "2023-03-26T09:31:55.533936Z",
     "iopub.status.idle": "2023-03-26T09:31:55.569446Z",
     "shell.execute_reply": "2023-03-26T09:31:55.569095Z",
     "shell.execute_reply.started": "2023-03-26T09:31:55.534354Z"
    },
    "tags": []
   },
   "outputs": [],
   "source": [
    "single_row = single_row.merge(cookie_time, left_on='id1', right_index=True)\n",
    "single_row = single_row.merge(cookie_time, left_on='id2', right_index=True, \n",
    "                              suffixes=('_id1', '_id2'))"
   ]
  },
  {
   "cell_type": "code",
   "execution_count": 93,
   "id": "599abb2b-7ac7-4f7b-88b1-a3bacb528212",
   "metadata": {
    "execution": {
     "iopub.execute_input": "2023-03-26T09:31:59.687650Z",
     "iopub.status.busy": "2023-03-26T09:31:59.686832Z",
     "iopub.status.idle": "2023-03-26T09:31:59.725949Z",
     "shell.execute_reply": "2023-03-26T09:31:59.725521Z",
     "shell.execute_reply.started": "2023-03-26T09:31:59.687584Z"
    },
    "tags": []
   },
   "outputs": [],
   "source": [
    "single_row = single_row.merge(noises, left_on='id1', right_index=True)\n",
    "single_row = single_row.merge(noises, left_on='id2', right_index=True, \n",
    "                              suffixes=('_id1', '_id2'))"
   ]
  },
  {
   "cell_type": "code",
   "execution_count": 94,
   "id": "2b4c3bd5-5134-4b0b-880a-d7f2cadfe426",
   "metadata": {
    "execution": {
     "iopub.execute_input": "2023-03-26T09:32:01.339931Z",
     "iopub.status.busy": "2023-03-26T09:32:01.339037Z",
     "iopub.status.idle": "2023-03-26T09:32:01.382653Z",
     "shell.execute_reply": "2023-03-26T09:32:01.382269Z",
     "shell.execute_reply.started": "2023-03-26T09:32:01.339867Z"
    },
    "tags": []
   },
   "outputs": [
    {
     "data": {
      "text/html": [
       "<div>\n",
       "<style scoped>\n",
       "    .dataframe tbody tr th:only-of-type {\n",
       "        vertical-align: middle;\n",
       "    }\n",
       "\n",
       "    .dataframe tbody tr th {\n",
       "        vertical-align: top;\n",
       "    }\n",
       "\n",
       "    .dataframe thead th {\n",
       "        text-align: right;\n",
       "    }\n",
       "</style>\n",
       "<table border=\"1\" class=\"dataframe\">\n",
       "  <thead>\n",
       "    <tr style=\"text-align: right;\">\n",
       "      <th></th>\n",
       "      <th>id1</th>\n",
       "      <th>id2</th>\n",
       "      <th>min_size</th>\n",
       "      <th>max_size</th>\n",
       "      <th>min_id1</th>\n",
       "      <th>max_id1</th>\n",
       "      <th>interval_id1</th>\n",
       "      <th>min_id2</th>\n",
       "      <th>max_id2</th>\n",
       "      <th>interval_id2</th>\n",
       "      <th>noise_id1</th>\n",
       "      <th>noise_id2</th>\n",
       "    </tr>\n",
       "  </thead>\n",
       "  <tbody>\n",
       "    <tr>\n",
       "      <th>0</th>\n",
       "      <td>ndLC0k1Lue</td>\n",
       "      <td>IP4SPsqyfL</td>\n",
       "      <td>17</td>\n",
       "      <td>25</td>\n",
       "      <td>2022-12-08 22:57:29.809</td>\n",
       "      <td>2023-01-14 01:23:28.252</td>\n",
       "      <td>36</td>\n",
       "      <td>2022-12-24 19:43:33.714</td>\n",
       "      <td>2023-02-27 13:27:28.959</td>\n",
       "      <td>64</td>\n",
       "      <td>1.0</td>\n",
       "      <td>1.0</td>\n",
       "    </tr>\n",
       "  </tbody>\n",
       "</table>\n",
       "</div>"
      ],
      "text/plain": [
       "          id1         id2  min_size  max_size                 min_id1  \\\n",
       "0  ndLC0k1Lue  IP4SPsqyfL        17        25 2022-12-08 22:57:29.809   \n",
       "\n",
       "                  max_id1  interval_id1                 min_id2  \\\n",
       "0 2023-01-14 01:23:28.252            36 2022-12-24 19:43:33.714   \n",
       "\n",
       "                  max_id2  interval_id2  noise_id1  noise_id2  \n",
       "0 2023-02-27 13:27:28.959            64        1.0        1.0  "
      ]
     },
     "execution_count": 94,
     "metadata": {},
     "output_type": "execute_result"
    }
   ],
   "source": [
    "single_row"
   ]
  },
  {
   "cell_type": "markdown",
   "id": "600b16ba-6ec2-4f0f-80f9-9d7eff6a9224",
   "metadata": {},
   "source": [
    "## Random Data"
   ]
  },
  {
   "cell_type": "code",
   "execution_count": 108,
   "id": "675ef9c0-0292-48c8-955c-08a508bfbd28",
   "metadata": {
    "execution": {
     "iopub.execute_input": "2023-03-26T11:02:26.094948Z",
     "iopub.status.busy": "2023-03-26T11:02:26.093048Z",
     "iopub.status.idle": "2023-03-26T11:05:09.200433Z",
     "shell.execute_reply": "2023-03-26T11:05:09.199278Z",
     "shell.execute_reply.started": "2023-03-26T11:02:26.094847Z"
    },
    "tags": []
   },
   "outputs": [
    {
     "name": "stderr",
     "output_type": "stream",
     "text": [
      "100%|████████████████████████████████████████████| 2102/2102 [02:43<00:00, 12.89it/s]\n"
     ]
    }
   ],
   "source": [
    "noise_of_pairs = {'merge_noise': [], 'size_0': [], 'size_1': [], 'first' :[], 'second': []}\n",
    "\n",
    "for house in tqdm(trial_pairs.index):\n",
    "    iiqid_0, iiqid_1 = trial_pairs.loc[house].values\n",
    "    pair_data = filtered[(filtered['hh_id']==house) \n",
    "                     & ((filtered['iiqid']==iiqid_0) \n",
    "                        | (filtered['iiqid']==iiqid_1))].copy()\n",
    "    pair_data.sort_values(by='time', inplace=True)\n",
    "    serialize_id = {iiqid_0: 0, iiqid_1: 1}\n",
    "    \n",
    "    s, inds = lnds(pair_data['iiqid'].apply(lambda x: serialize_id[x]).values)\n",
    "    not_inds = [i for i in range(len(pair_data)) if i not in inds]\n",
    "    \n",
    "    noise_of_pairs['merge_noise'].append(1 - len(s) / len(pair_data))\n",
    "    noise_of_pairs['size_0'].append(sum(pair_data['iiqid']==iiqid_0))\n",
    "    noise_of_pairs['size_1'].append(sum(pair_data['iiqid']==iiqid_1))\n",
    "    noise_of_pairs['first'].append(iiqid_0)\n",
    "    noise_of_pairs['second'].append(iiqid_1)\n",
    "noise_of_pairs_df = pd.DataFrame(noise_of_pairs)"
   ]
  },
  {
   "cell_type": "code",
   "execution_count": 109,
   "id": "5362dfeb-51c1-4356-b859-8711aa51021f",
   "metadata": {
    "execution": {
     "iopub.execute_input": "2023-03-26T11:05:09.202388Z",
     "iopub.status.busy": "2023-03-26T11:05:09.202244Z",
     "iopub.status.idle": "2023-03-26T11:05:09.233290Z",
     "shell.execute_reply": "2023-03-26T11:05:09.233029Z",
     "shell.execute_reply.started": "2023-03-26T11:05:09.202372Z"
    },
    "tags": []
   },
   "outputs": [],
   "source": [
    "random_trial_data = noise_of_pairs_df.merge(cookie_time, left_on='first', right_index=True)\n",
    "random_trial_data = random_trial_data.merge(cookie_time, left_on='second', right_index=True, \n",
    "                              suffixes=('_0', '_1'))"
   ]
  },
  {
   "cell_type": "code",
   "execution_count": 110,
   "id": "ba9da28a-86fb-451d-98e1-49d49d073b29",
   "metadata": {
    "execution": {
     "iopub.execute_input": "2023-03-26T11:05:09.233930Z",
     "iopub.status.busy": "2023-03-26T11:05:09.233778Z",
     "iopub.status.idle": "2023-03-26T11:05:09.256243Z",
     "shell.execute_reply": "2023-03-26T11:05:09.255843Z",
     "shell.execute_reply.started": "2023-03-26T11:05:09.233920Z"
    },
    "tags": []
   },
   "outputs": [],
   "source": [
    "random_trial_data = random_trial_data.merge(noises, left_on='first', right_index=True)\n",
    "random_trial_data = random_trial_data.merge(noises, left_on='second', right_index=True, \n",
    "                              suffixes=('_0', '_1'))"
   ]
  },
  {
   "cell_type": "code",
   "execution_count": 112,
   "id": "e153b276-d008-4186-9d26-f91f82a33913",
   "metadata": {
    "execution": {
     "iopub.execute_input": "2023-03-26T11:05:09.290009Z",
     "iopub.status.busy": "2023-03-26T11:05:09.289897Z",
     "iopub.status.idle": "2023-03-26T11:05:09.304897Z",
     "shell.execute_reply": "2023-03-26T11:05:09.304593Z",
     "shell.execute_reply.started": "2023-03-26T11:05:09.289999Z"
    },
    "tags": []
   },
   "outputs": [],
   "source": [
    "random_trial_data['min_size'] = random_trial_data[['size_0','size_1']].min(axis=1)\n",
    "random_trial_data['max_size'] = random_trial_data[['size_0','size_1']].max(axis=1)"
   ]
  },
  {
   "cell_type": "code",
   "execution_count": 118,
   "id": "f4b237e1-b847-47ef-8dce-604e85b5b704",
   "metadata": {
    "execution": {
     "iopub.execute_input": "2023-03-26T11:11:31.418644Z",
     "iopub.status.busy": "2023-03-26T11:11:31.416777Z",
     "iopub.status.idle": "2023-03-26T11:11:31.471956Z",
     "shell.execute_reply": "2023-03-26T11:11:31.471575Z",
     "shell.execute_reply.started": "2023-03-26T11:11:31.418548Z"
    },
    "tags": []
   },
   "outputs": [],
   "source": [
    "random_trial_data = random_trial_data.rename(columns={'min_0': 'start_0', 'max_0': 'end_0',\n",
    "                                  'min_1': 'start_1', 'max_1': 'end_1',\n",
    "                                  'noise_0': 'vers_clean_0', 'noise_1': 'vers_clean_1'})"
   ]
  },
  {
   "cell_type": "code",
   "execution_count": 133,
   "id": "721312eb-97d3-4724-b03d-e3f82fe4d895",
   "metadata": {
    "execution": {
     "iopub.execute_input": "2023-03-26T11:26:47.109385Z",
     "iopub.status.busy": "2023-03-26T11:26:47.107321Z",
     "iopub.status.idle": "2023-03-26T11:26:47.190532Z",
     "shell.execute_reply": "2023-03-26T11:26:47.190154Z",
     "shell.execute_reply.started": "2023-03-26T11:26:47.109303Z"
    },
    "tags": []
   },
   "outputs": [],
   "source": [
    "random_trial_data['min_interval'] = random_trial_data[['interval_0', 'interval_1']].min(axis=1)\n",
    "random_trial_data['max_interval'] = random_trial_data[['interval_0', 'interval_1']].max(axis=1)\n",
    "\n",
    "random_trial_data['min_vers_clean'] = random_trial_data[['vers_clean_0', 'vers_clean_1']].min(axis=1)\n",
    "random_trial_data['max_vers_clean'] = random_trial_data[['vers_clean_0', 'vers_clean_1']].max(axis=1)"
   ]
  },
  {
   "cell_type": "code",
   "execution_count": 134,
   "id": "5ffb3ac4-4224-433c-b8e2-b7c1985448e1",
   "metadata": {
    "execution": {
     "iopub.execute_input": "2023-03-26T11:26:47.857520Z",
     "iopub.status.busy": "2023-03-26T11:26:47.856896Z",
     "iopub.status.idle": "2023-03-26T11:26:47.915603Z",
     "shell.execute_reply": "2023-03-26T11:26:47.915181Z",
     "shell.execute_reply.started": "2023-03-26T11:26:47.857472Z"
    },
    "tags": []
   },
   "outputs": [
    {
     "data": {
      "text/html": [
       "<div>\n",
       "<style scoped>\n",
       "    .dataframe tbody tr th:only-of-type {\n",
       "        vertical-align: middle;\n",
       "    }\n",
       "\n",
       "    .dataframe tbody tr th {\n",
       "        vertical-align: top;\n",
       "    }\n",
       "\n",
       "    .dataframe thead th {\n",
       "        text-align: right;\n",
       "    }\n",
       "</style>\n",
       "<table border=\"1\" class=\"dataframe\">\n",
       "  <thead>\n",
       "    <tr style=\"text-align: right;\">\n",
       "      <th></th>\n",
       "      <th>count</th>\n",
       "      <th>mean</th>\n",
       "      <th>std</th>\n",
       "      <th>min</th>\n",
       "      <th>25%</th>\n",
       "      <th>50%</th>\n",
       "      <th>75%</th>\n",
       "      <th>max</th>\n",
       "    </tr>\n",
       "  </thead>\n",
       "  <tbody>\n",
       "    <tr>\n",
       "      <th>merge_noise</th>\n",
       "      <td>2102.0</td>\n",
       "      <td>0.159945</td>\n",
       "      <td>0.139145</td>\n",
       "      <td>0.000000</td>\n",
       "      <td>0.036535</td>\n",
       "      <td>0.12607</td>\n",
       "      <td>0.26087</td>\n",
       "      <td>0.5</td>\n",
       "    </tr>\n",
       "    <tr>\n",
       "      <th>size_0</th>\n",
       "      <td>2102.0</td>\n",
       "      <td>54.137012</td>\n",
       "      <td>94.935837</td>\n",
       "      <td>1.000000</td>\n",
       "      <td>4.000000</td>\n",
       "      <td>18.00000</td>\n",
       "      <td>61.00000</td>\n",
       "      <td>1006.0</td>\n",
       "    </tr>\n",
       "    <tr>\n",
       "      <th>size_1</th>\n",
       "      <td>2102.0</td>\n",
       "      <td>57.560419</td>\n",
       "      <td>125.057938</td>\n",
       "      <td>1.000000</td>\n",
       "      <td>5.000000</td>\n",
       "      <td>19.00000</td>\n",
       "      <td>61.75000</td>\n",
       "      <td>2460.0</td>\n",
       "    </tr>\n",
       "    <tr>\n",
       "      <th>interval_0</th>\n",
       "      <td>2102.0</td>\n",
       "      <td>45.789248</td>\n",
       "      <td>33.642362</td>\n",
       "      <td>0.000000</td>\n",
       "      <td>7.000000</td>\n",
       "      <td>52.00000</td>\n",
       "      <td>79.00000</td>\n",
       "      <td>88.0</td>\n",
       "    </tr>\n",
       "    <tr>\n",
       "      <th>interval_1</th>\n",
       "      <td>2102.0</td>\n",
       "      <td>46.869648</td>\n",
       "      <td>33.071600</td>\n",
       "      <td>0.000000</td>\n",
       "      <td>10.000000</td>\n",
       "      <td>54.00000</td>\n",
       "      <td>79.00000</td>\n",
       "      <td>88.0</td>\n",
       "    </tr>\n",
       "    <tr>\n",
       "      <th>vers_clean_0</th>\n",
       "      <td>2102.0</td>\n",
       "      <td>0.996175</td>\n",
       "      <td>0.019181</td>\n",
       "      <td>0.500000</td>\n",
       "      <td>1.000000</td>\n",
       "      <td>1.00000</td>\n",
       "      <td>1.00000</td>\n",
       "      <td>1.0</td>\n",
       "    </tr>\n",
       "    <tr>\n",
       "      <th>vers_clean_1</th>\n",
       "      <td>2102.0</td>\n",
       "      <td>0.996574</td>\n",
       "      <td>0.014585</td>\n",
       "      <td>0.761194</td>\n",
       "      <td>1.000000</td>\n",
       "      <td>1.00000</td>\n",
       "      <td>1.00000</td>\n",
       "      <td>1.0</td>\n",
       "    </tr>\n",
       "    <tr>\n",
       "      <th>min_size</th>\n",
       "      <td>2102.0</td>\n",
       "      <td>20.097050</td>\n",
       "      <td>37.076828</td>\n",
       "      <td>1.000000</td>\n",
       "      <td>2.000000</td>\n",
       "      <td>7.00000</td>\n",
       "      <td>22.00000</td>\n",
       "      <td>368.0</td>\n",
       "    </tr>\n",
       "    <tr>\n",
       "      <th>max_size</th>\n",
       "      <td>2102.0</td>\n",
       "      <td>91.600381</td>\n",
       "      <td>143.964901</td>\n",
       "      <td>1.000000</td>\n",
       "      <td>16.000000</td>\n",
       "      <td>47.00000</td>\n",
       "      <td>113.00000</td>\n",
       "      <td>2460.0</td>\n",
       "    </tr>\n",
       "    <tr>\n",
       "      <th>min_interval</th>\n",
       "      <td>2102.0</td>\n",
       "      <td>30.140343</td>\n",
       "      <td>30.591173</td>\n",
       "      <td>0.000000</td>\n",
       "      <td>0.000000</td>\n",
       "      <td>21.00000</td>\n",
       "      <td>59.00000</td>\n",
       "      <td>88.0</td>\n",
       "    </tr>\n",
       "    <tr>\n",
       "      <th>max_interval</th>\n",
       "      <td>2102.0</td>\n",
       "      <td>62.518554</td>\n",
       "      <td>27.674528</td>\n",
       "      <td>0.000000</td>\n",
       "      <td>46.000000</td>\n",
       "      <td>75.00000</td>\n",
       "      <td>85.00000</td>\n",
       "      <td>88.0</td>\n",
       "    </tr>\n",
       "    <tr>\n",
       "      <th>min_vers_clean</th>\n",
       "      <td>2102.0</td>\n",
       "      <td>0.993081</td>\n",
       "      <td>0.023467</td>\n",
       "      <td>0.500000</td>\n",
       "      <td>1.000000</td>\n",
       "      <td>1.00000</td>\n",
       "      <td>1.00000</td>\n",
       "      <td>1.0</td>\n",
       "    </tr>\n",
       "    <tr>\n",
       "      <th>max_vers_clean</th>\n",
       "      <td>2102.0</td>\n",
       "      <td>0.999668</td>\n",
       "      <td>0.002877</td>\n",
       "      <td>0.950000</td>\n",
       "      <td>1.000000</td>\n",
       "      <td>1.00000</td>\n",
       "      <td>1.00000</td>\n",
       "      <td>1.0</td>\n",
       "    </tr>\n",
       "  </tbody>\n",
       "</table>\n",
       "</div>"
      ],
      "text/plain": [
       "                 count       mean         std       min        25%       50%  \\\n",
       "merge_noise     2102.0   0.159945    0.139145  0.000000   0.036535   0.12607   \n",
       "size_0          2102.0  54.137012   94.935837  1.000000   4.000000  18.00000   \n",
       "size_1          2102.0  57.560419  125.057938  1.000000   5.000000  19.00000   \n",
       "interval_0      2102.0  45.789248   33.642362  0.000000   7.000000  52.00000   \n",
       "interval_1      2102.0  46.869648   33.071600  0.000000  10.000000  54.00000   \n",
       "vers_clean_0    2102.0   0.996175    0.019181  0.500000   1.000000   1.00000   \n",
       "vers_clean_1    2102.0   0.996574    0.014585  0.761194   1.000000   1.00000   \n",
       "min_size        2102.0  20.097050   37.076828  1.000000   2.000000   7.00000   \n",
       "max_size        2102.0  91.600381  143.964901  1.000000  16.000000  47.00000   \n",
       "min_interval    2102.0  30.140343   30.591173  0.000000   0.000000  21.00000   \n",
       "max_interval    2102.0  62.518554   27.674528  0.000000  46.000000  75.00000   \n",
       "min_vers_clean  2102.0   0.993081    0.023467  0.500000   1.000000   1.00000   \n",
       "max_vers_clean  2102.0   0.999668    0.002877  0.950000   1.000000   1.00000   \n",
       "\n",
       "                      75%     max  \n",
       "merge_noise       0.26087     0.5  \n",
       "size_0           61.00000  1006.0  \n",
       "size_1           61.75000  2460.0  \n",
       "interval_0       79.00000    88.0  \n",
       "interval_1       79.00000    88.0  \n",
       "vers_clean_0      1.00000     1.0  \n",
       "vers_clean_1      1.00000     1.0  \n",
       "min_size         22.00000   368.0  \n",
       "max_size        113.00000  2460.0  \n",
       "min_interval     59.00000    88.0  \n",
       "max_interval     85.00000    88.0  \n",
       "min_vers_clean    1.00000     1.0  \n",
       "max_vers_clean    1.00000     1.0  "
      ]
     },
     "execution_count": 134,
     "metadata": {},
     "output_type": "execute_result"
    }
   ],
   "source": [
    "random_trial_data.describe().transpose()"
   ]
  },
  {
   "cell_type": "code",
   "execution_count": 135,
   "id": "fb5626dd-da1b-4683-b364-4da9509a4ff4",
   "metadata": {
    "execution": {
     "iopub.execute_input": "2023-03-26T11:26:50.533539Z",
     "iopub.status.busy": "2023-03-26T11:26:50.532999Z",
     "iopub.status.idle": "2023-03-26T11:26:51.197896Z",
     "shell.execute_reply": "2023-03-26T11:26:51.197586Z",
     "shell.execute_reply.started": "2023-03-26T11:26:50.533499Z"
    },
    "tags": []
   },
   "outputs": [
    {
     "data": {
      "text/plain": [
       "<Axes: >"
      ]
     },
     "execution_count": 135,
     "metadata": {},
     "output_type": "execute_result"
    },
    {
     "data": {
      "image/png": "[encoded data removed]",
      "text/plain": [
       "<Figure size 1200x500 with 2 Axes>"
      ]
     },
     "metadata": {},
     "output_type": "display_data"
    }
   ],
   "source": [
    "sns.heatmap(data=random_trial_data.corr(numeric_only=True), annot=True, vmin=-1, vmax=1, cmap='vlag')"
   ]
  },
  {
   "cell_type": "code",
   "execution_count": 137,
   "id": "40e153d1-2d95-427a-a7bb-52ca37520dff",
   "metadata": {
    "execution": {
     "iopub.execute_input": "2023-03-26T11:27:33.751146Z",
     "iopub.status.busy": "2023-03-26T11:27:33.750238Z",
     "iopub.status.idle": "2023-03-26T11:27:33.783231Z",
     "shell.execute_reply": "2023-03-26T11:27:33.782810Z",
     "shell.execute_reply.started": "2023-03-26T11:27:33.751082Z"
    },
    "tags": []
   },
   "outputs": [
    {
     "data": {
      "text/plain": [
       "array([0.45933728, 0.98347928, 0.23818867, 0.71549048, 0.94033721,\n",
       "       0.16850095])"
      ]
     },
     "execution_count": 137,
     "metadata": {},
     "output_type": "execute_result"
    }
   ],
   "source": [
    "n = 6\n",
    "np.random.random_sample(size=n)"
   ]
  },
  {
   "cell_type": "code",
   "execution_count": 147,
   "id": "93ee2b6f-c39c-4c1b-84c6-463e8a074ce1",
   "metadata": {
    "execution": {
     "iopub.execute_input": "2023-03-26T11:33:00.384167Z",
     "iopub.status.busy": "2023-03-26T11:33:00.382316Z",
     "iopub.status.idle": "2023-03-26T11:33:00.425377Z",
     "shell.execute_reply": "2023-03-26T11:33:00.424937Z",
     "shell.execute_reply.started": "2023-03-26T11:33:00.384050Z"
    },
    "tags": []
   },
   "outputs": [],
   "source": [
    "features = ['min_size', 'min_interval', 'min_vers_clean']"
   ]
  },
  {
   "cell_type": "code",
   "execution_count": 174,
   "id": "0f319388-79ac-48e7-9e1b-b336b60966d2",
   "metadata": {
    "execution": {
     "iopub.execute_input": "2023-03-26T11:48:27.881371Z",
     "iopub.status.busy": "2023-03-26T11:48:27.879510Z",
     "iopub.status.idle": "2023-03-26T11:48:27.911290Z",
     "shell.execute_reply": "2023-03-26T11:48:27.910823Z",
     "shell.execute_reply.started": "2023-03-26T11:48:27.881309Z"
    },
    "tags": []
   },
   "outputs": [],
   "source": [
    "# mins = random_trial_data[features].min()\n",
    "# maxs = random_trial_data[features].max()"
   ]
  },
  {
   "cell_type": "code",
   "execution_count": 211,
   "id": "9b6b24ff-b6dc-4440-81d7-c38a360925c8",
   "metadata": {
    "execution": {
     "iopub.execute_input": "2023-03-26T12:08:12.164724Z",
     "iopub.status.busy": "2023-03-26T12:08:12.163760Z",
     "iopub.status.idle": "2023-03-26T12:08:12.190619Z",
     "shell.execute_reply": "2023-03-26T12:08:12.190255Z",
     "shell.execute_reply.started": "2023-03-26T12:08:12.164662Z"
    },
    "tags": []
   },
   "outputs": [],
   "source": [
    "# features\n",
    "thresholds = [30, 30, 0.5]"
   ]
  },
  {
   "cell_type": "code",
   "execution_count": 212,
   "id": "e0e5e8a4-ccc9-4ae4-b33b-dfcbe1a6d707",
   "metadata": {
    "execution": {
     "iopub.execute_input": "2023-03-26T12:08:12.410139Z",
     "iopub.status.busy": "2023-03-26T12:08:12.409729Z",
     "iopub.status.idle": "2023-03-26T12:08:12.439993Z",
     "shell.execute_reply": "2023-03-26T12:08:12.439625Z",
     "shell.execute_reply.started": "2023-03-26T12:08:12.410111Z"
    },
    "tags": []
   },
   "outputs": [
    {
     "data": {
      "text/plain": [
       "0.28262464954209604"
      ]
     },
     "execution_count": 212,
     "metadata": {},
     "output_type": "execute_result"
    }
   ],
   "source": [
    "random_trial_data.loc[(random_trial_data[features] >= thresholds).all(axis=1), 'merge_noise'].mean()"
   ]
  },
  {
   "cell_type": "code",
   "execution_count": 189,
   "id": "a0947613-85c0-465a-b5e5-ed826d3a0b77",
   "metadata": {
    "execution": {
     "iopub.execute_input": "2023-03-26T11:52:04.090194Z",
     "iopub.status.busy": "2023-03-26T11:52:04.089209Z",
     "iopub.status.idle": "2023-03-26T11:52:04.143196Z",
     "shell.execute_reply": "2023-03-26T11:52:04.142198Z",
     "shell.execute_reply.started": "2023-03-26T11:52:04.090081Z"
    },
    "tags": []
   },
   "outputs": [],
   "source": [
    "from itertools import product"
   ]
  },
  {
   "cell_type": "code",
   "execution_count": 192,
   "id": "8ff98eff-6e91-45a7-8164-ee458c2333a0",
   "metadata": {
    "execution": {
     "iopub.execute_input": "2023-03-26T12:01:26.097413Z",
     "iopub.status.busy": "2023-03-26T12:01:26.096431Z",
     "iopub.status.idle": "2023-03-26T12:01:26.338463Z",
     "shell.execute_reply": "2023-03-26T12:01:26.338101Z",
     "shell.execute_reply.started": "2023-03-26T12:01:26.097369Z"
    },
    "tags": []
   },
   "outputs": [],
   "source": [
    "matrix = []\n",
    "for s in range(1, 30):\n",
    "    row = []\n",
    "    for i in range(14):\n",
    "        row.append(random_trial_data.loc[(random_trial_data[features] >= [s, i, 0.5]).all(axis=1), \n",
    "                                         'merge_noise'].mean())\n",
    "    matrix.append(row)"
   ]
  },
  {
   "cell_type": "code",
   "execution_count": null,
   "id": "68c6d4f8-4df1-4de6-9add-26b96d60e352",
   "metadata": {
    "tags": []
   },
   "outputs": [],
   "source": [
    "\n",
    "random_trial_data.loc[(random_trial_data[features] >= [s, i, 0.5]).all(axis=1), \n",
    "                                         'merge_noise'].mean())"
   ]
  },
  {
   "cell_type": "code",
   "execution_count": 206,
   "id": "cce30c32-278d-4901-a3eb-9053e3e37dcf",
   "metadata": {
    "execution": {
     "iopub.execute_input": "2023-03-26T12:06:36.311261Z",
     "iopub.status.busy": "2023-03-26T12:06:36.309732Z",
     "iopub.status.idle": "2023-03-26T12:06:36.575368Z",
     "shell.execute_reply": "2023-03-26T12:06:36.575054Z",
     "shell.execute_reply.started": "2023-03-26T12:06:36.311189Z"
    },
    "tags": []
   },
   "outputs": [
    {
     "data": {
      "text/plain": [
       "<Axes: >"
      ]
     },
     "execution_count": 206,
     "metadata": {},
     "output_type": "execute_result"
    },
    {
     "data": {
      "image/png": "[encoded data removed]",
      "text/plain": [
       "<Figure size 1200x500 with 2 Axes>"
      ]
     },
     "metadata": {},
     "output_type": "display_data"
    }
   ],
   "source": [
    "sns.heatmap(data=pd.DataFrame(matrix, columns=range(14), index=range(1,30)), cmap='viridis')"
   ]
  },
  {
   "cell_type": "markdown",
   "id": "18994987-853e-4349-afda-75e867cd49f2",
   "metadata": {},
   "source": [
    "## Non-Random Data"
   ]
  },
  {
   "cell_type": "code",
   "execution_count": null,
   "id": "981e4853-f9fe-43a8-90f8-b40435cb71a9",
   "metadata": {},
   "outputs": [],
   "source": []
  }
 ],
 "metadata": {
  "kernelspec": {
   "display_name": "Python 3 (ipykernel)",
   "language": "python",
   "name": "python3"
  },
  "language_info": {
   "codemirror_mode": {
    "name": "ipython",
    "version": 3
   },
   "file_extension": ".py",
   "mimetype": "text/x-python",
   "name": "python",
   "nbconvert_exporter": "python",
   "pygments_lexer": "ipython3",
   "version": "3.10.10"
  }
 },
 "nbformat": 4,
 "nbformat_minor": 5
}
