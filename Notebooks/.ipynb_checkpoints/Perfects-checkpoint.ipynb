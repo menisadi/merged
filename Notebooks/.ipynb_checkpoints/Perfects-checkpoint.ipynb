{
 "cells": [
  {
   "cell_type": "markdown",
   "id": "c4a86445-459a-4fdf-b31c-5a8d7e9084d8",
   "metadata": {},
   "source": [
    "# Searching for the Perfect Cookies"
   ]
  },
  {
   "cell_type": "code",
   "execution_count": 221,
   "id": "2e55759a-b609-4839-b8d0-d90dd59179cb",
   "metadata": {
    "tags": []
   },
   "outputs": [],
   "source": [
    "import numpy as np\n",
    "import pandas as pd\n",
    "import seaborn as sns\n",
    "import matplotlib.pyplot as plt\n",
    "import matplotlib.ticker as mtick\n",
    "import itertools"
   ]
  },
  {
   "cell_type": "code",
   "execution_count": 3,
   "id": "9c27e76b-7028-4672-a7dc-82400f9212c9",
   "metadata": {
    "tags": []
   },
   "outputs": [],
   "source": [
    "import sys\n",
    "import os\n",
    "sys.path.append(os.path.abspath('../modules'))\n",
    "from hard_rules import candidate_cookies"
   ]
  },
  {
   "cell_type": "code",
   "execution_count": 4,
   "id": "23fbce83-b631-4c7b-aee8-3246cde12f1f",
   "metadata": {
    "tags": []
   },
   "outputs": [],
   "source": [
    "from tqdm import tqdm"
   ]
  },
  {
   "cell_type": "code",
   "execution_count": 5,
   "id": "3dd8df0b-93ac-4a47-ba93-b15471607afa",
   "metadata": {
    "tags": []
   },
   "outputs": [],
   "source": [
    "sns.set(rc={'figure.figsize':(12,5)})"
   ]
  },
  {
   "cell_type": "code",
   "execution_count": 87,
   "id": "0cb03934-d4f0-46fb-8b51-f85d29b0747e",
   "metadata": {
    "tags": []
   },
   "outputs": [],
   "source": [
    "%load_ext autoreload\n",
    "%autoreload 2"
   ]
  },
  {
   "cell_type": "markdown",
   "id": "51a2c99a-a528-4d02-8cb1-cd47bea08b35",
   "metadata": {},
   "source": [
    "## Reading the data (and some basic preprocessing)"
   ]
  },
  {
   "cell_type": "code",
   "execution_count": 5,
   "id": "76a251d0-38a4-4536-9937-3ee3be220af3",
   "metadata": {},
   "outputs": [
    {
     "name": "stderr",
     "output_type": "stream",
     "text": [
      "/var/folders/nw/8w_76z_n6fz418hmsps2_rq40000gn/T/ipykernel_60960/1426712498.py:1: DtypeWarning: Columns (3) have mixed types. Specify dtype option on import or set low_memory=False.\n",
      "  data = pd.read_csv('../Data/10K_HH.csv')\n"
     ]
    }
   ],
   "source": [
    "data = pd.read_csv('../Data/10K_HH.csv')"
   ]
  },
  {
   "cell_type": "code",
   "execution_count": 70,
   "id": "f405fd42-7725-48e5-9652-8f226c0f7a3c",
   "metadata": {
    "tags": []
   },
   "outputs": [],
   "source": [
    "needed_columns = ['timestamp', 'filename', 'maid', 'hh_id','iiqid', 'partner_id', 'ip', 'iscellip',\n",
    "       'cellispid', 'domain','is_house_ip_or_source_ip', 'brand', 'model', 'os', 'osversion',\n",
    "       'browser', 'advertisedbrowser', 'browserversion', 'type', 'is_best_ip']\n",
    "unnecessary_columns = [c for c in data.columns if c not in needed_columns]"
   ]
  },
  {
   "cell_type": "code",
   "execution_count": 71,
   "id": "318bed8a-1864-4b24-909d-4b34541d015b",
   "metadata": {
    "tags": []
   },
   "outputs": [],
   "source": [
    "data.drop(unnecessary_columns, axis=1, inplace=True)"
   ]
  },
  {
   "cell_type": "code",
   "execution_count": 72,
   "id": "5eb4da4d-ad4c-4de2-b91b-0bc754cf2d2e",
   "metadata": {
    "tags": []
   },
   "outputs": [],
   "source": [
    "data['time'] = pd.to_datetime(data['timestamp'], unit='ms')"
   ]
  },
  {
   "cell_type": "code",
   "execution_count": 73,
   "id": "bb1bf88f-c0eb-4044-93cd-3b9bdfec0552",
   "metadata": {
    "tags": []
   },
   "outputs": [],
   "source": [
    "data.dropna(inplace=True)"
   ]
  },
  {
   "cell_type": "markdown",
   "id": "f5a7ffb8-4459-4e4c-852b-4ac10fb0aefe",
   "metadata": {},
   "source": [
    "hh_id contains households id and also non-houdsehols.  \n",
    "The former are strings and the later are integers.   \n",
    "So we record this in a seperate cell and convert all to str  "
   ]
  },
  {
   "cell_type": "code",
   "execution_count": 76,
   "id": "7b9f47a9-eceb-4e2c-a104-af7cb1b27c0e",
   "metadata": {
    "tags": []
   },
   "outputs": [],
   "source": [
    "data['is_hh'] = data['hh_id'].apply(lambda x: isinstance(x, str))"
   ]
  },
  {
   "cell_type": "code",
   "execution_count": 77,
   "id": "4bd33809-d35e-4bef-833c-847f94fa153a",
   "metadata": {
    "tags": []
   },
   "outputs": [
    {
     "data": {
      "text/plain": [
       "True     7502130\n",
       "False        211\n",
       "Name: is_hh, dtype: int64"
      ]
     },
     "execution_count": 77,
     "metadata": {},
     "output_type": "execute_result"
    }
   ],
   "source": [
    "data.is_hh.value_counts()"
   ]
  },
  {
   "cell_type": "code",
   "execution_count": 79,
   "id": "6a165443-cd3a-41d8-bcd8-0374c94a7271",
   "metadata": {
    "tags": []
   },
   "outputs": [],
   "source": [
    "data['hh_id'] = data['hh_id'].astype(str)"
   ]
  },
  {
   "cell_type": "markdown",
   "id": "d9fce4f6-86fe-4154-9946-2809b74a6a59",
   "metadata": {},
   "source": [
    "Save the preprosecced data"
   ]
  },
  {
   "cell_type": "code",
   "execution_count": 80,
   "id": "469e9c3e-91d2-462e-9127-4bbffb81cf87",
   "metadata": {
    "tags": []
   },
   "outputs": [],
   "source": [
    "data.to_parquet('10K_HH.parquet')"
   ]
  },
  {
   "cell_type": "code",
   "execution_count": 64,
   "id": "80dd2087-3943-47f9-bd8c-63a803963391",
   "metadata": {
    "tags": []
   },
   "outputs": [],
   "source": [
    "data = pd.read_parquet('../Data/10K_HH.parquet')"
   ]
  },
  {
   "cell_type": "markdown",
   "id": "262adbc3-b31b-4bcc-8d72-48ca01ba0775",
   "metadata": {},
   "source": [
    "## Lests Start"
   ]
  },
  {
   "cell_type": "code",
   "execution_count": 105,
   "id": "cd91f9e4-db39-4789-a025-0598ec8ec464",
   "metadata": {
    "tags": []
   },
   "outputs": [],
   "source": [
    "houses = data['hh_id'].unique()"
   ]
  },
  {
   "cell_type": "code",
   "execution_count": 106,
   "id": "63b43d5d-8a9a-4e4d-9619-f5c81847114c",
   "metadata": {
    "tags": []
   },
   "outputs": [
    {
     "data": {
      "text/plain": [
       "9729"
      ]
     },
     "execution_count": 106,
     "metadata": {},
     "output_type": "execute_result"
    }
   ],
   "source": [
    "len(houses)"
   ]
  },
  {
   "cell_type": "markdown",
   "id": "de5cac72-8d40-4cef-bab6-f543a87cddc9",
   "metadata": {},
   "source": [
    "### Lets start with a sample"
   ]
  },
  {
   "cell_type": "code",
   "execution_count": 75,
   "id": "21306d6f-68db-4771-b5f8-91a439ed30e5",
   "metadata": {},
   "outputs": [],
   "source": [
    "small = data.sample(1000)"
   ]
  },
  {
   "cell_type": "code",
   "execution_count": 76,
   "id": "a9a52d88-c8f4-48b8-a594-c6a89336be35",
   "metadata": {
    "tags": []
   },
   "outputs": [],
   "source": [
    "filtered_small = small.groupby(['hh_id', 'brand', 'model', 'os', 'browser', 'advertisedbrowser']).filter(lambda x: x['iiqid'].nunique() > 1)"
   ]
  },
  {
   "cell_type": "code",
   "execution_count": 77,
   "id": "7eebbc70-b093-4529-8b6e-798ba40b7eba",
   "metadata": {
    "tags": []
   },
   "outputs": [],
   "source": [
    "grouped_small = filtered_small.groupby(['hh_id', 'brand', 'model', 'os', 'browser', 'advertisedbrowser', 'iiqid']).agg({'time': ['min', 'max']}).reset_index()"
   ]
  },
  {
   "cell_type": "code",
   "execution_count": 78,
   "id": "c048460e-0f15-47df-a994-1454e7b81f0c",
   "metadata": {
    "tags": []
   },
   "outputs": [],
   "source": [
    "grouped_small.columns = ['hh_id', 'brand', 'model', 'os', 'browser', 'advertisedbrowser', 'iiqid', 'min_time', 'max_time']"
   ]
  },
  {
   "cell_type": "code",
   "execution_count": 79,
   "id": "ff6108b0-9ad6-42f2-b0f2-b5439004437d",
   "metadata": {
    "tags": []
   },
   "outputs": [],
   "source": [
    "# filtered_small.groupby(['hh_id', 'brand', 'model', 'os', 'browser', 'advertisedbrowser', 'iiqid']).agg({'time': ['min', 'max']})"
   ]
  },
  {
   "cell_type": "code",
   "execution_count": 80,
   "id": "783ff6a8-3f9d-40cf-a4ef-56de16a63ec2",
   "metadata": {
    "tags": []
   },
   "outputs": [],
   "source": [
    "grouped_small = grouped_small.sort_values(by=['hh_id', 'brand', 'model', 'os', 'browser', 'advertisedbrowser', 'min_time'])"
   ]
  },
  {
   "cell_type": "code",
   "execution_count": 81,
   "id": "51612358-1477-4945-affd-c86005618e1b",
   "metadata": {
    "tags": []
   },
   "outputs": [],
   "source": [
    "grouped_small['prev_max_time'] = grouped_small.groupby(['hh_id', 'brand', 'model', 'os', 'browser', 'advertisedbrowser'])['max_time'].shift(1).fillna(pd.Timestamp.min)"
   ]
  },
  {
   "cell_type": "code",
   "execution_count": 82,
   "id": "e341cde2-6a20-4156-8665-65865d3f7d39",
   "metadata": {
    "tags": []
   },
   "outputs": [
    {
     "data": {
      "text/html": [
       "<div>\n",
       "<style scoped>\n",
       "    .dataframe tbody tr th:only-of-type {\n",
       "        vertical-align: middle;\n",
       "    }\n",
       "\n",
       "    .dataframe tbody tr th {\n",
       "        vertical-align: top;\n",
       "    }\n",
       "\n",
       "    .dataframe thead th {\n",
       "        text-align: right;\n",
       "    }\n",
       "</style>\n",
       "<table border=\"1\" class=\"dataframe\">\n",
       "  <thead>\n",
       "    <tr style=\"text-align: right;\">\n",
       "      <th></th>\n",
       "      <th>hh_id</th>\n",
       "      <th>brand</th>\n",
       "      <th>model</th>\n",
       "      <th>os</th>\n",
       "      <th>browser</th>\n",
       "      <th>advertisedbrowser</th>\n",
       "      <th>iiqid</th>\n",
       "      <th>min_time</th>\n",
       "      <th>max_time</th>\n",
       "      <th>prev_max_time</th>\n",
       "    </tr>\n",
       "  </thead>\n",
       "  <tbody>\n",
       "    <tr>\n",
       "      <th>0</th>\n",
       "      <td>1280209488</td>\n",
       "      <td>apple</td>\n",
       "      <td>iphone</td>\n",
       "      <td>ios</td>\n",
       "      <td>safari</td>\n",
       "      <td>iOS WebView</td>\n",
       "      <td>K70P06sp1b</td>\n",
       "      <td>2022-12-12 15:14:07.008</td>\n",
       "      <td>2022-12-12 15:14:07.008</td>\n",
       "      <td>1677-09-21 00:12:43.145224193</td>\n",
       "    </tr>\n",
       "    <tr>\n",
       "      <th>1</th>\n",
       "      <td>1280209488</td>\n",
       "      <td>apple</td>\n",
       "      <td>iphone</td>\n",
       "      <td>ios</td>\n",
       "      <td>safari</td>\n",
       "      <td>iOS WebView</td>\n",
       "      <td>eSMp1Ne7ex</td>\n",
       "      <td>2022-12-23 11:55:09.401</td>\n",
       "      <td>2022-12-23 11:55:09.401</td>\n",
       "      <td>2022-12-12 15:14:07.008000000</td>\n",
       "    </tr>\n",
       "    <tr>\n",
       "      <th>2</th>\n",
       "      <td>1980157490</td>\n",
       "      <td>apple</td>\n",
       "      <td>iphone</td>\n",
       "      <td>ios</td>\n",
       "      <td>safari</td>\n",
       "      <td>iOS WebView</td>\n",
       "      <td>0qUVdNXGOO</td>\n",
       "      <td>2022-12-06 23:49:59.881</td>\n",
       "      <td>2022-12-06 23:49:59.881</td>\n",
       "      <td>1677-09-21 00:12:43.145224193</td>\n",
       "    </tr>\n",
       "    <tr>\n",
       "      <th>3</th>\n",
       "      <td>1980157490</td>\n",
       "      <td>apple</td>\n",
       "      <td>iphone</td>\n",
       "      <td>ios</td>\n",
       "      <td>safari</td>\n",
       "      <td>iOS WebView</td>\n",
       "      <td>YkqH6UqMVJ</td>\n",
       "      <td>2023-01-24 14:40:12.558</td>\n",
       "      <td>2023-01-24 14:40:12.558</td>\n",
       "      <td>2022-12-06 23:49:59.881000000</td>\n",
       "    </tr>\n",
       "    <tr>\n",
       "      <th>4</th>\n",
       "      <td>3630192075</td>\n",
       "      <td>apple</td>\n",
       "      <td>iphone</td>\n",
       "      <td>ios</td>\n",
       "      <td>safari</td>\n",
       "      <td>iOS WebView</td>\n",
       "      <td>V9RecW5Mdq</td>\n",
       "      <td>2023-01-04 06:01:45.747</td>\n",
       "      <td>2023-01-04 06:01:45.747</td>\n",
       "      <td>1677-09-21 00:12:43.145224193</td>\n",
       "    </tr>\n",
       "  </tbody>\n",
       "</table>\n",
       "</div>"
      ],
      "text/plain": [
       "        hh_id  brand   model   os browser advertisedbrowser       iiqid  \\\n",
       "0  1280209488  apple  iphone  ios  safari       iOS WebView  K70P06sp1b   \n",
       "1  1280209488  apple  iphone  ios  safari       iOS WebView  eSMp1Ne7ex   \n",
       "2  1980157490  apple  iphone  ios  safari       iOS WebView  0qUVdNXGOO   \n",
       "3  1980157490  apple  iphone  ios  safari       iOS WebView  YkqH6UqMVJ   \n",
       "4  3630192075  apple  iphone  ios  safari       iOS WebView  V9RecW5Mdq   \n",
       "\n",
       "                 min_time                max_time  \\\n",
       "0 2022-12-12 15:14:07.008 2022-12-12 15:14:07.008   \n",
       "1 2022-12-23 11:55:09.401 2022-12-23 11:55:09.401   \n",
       "2 2022-12-06 23:49:59.881 2022-12-06 23:49:59.881   \n",
       "3 2023-01-24 14:40:12.558 2023-01-24 14:40:12.558   \n",
       "4 2023-01-04 06:01:45.747 2023-01-04 06:01:45.747   \n",
       "\n",
       "                  prev_max_time  \n",
       "0 1677-09-21 00:12:43.145224193  \n",
       "1 2022-12-12 15:14:07.008000000  \n",
       "2 1677-09-21 00:12:43.145224193  \n",
       "3 2022-12-06 23:49:59.881000000  \n",
       "4 1677-09-21 00:12:43.145224193  "
      ]
     },
     "execution_count": 82,
     "metadata": {},
     "output_type": "execute_result"
    }
   ],
   "source": [
    "grouped_small.head()"
   ]
  },
  {
   "cell_type": "code",
   "execution_count": 83,
   "id": "8399d7dc-2ab9-46fb-a886-9e8dd8583531",
   "metadata": {
    "tags": []
   },
   "outputs": [],
   "source": [
    "valid_rows = grouped_small[grouped_small['min_time'] > grouped_small['prev_max_time']]"
   ]
  },
  {
   "cell_type": "code",
   "execution_count": 84,
   "id": "6f096d20-62c6-467e-9cb8-e63137ddd42b",
   "metadata": {
    "tags": []
   },
   "outputs": [
    {
     "data": {
      "text/html": [
       "<div>\n",
       "<style scoped>\n",
       "    .dataframe tbody tr th:only-of-type {\n",
       "        vertical-align: middle;\n",
       "    }\n",
       "\n",
       "    .dataframe tbody tr th {\n",
       "        vertical-align: top;\n",
       "    }\n",
       "\n",
       "    .dataframe thead th {\n",
       "        text-align: right;\n",
       "    }\n",
       "</style>\n",
       "<table border=\"1\" class=\"dataframe\">\n",
       "  <thead>\n",
       "    <tr style=\"text-align: right;\">\n",
       "      <th></th>\n",
       "      <th></th>\n",
       "      <th></th>\n",
       "      <th></th>\n",
       "      <th></th>\n",
       "      <th></th>\n",
       "      <th>cookies</th>\n",
       "      <th>mergeable</th>\n",
       "    </tr>\n",
       "    <tr>\n",
       "      <th>hh_id</th>\n",
       "      <th>brand</th>\n",
       "      <th>model</th>\n",
       "      <th>os</th>\n",
       "      <th>browser</th>\n",
       "      <th>advertisedbrowser</th>\n",
       "      <th></th>\n",
       "      <th></th>\n",
       "    </tr>\n",
       "  </thead>\n",
       "  <tbody>\n",
       "    <tr>\n",
       "      <th>1280209488</th>\n",
       "      <th>apple</th>\n",
       "      <th>iphone</th>\n",
       "      <th>ios</th>\n",
       "      <th>safari</th>\n",
       "      <th>iOS WebView</th>\n",
       "      <td>2</td>\n",
       "      <td>True</td>\n",
       "    </tr>\n",
       "    <tr>\n",
       "      <th>1980157490</th>\n",
       "      <th>apple</th>\n",
       "      <th>iphone</th>\n",
       "      <th>ios</th>\n",
       "      <th>safari</th>\n",
       "      <th>iOS WebView</th>\n",
       "      <td>2</td>\n",
       "      <td>True</td>\n",
       "    </tr>\n",
       "    <tr>\n",
       "      <th>3630192075</th>\n",
       "      <th>apple</th>\n",
       "      <th>iphone</th>\n",
       "      <th>ios</th>\n",
       "      <th>safari</th>\n",
       "      <th>iOS WebView</th>\n",
       "      <td>2</td>\n",
       "      <td>True</td>\n",
       "    </tr>\n",
       "    <tr>\n",
       "      <th>55ht4SLz3H</th>\n",
       "      <th>google</th>\n",
       "      <th>chrome</th>\n",
       "      <th>windows</th>\n",
       "      <th>chrome desktop</th>\n",
       "      <th>Chrome</th>\n",
       "      <td>3</td>\n",
       "      <td>True</td>\n",
       "    </tr>\n",
       "    <tr>\n",
       "      <th>ASfqUTXEJn</th>\n",
       "      <th>apple</th>\n",
       "      <th>iphone</th>\n",
       "      <th>ios</th>\n",
       "      <th>safari</th>\n",
       "      <th>iOS WebView</th>\n",
       "      <td>2</td>\n",
       "      <td>True</td>\n",
       "    </tr>\n",
       "    <tr>\n",
       "      <th>B5HFNBBCOF</th>\n",
       "      <th>apple</th>\n",
       "      <th>iphone</th>\n",
       "      <th>ios</th>\n",
       "      <th>safari</th>\n",
       "      <th>iOS WebView</th>\n",
       "      <td>2</td>\n",
       "      <td>False</td>\n",
       "    </tr>\n",
       "    <tr>\n",
       "      <th>Bk3sD6P4Fa</th>\n",
       "      <th>apple</th>\n",
       "      <th>iphone</th>\n",
       "      <th>ios</th>\n",
       "      <th>safari</th>\n",
       "      <th>iOS WebView</th>\n",
       "      <td>2</td>\n",
       "      <td>True</td>\n",
       "    </tr>\n",
       "    <tr>\n",
       "      <th>HfbL5Tcd5J</th>\n",
       "      <th>apple</th>\n",
       "      <th>iphone</th>\n",
       "      <th>ios</th>\n",
       "      <th>safari</th>\n",
       "      <th>iOS WebView</th>\n",
       "      <td>2</td>\n",
       "      <td>True</td>\n",
       "    </tr>\n",
       "    <tr>\n",
       "      <th>HpkzePEbDn</th>\n",
       "      <th>apple</th>\n",
       "      <th>iphone</th>\n",
       "      <th>ios</th>\n",
       "      <th>safari</th>\n",
       "      <th>iOS WebView</th>\n",
       "      <td>2</td>\n",
       "      <td>True</td>\n",
       "    </tr>\n",
       "    <tr>\n",
       "      <th>ILTTYgbcII</th>\n",
       "      <th>apple</th>\n",
       "      <th>iphone</th>\n",
       "      <th>ios</th>\n",
       "      <th>safari</th>\n",
       "      <th>iOS WebView</th>\n",
       "      <td>2</td>\n",
       "      <td>True</td>\n",
       "    </tr>\n",
       "    <tr>\n",
       "      <th>IPRYv0KjSG</th>\n",
       "      <th>google</th>\n",
       "      <th>chrome</th>\n",
       "      <th>windows</th>\n",
       "      <th>chrome desktop</th>\n",
       "      <th>Chrome</th>\n",
       "      <td>2</td>\n",
       "      <td>True</td>\n",
       "    </tr>\n",
       "    <tr>\n",
       "      <th>SWJ9Y3lwE9</th>\n",
       "      <th>apple</th>\n",
       "      <th>iphone</th>\n",
       "      <th>ios</th>\n",
       "      <th>safari</th>\n",
       "      <th>iOS WebView</th>\n",
       "      <td>2</td>\n",
       "      <td>True</td>\n",
       "    </tr>\n",
       "    <tr>\n",
       "      <th>TGvpL3mRmd</th>\n",
       "      <th>apple</th>\n",
       "      <th>iphone</th>\n",
       "      <th>ios</th>\n",
       "      <th>safari</th>\n",
       "      <th>iOS WebView</th>\n",
       "      <td>2</td>\n",
       "      <td>True</td>\n",
       "    </tr>\n",
       "    <tr>\n",
       "      <th>V8xjhsU9lY</th>\n",
       "      <th>google</th>\n",
       "      <th>chrome</th>\n",
       "      <th>chrome os</th>\n",
       "      <th>chrome desktop</th>\n",
       "      <th>Chrome</th>\n",
       "      <td>2</td>\n",
       "      <td>True</td>\n",
       "    </tr>\n",
       "    <tr>\n",
       "      <th>XrZJzOcmKB</th>\n",
       "      <th>apple</th>\n",
       "      <th>iphone</th>\n",
       "      <th>ios</th>\n",
       "      <th>safari</th>\n",
       "      <th>iOS WebView</th>\n",
       "      <td>2</td>\n",
       "      <td>True</td>\n",
       "    </tr>\n",
       "    <tr>\n",
       "      <th>c23Q5X6WrX</th>\n",
       "      <th>apple</th>\n",
       "      <th>iphone</th>\n",
       "      <th>ios</th>\n",
       "      <th>safari</th>\n",
       "      <th>iOS WebView</th>\n",
       "      <td>2</td>\n",
       "      <td>True</td>\n",
       "    </tr>\n",
       "    <tr>\n",
       "      <th>hVadAoGEtl</th>\n",
       "      <th>apple</th>\n",
       "      <th>iphone</th>\n",
       "      <th>ios</th>\n",
       "      <th>safari</th>\n",
       "      <th>iOS WebView</th>\n",
       "      <td>2</td>\n",
       "      <td>False</td>\n",
       "    </tr>\n",
       "    <tr>\n",
       "      <th>lQWofOKexn</th>\n",
       "      <th>apple</th>\n",
       "      <th>iphone</th>\n",
       "      <th>ios</th>\n",
       "      <th>safari</th>\n",
       "      <th>iOS WebView</th>\n",
       "      <td>3</td>\n",
       "      <td>True</td>\n",
       "    </tr>\n",
       "    <tr>\n",
       "      <th>nsH6cel3t0</th>\n",
       "      <th>apple</th>\n",
       "      <th>iphone</th>\n",
       "      <th>ios</th>\n",
       "      <th>safari</th>\n",
       "      <th>iOS WebView</th>\n",
       "      <td>2</td>\n",
       "      <td>True</td>\n",
       "    </tr>\n",
       "    <tr>\n",
       "      <th>pZ3usedzya</th>\n",
       "      <th>google</th>\n",
       "      <th>chrome</th>\n",
       "      <th>windows</th>\n",
       "      <th>chrome desktop</th>\n",
       "      <th>Chrome</th>\n",
       "      <td>2</td>\n",
       "      <td>True</td>\n",
       "    </tr>\n",
       "    <tr>\n",
       "      <th>q9iM9ehEET</th>\n",
       "      <th>apple</th>\n",
       "      <th>iphone</th>\n",
       "      <th>ios</th>\n",
       "      <th>safari</th>\n",
       "      <th>iOS WebView</th>\n",
       "      <td>2</td>\n",
       "      <td>True</td>\n",
       "    </tr>\n",
       "    <tr>\n",
       "      <th>soEtxaPpcR</th>\n",
       "      <th>google</th>\n",
       "      <th>pixel 6a</th>\n",
       "      <th>android</th>\n",
       "      <th>chrome mobile</th>\n",
       "      <th>Chromium</th>\n",
       "      <td>3</td>\n",
       "      <td>True</td>\n",
       "    </tr>\n",
       "    <tr>\n",
       "      <th>w745fIzbnU</th>\n",
       "      <th>samsung</th>\n",
       "      <th>sm-g960u</th>\n",
       "      <th>android</th>\n",
       "      <th>chrome mobile</th>\n",
       "      <th>Chromium</th>\n",
       "      <td>2</td>\n",
       "      <td>True</td>\n",
       "    </tr>\n",
       "    <tr>\n",
       "      <th>yClMcNh5F2</th>\n",
       "      <th>apple</th>\n",
       "      <th>iphone</th>\n",
       "      <th>ios</th>\n",
       "      <th>safari</th>\n",
       "      <th>iOS WebView</th>\n",
       "      <td>2</td>\n",
       "      <td>True</td>\n",
       "    </tr>\n",
       "  </tbody>\n",
       "</table>\n",
       "</div>"
      ],
      "text/plain": [
       "                                                                        cookies  \\\n",
       "hh_id      brand   model    os        browser        advertisedbrowser            \n",
       "1280209488 apple   iphone   ios       safari         iOS WebView              2   \n",
       "1980157490 apple   iphone   ios       safari         iOS WebView              2   \n",
       "3630192075 apple   iphone   ios       safari         iOS WebView              2   \n",
       "55ht4SLz3H google  chrome   windows   chrome desktop Chrome                   3   \n",
       "ASfqUTXEJn apple   iphone   ios       safari         iOS WebView              2   \n",
       "B5HFNBBCOF apple   iphone   ios       safari         iOS WebView              2   \n",
       "Bk3sD6P4Fa apple   iphone   ios       safari         iOS WebView              2   \n",
       "HfbL5Tcd5J apple   iphone   ios       safari         iOS WebView              2   \n",
       "HpkzePEbDn apple   iphone   ios       safari         iOS WebView              2   \n",
       "ILTTYgbcII apple   iphone   ios       safari         iOS WebView              2   \n",
       "IPRYv0KjSG google  chrome   windows   chrome desktop Chrome                   2   \n",
       "SWJ9Y3lwE9 apple   iphone   ios       safari         iOS WebView              2   \n",
       "TGvpL3mRmd apple   iphone   ios       safari         iOS WebView              2   \n",
       "V8xjhsU9lY google  chrome   chrome os chrome desktop Chrome                   2   \n",
       "XrZJzOcmKB apple   iphone   ios       safari         iOS WebView              2   \n",
       "c23Q5X6WrX apple   iphone   ios       safari         iOS WebView              2   \n",
       "hVadAoGEtl apple   iphone   ios       safari         iOS WebView              2   \n",
       "lQWofOKexn apple   iphone   ios       safari         iOS WebView              3   \n",
       "nsH6cel3t0 apple   iphone   ios       safari         iOS WebView              2   \n",
       "pZ3usedzya google  chrome   windows   chrome desktop Chrome                   2   \n",
       "q9iM9ehEET apple   iphone   ios       safari         iOS WebView              2   \n",
       "soEtxaPpcR google  pixel 6a android   chrome mobile  Chromium                 3   \n",
       "w745fIzbnU samsung sm-g960u android   chrome mobile  Chromium                 2   \n",
       "yClMcNh5F2 apple   iphone   ios       safari         iOS WebView              2   \n",
       "\n",
       "                                                                        mergeable  \n",
       "hh_id      brand   model    os        browser        advertisedbrowser             \n",
       "1280209488 apple   iphone   ios       safari         iOS WebView             True  \n",
       "1980157490 apple   iphone   ios       safari         iOS WebView             True  \n",
       "3630192075 apple   iphone   ios       safari         iOS WebView             True  \n",
       "55ht4SLz3H google  chrome   windows   chrome desktop Chrome                  True  \n",
       "ASfqUTXEJn apple   iphone   ios       safari         iOS WebView             True  \n",
       "B5HFNBBCOF apple   iphone   ios       safari         iOS WebView            False  \n",
       "Bk3sD6P4Fa apple   iphone   ios       safari         iOS WebView             True  \n",
       "HfbL5Tcd5J apple   iphone   ios       safari         iOS WebView             True  \n",
       "HpkzePEbDn apple   iphone   ios       safari         iOS WebView             True  \n",
       "ILTTYgbcII apple   iphone   ios       safari         iOS WebView             True  \n",
       "IPRYv0KjSG google  chrome   windows   chrome desktop Chrome                  True  \n",
       "SWJ9Y3lwE9 apple   iphone   ios       safari         iOS WebView             True  \n",
       "TGvpL3mRmd apple   iphone   ios       safari         iOS WebView             True  \n",
       "V8xjhsU9lY google  chrome   chrome os chrome desktop Chrome                  True  \n",
       "XrZJzOcmKB apple   iphone   ios       safari         iOS WebView             True  \n",
       "c23Q5X6WrX apple   iphone   ios       safari         iOS WebView             True  \n",
       "hVadAoGEtl apple   iphone   ios       safari         iOS WebView            False  \n",
       "lQWofOKexn apple   iphone   ios       safari         iOS WebView             True  \n",
       "nsH6cel3t0 apple   iphone   ios       safari         iOS WebView             True  \n",
       "pZ3usedzya google  chrome   windows   chrome desktop Chrome                  True  \n",
       "q9iM9ehEET apple   iphone   ios       safari         iOS WebView             True  \n",
       "soEtxaPpcR google  pixel 6a android   chrome mobile  Chromium                True  \n",
       "w745fIzbnU samsung sm-g960u android   chrome mobile  Chromium                True  \n",
       "yClMcNh5F2 apple   iphone   ios       safari         iOS WebView             True  "
      ]
     },
     "execution_count": 84,
     "metadata": {},
     "output_type": "execute_result"
    }
   ],
   "source": [
    "original_rows_per_hhua = grouped_small.groupby(['hh_id', 'brand', 'model', 'os', 'browser', 'advertisedbrowser']).size()\n",
    "valid_rows_per_hhua = valid_rows.groupby(['hh_id', 'brand', 'model', 'os', 'browser', 'advertisedbrowser']).size()\n",
    "all_mergable = valid_rows_per_hhua.eq(original_rows_per_hhua)\n",
    "\n",
    "result = pd.concat([original_rows_per_hhua, all_mergable], axis=1)\n",
    "result.columns = ['cookies','mergeable'] \n",
    "result"
   ]
  },
  {
   "cell_type": "code",
   "execution_count": 96,
   "id": "b5f23d6f-4f10-4fe9-8ec5-0b3fa97ff8f3",
   "metadata": {
    "tags": []
   },
   "outputs": [
    {
     "data": {
      "text/html": [
       "<div>\n",
       "<style scoped>\n",
       "    .dataframe tbody tr th:only-of-type {\n",
       "        vertical-align: middle;\n",
       "    }\n",
       "\n",
       "    .dataframe tbody tr th {\n",
       "        vertical-align: top;\n",
       "    }\n",
       "\n",
       "    .dataframe thead th {\n",
       "        text-align: right;\n",
       "    }\n",
       "</style>\n",
       "<table border=\"1\" class=\"dataframe\">\n",
       "  <thead>\n",
       "    <tr style=\"text-align: right;\">\n",
       "      <th></th>\n",
       "      <th></th>\n",
       "      <th>mergeable</th>\n",
       "    </tr>\n",
       "    <tr>\n",
       "      <th>browser</th>\n",
       "      <th>cookies</th>\n",
       "      <th></th>\n",
       "    </tr>\n",
       "  </thead>\n",
       "  <tbody>\n",
       "    <tr>\n",
       "      <th rowspan=\"2\" valign=\"top\">chrome desktop</th>\n",
       "      <th>2</th>\n",
       "      <td>3</td>\n",
       "    </tr>\n",
       "    <tr>\n",
       "      <th>3</th>\n",
       "      <td>1</td>\n",
       "    </tr>\n",
       "    <tr>\n",
       "      <th rowspan=\"2\" valign=\"top\">chrome mobile</th>\n",
       "      <th>2</th>\n",
       "      <td>1</td>\n",
       "    </tr>\n",
       "    <tr>\n",
       "      <th>3</th>\n",
       "      <td>1</td>\n",
       "    </tr>\n",
       "    <tr>\n",
       "      <th rowspan=\"2\" valign=\"top\">safari</th>\n",
       "      <th>2</th>\n",
       "      <td>15</td>\n",
       "    </tr>\n",
       "    <tr>\n",
       "      <th>3</th>\n",
       "      <td>1</td>\n",
       "    </tr>\n",
       "  </tbody>\n",
       "</table>\n",
       "</div>"
      ],
      "text/plain": [
       "                        mergeable\n",
       "browser        cookies           \n",
       "chrome desktop 2                3\n",
       "               3                1\n",
       "chrome mobile  2                1\n",
       "               3                1\n",
       "safari         2               15\n",
       "               3                1"
      ]
     },
     "execution_count": 96,
     "metadata": {},
     "output_type": "execute_result"
    }
   ],
   "source": [
    "result.reset_index().groupby(['browser', 'cookies']).sum(numeric_only=True)"
   ]
  },
  {
   "cell_type": "code",
   "execution_count": 86,
   "id": "ac381bc7-a9e2-4bab-b3d9-bea9d872233c",
   "metadata": {
    "tags": []
   },
   "outputs": [
    {
     "data": {
      "text/plain": [
       "browser         cookies\n",
       "chrome desktop  2           3\n",
       "                3           1\n",
       "chrome mobile   2           1\n",
       "                3           1\n",
       "safari          2          17\n",
       "                3           1\n",
       "Name: mergeable, dtype: int64"
      ]
     },
     "execution_count": 86,
     "metadata": {},
     "output_type": "execute_result"
    }
   ],
   "source": [
    "result.reset_index().groupby(['browser', 'cookies']).count().mergeable"
   ]
  },
  {
   "cell_type": "code",
   "execution_count": 87,
   "id": "cd8a6636-9c49-4e62-bc15-ad20358243f5",
   "metadata": {},
   "outputs": [
    {
     "data": {
      "text/html": [
       "<div>\n",
       "<style scoped>\n",
       "    .dataframe tbody tr th:only-of-type {\n",
       "        vertical-align: middle;\n",
       "    }\n",
       "\n",
       "    .dataframe tbody tr th {\n",
       "        vertical-align: top;\n",
       "    }\n",
       "\n",
       "    .dataframe thead th {\n",
       "        text-align: right;\n",
       "    }\n",
       "</style>\n",
       "<table border=\"1\" class=\"dataframe\">\n",
       "  <thead>\n",
       "    <tr style=\"text-align: right;\">\n",
       "      <th>cookies</th>\n",
       "      <th>2</th>\n",
       "      <th>3</th>\n",
       "    </tr>\n",
       "    <tr>\n",
       "      <th>browser</th>\n",
       "      <th></th>\n",
       "      <th></th>\n",
       "    </tr>\n",
       "  </thead>\n",
       "  <tbody>\n",
       "    <tr>\n",
       "      <th>safari</th>\n",
       "      <td>15</td>\n",
       "      <td>1</td>\n",
       "    </tr>\n",
       "    <tr>\n",
       "      <th>chrome desktop</th>\n",
       "      <td>3</td>\n",
       "      <td>1</td>\n",
       "    </tr>\n",
       "    <tr>\n",
       "      <th>chrome mobile</th>\n",
       "      <td>1</td>\n",
       "      <td>1</td>\n",
       "    </tr>\n",
       "  </tbody>\n",
       "</table>\n",
       "</div>"
      ],
      "text/plain": [
       "cookies          2  3\n",
       "browser              \n",
       "safari          15  1\n",
       "chrome desktop   3  1\n",
       "chrome mobile    1  1"
      ]
     },
     "execution_count": 87,
     "metadata": {},
     "output_type": "execute_result"
    }
   ],
   "source": [
    "result.pivot_table(values='mergeable', columns='cookies', index='browser', aggfunc=sum, fill_value=0).sort_values(2, ascending=False)"
   ]
  },
  {
   "cell_type": "code",
   "execution_count": 88,
   "id": "e8377feb-d106-40b8-8a7b-8834f05c7776",
   "metadata": {
    "tags": []
   },
   "outputs": [
    {
     "data": {
      "text/html": [
       "<div>\n",
       "<style scoped>\n",
       "    .dataframe tbody tr th:only-of-type {\n",
       "        vertical-align: middle;\n",
       "    }\n",
       "\n",
       "    .dataframe tbody tr th {\n",
       "        vertical-align: top;\n",
       "    }\n",
       "\n",
       "    .dataframe thead th {\n",
       "        text-align: right;\n",
       "    }\n",
       "</style>\n",
       "<table border=\"1\" class=\"dataframe\">\n",
       "  <thead>\n",
       "    <tr style=\"text-align: right;\">\n",
       "      <th>cookies</th>\n",
       "      <th>2</th>\n",
       "      <th>3</th>\n",
       "    </tr>\n",
       "    <tr>\n",
       "      <th>browser</th>\n",
       "      <th></th>\n",
       "      <th></th>\n",
       "    </tr>\n",
       "  </thead>\n",
       "  <tbody>\n",
       "    <tr>\n",
       "      <th>safari</th>\n",
       "      <td>17</td>\n",
       "      <td>1</td>\n",
       "    </tr>\n",
       "    <tr>\n",
       "      <th>chrome desktop</th>\n",
       "      <td>3</td>\n",
       "      <td>1</td>\n",
       "    </tr>\n",
       "    <tr>\n",
       "      <th>chrome mobile</th>\n",
       "      <td>1</td>\n",
       "      <td>1</td>\n",
       "    </tr>\n",
       "  </tbody>\n",
       "</table>\n",
       "</div>"
      ],
      "text/plain": [
       "cookies          2  3\n",
       "browser              \n",
       "safari          17  1\n",
       "chrome desktop   3  1\n",
       "chrome mobile    1  1"
      ]
     },
     "execution_count": 88,
     "metadata": {},
     "output_type": "execute_result"
    }
   ],
   "source": [
    "result.pivot_table(values='mergeable', columns='cookies', index='browser', aggfunc='count', fill_value=0).sort_values(2, ascending=False)"
   ]
  },
  {
   "cell_type": "markdown",
   "id": "0673f508-8705-4a1c-8013-8d132bd8f70a",
   "metadata": {
    "tags": []
   },
   "source": [
    "### Now for the entire dataset"
   ]
  },
  {
   "cell_type": "code",
   "execution_count": 65,
   "id": "029ccf20-7cb5-435e-978c-eda3bae0405a",
   "metadata": {
    "tags": []
   },
   "outputs": [],
   "source": [
    "maid_dict = {'maid': 4, 'third_party': 7}\n",
    "\n",
    "maid_chosen = 'third_party'"
   ]
  },
  {
   "cell_type": "code",
   "execution_count": 127,
   "id": "9cf57f04-fed9-4a98-a0ac-2ad73678ddb5",
   "metadata": {
    "tags": []
   },
   "outputs": [],
   "source": [
    "only_relevant_maid = data[data[\"maid\"] == maid_dict[maid_chosen]]"
   ]
  },
  {
   "cell_type": "code",
   "execution_count": 128,
   "id": "9e9d6d6c-5802-45e2-b693-1266117ad093",
   "metadata": {
    "tags": []
   },
   "outputs": [],
   "source": [
    "more_than_one = only_relevant_maid.groupby(\n",
    "        [\"hh_id\", \"brand\", \"model\", \"os\", \"browser\", \"advertisedbrowser\"]\n",
    "    ).filter(lambda x: x[\"iiqid\"].nunique() > 1)"
   ]
  },
  {
   "cell_type": "code",
   "execution_count": 55,
   "id": "c8f2817f-bc55-4c0b-804b-a1fefc804bb7",
   "metadata": {
    "tags": []
   },
   "outputs": [],
   "source": [
    "# more_than_one = only_relevant_maid.groupby(['hh_id', 'brand', 'model', 'os', 'browser', 'advertisedbrowser']).filter(lambda x: x['iiqid'].nunique() > 1)"
   ]
  },
  {
   "cell_type": "code",
   "execution_count": 56,
   "id": "256fd3bb-86a7-44c3-9781-7fd94aaf9503",
   "metadata": {
    "tags": []
   },
   "outputs": [],
   "source": [
    "# print(\"{0:.2%}\".format(len(more_than_one) / len(data)))"
   ]
  },
  {
   "cell_type": "code",
   "execution_count": 129,
   "id": "30bbc1de-d96e-4856-8a5c-5c614b82335b",
   "metadata": {
    "tags": []
   },
   "outputs": [],
   "source": [
    "grouped_data = more_than_one.groupby(['hh_id', 'brand', 'model', 'os', 'browser', 'advertisedbrowser', 'iiqid']).agg({'time': ['min', 'max']}).reset_index()"
   ]
  },
  {
   "cell_type": "code",
   "execution_count": 130,
   "id": "41dab50c-1200-4bab-a437-a36c80b833e2",
   "metadata": {
    "tags": []
   },
   "outputs": [],
   "source": [
    "grouped_data.columns = ['hh_id', 'brand', 'model', 'os', 'browser', 'advertisedbrowser', 'iiqid', 'min_time', 'max_time']"
   ]
  },
  {
   "cell_type": "code",
   "execution_count": 131,
   "id": "28c3ece3-65d0-4bda-96a7-fb135f24db17",
   "metadata": {
    "tags": []
   },
   "outputs": [],
   "source": [
    "grouped_data = grouped_data.sort_values(by=['hh_id', 'brand', 'model', 'os', 'browser', 'advertisedbrowser', 'min_time'])"
   ]
  },
  {
   "cell_type": "code",
   "execution_count": 132,
   "id": "8023099d-d0c9-417e-9533-e6d44ea54699",
   "metadata": {
    "tags": []
   },
   "outputs": [],
   "source": [
    "grouped_data['prev_max_time'] = grouped_data.groupby(['hh_id', 'brand', 'model', 'os', 'browser', 'advertisedbrowser'])['max_time'].shift(1).fillna(pd.Timestamp.min)"
   ]
  },
  {
   "cell_type": "code",
   "execution_count": 133,
   "id": "b0c79c15-2fba-407e-be4f-290f4bbd4f11",
   "metadata": {
    "tags": []
   },
   "outputs": [],
   "source": [
    "full_valid_rows = grouped_data[grouped_data['min_time'] > grouped_data['prev_max_time']]"
   ]
  },
  {
   "cell_type": "code",
   "execution_count": 134,
   "id": "db9839d2-80d6-4a4c-900c-831ecbc5a33c",
   "metadata": {
    "tags": []
   },
   "outputs": [
    {
     "data": {
      "text/html": [
       "<div>\n",
       "<style scoped>\n",
       "    .dataframe tbody tr th:only-of-type {\n",
       "        vertical-align: middle;\n",
       "    }\n",
       "\n",
       "    .dataframe tbody tr th {\n",
       "        vertical-align: top;\n",
       "    }\n",
       "\n",
       "    .dataframe thead th {\n",
       "        text-align: right;\n",
       "    }\n",
       "</style>\n",
       "<table border=\"1\" class=\"dataframe\">\n",
       "  <thead>\n",
       "    <tr style=\"text-align: right;\">\n",
       "      <th></th>\n",
       "      <th></th>\n",
       "      <th></th>\n",
       "      <th></th>\n",
       "      <th></th>\n",
       "      <th></th>\n",
       "      <th>cookies</th>\n",
       "      <th>mergeable</th>\n",
       "    </tr>\n",
       "    <tr>\n",
       "      <th>hh_id</th>\n",
       "      <th>brand</th>\n",
       "      <th>model</th>\n",
       "      <th>os</th>\n",
       "      <th>browser</th>\n",
       "      <th>advertisedbrowser</th>\n",
       "      <th></th>\n",
       "      <th></th>\n",
       "    </tr>\n",
       "  </thead>\n",
       "  <tbody>\n",
       "    <tr>\n",
       "      <th>008lj1AMI8</th>\n",
       "      <th>google</th>\n",
       "      <th>chrome</th>\n",
       "      <th>windows</th>\n",
       "      <th>chrome desktop</th>\n",
       "      <th>Chrome</th>\n",
       "      <td>2</td>\n",
       "      <td>False</td>\n",
       "    </tr>\n",
       "    <tr>\n",
       "      <th>017VVGbSKq</th>\n",
       "      <th>samsung</th>\n",
       "      <th>sm-a125u</th>\n",
       "      <th>android</th>\n",
       "      <th>chrome mobile</th>\n",
       "      <th>Facebook on Android</th>\n",
       "      <td>2</td>\n",
       "      <td>True</td>\n",
       "    </tr>\n",
       "    <tr>\n",
       "      <th>02AntYkc0F</th>\n",
       "      <th>blu</th>\n",
       "      <th>b131dl</th>\n",
       "      <th>android</th>\n",
       "      <th>chrome mobile</th>\n",
       "      <th>Chrome Mobile</th>\n",
       "      <td>2</td>\n",
       "      <td>True</td>\n",
       "    </tr>\n",
       "    <tr>\n",
       "      <th>03M6awhGWm</th>\n",
       "      <th>samsung</th>\n",
       "      <th>sm-n975f</th>\n",
       "      <th>android</th>\n",
       "      <th>chrome mobile</th>\n",
       "      <th>Chrome Mobile</th>\n",
       "      <td>2</td>\n",
       "      <td>False</td>\n",
       "    </tr>\n",
       "    <tr>\n",
       "      <th>03gbDb0Gsc</th>\n",
       "      <th>google</th>\n",
       "      <th>chrome</th>\n",
       "      <th>windows</th>\n",
       "      <th>chrome desktop</th>\n",
       "      <th>Chrome</th>\n",
       "      <td>2</td>\n",
       "      <td>False</td>\n",
       "    </tr>\n",
       "    <tr>\n",
       "      <th>...</th>\n",
       "      <th>...</th>\n",
       "      <th>...</th>\n",
       "      <th>...</th>\n",
       "      <th>...</th>\n",
       "      <th>...</th>\n",
       "      <td>...</td>\n",
       "      <td>...</td>\n",
       "    </tr>\n",
       "    <tr>\n",
       "      <th>zvq12WxlGV</th>\n",
       "      <th>apple</th>\n",
       "      <th>safari</th>\n",
       "      <th>macos</th>\n",
       "      <th>safari</th>\n",
       "      <th>Safari</th>\n",
       "      <td>3</td>\n",
       "      <td>False</td>\n",
       "    </tr>\n",
       "    <tr>\n",
       "      <th>zxBDRbCP0r</th>\n",
       "      <th>apple</th>\n",
       "      <th>safari</th>\n",
       "      <th>macos</th>\n",
       "      <th>safari</th>\n",
       "      <th>Safari</th>\n",
       "      <td>3</td>\n",
       "      <td>False</td>\n",
       "    </tr>\n",
       "    <tr>\n",
       "      <th rowspan=\"2\" valign=\"top\">zygR659Gbx</th>\n",
       "      <th>microsoft</th>\n",
       "      <th>edge</th>\n",
       "      <th>windows</th>\n",
       "      <th>edge</th>\n",
       "      <th>Edge</th>\n",
       "      <td>2</td>\n",
       "      <td>True</td>\n",
       "    </tr>\n",
       "    <tr>\n",
       "      <th>samsung</th>\n",
       "      <th>sm-g991u</th>\n",
       "      <th>android</th>\n",
       "      <th>chrome mobile</th>\n",
       "      <th>Facebook on Android</th>\n",
       "      <td>2</td>\n",
       "      <td>False</td>\n",
       "    </tr>\n",
       "    <tr>\n",
       "      <th>zzyXvF318v</th>\n",
       "      <th>apple</th>\n",
       "      <th>iphone</th>\n",
       "      <th>ios</th>\n",
       "      <th>safari</th>\n",
       "      <th>Mobile Safari</th>\n",
       "      <td>2</td>\n",
       "      <td>True</td>\n",
       "    </tr>\n",
       "  </tbody>\n",
       "</table>\n",
       "<p>10773 rows × 2 columns</p>\n",
       "</div>"
      ],
      "text/plain": [
       "                                                                          cookies  \\\n",
       "hh_id      brand     model    os      browser        advertisedbrowser              \n",
       "008lj1AMI8 google    chrome   windows chrome desktop Chrome                     2   \n",
       "017VVGbSKq samsung   sm-a125u android chrome mobile  Facebook on Android        2   \n",
       "02AntYkc0F blu       b131dl   android chrome mobile  Chrome Mobile              2   \n",
       "03M6awhGWm samsung   sm-n975f android chrome mobile  Chrome Mobile              2   \n",
       "03gbDb0Gsc google    chrome   windows chrome desktop Chrome                     2   \n",
       "...                                                                           ...   \n",
       "zvq12WxlGV apple     safari   macos   safari         Safari                     3   \n",
       "zxBDRbCP0r apple     safari   macos   safari         Safari                     3   \n",
       "zygR659Gbx microsoft edge     windows edge           Edge                       2   \n",
       "           samsung   sm-g991u android chrome mobile  Facebook on Android        2   \n",
       "zzyXvF318v apple     iphone   ios     safari         Mobile Safari              2   \n",
       "\n",
       "                                                                          mergeable  \n",
       "hh_id      brand     model    os      browser        advertisedbrowser               \n",
       "008lj1AMI8 google    chrome   windows chrome desktop Chrome                   False  \n",
       "017VVGbSKq samsung   sm-a125u android chrome mobile  Facebook on Android       True  \n",
       "02AntYkc0F blu       b131dl   android chrome mobile  Chrome Mobile             True  \n",
       "03M6awhGWm samsung   sm-n975f android chrome mobile  Chrome Mobile            False  \n",
       "03gbDb0Gsc google    chrome   windows chrome desktop Chrome                   False  \n",
       "...                                                                             ...  \n",
       "zvq12WxlGV apple     safari   macos   safari         Safari                   False  \n",
       "zxBDRbCP0r apple     safari   macos   safari         Safari                   False  \n",
       "zygR659Gbx microsoft edge     windows edge           Edge                      True  \n",
       "           samsung   sm-g991u android chrome mobile  Facebook on Android      False  \n",
       "zzyXvF318v apple     iphone   ios     safari         Mobile Safari             True  \n",
       "\n",
       "[10773 rows x 2 columns]"
      ]
     },
     "execution_count": 134,
     "metadata": {},
     "output_type": "execute_result"
    }
   ],
   "source": [
    "original_rows_per_hhua = grouped_data.groupby(['hh_id', 'brand', 'model', 'os', 'browser', 'advertisedbrowser']).size()\n",
    "valid_rows_per_hhua = full_valid_rows.groupby(['hh_id', 'brand', 'model', 'os', 'browser', 'advertisedbrowser']).size()\n",
    "all_mergable = valid_rows_per_hhua.eq(original_rows_per_hhua)\n",
    "\n",
    "result = pd.concat([original_rows_per_hhua, all_mergable], axis=1)\n",
    "result.columns = ['cookies','mergeable'] \n",
    "result"
   ]
  },
  {
   "cell_type": "code",
   "execution_count": 139,
   "id": "6f1aa2a4-5865-4e33-879f-c19987606e10",
   "metadata": {
    "tags": []
   },
   "outputs": [],
   "source": [
    "mergable = result.pivot_table(values='mergeable', columns='cookies', index='browser', aggfunc=sum, fill_value=0).sort_values(2, ascending=False)"
   ]
  },
  {
   "cell_type": "code",
   "execution_count": 140,
   "id": "4fe4dbfb-6c58-42d7-8727-a440c39e8260",
   "metadata": {
    "tags": []
   },
   "outputs": [],
   "source": [
    "uq_cookies = result.pivot_table(values='mergeable', columns='cookies', index='browser', aggfunc='count', fill_value=0).sort_values(2, ascending=False)"
   ]
  },
  {
   "cell_type": "code",
   "execution_count": 141,
   "id": "5505f284-b4b6-4279-b3e3-b06d52d9097a",
   "metadata": {},
   "outputs": [],
   "source": [
    "mergable['+6'] = mergable[[i for i in mergable.columns if i>=6]].sum(axis=1)\n",
    "mergable.drop([i for i in mergable.columns if isinstance(i, int) and i >=6], axis=1, inplace=True)\n",
    "mergable.columns = [str(i) for i in mergable.columns]"
   ]
  },
  {
   "cell_type": "code",
   "execution_count": 142,
   "id": "5dbdddad-75cc-4805-8d4a-fb8b3e631eaf",
   "metadata": {
    "tags": []
   },
   "outputs": [],
   "source": [
    "uq_cookies['+6'] = uq_cookies[[i for i in uq_cookies.columns if i>=6]].sum(axis=1)\n",
    "uq_cookies.drop([i for i in uq_cookies.columns if isinstance(i, int) and i >=6], axis=1, inplace=True)\n",
    "uq_cookies.columns = [str(i) for i in uq_cookies.columns]"
   ]
  },
  {
   "cell_type": "code",
   "execution_count": 143,
   "id": "20c82951-235f-4698-8c39-0f5c38348f6b",
   "metadata": {
    "tags": []
   },
   "outputs": [],
   "source": [
    "non_mergable = (uq_cookies - mergable).sort_values(by='2', ascending=False)"
   ]
  },
  {
   "cell_type": "code",
   "execution_count": 149,
   "id": "f08c2244-8711-40a6-a452-f9531b3cd76d",
   "metadata": {
    "tags": []
   },
   "outputs": [
    {
     "data": {
      "text/plain": [
       "browser\n",
       "safari             2885\n",
       "chrome mobile      2401\n",
       "chrome desktop     3265\n",
       "edge               1589\n",
       "firefox desktop     468\n",
       "android webkit       65\n",
       "firefox mobile       61\n",
       "opera                21\n",
       "msie                  7\n",
       "samsung               8\n",
       "chrome                2\n",
       "tizen browser         1\n",
       "dtype: int64"
      ]
     },
     "execution_count": 149,
     "metadata": {},
     "output_type": "execute_result"
    }
   ],
   "source": [
    "uq_cookies.sum(axis=1)"
   ]
  },
  {
   "cell_type": "markdown",
   "id": "fbcafadf-39ba-40df-8a9e-78248d7ed1c0",
   "metadata": {
    "tags": []
   },
   "source": [
    "#### Let's coount the total counts"
   ]
  },
  {
   "cell_type": "code",
   "execution_count": 145,
   "id": "235585a0-bb77-4fe3-8d44-0879bf6258d3",
   "metadata": {
    "tags": []
   },
   "outputs": [
    {
     "data": {
      "text/html": [
       "<div>\n",
       "<style scoped>\n",
       "    .dataframe tbody tr th:only-of-type {\n",
       "        vertical-align: middle;\n",
       "    }\n",
       "\n",
       "    .dataframe tbody tr th {\n",
       "        vertical-align: top;\n",
       "    }\n",
       "\n",
       "    .dataframe thead th {\n",
       "        text-align: right;\n",
       "    }\n",
       "</style>\n",
       "<table border=\"1\" class=\"dataframe\">\n",
       "  <thead>\n",
       "    <tr style=\"text-align: right;\">\n",
       "      <th></th>\n",
       "      <th>2</th>\n",
       "      <th>3</th>\n",
       "      <th>4</th>\n",
       "      <th>5</th>\n",
       "      <th>+6</th>\n",
       "    </tr>\n",
       "    <tr>\n",
       "      <th>browser</th>\n",
       "      <th></th>\n",
       "      <th></th>\n",
       "      <th></th>\n",
       "      <th></th>\n",
       "      <th></th>\n",
       "    </tr>\n",
       "  </thead>\n",
       "  <tbody>\n",
       "    <tr>\n",
       "      <th>safari</th>\n",
       "      <td>1993</td>\n",
       "      <td>510</td>\n",
       "      <td>232</td>\n",
       "      <td>94</td>\n",
       "      <td>56</td>\n",
       "    </tr>\n",
       "    <tr>\n",
       "      <th>chrome mobile</th>\n",
       "      <td>1712</td>\n",
       "      <td>348</td>\n",
       "      <td>119</td>\n",
       "      <td>67</td>\n",
       "      <td>155</td>\n",
       "    </tr>\n",
       "    <tr>\n",
       "      <th>chrome desktop</th>\n",
       "      <td>1571</td>\n",
       "      <td>723</td>\n",
       "      <td>373</td>\n",
       "      <td>203</td>\n",
       "      <td>395</td>\n",
       "    </tr>\n",
       "    <tr>\n",
       "      <th>edge</th>\n",
       "      <td>803</td>\n",
       "      <td>353</td>\n",
       "      <td>184</td>\n",
       "      <td>92</td>\n",
       "      <td>157</td>\n",
       "    </tr>\n",
       "    <tr>\n",
       "      <th>firefox desktop</th>\n",
       "      <td>150</td>\n",
       "      <td>90</td>\n",
       "      <td>53</td>\n",
       "      <td>39</td>\n",
       "      <td>136</td>\n",
       "    </tr>\n",
       "    <tr>\n",
       "      <th>android webkit</th>\n",
       "      <td>51</td>\n",
       "      <td>7</td>\n",
       "      <td>4</td>\n",
       "      <td>0</td>\n",
       "      <td>3</td>\n",
       "    </tr>\n",
       "    <tr>\n",
       "      <th>firefox mobile</th>\n",
       "      <td>23</td>\n",
       "      <td>11</td>\n",
       "      <td>6</td>\n",
       "      <td>4</td>\n",
       "      <td>17</td>\n",
       "    </tr>\n",
       "    <tr>\n",
       "      <th>opera</th>\n",
       "      <td>19</td>\n",
       "      <td>2</td>\n",
       "      <td>0</td>\n",
       "      <td>0</td>\n",
       "      <td>0</td>\n",
       "    </tr>\n",
       "    <tr>\n",
       "      <th>msie</th>\n",
       "      <td>7</td>\n",
       "      <td>0</td>\n",
       "      <td>0</td>\n",
       "      <td>0</td>\n",
       "      <td>0</td>\n",
       "    </tr>\n",
       "    <tr>\n",
       "      <th>samsung</th>\n",
       "      <td>5</td>\n",
       "      <td>3</td>\n",
       "      <td>0</td>\n",
       "      <td>0</td>\n",
       "      <td>0</td>\n",
       "    </tr>\n",
       "    <tr>\n",
       "      <th>chrome</th>\n",
       "      <td>2</td>\n",
       "      <td>0</td>\n",
       "      <td>0</td>\n",
       "      <td>0</td>\n",
       "      <td>0</td>\n",
       "    </tr>\n",
       "    <tr>\n",
       "      <th>tizen browser</th>\n",
       "      <td>1</td>\n",
       "      <td>0</td>\n",
       "      <td>0</td>\n",
       "      <td>0</td>\n",
       "      <td>0</td>\n",
       "    </tr>\n",
       "  </tbody>\n",
       "</table>\n",
       "</div>"
      ],
      "text/plain": [
       "                    2    3    4    5   +6\n",
       "browser                                  \n",
       "safari           1993  510  232   94   56\n",
       "chrome mobile    1712  348  119   67  155\n",
       "chrome desktop   1571  723  373  203  395\n",
       "edge              803  353  184   92  157\n",
       "firefox desktop   150   90   53   39  136\n",
       "android webkit     51    7    4    0    3\n",
       "firefox mobile     23   11    6    4   17\n",
       "opera              19    2    0    0    0\n",
       "msie                7    0    0    0    0\n",
       "samsung             5    3    0    0    0\n",
       "chrome              2    0    0    0    0\n",
       "tizen browser       1    0    0    0    0"
      ]
     },
     "execution_count": 145,
     "metadata": {},
     "output_type": "execute_result"
    }
   ],
   "source": [
    "uq_cookies"
   ]
  },
  {
   "cell_type": "markdown",
   "id": "40add8aa-d37f-4706-9969-e9ccd6b1c7d1",
   "metadata": {},
   "source": [
    "#### And plot"
   ]
  },
  {
   "cell_type": "code",
   "execution_count": 86,
   "id": "d3e92c47-c3b6-4b2d-8567-27fb35c056cd",
   "metadata": {
    "tags": []
   },
   "outputs": [
    {
     "data": {
      "image/png": "[encoded data removed]",
      "text/plain": [
       "<Figure size 1200x1600 with 8 Axes>"
      ]
     },
     "metadata": {},
     "output_type": "display_data"
    }
   ],
   "source": [
    "# for b in uq_cookies.index[:8]:\n",
    "fig, axs = plt.subplots(nrows = 4, ncols=2)\n",
    "fig.set_figheight(16)\n",
    "fig.set_figwidth(12)\n",
    "plt.subplots_adjust(hspace=0.5)\n",
    "handles, labels = ax.get_legend_handles_labels()\n",
    "fig.suptitle(\"Mergable VS Non-Mergable\\n\\nMaids\")\n",
    "fig.legend(handles, labels, loc='upper center', fontsize='medium', bbox_to_anchor=(0.5, 0.05))\n",
    "\n",
    "for i, b in enumerate(uq_cookies.index[:8]):\n",
    "    ax = axs.flatten()[i]\n",
    "    browser_comparison = pd.concat([non_mergable.loc[b], mergable.loc[b]], axis=1)\n",
    "    browser_comparison.columns = ['Non Mergable', 'Mergable']\n",
    "    browser_comparison_normalized = browser_comparison.div(browser_comparison.sum(axis=1), axis=0)\n",
    "    browser_comparison_normalized.plot(kind='bar', stacked=True, ax=ax, legend=0)\n",
    "    ax.title.set_text(f\"{b} : total : {uq_cookies.loc[b].sum()}\")\n",
    "    ax.set_xlabel(\"\")"
   ]
  },
  {
   "cell_type": "markdown",
   "id": "ea29fb79-9134-447f-bb69-d0b34207edd9",
   "metadata": {},
   "source": [
    "### Just some basic numbers (data size)"
   ]
  },
  {
   "cell_type": "code",
   "execution_count": 186,
   "id": "e82f0290-71f8-40d3-8fb1-ac89ad7b3a63",
   "metadata": {
    "tags": []
   },
   "outputs": [
    {
     "name": "stdout",
     "output_type": "stream",
     "text": [
      "60.31%\n"
     ]
    }
   ],
   "source": [
    "four_or_seven = sum((data['maid']==4) | (data['maid']==7))\n",
    "print(\"{0:.2%}\".format(four_or_seven / len(data)))"
   ]
  },
  {
   "cell_type": "code",
   "execution_count": 191,
   "id": "747f2214-9857-4b1e-b1d3-1608ca9b93e4",
   "metadata": {
    "tags": []
   },
   "outputs": [],
   "source": [
    "more_than_one_4or7 = data.groupby(['hh_id', 'brand', 'model', 'os', 'browser', 'advertisedbrowser']).filter(lambda x: x['iiqid'].nunique() > 1)"
   ]
  },
  {
   "cell_type": "code",
   "execution_count": 193,
   "id": "42898bbd-cd5b-4a0e-973e-51f10dcac958",
   "metadata": {
    "tags": []
   },
   "outputs": [
    {
     "name": "stdout",
     "output_type": "stream",
     "text": [
      "28.88%\n"
     ]
    }
   ],
   "source": [
    "four_or_seven = sum((more_than_one_4or7['maid']==4) | (more_than_one_4or7['maid']==7))\n",
    "print(\"{0:.2%}\".format(four_or_seven / len(data)))"
   ]
  },
  {
   "cell_type": "code",
   "execution_count": 198,
   "id": "4b602bc7-81bd-4549-b49b-e2eaf7cc3fc9",
   "metadata": {
    "tags": []
   },
   "outputs": [],
   "source": [
    "four_seven = data[(data['maid']==4) | (data['maid']==7)]\n",
    "more_than_one_47 = four_seven.groupby(['hh_id', 'brand', 'model', 'os', 'browser', 'advertisedbrowser']).filter(lambda x: x['iiqid'].nunique() > 1)"
   ]
  },
  {
   "cell_type": "code",
   "execution_count": 199,
   "id": "899d8b75-c817-4a4d-ad27-1accbd0c5117",
   "metadata": {
    "tags": []
   },
   "outputs": [
    {
     "name": "stdout",
     "output_type": "stream",
     "text": [
      "60.31%\n",
      "46.75%\n",
      "28.19%\n"
     ]
    }
   ],
   "source": [
    "print(\"{0:.2%}\".format(len(four_seven) / len(data)))\n",
    "print(\"{0:.2%}\".format(len(more_than_one_47) / len(four_seven)))\n",
    "print(\"{0:.2%}\".format(len(more_than_one_47) / len(data)))"
   ]
  },
  {
   "cell_type": "code",
   "execution_count": 200,
   "id": "9fcd9e38-27ef-4d88-975a-f4905c1457b5",
   "metadata": {
    "tags": []
   },
   "outputs": [
    {
     "data": {
      "text/plain": [
       "2115209"
      ]
     },
     "execution_count": 200,
     "metadata": {},
     "output_type": "execute_result"
    }
   ],
   "source": [
    "len(more_than_one_47)"
   ]
  },
  {
   "cell_type": "markdown",
   "id": "25a627a4-1381-40bd-a2d0-388793808023",
   "metadata": {},
   "source": [
    "## Testing my module"
   ]
  },
  {
   "cell_type": "code",
   "execution_count": 115,
   "id": "bea412af-fb3d-40f4-9fcb-0a189aec7790",
   "metadata": {
    "tags": []
   },
   "outputs": [],
   "source": [
    "from perfect_cookies import preprocessing, count_perfect_coolies"
   ]
  },
  {
   "cell_type": "code",
   "execution_count": 211,
   "id": "0ba8cc6c-ba89-4fab-827a-177f2bd20bb6",
   "metadata": {
    "tags": []
   },
   "outputs": [],
   "source": [
    "maid_dict = {'maid': 4, 'third_party': 7}\n",
    "\n",
    "maid_chosen = 'third_party'"
   ]
  },
  {
   "cell_type": "code",
   "execution_count": 212,
   "id": "6887354a-cc53-4237-ac24-88067bfb12a1",
   "metadata": {
    "tags": []
   },
   "outputs": [],
   "source": [
    "df = preprocessing(data)"
   ]
  },
  {
   "cell_type": "code",
   "execution_count": 213,
   "id": "1987033b-1366-47e2-befa-53f91437a7f6",
   "metadata": {
    "tags": []
   },
   "outputs": [
    {
     "name": "stdout",
     "output_type": "stream",
     "text": [
      "CPU times: user 4.59 s, sys: 1.22 s, total: 5.81 s\n",
      "Wall time: 6.26 s\n"
     ]
    }
   ],
   "source": [
    "%%time\n",
    "m, n, t = count_perfect_coolies(df, maid_dict[maid_chosen])"
   ]
  },
  {
   "cell_type": "code",
   "execution_count": 214,
   "id": "065f1bed-d93e-445f-9b87-17e147a5a292",
   "metadata": {
    "tags": []
   },
   "outputs": [],
   "source": [
    "HH_UA = [\n",
    "        \"hh_id\",\n",
    "        \"brand\",\n",
    "        \"model\",\n",
    "        \"os\",\n",
    "        \"browser\",\n",
    "        \"advertisedbrowser\",\n",
    "    ]"
   ]
  },
  {
   "cell_type": "code",
   "execution_count": 224,
   "id": "41041116-c2c0-40ab-ac8d-939e68852d74",
   "metadata": {
    "tags": []
   },
   "outputs": [
    {
     "name": "stdout",
     "output_type": "stream",
     "text": [
      "CPU times: user 1.4 s, sys: 436 ms, total: 1.84 s\n",
      "Wall time: 1.84 s\n"
     ]
    },
    {
     "data": {
      "image/png": "[encoded data removed]",
      "text/plain": [
       "<Figure size 1200x1600 with 8 Axes>"
      ]
     },
     "metadata": {},
     "output_type": "display_data"
    }
   ],
   "source": [
    "%%time\n",
    "\n",
    "fig, axs = plt.subplots(nrows = 4, ncols=2)\n",
    "fig.set_figheight(16)\n",
    "fig.set_figwidth(12)\n",
    "plt.subplots_adjust(hspace=0.5)\n",
    "fig.suptitle(f\"Mergable VS Non-Mergable\\n\\n{maid_chosen}\")\n",
    "\n",
    "total_count = df[df.maid==maid_dict[maid_chosen]].groupby(HH_UA).iiqid.nunique().reset_index()\n",
    "\n",
    "for i, b in enumerate(t.index[:8]):\n",
    "    all_unique_hh_ua = total_count[total_count[\"browser\"]==b].iiqid.value_counts().sum()\n",
    "    \n",
    "    browser_comparison = pd.concat([n.loc[b], m.loc[b]], axis=1)\n",
    "    browser_comparison.columns = ['Non Mergable', 'Mergable']\n",
    "    browser_comparison_normalized = browser_comparison.div(all_unique_hh_ua, axis=0)\n",
    "\n",
    "    ax = axs.flatten()[i]\n",
    "    browser_comparison_normalized.plot(kind='bar', stacked=True, ax=ax, legend=0)\n",
    "    ax.title.set_text(f\"{b} : total : {all_unique_hh_ua}\")\n",
    "    ax.set_xlabel(\"\")\n",
    "    ax.yaxis.set_major_formatter(mtick.PercentFormatter(1.0))\n",
    "    handles, labels = ax.get_legend_handles_labels()\n",
    "    fig.legend(handles, labels, loc='upper center', fontsize='medium', bbox_to_anchor=(0.5, 0.05))    "
   ]
  },
  {
   "cell_type": "code",
   "execution_count": 120,
   "id": "4653ad8e-b5a0-430c-976c-d05505cb4d81",
   "metadata": {
    "tags": []
   },
   "outputs": [
    {
     "name": "stdout",
     "output_type": "stream",
     "text": [
      "Chrome\n",
      "2971722\n",
      "36216\n"
     ]
    }
   ],
   "source": [
    "print('Chrome')\n",
    "print(len(data[(data['maid']==7) & ((data['browser']=='chrome mobile') | (data['browser']=='chrome desktop'))]))\n",
    "print(data[(data['maid']==7) & ((data['browser']=='chrome mobile') | (data['browser']=='chrome desktop'))].iiqid.nunique())"
   ]
  },
  {
   "cell_type": "code",
   "execution_count": 121,
   "id": "735987e8-1b57-4157-90da-949ad92ed57f",
   "metadata": {},
   "outputs": [
    {
     "name": "stdout",
     "output_type": "stream",
     "text": [
      "Safari\n",
      "88016\n",
      "11044\n"
     ]
    }
   ],
   "source": [
    "print('Safari')\n",
    "print(len(data[(data['maid']==7) & (data['browser']=='safari')]))\n",
    "print(data[(data['maid']==7) & (data['browser']=='safari')].iiqid.nunique())"
   ]
  },
  {
   "cell_type": "code",
   "execution_count": 150,
   "id": "13141a4a-d4cf-494f-82bb-dafdb5dbafd7",
   "metadata": {
    "tags": []
   },
   "outputs": [],
   "source": [
    "HH_UA = [\n",
    "        \"hh_id\",\n",
    "        \"brand\",\n",
    "        \"model\",\n",
    "        \"os\",\n",
    "        \"browser\",\n",
    "        \"advertisedbrowser\",\n",
    "    ]"
   ]
  },
  {
   "cell_type": "code",
   "execution_count": null,
   "id": "9bfd86c7-b1b1-430b-9491-b042965014c5",
   "metadata": {
    "tags": []
   },
   "outputs": [],
   "source": []
  },
  {
   "cell_type": "code",
   "execution_count": 195,
   "id": "102ab45a-65e4-4f57-aaf6-55de3ba7d759",
   "metadata": {},
   "outputs": [],
   "source": [
    "total_count = df[df.maid==7].groupby(HH_UA).iiqid.nunique().reset_index()"
   ]
  },
  {
   "cell_type": "code",
   "execution_count": 196,
   "id": "12374add-be04-4a8b-855b-faa240587020",
   "metadata": {
    "tags": []
   },
   "outputs": [
    {
     "data": {
      "text/html": [
       "<div>\n",
       "<style scoped>\n",
       "    .dataframe tbody tr th:only-of-type {\n",
       "        vertical-align: middle;\n",
       "    }\n",
       "\n",
       "    .dataframe tbody tr th {\n",
       "        vertical-align: top;\n",
       "    }\n",
       "\n",
       "    .dataframe thead th {\n",
       "        text-align: right;\n",
       "    }\n",
       "</style>\n",
       "<table border=\"1\" class=\"dataframe\">\n",
       "  <thead>\n",
       "    <tr style=\"text-align: right;\">\n",
       "      <th></th>\n",
       "      <th>hh_id</th>\n",
       "      <th>brand</th>\n",
       "      <th>model</th>\n",
       "      <th>os</th>\n",
       "      <th>browser</th>\n",
       "      <th>advertisedbrowser</th>\n",
       "      <th>iiqid</th>\n",
       "    </tr>\n",
       "  </thead>\n",
       "  <tbody>\n",
       "    <tr>\n",
       "      <th>0</th>\n",
       "      <td>008lj1AMI8</td>\n",
       "      <td>apple</td>\n",
       "      <td>iphone</td>\n",
       "      <td>ios</td>\n",
       "      <td>safari</td>\n",
       "      <td>Mobile Safari</td>\n",
       "      <td>1</td>\n",
       "    </tr>\n",
       "    <tr>\n",
       "      <th>1</th>\n",
       "      <td>008lj1AMI8</td>\n",
       "      <td>apple</td>\n",
       "      <td>safari</td>\n",
       "      <td>macos</td>\n",
       "      <td>safari</td>\n",
       "      <td>Safari</td>\n",
       "      <td>1</td>\n",
       "    </tr>\n",
       "    <tr>\n",
       "      <th>2</th>\n",
       "      <td>008lj1AMI8</td>\n",
       "      <td>google</td>\n",
       "      <td>chrome</td>\n",
       "      <td>windows</td>\n",
       "      <td>chrome desktop</td>\n",
       "      <td>Chrome</td>\n",
       "      <td>2</td>\n",
       "    </tr>\n",
       "    <tr>\n",
       "      <th>3</th>\n",
       "      <td>008lj1AMI8</td>\n",
       "      <td>samsung</td>\n",
       "      <td>sm-s908u</td>\n",
       "      <td>android</td>\n",
       "      <td>chrome mobile</td>\n",
       "      <td>Chrome Mobile</td>\n",
       "      <td>1</td>\n",
       "    </tr>\n",
       "  </tbody>\n",
       "</table>\n",
       "</div>"
      ],
      "text/plain": [
       "        hh_id    brand     model       os         browser advertisedbrowser  \\\n",
       "0  008lj1AMI8    apple    iphone      ios          safari     Mobile Safari   \n",
       "1  008lj1AMI8    apple    safari    macos          safari            Safari   \n",
       "2  008lj1AMI8   google    chrome  windows  chrome desktop            Chrome   \n",
       "3  008lj1AMI8  samsung  sm-s908u  android   chrome mobile     Chrome Mobile   \n",
       "\n",
       "   iiqid  \n",
       "0      1  \n",
       "1      1  \n",
       "2      2  \n",
       "3      1  "
      ]
     },
     "execution_count": 196,
     "metadata": {},
     "output_type": "execute_result"
    }
   ],
   "source": [
    "total_count[total_count[\"hh_id\"]==\"008lj1AMI8\"]"
   ]
  },
  {
   "cell_type": "code",
   "execution_count": 199,
   "id": "3eeb3e2c-0cd1-4541-b7c0-2b2944103cdd",
   "metadata": {
    "tags": []
   },
   "outputs": [
    {
     "data": {
      "text/plain": [
       "13224"
      ]
     },
     "execution_count": 199,
     "metadata": {},
     "output_type": "execute_result"
    }
   ],
   "source": [
    "len(total_count[total_count[\"browser\"]==\"safari\"])"
   ]
  },
  {
   "cell_type": "code",
   "execution_count": 207,
   "id": "79e006b1-220a-416a-88ee-d90b86c7140d",
   "metadata": {
    "tags": []
   },
   "outputs": [
    {
     "data": {
      "text/plain": [
       "13224"
      ]
     },
     "execution_count": 207,
     "metadata": {},
     "output_type": "execute_result"
    }
   ],
   "source": [
    "b = \"safari\"\n",
    "total_count[total_count[\"browser\"]==b].iiqid.value_counts().sum()"
   ]
  },
  {
   "cell_type": "code",
   "execution_count": null,
   "id": "da81d006-c19d-4a01-8774-71d79a32c59d",
   "metadata": {},
   "outputs": [
    {
     "data": {
      "text/plain": [
       "hh_id       brand      model     os       browser         advertisedbrowser  \n",
       "008lj1AMI8  apple      iphone    ios      safari          Mobile Safari          1\n",
       "                       safari    macos    safari          Safari                 1\n",
       "            google     chrome    windows  chrome desktop  Chrome                 2\n",
       "            samsung    sm-s908u  android  chrome mobile   Chrome Mobile          1\n",
       "00C30KAqMf  microsoft  edge      windows  edge            Edge                   1\n",
       "                                                                                ..\n",
       "zzyXvF318v  apple      iphone    ios      safari          Mobile Safari          2\n",
       "            google     chrome    windows  chrome desktop  Chrome                 1\n",
       "            microsoft  edge      windows  edge            Edge                   1\n",
       "            samsung    sm-s906u  android  chrome mobile   Chrome Mobile          1\n",
       "                                                          Facebook on Android    1\n",
       "Name: iiqid, Length: 48710, dtype: int64"
      ]
     },
     "execution_count": 205,
     "metadata": {},
     "output_type": "execute_result"
    }
   ],
   "source": []
  }
 ],
 "metadata": {
  "kernelspec": {
   "display_name": "Python 3 (ipykernel)",
   "language": "python",
   "name": "python3"
  },
  "language_info": {
   "codemirror_mode": {
    "name": "ipython",
    "version": 3
   },
   "file_extension": ".py",
   "mimetype": "text/x-python",
   "name": "python",
   "nbconvert_exporter": "python",
   "pygments_lexer": "ipython3",
   "version": "3.10.10"
  }
 },
 "nbformat": 4,
 "nbformat_minor": 5
}
