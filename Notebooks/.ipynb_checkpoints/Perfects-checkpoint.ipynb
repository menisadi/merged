{
 "cells": [
  {
   "cell_type": "markdown",
   "id": "c4a86445-459a-4fdf-b31c-5a8d7e9084d8",
   "metadata": {},
   "source": [
    "# Searching for the Perfect Cookies"
   ]
  },
  {
   "cell_type": "code",
   "execution_count": 1,
   "id": "2e55759a-b609-4839-b8d0-d90dd59179cb",
   "metadata": {
    "tags": []
   },
   "outputs": [],
   "source": [
    "import numpy as np\n",
    "import pandas as pd\n",
    "import seaborn as sns\n",
    "import matplotlib.pyplot as plt\n",
    "import itertools"
   ]
  },
  {
   "cell_type": "code",
   "execution_count": 2,
   "id": "9c27e76b-7028-4672-a7dc-82400f9212c9",
   "metadata": {
    "tags": []
   },
   "outputs": [],
   "source": [
    "import sys\n",
    "import os\n",
    "sys.path.append(os.path.abspath('../modules'))\n",
    "from hard_rules import candidate_cookies"
   ]
  },
  {
   "cell_type": "code",
   "execution_count": 3,
   "id": "23fbce83-b631-4c7b-aee8-3246cde12f1f",
   "metadata": {
    "tags": []
   },
   "outputs": [],
   "source": [
    "from tqdm import tqdm"
   ]
  },
  {
   "cell_type": "code",
   "execution_count": 4,
   "id": "3dd8df0b-93ac-4a47-ba93-b15471607afa",
   "metadata": {
    "tags": []
   },
   "outputs": [],
   "source": [
    "sns.set(rc={'figure.figsize':(12,5)})"
   ]
  },
  {
   "cell_type": "markdown",
   "id": "51a2c99a-a528-4d02-8cb1-cd47bea08b35",
   "metadata": {},
   "source": [
    "## Reading the data (and some basic preprocessing)"
   ]
  },
  {
   "cell_type": "code",
   "execution_count": 69,
   "id": "76a251d0-38a4-4536-9937-3ee3be220af3",
   "metadata": {},
   "outputs": [
    {
     "name": "stderr",
     "output_type": "stream",
     "text": [
      "/var/folders/nw/8w_76z_n6fz418hmsps2_rq40000gn/T/ipykernel_30915/1426712498.py:1: DtypeWarning: Columns (3) have mixed types. Specify dtype option on import or set low_memory=False.\n",
      "  data = pd.read_csv('../Data/10K_HH.csv')\n"
     ]
    }
   ],
   "source": [
    "data = pd.read_csv('../Data/10K_HH.csv')"
   ]
  },
  {
   "cell_type": "code",
   "execution_count": 70,
   "id": "f405fd42-7725-48e5-9652-8f226c0f7a3c",
   "metadata": {
    "tags": []
   },
   "outputs": [],
   "source": [
    "needed_columns = ['timestamp', 'filename', 'maid', 'hh_id','iiqid', 'partner_id', 'ip', 'iscellip',\n",
    "       'cellispid', 'domain','is_house_ip_or_source_ip', 'brand', 'model', 'os', 'osversion',\n",
    "       'browser', 'advertisedbrowser', 'browserversion', 'type', 'is_best_ip']\n",
    "unnecessary_columns = [c for c in data.columns if c not in needed_columns]"
   ]
  },
  {
   "cell_type": "code",
   "execution_count": 71,
   "id": "318bed8a-1864-4b24-909d-4b34541d015b",
   "metadata": {
    "tags": []
   },
   "outputs": [],
   "source": [
    "data.drop(unnecessary_columns, axis=1, inplace=True)"
   ]
  },
  {
   "cell_type": "code",
   "execution_count": 72,
   "id": "5eb4da4d-ad4c-4de2-b91b-0bc754cf2d2e",
   "metadata": {
    "tags": []
   },
   "outputs": [],
   "source": [
    "data['time'] = pd.to_datetime(data['timestamp'], unit='ms')"
   ]
  },
  {
   "cell_type": "code",
   "execution_count": 73,
   "id": "bb1bf88f-c0eb-4044-93cd-3b9bdfec0552",
   "metadata": {
    "tags": []
   },
   "outputs": [],
   "source": [
    "data.dropna(inplace=True)"
   ]
  },
  {
   "cell_type": "markdown",
   "id": "f5a7ffb8-4459-4e4c-852b-4ac10fb0aefe",
   "metadata": {},
   "source": [
    "hh_id contains households id and also non-houdsehols.  \n",
    "The former are strings and the later are integers.   \n",
    "So we record this in a seperate cell and convert all to str  "
   ]
  },
  {
   "cell_type": "code",
   "execution_count": 76,
   "id": "7b9f47a9-eceb-4e2c-a104-af7cb1b27c0e",
   "metadata": {
    "tags": []
   },
   "outputs": [],
   "source": [
    "data['is_hh'] = data['hh_id'].apply(lambda x: isinstance(x, str))"
   ]
  },
  {
   "cell_type": "code",
   "execution_count": 77,
   "id": "4bd33809-d35e-4bef-833c-847f94fa153a",
   "metadata": {
    "tags": []
   },
   "outputs": [
    {
     "data": {
      "text/plain": [
       "True     7502130\n",
       "False        211\n",
       "Name: is_hh, dtype: int64"
      ]
     },
     "execution_count": 77,
     "metadata": {},
     "output_type": "execute_result"
    }
   ],
   "source": [
    "data.is_hh.value_counts()"
   ]
  },
  {
   "cell_type": "code",
   "execution_count": 79,
   "id": "6a165443-cd3a-41d8-bcd8-0374c94a7271",
   "metadata": {
    "tags": []
   },
   "outputs": [],
   "source": [
    "data['hh_id'] = data['hh_id'].astype(str)"
   ]
  },
  {
   "cell_type": "markdown",
   "id": "d9fce4f6-86fe-4154-9946-2809b74a6a59",
   "metadata": {},
   "source": [
    "Save the preprosecced data"
   ]
  },
  {
   "cell_type": "code",
   "execution_count": 80,
   "id": "469e9c3e-91d2-462e-9127-4bbffb81cf87",
   "metadata": {
    "tags": []
   },
   "outputs": [],
   "source": [
    "data.to_parquet('10K_HH.parquet')"
   ]
  },
  {
   "cell_type": "code",
   "execution_count": 6,
   "id": "80dd2087-3943-47f9-bd8c-63a803963391",
   "metadata": {
    "tags": []
   },
   "outputs": [],
   "source": [
    "data = pd.read_parquet('../Data/10K_HH.parquet')"
   ]
  },
  {
   "cell_type": "markdown",
   "id": "262adbc3-b31b-4bcc-8d72-48ca01ba0775",
   "metadata": {},
   "source": [
    "## Lests Start"
   ]
  },
  {
   "cell_type": "code",
   "execution_count": 105,
   "id": "cd91f9e4-db39-4789-a025-0598ec8ec464",
   "metadata": {
    "tags": []
   },
   "outputs": [],
   "source": [
    "houses = data['hh_id'].unique()"
   ]
  },
  {
   "cell_type": "code",
   "execution_count": 106,
   "id": "63b43d5d-8a9a-4e4d-9619-f5c81847114c",
   "metadata": {
    "tags": []
   },
   "outputs": [
    {
     "data": {
      "text/plain": [
       "9729"
      ]
     },
     "execution_count": 106,
     "metadata": {},
     "output_type": "execute_result"
    }
   ],
   "source": [
    "len(houses)"
   ]
  },
  {
   "cell_type": "markdown",
   "id": "de5cac72-8d40-4cef-bab6-f543a87cddc9",
   "metadata": {},
   "source": [
    "### Lets start with a sample"
   ]
  },
  {
   "cell_type": "code",
   "execution_count": 126,
   "id": "21306d6f-68db-4771-b5f8-91a439ed30e5",
   "metadata": {},
   "outputs": [],
   "source": [
    "small = data.sample(1000)"
   ]
  },
  {
   "cell_type": "code",
   "execution_count": 127,
   "id": "a9a52d88-c8f4-48b8-a594-c6a89336be35",
   "metadata": {
    "tags": []
   },
   "outputs": [],
   "source": [
    "filtered_small = small.groupby(['hh_id', 'brand', 'model', 'os', 'browser', 'advertisedbrowser']).filter(lambda x: x['iiqid'].nunique() > 1)"
   ]
  },
  {
   "cell_type": "code",
   "execution_count": 129,
   "id": "7eebbc70-b093-4529-8b6e-798ba40b7eba",
   "metadata": {
    "tags": []
   },
   "outputs": [],
   "source": [
    "grouped_small = filtered_small.groupby(['hh_id', 'brand', 'model', 'os', 'browser', 'advertisedbrowser', 'iiqid']).agg({'time': ['min', 'max']}).reset_index()"
   ]
  },
  {
   "cell_type": "code",
   "execution_count": 130,
   "id": "c048460e-0f15-47df-a994-1454e7b81f0c",
   "metadata": {
    "tags": []
   },
   "outputs": [],
   "source": [
    "grouped_small.columns = ['hh_id', 'brand', 'model', 'os', 'browser', 'advertisedbrowser', 'iiqid', 'min_time', 'max_time']"
   ]
  },
  {
   "cell_type": "code",
   "execution_count": 131,
   "id": "ff6108b0-9ad6-42f2-b0f2-b5439004437d",
   "metadata": {
    "tags": []
   },
   "outputs": [],
   "source": [
    "# filtered_small.groupby(['hh_id', 'brand', 'model', 'os', 'browser', 'advertisedbrowser', 'iiqid']).agg({'time': ['min', 'max']})"
   ]
  },
  {
   "cell_type": "code",
   "execution_count": 132,
   "id": "783ff6a8-3f9d-40cf-a4ef-56de16a63ec2",
   "metadata": {
    "tags": []
   },
   "outputs": [],
   "source": [
    "grouped_small = grouped_small.sort_values(by=['hh_id', 'brand', 'model', 'os', 'browser', 'advertisedbrowser', 'min_time'])"
   ]
  },
  {
   "cell_type": "code",
   "execution_count": 133,
   "id": "51612358-1477-4945-affd-c86005618e1b",
   "metadata": {
    "tags": []
   },
   "outputs": [],
   "source": [
    "grouped_small['prev_max_time'] = grouped_small.groupby(['hh_id', 'brand', 'model', 'os', 'browser', 'advertisedbrowser'])['max_time'].shift(1).fillna(pd.Timestamp.min)"
   ]
  },
  {
   "cell_type": "code",
   "execution_count": 134,
   "id": "e341cde2-6a20-4156-8665-65865d3f7d39",
   "metadata": {
    "tags": []
   },
   "outputs": [
    {
     "data": {
      "text/html": [
       "<div>\n",
       "<style scoped>\n",
       "    .dataframe tbody tr th:only-of-type {\n",
       "        vertical-align: middle;\n",
       "    }\n",
       "\n",
       "    .dataframe tbody tr th {\n",
       "        vertical-align: top;\n",
       "    }\n",
       "\n",
       "    .dataframe thead th {\n",
       "        text-align: right;\n",
       "    }\n",
       "</style>\n",
       "<table border=\"1\" class=\"dataframe\">\n",
       "  <thead>\n",
       "    <tr style=\"text-align: right;\">\n",
       "      <th></th>\n",
       "      <th>hh_id</th>\n",
       "      <th>brand</th>\n",
       "      <th>model</th>\n",
       "      <th>os</th>\n",
       "      <th>browser</th>\n",
       "      <th>advertisedbrowser</th>\n",
       "      <th>iiqid</th>\n",
       "      <th>min_time</th>\n",
       "      <th>max_time</th>\n",
       "      <th>prev_max_time</th>\n",
       "    </tr>\n",
       "  </thead>\n",
       "  <tbody>\n",
       "    <tr>\n",
       "      <th>0</th>\n",
       "      <td>1612698766</td>\n",
       "      <td>apple</td>\n",
       "      <td>iphone</td>\n",
       "      <td>ios</td>\n",
       "      <td>safari</td>\n",
       "      <td>iOS WebView</td>\n",
       "      <td>6QZjrTkYC5</td>\n",
       "      <td>2022-12-02 21:40:04.812</td>\n",
       "      <td>2023-01-02 05:41:11.335</td>\n",
       "      <td>1677-09-21 00:12:43.145224193</td>\n",
       "    </tr>\n",
       "    <tr>\n",
       "      <th>1</th>\n",
       "      <td>1612698766</td>\n",
       "      <td>apple</td>\n",
       "      <td>iphone</td>\n",
       "      <td>ios</td>\n",
       "      <td>safari</td>\n",
       "      <td>iOS WebView</td>\n",
       "      <td>sgSAgYGHoL</td>\n",
       "      <td>2023-01-02 02:53:59.479</td>\n",
       "      <td>2023-01-02 02:53:59.479</td>\n",
       "      <td>2023-01-02 05:41:11.335000000</td>\n",
       "    </tr>\n",
       "    <tr>\n",
       "      <th>2</th>\n",
       "      <td>1665976832</td>\n",
       "      <td>google</td>\n",
       "      <td>chrome</td>\n",
       "      <td>windows</td>\n",
       "      <td>chrome desktop</td>\n",
       "      <td>Chrome</td>\n",
       "      <td>Kd47qXDiJi</td>\n",
       "      <td>2023-01-30 20:46:05.683</td>\n",
       "      <td>2023-01-30 20:46:05.683</td>\n",
       "      <td>1677-09-21 00:12:43.145224193</td>\n",
       "    </tr>\n",
       "    <tr>\n",
       "      <th>3</th>\n",
       "      <td>1665976832</td>\n",
       "      <td>google</td>\n",
       "      <td>chrome</td>\n",
       "      <td>windows</td>\n",
       "      <td>chrome desktop</td>\n",
       "      <td>Chrome</td>\n",
       "      <td>Re4NiWWxPQ</td>\n",
       "      <td>2023-02-06 17:50:11.132</td>\n",
       "      <td>2023-02-06 17:50:11.132</td>\n",
       "      <td>2023-01-30 20:46:05.683000000</td>\n",
       "    </tr>\n",
       "    <tr>\n",
       "      <th>4</th>\n",
       "      <td>2919310392</td>\n",
       "      <td>apple</td>\n",
       "      <td>iphone</td>\n",
       "      <td>ios</td>\n",
       "      <td>safari</td>\n",
       "      <td>iOS WebView</td>\n",
       "      <td>Xiv27Mhf91</td>\n",
       "      <td>2023-01-15 19:23:30.914</td>\n",
       "      <td>2023-01-15 19:23:30.914</td>\n",
       "      <td>1677-09-21 00:12:43.145224193</td>\n",
       "    </tr>\n",
       "  </tbody>\n",
       "</table>\n",
       "</div>"
      ],
      "text/plain": [
       "        hh_id   brand   model       os         browser advertisedbrowser  \\\n",
       "0  1612698766   apple  iphone      ios          safari       iOS WebView   \n",
       "1  1612698766   apple  iphone      ios          safari       iOS WebView   \n",
       "2  1665976832  google  chrome  windows  chrome desktop            Chrome   \n",
       "3  1665976832  google  chrome  windows  chrome desktop            Chrome   \n",
       "4  2919310392   apple  iphone      ios          safari       iOS WebView   \n",
       "\n",
       "        iiqid                min_time                max_time  \\\n",
       "0  6QZjrTkYC5 2022-12-02 21:40:04.812 2023-01-02 05:41:11.335   \n",
       "1  sgSAgYGHoL 2023-01-02 02:53:59.479 2023-01-02 02:53:59.479   \n",
       "2  Kd47qXDiJi 2023-01-30 20:46:05.683 2023-01-30 20:46:05.683   \n",
       "3  Re4NiWWxPQ 2023-02-06 17:50:11.132 2023-02-06 17:50:11.132   \n",
       "4  Xiv27Mhf91 2023-01-15 19:23:30.914 2023-01-15 19:23:30.914   \n",
       "\n",
       "                  prev_max_time  \n",
       "0 1677-09-21 00:12:43.145224193  \n",
       "1 2023-01-02 05:41:11.335000000  \n",
       "2 1677-09-21 00:12:43.145224193  \n",
       "3 2023-01-30 20:46:05.683000000  \n",
       "4 1677-09-21 00:12:43.145224193  "
      ]
     },
     "execution_count": 134,
     "metadata": {},
     "output_type": "execute_result"
    }
   ],
   "source": [
    "grouped_small.head()"
   ]
  },
  {
   "cell_type": "code",
   "execution_count": 135,
   "id": "8399d7dc-2ab9-46fb-a886-9e8dd8583531",
   "metadata": {
    "tags": []
   },
   "outputs": [],
   "source": [
    "valid_rows = grouped_small[grouped_small['min_time'] > grouped_small['prev_max_time']]"
   ]
  },
  {
   "cell_type": "code",
   "execution_count": 136,
   "id": "6f096d20-62c6-467e-9cb8-e63137ddd42b",
   "metadata": {
    "tags": []
   },
   "outputs": [
    {
     "data": {
      "text/html": [
       "<div>\n",
       "<style scoped>\n",
       "    .dataframe tbody tr th:only-of-type {\n",
       "        vertical-align: middle;\n",
       "    }\n",
       "\n",
       "    .dataframe tbody tr th {\n",
       "        vertical-align: top;\n",
       "    }\n",
       "\n",
       "    .dataframe thead th {\n",
       "        text-align: right;\n",
       "    }\n",
       "</style>\n",
       "<table border=\"1\" class=\"dataframe\">\n",
       "  <thead>\n",
       "    <tr style=\"text-align: right;\">\n",
       "      <th></th>\n",
       "      <th></th>\n",
       "      <th></th>\n",
       "      <th></th>\n",
       "      <th></th>\n",
       "      <th></th>\n",
       "      <th>cookies</th>\n",
       "      <th>mergeable</th>\n",
       "    </tr>\n",
       "    <tr>\n",
       "      <th>hh_id</th>\n",
       "      <th>brand</th>\n",
       "      <th>model</th>\n",
       "      <th>os</th>\n",
       "      <th>browser</th>\n",
       "      <th>advertisedbrowser</th>\n",
       "      <th></th>\n",
       "      <th></th>\n",
       "    </tr>\n",
       "  </thead>\n",
       "  <tbody>\n",
       "    <tr>\n",
       "      <th>1612698766</th>\n",
       "      <th>apple</th>\n",
       "      <th>iphone</th>\n",
       "      <th>ios</th>\n",
       "      <th>safari</th>\n",
       "      <th>iOS WebView</th>\n",
       "      <td>2</td>\n",
       "      <td>False</td>\n",
       "    </tr>\n",
       "    <tr>\n",
       "      <th>1665976832</th>\n",
       "      <th>google</th>\n",
       "      <th>chrome</th>\n",
       "      <th>windows</th>\n",
       "      <th>chrome desktop</th>\n",
       "      <th>Chrome</th>\n",
       "      <td>2</td>\n",
       "      <td>True</td>\n",
       "    </tr>\n",
       "    <tr>\n",
       "      <th>2919310392</th>\n",
       "      <th>apple</th>\n",
       "      <th>iphone</th>\n",
       "      <th>ios</th>\n",
       "      <th>safari</th>\n",
       "      <th>iOS WebView</th>\n",
       "      <td>2</td>\n",
       "      <td>True</td>\n",
       "    </tr>\n",
       "    <tr>\n",
       "      <th>3TpSTWWuCi</th>\n",
       "      <th>google</th>\n",
       "      <th>chrome</th>\n",
       "      <th>windows</th>\n",
       "      <th>chrome desktop</th>\n",
       "      <th>Chrome</th>\n",
       "      <td>2</td>\n",
       "      <td>True</td>\n",
       "    </tr>\n",
       "    <tr>\n",
       "      <th>416520612</th>\n",
       "      <th>apple</th>\n",
       "      <th>iphone</th>\n",
       "      <th>ios</th>\n",
       "      <th>safari</th>\n",
       "      <th>iOS WebView</th>\n",
       "      <td>2</td>\n",
       "      <td>True</td>\n",
       "    </tr>\n",
       "    <tr>\n",
       "      <th>798057789</th>\n",
       "      <th>apple</th>\n",
       "      <th>iphone</th>\n",
       "      <th>ios</th>\n",
       "      <th>safari</th>\n",
       "      <th>iOS WebView</th>\n",
       "      <td>2</td>\n",
       "      <td>True</td>\n",
       "    </tr>\n",
       "    <tr>\n",
       "      <th>7HpupiWyKH</th>\n",
       "      <th>apple</th>\n",
       "      <th>iphone</th>\n",
       "      <th>ios</th>\n",
       "      <th>safari</th>\n",
       "      <th>iOS WebView</th>\n",
       "      <td>2</td>\n",
       "      <td>True</td>\n",
       "    </tr>\n",
       "    <tr>\n",
       "      <th>846026393</th>\n",
       "      <th>apple</th>\n",
       "      <th>ipad</th>\n",
       "      <th>ipados</th>\n",
       "      <th>safari</th>\n",
       "      <th>iOS WebView</th>\n",
       "      <td>2</td>\n",
       "      <td>True</td>\n",
       "    </tr>\n",
       "    <tr>\n",
       "      <th>JZja1n7OYY</th>\n",
       "      <th>apple</th>\n",
       "      <th>iphone</th>\n",
       "      <th>ios</th>\n",
       "      <th>safari</th>\n",
       "      <th>iOS WebView</th>\n",
       "      <td>2</td>\n",
       "      <td>True</td>\n",
       "    </tr>\n",
       "    <tr>\n",
       "      <th>KEAGq8bHmj</th>\n",
       "      <th>apple</th>\n",
       "      <th>iphone</th>\n",
       "      <th>ios</th>\n",
       "      <th>safari</th>\n",
       "      <th>iOS WebView</th>\n",
       "      <td>2</td>\n",
       "      <td>True</td>\n",
       "    </tr>\n",
       "    <tr>\n",
       "      <th>Vns3TnQjze</th>\n",
       "      <th>google</th>\n",
       "      <th>chrome</th>\n",
       "      <th>windows</th>\n",
       "      <th>chrome desktop</th>\n",
       "      <th>Chrome</th>\n",
       "      <td>2</td>\n",
       "      <td>True</td>\n",
       "    </tr>\n",
       "    <tr>\n",
       "      <th>WxueWICwYc</th>\n",
       "      <th>lg</th>\n",
       "      <th>lm-v600</th>\n",
       "      <th>android</th>\n",
       "      <th>chrome mobile</th>\n",
       "      <th>Chrome Mobile</th>\n",
       "      <td>2</td>\n",
       "      <td>True</td>\n",
       "    </tr>\n",
       "    <tr>\n",
       "      <th>YF5QlW159y</th>\n",
       "      <th>google</th>\n",
       "      <th>chrome</th>\n",
       "      <th>windows</th>\n",
       "      <th>chrome desktop</th>\n",
       "      <th>Chrome</th>\n",
       "      <td>2</td>\n",
       "      <td>True</td>\n",
       "    </tr>\n",
       "    <tr>\n",
       "      <th>hmcs1sJzDh</th>\n",
       "      <th>apple</th>\n",
       "      <th>iphone</th>\n",
       "      <th>ios</th>\n",
       "      <th>safari</th>\n",
       "      <th>iOS WebView</th>\n",
       "      <td>2</td>\n",
       "      <td>True</td>\n",
       "    </tr>\n",
       "    <tr>\n",
       "      <th>r4e43JlUrm</th>\n",
       "      <th>apple</th>\n",
       "      <th>iphone</th>\n",
       "      <th>ios</th>\n",
       "      <th>safari</th>\n",
       "      <th>iOS WebView</th>\n",
       "      <td>2</td>\n",
       "      <td>True</td>\n",
       "    </tr>\n",
       "    <tr>\n",
       "      <th>y2bWAvIJmd</th>\n",
       "      <th>apple</th>\n",
       "      <th>ipad</th>\n",
       "      <th>ipados</th>\n",
       "      <th>safari</th>\n",
       "      <th>iOS WebView</th>\n",
       "      <td>2</td>\n",
       "      <td>True</td>\n",
       "    </tr>\n",
       "    <tr>\n",
       "      <th>zW66Nf9CAz</th>\n",
       "      <th>google</th>\n",
       "      <th>chrome</th>\n",
       "      <th>windows</th>\n",
       "      <th>chrome desktop</th>\n",
       "      <th>Chrome</th>\n",
       "      <td>2</td>\n",
       "      <td>True</td>\n",
       "    </tr>\n",
       "  </tbody>\n",
       "</table>\n",
       "</div>"
      ],
      "text/plain": [
       "                                                                    cookies  \\\n",
       "hh_id      brand  model   os      browser        advertisedbrowser            \n",
       "1612698766 apple  iphone  ios     safari         iOS WebView              2   \n",
       "1665976832 google chrome  windows chrome desktop Chrome                   2   \n",
       "2919310392 apple  iphone  ios     safari         iOS WebView              2   \n",
       "3TpSTWWuCi google chrome  windows chrome desktop Chrome                   2   \n",
       "416520612  apple  iphone  ios     safari         iOS WebView              2   \n",
       "798057789  apple  iphone  ios     safari         iOS WebView              2   \n",
       "7HpupiWyKH apple  iphone  ios     safari         iOS WebView              2   \n",
       "846026393  apple  ipad    ipados  safari         iOS WebView              2   \n",
       "JZja1n7OYY apple  iphone  ios     safari         iOS WebView              2   \n",
       "KEAGq8bHmj apple  iphone  ios     safari         iOS WebView              2   \n",
       "Vns3TnQjze google chrome  windows chrome desktop Chrome                   2   \n",
       "WxueWICwYc lg     lm-v600 android chrome mobile  Chrome Mobile            2   \n",
       "YF5QlW159y google chrome  windows chrome desktop Chrome                   2   \n",
       "hmcs1sJzDh apple  iphone  ios     safari         iOS WebView              2   \n",
       "r4e43JlUrm apple  iphone  ios     safari         iOS WebView              2   \n",
       "y2bWAvIJmd apple  ipad    ipados  safari         iOS WebView              2   \n",
       "zW66Nf9CAz google chrome  windows chrome desktop Chrome                   2   \n",
       "\n",
       "                                                                    mergeable  \n",
       "hh_id      brand  model   os      browser        advertisedbrowser             \n",
       "1612698766 apple  iphone  ios     safari         iOS WebView            False  \n",
       "1665976832 google chrome  windows chrome desktop Chrome                  True  \n",
       "2919310392 apple  iphone  ios     safari         iOS WebView             True  \n",
       "3TpSTWWuCi google chrome  windows chrome desktop Chrome                  True  \n",
       "416520612  apple  iphone  ios     safari         iOS WebView             True  \n",
       "798057789  apple  iphone  ios     safari         iOS WebView             True  \n",
       "7HpupiWyKH apple  iphone  ios     safari         iOS WebView             True  \n",
       "846026393  apple  ipad    ipados  safari         iOS WebView             True  \n",
       "JZja1n7OYY apple  iphone  ios     safari         iOS WebView             True  \n",
       "KEAGq8bHmj apple  iphone  ios     safari         iOS WebView             True  \n",
       "Vns3TnQjze google chrome  windows chrome desktop Chrome                  True  \n",
       "WxueWICwYc lg     lm-v600 android chrome mobile  Chrome Mobile           True  \n",
       "YF5QlW159y google chrome  windows chrome desktop Chrome                  True  \n",
       "hmcs1sJzDh apple  iphone  ios     safari         iOS WebView             True  \n",
       "r4e43JlUrm apple  iphone  ios     safari         iOS WebView             True  \n",
       "y2bWAvIJmd apple  ipad    ipados  safari         iOS WebView             True  \n",
       "zW66Nf9CAz google chrome  windows chrome desktop Chrome                  True  "
      ]
     },
     "execution_count": 136,
     "metadata": {},
     "output_type": "execute_result"
    }
   ],
   "source": [
    "original_rows_per_hhua = grouped_small.groupby(['hh_id', 'brand', 'model', 'os', 'browser', 'advertisedbrowser']).size()\n",
    "valid_rows_per_hhua = valid_rows.groupby(['hh_id', 'brand', 'model', 'os', 'browser', 'advertisedbrowser']).size()\n",
    "all_mergable = valid_rows_per_hhua.eq(original_rows_per_hhua)\n",
    "\n",
    "result = pd.concat([original_rows_per_hhua, all_mergable], axis=1)\n",
    "result.columns = ['cookies','mergeable'] \n",
    "result"
   ]
  },
  {
   "cell_type": "code",
   "execution_count": 221,
   "id": "b5f23d6f-4f10-4fe9-8ec5-0b3fa97ff8f3",
   "metadata": {
    "tags": []
   },
   "outputs": [
    {
     "data": {
      "text/html": [
       "<div>\n",
       "<style scoped>\n",
       "    .dataframe tbody tr th:only-of-type {\n",
       "        vertical-align: middle;\n",
       "    }\n",
       "\n",
       "    .dataframe tbody tr th {\n",
       "        vertical-align: top;\n",
       "    }\n",
       "\n",
       "    .dataframe thead th {\n",
       "        text-align: right;\n",
       "    }\n",
       "</style>\n",
       "<table border=\"1\" class=\"dataframe\">\n",
       "  <thead>\n",
       "    <tr style=\"text-align: right;\">\n",
       "      <th></th>\n",
       "      <th></th>\n",
       "      <th>mergeable</th>\n",
       "    </tr>\n",
       "    <tr>\n",
       "      <th>browser</th>\n",
       "      <th>cookies</th>\n",
       "      <th></th>\n",
       "    </tr>\n",
       "  </thead>\n",
       "  <tbody>\n",
       "    <tr>\n",
       "      <th>chrome mobile</th>\n",
       "      <th>2</th>\n",
       "      <td>1</td>\n",
       "    </tr>\n",
       "    <tr>\n",
       "      <th rowspan=\"2\" valign=\"top\">safari</th>\n",
       "      <th>2</th>\n",
       "      <td>12</td>\n",
       "    </tr>\n",
       "    <tr>\n",
       "      <th>3</th>\n",
       "      <td>1</td>\n",
       "    </tr>\n",
       "  </tbody>\n",
       "</table>\n",
       "</div>"
      ],
      "text/plain": [
       "                       mergeable\n",
       "browser       cookies           \n",
       "chrome mobile 2                1\n",
       "safari        2               12\n",
       "              3                1"
      ]
     },
     "execution_count": 221,
     "metadata": {},
     "output_type": "execute_result"
    }
   ],
   "source": [
    "result.reset_index().groupby(['browser', 'cookies']).sum(numeric_only=True)"
   ]
  },
  {
   "cell_type": "code",
   "execution_count": 224,
   "id": "ac381bc7-a9e2-4bab-b3d9-bea9d872233c",
   "metadata": {
    "tags": []
   },
   "outputs": [
    {
     "data": {
      "text/plain": [
       "browser        cookies\n",
       "chrome mobile  2           1\n",
       "safari         2          15\n",
       "               3           1\n",
       "Name: mergeable, dtype: int64"
      ]
     },
     "execution_count": 224,
     "metadata": {},
     "output_type": "execute_result"
    }
   ],
   "source": [
    "result.reset_index().groupby(['browser', 'cookies']).count().mergeable"
   ]
  },
  {
   "cell_type": "markdown",
   "id": "0673f508-8705-4a1c-8013-8d132bd8f70a",
   "metadata": {
    "tags": []
   },
   "source": [
    "### Now for the entire dataset"
   ]
  },
  {
   "cell_type": "code",
   "execution_count": 169,
   "id": "c8f2817f-bc55-4c0b-804b-a1fefc804bb7",
   "metadata": {
    "tags": []
   },
   "outputs": [],
   "source": [
    "only_3rd_party = data[data['maid']==7]\n",
    "# only_maids = data[data['maid']==4]\n",
    "more_than_one = only_maids.groupby(['hh_id', 'brand', 'model', 'os', 'browser', 'advertisedbrowser']).filter(lambda x: x['iiqid'].nunique() > 1)"
   ]
  },
  {
   "cell_type": "code",
   "execution_count": 170,
   "id": "256fd3bb-86a7-44c3-9781-7fd94aaf9503",
   "metadata": {
    "tags": []
   },
   "outputs": [
    {
     "name": "stdout",
     "output_type": "stream",
     "text": [
      "5.87%\n"
     ]
    }
   ],
   "source": [
    "print(\"{0:.2%}\".format(len(more_than_one) / len(data)))"
   ]
  },
  {
   "cell_type": "code",
   "execution_count": 171,
   "id": "30bbc1de-d96e-4856-8a5c-5c614b82335b",
   "metadata": {
    "tags": []
   },
   "outputs": [],
   "source": [
    "grouped_data = more_than_one.groupby(['hh_id', 'brand', 'model', 'os', 'browser', 'advertisedbrowser', 'iiqid']).agg({'time': ['min', 'max']}).reset_index()"
   ]
  },
  {
   "cell_type": "code",
   "execution_count": 172,
   "id": "41dab50c-1200-4bab-a437-a36c80b833e2",
   "metadata": {
    "tags": []
   },
   "outputs": [],
   "source": [
    "grouped_data.columns = ['hh_id', 'brand', 'model', 'os', 'browser', 'advertisedbrowser', 'iiqid', 'min_time', 'max_time']"
   ]
  },
  {
   "cell_type": "code",
   "execution_count": 173,
   "id": "28c3ece3-65d0-4bda-96a7-fb135f24db17",
   "metadata": {
    "tags": []
   },
   "outputs": [],
   "source": [
    "grouped_data = grouped_data.sort_values(by=['hh_id', 'brand', 'model', 'os', 'browser', 'advertisedbrowser', 'min_time'])"
   ]
  },
  {
   "cell_type": "code",
   "execution_count": 174,
   "id": "8023099d-d0c9-417e-9533-e6d44ea54699",
   "metadata": {
    "tags": []
   },
   "outputs": [],
   "source": [
    "grouped_data['prev_max_time'] = grouped_data.groupby(['hh_id', 'brand', 'model', 'os', 'browser', 'advertisedbrowser'])['max_time'].shift(1).fillna(pd.Timestamp.min)"
   ]
  },
  {
   "cell_type": "code",
   "execution_count": 175,
   "id": "b0c79c15-2fba-407e-be4f-290f4bbd4f11",
   "metadata": {
    "tags": []
   },
   "outputs": [],
   "source": [
    "full_valid_rows = grouped_data[grouped_data['min_time'] > grouped_data['prev_max_time']]"
   ]
  },
  {
   "cell_type": "code",
   "execution_count": 176,
   "id": "db9839d2-80d6-4a4c-900c-831ecbc5a33c",
   "metadata": {
    "tags": []
   },
   "outputs": [
    {
     "data": {
      "text/html": [
       "<div>\n",
       "<style scoped>\n",
       "    .dataframe tbody tr th:only-of-type {\n",
       "        vertical-align: middle;\n",
       "    }\n",
       "\n",
       "    .dataframe tbody tr th {\n",
       "        vertical-align: top;\n",
       "    }\n",
       "\n",
       "    .dataframe thead th {\n",
       "        text-align: right;\n",
       "    }\n",
       "</style>\n",
       "<table border=\"1\" class=\"dataframe\">\n",
       "  <thead>\n",
       "    <tr style=\"text-align: right;\">\n",
       "      <th></th>\n",
       "      <th></th>\n",
       "      <th></th>\n",
       "      <th></th>\n",
       "      <th></th>\n",
       "      <th></th>\n",
       "      <th>cookies</th>\n",
       "      <th>mergeable</th>\n",
       "    </tr>\n",
       "    <tr>\n",
       "      <th>hh_id</th>\n",
       "      <th>brand</th>\n",
       "      <th>model</th>\n",
       "      <th>os</th>\n",
       "      <th>browser</th>\n",
       "      <th>advertisedbrowser</th>\n",
       "      <th></th>\n",
       "      <th></th>\n",
       "    </tr>\n",
       "  </thead>\n",
       "  <tbody>\n",
       "    <tr>\n",
       "      <th>008lj1AMI8</th>\n",
       "      <th>samsung</th>\n",
       "      <th>sm-s908u</th>\n",
       "      <th>android</th>\n",
       "      <th>chrome mobile</th>\n",
       "      <th>Chromium</th>\n",
       "      <td>2</td>\n",
       "      <td>True</td>\n",
       "    </tr>\n",
       "    <tr>\n",
       "      <th>017VVGbSKq</th>\n",
       "      <th>apple</th>\n",
       "      <th>iphone</th>\n",
       "      <th>ios</th>\n",
       "      <th>safari</th>\n",
       "      <th>iOS WebView</th>\n",
       "      <td>2</td>\n",
       "      <td>True</td>\n",
       "    </tr>\n",
       "    <tr>\n",
       "      <th rowspan=\"2\" valign=\"top\">02AntYkc0F</th>\n",
       "      <th>apple</th>\n",
       "      <th>iphone</th>\n",
       "      <th>ios</th>\n",
       "      <th>safari</th>\n",
       "      <th>iOS WebView</th>\n",
       "      <td>4</td>\n",
       "      <td>False</td>\n",
       "    </tr>\n",
       "    <tr>\n",
       "      <th>oneplus</th>\n",
       "      <th>de2118</th>\n",
       "      <th>android</th>\n",
       "      <th>chrome mobile</th>\n",
       "      <th>Chromium</th>\n",
       "      <td>2</td>\n",
       "      <td>False</td>\n",
       "    </tr>\n",
       "    <tr>\n",
       "      <th>02Eo9zKegv</th>\n",
       "      <th>apple</th>\n",
       "      <th>iphone</th>\n",
       "      <th>ios</th>\n",
       "      <th>safari</th>\n",
       "      <th>iOS WebView</th>\n",
       "      <td>2</td>\n",
       "      <td>True</td>\n",
       "    </tr>\n",
       "    <tr>\n",
       "      <th>...</th>\n",
       "      <th>...</th>\n",
       "      <th>...</th>\n",
       "      <th>...</th>\n",
       "      <th>...</th>\n",
       "      <th>...</th>\n",
       "      <td>...</td>\n",
       "      <td>...</td>\n",
       "    </tr>\n",
       "    <tr>\n",
       "      <th>zrSapxulb2</th>\n",
       "      <th>apple</th>\n",
       "      <th>iphone</th>\n",
       "      <th>ios</th>\n",
       "      <th>safari</th>\n",
       "      <th>iOS WebView</th>\n",
       "      <td>2</td>\n",
       "      <td>True</td>\n",
       "    </tr>\n",
       "    <tr>\n",
       "      <th>zti7wQyTYD</th>\n",
       "      <th>apple</th>\n",
       "      <th>iphone</th>\n",
       "      <th>ios</th>\n",
       "      <th>safari</th>\n",
       "      <th>iOS WebView</th>\n",
       "      <td>6</td>\n",
       "      <td>False</td>\n",
       "    </tr>\n",
       "    <tr>\n",
       "      <th>zutQituxET</th>\n",
       "      <th>apple</th>\n",
       "      <th>iphone</th>\n",
       "      <th>ios</th>\n",
       "      <th>safari</th>\n",
       "      <th>iOS WebView</th>\n",
       "      <td>4</td>\n",
       "      <td>False</td>\n",
       "    </tr>\n",
       "    <tr>\n",
       "      <th rowspan=\"2\" valign=\"top\">zyWOul6ZoC</th>\n",
       "      <th rowspan=\"2\" valign=\"top\">apple</th>\n",
       "      <th>ipad</th>\n",
       "      <th>ipados</th>\n",
       "      <th>safari</th>\n",
       "      <th>iOS WebView</th>\n",
       "      <td>11</td>\n",
       "      <td>False</td>\n",
       "    </tr>\n",
       "    <tr>\n",
       "      <th>iphone</th>\n",
       "      <th>ios</th>\n",
       "      <th>safari</th>\n",
       "      <th>iOS WebView</th>\n",
       "      <td>4</td>\n",
       "      <td>False</td>\n",
       "    </tr>\n",
       "  </tbody>\n",
       "</table>\n",
       "<p>4666 rows × 2 columns</p>\n",
       "</div>"
      ],
      "text/plain": [
       "                                                                     cookies  \\\n",
       "hh_id      brand   model    os      browser       advertisedbrowser            \n",
       "008lj1AMI8 samsung sm-s908u android chrome mobile Chromium                 2   \n",
       "017VVGbSKq apple   iphone   ios     safari        iOS WebView              2   \n",
       "02AntYkc0F apple   iphone   ios     safari        iOS WebView              4   \n",
       "           oneplus de2118   android chrome mobile Chromium                 2   \n",
       "02Eo9zKegv apple   iphone   ios     safari        iOS WebView              2   \n",
       "...                                                                      ...   \n",
       "zrSapxulb2 apple   iphone   ios     safari        iOS WebView              2   \n",
       "zti7wQyTYD apple   iphone   ios     safari        iOS WebView              6   \n",
       "zutQituxET apple   iphone   ios     safari        iOS WebView              4   \n",
       "zyWOul6ZoC apple   ipad     ipados  safari        iOS WebView             11   \n",
       "                   iphone   ios     safari        iOS WebView              4   \n",
       "\n",
       "                                                                     mergeable  \n",
       "hh_id      brand   model    os      browser       advertisedbrowser             \n",
       "008lj1AMI8 samsung sm-s908u android chrome mobile Chromium                True  \n",
       "017VVGbSKq apple   iphone   ios     safari        iOS WebView             True  \n",
       "02AntYkc0F apple   iphone   ios     safari        iOS WebView            False  \n",
       "           oneplus de2118   android chrome mobile Chromium               False  \n",
       "02Eo9zKegv apple   iphone   ios     safari        iOS WebView             True  \n",
       "...                                                                        ...  \n",
       "zrSapxulb2 apple   iphone   ios     safari        iOS WebView             True  \n",
       "zti7wQyTYD apple   iphone   ios     safari        iOS WebView            False  \n",
       "zutQituxET apple   iphone   ios     safari        iOS WebView            False  \n",
       "zyWOul6ZoC apple   ipad     ipados  safari        iOS WebView            False  \n",
       "                   iphone   ios     safari        iOS WebView            False  \n",
       "\n",
       "[4666 rows x 2 columns]"
      ]
     },
     "execution_count": 176,
     "metadata": {},
     "output_type": "execute_result"
    }
   ],
   "source": [
    "original_rows_per_hhua = grouped_data.groupby(['hh_id', 'brand', 'model', 'os', 'browser', 'advertisedbrowser']).size()\n",
    "valid_rows_per_hhua = full_valid_rows.groupby(['hh_id', 'brand', 'model', 'os', 'browser', 'advertisedbrowser']).size()\n",
    "all_mergable = valid_rows_per_hhua.eq(original_rows_per_hhua)\n",
    "\n",
    "result = pd.concat([original_rows_per_hhua, all_mergable], axis=1)\n",
    "result.columns = ['cookies','mergeable'] \n",
    "result"
   ]
  },
  {
   "cell_type": "code",
   "execution_count": 177,
   "id": "6f1aa2a4-5865-4e33-879f-c19987606e10",
   "metadata": {
    "tags": []
   },
   "outputs": [],
   "source": [
    "mergable = result.pivot_table(values='mergeable', columns='cookies', index='browser', aggfunc=sum, fill_value=0).sort_values(2, ascending=False)"
   ]
  },
  {
   "cell_type": "code",
   "execution_count": 178,
   "id": "4fe4dbfb-6c58-42d7-8727-a440c39e8260",
   "metadata": {
    "tags": []
   },
   "outputs": [],
   "source": [
    "uq_cookies = result.pivot_table(values='mergeable', columns='cookies', index='browser', aggfunc='count', fill_value=0).sort_values(2, ascending=False)"
   ]
  },
  {
   "cell_type": "code",
   "execution_count": 179,
   "id": "5505f284-b4b6-4279-b3e3-b06d52d9097a",
   "metadata": {},
   "outputs": [],
   "source": [
    "mergable['+6'] = mergable[[i for i in mergable.columns if i>=6]].sum(axis=1)\n",
    "mergable.drop([i for i in mergable.columns if isinstance(i, int) and i >=6], axis=1, inplace=True)\n",
    "mergable.columns = [str(i) for i in mergable.columns]"
   ]
  },
  {
   "cell_type": "code",
   "execution_count": 180,
   "id": "5dbdddad-75cc-4805-8d4a-fb8b3e631eaf",
   "metadata": {
    "tags": []
   },
   "outputs": [],
   "source": [
    "uq_cookies['+6'] = uq_cookies[[i for i in uq_cookies.columns if i>=6]].sum(axis=1)\n",
    "uq_cookies.drop([i for i in uq_cookies.columns if isinstance(i, int) and i >=6], axis=1, inplace=True)\n",
    "uq_cookies.columns = [str(i) for i in uq_cookies.columns]"
   ]
  },
  {
   "cell_type": "code",
   "execution_count": 181,
   "id": "20c82951-235f-4698-8c39-0f5c38348f6b",
   "metadata": {
    "tags": []
   },
   "outputs": [],
   "source": [
    "non_mergable = (uq_cookies - mergable).sort_values(by='2', ascending=False)"
   ]
  },
  {
   "cell_type": "code",
   "execution_count": 182,
   "id": "d3e92c47-c3b6-4b2d-8567-27fb35c056cd",
   "metadata": {
    "tags": []
   },
   "outputs": [
    {
     "data": {
      "image/png": "[encoded data removed]",
      "text/plain": [
       "<Figure size 1200x1600 with 8 Axes>"
      ]
     },
     "metadata": {},
     "output_type": "display_data"
    }
   ],
   "source": [
    "# for b in uq_cookies.index[:8]:\n",
    "fig, axs = plt.subplots(nrows = 4, ncols=2)\n",
    "fig.set_figheight(16)\n",
    "fig.set_figwidth(12)\n",
    "plt.subplots_adjust(hspace=0.5)\n",
    "handles, labels = ax.get_legend_handles_labels()\n",
    "fig.suptitle(\"Mergable VS Non-Mergable\\n\\nMaids\")\n",
    "fig.legend(handles, labels, loc='upper center', fontsize='medium', bbox_to_anchor=(0.5, 0.05))\n",
    "\n",
    "for i, b in enumerate(uq_cookies.index[:8]):\n",
    "    ax = axs.flatten()[i]\n",
    "    browser_comparison = pd.concat([non_mergable.loc[b], mergable.loc[b]], axis=1)\n",
    "    browser_comparison.columns = ['Non Mergable', 'Mergable']\n",
    "    browser_comparison_normalized = browser_comparison.div(browser_comparison.sum(axis=1), axis=0)\n",
    "    browser_comparison_normalized.plot(kind='bar', stacked=True, ax=ax, legend=0)\n",
    "    ax.title.set_text(f\"{b} : total : {uq_cookies.loc[b].sum()}\")\n",
    "    ax.set_xlabel(\"\")"
   ]
  },
  {
   "cell_type": "markdown",
   "id": "ea29fb79-9134-447f-bb69-d0b34207edd9",
   "metadata": {},
   "source": [
    "### Just some basic numbers (data size)"
   ]
  },
  {
   "cell_type": "code",
   "execution_count": 186,
   "id": "e82f0290-71f8-40d3-8fb1-ac89ad7b3a63",
   "metadata": {
    "tags": []
   },
   "outputs": [
    {
     "name": "stdout",
     "output_type": "stream",
     "text": [
      "60.31%\n"
     ]
    }
   ],
   "source": [
    "four_or_seven = sum((data['maid']==4) | (data['maid']==7))\n",
    "print(\"{0:.2%}\".format(four_or_seven / len(data)))"
   ]
  },
  {
   "cell_type": "code",
   "execution_count": 191,
   "id": "747f2214-9857-4b1e-b1d3-1608ca9b93e4",
   "metadata": {
    "tags": []
   },
   "outputs": [],
   "source": [
    "more_than_one_4or7 = data.groupby(['hh_id', 'brand', 'model', 'os', 'browser', 'advertisedbrowser']).filter(lambda x: x['iiqid'].nunique() > 1)"
   ]
  },
  {
   "cell_type": "code",
   "execution_count": 193,
   "id": "42898bbd-cd5b-4a0e-973e-51f10dcac958",
   "metadata": {
    "tags": []
   },
   "outputs": [
    {
     "name": "stdout",
     "output_type": "stream",
     "text": [
      "28.88%\n"
     ]
    }
   ],
   "source": [
    "four_or_seven = sum((more_than_one_4or7['maid']==4) | (more_than_one_4or7['maid']==7))\n",
    "print(\"{0:.2%}\".format(four_or_seven / len(data)))"
   ]
  },
  {
   "cell_type": "code",
   "execution_count": 198,
   "id": "4b602bc7-81bd-4549-b49b-e2eaf7cc3fc9",
   "metadata": {
    "tags": []
   },
   "outputs": [],
   "source": [
    "four_seven = data[(data['maid']==4) | (data['maid']==7)]\n",
    "more_than_one_47 = four_seven.groupby(['hh_id', 'brand', 'model', 'os', 'browser', 'advertisedbrowser']).filter(lambda x: x['iiqid'].nunique() > 1)"
   ]
  },
  {
   "cell_type": "code",
   "execution_count": 199,
   "id": "899d8b75-c817-4a4d-ad27-1accbd0c5117",
   "metadata": {
    "tags": []
   },
   "outputs": [
    {
     "name": "stdout",
     "output_type": "stream",
     "text": [
      "60.31%\n",
      "46.75%\n",
      "28.19%\n"
     ]
    }
   ],
   "source": [
    "print(\"{0:.2%}\".format(len(four_seven) / len(data)))\n",
    "print(\"{0:.2%}\".format(len(more_than_one_47) / len(four_seven)))\n",
    "print(\"{0:.2%}\".format(len(more_than_one_47) / len(data)))"
   ]
  },
  {
   "cell_type": "code",
   "execution_count": 200,
   "id": "9fcd9e38-27ef-4d88-975a-f4905c1457b5",
   "metadata": {
    "tags": []
   },
   "outputs": [
    {
     "data": {
      "text/plain": [
       "2115209"
      ]
     },
     "execution_count": 200,
     "metadata": {},
     "output_type": "execute_result"
    }
   ],
   "source": [
    "len(more_than_one_47)"
   ]
  },
  {
   "cell_type": "code",
   "execution_count": null,
   "id": "de5d0285-7eae-455c-a1e8-2b862c077d03",
   "metadata": {},
   "outputs": [],
   "source": []
  }
 ],
 "metadata": {
  "kernelspec": {
   "display_name": "Python 3 (ipykernel)",
   "language": "python",
   "name": "python3"
  },
  "language_info": {
   "codemirror_mode": {
    "name": "ipython",
    "version": 3
   },
   "file_extension": ".py",
   "mimetype": "text/x-python",
   "name": "python",
   "nbconvert_exporter": "python",
   "pygments_lexer": "ipython3",
   "version": "3.10.10"
  }
 },
 "nbformat": 4,
 "nbformat_minor": 5
}
